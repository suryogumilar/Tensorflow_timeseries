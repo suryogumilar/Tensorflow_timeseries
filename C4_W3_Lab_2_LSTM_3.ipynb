{
  "nbformat": 4,
  "nbformat_minor": 0,
  "metadata": {
    "colab": {
      "provenance": [],
      "authorship_tag": "ABX9TyPhlQtvStUrMpgWHx/IfncH",
      "include_colab_link": true
    },
    "kernelspec": {
      "name": "python3",
      "display_name": "Python 3"
    },
    "language_info": {
      "name": "python"
    }
  },
  "cells": [
    {
      "cell_type": "markdown",
      "metadata": {
        "id": "view-in-github",
        "colab_type": "text"
      },
      "source": [
        "<a href=\"https://colab.research.google.com/github/suryogumilar/Tensorflow_timeseries/blob/main/C4_W3_Lab_2_LSTM_3.ipynb\" target=\"_parent\"><img src=\"https://colab.research.google.com/assets/colab-badge.svg\" alt=\"Open In Colab\"/></a>"
      ]
    },
    {
      "cell_type": "markdown",
      "source": [
        "# Using a multi-layer LSTM for forecasting\n",
        "\n",
        "try using multivariate input"
      ],
      "metadata": {
        "id": "bqTTrvjsGUjR"
      }
    },
    {
      "cell_type": "code",
      "execution_count": 79,
      "metadata": {
        "id": "wCjYHHlCGIqK"
      },
      "outputs": [],
      "source": [
        "import tensorflow as tf\n",
        "import numpy as np\n",
        "import pandas as pd\n",
        "import datetime\n",
        "from dateutil.relativedelta import relativedelta\n",
        "# for timezone()\n",
        "import pytz\n",
        "import math\n",
        "import matplotlib.pyplot as plt\n",
        "import matplotlib.dates as mdates\n",
        "import plotly.graph_objects as go\n",
        "from IPython.display import clear_output\n",
        "import random\n",
        "import os\n",
        "from sklearn.preprocessing import MinMaxScaler"
      ]
    },
    {
      "cell_type": "markdown",
      "source": [
        "## Function\n",
        "\n",
        "### Plot functions"
      ],
      "metadata": {
        "id": "gcMkw4lbGcKe"
      }
    },
    {
      "cell_type": "code",
      "source": [
        "def plot_series(time, series, format=\"-\", start=0, end=None):\n",
        "    \"\"\"\n",
        "    Visualizes time series data\n",
        "\n",
        "    Args:\n",
        "      time (array of int) - contains the time steps\n",
        "      series (array of int) - contains the measurements for each time step\n",
        "      format - line style when plotting the graph\n",
        "      label - tag for the line\n",
        "      start - first time step to plot\n",
        "      end - last time step to plot\n",
        "    \"\"\"\n",
        "\n",
        "    # Setup dimensions of the graph figure\n",
        "    plt.figure(figsize=(10, 6))\n",
        "    \n",
        "    if type(series) is tuple:\n",
        "\n",
        "      for series_num in series:\n",
        "        # Plot the time series data\n",
        "        plt.plot(time[start:end], series_num[start:end], format)\n",
        "\n",
        "    else:\n",
        "      # Plot the time series data\n",
        "      plt.plot(time[start:end], series[start:end], format)\n",
        "\n",
        "    # Label the x-axis\n",
        "    plt.xlabel(\"Time\")\n",
        "\n",
        "    # Label the y-axis\n",
        "    plt.ylabel(\"Value\")\n",
        "\n",
        "    # Overlay a grid on the graph\n",
        "    plt.grid(True)\n",
        "\n",
        "    # Draw the graph on screen\n",
        "    plt.show()"
      ],
      "metadata": {
        "id": "ZGqrmo3yGaeM"
      },
      "execution_count": 80,
      "outputs": []
    },
    {
      "cell_type": "code",
      "source": [
        "def plot_series_plotly(time, series, series_name=None, \n",
        "                       figure_title='', showlegend=False, \n",
        "                       start=0, end=None,\n",
        "                       xaxis_title=\"Time\",\n",
        "                       yaxis_title=\"Value\"):\n",
        "    \"\"\"\n",
        "    Visualizes time series data but using plotly for interactive graph\n",
        "\n",
        "    Args:\n",
        "      time (array of int) - contains the time steps\n",
        "      series (array of int) - contains the measurements for each time step\n",
        "      series_name (array of string) - contains correlative name of each series\n",
        "      format - line style when plotting the graph\n",
        "      label - tag for the line\n",
        "      start - first time step to plot\n",
        "      end - last time step to plot\n",
        "    \"\"\"\n",
        "    fig = go.Figure()\n",
        "    # Setup dimensions of the graph figure\n",
        "    \n",
        "    if type(series) is tuple:\n",
        "      ii = 0\n",
        "      for series_num in series:\n",
        "        # Plot the time series data\n",
        "        fig.add_trace(go.Scatter(x=time[start:end],\n",
        "                                 y=series_num[start:end], mode='lines',\n",
        "                                 name=series_name[ii]))  \n",
        "        ii = ii+1\n",
        "    else:\n",
        "      # Plot the time series data\n",
        "      fig.add_trace(go.Scatter(x=time[start:end],\n",
        "                                 y=series[start:end], mode='lines'))\n",
        "\n",
        "    fig.update_layout(title=figure_title, xaxis_title=xaxis_title, \n",
        "                      yaxis_title=yaxis_title,\n",
        "                      autosize=False,\n",
        "                      width=600,\n",
        "                      height=600,\n",
        "                      margin=dict(\n",
        "                        l=50,\n",
        "                        r=50,\n",
        "                        b=100,\n",
        "                        t=100,\n",
        "                        pad=4\n",
        "                        ), paper_bgcolor=\"LightSteelBlue\"\n",
        "                        , showlegend=showlegend\n",
        "                      )\n",
        "    fig.show()"
      ],
      "metadata": {
        "id": "rodfmTF-GgpD"
      },
      "execution_count": 81,
      "outputs": []
    },
    {
      "cell_type": "code",
      "source": [
        "def plot_candlesticks(df, figure_title='', showlegend=False):\n",
        "  fig = go.Figure(data= [go.Candlestick(x=df['Date'],\n",
        "                             open=df['Open'],\n",
        "                             high=df['High'],\n",
        "                             low=df['Low'],\n",
        "                             close=df['Close']\n",
        "                             )])\n",
        "  fig.update_layout(title=figure_title, xaxis_title=\"Time\", yaxis_title=\"Value\",\n",
        "                    autosize=False,\n",
        "                    width=600,\n",
        "                    height=600,\n",
        "                    margin=dict(\n",
        "                        l=50,\n",
        "                        r=50,\n",
        "                        b=100,\n",
        "                        t=100,\n",
        "                        pad=4\n",
        "                    ),\n",
        "                    paper_bgcolor=\"LightSteelBlue\", showlegend=showlegend\n",
        "                  )\n",
        "  fig.show()"
      ],
      "metadata": {
        "id": "ZzKDDWy2GpuB"
      },
      "execution_count": 82,
      "outputs": []
    },
    {
      "cell_type": "code",
      "source": [
        "def plot_candlesticks_compare(df, df2, figure_title='', showlegend=False):\n",
        "  fig = go.Figure(data= [go.Candlestick(x=df['Date'],\n",
        "                             open=df['Open'],\n",
        "                             high=df['High'],\n",
        "                             low=df['Low'],\n",
        "                             close=df['Close']\n",
        "                             )\n",
        "                         ])\n",
        "  fig.add_traces(go.Candlestick(x=df2['Date'],\n",
        "                             open=df2['Open'],\n",
        "                             high=df2['High'],\n",
        "                             low=df2['Low'],\n",
        "                             close=df2['Close']\n",
        "                             ))\n",
        "  \n",
        "  color_hi_fill = 'green'\n",
        "  color_hi_line = '#286ed7'\n",
        "\n",
        "  color_lo_fill = 'red'\n",
        "  color_lo_line = '#ff7a00'\n",
        "  fig.data[1].increasing.fillcolor = color_hi_fill\n",
        "  fig.data[1].increasing.line.color = color_hi_line\n",
        "  fig.data[1].decreasing.fillcolor = color_lo_fill\n",
        "  fig.data[1].decreasing.line.color = color_lo_line\n",
        "  \n",
        "  fig.update_layout(title=figure_title, xaxis_title=\"Time\", yaxis_title=\"Value\",\n",
        "                    autosize=False,\n",
        "                    width=600,\n",
        "                    height=600,\n",
        "                    margin=dict(\n",
        "                        l=50,\n",
        "                        r=50,\n",
        "                        b=100,\n",
        "                        t=100,\n",
        "                        pad=4\n",
        "                    ),\n",
        "                    paper_bgcolor=\"LightSteelBlue\", showlegend=showlegend\n",
        "                  )\n",
        "  fig.show()"
      ],
      "metadata": {
        "id": "w4Hq2TEwNinJ"
      },
      "execution_count": 203,
      "outputs": []
    },
    {
      "cell_type": "code",
      "source": [
        "def plot_loss_inlog(history, epoch_value, lrs_value=1e-8, \n",
        "                    x_boundary1=1e-8, x_boundary2=1e-3,\n",
        "                    y_boundary1=0, y_boundary2=50):\n",
        "  \"\"\"\n",
        "  plot loss value after training in logaritmic scale\n",
        "\n",
        "  Parameters:\n",
        "    lrs_value: learning rate value that passed to LearningRateScheduler function\n",
        "  \"\"\"\n",
        "  # Define the learning rate array\n",
        "  lrs = lrs_value * (10 ** (np.arange(epoch_value) / 20))\n",
        "\n",
        "  # Set the figure size\n",
        "  plt.figure(figsize=(10, 6))\n",
        "\n",
        "  # Set the grid\n",
        "  plt.grid(True)\n",
        "\n",
        "  # Plot the loss in log scale\n",
        "  plt.semilogx(lrs, history.history[\"loss\"])\n",
        "\n",
        "  # Increase the tickmarks size\n",
        "  plt.tick_params('both', length=10, width=1, which='both')\n",
        "\n",
        "  # Set the plot boundaries\n",
        "  plt.axis([x_boundary1, x_boundary2, \n",
        "            y_boundary1, y_boundary2])"
      ],
      "metadata": {
        "id": "5feLzYWkGroF"
      },
      "execution_count": 83,
      "outputs": []
    },
    {
      "cell_type": "code",
      "source": [
        "def plot_loss_inlog_plotly(history, epoch_value, lrs_value=1e-8,\n",
        "                           figure_title='Loss value', showlegend=False):\n",
        "  \"\"\"\n",
        "  plot loss value after training in logaritmic scale\n",
        "\n",
        "  Parameters:\n",
        "    lrs_value: learning rate value that passed to LearningRateScheduler function\n",
        "  \"\"\"\n",
        "  # Define the learning rate array\n",
        "  lrs = lrs_value * (10 ** (np.arange(epoch_value) / 20))\n",
        "  fig = go.Figure()\n",
        "  fig.add_trace(go.Scatter(x=lrs,\n",
        "                           y=history.history['loss'], mode='lines'))\n",
        "  fig.update_xaxes(title_text=\"learning rate\", type=\"log\")\n",
        "  \n",
        "  fig.update_layout(title=figure_title, xaxis_title=\"Time\", yaxis_title=\"Value\",\n",
        "                      autosize=False,\n",
        "                      width=600,\n",
        "                      height=600,\n",
        "                      margin=dict(\n",
        "                        l=50,\n",
        "                        r=50,\n",
        "                        b=100,\n",
        "                        t=100,\n",
        "                        pad=4\n",
        "                        ), paper_bgcolor=\"LightSteelBlue\"\n",
        "                        , showlegend=showlegend\n",
        "                      )\n",
        "  fig.show()"
      ],
      "metadata": {
        "id": "kvImewxhGt3e"
      },
      "execution_count": 84,
      "outputs": []
    },
    {
      "cell_type": "code",
      "source": [
        "def plot_prediction_graph(model, df, training_ds_rows,\n",
        "                          window_size, \n",
        "                          normalizer_univar, denormalizer_univar,\n",
        "                          variable_names='Close'):\n",
        "  # Initialize a list\n",
        "  forecast = []\n",
        "  dataset_to_forecast = df[variable_names].iloc[training_ds_rows-window_size:]\n",
        "  dateset_to_forecast_normalized = normalizer_univar(dataset_to_forecast)\n",
        "  for time in range(dateset_to_forecast_normalized.shape[0] - window_size):\n",
        "    the_prediction = model.predict(\n",
        "        np.expand_dims(dateset_to_forecast_normalized[time:time + window_size], \n",
        "                      axis=0), \n",
        "        verbose=0)\n",
        "    the_prediction_denorm = denormalizer_univar(the_prediction)\n",
        "    forecast.append(the_prediction_denorm)\n",
        "    \n",
        "  # Convert to a numpy array and drop single dimensional axes\n",
        "  results = np.array(forecast).squeeze()\n",
        "\n",
        "  # Overlay the results with the validation set\n",
        "  test_set = tf.convert_to_tensor(df[training_ds_rows:][variable_names])\n",
        "  plot_series(df_test['Date'], (test_set, results) )\n",
        "  return (test_set, results)"
      ],
      "metadata": {
        "id": "M5-kXuq3Gv42"
      },
      "execution_count": 85,
      "outputs": []
    },
    {
      "cell_type": "code",
      "source": [
        "def plot_prediction_graph_plotly(model, df, training_ds_rows, \n",
        "                          window_size, normalizer_univar, denormalizer_univar,\n",
        "                          scaler=None,\n",
        "                          variable_names='Close',\n",
        "                          series_name=['test dataset', 'predicted value']):\n",
        "  # Initialize a list\n",
        "  forecast = []\n",
        "  dataset_to_forecast = df[variable_names].iloc[training_ds_rows-window_size:]\n",
        "  if(normalizer_univar is not None):\n",
        "    dateset_to_forecast_normalized = normalizer_univar(dataset_to_forecast)\n",
        "  else:\n",
        "    dateset_to_forecast_normalized = scaler.transform(dataset_to_forecast.values)\n",
        "    print('dateset_to_forecast shape:', dateset_to_forecast_normalized.shape)\n",
        "    print('expanded dateset_to_forecast shape:',\n",
        "          np.expand_dims(dateset_to_forecast_normalized[0:window_size], \n",
        "                      axis=0).shape)\n",
        "  for time in range(dateset_to_forecast_normalized.shape[0] - window_size):\n",
        "    the_prediction = model.predict(\n",
        "        np.expand_dims(dateset_to_forecast_normalized[time:time + window_size], \n",
        "                      axis=0), \n",
        "        verbose=0)\n",
        "    if(denormalizer_univar is not None):\n",
        "      the_prediction_denorm = denormalizer_univar(the_prediction)\n",
        "    else:\n",
        "      the_prediction_denorm = scaler.inverse_transform(the_prediction)\n",
        "    forecast.append(the_prediction_denorm)\n",
        "    \n",
        "  # Convert to a numpy array and drop single dimensional axes\n",
        "  print('forecast shape', np.array(forecast).shape)\n",
        "  results = np.array(forecast).squeeze()\n",
        "  print('forecast squeezed shape', results.shape)\n",
        "  # Overlay the results with the validation set\n",
        "  test_set = tf.convert_to_tensor(df[training_ds_rows:][variable_names])\n",
        "\n",
        "  plot_series_plotly(df_test['Date'], (test_set[:,-1], results[:,-1]), \n",
        "                     series_name=series_name )\n",
        "  return (test_set, results)"
      ],
      "metadata": {
        "id": "xgp1tueKGx5-"
      },
      "execution_count": 86,
      "outputs": []
    },
    {
      "cell_type": "markdown",
      "source": [
        "### function data retrieval"
      ],
      "metadata": {
        "id": "4k3bjyJwG0dk"
      }
    },
    {
      "cell_type": "code",
      "source": [
        "def getStockData(history_span:int, the_ticker:str):\n",
        "  \"\"\"\n",
        "  Getting stock data from Yahoo Finance API\n",
        "\n",
        "  Args:\n",
        "    history_span (int) how much backdate data to be collected\n",
        "    the_ticker (string) ticker name on yahoo finance API\n",
        "  Returns:\n",
        "    Pandas dataframe (pd.DataFrame) containing stock data    \n",
        "  \"\"\"\n",
        "  THE_URL = ('https://query1.finance.yahoo.com/v7/finance/'+\n",
        "           'download/{ticker}?period1={period1}&period2={period2}&interval=1d&events=history&includeAdjustedClose=true')\n",
        "  tdy = datetime.datetime.now(tz=pytz.timezone('Asia/Jakarta'))\n",
        "\n",
        "  p2 = math.ceil(tdy.timestamp())\n",
        "  p1 = math.floor((tdy - relativedelta(years=history_span)).timestamp())\n",
        "  yf_url = THE_URL.format(ticker=the_ticker,period1=p1, period2=p2)\n",
        "  df = pd.read_csv(yf_url)\n",
        "  df['Date'] = pd.to_datetime(df['Date'], format='%Y-%m-%d')\n",
        "  return df"
      ],
      "metadata": {
        "id": "XRzHzG6uG3O5"
      },
      "execution_count": 87,
      "outputs": []
    },
    {
      "cell_type": "markdown",
      "source": [
        "### Make windowed data for time series forecasting"
      ],
      "metadata": {
        "id": "rf_hab8VG6v4"
      }
    },
    {
      "cell_type": "code",
      "source": [
        "def windowed_dataset(series, window_size, batch_size, shuffle_buffer):\n",
        "    \"\"\"Generates dataset windows\n",
        "\n",
        "    Args:\n",
        "      series (array of float) - contains the values of the time series\n",
        "      window_size (int) - the number of time steps to include in the feature\n",
        "      batch_size (int) - the batch size\n",
        "      shuffle_buffer(int) - buffer size to use for the shuffle method\n",
        "\n",
        "    Returns:\n",
        "      dataset (TF Dataset) - TF Dataset containing time windows\n",
        "    \"\"\"\n",
        "  \n",
        "    # Generate a TF Dataset from the series values\n",
        "    dataset = tf.data.Dataset.from_tensor_slices(series)\n",
        "    \n",
        "    # Window the data but only take those with the specified size\n",
        "    dataset = dataset.window(window_size + 1, shift=1, drop_remainder=True)\n",
        "    \n",
        "    # Flatten the windows by putting its elements in a single batch\n",
        "    dataset = dataset.flat_map(lambda window: window.batch(window_size + 1))\n",
        "\n",
        "    # Create tuples with features and labels \n",
        "    dataset = dataset.map(lambda window: (window[:-1], window[-1]))\n",
        "\n",
        "    # Shuffle the windows\n",
        "    dataset = dataset.shuffle(shuffle_buffer)\n",
        "    \n",
        "    # Create batches of windows\n",
        "    dataset = dataset.batch(batch_size).prefetch(1)\n",
        "    \n",
        "    return dataset"
      ],
      "metadata": {
        "id": "hDsBpZA7G5IJ"
      },
      "execution_count": 88,
      "outputs": []
    },
    {
      "cell_type": "markdown",
      "source": [
        "### Tensorflow function"
      ],
      "metadata": {
        "id": "Ee51zvXCHCVV"
      }
    },
    {
      "cell_type": "code",
      "source": [
        "def set_seed(seed: int = 42) -> None:\n",
        "  random.seed(seed)\n",
        "  np.random.seed(seed)\n",
        "  tf.random.set_seed(seed)\n",
        "  tf.experimental.numpy.random.seed(seed)\n",
        "  #tf.keras.utils.set_random_seed(seed)\n",
        "  #tf.config.experimental.enable_op_determinism()\n",
        "  try:\n",
        "    tf.set_random_seed(seed)\n",
        "  except AttributeError as ae:\n",
        "    print('INFO: tf.set_random_seed is deprecated in tf version ', tf.__version__, ' ',ae )\n",
        "  \n",
        "  # When running on the CuDNN backend, two further options must be set\n",
        "  os.environ['TF_CUDNN_DETERMINISTIC'] = '1'\n",
        "  os.environ['TF_DETERMINISTIC_OPS'] = '1'\n",
        "  # Set a fixed value for the hash seed\n",
        "  os.environ[\"PYTHONHASHSEED\"] = str(seed)\n",
        "  print(f\"Random seed set as {seed}\")"
      ],
      "metadata": {
        "id": "bLeimC5cHA2s"
      },
      "execution_count": 89,
      "outputs": []
    },
    {
      "cell_type": "markdown",
      "source": [
        "## get data"
      ],
      "metadata": {
        "id": "1xiT4nHXHHmF"
      }
    },
    {
      "cell_type": "code",
      "source": [
        "# stock_name = str(input(\"Stock tick:\"))\n",
        "# hist_data = int(input(\"historical data (year):\"))\n",
        "\n",
        "stock_name = 'TLKM.JK'\n",
        "hist_data = 3"
      ],
      "metadata": {
        "id": "LQKRuIyvHINY"
      },
      "execution_count": 90,
      "outputs": []
    },
    {
      "cell_type": "code",
      "source": [
        "df = getStockData(hist_data, stock_name)"
      ],
      "metadata": {
        "id": "msa0YN6-HKbs"
      },
      "execution_count": 91,
      "outputs": []
    },
    {
      "cell_type": "code",
      "source": [
        "df.iloc[-5:,:]"
      ],
      "metadata": {
        "colab": {
          "base_uri": "https://localhost:8080/",
          "height": 206
        },
        "id": "za8BZq8tyJJ2",
        "outputId": "7674229a-cac9-4c6b-efa2-a039fe7e42ad"
      },
      "execution_count": 92,
      "outputs": [
        {
          "output_type": "execute_result",
          "data": {
            "text/plain": [
              "          Date    Open    High     Low   Close  Adj Close     Volume\n",
              "730 2023-04-06  4200.0  4270.0  4170.0  4250.0     4250.0  125329700\n",
              "731 2023-04-10  4250.0  4300.0  4190.0  4300.0     4300.0   85757900\n",
              "732 2023-04-11  4290.0  4300.0  4250.0  4300.0     4300.0   84322900\n",
              "733 2023-04-12  4320.0  4350.0  4260.0  4310.0     4310.0  178923700\n",
              "734 2023-04-13  4340.0  4350.0  4290.0  4340.0     4340.0  149293500"
            ],
            "text/html": [
              "\n",
              "  <div id=\"df-7b367367-763a-4b1f-9490-c76e38e9fa4e\">\n",
              "    <div class=\"colab-df-container\">\n",
              "      <div>\n",
              "<style scoped>\n",
              "    .dataframe tbody tr th:only-of-type {\n",
              "        vertical-align: middle;\n",
              "    }\n",
              "\n",
              "    .dataframe tbody tr th {\n",
              "        vertical-align: top;\n",
              "    }\n",
              "\n",
              "    .dataframe thead th {\n",
              "        text-align: right;\n",
              "    }\n",
              "</style>\n",
              "<table border=\"1\" class=\"dataframe\">\n",
              "  <thead>\n",
              "    <tr style=\"text-align: right;\">\n",
              "      <th></th>\n",
              "      <th>Date</th>\n",
              "      <th>Open</th>\n",
              "      <th>High</th>\n",
              "      <th>Low</th>\n",
              "      <th>Close</th>\n",
              "      <th>Adj Close</th>\n",
              "      <th>Volume</th>\n",
              "    </tr>\n",
              "  </thead>\n",
              "  <tbody>\n",
              "    <tr>\n",
              "      <th>730</th>\n",
              "      <td>2023-04-06</td>\n",
              "      <td>4200.0</td>\n",
              "      <td>4270.0</td>\n",
              "      <td>4170.0</td>\n",
              "      <td>4250.0</td>\n",
              "      <td>4250.0</td>\n",
              "      <td>125329700</td>\n",
              "    </tr>\n",
              "    <tr>\n",
              "      <th>731</th>\n",
              "      <td>2023-04-10</td>\n",
              "      <td>4250.0</td>\n",
              "      <td>4300.0</td>\n",
              "      <td>4190.0</td>\n",
              "      <td>4300.0</td>\n",
              "      <td>4300.0</td>\n",
              "      <td>85757900</td>\n",
              "    </tr>\n",
              "    <tr>\n",
              "      <th>732</th>\n",
              "      <td>2023-04-11</td>\n",
              "      <td>4290.0</td>\n",
              "      <td>4300.0</td>\n",
              "      <td>4250.0</td>\n",
              "      <td>4300.0</td>\n",
              "      <td>4300.0</td>\n",
              "      <td>84322900</td>\n",
              "    </tr>\n",
              "    <tr>\n",
              "      <th>733</th>\n",
              "      <td>2023-04-12</td>\n",
              "      <td>4320.0</td>\n",
              "      <td>4350.0</td>\n",
              "      <td>4260.0</td>\n",
              "      <td>4310.0</td>\n",
              "      <td>4310.0</td>\n",
              "      <td>178923700</td>\n",
              "    </tr>\n",
              "    <tr>\n",
              "      <th>734</th>\n",
              "      <td>2023-04-13</td>\n",
              "      <td>4340.0</td>\n",
              "      <td>4350.0</td>\n",
              "      <td>4290.0</td>\n",
              "      <td>4340.0</td>\n",
              "      <td>4340.0</td>\n",
              "      <td>149293500</td>\n",
              "    </tr>\n",
              "  </tbody>\n",
              "</table>\n",
              "</div>\n",
              "      <button class=\"colab-df-convert\" onclick=\"convertToInteractive('df-7b367367-763a-4b1f-9490-c76e38e9fa4e')\"\n",
              "              title=\"Convert this dataframe to an interactive table.\"\n",
              "              style=\"display:none;\">\n",
              "        \n",
              "  <svg xmlns=\"http://www.w3.org/2000/svg\" height=\"24px\"viewBox=\"0 0 24 24\"\n",
              "       width=\"24px\">\n",
              "    <path d=\"M0 0h24v24H0V0z\" fill=\"none\"/>\n",
              "    <path d=\"M18.56 5.44l.94 2.06.94-2.06 2.06-.94-2.06-.94-.94-2.06-.94 2.06-2.06.94zm-11 1L8.5 8.5l.94-2.06 2.06-.94-2.06-.94L8.5 2.5l-.94 2.06-2.06.94zm10 10l.94 2.06.94-2.06 2.06-.94-2.06-.94-.94-2.06-.94 2.06-2.06.94z\"/><path d=\"M17.41 7.96l-1.37-1.37c-.4-.4-.92-.59-1.43-.59-.52 0-1.04.2-1.43.59L10.3 9.45l-7.72 7.72c-.78.78-.78 2.05 0 2.83L4 21.41c.39.39.9.59 1.41.59.51 0 1.02-.2 1.41-.59l7.78-7.78 2.81-2.81c.8-.78.8-2.07 0-2.86zM5.41 20L4 18.59l7.72-7.72 1.47 1.35L5.41 20z\"/>\n",
              "  </svg>\n",
              "      </button>\n",
              "      \n",
              "  <style>\n",
              "    .colab-df-container {\n",
              "      display:flex;\n",
              "      flex-wrap:wrap;\n",
              "      gap: 12px;\n",
              "    }\n",
              "\n",
              "    .colab-df-convert {\n",
              "      background-color: #E8F0FE;\n",
              "      border: none;\n",
              "      border-radius: 50%;\n",
              "      cursor: pointer;\n",
              "      display: none;\n",
              "      fill: #1967D2;\n",
              "      height: 32px;\n",
              "      padding: 0 0 0 0;\n",
              "      width: 32px;\n",
              "    }\n",
              "\n",
              "    .colab-df-convert:hover {\n",
              "      background-color: #E2EBFA;\n",
              "      box-shadow: 0px 1px 2px rgba(60, 64, 67, 0.3), 0px 1px 3px 1px rgba(60, 64, 67, 0.15);\n",
              "      fill: #174EA6;\n",
              "    }\n",
              "\n",
              "    [theme=dark] .colab-df-convert {\n",
              "      background-color: #3B4455;\n",
              "      fill: #D2E3FC;\n",
              "    }\n",
              "\n",
              "    [theme=dark] .colab-df-convert:hover {\n",
              "      background-color: #434B5C;\n",
              "      box-shadow: 0px 1px 3px 1px rgba(0, 0, 0, 0.15);\n",
              "      filter: drop-shadow(0px 1px 2px rgba(0, 0, 0, 0.3));\n",
              "      fill: #FFFFFF;\n",
              "    }\n",
              "  </style>\n",
              "\n",
              "      <script>\n",
              "        const buttonEl =\n",
              "          document.querySelector('#df-7b367367-763a-4b1f-9490-c76e38e9fa4e button.colab-df-convert');\n",
              "        buttonEl.style.display =\n",
              "          google.colab.kernel.accessAllowed ? 'block' : 'none';\n",
              "\n",
              "        async function convertToInteractive(key) {\n",
              "          const element = document.querySelector('#df-7b367367-763a-4b1f-9490-c76e38e9fa4e');\n",
              "          const dataTable =\n",
              "            await google.colab.kernel.invokeFunction('convertToInteractive',\n",
              "                                                     [key], {});\n",
              "          if (!dataTable) return;\n",
              "\n",
              "          const docLinkHtml = 'Like what you see? Visit the ' +\n",
              "            '<a target=\"_blank\" href=https://colab.research.google.com/notebooks/data_table.ipynb>data table notebook</a>'\n",
              "            + ' to learn more about interactive tables.';\n",
              "          element.innerHTML = '';\n",
              "          dataTable['output_type'] = 'display_data';\n",
              "          await google.colab.output.renderOutput(dataTable, element);\n",
              "          const docLink = document.createElement('div');\n",
              "          docLink.innerHTML = docLinkHtml;\n",
              "          element.appendChild(docLink);\n",
              "        }\n",
              "      </script>\n",
              "    </div>\n",
              "  </div>\n",
              "  "
            ]
          },
          "metadata": {},
          "execution_count": 92
        }
      ]
    },
    {
      "cell_type": "code",
      "source": [
        "plot_candlesticks(df.iloc[-50:,:], figure_title='stock candlestick graph', showlegend=False)"
      ],
      "metadata": {
        "colab": {
          "base_uri": "https://localhost:8080/",
          "height": 617
        },
        "id": "ereZkNZIHNUx",
        "outputId": "62e51a29-af11-41e6-a761-86abb77dafc3"
      },
      "execution_count": 93,
      "outputs": [
        {
          "output_type": "display_data",
          "data": {
            "text/html": [
              "<html>\n",
              "<head><meta charset=\"utf-8\" /></head>\n",
              "<body>\n",
              "    <div>            <script src=\"https://cdnjs.cloudflare.com/ajax/libs/mathjax/2.7.5/MathJax.js?config=TeX-AMS-MML_SVG\"></script><script type=\"text/javascript\">if (window.MathJax && window.MathJax.Hub && window.MathJax.Hub.Config) {window.MathJax.Hub.Config({SVG: {font: \"STIX-Web\"}});}</script>                <script type=\"text/javascript\">window.PlotlyConfig = {MathJaxConfig: 'local'};</script>\n",
              "        <script src=\"https://cdn.plot.ly/plotly-2.18.2.min.js\"></script>                <div id=\"7781c907-91f6-4089-8c6d-69ec57b581cf\" class=\"plotly-graph-div\" style=\"height:600px; width:600px;\"></div>            <script type=\"text/javascript\">                                    window.PLOTLYENV=window.PLOTLYENV || {};                                    if (document.getElementById(\"7781c907-91f6-4089-8c6d-69ec57b581cf\")) {                    Plotly.newPlot(                        \"7781c907-91f6-4089-8c6d-69ec57b581cf\",                        [{\"close\":[3850.0,3870.0,3890.0,3880.0,3880.0,3800.0,3840.0,3770.0,3800.0,3790.0,3800.0,3790.0,3770.0,3760.0,3820.0,3840.0,3860.0,3970.0,4040.0,3960.0,3880.0,3930.0,3880.0,3900.0,3880.0,3880.0,3940.0,3970.0,4010.0,4070.0,4020.0,4010.0,4050.0,4050.0,3990.0,4120.0,4070.0,4050.0,4050.0,4100.0,4090.0,4060.0,4080.0,4060.0,4150.0,4250.0,4300.0,4300.0,4310.0,4340.0],\"high\":[3950.0,3900.0,3900.0,3920.0,3910.0,3880.0,3850.0,3840.0,3800.0,3810.0,3830.0,3820.0,3800.0,3770.0,3820.0,3870.0,3870.0,3970.0,4040.0,4000.0,3970.0,3990.0,3930.0,3920.0,3950.0,3910.0,3940.0,4000.0,4020.0,4090.0,4090.0,4050.0,4060.0,4100.0,4050.0,4120.0,4120.0,4120.0,4100.0,4120.0,4130.0,4120.0,4100.0,4100.0,4170.0,4270.0,4300.0,4300.0,4350.0,4350.0],\"low\":[3850.0,3840.0,3840.0,3870.0,3850.0,3800.0,3790.0,3760.0,3690.0,3750.0,3760.0,3730.0,3750.0,3720.0,3760.0,3830.0,3800.0,3890.0,3950.0,3920.0,3880.0,3910.0,3880.0,3870.0,3870.0,3850.0,3850.0,3960.0,3930.0,3980.0,4000.0,3990.0,3980.0,4030.0,3940.0,4000.0,4060.0,4030.0,4030.0,4070.0,4040.0,4040.0,4070.0,4040.0,4080.0,4170.0,4190.0,4250.0,4260.0,4290.0],\"open\":[3940.0,3850.0,3850.0,3910.0,3860.0,3880.0,3800.0,3840.0,3750.0,3800.0,3830.0,3810.0,3800.0,3770.0,3760.0,3850.0,3850.0,3950.0,4000.0,3990.0,3930.0,3930.0,3900.0,3880.0,3940.0,3890.0,3850.0,3970.0,3960.0,4020.0,4030.0,4050.0,4040.0,4090.0,4050.0,4000.0,4100.0,4100.0,4100.0,4090.0,4050.0,4110.0,4100.0,4080.0,4100.0,4200.0,4250.0,4290.0,4320.0,4340.0],\"x\":[\"2023-01-31T00:00:00\",\"2023-02-01T00:00:00\",\"2023-02-02T00:00:00\",\"2023-02-03T00:00:00\",\"2023-02-06T00:00:00\",\"2023-02-07T00:00:00\",\"2023-02-08T00:00:00\",\"2023-02-09T00:00:00\",\"2023-02-10T00:00:00\",\"2023-02-13T00:00:00\",\"2023-02-14T00:00:00\",\"2023-02-15T00:00:00\",\"2023-02-16T00:00:00\",\"2023-02-17T00:00:00\",\"2023-02-20T00:00:00\",\"2023-02-21T00:00:00\",\"2023-02-22T00:00:00\",\"2023-02-23T00:00:00\",\"2023-02-24T00:00:00\",\"2023-02-27T00:00:00\",\"2023-02-28T00:00:00\",\"2023-03-01T00:00:00\",\"2023-03-02T00:00:00\",\"2023-03-03T00:00:00\",\"2023-03-06T00:00:00\",\"2023-03-07T00:00:00\",\"2023-03-08T00:00:00\",\"2023-03-09T00:00:00\",\"2023-03-10T00:00:00\",\"2023-03-13T00:00:00\",\"2023-03-14T00:00:00\",\"2023-03-15T00:00:00\",\"2023-03-16T00:00:00\",\"2023-03-17T00:00:00\",\"2023-03-20T00:00:00\",\"2023-03-21T00:00:00\",\"2023-03-24T00:00:00\",\"2023-03-27T00:00:00\",\"2023-03-28T00:00:00\",\"2023-03-29T00:00:00\",\"2023-03-30T00:00:00\",\"2023-03-31T00:00:00\",\"2023-04-03T00:00:00\",\"2023-04-04T00:00:00\",\"2023-04-05T00:00:00\",\"2023-04-06T00:00:00\",\"2023-04-10T00:00:00\",\"2023-04-11T00:00:00\",\"2023-04-12T00:00:00\",\"2023-04-13T00:00:00\"],\"type\":\"candlestick\"}],                        {\"template\":{\"data\":{\"histogram2dcontour\":[{\"type\":\"histogram2dcontour\",\"colorbar\":{\"outlinewidth\":0,\"ticks\":\"\"},\"colorscale\":[[0.0,\"#0d0887\"],[0.1111111111111111,\"#46039f\"],[0.2222222222222222,\"#7201a8\"],[0.3333333333333333,\"#9c179e\"],[0.4444444444444444,\"#bd3786\"],[0.5555555555555556,\"#d8576b\"],[0.6666666666666666,\"#ed7953\"],[0.7777777777777778,\"#fb9f3a\"],[0.8888888888888888,\"#fdca26\"],[1.0,\"#f0f921\"]]}],\"choropleth\":[{\"type\":\"choropleth\",\"colorbar\":{\"outlinewidth\":0,\"ticks\":\"\"}}],\"histogram2d\":[{\"type\":\"histogram2d\",\"colorbar\":{\"outlinewidth\":0,\"ticks\":\"\"},\"colorscale\":[[0.0,\"#0d0887\"],[0.1111111111111111,\"#46039f\"],[0.2222222222222222,\"#7201a8\"],[0.3333333333333333,\"#9c179e\"],[0.4444444444444444,\"#bd3786\"],[0.5555555555555556,\"#d8576b\"],[0.6666666666666666,\"#ed7953\"],[0.7777777777777778,\"#fb9f3a\"],[0.8888888888888888,\"#fdca26\"],[1.0,\"#f0f921\"]]}],\"heatmap\":[{\"type\":\"heatmap\",\"colorbar\":{\"outlinewidth\":0,\"ticks\":\"\"},\"colorscale\":[[0.0,\"#0d0887\"],[0.1111111111111111,\"#46039f\"],[0.2222222222222222,\"#7201a8\"],[0.3333333333333333,\"#9c179e\"],[0.4444444444444444,\"#bd3786\"],[0.5555555555555556,\"#d8576b\"],[0.6666666666666666,\"#ed7953\"],[0.7777777777777778,\"#fb9f3a\"],[0.8888888888888888,\"#fdca26\"],[1.0,\"#f0f921\"]]}],\"heatmapgl\":[{\"type\":\"heatmapgl\",\"colorbar\":{\"outlinewidth\":0,\"ticks\":\"\"},\"colorscale\":[[0.0,\"#0d0887\"],[0.1111111111111111,\"#46039f\"],[0.2222222222222222,\"#7201a8\"],[0.3333333333333333,\"#9c179e\"],[0.4444444444444444,\"#bd3786\"],[0.5555555555555556,\"#d8576b\"],[0.6666666666666666,\"#ed7953\"],[0.7777777777777778,\"#fb9f3a\"],[0.8888888888888888,\"#fdca26\"],[1.0,\"#f0f921\"]]}],\"contourcarpet\":[{\"type\":\"contourcarpet\",\"colorbar\":{\"outlinewidth\":0,\"ticks\":\"\"}}],\"contour\":[{\"type\":\"contour\",\"colorbar\":{\"outlinewidth\":0,\"ticks\":\"\"},\"colorscale\":[[0.0,\"#0d0887\"],[0.1111111111111111,\"#46039f\"],[0.2222222222222222,\"#7201a8\"],[0.3333333333333333,\"#9c179e\"],[0.4444444444444444,\"#bd3786\"],[0.5555555555555556,\"#d8576b\"],[0.6666666666666666,\"#ed7953\"],[0.7777777777777778,\"#fb9f3a\"],[0.8888888888888888,\"#fdca26\"],[1.0,\"#f0f921\"]]}],\"surface\":[{\"type\":\"surface\",\"colorbar\":{\"outlinewidth\":0,\"ticks\":\"\"},\"colorscale\":[[0.0,\"#0d0887\"],[0.1111111111111111,\"#46039f\"],[0.2222222222222222,\"#7201a8\"],[0.3333333333333333,\"#9c179e\"],[0.4444444444444444,\"#bd3786\"],[0.5555555555555556,\"#d8576b\"],[0.6666666666666666,\"#ed7953\"],[0.7777777777777778,\"#fb9f3a\"],[0.8888888888888888,\"#fdca26\"],[1.0,\"#f0f921\"]]}],\"mesh3d\":[{\"type\":\"mesh3d\",\"colorbar\":{\"outlinewidth\":0,\"ticks\":\"\"}}],\"scatter\":[{\"fillpattern\":{\"fillmode\":\"overlay\",\"size\":10,\"solidity\":0.2},\"type\":\"scatter\"}],\"parcoords\":[{\"type\":\"parcoords\",\"line\":{\"colorbar\":{\"outlinewidth\":0,\"ticks\":\"\"}}}],\"scatterpolargl\":[{\"type\":\"scatterpolargl\",\"marker\":{\"colorbar\":{\"outlinewidth\":0,\"ticks\":\"\"}}}],\"bar\":[{\"error_x\":{\"color\":\"#2a3f5f\"},\"error_y\":{\"color\":\"#2a3f5f\"},\"marker\":{\"line\":{\"color\":\"#E5ECF6\",\"width\":0.5},\"pattern\":{\"fillmode\":\"overlay\",\"size\":10,\"solidity\":0.2}},\"type\":\"bar\"}],\"scattergeo\":[{\"type\":\"scattergeo\",\"marker\":{\"colorbar\":{\"outlinewidth\":0,\"ticks\":\"\"}}}],\"scatterpolar\":[{\"type\":\"scatterpolar\",\"marker\":{\"colorbar\":{\"outlinewidth\":0,\"ticks\":\"\"}}}],\"histogram\":[{\"marker\":{\"pattern\":{\"fillmode\":\"overlay\",\"size\":10,\"solidity\":0.2}},\"type\":\"histogram\"}],\"scattergl\":[{\"type\":\"scattergl\",\"marker\":{\"colorbar\":{\"outlinewidth\":0,\"ticks\":\"\"}}}],\"scatter3d\":[{\"type\":\"scatter3d\",\"line\":{\"colorbar\":{\"outlinewidth\":0,\"ticks\":\"\"}},\"marker\":{\"colorbar\":{\"outlinewidth\":0,\"ticks\":\"\"}}}],\"scattermapbox\":[{\"type\":\"scattermapbox\",\"marker\":{\"colorbar\":{\"outlinewidth\":0,\"ticks\":\"\"}}}],\"scatterternary\":[{\"type\":\"scatterternary\",\"marker\":{\"colorbar\":{\"outlinewidth\":0,\"ticks\":\"\"}}}],\"scattercarpet\":[{\"type\":\"scattercarpet\",\"marker\":{\"colorbar\":{\"outlinewidth\":0,\"ticks\":\"\"}}}],\"carpet\":[{\"aaxis\":{\"endlinecolor\":\"#2a3f5f\",\"gridcolor\":\"white\",\"linecolor\":\"white\",\"minorgridcolor\":\"white\",\"startlinecolor\":\"#2a3f5f\"},\"baxis\":{\"endlinecolor\":\"#2a3f5f\",\"gridcolor\":\"white\",\"linecolor\":\"white\",\"minorgridcolor\":\"white\",\"startlinecolor\":\"#2a3f5f\"},\"type\":\"carpet\"}],\"table\":[{\"cells\":{\"fill\":{\"color\":\"#EBF0F8\"},\"line\":{\"color\":\"white\"}},\"header\":{\"fill\":{\"color\":\"#C8D4E3\"},\"line\":{\"color\":\"white\"}},\"type\":\"table\"}],\"barpolar\":[{\"marker\":{\"line\":{\"color\":\"#E5ECF6\",\"width\":0.5},\"pattern\":{\"fillmode\":\"overlay\",\"size\":10,\"solidity\":0.2}},\"type\":\"barpolar\"}],\"pie\":[{\"automargin\":true,\"type\":\"pie\"}]},\"layout\":{\"autotypenumbers\":\"strict\",\"colorway\":[\"#636efa\",\"#EF553B\",\"#00cc96\",\"#ab63fa\",\"#FFA15A\",\"#19d3f3\",\"#FF6692\",\"#B6E880\",\"#FF97FF\",\"#FECB52\"],\"font\":{\"color\":\"#2a3f5f\"},\"hovermode\":\"closest\",\"hoverlabel\":{\"align\":\"left\"},\"paper_bgcolor\":\"white\",\"plot_bgcolor\":\"#E5ECF6\",\"polar\":{\"bgcolor\":\"#E5ECF6\",\"angularaxis\":{\"gridcolor\":\"white\",\"linecolor\":\"white\",\"ticks\":\"\"},\"radialaxis\":{\"gridcolor\":\"white\",\"linecolor\":\"white\",\"ticks\":\"\"}},\"ternary\":{\"bgcolor\":\"#E5ECF6\",\"aaxis\":{\"gridcolor\":\"white\",\"linecolor\":\"white\",\"ticks\":\"\"},\"baxis\":{\"gridcolor\":\"white\",\"linecolor\":\"white\",\"ticks\":\"\"},\"caxis\":{\"gridcolor\":\"white\",\"linecolor\":\"white\",\"ticks\":\"\"}},\"coloraxis\":{\"colorbar\":{\"outlinewidth\":0,\"ticks\":\"\"}},\"colorscale\":{\"sequential\":[[0.0,\"#0d0887\"],[0.1111111111111111,\"#46039f\"],[0.2222222222222222,\"#7201a8\"],[0.3333333333333333,\"#9c179e\"],[0.4444444444444444,\"#bd3786\"],[0.5555555555555556,\"#d8576b\"],[0.6666666666666666,\"#ed7953\"],[0.7777777777777778,\"#fb9f3a\"],[0.8888888888888888,\"#fdca26\"],[1.0,\"#f0f921\"]],\"sequentialminus\":[[0.0,\"#0d0887\"],[0.1111111111111111,\"#46039f\"],[0.2222222222222222,\"#7201a8\"],[0.3333333333333333,\"#9c179e\"],[0.4444444444444444,\"#bd3786\"],[0.5555555555555556,\"#d8576b\"],[0.6666666666666666,\"#ed7953\"],[0.7777777777777778,\"#fb9f3a\"],[0.8888888888888888,\"#fdca26\"],[1.0,\"#f0f921\"]],\"diverging\":[[0,\"#8e0152\"],[0.1,\"#c51b7d\"],[0.2,\"#de77ae\"],[0.3,\"#f1b6da\"],[0.4,\"#fde0ef\"],[0.5,\"#f7f7f7\"],[0.6,\"#e6f5d0\"],[0.7,\"#b8e186\"],[0.8,\"#7fbc41\"],[0.9,\"#4d9221\"],[1,\"#276419\"]]},\"xaxis\":{\"gridcolor\":\"white\",\"linecolor\":\"white\",\"ticks\":\"\",\"title\":{\"standoff\":15},\"zerolinecolor\":\"white\",\"automargin\":true,\"zerolinewidth\":2},\"yaxis\":{\"gridcolor\":\"white\",\"linecolor\":\"white\",\"ticks\":\"\",\"title\":{\"standoff\":15},\"zerolinecolor\":\"white\",\"automargin\":true,\"zerolinewidth\":2},\"scene\":{\"xaxis\":{\"backgroundcolor\":\"#E5ECF6\",\"gridcolor\":\"white\",\"linecolor\":\"white\",\"showbackground\":true,\"ticks\":\"\",\"zerolinecolor\":\"white\",\"gridwidth\":2},\"yaxis\":{\"backgroundcolor\":\"#E5ECF6\",\"gridcolor\":\"white\",\"linecolor\":\"white\",\"showbackground\":true,\"ticks\":\"\",\"zerolinecolor\":\"white\",\"gridwidth\":2},\"zaxis\":{\"backgroundcolor\":\"#E5ECF6\",\"gridcolor\":\"white\",\"linecolor\":\"white\",\"showbackground\":true,\"ticks\":\"\",\"zerolinecolor\":\"white\",\"gridwidth\":2}},\"shapedefaults\":{\"line\":{\"color\":\"#2a3f5f\"}},\"annotationdefaults\":{\"arrowcolor\":\"#2a3f5f\",\"arrowhead\":0,\"arrowwidth\":1},\"geo\":{\"bgcolor\":\"white\",\"landcolor\":\"#E5ECF6\",\"subunitcolor\":\"white\",\"showland\":true,\"showlakes\":true,\"lakecolor\":\"white\"},\"title\":{\"x\":0.05},\"mapbox\":{\"style\":\"light\"}}},\"margin\":{\"l\":50,\"r\":50,\"b\":100,\"t\":100,\"pad\":4},\"title\":{\"text\":\"stock candlestick graph\"},\"xaxis\":{\"title\":{\"text\":\"Time\"}},\"yaxis\":{\"title\":{\"text\":\"Value\"}},\"autosize\":false,\"width\":600,\"height\":600,\"paper_bgcolor\":\"LightSteelBlue\",\"showlegend\":false},                        {\"responsive\": true}                    ).then(function(){\n",
              "                            \n",
              "var gd = document.getElementById('7781c907-91f6-4089-8c6d-69ec57b581cf');\n",
              "var x = new MutationObserver(function (mutations, observer) {{\n",
              "        var display = window.getComputedStyle(gd).display;\n",
              "        if (!display || display === 'none') {{\n",
              "            console.log([gd, 'removed!']);\n",
              "            Plotly.purge(gd);\n",
              "            observer.disconnect();\n",
              "        }}\n",
              "}});\n",
              "\n",
              "// Listen for the removal of the full notebook cells\n",
              "var notebookContainer = gd.closest('#notebook-container');\n",
              "if (notebookContainer) {{\n",
              "    x.observe(notebookContainer, {childList: true});\n",
              "}}\n",
              "\n",
              "// Listen for the clearing of the current output cell\n",
              "var outputEl = gd.closest('.output');\n",
              "if (outputEl) {{\n",
              "    x.observe(outputEl, {childList: true});\n",
              "}}\n",
              "\n",
              "                        })                };                            </script>        </div>\n",
              "</body>\n",
              "</html>"
            ]
          },
          "metadata": {}
        }
      ]
    },
    {
      "cell_type": "markdown",
      "source": [
        "## Split the Dataset"
      ],
      "metadata": {
        "id": "_-TTlAvuHQlj"
      }
    },
    {
      "cell_type": "code",
      "source": [
        "split_ratio = 0.8\n",
        "rows_of_dataframe = df.shape[0]\n",
        "\n",
        "training_ds_rows = round(rows_of_dataframe * split_ratio)\n",
        "test_ds_rows = round(rows_of_dataframe * (1- split_ratio))\n",
        "\n",
        "df_training = df[:training_ds_rows]\n",
        "df_test = df[training_ds_rows:]"
      ],
      "metadata": {
        "id": "RQaxW3MXHQTn"
      },
      "execution_count": 94,
      "outputs": []
    },
    {
      "cell_type": "markdown",
      "source": [
        "## Normalize"
      ],
      "metadata": {
        "id": "UhTyXgmUHUnM"
      }
    },
    {
      "cell_type": "code",
      "source": [
        "predictors_and_target = ['Volume', 'High', 'Low','Open', 'Close']"
      ],
      "metadata": {
        "id": "ODIBET0kHh4g"
      },
      "execution_count": 95,
      "outputs": []
    },
    {
      "cell_type": "code",
      "source": [
        "training_set = tf.convert_to_tensor(df_training[predictors_and_target])\n",
        "print(training_set.shape)"
      ],
      "metadata": {
        "colab": {
          "base_uri": "https://localhost:8080/"
        },
        "id": "i6EWYtXcHPkV",
        "outputId": "31b2eefb-d929-4ad7-e3bb-a4b11a8ba9c8"
      },
      "execution_count": 96,
      "outputs": [
        {
          "output_type": "stream",
          "name": "stdout",
          "text": [
            "(588, 5)\n"
          ]
        }
      ]
    },
    {
      "cell_type": "code",
      "source": [
        "plot_series_plotly(df_training['Date'], (training_set[:, 0],\n",
        "                                         training_set[:, 1],\n",
        "                                         training_set[:, 2]),\n",
        "                   series_name=predictors_and_target, figure_title='Data Normalized')"
      ],
      "metadata": {
        "colab": {
          "base_uri": "https://localhost:8080/",
          "height": 617
        },
        "id": "kl1Bs4rZHXJ9",
        "outputId": "165517ed-88f6-405c-9c84-28344edb10fc"
      },
      "execution_count": 97,
      "outputs": [
        {
          "output_type": "display_data",
          "data": {
            "text/html": [
              "<html>\n",
              "<head><meta charset=\"utf-8\" /></head>\n",
              "<body>\n",
              "    <div>            <script src=\"https://cdnjs.cloudflare.com/ajax/libs/mathjax/2.7.5/MathJax.js?config=TeX-AMS-MML_SVG\"></script><script type=\"text/javascript\">if (window.MathJax && window.MathJax.Hub && window.MathJax.Hub.Config) {window.MathJax.Hub.Config({SVG: {font: \"STIX-Web\"}});}</script>                <script type=\"text/javascript\">window.PlotlyConfig = {MathJaxConfig: 'local'};</script>\n",
              "        <script src=\"https://cdn.plot.ly/plotly-2.18.2.min.js\"></script>                <div id=\"5de1a535-9be3-43c8-b732-6850511164ee\" class=\"plotly-graph-div\" style=\"height:600px; width:600px;\"></div>            <script type=\"text/javascript\">                                    window.PLOTLYENV=window.PLOTLYENV || {};                                    if (document.getElementById(\"5de1a535-9be3-43c8-b732-6850511164ee\")) {                    Plotly.newPlot(                        \"5de1a535-9be3-43c8-b732-6850511164ee\",                        [{\"mode\":\"lines\",\"name\":\"Volume\",\"x\":[\"2020-04-13T00:00:00\",\"2020-04-14T00:00:00\",\"2020-04-15T00:00:00\",\"2020-04-16T00:00:00\",\"2020-04-17T00:00:00\",\"2020-04-20T00:00:00\",\"2020-04-21T00:00:00\",\"2020-04-22T00:00:00\",\"2020-04-23T00:00:00\",\"2020-04-24T00:00:00\",\"2020-04-27T00:00:00\",\"2020-04-28T00:00:00\",\"2020-04-29T00:00:00\",\"2020-04-30T00:00:00\",\"2020-05-04T00:00:00\",\"2020-05-05T00:00:00\",\"2020-05-06T00:00:00\",\"2020-05-08T00:00:00\",\"2020-05-11T00:00:00\",\"2020-05-12T00:00:00\",\"2020-05-13T00:00:00\",\"2020-05-14T00:00:00\",\"2020-05-15T00:00:00\",\"2020-05-18T00:00:00\",\"2020-05-19T00:00:00\",\"2020-05-20T00:00:00\",\"2020-05-26T00:00:00\",\"2020-05-27T00:00:00\",\"2020-05-28T00:00:00\",\"2020-05-29T00:00:00\",\"2020-06-02T00:00:00\",\"2020-06-03T00:00:00\",\"2020-06-04T00:00:00\",\"2020-06-05T00:00:00\",\"2020-06-08T00:00:00\",\"2020-06-09T00:00:00\",\"2020-06-10T00:00:00\",\"2020-06-11T00:00:00\",\"2020-06-12T00:00:00\",\"2020-06-15T00:00:00\",\"2020-06-16T00:00:00\",\"2020-06-17T00:00:00\",\"2020-06-18T00:00:00\",\"2020-06-19T00:00:00\",\"2020-06-22T00:00:00\",\"2020-06-23T00:00:00\",\"2020-06-24T00:00:00\",\"2020-06-25T00:00:00\",\"2020-06-26T00:00:00\",\"2020-06-29T00:00:00\",\"2020-06-30T00:00:00\",\"2020-07-01T00:00:00\",\"2020-07-02T00:00:00\",\"2020-07-03T00:00:00\",\"2020-07-06T00:00:00\",\"2020-07-07T00:00:00\",\"2020-07-08T00:00:00\",\"2020-07-09T00:00:00\",\"2020-07-10T00:00:00\",\"2020-07-13T00:00:00\",\"2020-07-14T00:00:00\",\"2020-07-15T00:00:00\",\"2020-07-16T00:00:00\",\"2020-07-17T00:00:00\",\"2020-07-20T00:00:00\",\"2020-07-21T00:00:00\",\"2020-07-22T00:00:00\",\"2020-07-23T00:00:00\",\"2020-07-24T00:00:00\",\"2020-07-27T00:00:00\",\"2020-07-28T00:00:00\",\"2020-07-29T00:00:00\",\"2020-07-30T00:00:00\",\"2020-08-03T00:00:00\",\"2020-08-04T00:00:00\",\"2020-08-05T00:00:00\",\"2020-08-06T00:00:00\",\"2020-08-07T00:00:00\",\"2020-08-10T00:00:00\",\"2020-08-11T00:00:00\",\"2020-08-12T00:00:00\",\"2020-08-13T00:00:00\",\"2020-08-14T00:00:00\",\"2020-08-18T00:00:00\",\"2020-08-19T00:00:00\",\"2020-08-24T00:00:00\",\"2020-08-25T00:00:00\",\"2020-08-26T00:00:00\",\"2020-08-27T00:00:00\",\"2020-08-28T00:00:00\",\"2020-08-31T00:00:00\",\"2020-09-01T00:00:00\",\"2020-09-02T00:00:00\",\"2020-09-03T00:00:00\",\"2020-09-04T00:00:00\",\"2020-09-07T00:00:00\",\"2020-09-08T00:00:00\",\"2020-09-09T00:00:00\",\"2020-09-10T00:00:00\",\"2020-09-11T00:00:00\",\"2020-09-14T00:00:00\",\"2020-09-15T00:00:00\",\"2020-09-16T00:00:00\",\"2020-09-17T00:00:00\",\"2020-09-18T00:00:00\",\"2020-09-21T00:00:00\",\"2020-09-22T00:00:00\",\"2020-09-23T00:00:00\",\"2020-09-24T00:00:00\",\"2020-09-25T00:00:00\",\"2020-09-28T00:00:00\",\"2020-09-29T00:00:00\",\"2020-09-30T00:00:00\",\"2020-10-01T00:00:00\",\"2020-10-02T00:00:00\",\"2020-10-05T00:00:00\",\"2020-10-06T00:00:00\",\"2020-10-07T00:00:00\",\"2020-10-08T00:00:00\",\"2020-10-09T00:00:00\",\"2020-10-12T00:00:00\",\"2020-10-13T00:00:00\",\"2020-10-14T00:00:00\",\"2020-10-15T00:00:00\",\"2020-10-16T00:00:00\",\"2020-10-19T00:00:00\",\"2020-10-20T00:00:00\",\"2020-10-21T00:00:00\",\"2020-10-22T00:00:00\",\"2020-10-23T00:00:00\",\"2020-10-26T00:00:00\",\"2020-10-27T00:00:00\",\"2020-11-02T00:00:00\",\"2020-11-03T00:00:00\",\"2020-11-04T00:00:00\",\"2020-11-05T00:00:00\",\"2020-11-06T00:00:00\",\"2020-11-09T00:00:00\",\"2020-11-10T00:00:00\",\"2020-11-11T00:00:00\",\"2020-11-12T00:00:00\",\"2020-11-13T00:00:00\",\"2020-11-16T00:00:00\",\"2020-11-17T00:00:00\",\"2020-11-18T00:00:00\",\"2020-11-19T00:00:00\",\"2020-11-20T00:00:00\",\"2020-11-23T00:00:00\",\"2020-11-24T00:00:00\",\"2020-11-25T00:00:00\",\"2020-11-26T00:00:00\",\"2020-11-27T00:00:00\",\"2020-11-30T00:00:00\",\"2020-12-01T00:00:00\",\"2020-12-02T00:00:00\",\"2020-12-03T00:00:00\",\"2020-12-04T00:00:00\",\"2020-12-07T00:00:00\",\"2020-12-08T00:00:00\",\"2020-12-10T00:00:00\",\"2020-12-11T00:00:00\",\"2020-12-14T00:00:00\",\"2020-12-15T00:00:00\",\"2020-12-16T00:00:00\",\"2020-12-17T00:00:00\",\"2020-12-18T00:00:00\",\"2020-12-21T00:00:00\",\"2020-12-22T00:00:00\",\"2020-12-23T00:00:00\",\"2020-12-28T00:00:00\",\"2020-12-29T00:00:00\",\"2020-12-30T00:00:00\",\"2021-01-04T00:00:00\",\"2021-01-05T00:00:00\",\"2021-01-06T00:00:00\",\"2021-01-07T00:00:00\",\"2021-01-08T00:00:00\",\"2021-01-11T00:00:00\",\"2021-01-12T00:00:00\",\"2021-01-13T00:00:00\",\"2021-01-14T00:00:00\",\"2021-01-15T00:00:00\",\"2021-01-18T00:00:00\",\"2021-01-19T00:00:00\",\"2021-01-20T00:00:00\",\"2021-01-21T00:00:00\",\"2021-01-22T00:00:00\",\"2021-01-25T00:00:00\",\"2021-01-26T00:00:00\",\"2021-01-27T00:00:00\",\"2021-01-28T00:00:00\",\"2021-01-29T00:00:00\",\"2021-02-01T00:00:00\",\"2021-02-02T00:00:00\",\"2021-02-03T00:00:00\",\"2021-02-04T00:00:00\",\"2021-02-05T00:00:00\",\"2021-02-08T00:00:00\",\"2021-02-09T00:00:00\",\"2021-02-10T00:00:00\",\"2021-02-11T00:00:00\",\"2021-02-15T00:00:00\",\"2021-02-16T00:00:00\",\"2021-02-17T00:00:00\",\"2021-02-18T00:00:00\",\"2021-02-19T00:00:00\",\"2021-02-22T00:00:00\",\"2021-02-23T00:00:00\",\"2021-02-24T00:00:00\",\"2021-02-25T00:00:00\",\"2021-02-26T00:00:00\",\"2021-03-01T00:00:00\",\"2021-03-02T00:00:00\",\"2021-03-03T00:00:00\",\"2021-03-04T00:00:00\",\"2021-03-05T00:00:00\",\"2021-03-08T00:00:00\",\"2021-03-09T00:00:00\",\"2021-03-10T00:00:00\",\"2021-03-12T00:00:00\",\"2021-03-15T00:00:00\",\"2021-03-16T00:00:00\",\"2021-03-17T00:00:00\",\"2021-03-18T00:00:00\",\"2021-03-19T00:00:00\",\"2021-03-22T00:00:00\",\"2021-03-23T00:00:00\",\"2021-03-24T00:00:00\",\"2021-03-25T00:00:00\",\"2021-03-26T00:00:00\",\"2021-03-29T00:00:00\",\"2021-03-30T00:00:00\",\"2021-03-31T00:00:00\",\"2021-04-01T00:00:00\",\"2021-04-05T00:00:00\",\"2021-04-06T00:00:00\",\"2021-04-07T00:00:00\",\"2021-04-08T00:00:00\",\"2021-04-09T00:00:00\",\"2021-04-12T00:00:00\",\"2021-04-13T00:00:00\",\"2021-04-14T00:00:00\",\"2021-04-15T00:00:00\",\"2021-04-16T00:00:00\",\"2021-04-19T00:00:00\",\"2021-04-20T00:00:00\",\"2021-04-21T00:00:00\",\"2021-04-22T00:00:00\",\"2021-04-23T00:00:00\",\"2021-04-26T00:00:00\",\"2021-04-27T00:00:00\",\"2021-04-28T00:00:00\",\"2021-04-29T00:00:00\",\"2021-04-30T00:00:00\",\"2021-05-03T00:00:00\",\"2021-05-04T00:00:00\",\"2021-05-05T00:00:00\",\"2021-05-06T00:00:00\",\"2021-05-07T00:00:00\",\"2021-05-10T00:00:00\",\"2021-05-11T00:00:00\",\"2021-05-17T00:00:00\",\"2021-05-18T00:00:00\",\"2021-05-19T00:00:00\",\"2021-05-20T00:00:00\",\"2021-05-21T00:00:00\",\"2021-05-24T00:00:00\",\"2021-05-25T00:00:00\",\"2021-05-27T00:00:00\",\"2021-05-28T00:00:00\",\"2021-05-31T00:00:00\",\"2021-06-02T00:00:00\",\"2021-06-03T00:00:00\",\"2021-06-04T00:00:00\",\"2021-06-07T00:00:00\",\"2021-06-08T00:00:00\",\"2021-06-09T00:00:00\",\"2021-06-10T00:00:00\",\"2021-06-11T00:00:00\",\"2021-06-14T00:00:00\",\"2021-06-15T00:00:00\",\"2021-06-16T00:00:00\",\"2021-06-17T00:00:00\",\"2021-06-18T00:00:00\",\"2021-06-21T00:00:00\",\"2021-06-22T00:00:00\",\"2021-06-23T00:00:00\",\"2021-06-24T00:00:00\",\"2021-06-25T00:00:00\",\"2021-06-28T00:00:00\",\"2021-06-29T00:00:00\",\"2021-06-30T00:00:00\",\"2021-07-01T00:00:00\",\"2021-07-02T00:00:00\",\"2021-07-05T00:00:00\",\"2021-07-06T00:00:00\",\"2021-07-07T00:00:00\",\"2021-07-08T00:00:00\",\"2021-07-09T00:00:00\",\"2021-07-12T00:00:00\",\"2021-07-13T00:00:00\",\"2021-07-14T00:00:00\",\"2021-07-15T00:00:00\",\"2021-07-16T00:00:00\",\"2021-07-19T00:00:00\",\"2021-07-21T00:00:00\",\"2021-07-22T00:00:00\",\"2021-07-23T00:00:00\",\"2021-07-26T00:00:00\",\"2021-07-27T00:00:00\",\"2021-07-28T00:00:00\",\"2021-07-29T00:00:00\",\"2021-07-30T00:00:00\",\"2021-08-02T00:00:00\",\"2021-08-03T00:00:00\",\"2021-08-04T00:00:00\",\"2021-08-05T00:00:00\",\"2021-08-06T00:00:00\",\"2021-08-09T00:00:00\",\"2021-08-10T00:00:00\",\"2021-08-12T00:00:00\",\"2021-08-13T00:00:00\",\"2021-08-16T00:00:00\",\"2021-08-18T00:00:00\",\"2021-08-19T00:00:00\",\"2021-08-20T00:00:00\",\"2021-08-23T00:00:00\",\"2021-08-24T00:00:00\",\"2021-08-25T00:00:00\",\"2021-08-26T00:00:00\",\"2021-08-27T00:00:00\",\"2021-08-30T00:00:00\",\"2021-08-31T00:00:00\",\"2021-09-01T00:00:00\",\"2021-09-02T00:00:00\",\"2021-09-03T00:00:00\",\"2021-09-06T00:00:00\",\"2021-09-07T00:00:00\",\"2021-09-08T00:00:00\",\"2021-09-09T00:00:00\",\"2021-09-10T00:00:00\",\"2021-09-13T00:00:00\",\"2021-09-14T00:00:00\",\"2021-09-15T00:00:00\",\"2021-09-16T00:00:00\",\"2021-09-17T00:00:00\",\"2021-09-20T00:00:00\",\"2021-09-21T00:00:00\",\"2021-09-22T00:00:00\",\"2021-09-23T00:00:00\",\"2021-09-24T00:00:00\",\"2021-09-27T00:00:00\",\"2021-09-28T00:00:00\",\"2021-09-29T00:00:00\",\"2021-09-30T00:00:00\",\"2021-10-01T00:00:00\",\"2021-10-04T00:00:00\",\"2021-10-05T00:00:00\",\"2021-10-06T00:00:00\",\"2021-10-07T00:00:00\",\"2021-10-08T00:00:00\",\"2021-10-11T00:00:00\",\"2021-10-12T00:00:00\",\"2021-10-13T00:00:00\",\"2021-10-14T00:00:00\",\"2021-10-15T00:00:00\",\"2021-10-18T00:00:00\",\"2021-10-19T00:00:00\",\"2021-10-21T00:00:00\",\"2021-10-22T00:00:00\",\"2021-10-25T00:00:00\",\"2021-10-26T00:00:00\",\"2021-10-27T00:00:00\",\"2021-10-28T00:00:00\",\"2021-10-29T00:00:00\",\"2021-11-01T00:00:00\",\"2021-11-02T00:00:00\",\"2021-11-03T00:00:00\",\"2021-11-04T00:00:00\",\"2021-11-05T00:00:00\",\"2021-11-08T00:00:00\",\"2021-11-09T00:00:00\",\"2021-11-10T00:00:00\",\"2021-11-11T00:00:00\",\"2021-11-12T00:00:00\",\"2021-11-15T00:00:00\",\"2021-11-16T00:00:00\",\"2021-11-17T00:00:00\",\"2021-11-18T00:00:00\",\"2021-11-19T00:00:00\",\"2021-11-22T00:00:00\",\"2021-11-23T00:00:00\",\"2021-11-24T00:00:00\",\"2021-11-25T00:00:00\",\"2021-11-26T00:00:00\",\"2021-11-29T00:00:00\",\"2021-11-30T00:00:00\",\"2021-12-01T00:00:00\",\"2021-12-02T00:00:00\",\"2021-12-03T00:00:00\",\"2021-12-06T00:00:00\",\"2021-12-07T00:00:00\",\"2021-12-08T00:00:00\",\"2021-12-09T00:00:00\",\"2021-12-10T00:00:00\",\"2021-12-13T00:00:00\",\"2021-12-14T00:00:00\",\"2021-12-15T00:00:00\",\"2021-12-16T00:00:00\",\"2021-12-17T00:00:00\",\"2021-12-20T00:00:00\",\"2021-12-21T00:00:00\",\"2021-12-22T00:00:00\",\"2021-12-23T00:00:00\",\"2021-12-24T00:00:00\",\"2021-12-27T00:00:00\",\"2021-12-28T00:00:00\",\"2021-12-29T00:00:00\",\"2021-12-30T00:00:00\",\"2022-01-03T00:00:00\",\"2022-01-04T00:00:00\",\"2022-01-05T00:00:00\",\"2022-01-06T00:00:00\",\"2022-01-07T00:00:00\",\"2022-01-10T00:00:00\",\"2022-01-11T00:00:00\",\"2022-01-12T00:00:00\",\"2022-01-13T00:00:00\",\"2022-01-14T00:00:00\",\"2022-01-17T00:00:00\",\"2022-01-18T00:00:00\",\"2022-01-19T00:00:00\",\"2022-01-20T00:00:00\",\"2022-01-21T00:00:00\",\"2022-01-24T00:00:00\",\"2022-01-25T00:00:00\",\"2022-01-26T00:00:00\",\"2022-01-27T00:00:00\",\"2022-01-28T00:00:00\",\"2022-01-31T00:00:00\",\"2022-02-02T00:00:00\",\"2022-02-03T00:00:00\",\"2022-02-04T00:00:00\",\"2022-02-07T00:00:00\",\"2022-02-08T00:00:00\",\"2022-02-09T00:00:00\",\"2022-02-10T00:00:00\",\"2022-02-11T00:00:00\",\"2022-02-14T00:00:00\",\"2022-02-15T00:00:00\",\"2022-02-16T00:00:00\",\"2022-02-17T00:00:00\",\"2022-02-18T00:00:00\",\"2022-02-21T00:00:00\",\"2022-02-22T00:00:00\",\"2022-02-23T00:00:00\",\"2022-02-24T00:00:00\",\"2022-02-25T00:00:00\",\"2022-03-01T00:00:00\",\"2022-03-02T00:00:00\",\"2022-03-04T00:00:00\",\"2022-03-07T00:00:00\",\"2022-03-08T00:00:00\",\"2022-03-09T00:00:00\",\"2022-03-10T00:00:00\",\"2022-03-11T00:00:00\",\"2022-03-14T00:00:00\",\"2022-03-15T00:00:00\",\"2022-03-16T00:00:00\",\"2022-03-17T00:00:00\",\"2022-03-18T00:00:00\",\"2022-03-21T00:00:00\",\"2022-03-22T00:00:00\",\"2022-03-23T00:00:00\",\"2022-03-24T00:00:00\",\"2022-03-25T00:00:00\",\"2022-03-28T00:00:00\",\"2022-03-29T00:00:00\",\"2022-03-30T00:00:00\",\"2022-03-31T00:00:00\",\"2022-04-01T00:00:00\",\"2022-04-04T00:00:00\",\"2022-04-05T00:00:00\",\"2022-04-06T00:00:00\",\"2022-04-07T00:00:00\",\"2022-04-08T00:00:00\",\"2022-04-11T00:00:00\",\"2022-04-12T00:00:00\",\"2022-04-13T00:00:00\",\"2022-04-14T00:00:00\",\"2022-04-18T00:00:00\",\"2022-04-19T00:00:00\",\"2022-04-20T00:00:00\",\"2022-04-21T00:00:00\",\"2022-04-22T00:00:00\",\"2022-04-25T00:00:00\",\"2022-04-26T00:00:00\",\"2022-04-27T00:00:00\",\"2022-04-28T00:00:00\",\"2022-05-09T00:00:00\",\"2022-05-10T00:00:00\",\"2022-05-11T00:00:00\",\"2022-05-12T00:00:00\",\"2022-05-13T00:00:00\",\"2022-05-17T00:00:00\",\"2022-05-18T00:00:00\",\"2022-05-19T00:00:00\",\"2022-05-20T00:00:00\",\"2022-05-23T00:00:00\",\"2022-05-24T00:00:00\",\"2022-05-25T00:00:00\",\"2022-05-27T00:00:00\",\"2022-05-30T00:00:00\",\"2022-05-31T00:00:00\",\"2022-06-02T00:00:00\",\"2022-06-03T00:00:00\",\"2022-06-06T00:00:00\",\"2022-06-07T00:00:00\",\"2022-06-08T00:00:00\",\"2022-06-09T00:00:00\",\"2022-06-10T00:00:00\",\"2022-06-13T00:00:00\",\"2022-06-14T00:00:00\",\"2022-06-15T00:00:00\",\"2022-06-16T00:00:00\",\"2022-06-17T00:00:00\",\"2022-06-20T00:00:00\",\"2022-06-21T00:00:00\",\"2022-06-22T00:00:00\",\"2022-06-23T00:00:00\",\"2022-06-24T00:00:00\",\"2022-06-27T00:00:00\",\"2022-06-28T00:00:00\",\"2022-06-29T00:00:00\",\"2022-06-30T00:00:00\",\"2022-07-01T00:00:00\",\"2022-07-04T00:00:00\",\"2022-07-05T00:00:00\",\"2022-07-06T00:00:00\",\"2022-07-07T00:00:00\",\"2022-07-08T00:00:00\",\"2022-07-11T00:00:00\",\"2022-07-12T00:00:00\",\"2022-07-13T00:00:00\",\"2022-07-14T00:00:00\",\"2022-07-15T00:00:00\",\"2022-07-18T00:00:00\",\"2022-07-19T00:00:00\",\"2022-07-20T00:00:00\",\"2022-07-21T00:00:00\",\"2022-07-22T00:00:00\",\"2022-07-25T00:00:00\",\"2022-07-26T00:00:00\",\"2022-07-27T00:00:00\",\"2022-07-28T00:00:00\",\"2022-07-29T00:00:00\",\"2022-08-01T00:00:00\",\"2022-08-02T00:00:00\",\"2022-08-03T00:00:00\",\"2022-08-04T00:00:00\",\"2022-08-05T00:00:00\",\"2022-08-08T00:00:00\",\"2022-08-09T00:00:00\",\"2022-08-10T00:00:00\",\"2022-08-11T00:00:00\",\"2022-08-12T00:00:00\",\"2022-08-15T00:00:00\",\"2022-08-16T00:00:00\",\"2022-08-18T00:00:00\",\"2022-08-19T00:00:00\",\"2022-08-22T00:00:00\",\"2022-08-23T00:00:00\",\"2022-08-24T00:00:00\",\"2022-08-25T00:00:00\",\"2022-08-26T00:00:00\",\"2022-08-29T00:00:00\",\"2022-08-30T00:00:00\",\"2022-08-31T00:00:00\",\"2022-09-01T00:00:00\",\"2022-09-02T00:00:00\",\"2022-09-05T00:00:00\",\"2022-09-06T00:00:00\",\"2022-09-07T00:00:00\",\"2022-09-08T00:00:00\",\"2022-09-09T00:00:00\",\"2022-09-12T00:00:00\",\"2022-09-13T00:00:00\",\"2022-09-14T00:00:00\"],\"y\":[45469500.0,79114600.0,69832000.0,109582500.0,127860400.0,77306900.0,43239400.0,126278300.0,117391500.0,84061400.0,85475400.0,80212700.0,154902100.0,163170100.0,108988600.0,74036700.0,86395000.0,143584400.0,58473100.0,138978700.0,73238700.0,101581300.0,114753900.0,108828800.0,97387100.0,76086600.0,105792900.0,128693900.0,177385100.0,276092100.0,174790600.0,216200900.0,167708600.0,188420700.0,221641600.0,171214500.0,263483700.0,175767800.0,260087300.0,241625700.0,194424800.0,177784900.0,235586600.0,227358800.0,159776500.0,167271000.0,170895600.0,100882600.0,100784500.0,156613200.0,258068400.0,148037400.0,178357900.0,102033100.0,248572600.0,169104200.0,158166300.0,125940800.0,95422400.0,77733900.0,111442600.0,102304100.0,91951000.0,112416300.0,64735500.0,101283800.0,69462100.0,70482100.0,137265100.0,58708800.0,102705300.0,114352000.0,95785000.0,255659800.0,96018000.0,120719100.0,71699000.0,78347200.0,65485400.0,175693000.0,110934800.0,160906600.0,93007500.0,139358500.0,103980600.0,76713900.0,100013600.0,122465300.0,102787800.0,160569500.0,204261100.0,90565400.0,107589800.0,123106100.0,143569100.0,62206600.0,80068200.0,108397400.0,287496300.0,197756800.0,127562700.0,106215900.0,68113400.0,97257400.0,162116700.0,100305100.0,75891600.0,85953300.0,74516800.0,180968900.0,89256700.0,155853900.0,235611600.0,225006000.0,140161900.0,124720200.0,148977400.0,110186000.0,154587800.0,109122300.0,77479100.0,97205500.0,183236500.0,138462900.0,135175000.0,187840500.0,168211100.0,142146300.0,257179400.0,166356000.0,97523200.0,146366600.0,391510600.0,188874000.0,150678200.0,369260400.0,243865800.0,208192700.0,195337300.0,480530200.0,169609900.0,186708800.0,206145500.0,527501800.0,239122600.0,185558800.0,211892500.0,260752200.0,207503900.0,253156200.0,374185400.0,163651600.0,624142600.0,277929200.0,187276600.0,121434200.0,170418900.0,175436900.0,113775100.0,229380200.0,154365400.0,281474900.0,410175700.0,455088400.0,249797800.0,187856600.0,267970200.0,311860000.0,240067600.0,178138100.0,184525500.0,150844500.0,165339800.0,157800700.0,177877900.0,140221900.0,492643700.0,271231200.0,189779500.0,162329300.0,187448400.0,133304300.0,138913100.0,144100700.0,116098100.0,81801900.0,165024200.0,118131800.0,111414500.0,159144700.0,142648800.0,191915100.0,133929600.0,114734600.0,86433900.0,80319500.0,52630500.0,96635600.0,157479200.0,125221400.0,79940700.0,88883300.0,82026300.0,121105300.0,151200300.0,63214600.0,100425500.0,354966200.0,303017100.0,226833000.0,230007700.0,91513500.0,169061400.0,82610700.0,142322100.0,128546000.0,80094900.0,110090800.0,91631900.0,100195200.0,50077300.0,60111200.0,61701400.0,101896400.0,140000000.0,53870300.0,55323200.0,67173200.0,107607200.0,106810400.0,72214100.0,66491800.0,134671900.0,73332000.0,36029200.0,40566400.0,84754300.0,59079700.0,56861400.0,79003200.0,51300200.0,52587500.0,65669100.0,52517800.0,44899700.0,55700100.0,47167800.0,54970000.0,39798400.0,55076200.0,166985400.0,91596300.0,111785100.0,143840800.0,124724400.0,60180600.0,76480300.0,91955600.0,98099900.0,104121900.0,94281900.0,114071400.0,77310400.0,48958100.0,197430900.0,104101400.0,64347100.0,62218300.0,233551300.0,87439800.0,155768200.0,108933400.0,77627900.0,70624200.0,124440300.0,132409400.0,112204200.0,137713700.0,82336600.0,46016500.0,60528600.0,39149800.0,50286100.0,168414300.0,74248200.0,89349200.0,81901000.0,101334200.0,58330700.0,66338900.0,123411200.0,142204500.0,143665900.0,161855700.0,133815000.0,151573500.0,110215500.0,132576600.0,222916400.0,86268000.0,82856600.0,84993400.0,88092800.0,63626300.0,116219500.0,115099400.0,48865700.0,67128400.0,55525800.0,62673400.0,103282300.0,126542400.0,95143100.0,60368200.0,89712500.0,63108600.0,89742800.0,31664200.0,70299500.0,57658000.0,93133400.0,59903600.0,38661800.0,162921300.0,100851800.0,113411000.0,64122400.0,69338100.0,66618200.0,55756100.0,62419000.0,64177700.0,130019000.0,85135200.0,51633800.0,65479800.0,52640400.0,42617400.0,80636800.0,82214400.0,52115300.0,45547200.0,166002100.0,73158300.0,58318700.0,117573100.0,83985100.0,95848100.0,66835200.0,104737500.0,72224500.0,87303000.0,54671700.0,53170100.0,153853900.0,109898400.0,82205100.0,140488300.0,153535700.0,56837600.0,91361800.0,78865000.0,69866300.0,87143900.0,95817900.0,69707700.0,78580700.0,61095700.0,169659500.0,59640700.0,58246300.0,58615100.0,52210100.0,61151100.0,70430900.0,65447100.0,170260000.0,48810500.0,53494200.0,43133000.0,58758600.0,92427800.0,53511200.0,95789600.0,115142400.0,91001800.0,99590700.0,82023300.0,53290400.0,310615000.0,206683100.0,67778800.0,67303800.0,264897100.0,231870300.0,228774600.0,435800600.0,200699200.0,116093100.0,96760700.0,106756900.0,121543400.0,113845600.0,86985800.0,90725000.0,65533000.0,75736900.0,84424500.0,98164300.0,149615800.0,72794200.0,98039300.0,50574500.0,54508200.0,29075600.0,30748000.0,39443300.0,25596100.0,50575100.0,65937900.0,42984700.0,119584700.0,89197500.0,68415100.0,44921200.0,61890200.0,45132700.0,84148400.0,28193100.0,39816300.0,112212200.0,88713900.0,100014500.0,75534800.0,70404500.0,116353600.0,127641400.0,98613900.0,61686700.0,88735900.0,144006000.0,58212400.0,98728700.0,90285800.0,71210400.0,95375000.0,233984700.0,130081900.0,104903700.0,75305900.0,90121200.0,72970200.0,71111300.0,58883000.0,106985800.0,110562400.0,126158600.0,208757000.0,206416900.0,152165300.0,155369100.0,177360400.0,234086000.0,145145900.0,130830800.0,143446200.0,166572700.0,231077800.0,109961900.0,246300800.0,210266100.0,79691600.0,98699900.0,78299500.0,89578400.0,90053700.0,184131000.0,77920800.0,118749100.0,108109700.0,86590300.0,103480300.0,52172300.0,108368800.0,143921800.0,161974500.0,90521500.0,187948000.0,196864200.0,112735200.0,120778200.0,92268300.0,88360900.0,97575800.0,101299100.0,92045500.0,85945800.0,136485600.0,198484800.0,343682000.0,281386300.0,154455400.0,233518500.0,190889200.0,170880700.0,185359500.0,112679300.0,141701800.0,196569900.0,151693700.0,166595400.0,186513500.0,107614100.0,469620300.0,164481100.0,108852800.0,79319400.0,142504000.0,202555900.0,148580200.0,189186700.0,156054900.0,117325600.0,94848800.0,96042200.0,169375800.0,82101200.0,77489000.0,60907800.0,101065400.0,81050700.0,71574300.0,128618800.0,72888100.0,116718900.0,39572500.0,115885200.0,72329600.0,62679000.0,42393800.0,64049000.0,42258000.0,43399800.0,96218200.0,68708500.0,146093800.0,84009400.0,91367900.0,82344000.0,107234600.0,59792300.0,37218000.0,49786900.0,60672300.0,110767300.0,108823600.0,104724300.0,112228800.0,251825000.0,186881500.0,268967200.0,191023500.0,164453900.0,162061400.0,123629000.0,124552500.0,136882800.0,127710800.0,182044300.0,177623900.0,202320400.0,229431400.0,189007900.0,179495700.0,184317100.0,101529800.0,118884300.0,175300400.0,120871700.0,106985000.0,77323800.0,61970100.0,106145700.0,123389200.0,50307800.0,74820600.0,91510200.0,97919200.0],\"type\":\"scatter\"},{\"mode\":\"lines\",\"name\":\"High\",\"x\":[\"2020-04-13T00:00:00\",\"2020-04-14T00:00:00\",\"2020-04-15T00:00:00\",\"2020-04-16T00:00:00\",\"2020-04-17T00:00:00\",\"2020-04-20T00:00:00\",\"2020-04-21T00:00:00\",\"2020-04-22T00:00:00\",\"2020-04-23T00:00:00\",\"2020-04-24T00:00:00\",\"2020-04-27T00:00:00\",\"2020-04-28T00:00:00\",\"2020-04-29T00:00:00\",\"2020-04-30T00:00:00\",\"2020-05-04T00:00:00\",\"2020-05-05T00:00:00\",\"2020-05-06T00:00:00\",\"2020-05-08T00:00:00\",\"2020-05-11T00:00:00\",\"2020-05-12T00:00:00\",\"2020-05-13T00:00:00\",\"2020-05-14T00:00:00\",\"2020-05-15T00:00:00\",\"2020-05-18T00:00:00\",\"2020-05-19T00:00:00\",\"2020-05-20T00:00:00\",\"2020-05-26T00:00:00\",\"2020-05-27T00:00:00\",\"2020-05-28T00:00:00\",\"2020-05-29T00:00:00\",\"2020-06-02T00:00:00\",\"2020-06-03T00:00:00\",\"2020-06-04T00:00:00\",\"2020-06-05T00:00:00\",\"2020-06-08T00:00:00\",\"2020-06-09T00:00:00\",\"2020-06-10T00:00:00\",\"2020-06-11T00:00:00\",\"2020-06-12T00:00:00\",\"2020-06-15T00:00:00\",\"2020-06-16T00:00:00\",\"2020-06-17T00:00:00\",\"2020-06-18T00:00:00\",\"2020-06-19T00:00:00\",\"2020-06-22T00:00:00\",\"2020-06-23T00:00:00\",\"2020-06-24T00:00:00\",\"2020-06-25T00:00:00\",\"2020-06-26T00:00:00\",\"2020-06-29T00:00:00\",\"2020-06-30T00:00:00\",\"2020-07-01T00:00:00\",\"2020-07-02T00:00:00\",\"2020-07-03T00:00:00\",\"2020-07-06T00:00:00\",\"2020-07-07T00:00:00\",\"2020-07-08T00:00:00\",\"2020-07-09T00:00:00\",\"2020-07-10T00:00:00\",\"2020-07-13T00:00:00\",\"2020-07-14T00:00:00\",\"2020-07-15T00:00:00\",\"2020-07-16T00:00:00\",\"2020-07-17T00:00:00\",\"2020-07-20T00:00:00\",\"2020-07-21T00:00:00\",\"2020-07-22T00:00:00\",\"2020-07-23T00:00:00\",\"2020-07-24T00:00:00\",\"2020-07-27T00:00:00\",\"2020-07-28T00:00:00\",\"2020-07-29T00:00:00\",\"2020-07-30T00:00:00\",\"2020-08-03T00:00:00\",\"2020-08-04T00:00:00\",\"2020-08-05T00:00:00\",\"2020-08-06T00:00:00\",\"2020-08-07T00:00:00\",\"2020-08-10T00:00:00\",\"2020-08-11T00:00:00\",\"2020-08-12T00:00:00\",\"2020-08-13T00:00:00\",\"2020-08-14T00:00:00\",\"2020-08-18T00:00:00\",\"2020-08-19T00:00:00\",\"2020-08-24T00:00:00\",\"2020-08-25T00:00:00\",\"2020-08-26T00:00:00\",\"2020-08-27T00:00:00\",\"2020-08-28T00:00:00\",\"2020-08-31T00:00:00\",\"2020-09-01T00:00:00\",\"2020-09-02T00:00:00\",\"2020-09-03T00:00:00\",\"2020-09-04T00:00:00\",\"2020-09-07T00:00:00\",\"2020-09-08T00:00:00\",\"2020-09-09T00:00:00\",\"2020-09-10T00:00:00\",\"2020-09-11T00:00:00\",\"2020-09-14T00:00:00\",\"2020-09-15T00:00:00\",\"2020-09-16T00:00:00\",\"2020-09-17T00:00:00\",\"2020-09-18T00:00:00\",\"2020-09-21T00:00:00\",\"2020-09-22T00:00:00\",\"2020-09-23T00:00:00\",\"2020-09-24T00:00:00\",\"2020-09-25T00:00:00\",\"2020-09-28T00:00:00\",\"2020-09-29T00:00:00\",\"2020-09-30T00:00:00\",\"2020-10-01T00:00:00\",\"2020-10-02T00:00:00\",\"2020-10-05T00:00:00\",\"2020-10-06T00:00:00\",\"2020-10-07T00:00:00\",\"2020-10-08T00:00:00\",\"2020-10-09T00:00:00\",\"2020-10-12T00:00:00\",\"2020-10-13T00:00:00\",\"2020-10-14T00:00:00\",\"2020-10-15T00:00:00\",\"2020-10-16T00:00:00\",\"2020-10-19T00:00:00\",\"2020-10-20T00:00:00\",\"2020-10-21T00:00:00\",\"2020-10-22T00:00:00\",\"2020-10-23T00:00:00\",\"2020-10-26T00:00:00\",\"2020-10-27T00:00:00\",\"2020-11-02T00:00:00\",\"2020-11-03T00:00:00\",\"2020-11-04T00:00:00\",\"2020-11-05T00:00:00\",\"2020-11-06T00:00:00\",\"2020-11-09T00:00:00\",\"2020-11-10T00:00:00\",\"2020-11-11T00:00:00\",\"2020-11-12T00:00:00\",\"2020-11-13T00:00:00\",\"2020-11-16T00:00:00\",\"2020-11-17T00:00:00\",\"2020-11-18T00:00:00\",\"2020-11-19T00:00:00\",\"2020-11-20T00:00:00\",\"2020-11-23T00:00:00\",\"2020-11-24T00:00:00\",\"2020-11-25T00:00:00\",\"2020-11-26T00:00:00\",\"2020-11-27T00:00:00\",\"2020-11-30T00:00:00\",\"2020-12-01T00:00:00\",\"2020-12-02T00:00:00\",\"2020-12-03T00:00:00\",\"2020-12-04T00:00:00\",\"2020-12-07T00:00:00\",\"2020-12-08T00:00:00\",\"2020-12-10T00:00:00\",\"2020-12-11T00:00:00\",\"2020-12-14T00:00:00\",\"2020-12-15T00:00:00\",\"2020-12-16T00:00:00\",\"2020-12-17T00:00:00\",\"2020-12-18T00:00:00\",\"2020-12-21T00:00:00\",\"2020-12-22T00:00:00\",\"2020-12-23T00:00:00\",\"2020-12-28T00:00:00\",\"2020-12-29T00:00:00\",\"2020-12-30T00:00:00\",\"2021-01-04T00:00:00\",\"2021-01-05T00:00:00\",\"2021-01-06T00:00:00\",\"2021-01-07T00:00:00\",\"2021-01-08T00:00:00\",\"2021-01-11T00:00:00\",\"2021-01-12T00:00:00\",\"2021-01-13T00:00:00\",\"2021-01-14T00:00:00\",\"2021-01-15T00:00:00\",\"2021-01-18T00:00:00\",\"2021-01-19T00:00:00\",\"2021-01-20T00:00:00\",\"2021-01-21T00:00:00\",\"2021-01-22T00:00:00\",\"2021-01-25T00:00:00\",\"2021-01-26T00:00:00\",\"2021-01-27T00:00:00\",\"2021-01-28T00:00:00\",\"2021-01-29T00:00:00\",\"2021-02-01T00:00:00\",\"2021-02-02T00:00:00\",\"2021-02-03T00:00:00\",\"2021-02-04T00:00:00\",\"2021-02-05T00:00:00\",\"2021-02-08T00:00:00\",\"2021-02-09T00:00:00\",\"2021-02-10T00:00:00\",\"2021-02-11T00:00:00\",\"2021-02-15T00:00:00\",\"2021-02-16T00:00:00\",\"2021-02-17T00:00:00\",\"2021-02-18T00:00:00\",\"2021-02-19T00:00:00\",\"2021-02-22T00:00:00\",\"2021-02-23T00:00:00\",\"2021-02-24T00:00:00\",\"2021-02-25T00:00:00\",\"2021-02-26T00:00:00\",\"2021-03-01T00:00:00\",\"2021-03-02T00:00:00\",\"2021-03-03T00:00:00\",\"2021-03-04T00:00:00\",\"2021-03-05T00:00:00\",\"2021-03-08T00:00:00\",\"2021-03-09T00:00:00\",\"2021-03-10T00:00:00\",\"2021-03-12T00:00:00\",\"2021-03-15T00:00:00\",\"2021-03-16T00:00:00\",\"2021-03-17T00:00:00\",\"2021-03-18T00:00:00\",\"2021-03-19T00:00:00\",\"2021-03-22T00:00:00\",\"2021-03-23T00:00:00\",\"2021-03-24T00:00:00\",\"2021-03-25T00:00:00\",\"2021-03-26T00:00:00\",\"2021-03-29T00:00:00\",\"2021-03-30T00:00:00\",\"2021-03-31T00:00:00\",\"2021-04-01T00:00:00\",\"2021-04-05T00:00:00\",\"2021-04-06T00:00:00\",\"2021-04-07T00:00:00\",\"2021-04-08T00:00:00\",\"2021-04-09T00:00:00\",\"2021-04-12T00:00:00\",\"2021-04-13T00:00:00\",\"2021-04-14T00:00:00\",\"2021-04-15T00:00:00\",\"2021-04-16T00:00:00\",\"2021-04-19T00:00:00\",\"2021-04-20T00:00:00\",\"2021-04-21T00:00:00\",\"2021-04-22T00:00:00\",\"2021-04-23T00:00:00\",\"2021-04-26T00:00:00\",\"2021-04-27T00:00:00\",\"2021-04-28T00:00:00\",\"2021-04-29T00:00:00\",\"2021-04-30T00:00:00\",\"2021-05-03T00:00:00\",\"2021-05-04T00:00:00\",\"2021-05-05T00:00:00\",\"2021-05-06T00:00:00\",\"2021-05-07T00:00:00\",\"2021-05-10T00:00:00\",\"2021-05-11T00:00:00\",\"2021-05-17T00:00:00\",\"2021-05-18T00:00:00\",\"2021-05-19T00:00:00\",\"2021-05-20T00:00:00\",\"2021-05-21T00:00:00\",\"2021-05-24T00:00:00\",\"2021-05-25T00:00:00\",\"2021-05-27T00:00:00\",\"2021-05-28T00:00:00\",\"2021-05-31T00:00:00\",\"2021-06-02T00:00:00\",\"2021-06-03T00:00:00\",\"2021-06-04T00:00:00\",\"2021-06-07T00:00:00\",\"2021-06-08T00:00:00\",\"2021-06-09T00:00:00\",\"2021-06-10T00:00:00\",\"2021-06-11T00:00:00\",\"2021-06-14T00:00:00\",\"2021-06-15T00:00:00\",\"2021-06-16T00:00:00\",\"2021-06-17T00:00:00\",\"2021-06-18T00:00:00\",\"2021-06-21T00:00:00\",\"2021-06-22T00:00:00\",\"2021-06-23T00:00:00\",\"2021-06-24T00:00:00\",\"2021-06-25T00:00:00\",\"2021-06-28T00:00:00\",\"2021-06-29T00:00:00\",\"2021-06-30T00:00:00\",\"2021-07-01T00:00:00\",\"2021-07-02T00:00:00\",\"2021-07-05T00:00:00\",\"2021-07-06T00:00:00\",\"2021-07-07T00:00:00\",\"2021-07-08T00:00:00\",\"2021-07-09T00:00:00\",\"2021-07-12T00:00:00\",\"2021-07-13T00:00:00\",\"2021-07-14T00:00:00\",\"2021-07-15T00:00:00\",\"2021-07-16T00:00:00\",\"2021-07-19T00:00:00\",\"2021-07-21T00:00:00\",\"2021-07-22T00:00:00\",\"2021-07-23T00:00:00\",\"2021-07-26T00:00:00\",\"2021-07-27T00:00:00\",\"2021-07-28T00:00:00\",\"2021-07-29T00:00:00\",\"2021-07-30T00:00:00\",\"2021-08-02T00:00:00\",\"2021-08-03T00:00:00\",\"2021-08-04T00:00:00\",\"2021-08-05T00:00:00\",\"2021-08-06T00:00:00\",\"2021-08-09T00:00:00\",\"2021-08-10T00:00:00\",\"2021-08-12T00:00:00\",\"2021-08-13T00:00:00\",\"2021-08-16T00:00:00\",\"2021-08-18T00:00:00\",\"2021-08-19T00:00:00\",\"2021-08-20T00:00:00\",\"2021-08-23T00:00:00\",\"2021-08-24T00:00:00\",\"2021-08-25T00:00:00\",\"2021-08-26T00:00:00\",\"2021-08-27T00:00:00\",\"2021-08-30T00:00:00\",\"2021-08-31T00:00:00\",\"2021-09-01T00:00:00\",\"2021-09-02T00:00:00\",\"2021-09-03T00:00:00\",\"2021-09-06T00:00:00\",\"2021-09-07T00:00:00\",\"2021-09-08T00:00:00\",\"2021-09-09T00:00:00\",\"2021-09-10T00:00:00\",\"2021-09-13T00:00:00\",\"2021-09-14T00:00:00\",\"2021-09-15T00:00:00\",\"2021-09-16T00:00:00\",\"2021-09-17T00:00:00\",\"2021-09-20T00:00:00\",\"2021-09-21T00:00:00\",\"2021-09-22T00:00:00\",\"2021-09-23T00:00:00\",\"2021-09-24T00:00:00\",\"2021-09-27T00:00:00\",\"2021-09-28T00:00:00\",\"2021-09-29T00:00:00\",\"2021-09-30T00:00:00\",\"2021-10-01T00:00:00\",\"2021-10-04T00:00:00\",\"2021-10-05T00:00:00\",\"2021-10-06T00:00:00\",\"2021-10-07T00:00:00\",\"2021-10-08T00:00:00\",\"2021-10-11T00:00:00\",\"2021-10-12T00:00:00\",\"2021-10-13T00:00:00\",\"2021-10-14T00:00:00\",\"2021-10-15T00:00:00\",\"2021-10-18T00:00:00\",\"2021-10-19T00:00:00\",\"2021-10-21T00:00:00\",\"2021-10-22T00:00:00\",\"2021-10-25T00:00:00\",\"2021-10-26T00:00:00\",\"2021-10-27T00:00:00\",\"2021-10-28T00:00:00\",\"2021-10-29T00:00:00\",\"2021-11-01T00:00:00\",\"2021-11-02T00:00:00\",\"2021-11-03T00:00:00\",\"2021-11-04T00:00:00\",\"2021-11-05T00:00:00\",\"2021-11-08T00:00:00\",\"2021-11-09T00:00:00\",\"2021-11-10T00:00:00\",\"2021-11-11T00:00:00\",\"2021-11-12T00:00:00\",\"2021-11-15T00:00:00\",\"2021-11-16T00:00:00\",\"2021-11-17T00:00:00\",\"2021-11-18T00:00:00\",\"2021-11-19T00:00:00\",\"2021-11-22T00:00:00\",\"2021-11-23T00:00:00\",\"2021-11-24T00:00:00\",\"2021-11-25T00:00:00\",\"2021-11-26T00:00:00\",\"2021-11-29T00:00:00\",\"2021-11-30T00:00:00\",\"2021-12-01T00:00:00\",\"2021-12-02T00:00:00\",\"2021-12-03T00:00:00\",\"2021-12-06T00:00:00\",\"2021-12-07T00:00:00\",\"2021-12-08T00:00:00\",\"2021-12-09T00:00:00\",\"2021-12-10T00:00:00\",\"2021-12-13T00:00:00\",\"2021-12-14T00:00:00\",\"2021-12-15T00:00:00\",\"2021-12-16T00:00:00\",\"2021-12-17T00:00:00\",\"2021-12-20T00:00:00\",\"2021-12-21T00:00:00\",\"2021-12-22T00:00:00\",\"2021-12-23T00:00:00\",\"2021-12-24T00:00:00\",\"2021-12-27T00:00:00\",\"2021-12-28T00:00:00\",\"2021-12-29T00:00:00\",\"2021-12-30T00:00:00\",\"2022-01-03T00:00:00\",\"2022-01-04T00:00:00\",\"2022-01-05T00:00:00\",\"2022-01-06T00:00:00\",\"2022-01-07T00:00:00\",\"2022-01-10T00:00:00\",\"2022-01-11T00:00:00\",\"2022-01-12T00:00:00\",\"2022-01-13T00:00:00\",\"2022-01-14T00:00:00\",\"2022-01-17T00:00:00\",\"2022-01-18T00:00:00\",\"2022-01-19T00:00:00\",\"2022-01-20T00:00:00\",\"2022-01-21T00:00:00\",\"2022-01-24T00:00:00\",\"2022-01-25T00:00:00\",\"2022-01-26T00:00:00\",\"2022-01-27T00:00:00\",\"2022-01-28T00:00:00\",\"2022-01-31T00:00:00\",\"2022-02-02T00:00:00\",\"2022-02-03T00:00:00\",\"2022-02-04T00:00:00\",\"2022-02-07T00:00:00\",\"2022-02-08T00:00:00\",\"2022-02-09T00:00:00\",\"2022-02-10T00:00:00\",\"2022-02-11T00:00:00\",\"2022-02-14T00:00:00\",\"2022-02-15T00:00:00\",\"2022-02-16T00:00:00\",\"2022-02-17T00:00:00\",\"2022-02-18T00:00:00\",\"2022-02-21T00:00:00\",\"2022-02-22T00:00:00\",\"2022-02-23T00:00:00\",\"2022-02-24T00:00:00\",\"2022-02-25T00:00:00\",\"2022-03-01T00:00:00\",\"2022-03-02T00:00:00\",\"2022-03-04T00:00:00\",\"2022-03-07T00:00:00\",\"2022-03-08T00:00:00\",\"2022-03-09T00:00:00\",\"2022-03-10T00:00:00\",\"2022-03-11T00:00:00\",\"2022-03-14T00:00:00\",\"2022-03-15T00:00:00\",\"2022-03-16T00:00:00\",\"2022-03-17T00:00:00\",\"2022-03-18T00:00:00\",\"2022-03-21T00:00:00\",\"2022-03-22T00:00:00\",\"2022-03-23T00:00:00\",\"2022-03-24T00:00:00\",\"2022-03-25T00:00:00\",\"2022-03-28T00:00:00\",\"2022-03-29T00:00:00\",\"2022-03-30T00:00:00\",\"2022-03-31T00:00:00\",\"2022-04-01T00:00:00\",\"2022-04-04T00:00:00\",\"2022-04-05T00:00:00\",\"2022-04-06T00:00:00\",\"2022-04-07T00:00:00\",\"2022-04-08T00:00:00\",\"2022-04-11T00:00:00\",\"2022-04-12T00:00:00\",\"2022-04-13T00:00:00\",\"2022-04-14T00:00:00\",\"2022-04-18T00:00:00\",\"2022-04-19T00:00:00\",\"2022-04-20T00:00:00\",\"2022-04-21T00:00:00\",\"2022-04-22T00:00:00\",\"2022-04-25T00:00:00\",\"2022-04-26T00:00:00\",\"2022-04-27T00:00:00\",\"2022-04-28T00:00:00\",\"2022-05-09T00:00:00\",\"2022-05-10T00:00:00\",\"2022-05-11T00:00:00\",\"2022-05-12T00:00:00\",\"2022-05-13T00:00:00\",\"2022-05-17T00:00:00\",\"2022-05-18T00:00:00\",\"2022-05-19T00:00:00\",\"2022-05-20T00:00:00\",\"2022-05-23T00:00:00\",\"2022-05-24T00:00:00\",\"2022-05-25T00:00:00\",\"2022-05-27T00:00:00\",\"2022-05-30T00:00:00\",\"2022-05-31T00:00:00\",\"2022-06-02T00:00:00\",\"2022-06-03T00:00:00\",\"2022-06-06T00:00:00\",\"2022-06-07T00:00:00\",\"2022-06-08T00:00:00\",\"2022-06-09T00:00:00\",\"2022-06-10T00:00:00\",\"2022-06-13T00:00:00\",\"2022-06-14T00:00:00\",\"2022-06-15T00:00:00\",\"2022-06-16T00:00:00\",\"2022-06-17T00:00:00\",\"2022-06-20T00:00:00\",\"2022-06-21T00:00:00\",\"2022-06-22T00:00:00\",\"2022-06-23T00:00:00\",\"2022-06-24T00:00:00\",\"2022-06-27T00:00:00\",\"2022-06-28T00:00:00\",\"2022-06-29T00:00:00\",\"2022-06-30T00:00:00\",\"2022-07-01T00:00:00\",\"2022-07-04T00:00:00\",\"2022-07-05T00:00:00\",\"2022-07-06T00:00:00\",\"2022-07-07T00:00:00\",\"2022-07-08T00:00:00\",\"2022-07-11T00:00:00\",\"2022-07-12T00:00:00\",\"2022-07-13T00:00:00\",\"2022-07-14T00:00:00\",\"2022-07-15T00:00:00\",\"2022-07-18T00:00:00\",\"2022-07-19T00:00:00\",\"2022-07-20T00:00:00\",\"2022-07-21T00:00:00\",\"2022-07-22T00:00:00\",\"2022-07-25T00:00:00\",\"2022-07-26T00:00:00\",\"2022-07-27T00:00:00\",\"2022-07-28T00:00:00\",\"2022-07-29T00:00:00\",\"2022-08-01T00:00:00\",\"2022-08-02T00:00:00\",\"2022-08-03T00:00:00\",\"2022-08-04T00:00:00\",\"2022-08-05T00:00:00\",\"2022-08-08T00:00:00\",\"2022-08-09T00:00:00\",\"2022-08-10T00:00:00\",\"2022-08-11T00:00:00\",\"2022-08-12T00:00:00\",\"2022-08-15T00:00:00\",\"2022-08-16T00:00:00\",\"2022-08-18T00:00:00\",\"2022-08-19T00:00:00\",\"2022-08-22T00:00:00\",\"2022-08-23T00:00:00\",\"2022-08-24T00:00:00\",\"2022-08-25T00:00:00\",\"2022-08-26T00:00:00\",\"2022-08-29T00:00:00\",\"2022-08-30T00:00:00\",\"2022-08-31T00:00:00\",\"2022-09-01T00:00:00\",\"2022-09-02T00:00:00\",\"2022-09-05T00:00:00\",\"2022-09-06T00:00:00\",\"2022-09-07T00:00:00\",\"2022-09-08T00:00:00\",\"2022-09-09T00:00:00\",\"2022-09-12T00:00:00\",\"2022-09-13T00:00:00\",\"2022-09-14T00:00:00\"],\"y\":[3230.0,3250.0,3300.0,3110.0,3250.0,3270.0,3130.0,3270.0,3240.0,3160.0,3200.0,3200.0,3390.0,3540.0,3400.0,3390.0,3340.0,3290.0,3250.0,3270.0,3170.0,3140.0,3130.0,3220.0,3330.0,3260.0,3280.0,3270.0,3210.0,3150.0,3270.0,3320.0,3390.0,3360.0,3290.0,3270.0,3190.0,3150.0,3080.0,3150.0,3220.0,3230.0,3350.0,3340.0,3300.0,3200.0,3230.0,3220.0,3220.0,3250.0,3100.0,3100.0,3140.0,3180.0,3150.0,3120.0,3160.0,3190.0,3130.0,3130.0,3110.0,3130.0,3110.0,3110.0,3080.0,3110.0,3090.0,3090.0,3080.0,3050.0,3050.0,3050.0,3050.0,3060.0,2970.0,3040.0,3050.0,3030.0,3020.0,3000.0,2960.0,3020.0,3040.0,3060.0,3050.0,3020.0,3010.0,3050.0,3040.0,2990.0,2980.0,2910.0,2970.0,2960.0,2890.0,2910.0,2900.0,2860.0,2800.0,2840.0,2890.0,2900.0,2830.0,2850.0,2890.0,2910.0,2810.0,2810.0,2760.0,2740.0,2730.0,2690.0,2650.0,2760.0,2750.0,2710.0,2700.0,2670.0,2720.0,2750.0,2760.0,2740.0,2830.0,2850.0,2780.0,2810.0,2740.0,2710.0,2720.0,2720.0,2680.0,2690.0,2620.0,2590.0,2640.0,2810.0,2840.0,2900.0,2950.0,3100.0,3080.0,3010.0,3100.0,3270.0,3250.0,3220.0,3270.0,3340.0,3380.0,3390.0,3480.0,3500.0,3470.0,3320.0,3330.0,3360.0,3280.0,3330.0,3350.0,3290.0,3330.0,3340.0,3490.0,3640.0,3620.0,3540.0,3610.0,3540.0,3420.0,3460.0,3530.0,3420.0,3500.0,3480.0,3490.0,3450.0,3620.0,3640.0,3620.0,3550.0,3590.0,3540.0,3520.0,3490.0,3480.0,3520.0,3440.0,3410.0,3390.0,3380.0,3330.0,3290.0,3250.0,3330.0,3330.0,3330.0,3320.0,3370.0,3300.0,3220.0,3230.0,3260.0,3250.0,3250.0,3270.0,3220.0,3240.0,3480.0,3550.0,3570.0,3510.0,3510.0,3500.0,3480.0,3430.0,3370.0,3400.0,3390.0,3420.0,3480.0,3450.0,3410.0,3430.0,3480.0,3440.0,3440.0,3420.0,3390.0,3430.0,3500.0,3490.0,3430.0,3420.0,3440.0,3430.0,3410.0,3430.0,3400.0,3390.0,3390.0,3340.0,3360.0,3360.0,3370.0,3360.0,3350.0,3330.0,3340.0,3330.0,3300.0,3250.0,3170.0,3210.0,3260.0,3210.0,3210.0,3210.0,3200.0,3220.0,3200.0,3200.0,3190.0,3190.0,3220.0,3320.0,3350.0,3330.0,3320.0,3400.0,3400.0,3460.0,3500.0,3490.0,3510.0,3570.0,3550.0,3400.0,3500.0,3500.0,3470.0,3440.0,3430.0,3420.0,3400.0,3340.0,3370.0,3420.0,3360.0,3300.0,3260.0,3260.0,3180.0,3170.0,3130.0,3090.0,3070.0,3070.0,3060.0,3170.0,3190.0,3160.0,3070.0,3140.0,3170.0,3230.0,3240.0,3260.0,3250.0,3200.0,3270.0,3250.0,3290.0,3290.0,3310.0,3360.0,3370.0,3400.0,3380.0,3300.0,3270.0,3350.0,3380.0,3340.0,3440.0,3430.0,3430.0,3440.0,3420.0,3390.0,3360.0,3370.0,3400.0,3420.0,3420.0,3390.0,3420.0,3410.0,3410.0,3400.0,3390.0,3390.0,3350.0,3450.0,3450.0,3470.0,3530.0,3520.0,3560.0,3590.0,3610.0,3580.0,3560.0,3540.0,3540.0,3690.0,3690.0,3670.0,3680.0,3770.0,3740.0,3800.0,3850.0,3840.0,3820.0,3830.0,3840.0,3840.0,3800.0,3880.0,3880.0,3840.0,3830.0,3830.0,3820.0,3810.0,3820.0,3710.0,3740.0,3780.0,3770.0,3780.0,3740.0,3720.0,3730.0,3660.0,3650.0,3680.0,3690.0,3640.0,3920.0,3930.0,3850.0,3840.0,4090.0,4050.0,4170.0,4170.0,4150.0,4190.0,4180.0,4250.0,4200.0,4120.0,4150.0,4150.0,4150.0,4120.0,4140.0,4150.0,4100.0,4110.0,4190.0,4170.0,4160.0,4170.0,4150.0,4130.0,4130.0,4130.0,4180.0,4200.0,4190.0,4120.0,4190.0,4190.0,4160.0,4140.0,4180.0,4190.0,4200.0,4250.0,4260.0,4300.0,4330.0,4310.0,4320.0,4390.0,4400.0,4300.0,4250.0,4200.0,4210.0,4260.0,4290.0,4280.0,4280.0,4470.0,4550.0,4400.0,4440.0,4460.0,4440.0,4440.0,4420.0,4360.0,4370.0,4320.0,4350.0,4650.0,4400.0,4440.0,4530.0,4700.0,4620.0,4500.0,4590.0,4670.0,4630.0,4660.0,4580.0,4540.0,4570.0,4580.0,4570.0,4570.0,4540.0,4600.0,4620.0,4620.0,4640.0,4580.0,4570.0,4550.0,4500.0,4540.0,4610.0,4610.0,4630.0,4720.0,4730.0,4730.0,4750.0,4690.0,4670.0,4680.0,4720.0,4760.0,4790.0,4850.0,4560.0,4380.0,4480.0,4390.0,4350.0,4290.0,4290.0,4230.0,4230.0,4180.0,4200.0,4210.0,4300.0,4340.0,4330.0,4390.0,4390.0,4340.0,4340.0,4170.0,4130.0,4080.0,4100.0,4120.0,4080.0,4120.0,4120.0,4060.0,4120.0,4090.0,4160.0,4230.0,4120.0,4050.0,4080.0,4110.0,4040.0,4040.0,4070.0,4050.0,4050.0,4060.0,4100.0,4060.0,4030.0,4020.0,4210.0,4190.0,4190.0,4220.0,4260.0,4240.0,4260.0,4250.0,4300.0,4320.0,4300.0,4300.0,4450.0,4590.0,4550.0,4650.0,4700.0,4700.0,4590.0,4610.0,4600.0,4570.0,4580.0,4550.0,4610.0,4660.0,4710.0,4770.0,4700.0,4540.0,4550.0,4620.0,4600.0,4650.0,4620.0,4630.0,4620.0,4560.0,4640.0,4600.0,4600.0,4560.0,4530.0],\"type\":\"scatter\"},{\"mode\":\"lines\",\"name\":\"Low\",\"x\":[\"2020-04-13T00:00:00\",\"2020-04-14T00:00:00\",\"2020-04-15T00:00:00\",\"2020-04-16T00:00:00\",\"2020-04-17T00:00:00\",\"2020-04-20T00:00:00\",\"2020-04-21T00:00:00\",\"2020-04-22T00:00:00\",\"2020-04-23T00:00:00\",\"2020-04-24T00:00:00\",\"2020-04-27T00:00:00\",\"2020-04-28T00:00:00\",\"2020-04-29T00:00:00\",\"2020-04-30T00:00:00\",\"2020-05-04T00:00:00\",\"2020-05-05T00:00:00\",\"2020-05-06T00:00:00\",\"2020-05-08T00:00:00\",\"2020-05-11T00:00:00\",\"2020-05-12T00:00:00\",\"2020-05-13T00:00:00\",\"2020-05-14T00:00:00\",\"2020-05-15T00:00:00\",\"2020-05-18T00:00:00\",\"2020-05-19T00:00:00\",\"2020-05-20T00:00:00\",\"2020-05-26T00:00:00\",\"2020-05-27T00:00:00\",\"2020-05-28T00:00:00\",\"2020-05-29T00:00:00\",\"2020-06-02T00:00:00\",\"2020-06-03T00:00:00\",\"2020-06-04T00:00:00\",\"2020-06-05T00:00:00\",\"2020-06-08T00:00:00\",\"2020-06-09T00:00:00\",\"2020-06-10T00:00:00\",\"2020-06-11T00:00:00\",\"2020-06-12T00:00:00\",\"2020-06-15T00:00:00\",\"2020-06-16T00:00:00\",\"2020-06-17T00:00:00\",\"2020-06-18T00:00:00\",\"2020-06-19T00:00:00\",\"2020-06-22T00:00:00\",\"2020-06-23T00:00:00\",\"2020-06-24T00:00:00\",\"2020-06-25T00:00:00\",\"2020-06-26T00:00:00\",\"2020-06-29T00:00:00\",\"2020-06-30T00:00:00\",\"2020-07-01T00:00:00\",\"2020-07-02T00:00:00\",\"2020-07-03T00:00:00\",\"2020-07-06T00:00:00\",\"2020-07-07T00:00:00\",\"2020-07-08T00:00:00\",\"2020-07-09T00:00:00\",\"2020-07-10T00:00:00\",\"2020-07-13T00:00:00\",\"2020-07-14T00:00:00\",\"2020-07-15T00:00:00\",\"2020-07-16T00:00:00\",\"2020-07-17T00:00:00\",\"2020-07-20T00:00:00\",\"2020-07-21T00:00:00\",\"2020-07-22T00:00:00\",\"2020-07-23T00:00:00\",\"2020-07-24T00:00:00\",\"2020-07-27T00:00:00\",\"2020-07-28T00:00:00\",\"2020-07-29T00:00:00\",\"2020-07-30T00:00:00\",\"2020-08-03T00:00:00\",\"2020-08-04T00:00:00\",\"2020-08-05T00:00:00\",\"2020-08-06T00:00:00\",\"2020-08-07T00:00:00\",\"2020-08-10T00:00:00\",\"2020-08-11T00:00:00\",\"2020-08-12T00:00:00\",\"2020-08-13T00:00:00\",\"2020-08-14T00:00:00\",\"2020-08-18T00:00:00\",\"2020-08-19T00:00:00\",\"2020-08-24T00:00:00\",\"2020-08-25T00:00:00\",\"2020-08-26T00:00:00\",\"2020-08-27T00:00:00\",\"2020-08-28T00:00:00\",\"2020-08-31T00:00:00\",\"2020-09-01T00:00:00\",\"2020-09-02T00:00:00\",\"2020-09-03T00:00:00\",\"2020-09-04T00:00:00\",\"2020-09-07T00:00:00\",\"2020-09-08T00:00:00\",\"2020-09-09T00:00:00\",\"2020-09-10T00:00:00\",\"2020-09-11T00:00:00\",\"2020-09-14T00:00:00\",\"2020-09-15T00:00:00\",\"2020-09-16T00:00:00\",\"2020-09-17T00:00:00\",\"2020-09-18T00:00:00\",\"2020-09-21T00:00:00\",\"2020-09-22T00:00:00\",\"2020-09-23T00:00:00\",\"2020-09-24T00:00:00\",\"2020-09-25T00:00:00\",\"2020-09-28T00:00:00\",\"2020-09-29T00:00:00\",\"2020-09-30T00:00:00\",\"2020-10-01T00:00:00\",\"2020-10-02T00:00:00\",\"2020-10-05T00:00:00\",\"2020-10-06T00:00:00\",\"2020-10-07T00:00:00\",\"2020-10-08T00:00:00\",\"2020-10-09T00:00:00\",\"2020-10-12T00:00:00\",\"2020-10-13T00:00:00\",\"2020-10-14T00:00:00\",\"2020-10-15T00:00:00\",\"2020-10-16T00:00:00\",\"2020-10-19T00:00:00\",\"2020-10-20T00:00:00\",\"2020-10-21T00:00:00\",\"2020-10-22T00:00:00\",\"2020-10-23T00:00:00\",\"2020-10-26T00:00:00\",\"2020-10-27T00:00:00\",\"2020-11-02T00:00:00\",\"2020-11-03T00:00:00\",\"2020-11-04T00:00:00\",\"2020-11-05T00:00:00\",\"2020-11-06T00:00:00\",\"2020-11-09T00:00:00\",\"2020-11-10T00:00:00\",\"2020-11-11T00:00:00\",\"2020-11-12T00:00:00\",\"2020-11-13T00:00:00\",\"2020-11-16T00:00:00\",\"2020-11-17T00:00:00\",\"2020-11-18T00:00:00\",\"2020-11-19T00:00:00\",\"2020-11-20T00:00:00\",\"2020-11-23T00:00:00\",\"2020-11-24T00:00:00\",\"2020-11-25T00:00:00\",\"2020-11-26T00:00:00\",\"2020-11-27T00:00:00\",\"2020-11-30T00:00:00\",\"2020-12-01T00:00:00\",\"2020-12-02T00:00:00\",\"2020-12-03T00:00:00\",\"2020-12-04T00:00:00\",\"2020-12-07T00:00:00\",\"2020-12-08T00:00:00\",\"2020-12-10T00:00:00\",\"2020-12-11T00:00:00\",\"2020-12-14T00:00:00\",\"2020-12-15T00:00:00\",\"2020-12-16T00:00:00\",\"2020-12-17T00:00:00\",\"2020-12-18T00:00:00\",\"2020-12-21T00:00:00\",\"2020-12-22T00:00:00\",\"2020-12-23T00:00:00\",\"2020-12-28T00:00:00\",\"2020-12-29T00:00:00\",\"2020-12-30T00:00:00\",\"2021-01-04T00:00:00\",\"2021-01-05T00:00:00\",\"2021-01-06T00:00:00\",\"2021-01-07T00:00:00\",\"2021-01-08T00:00:00\",\"2021-01-11T00:00:00\",\"2021-01-12T00:00:00\",\"2021-01-13T00:00:00\",\"2021-01-14T00:00:00\",\"2021-01-15T00:00:00\",\"2021-01-18T00:00:00\",\"2021-01-19T00:00:00\",\"2021-01-20T00:00:00\",\"2021-01-21T00:00:00\",\"2021-01-22T00:00:00\",\"2021-01-25T00:00:00\",\"2021-01-26T00:00:00\",\"2021-01-27T00:00:00\",\"2021-01-28T00:00:00\",\"2021-01-29T00:00:00\",\"2021-02-01T00:00:00\",\"2021-02-02T00:00:00\",\"2021-02-03T00:00:00\",\"2021-02-04T00:00:00\",\"2021-02-05T00:00:00\",\"2021-02-08T00:00:00\",\"2021-02-09T00:00:00\",\"2021-02-10T00:00:00\",\"2021-02-11T00:00:00\",\"2021-02-15T00:00:00\",\"2021-02-16T00:00:00\",\"2021-02-17T00:00:00\",\"2021-02-18T00:00:00\",\"2021-02-19T00:00:00\",\"2021-02-22T00:00:00\",\"2021-02-23T00:00:00\",\"2021-02-24T00:00:00\",\"2021-02-25T00:00:00\",\"2021-02-26T00:00:00\",\"2021-03-01T00:00:00\",\"2021-03-02T00:00:00\",\"2021-03-03T00:00:00\",\"2021-03-04T00:00:00\",\"2021-03-05T00:00:00\",\"2021-03-08T00:00:00\",\"2021-03-09T00:00:00\",\"2021-03-10T00:00:00\",\"2021-03-12T00:00:00\",\"2021-03-15T00:00:00\",\"2021-03-16T00:00:00\",\"2021-03-17T00:00:00\",\"2021-03-18T00:00:00\",\"2021-03-19T00:00:00\",\"2021-03-22T00:00:00\",\"2021-03-23T00:00:00\",\"2021-03-24T00:00:00\",\"2021-03-25T00:00:00\",\"2021-03-26T00:00:00\",\"2021-03-29T00:00:00\",\"2021-03-30T00:00:00\",\"2021-03-31T00:00:00\",\"2021-04-01T00:00:00\",\"2021-04-05T00:00:00\",\"2021-04-06T00:00:00\",\"2021-04-07T00:00:00\",\"2021-04-08T00:00:00\",\"2021-04-09T00:00:00\",\"2021-04-12T00:00:00\",\"2021-04-13T00:00:00\",\"2021-04-14T00:00:00\",\"2021-04-15T00:00:00\",\"2021-04-16T00:00:00\",\"2021-04-19T00:00:00\",\"2021-04-20T00:00:00\",\"2021-04-21T00:00:00\",\"2021-04-22T00:00:00\",\"2021-04-23T00:00:00\",\"2021-04-26T00:00:00\",\"2021-04-27T00:00:00\",\"2021-04-28T00:00:00\",\"2021-04-29T00:00:00\",\"2021-04-30T00:00:00\",\"2021-05-03T00:00:00\",\"2021-05-04T00:00:00\",\"2021-05-05T00:00:00\",\"2021-05-06T00:00:00\",\"2021-05-07T00:00:00\",\"2021-05-10T00:00:00\",\"2021-05-11T00:00:00\",\"2021-05-17T00:00:00\",\"2021-05-18T00:00:00\",\"2021-05-19T00:00:00\",\"2021-05-20T00:00:00\",\"2021-05-21T00:00:00\",\"2021-05-24T00:00:00\",\"2021-05-25T00:00:00\",\"2021-05-27T00:00:00\",\"2021-05-28T00:00:00\",\"2021-05-31T00:00:00\",\"2021-06-02T00:00:00\",\"2021-06-03T00:00:00\",\"2021-06-04T00:00:00\",\"2021-06-07T00:00:00\",\"2021-06-08T00:00:00\",\"2021-06-09T00:00:00\",\"2021-06-10T00:00:00\",\"2021-06-11T00:00:00\",\"2021-06-14T00:00:00\",\"2021-06-15T00:00:00\",\"2021-06-16T00:00:00\",\"2021-06-17T00:00:00\",\"2021-06-18T00:00:00\",\"2021-06-21T00:00:00\",\"2021-06-22T00:00:00\",\"2021-06-23T00:00:00\",\"2021-06-24T00:00:00\",\"2021-06-25T00:00:00\",\"2021-06-28T00:00:00\",\"2021-06-29T00:00:00\",\"2021-06-30T00:00:00\",\"2021-07-01T00:00:00\",\"2021-07-02T00:00:00\",\"2021-07-05T00:00:00\",\"2021-07-06T00:00:00\",\"2021-07-07T00:00:00\",\"2021-07-08T00:00:00\",\"2021-07-09T00:00:00\",\"2021-07-12T00:00:00\",\"2021-07-13T00:00:00\",\"2021-07-14T00:00:00\",\"2021-07-15T00:00:00\",\"2021-07-16T00:00:00\",\"2021-07-19T00:00:00\",\"2021-07-21T00:00:00\",\"2021-07-22T00:00:00\",\"2021-07-23T00:00:00\",\"2021-07-26T00:00:00\",\"2021-07-27T00:00:00\",\"2021-07-28T00:00:00\",\"2021-07-29T00:00:00\",\"2021-07-30T00:00:00\",\"2021-08-02T00:00:00\",\"2021-08-03T00:00:00\",\"2021-08-04T00:00:00\",\"2021-08-05T00:00:00\",\"2021-08-06T00:00:00\",\"2021-08-09T00:00:00\",\"2021-08-10T00:00:00\",\"2021-08-12T00:00:00\",\"2021-08-13T00:00:00\",\"2021-08-16T00:00:00\",\"2021-08-18T00:00:00\",\"2021-08-19T00:00:00\",\"2021-08-20T00:00:00\",\"2021-08-23T00:00:00\",\"2021-08-24T00:00:00\",\"2021-08-25T00:00:00\",\"2021-08-26T00:00:00\",\"2021-08-27T00:00:00\",\"2021-08-30T00:00:00\",\"2021-08-31T00:00:00\",\"2021-09-01T00:00:00\",\"2021-09-02T00:00:00\",\"2021-09-03T00:00:00\",\"2021-09-06T00:00:00\",\"2021-09-07T00:00:00\",\"2021-09-08T00:00:00\",\"2021-09-09T00:00:00\",\"2021-09-10T00:00:00\",\"2021-09-13T00:00:00\",\"2021-09-14T00:00:00\",\"2021-09-15T00:00:00\",\"2021-09-16T00:00:00\",\"2021-09-17T00:00:00\",\"2021-09-20T00:00:00\",\"2021-09-21T00:00:00\",\"2021-09-22T00:00:00\",\"2021-09-23T00:00:00\",\"2021-09-24T00:00:00\",\"2021-09-27T00:00:00\",\"2021-09-28T00:00:00\",\"2021-09-29T00:00:00\",\"2021-09-30T00:00:00\",\"2021-10-01T00:00:00\",\"2021-10-04T00:00:00\",\"2021-10-05T00:00:00\",\"2021-10-06T00:00:00\",\"2021-10-07T00:00:00\",\"2021-10-08T00:00:00\",\"2021-10-11T00:00:00\",\"2021-10-12T00:00:00\",\"2021-10-13T00:00:00\",\"2021-10-14T00:00:00\",\"2021-10-15T00:00:00\",\"2021-10-18T00:00:00\",\"2021-10-19T00:00:00\",\"2021-10-21T00:00:00\",\"2021-10-22T00:00:00\",\"2021-10-25T00:00:00\",\"2021-10-26T00:00:00\",\"2021-10-27T00:00:00\",\"2021-10-28T00:00:00\",\"2021-10-29T00:00:00\",\"2021-11-01T00:00:00\",\"2021-11-02T00:00:00\",\"2021-11-03T00:00:00\",\"2021-11-04T00:00:00\",\"2021-11-05T00:00:00\",\"2021-11-08T00:00:00\",\"2021-11-09T00:00:00\",\"2021-11-10T00:00:00\",\"2021-11-11T00:00:00\",\"2021-11-12T00:00:00\",\"2021-11-15T00:00:00\",\"2021-11-16T00:00:00\",\"2021-11-17T00:00:00\",\"2021-11-18T00:00:00\",\"2021-11-19T00:00:00\",\"2021-11-22T00:00:00\",\"2021-11-23T00:00:00\",\"2021-11-24T00:00:00\",\"2021-11-25T00:00:00\",\"2021-11-26T00:00:00\",\"2021-11-29T00:00:00\",\"2021-11-30T00:00:00\",\"2021-12-01T00:00:00\",\"2021-12-02T00:00:00\",\"2021-12-03T00:00:00\",\"2021-12-06T00:00:00\",\"2021-12-07T00:00:00\",\"2021-12-08T00:00:00\",\"2021-12-09T00:00:00\",\"2021-12-10T00:00:00\",\"2021-12-13T00:00:00\",\"2021-12-14T00:00:00\",\"2021-12-15T00:00:00\",\"2021-12-16T00:00:00\",\"2021-12-17T00:00:00\",\"2021-12-20T00:00:00\",\"2021-12-21T00:00:00\",\"2021-12-22T00:00:00\",\"2021-12-23T00:00:00\",\"2021-12-24T00:00:00\",\"2021-12-27T00:00:00\",\"2021-12-28T00:00:00\",\"2021-12-29T00:00:00\",\"2021-12-30T00:00:00\",\"2022-01-03T00:00:00\",\"2022-01-04T00:00:00\",\"2022-01-05T00:00:00\",\"2022-01-06T00:00:00\",\"2022-01-07T00:00:00\",\"2022-01-10T00:00:00\",\"2022-01-11T00:00:00\",\"2022-01-12T00:00:00\",\"2022-01-13T00:00:00\",\"2022-01-14T00:00:00\",\"2022-01-17T00:00:00\",\"2022-01-18T00:00:00\",\"2022-01-19T00:00:00\",\"2022-01-20T00:00:00\",\"2022-01-21T00:00:00\",\"2022-01-24T00:00:00\",\"2022-01-25T00:00:00\",\"2022-01-26T00:00:00\",\"2022-01-27T00:00:00\",\"2022-01-28T00:00:00\",\"2022-01-31T00:00:00\",\"2022-02-02T00:00:00\",\"2022-02-03T00:00:00\",\"2022-02-04T00:00:00\",\"2022-02-07T00:00:00\",\"2022-02-08T00:00:00\",\"2022-02-09T00:00:00\",\"2022-02-10T00:00:00\",\"2022-02-11T00:00:00\",\"2022-02-14T00:00:00\",\"2022-02-15T00:00:00\",\"2022-02-16T00:00:00\",\"2022-02-17T00:00:00\",\"2022-02-18T00:00:00\",\"2022-02-21T00:00:00\",\"2022-02-22T00:00:00\",\"2022-02-23T00:00:00\",\"2022-02-24T00:00:00\",\"2022-02-25T00:00:00\",\"2022-03-01T00:00:00\",\"2022-03-02T00:00:00\",\"2022-03-04T00:00:00\",\"2022-03-07T00:00:00\",\"2022-03-08T00:00:00\",\"2022-03-09T00:00:00\",\"2022-03-10T00:00:00\",\"2022-03-11T00:00:00\",\"2022-03-14T00:00:00\",\"2022-03-15T00:00:00\",\"2022-03-16T00:00:00\",\"2022-03-17T00:00:00\",\"2022-03-18T00:00:00\",\"2022-03-21T00:00:00\",\"2022-03-22T00:00:00\",\"2022-03-23T00:00:00\",\"2022-03-24T00:00:00\",\"2022-03-25T00:00:00\",\"2022-03-28T00:00:00\",\"2022-03-29T00:00:00\",\"2022-03-30T00:00:00\",\"2022-03-31T00:00:00\",\"2022-04-01T00:00:00\",\"2022-04-04T00:00:00\",\"2022-04-05T00:00:00\",\"2022-04-06T00:00:00\",\"2022-04-07T00:00:00\",\"2022-04-08T00:00:00\",\"2022-04-11T00:00:00\",\"2022-04-12T00:00:00\",\"2022-04-13T00:00:00\",\"2022-04-14T00:00:00\",\"2022-04-18T00:00:00\",\"2022-04-19T00:00:00\",\"2022-04-20T00:00:00\",\"2022-04-21T00:00:00\",\"2022-04-22T00:00:00\",\"2022-04-25T00:00:00\",\"2022-04-26T00:00:00\",\"2022-04-27T00:00:00\",\"2022-04-28T00:00:00\",\"2022-05-09T00:00:00\",\"2022-05-10T00:00:00\",\"2022-05-11T00:00:00\",\"2022-05-12T00:00:00\",\"2022-05-13T00:00:00\",\"2022-05-17T00:00:00\",\"2022-05-18T00:00:00\",\"2022-05-19T00:00:00\",\"2022-05-20T00:00:00\",\"2022-05-23T00:00:00\",\"2022-05-24T00:00:00\",\"2022-05-25T00:00:00\",\"2022-05-27T00:00:00\",\"2022-05-30T00:00:00\",\"2022-05-31T00:00:00\",\"2022-06-02T00:00:00\",\"2022-06-03T00:00:00\",\"2022-06-06T00:00:00\",\"2022-06-07T00:00:00\",\"2022-06-08T00:00:00\",\"2022-06-09T00:00:00\",\"2022-06-10T00:00:00\",\"2022-06-13T00:00:00\",\"2022-06-14T00:00:00\",\"2022-06-15T00:00:00\",\"2022-06-16T00:00:00\",\"2022-06-17T00:00:00\",\"2022-06-20T00:00:00\",\"2022-06-21T00:00:00\",\"2022-06-22T00:00:00\",\"2022-06-23T00:00:00\",\"2022-06-24T00:00:00\",\"2022-06-27T00:00:00\",\"2022-06-28T00:00:00\",\"2022-06-29T00:00:00\",\"2022-06-30T00:00:00\",\"2022-07-01T00:00:00\",\"2022-07-04T00:00:00\",\"2022-07-05T00:00:00\",\"2022-07-06T00:00:00\",\"2022-07-07T00:00:00\",\"2022-07-08T00:00:00\",\"2022-07-11T00:00:00\",\"2022-07-12T00:00:00\",\"2022-07-13T00:00:00\",\"2022-07-14T00:00:00\",\"2022-07-15T00:00:00\",\"2022-07-18T00:00:00\",\"2022-07-19T00:00:00\",\"2022-07-20T00:00:00\",\"2022-07-21T00:00:00\",\"2022-07-22T00:00:00\",\"2022-07-25T00:00:00\",\"2022-07-26T00:00:00\",\"2022-07-27T00:00:00\",\"2022-07-28T00:00:00\",\"2022-07-29T00:00:00\",\"2022-08-01T00:00:00\",\"2022-08-02T00:00:00\",\"2022-08-03T00:00:00\",\"2022-08-04T00:00:00\",\"2022-08-05T00:00:00\",\"2022-08-08T00:00:00\",\"2022-08-09T00:00:00\",\"2022-08-10T00:00:00\",\"2022-08-11T00:00:00\",\"2022-08-12T00:00:00\",\"2022-08-15T00:00:00\",\"2022-08-16T00:00:00\",\"2022-08-18T00:00:00\",\"2022-08-19T00:00:00\",\"2022-08-22T00:00:00\",\"2022-08-23T00:00:00\",\"2022-08-24T00:00:00\",\"2022-08-25T00:00:00\",\"2022-08-26T00:00:00\",\"2022-08-29T00:00:00\",\"2022-08-30T00:00:00\",\"2022-08-31T00:00:00\",\"2022-09-01T00:00:00\",\"2022-09-02T00:00:00\",\"2022-09-05T00:00:00\",\"2022-09-06T00:00:00\",\"2022-09-07T00:00:00\",\"2022-09-08T00:00:00\",\"2022-09-09T00:00:00\",\"2022-09-12T00:00:00\",\"2022-09-13T00:00:00\",\"2022-09-14T00:00:00\"],\"y\":[3130.0,3160.0,3090.0,3000.0,3050.0,3120.0,3050.0,3030.0,3070.0,3080.0,3100.0,3140.0,3100.0,3350.0,3260.0,3320.0,3220.0,3150.0,3210.0,3100.0,3080.0,3060.0,3020.0,3100.0,3250.0,3180.0,3130.0,3150.0,3130.0,3080.0,3120.0,3230.0,3250.0,3200.0,3220.0,3140.0,3100.0,3060.0,2970.0,3030.0,3130.0,3140.0,3180.0,3250.0,3180.0,3120.0,3140.0,3140.0,3180.0,3160.0,3050.0,3010.0,3040.0,3110.0,3040.0,3050.0,3110.0,3110.0,3100.0,3080.0,3070.0,3080.0,3080.0,3060.0,3040.0,3050.0,3060.0,3060.0,3020.0,3020.0,3010.0,3000.0,3000.0,2850.0,2920.0,2920.0,3000.0,2970.0,2970.0,2930.0,2920.0,2950.0,3000.0,3000.0,3000.0,2990.0,2980.0,2980.0,2970.0,2940.0,2860.0,2860.0,2900.0,2880.0,2840.0,2870.0,2860.0,2800.0,2620.0,2650.0,2820.0,2810.0,2770.0,2780.0,2840.0,2800.0,2750.0,2740.0,2710.0,2670.0,2660.0,2630.0,2540.0,2600.0,2650.0,2640.0,2620.0,2620.0,2650.0,2700.0,2710.0,2680.0,2710.0,2760.0,2720.0,2710.0,2670.0,2670.0,2650.0,2630.0,2630.0,2620.0,2550.0,2540.0,2580.0,2620.0,2750.0,2840.0,2860.0,2880.0,3010.0,2950.0,3020.0,3100.0,3160.0,3140.0,3180.0,3220.0,3330.0,3280.0,3280.0,3420.0,3220.0,3160.0,3240.0,3280.0,3210.0,3260.0,3290.0,3250.0,3250.0,3250.0,3290.0,3500.0,3520.0,3500.0,3510.0,3340.0,3240.0,3280.0,3400.0,3310.0,3310.0,3420.0,3330.0,3380.0,3440.0,3570.0,3500.0,3460.0,3470.0,3450.0,3430.0,3370.0,3380.0,3460.0,3360.0,3310.0,3260.0,3260.0,3230.0,3110.0,3040.0,3250.0,3220.0,3260.0,3270.0,3270.0,3180.0,3160.0,3170.0,3200.0,3190.0,3140.0,3180.0,3170.0,3170.0,3200.0,3460.0,3450.0,3410.0,3470.0,3440.0,3420.0,3350.0,3320.0,3330.0,3280.0,3310.0,3430.0,3380.0,3360.0,3370.0,3430.0,3380.0,3380.0,3350.0,3320.0,3380.0,3390.0,3400.0,3360.0,3330.0,3380.0,3370.0,3370.0,3380.0,3380.0,3360.0,3300.0,3300.0,3320.0,3320.0,3320.0,3330.0,3300.0,3280.0,3290.0,3290.0,3250.0,3140.0,3130.0,3140.0,3200.0,3130.0,3170.0,3180.0,3150.0,3180.0,3160.0,3150.0,3150.0,3150.0,3150.0,3180.0,3270.0,3220.0,3270.0,3330.0,3260.0,3300.0,3420.0,3420.0,3450.0,3500.0,3470.0,3310.0,3340.0,3420.0,3400.0,3380.0,3380.0,3350.0,3290.0,3260.0,3290.0,3310.0,3240.0,3240.0,3170.0,3150.0,3130.0,3090.0,3060.0,3010.0,3000.0,3010.0,3000.0,3030.0,3110.0,3050.0,3020.0,3080.0,3110.0,3150.0,3180.0,3210.0,3150.0,3140.0,3160.0,3150.0,3200.0,3200.0,3210.0,3290.0,3310.0,3320.0,3310.0,3220.0,3190.0,3240.0,3260.0,3290.0,3350.0,3360.0,3370.0,3400.0,3310.0,3330.0,3320.0,3310.0,3330.0,3360.0,3330.0,3350.0,3370.0,3380.0,3360.0,3310.0,3330.0,3320.0,3300.0,3350.0,3410.0,3400.0,3390.0,3460.0,3480.0,3520.0,3550.0,3540.0,3480.0,3490.0,3490.0,3540.0,3610.0,3600.0,3620.0,3650.0,3690.0,3720.0,3770.0,3770.0,3750.0,3770.0,3750.0,3790.0,3720.0,3760.0,3820.0,3780.0,3780.0,3770.0,3710.0,3730.0,3700.0,3640.0,3620.0,3720.0,3710.0,3710.0,3680.0,3670.0,3640.0,3600.0,3600.0,3590.0,3600.0,3600.0,3660.0,3780.0,3780.0,3790.0,3850.0,3970.0,3980.0,3990.0,4020.0,4100.0,4050.0,4050.0,4120.0,4010.0,4080.0,4070.0,4080.0,4070.0,4060.0,4060.0,4010.0,4040.0,4100.0,4110.0,4100.0,4100.0,4070.0,4050.0,4080.0,4040.0,4050.0,4150.0,4030.0,4030.0,4090.0,4100.0,4090.0,4070.0,4110.0,4130.0,4140.0,4160.0,4230.0,4190.0,4190.0,4250.0,4250.0,4290.0,4260.0,4230.0,4190.0,4150.0,4160.0,4180.0,4210.0,4230.0,4210.0,4340.0,4410.0,4310.0,4360.0,4380.0,4360.0,4370.0,4340.0,4250.0,4270.0,4200.0,4240.0,4350.0,4270.0,4300.0,4370.0,4540.0,4420.0,4380.0,4400.0,4540.0,4570.0,4550.0,4450.0,4470.0,4520.0,4540.0,4500.0,4500.0,4480.0,4500.0,4560.0,4560.0,4560.0,4530.0,4490.0,4500.0,4420.0,4440.0,4560.0,4550.0,4580.0,4650.0,4660.0,4690.0,4680.0,4620.0,4600.0,4580.0,4580.0,4670.0,4720.0,4620.0,4300.0,4120.0,4330.0,4250.0,4230.0,4180.0,4190.0,4150.0,4170.0,4070.0,4120.0,4150.0,4210.0,4200.0,4230.0,4270.0,4300.0,4270.0,4250.0,4080.0,4050.0,4000.0,3930.0,4020.0,4030.0,4030.0,3980.0,4000.0,4030.0,4040.0,4030.0,4100.0,4040.0,4000.0,4000.0,4000.0,4000.0,3840.0,3950.0,3970.0,4010.0,4000.0,4000.0,4010.0,3930.0,3900.0,4010.0,4070.0,4130.0,4140.0,4180.0,4190.0,4220.0,4190.0,4210.0,4190.0,4210.0,4230.0,4250.0,4410.0,4450.0,4530.0,4650.0,4630.0,4490.0,4520.0,4530.0,4440.0,4410.0,4350.0,4460.0,4530.0,4610.0,4600.0,4560.0,4480.0,4360.0,4480.0,4420.0,4530.0,4540.0,4550.0,4510.0,4480.0,4500.0,4530.0,4530.0,4520.0,4460.0],\"type\":\"scatter\"}],                        {\"template\":{\"data\":{\"histogram2dcontour\":[{\"type\":\"histogram2dcontour\",\"colorbar\":{\"outlinewidth\":0,\"ticks\":\"\"},\"colorscale\":[[0.0,\"#0d0887\"],[0.1111111111111111,\"#46039f\"],[0.2222222222222222,\"#7201a8\"],[0.3333333333333333,\"#9c179e\"],[0.4444444444444444,\"#bd3786\"],[0.5555555555555556,\"#d8576b\"],[0.6666666666666666,\"#ed7953\"],[0.7777777777777778,\"#fb9f3a\"],[0.8888888888888888,\"#fdca26\"],[1.0,\"#f0f921\"]]}],\"choropleth\":[{\"type\":\"choropleth\",\"colorbar\":{\"outlinewidth\":0,\"ticks\":\"\"}}],\"histogram2d\":[{\"type\":\"histogram2d\",\"colorbar\":{\"outlinewidth\":0,\"ticks\":\"\"},\"colorscale\":[[0.0,\"#0d0887\"],[0.1111111111111111,\"#46039f\"],[0.2222222222222222,\"#7201a8\"],[0.3333333333333333,\"#9c179e\"],[0.4444444444444444,\"#bd3786\"],[0.5555555555555556,\"#d8576b\"],[0.6666666666666666,\"#ed7953\"],[0.7777777777777778,\"#fb9f3a\"],[0.8888888888888888,\"#fdca26\"],[1.0,\"#f0f921\"]]}],\"heatmap\":[{\"type\":\"heatmap\",\"colorbar\":{\"outlinewidth\":0,\"ticks\":\"\"},\"colorscale\":[[0.0,\"#0d0887\"],[0.1111111111111111,\"#46039f\"],[0.2222222222222222,\"#7201a8\"],[0.3333333333333333,\"#9c179e\"],[0.4444444444444444,\"#bd3786\"],[0.5555555555555556,\"#d8576b\"],[0.6666666666666666,\"#ed7953\"],[0.7777777777777778,\"#fb9f3a\"],[0.8888888888888888,\"#fdca26\"],[1.0,\"#f0f921\"]]}],\"heatmapgl\":[{\"type\":\"heatmapgl\",\"colorbar\":{\"outlinewidth\":0,\"ticks\":\"\"},\"colorscale\":[[0.0,\"#0d0887\"],[0.1111111111111111,\"#46039f\"],[0.2222222222222222,\"#7201a8\"],[0.3333333333333333,\"#9c179e\"],[0.4444444444444444,\"#bd3786\"],[0.5555555555555556,\"#d8576b\"],[0.6666666666666666,\"#ed7953\"],[0.7777777777777778,\"#fb9f3a\"],[0.8888888888888888,\"#fdca26\"],[1.0,\"#f0f921\"]]}],\"contourcarpet\":[{\"type\":\"contourcarpet\",\"colorbar\":{\"outlinewidth\":0,\"ticks\":\"\"}}],\"contour\":[{\"type\":\"contour\",\"colorbar\":{\"outlinewidth\":0,\"ticks\":\"\"},\"colorscale\":[[0.0,\"#0d0887\"],[0.1111111111111111,\"#46039f\"],[0.2222222222222222,\"#7201a8\"],[0.3333333333333333,\"#9c179e\"],[0.4444444444444444,\"#bd3786\"],[0.5555555555555556,\"#d8576b\"],[0.6666666666666666,\"#ed7953\"],[0.7777777777777778,\"#fb9f3a\"],[0.8888888888888888,\"#fdca26\"],[1.0,\"#f0f921\"]]}],\"surface\":[{\"type\":\"surface\",\"colorbar\":{\"outlinewidth\":0,\"ticks\":\"\"},\"colorscale\":[[0.0,\"#0d0887\"],[0.1111111111111111,\"#46039f\"],[0.2222222222222222,\"#7201a8\"],[0.3333333333333333,\"#9c179e\"],[0.4444444444444444,\"#bd3786\"],[0.5555555555555556,\"#d8576b\"],[0.6666666666666666,\"#ed7953\"],[0.7777777777777778,\"#fb9f3a\"],[0.8888888888888888,\"#fdca26\"],[1.0,\"#f0f921\"]]}],\"mesh3d\":[{\"type\":\"mesh3d\",\"colorbar\":{\"outlinewidth\":0,\"ticks\":\"\"}}],\"scatter\":[{\"fillpattern\":{\"fillmode\":\"overlay\",\"size\":10,\"solidity\":0.2},\"type\":\"scatter\"}],\"parcoords\":[{\"type\":\"parcoords\",\"line\":{\"colorbar\":{\"outlinewidth\":0,\"ticks\":\"\"}}}],\"scatterpolargl\":[{\"type\":\"scatterpolargl\",\"marker\":{\"colorbar\":{\"outlinewidth\":0,\"ticks\":\"\"}}}],\"bar\":[{\"error_x\":{\"color\":\"#2a3f5f\"},\"error_y\":{\"color\":\"#2a3f5f\"},\"marker\":{\"line\":{\"color\":\"#E5ECF6\",\"width\":0.5},\"pattern\":{\"fillmode\":\"overlay\",\"size\":10,\"solidity\":0.2}},\"type\":\"bar\"}],\"scattergeo\":[{\"type\":\"scattergeo\",\"marker\":{\"colorbar\":{\"outlinewidth\":0,\"ticks\":\"\"}}}],\"scatterpolar\":[{\"type\":\"scatterpolar\",\"marker\":{\"colorbar\":{\"outlinewidth\":0,\"ticks\":\"\"}}}],\"histogram\":[{\"marker\":{\"pattern\":{\"fillmode\":\"overlay\",\"size\":10,\"solidity\":0.2}},\"type\":\"histogram\"}],\"scattergl\":[{\"type\":\"scattergl\",\"marker\":{\"colorbar\":{\"outlinewidth\":0,\"ticks\":\"\"}}}],\"scatter3d\":[{\"type\":\"scatter3d\",\"line\":{\"colorbar\":{\"outlinewidth\":0,\"ticks\":\"\"}},\"marker\":{\"colorbar\":{\"outlinewidth\":0,\"ticks\":\"\"}}}],\"scattermapbox\":[{\"type\":\"scattermapbox\",\"marker\":{\"colorbar\":{\"outlinewidth\":0,\"ticks\":\"\"}}}],\"scatterternary\":[{\"type\":\"scatterternary\",\"marker\":{\"colorbar\":{\"outlinewidth\":0,\"ticks\":\"\"}}}],\"scattercarpet\":[{\"type\":\"scattercarpet\",\"marker\":{\"colorbar\":{\"outlinewidth\":0,\"ticks\":\"\"}}}],\"carpet\":[{\"aaxis\":{\"endlinecolor\":\"#2a3f5f\",\"gridcolor\":\"white\",\"linecolor\":\"white\",\"minorgridcolor\":\"white\",\"startlinecolor\":\"#2a3f5f\"},\"baxis\":{\"endlinecolor\":\"#2a3f5f\",\"gridcolor\":\"white\",\"linecolor\":\"white\",\"minorgridcolor\":\"white\",\"startlinecolor\":\"#2a3f5f\"},\"type\":\"carpet\"}],\"table\":[{\"cells\":{\"fill\":{\"color\":\"#EBF0F8\"},\"line\":{\"color\":\"white\"}},\"header\":{\"fill\":{\"color\":\"#C8D4E3\"},\"line\":{\"color\":\"white\"}},\"type\":\"table\"}],\"barpolar\":[{\"marker\":{\"line\":{\"color\":\"#E5ECF6\",\"width\":0.5},\"pattern\":{\"fillmode\":\"overlay\",\"size\":10,\"solidity\":0.2}},\"type\":\"barpolar\"}],\"pie\":[{\"automargin\":true,\"type\":\"pie\"}]},\"layout\":{\"autotypenumbers\":\"strict\",\"colorway\":[\"#636efa\",\"#EF553B\",\"#00cc96\",\"#ab63fa\",\"#FFA15A\",\"#19d3f3\",\"#FF6692\",\"#B6E880\",\"#FF97FF\",\"#FECB52\"],\"font\":{\"color\":\"#2a3f5f\"},\"hovermode\":\"closest\",\"hoverlabel\":{\"align\":\"left\"},\"paper_bgcolor\":\"white\",\"plot_bgcolor\":\"#E5ECF6\",\"polar\":{\"bgcolor\":\"#E5ECF6\",\"angularaxis\":{\"gridcolor\":\"white\",\"linecolor\":\"white\",\"ticks\":\"\"},\"radialaxis\":{\"gridcolor\":\"white\",\"linecolor\":\"white\",\"ticks\":\"\"}},\"ternary\":{\"bgcolor\":\"#E5ECF6\",\"aaxis\":{\"gridcolor\":\"white\",\"linecolor\":\"white\",\"ticks\":\"\"},\"baxis\":{\"gridcolor\":\"white\",\"linecolor\":\"white\",\"ticks\":\"\"},\"caxis\":{\"gridcolor\":\"white\",\"linecolor\":\"white\",\"ticks\":\"\"}},\"coloraxis\":{\"colorbar\":{\"outlinewidth\":0,\"ticks\":\"\"}},\"colorscale\":{\"sequential\":[[0.0,\"#0d0887\"],[0.1111111111111111,\"#46039f\"],[0.2222222222222222,\"#7201a8\"],[0.3333333333333333,\"#9c179e\"],[0.4444444444444444,\"#bd3786\"],[0.5555555555555556,\"#d8576b\"],[0.6666666666666666,\"#ed7953\"],[0.7777777777777778,\"#fb9f3a\"],[0.8888888888888888,\"#fdca26\"],[1.0,\"#f0f921\"]],\"sequentialminus\":[[0.0,\"#0d0887\"],[0.1111111111111111,\"#46039f\"],[0.2222222222222222,\"#7201a8\"],[0.3333333333333333,\"#9c179e\"],[0.4444444444444444,\"#bd3786\"],[0.5555555555555556,\"#d8576b\"],[0.6666666666666666,\"#ed7953\"],[0.7777777777777778,\"#fb9f3a\"],[0.8888888888888888,\"#fdca26\"],[1.0,\"#f0f921\"]],\"diverging\":[[0,\"#8e0152\"],[0.1,\"#c51b7d\"],[0.2,\"#de77ae\"],[0.3,\"#f1b6da\"],[0.4,\"#fde0ef\"],[0.5,\"#f7f7f7\"],[0.6,\"#e6f5d0\"],[0.7,\"#b8e186\"],[0.8,\"#7fbc41\"],[0.9,\"#4d9221\"],[1,\"#276419\"]]},\"xaxis\":{\"gridcolor\":\"white\",\"linecolor\":\"white\",\"ticks\":\"\",\"title\":{\"standoff\":15},\"zerolinecolor\":\"white\",\"automargin\":true,\"zerolinewidth\":2},\"yaxis\":{\"gridcolor\":\"white\",\"linecolor\":\"white\",\"ticks\":\"\",\"title\":{\"standoff\":15},\"zerolinecolor\":\"white\",\"automargin\":true,\"zerolinewidth\":2},\"scene\":{\"xaxis\":{\"backgroundcolor\":\"#E5ECF6\",\"gridcolor\":\"white\",\"linecolor\":\"white\",\"showbackground\":true,\"ticks\":\"\",\"zerolinecolor\":\"white\",\"gridwidth\":2},\"yaxis\":{\"backgroundcolor\":\"#E5ECF6\",\"gridcolor\":\"white\",\"linecolor\":\"white\",\"showbackground\":true,\"ticks\":\"\",\"zerolinecolor\":\"white\",\"gridwidth\":2},\"zaxis\":{\"backgroundcolor\":\"#E5ECF6\",\"gridcolor\":\"white\",\"linecolor\":\"white\",\"showbackground\":true,\"ticks\":\"\",\"zerolinecolor\":\"white\",\"gridwidth\":2}},\"shapedefaults\":{\"line\":{\"color\":\"#2a3f5f\"}},\"annotationdefaults\":{\"arrowcolor\":\"#2a3f5f\",\"arrowhead\":0,\"arrowwidth\":1},\"geo\":{\"bgcolor\":\"white\",\"landcolor\":\"#E5ECF6\",\"subunitcolor\":\"white\",\"showland\":true,\"showlakes\":true,\"lakecolor\":\"white\"},\"title\":{\"x\":0.05},\"mapbox\":{\"style\":\"light\"}}},\"margin\":{\"l\":50,\"r\":50,\"b\":100,\"t\":100,\"pad\":4},\"title\":{\"text\":\"Data Normalized\"},\"xaxis\":{\"title\":{\"text\":\"Time\"}},\"yaxis\":{\"title\":{\"text\":\"Value\"}},\"autosize\":false,\"width\":600,\"height\":600,\"paper_bgcolor\":\"LightSteelBlue\",\"showlegend\":false},                        {\"responsive\": true}                    ).then(function(){\n",
              "                            \n",
              "var gd = document.getElementById('5de1a535-9be3-43c8-b732-6850511164ee');\n",
              "var x = new MutationObserver(function (mutations, observer) {{\n",
              "        var display = window.getComputedStyle(gd).display;\n",
              "        if (!display || display === 'none') {{\n",
              "            console.log([gd, 'removed!']);\n",
              "            Plotly.purge(gd);\n",
              "            observer.disconnect();\n",
              "        }}\n",
              "}});\n",
              "\n",
              "// Listen for the removal of the full notebook cells\n",
              "var notebookContainer = gd.closest('#notebook-container');\n",
              "if (notebookContainer) {{\n",
              "    x.observe(notebookContainer, {childList: true});\n",
              "}}\n",
              "\n",
              "// Listen for the clearing of the current output cell\n",
              "var outputEl = gd.closest('.output');\n",
              "if (outputEl) {{\n",
              "    x.observe(outputEl, {childList: true});\n",
              "}}\n",
              "\n",
              "                        })                };                            </script>        </div>\n",
              "</body>\n",
              "</html>"
            ]
          },
          "metadata": {}
        }
      ]
    },
    {
      "cell_type": "code",
      "source": [
        "minmax_scaler = MinMaxScaler(feature_range=(-1, 1))\n",
        "\n",
        "training_set_normalized = minmax_scaler.fit_transform(training_set)"
      ],
      "metadata": {
        "id": "qZ0EGDPQH7nL"
      },
      "execution_count": 98,
      "outputs": []
    },
    {
      "cell_type": "code",
      "source": [
        "plot_series_plotly(df_training['Date'], (training_set_normalized[:, 0],\n",
        "                                         training_set_normalized[:, 1],\n",
        "                                         training_set_normalized[:, 2]),\n",
        "                   series_name=predictors_and_target, figure_title='Data Normalized')"
      ],
      "metadata": {
        "colab": {
          "base_uri": "https://localhost:8080/",
          "height": 617
        },
        "id": "M3a6vl4EH905",
        "outputId": "a32e14b5-7d7c-4c4f-9f9f-8916d40f76b4"
      },
      "execution_count": 99,
      "outputs": [
        {
          "output_type": "display_data",
          "data": {
            "text/html": [
              "<html>\n",
              "<head><meta charset=\"utf-8\" /></head>\n",
              "<body>\n",
              "    <div>            <script src=\"https://cdnjs.cloudflare.com/ajax/libs/mathjax/2.7.5/MathJax.js?config=TeX-AMS-MML_SVG\"></script><script type=\"text/javascript\">if (window.MathJax && window.MathJax.Hub && window.MathJax.Hub.Config) {window.MathJax.Hub.Config({SVG: {font: \"STIX-Web\"}});}</script>                <script type=\"text/javascript\">window.PlotlyConfig = {MathJaxConfig: 'local'};</script>\n",
              "        <script src=\"https://cdn.plot.ly/plotly-2.18.2.min.js\"></script>                <div id=\"4bb30c7f-1667-4226-8cfd-a4ac09ee5db0\" class=\"plotly-graph-div\" style=\"height:600px; width:600px;\"></div>            <script type=\"text/javascript\">                                    window.PLOTLYENV=window.PLOTLYENV || {};                                    if (document.getElementById(\"4bb30c7f-1667-4226-8cfd-a4ac09ee5db0\")) {                    Plotly.newPlot(                        \"4bb30c7f-1667-4226-8cfd-a4ac09ee5db0\",                        [{\"mode\":\"lines\",\"name\":\"Volume\",\"x\":[\"2020-04-13T00:00:00\",\"2020-04-14T00:00:00\",\"2020-04-15T00:00:00\",\"2020-04-16T00:00:00\",\"2020-04-17T00:00:00\",\"2020-04-20T00:00:00\",\"2020-04-21T00:00:00\",\"2020-04-22T00:00:00\",\"2020-04-23T00:00:00\",\"2020-04-24T00:00:00\",\"2020-04-27T00:00:00\",\"2020-04-28T00:00:00\",\"2020-04-29T00:00:00\",\"2020-04-30T00:00:00\",\"2020-05-04T00:00:00\",\"2020-05-05T00:00:00\",\"2020-05-06T00:00:00\",\"2020-05-08T00:00:00\",\"2020-05-11T00:00:00\",\"2020-05-12T00:00:00\",\"2020-05-13T00:00:00\",\"2020-05-14T00:00:00\",\"2020-05-15T00:00:00\",\"2020-05-18T00:00:00\",\"2020-05-19T00:00:00\",\"2020-05-20T00:00:00\",\"2020-05-26T00:00:00\",\"2020-05-27T00:00:00\",\"2020-05-28T00:00:00\",\"2020-05-29T00:00:00\",\"2020-06-02T00:00:00\",\"2020-06-03T00:00:00\",\"2020-06-04T00:00:00\",\"2020-06-05T00:00:00\",\"2020-06-08T00:00:00\",\"2020-06-09T00:00:00\",\"2020-06-10T00:00:00\",\"2020-06-11T00:00:00\",\"2020-06-12T00:00:00\",\"2020-06-15T00:00:00\",\"2020-06-16T00:00:00\",\"2020-06-17T00:00:00\",\"2020-06-18T00:00:00\",\"2020-06-19T00:00:00\",\"2020-06-22T00:00:00\",\"2020-06-23T00:00:00\",\"2020-06-24T00:00:00\",\"2020-06-25T00:00:00\",\"2020-06-26T00:00:00\",\"2020-06-29T00:00:00\",\"2020-06-30T00:00:00\",\"2020-07-01T00:00:00\",\"2020-07-02T00:00:00\",\"2020-07-03T00:00:00\",\"2020-07-06T00:00:00\",\"2020-07-07T00:00:00\",\"2020-07-08T00:00:00\",\"2020-07-09T00:00:00\",\"2020-07-10T00:00:00\",\"2020-07-13T00:00:00\",\"2020-07-14T00:00:00\",\"2020-07-15T00:00:00\",\"2020-07-16T00:00:00\",\"2020-07-17T00:00:00\",\"2020-07-20T00:00:00\",\"2020-07-21T00:00:00\",\"2020-07-22T00:00:00\",\"2020-07-23T00:00:00\",\"2020-07-24T00:00:00\",\"2020-07-27T00:00:00\",\"2020-07-28T00:00:00\",\"2020-07-29T00:00:00\",\"2020-07-30T00:00:00\",\"2020-08-03T00:00:00\",\"2020-08-04T00:00:00\",\"2020-08-05T00:00:00\",\"2020-08-06T00:00:00\",\"2020-08-07T00:00:00\",\"2020-08-10T00:00:00\",\"2020-08-11T00:00:00\",\"2020-08-12T00:00:00\",\"2020-08-13T00:00:00\",\"2020-08-14T00:00:00\",\"2020-08-18T00:00:00\",\"2020-08-19T00:00:00\",\"2020-08-24T00:00:00\",\"2020-08-25T00:00:00\",\"2020-08-26T00:00:00\",\"2020-08-27T00:00:00\",\"2020-08-28T00:00:00\",\"2020-08-31T00:00:00\",\"2020-09-01T00:00:00\",\"2020-09-02T00:00:00\",\"2020-09-03T00:00:00\",\"2020-09-04T00:00:00\",\"2020-09-07T00:00:00\",\"2020-09-08T00:00:00\",\"2020-09-09T00:00:00\",\"2020-09-10T00:00:00\",\"2020-09-11T00:00:00\",\"2020-09-14T00:00:00\",\"2020-09-15T00:00:00\",\"2020-09-16T00:00:00\",\"2020-09-17T00:00:00\",\"2020-09-18T00:00:00\",\"2020-09-21T00:00:00\",\"2020-09-22T00:00:00\",\"2020-09-23T00:00:00\",\"2020-09-24T00:00:00\",\"2020-09-25T00:00:00\",\"2020-09-28T00:00:00\",\"2020-09-29T00:00:00\",\"2020-09-30T00:00:00\",\"2020-10-01T00:00:00\",\"2020-10-02T00:00:00\",\"2020-10-05T00:00:00\",\"2020-10-06T00:00:00\",\"2020-10-07T00:00:00\",\"2020-10-08T00:00:00\",\"2020-10-09T00:00:00\",\"2020-10-12T00:00:00\",\"2020-10-13T00:00:00\",\"2020-10-14T00:00:00\",\"2020-10-15T00:00:00\",\"2020-10-16T00:00:00\",\"2020-10-19T00:00:00\",\"2020-10-20T00:00:00\",\"2020-10-21T00:00:00\",\"2020-10-22T00:00:00\",\"2020-10-23T00:00:00\",\"2020-10-26T00:00:00\",\"2020-10-27T00:00:00\",\"2020-11-02T00:00:00\",\"2020-11-03T00:00:00\",\"2020-11-04T00:00:00\",\"2020-11-05T00:00:00\",\"2020-11-06T00:00:00\",\"2020-11-09T00:00:00\",\"2020-11-10T00:00:00\",\"2020-11-11T00:00:00\",\"2020-11-12T00:00:00\",\"2020-11-13T00:00:00\",\"2020-11-16T00:00:00\",\"2020-11-17T00:00:00\",\"2020-11-18T00:00:00\",\"2020-11-19T00:00:00\",\"2020-11-20T00:00:00\",\"2020-11-23T00:00:00\",\"2020-11-24T00:00:00\",\"2020-11-25T00:00:00\",\"2020-11-26T00:00:00\",\"2020-11-27T00:00:00\",\"2020-11-30T00:00:00\",\"2020-12-01T00:00:00\",\"2020-12-02T00:00:00\",\"2020-12-03T00:00:00\",\"2020-12-04T00:00:00\",\"2020-12-07T00:00:00\",\"2020-12-08T00:00:00\",\"2020-12-10T00:00:00\",\"2020-12-11T00:00:00\",\"2020-12-14T00:00:00\",\"2020-12-15T00:00:00\",\"2020-12-16T00:00:00\",\"2020-12-17T00:00:00\",\"2020-12-18T00:00:00\",\"2020-12-21T00:00:00\",\"2020-12-22T00:00:00\",\"2020-12-23T00:00:00\",\"2020-12-28T00:00:00\",\"2020-12-29T00:00:00\",\"2020-12-30T00:00:00\",\"2021-01-04T00:00:00\",\"2021-01-05T00:00:00\",\"2021-01-06T00:00:00\",\"2021-01-07T00:00:00\",\"2021-01-08T00:00:00\",\"2021-01-11T00:00:00\",\"2021-01-12T00:00:00\",\"2021-01-13T00:00:00\",\"2021-01-14T00:00:00\",\"2021-01-15T00:00:00\",\"2021-01-18T00:00:00\",\"2021-01-19T00:00:00\",\"2021-01-20T00:00:00\",\"2021-01-21T00:00:00\",\"2021-01-22T00:00:00\",\"2021-01-25T00:00:00\",\"2021-01-26T00:00:00\",\"2021-01-27T00:00:00\",\"2021-01-28T00:00:00\",\"2021-01-29T00:00:00\",\"2021-02-01T00:00:00\",\"2021-02-02T00:00:00\",\"2021-02-03T00:00:00\",\"2021-02-04T00:00:00\",\"2021-02-05T00:00:00\",\"2021-02-08T00:00:00\",\"2021-02-09T00:00:00\",\"2021-02-10T00:00:00\",\"2021-02-11T00:00:00\",\"2021-02-15T00:00:00\",\"2021-02-16T00:00:00\",\"2021-02-17T00:00:00\",\"2021-02-18T00:00:00\",\"2021-02-19T00:00:00\",\"2021-02-22T00:00:00\",\"2021-02-23T00:00:00\",\"2021-02-24T00:00:00\",\"2021-02-25T00:00:00\",\"2021-02-26T00:00:00\",\"2021-03-01T00:00:00\",\"2021-03-02T00:00:00\",\"2021-03-03T00:00:00\",\"2021-03-04T00:00:00\",\"2021-03-05T00:00:00\",\"2021-03-08T00:00:00\",\"2021-03-09T00:00:00\",\"2021-03-10T00:00:00\",\"2021-03-12T00:00:00\",\"2021-03-15T00:00:00\",\"2021-03-16T00:00:00\",\"2021-03-17T00:00:00\",\"2021-03-18T00:00:00\",\"2021-03-19T00:00:00\",\"2021-03-22T00:00:00\",\"2021-03-23T00:00:00\",\"2021-03-24T00:00:00\",\"2021-03-25T00:00:00\",\"2021-03-26T00:00:00\",\"2021-03-29T00:00:00\",\"2021-03-30T00:00:00\",\"2021-03-31T00:00:00\",\"2021-04-01T00:00:00\",\"2021-04-05T00:00:00\",\"2021-04-06T00:00:00\",\"2021-04-07T00:00:00\",\"2021-04-08T00:00:00\",\"2021-04-09T00:00:00\",\"2021-04-12T00:00:00\",\"2021-04-13T00:00:00\",\"2021-04-14T00:00:00\",\"2021-04-15T00:00:00\",\"2021-04-16T00:00:00\",\"2021-04-19T00:00:00\",\"2021-04-20T00:00:00\",\"2021-04-21T00:00:00\",\"2021-04-22T00:00:00\",\"2021-04-23T00:00:00\",\"2021-04-26T00:00:00\",\"2021-04-27T00:00:00\",\"2021-04-28T00:00:00\",\"2021-04-29T00:00:00\",\"2021-04-30T00:00:00\",\"2021-05-03T00:00:00\",\"2021-05-04T00:00:00\",\"2021-05-05T00:00:00\",\"2021-05-06T00:00:00\",\"2021-05-07T00:00:00\",\"2021-05-10T00:00:00\",\"2021-05-11T00:00:00\",\"2021-05-17T00:00:00\",\"2021-05-18T00:00:00\",\"2021-05-19T00:00:00\",\"2021-05-20T00:00:00\",\"2021-05-21T00:00:00\",\"2021-05-24T00:00:00\",\"2021-05-25T00:00:00\",\"2021-05-27T00:00:00\",\"2021-05-28T00:00:00\",\"2021-05-31T00:00:00\",\"2021-06-02T00:00:00\",\"2021-06-03T00:00:00\",\"2021-06-04T00:00:00\",\"2021-06-07T00:00:00\",\"2021-06-08T00:00:00\",\"2021-06-09T00:00:00\",\"2021-06-10T00:00:00\",\"2021-06-11T00:00:00\",\"2021-06-14T00:00:00\",\"2021-06-15T00:00:00\",\"2021-06-16T00:00:00\",\"2021-06-17T00:00:00\",\"2021-06-18T00:00:00\",\"2021-06-21T00:00:00\",\"2021-06-22T00:00:00\",\"2021-06-23T00:00:00\",\"2021-06-24T00:00:00\",\"2021-06-25T00:00:00\",\"2021-06-28T00:00:00\",\"2021-06-29T00:00:00\",\"2021-06-30T00:00:00\",\"2021-07-01T00:00:00\",\"2021-07-02T00:00:00\",\"2021-07-05T00:00:00\",\"2021-07-06T00:00:00\",\"2021-07-07T00:00:00\",\"2021-07-08T00:00:00\",\"2021-07-09T00:00:00\",\"2021-07-12T00:00:00\",\"2021-07-13T00:00:00\",\"2021-07-14T00:00:00\",\"2021-07-15T00:00:00\",\"2021-07-16T00:00:00\",\"2021-07-19T00:00:00\",\"2021-07-21T00:00:00\",\"2021-07-22T00:00:00\",\"2021-07-23T00:00:00\",\"2021-07-26T00:00:00\",\"2021-07-27T00:00:00\",\"2021-07-28T00:00:00\",\"2021-07-29T00:00:00\",\"2021-07-30T00:00:00\",\"2021-08-02T00:00:00\",\"2021-08-03T00:00:00\",\"2021-08-04T00:00:00\",\"2021-08-05T00:00:00\",\"2021-08-06T00:00:00\",\"2021-08-09T00:00:00\",\"2021-08-10T00:00:00\",\"2021-08-12T00:00:00\",\"2021-08-13T00:00:00\",\"2021-08-16T00:00:00\",\"2021-08-18T00:00:00\",\"2021-08-19T00:00:00\",\"2021-08-20T00:00:00\",\"2021-08-23T00:00:00\",\"2021-08-24T00:00:00\",\"2021-08-25T00:00:00\",\"2021-08-26T00:00:00\",\"2021-08-27T00:00:00\",\"2021-08-30T00:00:00\",\"2021-08-31T00:00:00\",\"2021-09-01T00:00:00\",\"2021-09-02T00:00:00\",\"2021-09-03T00:00:00\",\"2021-09-06T00:00:00\",\"2021-09-07T00:00:00\",\"2021-09-08T00:00:00\",\"2021-09-09T00:00:00\",\"2021-09-10T00:00:00\",\"2021-09-13T00:00:00\",\"2021-09-14T00:00:00\",\"2021-09-15T00:00:00\",\"2021-09-16T00:00:00\",\"2021-09-17T00:00:00\",\"2021-09-20T00:00:00\",\"2021-09-21T00:00:00\",\"2021-09-22T00:00:00\",\"2021-09-23T00:00:00\",\"2021-09-24T00:00:00\",\"2021-09-27T00:00:00\",\"2021-09-28T00:00:00\",\"2021-09-29T00:00:00\",\"2021-09-30T00:00:00\",\"2021-10-01T00:00:00\",\"2021-10-04T00:00:00\",\"2021-10-05T00:00:00\",\"2021-10-06T00:00:00\",\"2021-10-07T00:00:00\",\"2021-10-08T00:00:00\",\"2021-10-11T00:00:00\",\"2021-10-12T00:00:00\",\"2021-10-13T00:00:00\",\"2021-10-14T00:00:00\",\"2021-10-15T00:00:00\",\"2021-10-18T00:00:00\",\"2021-10-19T00:00:00\",\"2021-10-21T00:00:00\",\"2021-10-22T00:00:00\",\"2021-10-25T00:00:00\",\"2021-10-26T00:00:00\",\"2021-10-27T00:00:00\",\"2021-10-28T00:00:00\",\"2021-10-29T00:00:00\",\"2021-11-01T00:00:00\",\"2021-11-02T00:00:00\",\"2021-11-03T00:00:00\",\"2021-11-04T00:00:00\",\"2021-11-05T00:00:00\",\"2021-11-08T00:00:00\",\"2021-11-09T00:00:00\",\"2021-11-10T00:00:00\",\"2021-11-11T00:00:00\",\"2021-11-12T00:00:00\",\"2021-11-15T00:00:00\",\"2021-11-16T00:00:00\",\"2021-11-17T00:00:00\",\"2021-11-18T00:00:00\",\"2021-11-19T00:00:00\",\"2021-11-22T00:00:00\",\"2021-11-23T00:00:00\",\"2021-11-24T00:00:00\",\"2021-11-25T00:00:00\",\"2021-11-26T00:00:00\",\"2021-11-29T00:00:00\",\"2021-11-30T00:00:00\",\"2021-12-01T00:00:00\",\"2021-12-02T00:00:00\",\"2021-12-03T00:00:00\",\"2021-12-06T00:00:00\",\"2021-12-07T00:00:00\",\"2021-12-08T00:00:00\",\"2021-12-09T00:00:00\",\"2021-12-10T00:00:00\",\"2021-12-13T00:00:00\",\"2021-12-14T00:00:00\",\"2021-12-15T00:00:00\",\"2021-12-16T00:00:00\",\"2021-12-17T00:00:00\",\"2021-12-20T00:00:00\",\"2021-12-21T00:00:00\",\"2021-12-22T00:00:00\",\"2021-12-23T00:00:00\",\"2021-12-24T00:00:00\",\"2021-12-27T00:00:00\",\"2021-12-28T00:00:00\",\"2021-12-29T00:00:00\",\"2021-12-30T00:00:00\",\"2022-01-03T00:00:00\",\"2022-01-04T00:00:00\",\"2022-01-05T00:00:00\",\"2022-01-06T00:00:00\",\"2022-01-07T00:00:00\",\"2022-01-10T00:00:00\",\"2022-01-11T00:00:00\",\"2022-01-12T00:00:00\",\"2022-01-13T00:00:00\",\"2022-01-14T00:00:00\",\"2022-01-17T00:00:00\",\"2022-01-18T00:00:00\",\"2022-01-19T00:00:00\",\"2022-01-20T00:00:00\",\"2022-01-21T00:00:00\",\"2022-01-24T00:00:00\",\"2022-01-25T00:00:00\",\"2022-01-26T00:00:00\",\"2022-01-27T00:00:00\",\"2022-01-28T00:00:00\",\"2022-01-31T00:00:00\",\"2022-02-02T00:00:00\",\"2022-02-03T00:00:00\",\"2022-02-04T00:00:00\",\"2022-02-07T00:00:00\",\"2022-02-08T00:00:00\",\"2022-02-09T00:00:00\",\"2022-02-10T00:00:00\",\"2022-02-11T00:00:00\",\"2022-02-14T00:00:00\",\"2022-02-15T00:00:00\",\"2022-02-16T00:00:00\",\"2022-02-17T00:00:00\",\"2022-02-18T00:00:00\",\"2022-02-21T00:00:00\",\"2022-02-22T00:00:00\",\"2022-02-23T00:00:00\",\"2022-02-24T00:00:00\",\"2022-02-25T00:00:00\",\"2022-03-01T00:00:00\",\"2022-03-02T00:00:00\",\"2022-03-04T00:00:00\",\"2022-03-07T00:00:00\",\"2022-03-08T00:00:00\",\"2022-03-09T00:00:00\",\"2022-03-10T00:00:00\",\"2022-03-11T00:00:00\",\"2022-03-14T00:00:00\",\"2022-03-15T00:00:00\",\"2022-03-16T00:00:00\",\"2022-03-17T00:00:00\",\"2022-03-18T00:00:00\",\"2022-03-21T00:00:00\",\"2022-03-22T00:00:00\",\"2022-03-23T00:00:00\",\"2022-03-24T00:00:00\",\"2022-03-25T00:00:00\",\"2022-03-28T00:00:00\",\"2022-03-29T00:00:00\",\"2022-03-30T00:00:00\",\"2022-03-31T00:00:00\",\"2022-04-01T00:00:00\",\"2022-04-04T00:00:00\",\"2022-04-05T00:00:00\",\"2022-04-06T00:00:00\",\"2022-04-07T00:00:00\",\"2022-04-08T00:00:00\",\"2022-04-11T00:00:00\",\"2022-04-12T00:00:00\",\"2022-04-13T00:00:00\",\"2022-04-14T00:00:00\",\"2022-04-18T00:00:00\",\"2022-04-19T00:00:00\",\"2022-04-20T00:00:00\",\"2022-04-21T00:00:00\",\"2022-04-22T00:00:00\",\"2022-04-25T00:00:00\",\"2022-04-26T00:00:00\",\"2022-04-27T00:00:00\",\"2022-04-28T00:00:00\",\"2022-05-09T00:00:00\",\"2022-05-10T00:00:00\",\"2022-05-11T00:00:00\",\"2022-05-12T00:00:00\",\"2022-05-13T00:00:00\",\"2022-05-17T00:00:00\",\"2022-05-18T00:00:00\",\"2022-05-19T00:00:00\",\"2022-05-20T00:00:00\",\"2022-05-23T00:00:00\",\"2022-05-24T00:00:00\",\"2022-05-25T00:00:00\",\"2022-05-27T00:00:00\",\"2022-05-30T00:00:00\",\"2022-05-31T00:00:00\",\"2022-06-02T00:00:00\",\"2022-06-03T00:00:00\",\"2022-06-06T00:00:00\",\"2022-06-07T00:00:00\",\"2022-06-08T00:00:00\",\"2022-06-09T00:00:00\",\"2022-06-10T00:00:00\",\"2022-06-13T00:00:00\",\"2022-06-14T00:00:00\",\"2022-06-15T00:00:00\",\"2022-06-16T00:00:00\",\"2022-06-17T00:00:00\",\"2022-06-20T00:00:00\",\"2022-06-21T00:00:00\",\"2022-06-22T00:00:00\",\"2022-06-23T00:00:00\",\"2022-06-24T00:00:00\",\"2022-06-27T00:00:00\",\"2022-06-28T00:00:00\",\"2022-06-29T00:00:00\",\"2022-06-30T00:00:00\",\"2022-07-01T00:00:00\",\"2022-07-04T00:00:00\",\"2022-07-05T00:00:00\",\"2022-07-06T00:00:00\",\"2022-07-07T00:00:00\",\"2022-07-08T00:00:00\",\"2022-07-11T00:00:00\",\"2022-07-12T00:00:00\",\"2022-07-13T00:00:00\",\"2022-07-14T00:00:00\",\"2022-07-15T00:00:00\",\"2022-07-18T00:00:00\",\"2022-07-19T00:00:00\",\"2022-07-20T00:00:00\",\"2022-07-21T00:00:00\",\"2022-07-22T00:00:00\",\"2022-07-25T00:00:00\",\"2022-07-26T00:00:00\",\"2022-07-27T00:00:00\",\"2022-07-28T00:00:00\",\"2022-07-29T00:00:00\",\"2022-08-01T00:00:00\",\"2022-08-02T00:00:00\",\"2022-08-03T00:00:00\",\"2022-08-04T00:00:00\",\"2022-08-05T00:00:00\",\"2022-08-08T00:00:00\",\"2022-08-09T00:00:00\",\"2022-08-10T00:00:00\",\"2022-08-11T00:00:00\",\"2022-08-12T00:00:00\",\"2022-08-15T00:00:00\",\"2022-08-16T00:00:00\",\"2022-08-18T00:00:00\",\"2022-08-19T00:00:00\",\"2022-08-22T00:00:00\",\"2022-08-23T00:00:00\",\"2022-08-24T00:00:00\",\"2022-08-25T00:00:00\",\"2022-08-26T00:00:00\",\"2022-08-29T00:00:00\",\"2022-08-30T00:00:00\",\"2022-08-31T00:00:00\",\"2022-09-01T00:00:00\",\"2022-09-02T00:00:00\",\"2022-09-05T00:00:00\",\"2022-09-06T00:00:00\",\"2022-09-07T00:00:00\",\"2022-09-08T00:00:00\",\"2022-09-09T00:00:00\",\"2022-09-12T00:00:00\",\"2022-09-13T00:00:00\",\"2022-09-14T00:00:00\"],\"y\":[-0.9335944659270417,-0.8211717886580241,-0.8521889276772983,-0.7193654962479942,-0.658291210457333,-0.8272120879497249,-0.9410461843816647,-0.6635776836052003,-0.6932722854448234,-0.8046424129119459,-0.7999176338012168,-0.8175025666343384,-0.5679333184639791,-0.5403063922351898,-0.7213499703030593,-0.8381392256073672,-0.7968448566652717,-0.605750597489084,-0.8901438735336353,-0.6211402121639673,-0.8408056851055015,-0.746100929501718,-0.702085635786025,-0.7218839304882746,-0.7601155465782525,-0.831289632467987,-0.7320281715789835,-0.6555061302672391,-0.49280799403220976,-0.16298566610948362,-0.5014773288290886,-0.36310779530078285,-0.5251413215180442,-0.45593333182969087,-0.344928088293892,-0.513426609294349,-0.2051157261800045,-0.49821208544365403,-0.21646455204399329,-0.2781526581476962,-0.4358710643199819,-0.4914720911407886,-0.29833187563539354,-0.3258244764608933,-0.5516458621009396,-0.5266035303856927,-0.5144921906652199,-0.7484355852051596,-0.7487633792863212,-0.5622158011115261,-0.2232105609171552,-0.5908712188610242,-0.4895574529297223,-0.7445912723572856,-0.2549400923737756,-0.5204780246814575,-0.5570262293739919,-0.6647054155358022,-0.7666804500569296,-0.8257852982182672,-0.713150106132105,-0.7436857453848615,-0.7782798830166078,-0.7098965577444694,-0.8692185151863724,-0.747095004314619,-0.8534249218732379,-0.8500166653718634,-0.6268660830862766,-0.8893562989675824,-0.7423451644943209,-0.7034285556761255,-0.7654688482849704,-0.23125872425951877,-0.7646902955743623,-0.6821533498232804,-0.8459504817086059,-0.8237360004611172,-0.8667127783722736,-0.49846202425375485,-0.7148468832413188,-0.5478697143830932,-0.7747496643953311,-0.6198711378313966,-0.7380838414392199,-0.8291935547196417,-0.751339286087213,-0.6763185483500447,-0.7420694966890626,-0.548996109742518,-0.40300377664893217,-0.7829097655737691,-0.7260239597090619,-0.6741773613244753,-0.6058017213366047,-0.8776686523102215,-0.8179854029720331,-0.7233254225026795,-0.12487935356735036,-0.4247374264154916,-0.6592859535558224,-0.7306147475592958,-0.8579315057393202,-0.760548929782398,-0.5438262524298447,-0.7503652598419672,-0.8319412109167793,-0.7983207653874846,-0.8365350060521615,-0.4808329845717919,-0.7872826923221505,-0.5647529473482846,-0.2982483399368304,-0.3336861881240639,-0.6171866346223728,-0.6687839624824472,-0.5877302765950516,-0.7173489444846809,-0.5689835292663143,-0.7209032213871438,-0.8266366940580223,-0.760722349892615,-0.47325596256932423,-0.6228637206967211,-0.6338500016289462,-0.4578720283219433,-0.5234622539769258,-0.6105559050132279,-0.2261810903580591,-0.5296609369531023,-0.759660778235275,-0.5964540766673936,0.22267693487473394,-0.4544186625433446,-0.5820471759504066,0.1483294948679843,-0.270667525413648,-0.3898666185501044,-0.4328220113224287,0.5201295137470521,-0.5187882645709231,-0.46165352232449786,-0.39670718983403974,0.6770817304921171,-0.2865165864306283,-0.4654961644584006,-0.3775040034483538,-0.2142428366050091,-0.39216819411691495,-0.23962432325642213,0.16478602748491533,-0.5386974946808645,0.9999999999999998,-0.1568471288362726,-0.45975625953873267,-0.6797638947015814,-0.5160850493654211,-0.4993177639498352,-0.7053562254561676,-0.3190701140178751,-0.5697266628407317,-0.14499942778046493,0.28504502156474043,0.43511757231894244,-0.25084617485859506,-0.45781823133206867,-0.19012440971587008,-0.04346980560407587,-0.28335893702494297,-0.49029189879148916,-0.4689488619514107,-0.5814914964835648,-0.5330564960282953,-0.5582478554297787,-0.49116133834213394,-0.6169861489458213,0.5606059011288178,-0.17922801319529902,-0.4513929995413891,-0.5431158648492641,-0.45918220221820705,-0.640100810881026,-0.6213594098369969,-0.6040254182423588,-0.6975940883456841,-0.8121923693480791,-0.5341110506869559,-0.6907986263389729,-0.71324400025729,-0.5537569762750263,-0.6088768374721096,-0.4442570460273346,-0.6380114159885657,-0.7021501253453157,-0.7967148751183075,-0.8171457021300769,-0.9096665004306266,-0.7626266296770594,-0.5593221245133002,-0.667109238797654,-0.8184114350347049,-0.7885303815158891,-0.8114425529177767,-0.6808628903518774,-0.5803026164216147,-0.8743004929441573,-0.7499629519176874,0.10056645557195631,-0.07301771875702223,-0.3275813992730724,-0.31697336798394116,-0.779741757741462,-0.5206210377973977,-0.8094898224281657,-0.6099684819809322,-0.6560003274599384,-0.8178961868459678,-0.7176670484248091,-0.7793461326730673,-0.7507324827728507,-0.9181978342534791,-0.8846702804209866,-0.8793567417067847,-0.7450480455570286,-0.6177276118062675,-0.9055237980674852,-0.900669037409792,-0.8610731162908813,-0.725965818862862,-0.7286282686474652,-0.8442293121754116,-0.8633499652909173,-0.6355310740268301,-0.8404939298784639,-0.9651385481328519,-0.9499778212720316,-0.8023271374905709,-0.8881169633437002,-0.8955292529486014,-0.8215440237308214,-0.9141116020225664,-0.9098101818321551,-0.8660989580592319,-0.910043079359749,-0.9354984115686918,-0.8994096532182546,-0.927919718852253,-0.9018492297590914,-0.9525440379318901,-0.9014943701115954,-0.5275578422060776,-0.7794650875078211,-0.7120056670617906,-0.6048938553646208,-0.6687699284850885,-0.8844383853217754,-0.8299741122870153,-0.7782645124480723,-0.7577337767408214,-0.7376116976709413,-0.7704913486253784,-0.7043661603567977,-0.827200392951926,-0.9219375604067521,-0.4258263977819602,-0.737680196943763,-0.8705163257992488,-0.8776295576032941,-0.3051326839268128,-0.7933537327509226,-0.565039307722959,-0.7215344171254865,-0.8261394895801747,-0.8495418484612307,-0.6697192281635596,-0.6430910547467908,-0.7106052746110787,-0.6253671185112603,-0.8104057078272116,-0.9317667048424809,-0.883275568397777,-0.9547112880954112,-0.9175001440990801,-0.522783275819005,-0.8374325135975234,-0.7869736102374669,-0.811861233838975,-0.7469265963463156,-0.8906196928726507,-0.8638608696233292,-0.6731578916592111,-0.6103614339069731,-0.6054782711117683,-0.5446983651228435,-0.638394343630779,-0.5790555955134647,-0.7172503723603765,-0.6425323679948007,-0.3406684359527623,-0.7972692180139722,-0.808668165297099,-0.8015282020695135,-0.7911717803044542,-0.8729248270602201,-0.6971884389934617,-0.700931172431883,-0.9222463083486413,-0.8612228122627065,-0.8999920641086365,-0.8761088737466514,-0.7404171605714844,-0.6626952124855797,-0.7676137108812766,-0.8838115334397578,-0.785759669465948,-0.8746546843060649,-0.7856584241992894,-0.9797238811019696,-0.8506268101141683,-0.8928674714495867,-0.7743289786173673,-0.8853639608618545,-0.956341904931363,-0.5411377395072898,-0.7485385011857892,-0.7065728393700407,-0.8712671446579339,-0.853839258938111,-0.8629276087989822,-0.8992225332534732,-0.8769589330152294,-0.8710823636927123,-0.6510784041006005,-0.8010543875872635,-0.9129969016609404,-0.8667314903687517,-0.9096334202939956,-0.9431245525619146,-0.8160854670439139,-0.8108140303217879,-0.911388004106615,-0.9333348369759076,-0.5308434683019616,-0.8410743359120805,-0.890659790007961,-0.6926654821304612,-0.8048973638639605,-0.7652580041817971,-0.8622025189354545,-0.7355547146295234,-0.8441945613248094,-0.7938108400934598,-0.9028459777143464,-0.9078634659128406,-0.5714358032333329,-0.7183099391609509,-0.8108451056016535,-0.6160959925419329,-0.572499045604644,-0.8956087789336334,-0.780248652360343,-0.8220058090724782,-0.8520743166988698,-0.7943424612791155,-0.7653589153056614,-0.852604267170554,-0.8229557770365378,-0.8813806446115716,-0.5186225297449739,-0.8862424222679441,-0.8909017093909998,-0.8896693907657969,-0.9110712367376637,-0.8811955295035557,-0.8501877464825206,-0.8668407550624723,-0.5166160022654882,-0.9224307551710687,-0.9067805091166685,-0.9414017123147492,-0.8891898958560447,-0.7766866901736122,-0.9067237048416457,-0.7654534777164348,-0.7007874910303544,-0.7814515664196517,-0.7527523759641064,-0.8114525772016044,-0.907461492131355,-0.04762988339251839,-0.3949108381721388,-0.8590495475288888,-0.8606367258015878,-0.2003929519260409,-0.31074962429819575,-0.3210936827798676,0.37066877844912627,-0.4149056088374087,-0.6976107954853967,-0.7622086170414497,-0.7288070350423903,-0.6793990107702577,-0.7051206547862197,-0.7948707410368285,-0.7823764736741423,-0.8665537264022094,-0.8324581298194877,-0.8034291404260154,-0.7575185887813228,-0.5855971089965442,-0.8422909498259534,-0.7579362672741383,-0.9165364762804562,-0.9033923011829491,-0.9883735014739875,-0.9827852973829102,-0.9537305789942804,-1.0,-0.9165344714236906,-0.8652007822282815,-0.9418972460786256,-0.6859438656812796,-0.7874805048563479,-0.8569233969290607,-0.9354265708679277,-0.8787258801112362,-0.9347198588580838,-0.8043517086809464,-0.991322311633265,-0.9524842263717189,-0.7105785431875385,-0.7890964194093526,-0.7513362788020648,-0.8331334324066719,-0.8502759601802032,-0.6967403535063692,-0.6590229831767458,-0.756016282778364,-0.8794058606975399,-0.789022907994617,-0.6043418514685159,-0.8910149837982513,-0.7556326868505623,-0.783844028826499,-0.8475831034013231,-0.7668388337414053,-0.3036845090565229,-0.6508682282830156,-0.7349993693054759,-0.8338982852627157,-0.7843940278658383,-0.8417028585080693,-0.8479142389104273,-0.8887742222199947,-0.7280421821863465,-0.7160912310071148,-0.6639776525299205,-0.38798105076213807,-0.3958003262904387,-0.577078138457079,-0.5663728716148203,-0.49289052730239014,-0.3033460224059451,-0.6005329577568327,-0.6483658328968593,-0.6062123828307409,-0.5289368495179574,-0.31339770594264615,-0.7180977584866005,-0.2625311483736018,-0.38293850185407496,-0.8192437847351877,-0.755728919975307,-0.8238953865739755,-0.7862077549530404,-0.7846195742519588,-0.47026705527473645,-0.8251607853358094,-0.6887359628700528,-0.7242867513217437,-0.7961922757880968,-0.7397555578388647,-0.9111975427138912,-0.7234209873418357,-0.6046231997012764,-0.5443014034832716,-0.783056454260446,-0.45751282481812194,-0.4277199849969886,-0.7088309763735985,-0.6819558714318772,-0.777219647930445,-0.7902759434730635,-0.7594850191254983,-0.7470438804670982,-0.7779641180760393,-0.7983458260970535,-0.6294707261674741,-0.422304866873334,0.06286111438292585,-0.14529547829617262,-0.5694259343259046,-0.30524228276332754,-0.4476850169535701,-0.5145419779415635,-0.4661621110473456,-0.7090177621955855,-0.6120411697336798,-0.4287033672404734,-0.5786539558747734,-0.528860999103662,-0.46230610320167276,-0.7259427630100586,0.4836748690369084,-0.5359257802025408,-0.7218037362176539,-0.8204874642153952,-0.6093606762381871,-0.4087015795765242,-0.5890574917738222,-0.4533737980257174,-0.5640813203318373,-0.6934924855462359,-0.7685970931247614,-0.7646094330181532,-0.5195704928522681,-0.8111922799648816,-0.8266036139213913,-0.8820084989219719,-0.7478247721772662,-0.8147024500185032,-0.8463671577730386,-0.6557570715057227,-0.8419771897421504,-0.6955197298789653,-0.9532988665041062,-0.6983054783546475,-0.8438433772480501,-0.8760901617501732,-0.943871695849863,-0.8715124054689152,-0.9443254617644579,-0.9405102193396838,-0.764021341700269,-0.8559430219707241,-0.5973656182101141,-0.8048161671649572,-0.7802282696498937,-0.8103809812604368,-0.7272108349142465,-0.8857358617918575,-0.9611662585947792,-0.9191681849279881,-0.8827954052024363,-0.7154065724216916,-0.7219013059135757,-0.7355988214783648,-0.7105230754836926,-0.24407243213351015,-0.4610764577188239,-0.18679300605717364,-0.44723626318088916,-0.5360166670425774,-0.5440110333950663,-0.6724301286533294,-0.6693443199484084,-0.6281435109887035,-0.6587910880775345,-0.47723961296240147,-0.49201006103953504,-0.4094884858569886,-0.31889903290721777,-0.45397124534184075,-0.4857555762167184,-0.4696452155346327,-0.746273013040758,-0.6882842018122235,-0.4997738688639898,-0.6816434479192511,-0.7280448553287004,-0.8271556178174964,-0.8784589000186285,-0.730849315800861,-0.6732314030739467,-0.9174276351127273,-0.8355198802432227,-0.7797527844536725,-0.7583375727700354],\"type\":\"scatter\"},{\"mode\":\"lines\",\"name\":\"High\",\"x\":[\"2020-04-13T00:00:00\",\"2020-04-14T00:00:00\",\"2020-04-15T00:00:00\",\"2020-04-16T00:00:00\",\"2020-04-17T00:00:00\",\"2020-04-20T00:00:00\",\"2020-04-21T00:00:00\",\"2020-04-22T00:00:00\",\"2020-04-23T00:00:00\",\"2020-04-24T00:00:00\",\"2020-04-27T00:00:00\",\"2020-04-28T00:00:00\",\"2020-04-29T00:00:00\",\"2020-04-30T00:00:00\",\"2020-05-04T00:00:00\",\"2020-05-05T00:00:00\",\"2020-05-06T00:00:00\",\"2020-05-08T00:00:00\",\"2020-05-11T00:00:00\",\"2020-05-12T00:00:00\",\"2020-05-13T00:00:00\",\"2020-05-14T00:00:00\",\"2020-05-15T00:00:00\",\"2020-05-18T00:00:00\",\"2020-05-19T00:00:00\",\"2020-05-20T00:00:00\",\"2020-05-26T00:00:00\",\"2020-05-27T00:00:00\",\"2020-05-28T00:00:00\",\"2020-05-29T00:00:00\",\"2020-06-02T00:00:00\",\"2020-06-03T00:00:00\",\"2020-06-04T00:00:00\",\"2020-06-05T00:00:00\",\"2020-06-08T00:00:00\",\"2020-06-09T00:00:00\",\"2020-06-10T00:00:00\",\"2020-06-11T00:00:00\",\"2020-06-12T00:00:00\",\"2020-06-15T00:00:00\",\"2020-06-16T00:00:00\",\"2020-06-17T00:00:00\",\"2020-06-18T00:00:00\",\"2020-06-19T00:00:00\",\"2020-06-22T00:00:00\",\"2020-06-23T00:00:00\",\"2020-06-24T00:00:00\",\"2020-06-25T00:00:00\",\"2020-06-26T00:00:00\",\"2020-06-29T00:00:00\",\"2020-06-30T00:00:00\",\"2020-07-01T00:00:00\",\"2020-07-02T00:00:00\",\"2020-07-03T00:00:00\",\"2020-07-06T00:00:00\",\"2020-07-07T00:00:00\",\"2020-07-08T00:00:00\",\"2020-07-09T00:00:00\",\"2020-07-10T00:00:00\",\"2020-07-13T00:00:00\",\"2020-07-14T00:00:00\",\"2020-07-15T00:00:00\",\"2020-07-16T00:00:00\",\"2020-07-17T00:00:00\",\"2020-07-20T00:00:00\",\"2020-07-21T00:00:00\",\"2020-07-22T00:00:00\",\"2020-07-23T00:00:00\",\"2020-07-24T00:00:00\",\"2020-07-27T00:00:00\",\"2020-07-28T00:00:00\",\"2020-07-29T00:00:00\",\"2020-07-30T00:00:00\",\"2020-08-03T00:00:00\",\"2020-08-04T00:00:00\",\"2020-08-05T00:00:00\",\"2020-08-06T00:00:00\",\"2020-08-07T00:00:00\",\"2020-08-10T00:00:00\",\"2020-08-11T00:00:00\",\"2020-08-12T00:00:00\",\"2020-08-13T00:00:00\",\"2020-08-14T00:00:00\",\"2020-08-18T00:00:00\",\"2020-08-19T00:00:00\",\"2020-08-24T00:00:00\",\"2020-08-25T00:00:00\",\"2020-08-26T00:00:00\",\"2020-08-27T00:00:00\",\"2020-08-28T00:00:00\",\"2020-08-31T00:00:00\",\"2020-09-01T00:00:00\",\"2020-09-02T00:00:00\",\"2020-09-03T00:00:00\",\"2020-09-04T00:00:00\",\"2020-09-07T00:00:00\",\"2020-09-08T00:00:00\",\"2020-09-09T00:00:00\",\"2020-09-10T00:00:00\",\"2020-09-11T00:00:00\",\"2020-09-14T00:00:00\",\"2020-09-15T00:00:00\",\"2020-09-16T00:00:00\",\"2020-09-17T00:00:00\",\"2020-09-18T00:00:00\",\"2020-09-21T00:00:00\",\"2020-09-22T00:00:00\",\"2020-09-23T00:00:00\",\"2020-09-24T00:00:00\",\"2020-09-25T00:00:00\",\"2020-09-28T00:00:00\",\"2020-09-29T00:00:00\",\"2020-09-30T00:00:00\",\"2020-10-01T00:00:00\",\"2020-10-02T00:00:00\",\"2020-10-05T00:00:00\",\"2020-10-06T00:00:00\",\"2020-10-07T00:00:00\",\"2020-10-08T00:00:00\",\"2020-10-09T00:00:00\",\"2020-10-12T00:00:00\",\"2020-10-13T00:00:00\",\"2020-10-14T00:00:00\",\"2020-10-15T00:00:00\",\"2020-10-16T00:00:00\",\"2020-10-19T00:00:00\",\"2020-10-20T00:00:00\",\"2020-10-21T00:00:00\",\"2020-10-22T00:00:00\",\"2020-10-23T00:00:00\",\"2020-10-26T00:00:00\",\"2020-10-27T00:00:00\",\"2020-11-02T00:00:00\",\"2020-11-03T00:00:00\",\"2020-11-04T00:00:00\",\"2020-11-05T00:00:00\",\"2020-11-06T00:00:00\",\"2020-11-09T00:00:00\",\"2020-11-10T00:00:00\",\"2020-11-11T00:00:00\",\"2020-11-12T00:00:00\",\"2020-11-13T00:00:00\",\"2020-11-16T00:00:00\",\"2020-11-17T00:00:00\",\"2020-11-18T00:00:00\",\"2020-11-19T00:00:00\",\"2020-11-20T00:00:00\",\"2020-11-23T00:00:00\",\"2020-11-24T00:00:00\",\"2020-11-25T00:00:00\",\"2020-11-26T00:00:00\",\"2020-11-27T00:00:00\",\"2020-11-30T00:00:00\",\"2020-12-01T00:00:00\",\"2020-12-02T00:00:00\",\"2020-12-03T00:00:00\",\"2020-12-04T00:00:00\",\"2020-12-07T00:00:00\",\"2020-12-08T00:00:00\",\"2020-12-10T00:00:00\",\"2020-12-11T00:00:00\",\"2020-12-14T00:00:00\",\"2020-12-15T00:00:00\",\"2020-12-16T00:00:00\",\"2020-12-17T00:00:00\",\"2020-12-18T00:00:00\",\"2020-12-21T00:00:00\",\"2020-12-22T00:00:00\",\"2020-12-23T00:00:00\",\"2020-12-28T00:00:00\",\"2020-12-29T00:00:00\",\"2020-12-30T00:00:00\",\"2021-01-04T00:00:00\",\"2021-01-05T00:00:00\",\"2021-01-06T00:00:00\",\"2021-01-07T00:00:00\",\"2021-01-08T00:00:00\",\"2021-01-11T00:00:00\",\"2021-01-12T00:00:00\",\"2021-01-13T00:00:00\",\"2021-01-14T00:00:00\",\"2021-01-15T00:00:00\",\"2021-01-18T00:00:00\",\"2021-01-19T00:00:00\",\"2021-01-20T00:00:00\",\"2021-01-21T00:00:00\",\"2021-01-22T00:00:00\",\"2021-01-25T00:00:00\",\"2021-01-26T00:00:00\",\"2021-01-27T00:00:00\",\"2021-01-28T00:00:00\",\"2021-01-29T00:00:00\",\"2021-02-01T00:00:00\",\"2021-02-02T00:00:00\",\"2021-02-03T00:00:00\",\"2021-02-04T00:00:00\",\"2021-02-05T00:00:00\",\"2021-02-08T00:00:00\",\"2021-02-09T00:00:00\",\"2021-02-10T00:00:00\",\"2021-02-11T00:00:00\",\"2021-02-15T00:00:00\",\"2021-02-16T00:00:00\",\"2021-02-17T00:00:00\",\"2021-02-18T00:00:00\",\"2021-02-19T00:00:00\",\"2021-02-22T00:00:00\",\"2021-02-23T00:00:00\",\"2021-02-24T00:00:00\",\"2021-02-25T00:00:00\",\"2021-02-26T00:00:00\",\"2021-03-01T00:00:00\",\"2021-03-02T00:00:00\",\"2021-03-03T00:00:00\",\"2021-03-04T00:00:00\",\"2021-03-05T00:00:00\",\"2021-03-08T00:00:00\",\"2021-03-09T00:00:00\",\"2021-03-10T00:00:00\",\"2021-03-12T00:00:00\",\"2021-03-15T00:00:00\",\"2021-03-16T00:00:00\",\"2021-03-17T00:00:00\",\"2021-03-18T00:00:00\",\"2021-03-19T00:00:00\",\"2021-03-22T00:00:00\",\"2021-03-23T00:00:00\",\"2021-03-24T00:00:00\",\"2021-03-25T00:00:00\",\"2021-03-26T00:00:00\",\"2021-03-29T00:00:00\",\"2021-03-30T00:00:00\",\"2021-03-31T00:00:00\",\"2021-04-01T00:00:00\",\"2021-04-05T00:00:00\",\"2021-04-06T00:00:00\",\"2021-04-07T00:00:00\",\"2021-04-08T00:00:00\",\"2021-04-09T00:00:00\",\"2021-04-12T00:00:00\",\"2021-04-13T00:00:00\",\"2021-04-14T00:00:00\",\"2021-04-15T00:00:00\",\"2021-04-16T00:00:00\",\"2021-04-19T00:00:00\",\"2021-04-20T00:00:00\",\"2021-04-21T00:00:00\",\"2021-04-22T00:00:00\",\"2021-04-23T00:00:00\",\"2021-04-26T00:00:00\",\"2021-04-27T00:00:00\",\"2021-04-28T00:00:00\",\"2021-04-29T00:00:00\",\"2021-04-30T00:00:00\",\"2021-05-03T00:00:00\",\"2021-05-04T00:00:00\",\"2021-05-05T00:00:00\",\"2021-05-06T00:00:00\",\"2021-05-07T00:00:00\",\"2021-05-10T00:00:00\",\"2021-05-11T00:00:00\",\"2021-05-17T00:00:00\",\"2021-05-18T00:00:00\",\"2021-05-19T00:00:00\",\"2021-05-20T00:00:00\",\"2021-05-21T00:00:00\",\"2021-05-24T00:00:00\",\"2021-05-25T00:00:00\",\"2021-05-27T00:00:00\",\"2021-05-28T00:00:00\",\"2021-05-31T00:00:00\",\"2021-06-02T00:00:00\",\"2021-06-03T00:00:00\",\"2021-06-04T00:00:00\",\"2021-06-07T00:00:00\",\"2021-06-08T00:00:00\",\"2021-06-09T00:00:00\",\"2021-06-10T00:00:00\",\"2021-06-11T00:00:00\",\"2021-06-14T00:00:00\",\"2021-06-15T00:00:00\",\"2021-06-16T00:00:00\",\"2021-06-17T00:00:00\",\"2021-06-18T00:00:00\",\"2021-06-21T00:00:00\",\"2021-06-22T00:00:00\",\"2021-06-23T00:00:00\",\"2021-06-24T00:00:00\",\"2021-06-25T00:00:00\",\"2021-06-28T00:00:00\",\"2021-06-29T00:00:00\",\"2021-06-30T00:00:00\",\"2021-07-01T00:00:00\",\"2021-07-02T00:00:00\",\"2021-07-05T00:00:00\",\"2021-07-06T00:00:00\",\"2021-07-07T00:00:00\",\"2021-07-08T00:00:00\",\"2021-07-09T00:00:00\",\"2021-07-12T00:00:00\",\"2021-07-13T00:00:00\",\"2021-07-14T00:00:00\",\"2021-07-15T00:00:00\",\"2021-07-16T00:00:00\",\"2021-07-19T00:00:00\",\"2021-07-21T00:00:00\",\"2021-07-22T00:00:00\",\"2021-07-23T00:00:00\",\"2021-07-26T00:00:00\",\"2021-07-27T00:00:00\",\"2021-07-28T00:00:00\",\"2021-07-29T00:00:00\",\"2021-07-30T00:00:00\",\"2021-08-02T00:00:00\",\"2021-08-03T00:00:00\",\"2021-08-04T00:00:00\",\"2021-08-05T00:00:00\",\"2021-08-06T00:00:00\",\"2021-08-09T00:00:00\",\"2021-08-10T00:00:00\",\"2021-08-12T00:00:00\",\"2021-08-13T00:00:00\",\"2021-08-16T00:00:00\",\"2021-08-18T00:00:00\",\"2021-08-19T00:00:00\",\"2021-08-20T00:00:00\",\"2021-08-23T00:00:00\",\"2021-08-24T00:00:00\",\"2021-08-25T00:00:00\",\"2021-08-26T00:00:00\",\"2021-08-27T00:00:00\",\"2021-08-30T00:00:00\",\"2021-08-31T00:00:00\",\"2021-09-01T00:00:00\",\"2021-09-02T00:00:00\",\"2021-09-03T00:00:00\",\"2021-09-06T00:00:00\",\"2021-09-07T00:00:00\",\"2021-09-08T00:00:00\",\"2021-09-09T00:00:00\",\"2021-09-10T00:00:00\",\"2021-09-13T00:00:00\",\"2021-09-14T00:00:00\",\"2021-09-15T00:00:00\",\"2021-09-16T00:00:00\",\"2021-09-17T00:00:00\",\"2021-09-20T00:00:00\",\"2021-09-21T00:00:00\",\"2021-09-22T00:00:00\",\"2021-09-23T00:00:00\",\"2021-09-24T00:00:00\",\"2021-09-27T00:00:00\",\"2021-09-28T00:00:00\",\"2021-09-29T00:00:00\",\"2021-09-30T00:00:00\",\"2021-10-01T00:00:00\",\"2021-10-04T00:00:00\",\"2021-10-05T00:00:00\",\"2021-10-06T00:00:00\",\"2021-10-07T00:00:00\",\"2021-10-08T00:00:00\",\"2021-10-11T00:00:00\",\"2021-10-12T00:00:00\",\"2021-10-13T00:00:00\",\"2021-10-14T00:00:00\",\"2021-10-15T00:00:00\",\"2021-10-18T00:00:00\",\"2021-10-19T00:00:00\",\"2021-10-21T00:00:00\",\"2021-10-22T00:00:00\",\"2021-10-25T00:00:00\",\"2021-10-26T00:00:00\",\"2021-10-27T00:00:00\",\"2021-10-28T00:00:00\",\"2021-10-29T00:00:00\",\"2021-11-01T00:00:00\",\"2021-11-02T00:00:00\",\"2021-11-03T00:00:00\",\"2021-11-04T00:00:00\",\"2021-11-05T00:00:00\",\"2021-11-08T00:00:00\",\"2021-11-09T00:00:00\",\"2021-11-10T00:00:00\",\"2021-11-11T00:00:00\",\"2021-11-12T00:00:00\",\"2021-11-15T00:00:00\",\"2021-11-16T00:00:00\",\"2021-11-17T00:00:00\",\"2021-11-18T00:00:00\",\"2021-11-19T00:00:00\",\"2021-11-22T00:00:00\",\"2021-11-23T00:00:00\",\"2021-11-24T00:00:00\",\"2021-11-25T00:00:00\",\"2021-11-26T00:00:00\",\"2021-11-29T00:00:00\",\"2021-11-30T00:00:00\",\"2021-12-01T00:00:00\",\"2021-12-02T00:00:00\",\"2021-12-03T00:00:00\",\"2021-12-06T00:00:00\",\"2021-12-07T00:00:00\",\"2021-12-08T00:00:00\",\"2021-12-09T00:00:00\",\"2021-12-10T00:00:00\",\"2021-12-13T00:00:00\",\"2021-12-14T00:00:00\",\"2021-12-15T00:00:00\",\"2021-12-16T00:00:00\",\"2021-12-17T00:00:00\",\"2021-12-20T00:00:00\",\"2021-12-21T00:00:00\",\"2021-12-22T00:00:00\",\"2021-12-23T00:00:00\",\"2021-12-24T00:00:00\",\"2021-12-27T00:00:00\",\"2021-12-28T00:00:00\",\"2021-12-29T00:00:00\",\"2021-12-30T00:00:00\",\"2022-01-03T00:00:00\",\"2022-01-04T00:00:00\",\"2022-01-05T00:00:00\",\"2022-01-06T00:00:00\",\"2022-01-07T00:00:00\",\"2022-01-10T00:00:00\",\"2022-01-11T00:00:00\",\"2022-01-12T00:00:00\",\"2022-01-13T00:00:00\",\"2022-01-14T00:00:00\",\"2022-01-17T00:00:00\",\"2022-01-18T00:00:00\",\"2022-01-19T00:00:00\",\"2022-01-20T00:00:00\",\"2022-01-21T00:00:00\",\"2022-01-24T00:00:00\",\"2022-01-25T00:00:00\",\"2022-01-26T00:00:00\",\"2022-01-27T00:00:00\",\"2022-01-28T00:00:00\",\"2022-01-31T00:00:00\",\"2022-02-02T00:00:00\",\"2022-02-03T00:00:00\",\"2022-02-04T00:00:00\",\"2022-02-07T00:00:00\",\"2022-02-08T00:00:00\",\"2022-02-09T00:00:00\",\"2022-02-10T00:00:00\",\"2022-02-11T00:00:00\",\"2022-02-14T00:00:00\",\"2022-02-15T00:00:00\",\"2022-02-16T00:00:00\",\"2022-02-17T00:00:00\",\"2022-02-18T00:00:00\",\"2022-02-21T00:00:00\",\"2022-02-22T00:00:00\",\"2022-02-23T00:00:00\",\"2022-02-24T00:00:00\",\"2022-02-25T00:00:00\",\"2022-03-01T00:00:00\",\"2022-03-02T00:00:00\",\"2022-03-04T00:00:00\",\"2022-03-07T00:00:00\",\"2022-03-08T00:00:00\",\"2022-03-09T00:00:00\",\"2022-03-10T00:00:00\",\"2022-03-11T00:00:00\",\"2022-03-14T00:00:00\",\"2022-03-15T00:00:00\",\"2022-03-16T00:00:00\",\"2022-03-17T00:00:00\",\"2022-03-18T00:00:00\",\"2022-03-21T00:00:00\",\"2022-03-22T00:00:00\",\"2022-03-23T00:00:00\",\"2022-03-24T00:00:00\",\"2022-03-25T00:00:00\",\"2022-03-28T00:00:00\",\"2022-03-29T00:00:00\",\"2022-03-30T00:00:00\",\"2022-03-31T00:00:00\",\"2022-04-01T00:00:00\",\"2022-04-04T00:00:00\",\"2022-04-05T00:00:00\",\"2022-04-06T00:00:00\",\"2022-04-07T00:00:00\",\"2022-04-08T00:00:00\",\"2022-04-11T00:00:00\",\"2022-04-12T00:00:00\",\"2022-04-13T00:00:00\",\"2022-04-14T00:00:00\",\"2022-04-18T00:00:00\",\"2022-04-19T00:00:00\",\"2022-04-20T00:00:00\",\"2022-04-21T00:00:00\",\"2022-04-22T00:00:00\",\"2022-04-25T00:00:00\",\"2022-04-26T00:00:00\",\"2022-04-27T00:00:00\",\"2022-04-28T00:00:00\",\"2022-05-09T00:00:00\",\"2022-05-10T00:00:00\",\"2022-05-11T00:00:00\",\"2022-05-12T00:00:00\",\"2022-05-13T00:00:00\",\"2022-05-17T00:00:00\",\"2022-05-18T00:00:00\",\"2022-05-19T00:00:00\",\"2022-05-20T00:00:00\",\"2022-05-23T00:00:00\",\"2022-05-24T00:00:00\",\"2022-05-25T00:00:00\",\"2022-05-27T00:00:00\",\"2022-05-30T00:00:00\",\"2022-05-31T00:00:00\",\"2022-06-02T00:00:00\",\"2022-06-03T00:00:00\",\"2022-06-06T00:00:00\",\"2022-06-07T00:00:00\",\"2022-06-08T00:00:00\",\"2022-06-09T00:00:00\",\"2022-06-10T00:00:00\",\"2022-06-13T00:00:00\",\"2022-06-14T00:00:00\",\"2022-06-15T00:00:00\",\"2022-06-16T00:00:00\",\"2022-06-17T00:00:00\",\"2022-06-20T00:00:00\",\"2022-06-21T00:00:00\",\"2022-06-22T00:00:00\",\"2022-06-23T00:00:00\",\"2022-06-24T00:00:00\",\"2022-06-27T00:00:00\",\"2022-06-28T00:00:00\",\"2022-06-29T00:00:00\",\"2022-06-30T00:00:00\",\"2022-07-01T00:00:00\",\"2022-07-04T00:00:00\",\"2022-07-05T00:00:00\",\"2022-07-06T00:00:00\",\"2022-07-07T00:00:00\",\"2022-07-08T00:00:00\",\"2022-07-11T00:00:00\",\"2022-07-12T00:00:00\",\"2022-07-13T00:00:00\",\"2022-07-14T00:00:00\",\"2022-07-15T00:00:00\",\"2022-07-18T00:00:00\",\"2022-07-19T00:00:00\",\"2022-07-20T00:00:00\",\"2022-07-21T00:00:00\",\"2022-07-22T00:00:00\",\"2022-07-25T00:00:00\",\"2022-07-26T00:00:00\",\"2022-07-27T00:00:00\",\"2022-07-28T00:00:00\",\"2022-07-29T00:00:00\",\"2022-08-01T00:00:00\",\"2022-08-02T00:00:00\",\"2022-08-03T00:00:00\",\"2022-08-04T00:00:00\",\"2022-08-05T00:00:00\",\"2022-08-08T00:00:00\",\"2022-08-09T00:00:00\",\"2022-08-10T00:00:00\",\"2022-08-11T00:00:00\",\"2022-08-12T00:00:00\",\"2022-08-15T00:00:00\",\"2022-08-16T00:00:00\",\"2022-08-18T00:00:00\",\"2022-08-19T00:00:00\",\"2022-08-22T00:00:00\",\"2022-08-23T00:00:00\",\"2022-08-24T00:00:00\",\"2022-08-25T00:00:00\",\"2022-08-26T00:00:00\",\"2022-08-29T00:00:00\",\"2022-08-30T00:00:00\",\"2022-08-31T00:00:00\",\"2022-09-01T00:00:00\",\"2022-09-02T00:00:00\",\"2022-09-05T00:00:00\",\"2022-09-06T00:00:00\",\"2022-09-07T00:00:00\",\"2022-09-08T00:00:00\",\"2022-09-09T00:00:00\",\"2022-09-12T00:00:00\",\"2022-09-13T00:00:00\",\"2022-09-14T00:00:00\"],\"y\":[-0.4336283185840708,-0.415929203539823,-0.37168141592920323,-0.5398230088495573,-0.415929203539823,-0.3982300884955752,-0.5221238938053094,-0.3982300884955752,-0.4247787610619467,-0.49557522123893794,-0.4601769911504423,-0.4601769911504423,-0.2920353982300883,-0.1592920353982299,-0.2831858407079646,-0.2920353982300883,-0.3362831858407076,-0.38053097345132736,-0.415929203539823,-0.3982300884955752,-0.4867256637168138,-0.5132743362831858,-0.5221238938053094,-0.4424778761061945,-0.34513274336283173,-0.40707964601769886,-0.38938053097345104,-0.3982300884955752,-0.4513274336283186,-0.5044247787610616,-0.3982300884955752,-0.3539823008849554,-0.2920353982300883,-0.3185840707964598,-0.38053097345132736,-0.3982300884955752,-0.469026548672566,-0.5044247787610616,-0.5663716814159292,-0.5044247787610616,-0.4424778761061945,-0.4336283185840708,-0.3274336283185839,-0.3362831858407076,-0.37168141592920323,-0.4601769911504423,-0.4336283185840708,-0.4424778761061945,-0.4424778761061945,-0.415929203539823,-0.5486725663716814,-0.5486725663716814,-0.5132743362831858,-0.4778761061946901,-0.5044247787610616,-0.5309734513274336,-0.49557522123893794,-0.469026548672566,-0.5221238938053094,-0.5221238938053094,-0.5398230088495573,-0.5221238938053094,-0.5398230088495573,-0.5398230088495573,-0.5663716814159292,-0.5398230088495573,-0.5575221238938051,-0.5575221238938051,-0.5663716814159292,-0.5929203539823007,-0.5929203539823007,-0.5929203539823007,-0.5929203539823007,-0.584070796460177,-0.663716814159292,-0.6017699115044248,-0.5929203539823007,-0.6106194690265485,-0.6194690265486722,-0.63716814159292,-0.6725663716814156,-0.6194690265486722,-0.6017699115044248,-0.584070796460177,-0.5929203539823007,-0.6194690265486722,-0.6283185840707963,-0.5929203539823007,-0.6017699115044248,-0.6460176991150441,-0.6548672566371678,-0.7168141592920354,-0.663716814159292,-0.6725663716814156,-0.7345132743362832,-0.7168141592920354,-0.7256637168141591,-0.7610619469026547,-0.8141592920353982,-0.7787610619469025,-0.7345132743362832,-0.7256637168141591,-0.7876106194690262,-0.7699115044247784,-0.7345132743362832,-0.7168141592920354,-0.805309734513274,-0.805309734513274,-0.8495575221238938,-0.8672566371681416,-0.8761061946902653,-0.9115044247787609,-0.9469026548672566,-0.8495575221238938,-0.8584070796460175,-0.8938053097345131,-0.9026548672566368,-0.9292035398230087,-0.884955752212389,-0.8584070796460175,-0.8495575221238938,-0.8672566371681416,-0.7876106194690262,-0.7699115044247784,-0.831858407079646,-0.805309734513274,-0.8672566371681416,-0.8938053097345131,-0.884955752212389,-0.884955752212389,-0.9203539823008846,-0.9115044247787609,-0.973451327433628,-1.0,-0.9557522123893802,-0.805309734513274,-0.7787610619469025,-0.7256637168141591,-0.6814159292035398,-0.5486725663716814,-0.5663716814159292,-0.6283185840707963,-0.5486725663716814,-0.3982300884955752,-0.415929203539823,-0.4424778761061945,-0.3982300884955752,-0.3362831858407076,-0.3008849557522124,-0.2920353982300883,-0.21238938053097334,-0.19469026548672552,-0.22123893805309702,-0.3539823008849554,-0.34513274336283173,-0.3185840707964598,-0.38938053097345104,-0.34513274336283173,-0.3274336283185839,-0.38053097345132736,-0.34513274336283173,-0.3362831858407076,-0.2035398230088492,-0.07079646017699082,-0.08849557522123863,-0.1592920353982299,-0.09734513274336276,-0.1592920353982299,-0.2654867256637168,-0.23008849557522115,-0.16814159292035402,-0.2654867256637168,-0.19469026548672552,-0.21238938053097334,-0.2035398230088492,-0.23893805309734484,-0.08849557522123863,-0.07079646017699082,-0.08849557522123863,-0.1504424778761062,-0.11504424778761058,-0.1592920353982299,-0.1769911504424777,-0.2035398230088492,-0.21238938053097334,-0.1769911504424777,-0.24778761061946897,-0.27433628318584047,-0.2920353982300883,-0.3008849557522124,-0.34513274336283173,-0.38053097345132736,-0.415929203539823,-0.34513274336283173,-0.34513274336283173,-0.34513274336283173,-0.3539823008849554,-0.3097345132743361,-0.37168141592920323,-0.4424778761061945,-0.4336283185840708,-0.40707964601769886,-0.415929203539823,-0.415929203539823,-0.3982300884955752,-0.4424778761061945,-0.4247787610619467,-0.21238938053097334,-0.1504424778761062,-0.1327433628318584,-0.1858407079646014,-0.1858407079646014,-0.19469026548672552,-0.21238938053097334,-0.25663716814159265,-0.3097345132743361,-0.2831858407079646,-0.2920353982300883,-0.2654867256637168,-0.21238938053097334,-0.23893805309734484,-0.27433628318584047,-0.25663716814159265,-0.21238938053097334,-0.24778761061946897,-0.24778761061946897,-0.2654867256637168,-0.2920353982300883,-0.25663716814159265,-0.19469026548672552,-0.2035398230088492,-0.25663716814159265,-0.2654867256637168,-0.24778761061946897,-0.25663716814159265,-0.27433628318584047,-0.25663716814159265,-0.2831858407079646,-0.2920353982300883,-0.2920353982300883,-0.3362831858407076,-0.3185840707964598,-0.3185840707964598,-0.3097345132743361,-0.3185840707964598,-0.3274336283185839,-0.34513274336283173,-0.3362831858407076,-0.34513274336283173,-0.37168141592920323,-0.415929203539823,-0.4867256637168138,-0.4513274336283186,-0.40707964601769886,-0.4513274336283186,-0.4513274336283186,-0.4513274336283186,-0.4601769911504423,-0.4424778761061945,-0.4601769911504423,-0.4601769911504423,-0.469026548672566,-0.469026548672566,-0.4424778761061945,-0.3539823008849554,-0.3274336283185839,-0.34513274336283173,-0.3539823008849554,-0.2831858407079646,-0.2831858407079646,-0.23008849557522115,-0.19469026548672552,-0.2035398230088492,-0.1858407079646014,-0.1327433628318584,-0.1504424778761062,-0.2831858407079646,-0.19469026548672552,-0.19469026548672552,-0.22123893805309702,-0.24778761061946897,-0.25663716814159265,-0.2654867256637168,-0.2831858407079646,-0.3362831858407076,-0.3097345132743361,-0.2654867256637168,-0.3185840707964598,-0.37168141592920323,-0.40707964601769886,-0.40707964601769886,-0.4778761061946901,-0.4867256637168138,-0.5221238938053094,-0.5575221238938051,-0.5752212389380529,-0.5752212389380529,-0.584070796460177,-0.4867256637168138,-0.469026548672566,-0.49557522123893794,-0.5752212389380529,-0.5132743362831858,-0.4867256637168138,-0.4336283185840708,-0.4247787610619467,-0.40707964601769886,-0.415929203539823,-0.4601769911504423,-0.3982300884955752,-0.415929203539823,-0.38053097345132736,-0.38053097345132736,-0.36283185840707954,-0.3185840707964598,-0.3097345132743361,-0.2831858407079646,-0.3008849557522124,-0.37168141592920323,-0.3982300884955752,-0.3274336283185839,-0.3008849557522124,-0.3362831858407076,-0.24778761061946897,-0.25663716814159265,-0.25663716814159265,-0.24778761061946897,-0.2654867256637168,-0.2920353982300883,-0.3185840707964598,-0.3097345132743361,-0.2831858407079646,-0.2654867256637168,-0.2654867256637168,-0.2920353982300883,-0.2654867256637168,-0.27433628318584047,-0.27433628318584047,-0.2831858407079646,-0.2920353982300883,-0.2920353982300883,-0.3274336283185839,-0.23893805309734484,-0.23893805309734484,-0.22123893805309702,-0.16814159292035402,-0.1769911504424777,-0.14159292035398208,-0.11504424778761058,-0.09734513274336276,-0.12389380530973426,-0.14159292035398208,-0.1592920353982299,-0.1592920353982299,-0.0265486725663715,-0.0265486725663715,-0.044247787610619316,-0.03539823008849563,0.04424778761061976,0.017699115044247815,0.07079646017699126,0.11504424778761058,0.10619469026548689,0.08849557522123908,0.0973451327433632,0.10619469026548689,0.10619469026548689,0.07079646017699126,0.14159292035398252,0.14159292035398252,0.10619469026548689,0.0973451327433632,0.0973451327433632,0.08849557522123908,0.07964601769911539,0.08849557522123908,-0.008849557522123686,0.017699115044247815,0.053097345132743445,0.04424778761061976,0.053097345132743445,0.017699115044247815,0.0,0.00884955752212413,-0.053097345132743,-0.06194690265486713,-0.03539823008849563,-0.0265486725663715,-0.07079646017699082,0.17699115044247815,0.18584070796460184,0.11504424778761058,0.10619469026548689,0.32743362831858436,0.2920353982300887,0.3982300884955752,0.3982300884955752,0.3805309734513278,0.415929203539823,0.4070796460176993,0.46902654867256643,0.4247787610619471,0.35398230088495586,0.3805309734513278,0.3805309734513278,0.3805309734513278,0.35398230088495586,0.3716814159292037,0.3805309734513278,0.33628318584070804,0.3451327433628322,0.415929203539823,0.3982300884955752,0.3893805309734515,0.3982300884955752,0.3805309734513278,0.36283185840708,0.36283185840708,0.36283185840708,0.4070796460176993,0.4247787610619471,0.415929203539823,0.35398230088495586,0.415929203539823,0.415929203539823,0.3893805309734515,0.3716814159292037,0.4070796460176993,0.415929203539823,0.4247787610619471,0.46902654867256643,0.47787610619469056,0.5132743362831862,0.5398230088495577,0.5221238938053099,0.5309734513274336,0.5929203539823011,0.6017699115044248,0.5132743362831862,0.46902654867256643,0.4247787610619471,0.4336283185840708,0.47787610619469056,0.5044247787610621,0.4955752212389384,0.4955752212389384,0.6637168141592924,0.7345132743362832,0.6017699115044248,0.6371681415929205,0.6548672566371683,0.6371681415929205,0.6371681415929205,0.6194690265486726,0.5663716814159292,0.5752212389380533,0.5309734513274336,0.5575221238938055,0.8230088495575218,0.6017699115044248,0.6371681415929205,0.7168141592920358,0.8672566371681416,0.7964601769911503,0.6902654867256639,0.7699115044247788,0.8407079646017701,0.8053097345132745,0.831858407079646,0.7610619469026547,0.7256637168141591,0.7522123893805315,0.7610619469026547,0.7522123893805315,0.7522123893805315,0.7256637168141591,0.778761061946903,0.7964601769911503,0.7964601769911503,0.8141592920353986,0.7610619469026547,0.7522123893805315,0.7345132743362832,0.6902654867256639,0.7256637168141591,0.7876106194690271,0.7876106194690271,0.8053097345132745,0.8849557522123899,0.8938053097345131,0.8938053097345131,0.9115044247787614,0.8584070796460175,0.8407079646017701,0.8495575221238942,0.8849557522123899,0.9203539823008855,0.946902654867257,1.0,0.7433628318584073,0.584070796460177,0.6725663716814161,0.5929203539823011,0.5575221238938055,0.5044247787610621,0.5044247787610621,0.4513274336283186,0.4513274336283186,0.4070796460176993,0.4247787610619471,0.4336283185840708,0.5132743362831862,0.5486725663716814,0.5398230088495577,0.5929203539823011,0.5929203539823011,0.5486725663716814,0.5486725663716814,0.3982300884955752,0.36283185840708,0.31858407079646023,0.33628318584070804,0.35398230088495586,0.31858407079646023,0.35398230088495586,0.35398230088495586,0.3008849557522124,0.35398230088495586,0.32743362831858436,0.3893805309734515,0.4513274336283186,0.35398230088495586,0.2920353982300887,0.31858407079646023,0.3451327433628322,0.2831858407079646,0.2831858407079646,0.30973451327433654,0.2920353982300887,0.2920353982300887,0.3008849557522124,0.33628318584070804,0.3008849557522124,0.2743362831858409,0.2654867256637168,0.4336283185840708,0.415929203539823,0.415929203539823,0.44247787610619493,0.47787610619469056,0.46017699115044275,0.47787610619469056,0.46902654867256643,0.5132743362831862,0.5309734513274336,0.5132743362831862,0.5132743362831862,0.6460176991150446,0.7699115044247788,0.7345132743362832,0.8230088495575218,0.8672566371681416,0.8672566371681416,0.7699115044247788,0.7876106194690271,0.778761061946903,0.7522123893805315,0.7610619469026547,0.7345132743362832,0.7876106194690271,0.831858407079646,0.8761061946902657,0.9292035398230087,0.8672566371681416,0.7256637168141591,0.7345132743362832,0.7964601769911503,0.778761061946903,0.8230088495575218,0.7964601769911503,0.8053097345132745,0.7964601769911503,0.7433628318584073,0.8141592920353986,0.778761061946903,0.778761061946903,0.7433628318584073,0.7168141592920358],\"type\":\"scatter\"},{\"mode\":\"lines\",\"name\":\"Low\",\"x\":[\"2020-04-13T00:00:00\",\"2020-04-14T00:00:00\",\"2020-04-15T00:00:00\",\"2020-04-16T00:00:00\",\"2020-04-17T00:00:00\",\"2020-04-20T00:00:00\",\"2020-04-21T00:00:00\",\"2020-04-22T00:00:00\",\"2020-04-23T00:00:00\",\"2020-04-24T00:00:00\",\"2020-04-27T00:00:00\",\"2020-04-28T00:00:00\",\"2020-04-29T00:00:00\",\"2020-04-30T00:00:00\",\"2020-05-04T00:00:00\",\"2020-05-05T00:00:00\",\"2020-05-06T00:00:00\",\"2020-05-08T00:00:00\",\"2020-05-11T00:00:00\",\"2020-05-12T00:00:00\",\"2020-05-13T00:00:00\",\"2020-05-14T00:00:00\",\"2020-05-15T00:00:00\",\"2020-05-18T00:00:00\",\"2020-05-19T00:00:00\",\"2020-05-20T00:00:00\",\"2020-05-26T00:00:00\",\"2020-05-27T00:00:00\",\"2020-05-28T00:00:00\",\"2020-05-29T00:00:00\",\"2020-06-02T00:00:00\",\"2020-06-03T00:00:00\",\"2020-06-04T00:00:00\",\"2020-06-05T00:00:00\",\"2020-06-08T00:00:00\",\"2020-06-09T00:00:00\",\"2020-06-10T00:00:00\",\"2020-06-11T00:00:00\",\"2020-06-12T00:00:00\",\"2020-06-15T00:00:00\",\"2020-06-16T00:00:00\",\"2020-06-17T00:00:00\",\"2020-06-18T00:00:00\",\"2020-06-19T00:00:00\",\"2020-06-22T00:00:00\",\"2020-06-23T00:00:00\",\"2020-06-24T00:00:00\",\"2020-06-25T00:00:00\",\"2020-06-26T00:00:00\",\"2020-06-29T00:00:00\",\"2020-06-30T00:00:00\",\"2020-07-01T00:00:00\",\"2020-07-02T00:00:00\",\"2020-07-03T00:00:00\",\"2020-07-06T00:00:00\",\"2020-07-07T00:00:00\",\"2020-07-08T00:00:00\",\"2020-07-09T00:00:00\",\"2020-07-10T00:00:00\",\"2020-07-13T00:00:00\",\"2020-07-14T00:00:00\",\"2020-07-15T00:00:00\",\"2020-07-16T00:00:00\",\"2020-07-17T00:00:00\",\"2020-07-20T00:00:00\",\"2020-07-21T00:00:00\",\"2020-07-22T00:00:00\",\"2020-07-23T00:00:00\",\"2020-07-24T00:00:00\",\"2020-07-27T00:00:00\",\"2020-07-28T00:00:00\",\"2020-07-29T00:00:00\",\"2020-07-30T00:00:00\",\"2020-08-03T00:00:00\",\"2020-08-04T00:00:00\",\"2020-08-05T00:00:00\",\"2020-08-06T00:00:00\",\"2020-08-07T00:00:00\",\"2020-08-10T00:00:00\",\"2020-08-11T00:00:00\",\"2020-08-12T00:00:00\",\"2020-08-13T00:00:00\",\"2020-08-14T00:00:00\",\"2020-08-18T00:00:00\",\"2020-08-19T00:00:00\",\"2020-08-24T00:00:00\",\"2020-08-25T00:00:00\",\"2020-08-26T00:00:00\",\"2020-08-27T00:00:00\",\"2020-08-28T00:00:00\",\"2020-08-31T00:00:00\",\"2020-09-01T00:00:00\",\"2020-09-02T00:00:00\",\"2020-09-03T00:00:00\",\"2020-09-04T00:00:00\",\"2020-09-07T00:00:00\",\"2020-09-08T00:00:00\",\"2020-09-09T00:00:00\",\"2020-09-10T00:00:00\",\"2020-09-11T00:00:00\",\"2020-09-14T00:00:00\",\"2020-09-15T00:00:00\",\"2020-09-16T00:00:00\",\"2020-09-17T00:00:00\",\"2020-09-18T00:00:00\",\"2020-09-21T00:00:00\",\"2020-09-22T00:00:00\",\"2020-09-23T00:00:00\",\"2020-09-24T00:00:00\",\"2020-09-25T00:00:00\",\"2020-09-28T00:00:00\",\"2020-09-29T00:00:00\",\"2020-09-30T00:00:00\",\"2020-10-01T00:00:00\",\"2020-10-02T00:00:00\",\"2020-10-05T00:00:00\",\"2020-10-06T00:00:00\",\"2020-10-07T00:00:00\",\"2020-10-08T00:00:00\",\"2020-10-09T00:00:00\",\"2020-10-12T00:00:00\",\"2020-10-13T00:00:00\",\"2020-10-14T00:00:00\",\"2020-10-15T00:00:00\",\"2020-10-16T00:00:00\",\"2020-10-19T00:00:00\",\"2020-10-20T00:00:00\",\"2020-10-21T00:00:00\",\"2020-10-22T00:00:00\",\"2020-10-23T00:00:00\",\"2020-10-26T00:00:00\",\"2020-10-27T00:00:00\",\"2020-11-02T00:00:00\",\"2020-11-03T00:00:00\",\"2020-11-04T00:00:00\",\"2020-11-05T00:00:00\",\"2020-11-06T00:00:00\",\"2020-11-09T00:00:00\",\"2020-11-10T00:00:00\",\"2020-11-11T00:00:00\",\"2020-11-12T00:00:00\",\"2020-11-13T00:00:00\",\"2020-11-16T00:00:00\",\"2020-11-17T00:00:00\",\"2020-11-18T00:00:00\",\"2020-11-19T00:00:00\",\"2020-11-20T00:00:00\",\"2020-11-23T00:00:00\",\"2020-11-24T00:00:00\",\"2020-11-25T00:00:00\",\"2020-11-26T00:00:00\",\"2020-11-27T00:00:00\",\"2020-11-30T00:00:00\",\"2020-12-01T00:00:00\",\"2020-12-02T00:00:00\",\"2020-12-03T00:00:00\",\"2020-12-04T00:00:00\",\"2020-12-07T00:00:00\",\"2020-12-08T00:00:00\",\"2020-12-10T00:00:00\",\"2020-12-11T00:00:00\",\"2020-12-14T00:00:00\",\"2020-12-15T00:00:00\",\"2020-12-16T00:00:00\",\"2020-12-17T00:00:00\",\"2020-12-18T00:00:00\",\"2020-12-21T00:00:00\",\"2020-12-22T00:00:00\",\"2020-12-23T00:00:00\",\"2020-12-28T00:00:00\",\"2020-12-29T00:00:00\",\"2020-12-30T00:00:00\",\"2021-01-04T00:00:00\",\"2021-01-05T00:00:00\",\"2021-01-06T00:00:00\",\"2021-01-07T00:00:00\",\"2021-01-08T00:00:00\",\"2021-01-11T00:00:00\",\"2021-01-12T00:00:00\",\"2021-01-13T00:00:00\",\"2021-01-14T00:00:00\",\"2021-01-15T00:00:00\",\"2021-01-18T00:00:00\",\"2021-01-19T00:00:00\",\"2021-01-20T00:00:00\",\"2021-01-21T00:00:00\",\"2021-01-22T00:00:00\",\"2021-01-25T00:00:00\",\"2021-01-26T00:00:00\",\"2021-01-27T00:00:00\",\"2021-01-28T00:00:00\",\"2021-01-29T00:00:00\",\"2021-02-01T00:00:00\",\"2021-02-02T00:00:00\",\"2021-02-03T00:00:00\",\"2021-02-04T00:00:00\",\"2021-02-05T00:00:00\",\"2021-02-08T00:00:00\",\"2021-02-09T00:00:00\",\"2021-02-10T00:00:00\",\"2021-02-11T00:00:00\",\"2021-02-15T00:00:00\",\"2021-02-16T00:00:00\",\"2021-02-17T00:00:00\",\"2021-02-18T00:00:00\",\"2021-02-19T00:00:00\",\"2021-02-22T00:00:00\",\"2021-02-23T00:00:00\",\"2021-02-24T00:00:00\",\"2021-02-25T00:00:00\",\"2021-02-26T00:00:00\",\"2021-03-01T00:00:00\",\"2021-03-02T00:00:00\",\"2021-03-03T00:00:00\",\"2021-03-04T00:00:00\",\"2021-03-05T00:00:00\",\"2021-03-08T00:00:00\",\"2021-03-09T00:00:00\",\"2021-03-10T00:00:00\",\"2021-03-12T00:00:00\",\"2021-03-15T00:00:00\",\"2021-03-16T00:00:00\",\"2021-03-17T00:00:00\",\"2021-03-18T00:00:00\",\"2021-03-19T00:00:00\",\"2021-03-22T00:00:00\",\"2021-03-23T00:00:00\",\"2021-03-24T00:00:00\",\"2021-03-25T00:00:00\",\"2021-03-26T00:00:00\",\"2021-03-29T00:00:00\",\"2021-03-30T00:00:00\",\"2021-03-31T00:00:00\",\"2021-04-01T00:00:00\",\"2021-04-05T00:00:00\",\"2021-04-06T00:00:00\",\"2021-04-07T00:00:00\",\"2021-04-08T00:00:00\",\"2021-04-09T00:00:00\",\"2021-04-12T00:00:00\",\"2021-04-13T00:00:00\",\"2021-04-14T00:00:00\",\"2021-04-15T00:00:00\",\"2021-04-16T00:00:00\",\"2021-04-19T00:00:00\",\"2021-04-20T00:00:00\",\"2021-04-21T00:00:00\",\"2021-04-22T00:00:00\",\"2021-04-23T00:00:00\",\"2021-04-26T00:00:00\",\"2021-04-27T00:00:00\",\"2021-04-28T00:00:00\",\"2021-04-29T00:00:00\",\"2021-04-30T00:00:00\",\"2021-05-03T00:00:00\",\"2021-05-04T00:00:00\",\"2021-05-05T00:00:00\",\"2021-05-06T00:00:00\",\"2021-05-07T00:00:00\",\"2021-05-10T00:00:00\",\"2021-05-11T00:00:00\",\"2021-05-17T00:00:00\",\"2021-05-18T00:00:00\",\"2021-05-19T00:00:00\",\"2021-05-20T00:00:00\",\"2021-05-21T00:00:00\",\"2021-05-24T00:00:00\",\"2021-05-25T00:00:00\",\"2021-05-27T00:00:00\",\"2021-05-28T00:00:00\",\"2021-05-31T00:00:00\",\"2021-06-02T00:00:00\",\"2021-06-03T00:00:00\",\"2021-06-04T00:00:00\",\"2021-06-07T00:00:00\",\"2021-06-08T00:00:00\",\"2021-06-09T00:00:00\",\"2021-06-10T00:00:00\",\"2021-06-11T00:00:00\",\"2021-06-14T00:00:00\",\"2021-06-15T00:00:00\",\"2021-06-16T00:00:00\",\"2021-06-17T00:00:00\",\"2021-06-18T00:00:00\",\"2021-06-21T00:00:00\",\"2021-06-22T00:00:00\",\"2021-06-23T00:00:00\",\"2021-06-24T00:00:00\",\"2021-06-25T00:00:00\",\"2021-06-28T00:00:00\",\"2021-06-29T00:00:00\",\"2021-06-30T00:00:00\",\"2021-07-01T00:00:00\",\"2021-07-02T00:00:00\",\"2021-07-05T00:00:00\",\"2021-07-06T00:00:00\",\"2021-07-07T00:00:00\",\"2021-07-08T00:00:00\",\"2021-07-09T00:00:00\",\"2021-07-12T00:00:00\",\"2021-07-13T00:00:00\",\"2021-07-14T00:00:00\",\"2021-07-15T00:00:00\",\"2021-07-16T00:00:00\",\"2021-07-19T00:00:00\",\"2021-07-21T00:00:00\",\"2021-07-22T00:00:00\",\"2021-07-23T00:00:00\",\"2021-07-26T00:00:00\",\"2021-07-27T00:00:00\",\"2021-07-28T00:00:00\",\"2021-07-29T00:00:00\",\"2021-07-30T00:00:00\",\"2021-08-02T00:00:00\",\"2021-08-03T00:00:00\",\"2021-08-04T00:00:00\",\"2021-08-05T00:00:00\",\"2021-08-06T00:00:00\",\"2021-08-09T00:00:00\",\"2021-08-10T00:00:00\",\"2021-08-12T00:00:00\",\"2021-08-13T00:00:00\",\"2021-08-16T00:00:00\",\"2021-08-18T00:00:00\",\"2021-08-19T00:00:00\",\"2021-08-20T00:00:00\",\"2021-08-23T00:00:00\",\"2021-08-24T00:00:00\",\"2021-08-25T00:00:00\",\"2021-08-26T00:00:00\",\"2021-08-27T00:00:00\",\"2021-08-30T00:00:00\",\"2021-08-31T00:00:00\",\"2021-09-01T00:00:00\",\"2021-09-02T00:00:00\",\"2021-09-03T00:00:00\",\"2021-09-06T00:00:00\",\"2021-09-07T00:00:00\",\"2021-09-08T00:00:00\",\"2021-09-09T00:00:00\",\"2021-09-10T00:00:00\",\"2021-09-13T00:00:00\",\"2021-09-14T00:00:00\",\"2021-09-15T00:00:00\",\"2021-09-16T00:00:00\",\"2021-09-17T00:00:00\",\"2021-09-20T00:00:00\",\"2021-09-21T00:00:00\",\"2021-09-22T00:00:00\",\"2021-09-23T00:00:00\",\"2021-09-24T00:00:00\",\"2021-09-27T00:00:00\",\"2021-09-28T00:00:00\",\"2021-09-29T00:00:00\",\"2021-09-30T00:00:00\",\"2021-10-01T00:00:00\",\"2021-10-04T00:00:00\",\"2021-10-05T00:00:00\",\"2021-10-06T00:00:00\",\"2021-10-07T00:00:00\",\"2021-10-08T00:00:00\",\"2021-10-11T00:00:00\",\"2021-10-12T00:00:00\",\"2021-10-13T00:00:00\",\"2021-10-14T00:00:00\",\"2021-10-15T00:00:00\",\"2021-10-18T00:00:00\",\"2021-10-19T00:00:00\",\"2021-10-21T00:00:00\",\"2021-10-22T00:00:00\",\"2021-10-25T00:00:00\",\"2021-10-26T00:00:00\",\"2021-10-27T00:00:00\",\"2021-10-28T00:00:00\",\"2021-10-29T00:00:00\",\"2021-11-01T00:00:00\",\"2021-11-02T00:00:00\",\"2021-11-03T00:00:00\",\"2021-11-04T00:00:00\",\"2021-11-05T00:00:00\",\"2021-11-08T00:00:00\",\"2021-11-09T00:00:00\",\"2021-11-10T00:00:00\",\"2021-11-11T00:00:00\",\"2021-11-12T00:00:00\",\"2021-11-15T00:00:00\",\"2021-11-16T00:00:00\",\"2021-11-17T00:00:00\",\"2021-11-18T00:00:00\",\"2021-11-19T00:00:00\",\"2021-11-22T00:00:00\",\"2021-11-23T00:00:00\",\"2021-11-24T00:00:00\",\"2021-11-25T00:00:00\",\"2021-11-26T00:00:00\",\"2021-11-29T00:00:00\",\"2021-11-30T00:00:00\",\"2021-12-01T00:00:00\",\"2021-12-02T00:00:00\",\"2021-12-03T00:00:00\",\"2021-12-06T00:00:00\",\"2021-12-07T00:00:00\",\"2021-12-08T00:00:00\",\"2021-12-09T00:00:00\",\"2021-12-10T00:00:00\",\"2021-12-13T00:00:00\",\"2021-12-14T00:00:00\",\"2021-12-15T00:00:00\",\"2021-12-16T00:00:00\",\"2021-12-17T00:00:00\",\"2021-12-20T00:00:00\",\"2021-12-21T00:00:00\",\"2021-12-22T00:00:00\",\"2021-12-23T00:00:00\",\"2021-12-24T00:00:00\",\"2021-12-27T00:00:00\",\"2021-12-28T00:00:00\",\"2021-12-29T00:00:00\",\"2021-12-30T00:00:00\",\"2022-01-03T00:00:00\",\"2022-01-04T00:00:00\",\"2022-01-05T00:00:00\",\"2022-01-06T00:00:00\",\"2022-01-07T00:00:00\",\"2022-01-10T00:00:00\",\"2022-01-11T00:00:00\",\"2022-01-12T00:00:00\",\"2022-01-13T00:00:00\",\"2022-01-14T00:00:00\",\"2022-01-17T00:00:00\",\"2022-01-18T00:00:00\",\"2022-01-19T00:00:00\",\"2022-01-20T00:00:00\",\"2022-01-21T00:00:00\",\"2022-01-24T00:00:00\",\"2022-01-25T00:00:00\",\"2022-01-26T00:00:00\",\"2022-01-27T00:00:00\",\"2022-01-28T00:00:00\",\"2022-01-31T00:00:00\",\"2022-02-02T00:00:00\",\"2022-02-03T00:00:00\",\"2022-02-04T00:00:00\",\"2022-02-07T00:00:00\",\"2022-02-08T00:00:00\",\"2022-02-09T00:00:00\",\"2022-02-10T00:00:00\",\"2022-02-11T00:00:00\",\"2022-02-14T00:00:00\",\"2022-02-15T00:00:00\",\"2022-02-16T00:00:00\",\"2022-02-17T00:00:00\",\"2022-02-18T00:00:00\",\"2022-02-21T00:00:00\",\"2022-02-22T00:00:00\",\"2022-02-23T00:00:00\",\"2022-02-24T00:00:00\",\"2022-02-25T00:00:00\",\"2022-03-01T00:00:00\",\"2022-03-02T00:00:00\",\"2022-03-04T00:00:00\",\"2022-03-07T00:00:00\",\"2022-03-08T00:00:00\",\"2022-03-09T00:00:00\",\"2022-03-10T00:00:00\",\"2022-03-11T00:00:00\",\"2022-03-14T00:00:00\",\"2022-03-15T00:00:00\",\"2022-03-16T00:00:00\",\"2022-03-17T00:00:00\",\"2022-03-18T00:00:00\",\"2022-03-21T00:00:00\",\"2022-03-22T00:00:00\",\"2022-03-23T00:00:00\",\"2022-03-24T00:00:00\",\"2022-03-25T00:00:00\",\"2022-03-28T00:00:00\",\"2022-03-29T00:00:00\",\"2022-03-30T00:00:00\",\"2022-03-31T00:00:00\",\"2022-04-01T00:00:00\",\"2022-04-04T00:00:00\",\"2022-04-05T00:00:00\",\"2022-04-06T00:00:00\",\"2022-04-07T00:00:00\",\"2022-04-08T00:00:00\",\"2022-04-11T00:00:00\",\"2022-04-12T00:00:00\",\"2022-04-13T00:00:00\",\"2022-04-14T00:00:00\",\"2022-04-18T00:00:00\",\"2022-04-19T00:00:00\",\"2022-04-20T00:00:00\",\"2022-04-21T00:00:00\",\"2022-04-22T00:00:00\",\"2022-04-25T00:00:00\",\"2022-04-26T00:00:00\",\"2022-04-27T00:00:00\",\"2022-04-28T00:00:00\",\"2022-05-09T00:00:00\",\"2022-05-10T00:00:00\",\"2022-05-11T00:00:00\",\"2022-05-12T00:00:00\",\"2022-05-13T00:00:00\",\"2022-05-17T00:00:00\",\"2022-05-18T00:00:00\",\"2022-05-19T00:00:00\",\"2022-05-20T00:00:00\",\"2022-05-23T00:00:00\",\"2022-05-24T00:00:00\",\"2022-05-25T00:00:00\",\"2022-05-27T00:00:00\",\"2022-05-30T00:00:00\",\"2022-05-31T00:00:00\",\"2022-06-02T00:00:00\",\"2022-06-03T00:00:00\",\"2022-06-06T00:00:00\",\"2022-06-07T00:00:00\",\"2022-06-08T00:00:00\",\"2022-06-09T00:00:00\",\"2022-06-10T00:00:00\",\"2022-06-13T00:00:00\",\"2022-06-14T00:00:00\",\"2022-06-15T00:00:00\",\"2022-06-16T00:00:00\",\"2022-06-17T00:00:00\",\"2022-06-20T00:00:00\",\"2022-06-21T00:00:00\",\"2022-06-22T00:00:00\",\"2022-06-23T00:00:00\",\"2022-06-24T00:00:00\",\"2022-06-27T00:00:00\",\"2022-06-28T00:00:00\",\"2022-06-29T00:00:00\",\"2022-06-30T00:00:00\",\"2022-07-01T00:00:00\",\"2022-07-04T00:00:00\",\"2022-07-05T00:00:00\",\"2022-07-06T00:00:00\",\"2022-07-07T00:00:00\",\"2022-07-08T00:00:00\",\"2022-07-11T00:00:00\",\"2022-07-12T00:00:00\",\"2022-07-13T00:00:00\",\"2022-07-14T00:00:00\",\"2022-07-15T00:00:00\",\"2022-07-18T00:00:00\",\"2022-07-19T00:00:00\",\"2022-07-20T00:00:00\",\"2022-07-21T00:00:00\",\"2022-07-22T00:00:00\",\"2022-07-25T00:00:00\",\"2022-07-26T00:00:00\",\"2022-07-27T00:00:00\",\"2022-07-28T00:00:00\",\"2022-07-29T00:00:00\",\"2022-08-01T00:00:00\",\"2022-08-02T00:00:00\",\"2022-08-03T00:00:00\",\"2022-08-04T00:00:00\",\"2022-08-05T00:00:00\",\"2022-08-08T00:00:00\",\"2022-08-09T00:00:00\",\"2022-08-10T00:00:00\",\"2022-08-11T00:00:00\",\"2022-08-12T00:00:00\",\"2022-08-15T00:00:00\",\"2022-08-16T00:00:00\",\"2022-08-18T00:00:00\",\"2022-08-19T00:00:00\",\"2022-08-22T00:00:00\",\"2022-08-23T00:00:00\",\"2022-08-24T00:00:00\",\"2022-08-25T00:00:00\",\"2022-08-26T00:00:00\",\"2022-08-29T00:00:00\",\"2022-08-30T00:00:00\",\"2022-08-31T00:00:00\",\"2022-09-01T00:00:00\",\"2022-09-02T00:00:00\",\"2022-09-05T00:00:00\",\"2022-09-06T00:00:00\",\"2022-09-07T00:00:00\",\"2022-09-08T00:00:00\",\"2022-09-09T00:00:00\",\"2022-09-12T00:00:00\",\"2022-09-13T00:00:00\",\"2022-09-14T00:00:00\"],\"y\":[-0.45871559633027514,-0.4311926605504586,-0.4954128440366974,-0.5779816513761467,-0.5321100917431192,-0.4678899082568808,-0.5321100917431192,-0.5504587155963305,-0.5137614678899083,-0.5045871559633031,-0.4862385321100917,-0.4495412844036699,-0.4862385321100917,-0.25688073394495436,-0.33944954128440363,-0.2844036697247705,-0.3761467889908259,-0.44036697247706424,-0.3853211009174311,-0.4862385321100917,-0.5045871559633031,-0.522935779816514,-0.5596330275229358,-0.4862385321100917,-0.3486238532110093,-0.4128440366972477,-0.45871559633027514,-0.44036697247706424,-0.45871559633027514,-0.5045871559633031,-0.4678899082568808,-0.3669724770642202,-0.3486238532110093,-0.3944954128440368,-0.3761467889908259,-0.4495412844036699,-0.4862385321100917,-0.522935779816514,-0.6055045871559632,-0.5504587155963305,-0.45871559633027514,-0.4495412844036699,-0.4128440366972477,-0.3486238532110093,-0.4128440366972477,-0.4678899082568808,-0.4495412844036699,-0.4495412844036699,-0.4128440366972477,-0.4311926605504586,-0.5321100917431192,-0.5688073394495414,-0.5412844036697249,-0.4770642201834865,-0.5412844036697249,-0.5321100917431192,-0.4770642201834865,-0.4770642201834865,-0.4862385321100917,-0.5045871559633031,-0.5137614678899083,-0.5045871559633031,-0.5045871559633031,-0.522935779816514,-0.5412844036697249,-0.5321100917431192,-0.522935779816514,-0.522935779816514,-0.5596330275229358,-0.5596330275229358,-0.5688073394495414,-0.5779816513761467,-0.5779816513761467,-0.7155963302752295,-0.6513761467889911,-0.6513761467889911,-0.5779816513761467,-0.6055045871559632,-0.6055045871559632,-0.6422018348623855,-0.6513761467889911,-0.6238532110091746,-0.5779816513761467,-0.5779816513761467,-0.5779816513761467,-0.5871559633027523,-0.596330275229358,-0.596330275229358,-0.6055045871559632,-0.6330275229357798,-0.7064220183486238,-0.7064220183486238,-0.669724770642202,-0.6880733944954129,-0.7247706422018347,-0.6972477064220186,-0.7064220183486238,-0.761467889908257,-0.926605504587156,-0.8990825688073394,-0.7431192660550461,-0.7522935779816513,-0.7889908256880735,-0.7798165137614679,-0.7247706422018347,-0.761467889908257,-0.8073394495412844,-0.8165137614678901,-0.8440366972477067,-0.8807339449541285,-0.8899082568807342,-0.9174311926605507,-1.0,-0.9449541284403673,-0.8990825688073394,-0.9082568807339451,-0.926605504587156,-0.926605504587156,-0.8990825688073394,-0.8532110091743119,-0.8440366972477067,-0.8715596330275228,-0.8440366972477067,-0.7981651376146792,-0.834862385321101,-0.8440366972477067,-0.8807339449541285,-0.8807339449541285,-0.8990825688073394,-0.9174311926605507,-0.9174311926605507,-0.926605504587156,-0.9908256880733948,-1.0,-0.9633027522935782,-0.926605504587156,-0.8073394495412844,-0.7247706422018347,-0.7064220183486238,-0.6880733944954129,-0.5688073394495414,-0.6238532110091746,-0.5596330275229358,-0.4862385321100917,-0.4311926605504586,-0.4495412844036699,-0.4128440366972477,-0.3761467889908259,-0.27522935779816526,-0.32110091743119273,-0.32110091743119273,-0.19266055045871555,-0.3761467889908259,-0.4311926605504586,-0.357798165137615,-0.32110091743119273,-0.3853211009174311,-0.33944954128440363,-0.31192660550458706,-0.3486238532110093,-0.3486238532110093,-0.3486238532110093,-0.31192660550458706,-0.11926605504587151,-0.10091743119266061,-0.11926605504587151,-0.11009174311926628,-0.2660550458715596,-0.357798165137615,-0.32110091743119273,-0.2110091743119269,-0.29357798165137616,-0.29357798165137616,-0.19266055045871555,-0.27522935779816526,-0.2293577981651378,-0.17431192660550465,-0.05504587155963314,-0.11926605504587151,-0.15596330275229375,-0.14678899082568808,-0.16513761467889898,-0.18348623853211032,-0.23853211009174302,-0.2293577981651378,-0.15596330275229375,-0.2477064220183487,-0.29357798165137616,-0.33944954128440363,-0.33944954128440363,-0.3669724770642202,-0.4770642201834865,-0.5412844036697249,-0.3486238532110093,-0.3761467889908259,-0.33944954128440363,-0.3302752293577984,-0.3302752293577984,-0.4128440366972477,-0.4311926605504586,-0.42201834862385335,-0.3944954128440368,-0.40366972477064245,-0.4495412844036699,-0.4128440366972477,-0.42201834862385335,-0.42201834862385335,-0.3944954128440368,-0.15596330275229375,-0.16513761467889898,-0.20183486238532122,-0.14678899082568808,-0.17431192660550465,-0.19266055045871555,-0.25688073394495436,-0.2844036697247705,-0.27522935779816526,-0.32110091743119273,-0.29357798165137616,-0.18348623853211032,-0.2293577981651378,-0.2477064220183487,-0.23853211009174302,-0.18348623853211032,-0.2293577981651378,-0.2293577981651378,-0.25688073394495436,-0.2844036697247705,-0.2293577981651378,-0.22018348623853212,-0.2110091743119269,-0.2477064220183487,-0.27522935779816526,-0.2293577981651378,-0.23853211009174302,-0.23853211009174302,-0.2293577981651378,-0.2293577981651378,-0.2477064220183487,-0.30275229357798183,-0.30275229357798183,-0.2844036697247705,-0.2844036697247705,-0.2844036697247705,-0.27522935779816526,-0.30275229357798183,-0.32110091743119273,-0.31192660550458706,-0.31192660550458706,-0.3486238532110093,-0.4495412844036699,-0.45871559633027514,-0.4495412844036699,-0.3944954128440368,-0.45871559633027514,-0.42201834862385335,-0.4128440366972477,-0.44036697247706424,-0.4128440366972477,-0.4311926605504586,-0.44036697247706424,-0.44036697247706424,-0.44036697247706424,-0.44036697247706424,-0.4128440366972477,-0.3302752293577984,-0.3761467889908259,-0.3302752293577984,-0.27522935779816526,-0.33944954128440363,-0.30275229357798183,-0.19266055045871555,-0.19266055045871555,-0.16513761467889898,-0.11926605504587151,-0.14678899082568808,-0.29357798165137616,-0.2660550458715596,-0.19266055045871555,-0.2110091743119269,-0.2293577981651378,-0.2293577981651378,-0.25688073394495436,-0.31192660550458706,-0.33944954128440363,-0.31192660550458706,-0.29357798165137616,-0.357798165137615,-0.357798165137615,-0.42201834862385335,-0.44036697247706424,-0.45871559633027514,-0.4954128440366974,-0.522935779816514,-0.5688073394495414,-0.5779816513761467,-0.5688073394495414,-0.5779816513761467,-0.5504587155963305,-0.4770642201834865,-0.5321100917431192,-0.5596330275229358,-0.5045871559633031,-0.4770642201834865,-0.44036697247706424,-0.4128440366972477,-0.3853211009174311,-0.44036697247706424,-0.4495412844036699,-0.4311926605504586,-0.44036697247706424,-0.3944954128440368,-0.3944954128440368,-0.3853211009174311,-0.31192660550458706,-0.29357798165137616,-0.2844036697247705,-0.29357798165137616,-0.3761467889908259,-0.40366972477064245,-0.357798165137615,-0.33944954128440363,-0.31192660550458706,-0.25688073394495436,-0.2477064220183487,-0.23853211009174302,-0.2110091743119269,-0.29357798165137616,-0.27522935779816526,-0.2844036697247705,-0.29357798165137616,-0.27522935779816526,-0.2477064220183487,-0.27522935779816526,-0.25688073394495436,-0.23853211009174302,-0.2293577981651378,-0.2477064220183487,-0.29357798165137616,-0.27522935779816526,-0.2844036697247705,-0.30275229357798183,-0.25688073394495436,-0.20183486238532122,-0.2110091743119269,-0.22018348623853212,-0.15596330275229375,-0.1376146788990824,-0.10091743119266061,-0.07339449541284404,-0.08256880733944971,-0.1376146788990824,-0.12844036697247718,-0.12844036697247718,-0.08256880733944971,-0.0183486238532109,-0.02752293577981657,-0.009174311926605672,0.0183486238532109,0.05504587155963314,0.08256880733944927,0.12844036697247718,0.12844036697247718,0.11009174311926584,0.12844036697247718,0.11009174311926584,0.14678899082568808,0.08256880733944927,0.11926605504587151,0.17431192660550465,0.1376146788990824,0.1376146788990824,0.12844036697247718,0.07339449541284404,0.09174311926605494,0.06422018348623837,0.009174311926605672,-0.009174311926605672,0.08256880733944927,0.07339449541284404,0.07339449541284404,0.04587155963302747,0.0366972477064218,0.009174311926605672,-0.02752293577981657,-0.02752293577981657,-0.03669724770642224,-0.02752293577981657,-0.02752293577981657,0.02752293577981657,0.1376146788990824,0.1376146788990824,0.14678899082568808,0.20183486238532122,0.31192660550458706,0.32110091743119273,0.33027522935779796,0.35779816513761453,0.4311926605504586,0.3853211009174311,0.3853211009174311,0.4495412844036699,0.3486238532110093,0.4128440366972477,0.403669724770642,0.4128440366972477,0.403669724770642,0.3944954128440368,0.3944954128440368,0.3486238532110093,0.37614678899082543,0.4311926605504586,0.44036697247706424,0.4311926605504586,0.4311926605504586,0.403669724770642,0.3853211009174311,0.4128440366972477,0.37614678899082543,0.3853211009174311,0.47706422018348604,0.3669724770642202,0.3669724770642202,0.42201834862385335,0.4311926605504586,0.42201834862385335,0.403669724770642,0.44036697247706424,0.45871559633027514,0.4678899082568808,0.4862385321100917,0.5504587155963301,0.5137614678899083,0.5137614678899083,0.5688073394495414,0.5688073394495414,0.6055045871559632,0.5779816513761467,0.5504587155963301,0.5137614678899083,0.47706422018348604,0.4862385321100917,0.5045871559633026,0.5321100917431192,0.5504587155963301,0.5321100917431192,0.6513761467889907,0.7155963302752295,0.6238532110091741,0.6697247706422016,0.6880733944954129,0.6697247706422016,0.6788990825688077,0.6513761467889907,0.5688073394495414,0.5871559633027523,0.5229357798165135,0.5596330275229358,0.6605504587155964,0.5871559633027523,0.6146788990825689,0.6788990825688077,0.834862385321101,0.7247706422018347,0.6880733944954129,0.7064220183486243,0.834862385321101,0.8623853211009176,0.8440366972477062,0.7522935779816513,0.7706422018348627,0.8165137614678897,0.834862385321101,0.7981651376146792,0.7981651376146792,0.7798165137614679,0.7981651376146792,0.8532110091743115,0.8532110091743115,0.8532110091743115,0.8256880733944958,0.7889908256880731,0.7981651376146792,0.7247706422018347,0.7431192660550461,0.8532110091743115,0.8440366972477062,0.8715596330275228,0.9357798165137612,0.9449541284403673,0.9724770642201839,0.9633027522935778,0.9082568807339446,0.8899082568807342,0.8715596330275228,0.8715596330275228,0.9541284403669725,1.0000000000000004,0.9082568807339446,0.6146788990825689,0.4495412844036699,0.6422018348623855,0.5688073394495414,0.5504587155963301,0.5045871559633026,0.5137614678899083,0.47706422018348604,0.4954128440366974,0.403669724770642,0.4495412844036699,0.47706422018348604,0.5321100917431192,0.5229357798165135,0.5504587155963301,0.5871559633027523,0.6146788990825689,0.5871559633027523,0.5688073394495414,0.4128440366972477,0.3853211009174311,0.33944954128440363,0.27522935779816526,0.35779816513761453,0.3669724770642202,0.3669724770642202,0.32110091743119273,0.33944954128440363,0.3669724770642202,0.37614678899082543,0.3669724770642202,0.4311926605504586,0.37614678899082543,0.33944954128440363,0.33944954128440363,0.33944954128440363,0.33944954128440363,0.19266055045871555,0.29357798165137616,0.31192660550458706,0.3486238532110093,0.33944954128440363,0.33944954128440363,0.3486238532110093,0.27522935779816526,0.2477064220183487,0.3486238532110093,0.403669724770642,0.45871559633027514,0.4678899082568808,0.5045871559633026,0.5137614678899083,0.5412844036697249,0.5137614678899083,0.5321100917431192,0.5137614678899083,0.5321100917431192,0.5504587155963301,0.5688073394495414,0.7155963302752295,0.7522935779816513,0.8256880733944958,0.9357798165137612,0.9174311926605507,0.7889908256880731,0.8165137614678897,0.8256880733944958,0.7431192660550461,0.7155963302752295,0.6605504587155964,0.7614678899082565,0.8256880733944958,0.8990825688073394,0.8899082568807342,0.8532110091743115,0.7798165137614679,0.6697247706422016,0.7798165137614679,0.7247706422018347,0.8256880733944958,0.834862385321101,0.8440366972477062,0.8073394495412844,0.7798165137614679,0.7981651376146792,0.8256880733944958,0.8256880733944958,0.8165137614678897,0.7614678899082565],\"type\":\"scatter\"}],                        {\"template\":{\"data\":{\"histogram2dcontour\":[{\"type\":\"histogram2dcontour\",\"colorbar\":{\"outlinewidth\":0,\"ticks\":\"\"},\"colorscale\":[[0.0,\"#0d0887\"],[0.1111111111111111,\"#46039f\"],[0.2222222222222222,\"#7201a8\"],[0.3333333333333333,\"#9c179e\"],[0.4444444444444444,\"#bd3786\"],[0.5555555555555556,\"#d8576b\"],[0.6666666666666666,\"#ed7953\"],[0.7777777777777778,\"#fb9f3a\"],[0.8888888888888888,\"#fdca26\"],[1.0,\"#f0f921\"]]}],\"choropleth\":[{\"type\":\"choropleth\",\"colorbar\":{\"outlinewidth\":0,\"ticks\":\"\"}}],\"histogram2d\":[{\"type\":\"histogram2d\",\"colorbar\":{\"outlinewidth\":0,\"ticks\":\"\"},\"colorscale\":[[0.0,\"#0d0887\"],[0.1111111111111111,\"#46039f\"],[0.2222222222222222,\"#7201a8\"],[0.3333333333333333,\"#9c179e\"],[0.4444444444444444,\"#bd3786\"],[0.5555555555555556,\"#d8576b\"],[0.6666666666666666,\"#ed7953\"],[0.7777777777777778,\"#fb9f3a\"],[0.8888888888888888,\"#fdca26\"],[1.0,\"#f0f921\"]]}],\"heatmap\":[{\"type\":\"heatmap\",\"colorbar\":{\"outlinewidth\":0,\"ticks\":\"\"},\"colorscale\":[[0.0,\"#0d0887\"],[0.1111111111111111,\"#46039f\"],[0.2222222222222222,\"#7201a8\"],[0.3333333333333333,\"#9c179e\"],[0.4444444444444444,\"#bd3786\"],[0.5555555555555556,\"#d8576b\"],[0.6666666666666666,\"#ed7953\"],[0.7777777777777778,\"#fb9f3a\"],[0.8888888888888888,\"#fdca26\"],[1.0,\"#f0f921\"]]}],\"heatmapgl\":[{\"type\":\"heatmapgl\",\"colorbar\":{\"outlinewidth\":0,\"ticks\":\"\"},\"colorscale\":[[0.0,\"#0d0887\"],[0.1111111111111111,\"#46039f\"],[0.2222222222222222,\"#7201a8\"],[0.3333333333333333,\"#9c179e\"],[0.4444444444444444,\"#bd3786\"],[0.5555555555555556,\"#d8576b\"],[0.6666666666666666,\"#ed7953\"],[0.7777777777777778,\"#fb9f3a\"],[0.8888888888888888,\"#fdca26\"],[1.0,\"#f0f921\"]]}],\"contourcarpet\":[{\"type\":\"contourcarpet\",\"colorbar\":{\"outlinewidth\":0,\"ticks\":\"\"}}],\"contour\":[{\"type\":\"contour\",\"colorbar\":{\"outlinewidth\":0,\"ticks\":\"\"},\"colorscale\":[[0.0,\"#0d0887\"],[0.1111111111111111,\"#46039f\"],[0.2222222222222222,\"#7201a8\"],[0.3333333333333333,\"#9c179e\"],[0.4444444444444444,\"#bd3786\"],[0.5555555555555556,\"#d8576b\"],[0.6666666666666666,\"#ed7953\"],[0.7777777777777778,\"#fb9f3a\"],[0.8888888888888888,\"#fdca26\"],[1.0,\"#f0f921\"]]}],\"surface\":[{\"type\":\"surface\",\"colorbar\":{\"outlinewidth\":0,\"ticks\":\"\"},\"colorscale\":[[0.0,\"#0d0887\"],[0.1111111111111111,\"#46039f\"],[0.2222222222222222,\"#7201a8\"],[0.3333333333333333,\"#9c179e\"],[0.4444444444444444,\"#bd3786\"],[0.5555555555555556,\"#d8576b\"],[0.6666666666666666,\"#ed7953\"],[0.7777777777777778,\"#fb9f3a\"],[0.8888888888888888,\"#fdca26\"],[1.0,\"#f0f921\"]]}],\"mesh3d\":[{\"type\":\"mesh3d\",\"colorbar\":{\"outlinewidth\":0,\"ticks\":\"\"}}],\"scatter\":[{\"fillpattern\":{\"fillmode\":\"overlay\",\"size\":10,\"solidity\":0.2},\"type\":\"scatter\"}],\"parcoords\":[{\"type\":\"parcoords\",\"line\":{\"colorbar\":{\"outlinewidth\":0,\"ticks\":\"\"}}}],\"scatterpolargl\":[{\"type\":\"scatterpolargl\",\"marker\":{\"colorbar\":{\"outlinewidth\":0,\"ticks\":\"\"}}}],\"bar\":[{\"error_x\":{\"color\":\"#2a3f5f\"},\"error_y\":{\"color\":\"#2a3f5f\"},\"marker\":{\"line\":{\"color\":\"#E5ECF6\",\"width\":0.5},\"pattern\":{\"fillmode\":\"overlay\",\"size\":10,\"solidity\":0.2}},\"type\":\"bar\"}],\"scattergeo\":[{\"type\":\"scattergeo\",\"marker\":{\"colorbar\":{\"outlinewidth\":0,\"ticks\":\"\"}}}],\"scatterpolar\":[{\"type\":\"scatterpolar\",\"marker\":{\"colorbar\":{\"outlinewidth\":0,\"ticks\":\"\"}}}],\"histogram\":[{\"marker\":{\"pattern\":{\"fillmode\":\"overlay\",\"size\":10,\"solidity\":0.2}},\"type\":\"histogram\"}],\"scattergl\":[{\"type\":\"scattergl\",\"marker\":{\"colorbar\":{\"outlinewidth\":0,\"ticks\":\"\"}}}],\"scatter3d\":[{\"type\":\"scatter3d\",\"line\":{\"colorbar\":{\"outlinewidth\":0,\"ticks\":\"\"}},\"marker\":{\"colorbar\":{\"outlinewidth\":0,\"ticks\":\"\"}}}],\"scattermapbox\":[{\"type\":\"scattermapbox\",\"marker\":{\"colorbar\":{\"outlinewidth\":0,\"ticks\":\"\"}}}],\"scatterternary\":[{\"type\":\"scatterternary\",\"marker\":{\"colorbar\":{\"outlinewidth\":0,\"ticks\":\"\"}}}],\"scattercarpet\":[{\"type\":\"scattercarpet\",\"marker\":{\"colorbar\":{\"outlinewidth\":0,\"ticks\":\"\"}}}],\"carpet\":[{\"aaxis\":{\"endlinecolor\":\"#2a3f5f\",\"gridcolor\":\"white\",\"linecolor\":\"white\",\"minorgridcolor\":\"white\",\"startlinecolor\":\"#2a3f5f\"},\"baxis\":{\"endlinecolor\":\"#2a3f5f\",\"gridcolor\":\"white\",\"linecolor\":\"white\",\"minorgridcolor\":\"white\",\"startlinecolor\":\"#2a3f5f\"},\"type\":\"carpet\"}],\"table\":[{\"cells\":{\"fill\":{\"color\":\"#EBF0F8\"},\"line\":{\"color\":\"white\"}},\"header\":{\"fill\":{\"color\":\"#C8D4E3\"},\"line\":{\"color\":\"white\"}},\"type\":\"table\"}],\"barpolar\":[{\"marker\":{\"line\":{\"color\":\"#E5ECF6\",\"width\":0.5},\"pattern\":{\"fillmode\":\"overlay\",\"size\":10,\"solidity\":0.2}},\"type\":\"barpolar\"}],\"pie\":[{\"automargin\":true,\"type\":\"pie\"}]},\"layout\":{\"autotypenumbers\":\"strict\",\"colorway\":[\"#636efa\",\"#EF553B\",\"#00cc96\",\"#ab63fa\",\"#FFA15A\",\"#19d3f3\",\"#FF6692\",\"#B6E880\",\"#FF97FF\",\"#FECB52\"],\"font\":{\"color\":\"#2a3f5f\"},\"hovermode\":\"closest\",\"hoverlabel\":{\"align\":\"left\"},\"paper_bgcolor\":\"white\",\"plot_bgcolor\":\"#E5ECF6\",\"polar\":{\"bgcolor\":\"#E5ECF6\",\"angularaxis\":{\"gridcolor\":\"white\",\"linecolor\":\"white\",\"ticks\":\"\"},\"radialaxis\":{\"gridcolor\":\"white\",\"linecolor\":\"white\",\"ticks\":\"\"}},\"ternary\":{\"bgcolor\":\"#E5ECF6\",\"aaxis\":{\"gridcolor\":\"white\",\"linecolor\":\"white\",\"ticks\":\"\"},\"baxis\":{\"gridcolor\":\"white\",\"linecolor\":\"white\",\"ticks\":\"\"},\"caxis\":{\"gridcolor\":\"white\",\"linecolor\":\"white\",\"ticks\":\"\"}},\"coloraxis\":{\"colorbar\":{\"outlinewidth\":0,\"ticks\":\"\"}},\"colorscale\":{\"sequential\":[[0.0,\"#0d0887\"],[0.1111111111111111,\"#46039f\"],[0.2222222222222222,\"#7201a8\"],[0.3333333333333333,\"#9c179e\"],[0.4444444444444444,\"#bd3786\"],[0.5555555555555556,\"#d8576b\"],[0.6666666666666666,\"#ed7953\"],[0.7777777777777778,\"#fb9f3a\"],[0.8888888888888888,\"#fdca26\"],[1.0,\"#f0f921\"]],\"sequentialminus\":[[0.0,\"#0d0887\"],[0.1111111111111111,\"#46039f\"],[0.2222222222222222,\"#7201a8\"],[0.3333333333333333,\"#9c179e\"],[0.4444444444444444,\"#bd3786\"],[0.5555555555555556,\"#d8576b\"],[0.6666666666666666,\"#ed7953\"],[0.7777777777777778,\"#fb9f3a\"],[0.8888888888888888,\"#fdca26\"],[1.0,\"#f0f921\"]],\"diverging\":[[0,\"#8e0152\"],[0.1,\"#c51b7d\"],[0.2,\"#de77ae\"],[0.3,\"#f1b6da\"],[0.4,\"#fde0ef\"],[0.5,\"#f7f7f7\"],[0.6,\"#e6f5d0\"],[0.7,\"#b8e186\"],[0.8,\"#7fbc41\"],[0.9,\"#4d9221\"],[1,\"#276419\"]]},\"xaxis\":{\"gridcolor\":\"white\",\"linecolor\":\"white\",\"ticks\":\"\",\"title\":{\"standoff\":15},\"zerolinecolor\":\"white\",\"automargin\":true,\"zerolinewidth\":2},\"yaxis\":{\"gridcolor\":\"white\",\"linecolor\":\"white\",\"ticks\":\"\",\"title\":{\"standoff\":15},\"zerolinecolor\":\"white\",\"automargin\":true,\"zerolinewidth\":2},\"scene\":{\"xaxis\":{\"backgroundcolor\":\"#E5ECF6\",\"gridcolor\":\"white\",\"linecolor\":\"white\",\"showbackground\":true,\"ticks\":\"\",\"zerolinecolor\":\"white\",\"gridwidth\":2},\"yaxis\":{\"backgroundcolor\":\"#E5ECF6\",\"gridcolor\":\"white\",\"linecolor\":\"white\",\"showbackground\":true,\"ticks\":\"\",\"zerolinecolor\":\"white\",\"gridwidth\":2},\"zaxis\":{\"backgroundcolor\":\"#E5ECF6\",\"gridcolor\":\"white\",\"linecolor\":\"white\",\"showbackground\":true,\"ticks\":\"\",\"zerolinecolor\":\"white\",\"gridwidth\":2}},\"shapedefaults\":{\"line\":{\"color\":\"#2a3f5f\"}},\"annotationdefaults\":{\"arrowcolor\":\"#2a3f5f\",\"arrowhead\":0,\"arrowwidth\":1},\"geo\":{\"bgcolor\":\"white\",\"landcolor\":\"#E5ECF6\",\"subunitcolor\":\"white\",\"showland\":true,\"showlakes\":true,\"lakecolor\":\"white\"},\"title\":{\"x\":0.05},\"mapbox\":{\"style\":\"light\"}}},\"margin\":{\"l\":50,\"r\":50,\"b\":100,\"t\":100,\"pad\":4},\"title\":{\"text\":\"Data Normalized\"},\"xaxis\":{\"title\":{\"text\":\"Time\"}},\"yaxis\":{\"title\":{\"text\":\"Value\"}},\"autosize\":false,\"width\":600,\"height\":600,\"paper_bgcolor\":\"LightSteelBlue\",\"showlegend\":false},                        {\"responsive\": true}                    ).then(function(){\n",
              "                            \n",
              "var gd = document.getElementById('4bb30c7f-1667-4226-8cfd-a4ac09ee5db0');\n",
              "var x = new MutationObserver(function (mutations, observer) {{\n",
              "        var display = window.getComputedStyle(gd).display;\n",
              "        if (!display || display === 'none') {{\n",
              "            console.log([gd, 'removed!']);\n",
              "            Plotly.purge(gd);\n",
              "            observer.disconnect();\n",
              "        }}\n",
              "}});\n",
              "\n",
              "// Listen for the removal of the full notebook cells\n",
              "var notebookContainer = gd.closest('#notebook-container');\n",
              "if (notebookContainer) {{\n",
              "    x.observe(notebookContainer, {childList: true});\n",
              "}}\n",
              "\n",
              "// Listen for the clearing of the current output cell\n",
              "var outputEl = gd.closest('.output');\n",
              "if (outputEl) {{\n",
              "    x.observe(outputEl, {childList: true});\n",
              "}}\n",
              "\n",
              "                        })                };                            </script>        </div>\n",
              "</body>\n",
              "</html>"
            ]
          },
          "metadata": {}
        }
      ]
    },
    {
      "cell_type": "markdown",
      "source": [
        "## Prepare features and labels"
      ],
      "metadata": {
        "id": "uAy6Ml_8vwuu"
      }
    },
    {
      "cell_type": "code",
      "source": [
        "window_size = 20\n",
        "batch_size = 32\n",
        "shuffle_buffer_size = 1000\n",
        "     \n",
        "## CONSTANT\n",
        "MU = 0.000001\n",
        "NANO = 1e-9"
      ],
      "metadata": {
        "id": "i3o8f9AWvyIv"
      },
      "execution_count": 100,
      "outputs": []
    },
    {
      "cell_type": "code",
      "source": [
        "# Generate the dataset windows\n",
        "windowed_training_ds = windowed_dataset(training_set_normalized, window_size, \n",
        "                           batch_size, shuffle_buffer_size)"
      ],
      "metadata": {
        "id": "rMJGaOXqv1h8"
      },
      "execution_count": 101,
      "outputs": []
    },
    {
      "cell_type": "code",
      "source": [
        "# Print properties of a single batch\n",
        "for windows in windowed_training_ds.take(1):\n",
        "  print(f'data type: {type(windows)}')\n",
        "  print(f'number of elements in the tuple: {len(windows)}')\n",
        "  print(f'shape of first element: {windows[0].shape}')\n",
        "  print(f'shape of second element: {windows[1].shape}')\n",
        "  print(f'shape of first element expanded: {tf.expand_dims(windows[0], axis=-1).shape}')"
      ],
      "metadata": {
        "colab": {
          "base_uri": "https://localhost:8080/"
        },
        "id": "QKx907hAv3BP",
        "outputId": "e720feef-1b68-49aa-85d4-d66a6a884206"
      },
      "execution_count": 102,
      "outputs": [
        {
          "output_type": "stream",
          "name": "stdout",
          "text": [
            "data type: <class 'tuple'>\n",
            "number of elements in the tuple: 2\n",
            "shape of first element: (32, 20, 5)\n",
            "shape of second element: (32, 5)\n",
            "shape of first element expanded: (32, 20, 5, 1)\n"
          ]
        }
      ]
    },
    {
      "cell_type": "markdown",
      "source": [
        "## Build and compile the model"
      ],
      "metadata": {
        "id": "5CVDVY3Nv670"
      }
    },
    {
      "cell_type": "code",
      "source": [
        "class TS_LSTM_Model(tf.keras.Model):\n",
        "  def __init__(self, window_size,feature_size=1,\n",
        "               normalizer_layer=None,\n",
        "               denormalizer_layer=None,\n",
        "               expand_dims_layer=True,\n",
        "               **kwargs):\n",
        "    super(TS_LSTM_Model, self).__init__(**kwargs)\n",
        "\n",
        "    self.normalizer_1 = normalizer_layer\n",
        "    self.denormalizer_1 = denormalizer_layer\n",
        "    model_tune = tf.keras.models.Sequential()\n",
        "    if(expand_dims_layer):\n",
        "      model_tune.add(tf.keras.layers.Lambda(lambda x: tf.expand_dims(x, axis=-1),\n",
        "                      input_shape=[window_size]))      \n",
        "    model_tune.add(tf.keras.layers.Bidirectional(\n",
        "        tf.keras.layers.LSTM(32, return_sequences=True)))\n",
        "    model_tune.add(tf.keras.layers.Bidirectional(tf.keras.layers.LSTM(32)))\n",
        "    model_tune.add(tf.keras.layers.Dense(feature_size))\n",
        "    self.seq_1 = model_tune\n",
        "\n",
        "  def normalize(self, x):\n",
        "    return self.normalizer_1(x)\n",
        "  \n",
        "  def denormalize(self, x):\n",
        "    return self.denormalizer_1(x)\n",
        "\n",
        "  @tf.function(reduce_retracing=True)   \n",
        "  def call(self, x):\n",
        "    x = self.seq_1(x)\n",
        "    return x"
      ],
      "metadata": {
        "id": "CnW21vqav5I6"
      },
      "execution_count": 103,
      "outputs": []
    },
    {
      "cell_type": "markdown",
      "source": [
        "### create model"
      ],
      "metadata": {
        "id": "_oC7W8WPv_pO"
      }
    },
    {
      "cell_type": "code",
      "source": [
        "learning_rate_value_all = 1e-6\n",
        "epoch_value = 100"
      ],
      "metadata": {
        "id": "971GdGN5v-T-"
      },
      "execution_count": 104,
      "outputs": []
    },
    {
      "cell_type": "markdown",
      "source": [
        "Since we are using minmaxscaler we already reshape the input dimension into (Batch_size, window_size, feature_size) so we do not need to add lambda expand dimension layer, so we set expand_dims_layer=False to the parameter of model\n",
        "\n",
        "and input shape for build() would be input_shape = (1, window_size, feature_size)"
      ],
      "metadata": {
        "id": "-gB5q6VNwE-g"
      }
    },
    {
      "cell_type": "code",
      "source": [
        "# Reset states generated by Keras\n",
        "tf.keras.backend.clear_session()\n",
        "\n",
        "model_tune2 = TS_LSTM_Model(window_size=window_size, \n",
        "                              normalizer_layer=None,\n",
        "                              feature_size=training_set_normalized.shape[1],\n",
        "                              denormalizer_layer=None,\n",
        "                            expand_dims_layer=False)\n",
        "# set built parameter\n",
        "\n",
        "print(training_set.shape)\n",
        "model_tune2.build(input_shape = (1, window_size, training_set_normalized.shape[1]))\n",
        "model_tune2.summary()\n",
        "# Set the training parameters\n",
        "model_tune2.compile(loss=tf.keras.losses.Huber(), \n",
        "                    optimizer=tf.keras.optimizers.SGD(\n",
        "                        learning_rate=learning_rate_value_all,\n",
        "                        momentum=0.9))"
      ],
      "metadata": {
        "colab": {
          "base_uri": "https://localhost:8080/"
        },
        "id": "RMXTZUmSwCUU",
        "outputId": "cb27fa08-a186-449e-ce4b-70ca4cc48c29"
      },
      "execution_count": 105,
      "outputs": [
        {
          "output_type": "stream",
          "name": "stdout",
          "text": [
            "(588, 5)\n",
            "Model: \"ts_lstm__model\"\n",
            "_________________________________________________________________\n",
            " Layer (type)                Output Shape              Param #   \n",
            "=================================================================\n",
            " sequential (Sequential)     (1, 5)                    34885     \n",
            "                                                                 \n",
            "=================================================================\n",
            "Total params: 34,885\n",
            "Trainable params: 34,885\n",
            "Non-trainable params: 0\n",
            "_________________________________________________________________\n"
          ]
        }
      ]
    },
    {
      "cell_type": "markdown",
      "source": [
        "### Tune the Learning Rate\n",
        "\n",
        "As usual, you will pick a learning rate by running the tuning code below."
      ],
      "metadata": {
        "id": "6uMlQ332wKHd"
      }
    },
    {
      "cell_type": "code",
      "source": [
        "# Set the learning rate scheduler\n",
        "lr_schedule = tf.keras.callbacks.LearningRateScheduler(\n",
        "    lambda epoch: learning_rate_value_all * 10**(epoch / 20))\n",
        "\n",
        "# Train the model\n",
        "history_tune2 = model_tune2.fit(windowed_training_ds, epochs=epoch_value, \n",
        "                                callbacks=[lr_schedule],\n",
        "                                verbose=0)"
      ],
      "metadata": {
        "id": "CpJN1lsTwL_s"
      },
      "execution_count": 106,
      "outputs": []
    },
    {
      "cell_type": "code",
      "source": [
        "plot_loss_inlog_plotly(history_tune2, epoch_value, lrs_value=learning_rate_value_all)"
      ],
      "metadata": {
        "colab": {
          "base_uri": "https://localhost:8080/",
          "height": 617
        },
        "id": "XY5jVAuGwNw_",
        "outputId": "a5cbad9b-bf67-4391-a2c1-f65808f9a8e9"
      },
      "execution_count": 107,
      "outputs": [
        {
          "output_type": "display_data",
          "data": {
            "text/html": [
              "<html>\n",
              "<head><meta charset=\"utf-8\" /></head>\n",
              "<body>\n",
              "    <div>            <script src=\"https://cdnjs.cloudflare.com/ajax/libs/mathjax/2.7.5/MathJax.js?config=TeX-AMS-MML_SVG\"></script><script type=\"text/javascript\">if (window.MathJax && window.MathJax.Hub && window.MathJax.Hub.Config) {window.MathJax.Hub.Config({SVG: {font: \"STIX-Web\"}});}</script>                <script type=\"text/javascript\">window.PlotlyConfig = {MathJaxConfig: 'local'};</script>\n",
              "        <script src=\"https://cdn.plot.ly/plotly-2.18.2.min.js\"></script>                <div id=\"526e934b-d3f9-46ca-ae4a-46b0af01d38b\" class=\"plotly-graph-div\" style=\"height:600px; width:600px;\"></div>            <script type=\"text/javascript\">                                    window.PLOTLYENV=window.PLOTLYENV || {};                                    if (document.getElementById(\"526e934b-d3f9-46ca-ae4a-46b0af01d38b\")) {                    Plotly.newPlot(                        \"526e934b-d3f9-46ca-ae4a-46b0af01d38b\",                        [{\"mode\":\"lines\",\"x\":[1e-06,1.1220184543019633e-06,1.2589254117941672e-06,1.4125375446227544e-06,1.5848931924611134e-06,1.7782794100389227e-06,1.9952623149688796e-06,2.2387211385683393e-06,2.51188643150958e-06,2.8183829312644534e-06,3.162277660168379e-06,3.548133892335755e-06,3.981071705534972e-06,4.466835921509631e-06,5.011872336272722e-06,5.623413251903491e-06,6.309573444801933e-06,7.079457843841378e-06,7.943282347242815e-06,8.912509381337454e-06,9.999999999999999e-06,1.1220184543019635e-05,1.2589254117941675e-05,1.412537544622754e-05,1.584893192461113e-05,1.778279410038923e-05,1.9952623149688796e-05,2.23872113856834e-05,2.5118864315095795e-05,2.8183829312644532e-05,3.162277660168379e-05,3.548133892335755e-05,3.9810717055349735e-05,4.46683592150963e-05,5.0118723362727224e-05,5.623413251903491e-05,6.309573444801932e-05,7.07945784384138e-05,7.943282347242814e-05,8.912509381337455e-05,9.999999999999999e-05,0.0001122018454301963,0.00012589254117941674,0.00014125375446227538,0.00015848931924611142,0.00017782794100389227,0.00019952623149688788,0.000223872113856834,0.00025118864315095795,0.00028183829312644545,0.00031622776601683794,0.0003548133892335753,0.0003981071705534973,0.000446683592150963,0.0005011872336272724,0.000562341325190349,0.000630957344480193,0.000707945784384138,0.0007943282347242812,0.0008912509381337458,0.001,0.0011220184543019628,0.0012589254117941675,0.001412537544622754,0.0015848931924611139,0.0017782794100389228,0.001995262314968879,0.00223872113856834,0.00251188643150958,0.002818382931264455,0.0031622776601683794,0.003548133892335753,0.003981071705534973,0.0044668359215096305,0.005011872336272725,0.005623413251903491,0.00630957344480193,0.00707945784384138,0.007943282347242814,0.008912509381337459,0.01,0.011220184543019629,0.012589254117941661,0.014125375446227554,0.01584893192461114,0.017782794100389226,0.01995262314968879,0.022387211385683378,0.025118864315095822,0.02818382931264455,0.03162277660168379,0.03548133892335753,0.039810717055349686,0.04466835921509634,0.05011872336272725,0.056234132519034905,0.0630957344480193,0.07079457843841373,0.07943282347242821,0.08912509381337459],\"y\":[0.15142910182476044,0.151399627327919,0.1513606160879135,0.15131564438343048,0.15126530826091766,0.15120844542980194,0.1511448472738266,0.15107376873493195,0.1509936898946762,0.15090401470661163,0.15080325305461884,0.15069064497947693,0.15056435763835907,0.1504220813512802,0.15026360750198364,0.15008528530597687,0.14988727867603302,0.1496616005897522,0.14941191673278809,0.14913073182106018,0.1488180011510849,0.14846965670585632,0.1480739712715149,0.14763744175434113,0.14714519679546356,0.14659763872623444,0.14598478376865387,0.1453031599521637,0.14453963935375214,0.14368973672389984,0.14273713529109955,0.14169840514659882,0.14051781594753265,0.13921281695365906,0.1377848982810974,0.1361846774816513,0.13441812992095947,0.13247458636760712,0.1303517073392868,0.1279827058315277,0.12540531158447266,0.12258689850568771,0.11952687799930573,0.11617042869329453,0.11257946491241455,0.10868924111127853,0.10452032834291458,0.10008329153060913,0.0953778326511383,0.09039564430713654,0.08523879945278168,0.07981939613819122,0.07427047193050385,0.06860809028148651,0.06286169588565826,0.057240091264247894,0.051584888249635696,0.04617457464337349,0.04099176451563835,0.03613495081663132,0.0316477008163929,0.027664951980113983,0.024125076830387115,0.021196242421865463,0.018769770860671997,0.0168018601834774,0.015320660546422005,0.014268586412072182,0.013486764393746853,0.01299601886421442,0.012651892378926277,0.012432187795639038,0.012288552708923817,0.012175194919109344,0.012090882286429405,0.012029260396957397,0.01194778922945261,0.011858654208481312,0.011768525466322899,0.011665426194667816,0.011596140451729298,0.011479432694613934,0.011434183456003666,0.011255258694291115,0.011133764870464802,0.011034566909074783,0.010886605829000473,0.010753544978797436,0.010614949278533459,0.010436535812914371,0.010310173034667969,0.010148669593036175,0.010014261119067669,0.00980442576110363,0.009596315212547779,0.009503992274403572,0.009246129542589188,0.009275597520172596,0.00901362206786871,0.008750051259994507],\"type\":\"scatter\"}],                        {\"template\":{\"data\":{\"histogram2dcontour\":[{\"type\":\"histogram2dcontour\",\"colorbar\":{\"outlinewidth\":0,\"ticks\":\"\"},\"colorscale\":[[0.0,\"#0d0887\"],[0.1111111111111111,\"#46039f\"],[0.2222222222222222,\"#7201a8\"],[0.3333333333333333,\"#9c179e\"],[0.4444444444444444,\"#bd3786\"],[0.5555555555555556,\"#d8576b\"],[0.6666666666666666,\"#ed7953\"],[0.7777777777777778,\"#fb9f3a\"],[0.8888888888888888,\"#fdca26\"],[1.0,\"#f0f921\"]]}],\"choropleth\":[{\"type\":\"choropleth\",\"colorbar\":{\"outlinewidth\":0,\"ticks\":\"\"}}],\"histogram2d\":[{\"type\":\"histogram2d\",\"colorbar\":{\"outlinewidth\":0,\"ticks\":\"\"},\"colorscale\":[[0.0,\"#0d0887\"],[0.1111111111111111,\"#46039f\"],[0.2222222222222222,\"#7201a8\"],[0.3333333333333333,\"#9c179e\"],[0.4444444444444444,\"#bd3786\"],[0.5555555555555556,\"#d8576b\"],[0.6666666666666666,\"#ed7953\"],[0.7777777777777778,\"#fb9f3a\"],[0.8888888888888888,\"#fdca26\"],[1.0,\"#f0f921\"]]}],\"heatmap\":[{\"type\":\"heatmap\",\"colorbar\":{\"outlinewidth\":0,\"ticks\":\"\"},\"colorscale\":[[0.0,\"#0d0887\"],[0.1111111111111111,\"#46039f\"],[0.2222222222222222,\"#7201a8\"],[0.3333333333333333,\"#9c179e\"],[0.4444444444444444,\"#bd3786\"],[0.5555555555555556,\"#d8576b\"],[0.6666666666666666,\"#ed7953\"],[0.7777777777777778,\"#fb9f3a\"],[0.8888888888888888,\"#fdca26\"],[1.0,\"#f0f921\"]]}],\"heatmapgl\":[{\"type\":\"heatmapgl\",\"colorbar\":{\"outlinewidth\":0,\"ticks\":\"\"},\"colorscale\":[[0.0,\"#0d0887\"],[0.1111111111111111,\"#46039f\"],[0.2222222222222222,\"#7201a8\"],[0.3333333333333333,\"#9c179e\"],[0.4444444444444444,\"#bd3786\"],[0.5555555555555556,\"#d8576b\"],[0.6666666666666666,\"#ed7953\"],[0.7777777777777778,\"#fb9f3a\"],[0.8888888888888888,\"#fdca26\"],[1.0,\"#f0f921\"]]}],\"contourcarpet\":[{\"type\":\"contourcarpet\",\"colorbar\":{\"outlinewidth\":0,\"ticks\":\"\"}}],\"contour\":[{\"type\":\"contour\",\"colorbar\":{\"outlinewidth\":0,\"ticks\":\"\"},\"colorscale\":[[0.0,\"#0d0887\"],[0.1111111111111111,\"#46039f\"],[0.2222222222222222,\"#7201a8\"],[0.3333333333333333,\"#9c179e\"],[0.4444444444444444,\"#bd3786\"],[0.5555555555555556,\"#d8576b\"],[0.6666666666666666,\"#ed7953\"],[0.7777777777777778,\"#fb9f3a\"],[0.8888888888888888,\"#fdca26\"],[1.0,\"#f0f921\"]]}],\"surface\":[{\"type\":\"surface\",\"colorbar\":{\"outlinewidth\":0,\"ticks\":\"\"},\"colorscale\":[[0.0,\"#0d0887\"],[0.1111111111111111,\"#46039f\"],[0.2222222222222222,\"#7201a8\"],[0.3333333333333333,\"#9c179e\"],[0.4444444444444444,\"#bd3786\"],[0.5555555555555556,\"#d8576b\"],[0.6666666666666666,\"#ed7953\"],[0.7777777777777778,\"#fb9f3a\"],[0.8888888888888888,\"#fdca26\"],[1.0,\"#f0f921\"]]}],\"mesh3d\":[{\"type\":\"mesh3d\",\"colorbar\":{\"outlinewidth\":0,\"ticks\":\"\"}}],\"scatter\":[{\"fillpattern\":{\"fillmode\":\"overlay\",\"size\":10,\"solidity\":0.2},\"type\":\"scatter\"}],\"parcoords\":[{\"type\":\"parcoords\",\"line\":{\"colorbar\":{\"outlinewidth\":0,\"ticks\":\"\"}}}],\"scatterpolargl\":[{\"type\":\"scatterpolargl\",\"marker\":{\"colorbar\":{\"outlinewidth\":0,\"ticks\":\"\"}}}],\"bar\":[{\"error_x\":{\"color\":\"#2a3f5f\"},\"error_y\":{\"color\":\"#2a3f5f\"},\"marker\":{\"line\":{\"color\":\"#E5ECF6\",\"width\":0.5},\"pattern\":{\"fillmode\":\"overlay\",\"size\":10,\"solidity\":0.2}},\"type\":\"bar\"}],\"scattergeo\":[{\"type\":\"scattergeo\",\"marker\":{\"colorbar\":{\"outlinewidth\":0,\"ticks\":\"\"}}}],\"scatterpolar\":[{\"type\":\"scatterpolar\",\"marker\":{\"colorbar\":{\"outlinewidth\":0,\"ticks\":\"\"}}}],\"histogram\":[{\"marker\":{\"pattern\":{\"fillmode\":\"overlay\",\"size\":10,\"solidity\":0.2}},\"type\":\"histogram\"}],\"scattergl\":[{\"type\":\"scattergl\",\"marker\":{\"colorbar\":{\"outlinewidth\":0,\"ticks\":\"\"}}}],\"scatter3d\":[{\"type\":\"scatter3d\",\"line\":{\"colorbar\":{\"outlinewidth\":0,\"ticks\":\"\"}},\"marker\":{\"colorbar\":{\"outlinewidth\":0,\"ticks\":\"\"}}}],\"scattermapbox\":[{\"type\":\"scattermapbox\",\"marker\":{\"colorbar\":{\"outlinewidth\":0,\"ticks\":\"\"}}}],\"scatterternary\":[{\"type\":\"scatterternary\",\"marker\":{\"colorbar\":{\"outlinewidth\":0,\"ticks\":\"\"}}}],\"scattercarpet\":[{\"type\":\"scattercarpet\",\"marker\":{\"colorbar\":{\"outlinewidth\":0,\"ticks\":\"\"}}}],\"carpet\":[{\"aaxis\":{\"endlinecolor\":\"#2a3f5f\",\"gridcolor\":\"white\",\"linecolor\":\"white\",\"minorgridcolor\":\"white\",\"startlinecolor\":\"#2a3f5f\"},\"baxis\":{\"endlinecolor\":\"#2a3f5f\",\"gridcolor\":\"white\",\"linecolor\":\"white\",\"minorgridcolor\":\"white\",\"startlinecolor\":\"#2a3f5f\"},\"type\":\"carpet\"}],\"table\":[{\"cells\":{\"fill\":{\"color\":\"#EBF0F8\"},\"line\":{\"color\":\"white\"}},\"header\":{\"fill\":{\"color\":\"#C8D4E3\"},\"line\":{\"color\":\"white\"}},\"type\":\"table\"}],\"barpolar\":[{\"marker\":{\"line\":{\"color\":\"#E5ECF6\",\"width\":0.5},\"pattern\":{\"fillmode\":\"overlay\",\"size\":10,\"solidity\":0.2}},\"type\":\"barpolar\"}],\"pie\":[{\"automargin\":true,\"type\":\"pie\"}]},\"layout\":{\"autotypenumbers\":\"strict\",\"colorway\":[\"#636efa\",\"#EF553B\",\"#00cc96\",\"#ab63fa\",\"#FFA15A\",\"#19d3f3\",\"#FF6692\",\"#B6E880\",\"#FF97FF\",\"#FECB52\"],\"font\":{\"color\":\"#2a3f5f\"},\"hovermode\":\"closest\",\"hoverlabel\":{\"align\":\"left\"},\"paper_bgcolor\":\"white\",\"plot_bgcolor\":\"#E5ECF6\",\"polar\":{\"bgcolor\":\"#E5ECF6\",\"angularaxis\":{\"gridcolor\":\"white\",\"linecolor\":\"white\",\"ticks\":\"\"},\"radialaxis\":{\"gridcolor\":\"white\",\"linecolor\":\"white\",\"ticks\":\"\"}},\"ternary\":{\"bgcolor\":\"#E5ECF6\",\"aaxis\":{\"gridcolor\":\"white\",\"linecolor\":\"white\",\"ticks\":\"\"},\"baxis\":{\"gridcolor\":\"white\",\"linecolor\":\"white\",\"ticks\":\"\"},\"caxis\":{\"gridcolor\":\"white\",\"linecolor\":\"white\",\"ticks\":\"\"}},\"coloraxis\":{\"colorbar\":{\"outlinewidth\":0,\"ticks\":\"\"}},\"colorscale\":{\"sequential\":[[0.0,\"#0d0887\"],[0.1111111111111111,\"#46039f\"],[0.2222222222222222,\"#7201a8\"],[0.3333333333333333,\"#9c179e\"],[0.4444444444444444,\"#bd3786\"],[0.5555555555555556,\"#d8576b\"],[0.6666666666666666,\"#ed7953\"],[0.7777777777777778,\"#fb9f3a\"],[0.8888888888888888,\"#fdca26\"],[1.0,\"#f0f921\"]],\"sequentialminus\":[[0.0,\"#0d0887\"],[0.1111111111111111,\"#46039f\"],[0.2222222222222222,\"#7201a8\"],[0.3333333333333333,\"#9c179e\"],[0.4444444444444444,\"#bd3786\"],[0.5555555555555556,\"#d8576b\"],[0.6666666666666666,\"#ed7953\"],[0.7777777777777778,\"#fb9f3a\"],[0.8888888888888888,\"#fdca26\"],[1.0,\"#f0f921\"]],\"diverging\":[[0,\"#8e0152\"],[0.1,\"#c51b7d\"],[0.2,\"#de77ae\"],[0.3,\"#f1b6da\"],[0.4,\"#fde0ef\"],[0.5,\"#f7f7f7\"],[0.6,\"#e6f5d0\"],[0.7,\"#b8e186\"],[0.8,\"#7fbc41\"],[0.9,\"#4d9221\"],[1,\"#276419\"]]},\"xaxis\":{\"gridcolor\":\"white\",\"linecolor\":\"white\",\"ticks\":\"\",\"title\":{\"standoff\":15},\"zerolinecolor\":\"white\",\"automargin\":true,\"zerolinewidth\":2},\"yaxis\":{\"gridcolor\":\"white\",\"linecolor\":\"white\",\"ticks\":\"\",\"title\":{\"standoff\":15},\"zerolinecolor\":\"white\",\"automargin\":true,\"zerolinewidth\":2},\"scene\":{\"xaxis\":{\"backgroundcolor\":\"#E5ECF6\",\"gridcolor\":\"white\",\"linecolor\":\"white\",\"showbackground\":true,\"ticks\":\"\",\"zerolinecolor\":\"white\",\"gridwidth\":2},\"yaxis\":{\"backgroundcolor\":\"#E5ECF6\",\"gridcolor\":\"white\",\"linecolor\":\"white\",\"showbackground\":true,\"ticks\":\"\",\"zerolinecolor\":\"white\",\"gridwidth\":2},\"zaxis\":{\"backgroundcolor\":\"#E5ECF6\",\"gridcolor\":\"white\",\"linecolor\":\"white\",\"showbackground\":true,\"ticks\":\"\",\"zerolinecolor\":\"white\",\"gridwidth\":2}},\"shapedefaults\":{\"line\":{\"color\":\"#2a3f5f\"}},\"annotationdefaults\":{\"arrowcolor\":\"#2a3f5f\",\"arrowhead\":0,\"arrowwidth\":1},\"geo\":{\"bgcolor\":\"white\",\"landcolor\":\"#E5ECF6\",\"subunitcolor\":\"white\",\"showland\":true,\"showlakes\":true,\"lakecolor\":\"white\"},\"title\":{\"x\":0.05},\"mapbox\":{\"style\":\"light\"}}},\"xaxis\":{\"title\":{\"text\":\"Time\"},\"type\":\"log\"},\"margin\":{\"l\":50,\"r\":50,\"b\":100,\"t\":100,\"pad\":4},\"title\":{\"text\":\"Loss value\"},\"yaxis\":{\"title\":{\"text\":\"Value\"}},\"autosize\":false,\"width\":600,\"height\":600,\"paper_bgcolor\":\"LightSteelBlue\",\"showlegend\":false},                        {\"responsive\": true}                    ).then(function(){\n",
              "                            \n",
              "var gd = document.getElementById('526e934b-d3f9-46ca-ae4a-46b0af01d38b');\n",
              "var x = new MutationObserver(function (mutations, observer) {{\n",
              "        var display = window.getComputedStyle(gd).display;\n",
              "        if (!display || display === 'none') {{\n",
              "            console.log([gd, 'removed!']);\n",
              "            Plotly.purge(gd);\n",
              "            observer.disconnect();\n",
              "        }}\n",
              "}});\n",
              "\n",
              "// Listen for the removal of the full notebook cells\n",
              "var notebookContainer = gd.closest('#notebook-container');\n",
              "if (notebookContainer) {{\n",
              "    x.observe(notebookContainer, {childList: true});\n",
              "}}\n",
              "\n",
              "// Listen for the clearing of the current output cell\n",
              "var outputEl = gd.closest('.output');\n",
              "if (outputEl) {{\n",
              "    x.observe(outputEl, {childList: true});\n",
              "}}\n",
              "\n",
              "                        })                };                            </script>        </div>\n",
              "</body>\n",
              "</html>"
            ]
          },
          "metadata": {}
        }
      ]
    },
    {
      "cell_type": "markdown",
      "source": [
        "## Train the Model\n",
        "\n",
        "You can then proceed to train the model with your chosen learning rate.\n",
        "\n",
        "*Tip: When experimenting and you find yourself running different iterations of a model, you may want to use the clear_session() method to declutter memory used by Keras. This is added in the first line below.*"
      ],
      "metadata": {
        "id": "KaBlND5jwRkX"
      }
    },
    {
      "cell_type": "code",
      "source": [
        "# Reset states generated by Keras\n",
        "tf.keras.backend.clear_session()\n",
        "\n",
        "model_tune2 = TS_LSTM_Model(window_size=window_size, \n",
        "                              normalizer_layer=None,\n",
        "                              denormalizer_layer=None,\n",
        "                            feature_size=training_set_normalized.shape[1],\n",
        "                            expand_dims_layer=False)\n",
        "#model_tune2.load_weights('./checkpoints/my_checkpoint')\n",
        "\n",
        "# set built parameter\n",
        "print(training_set.shape)\n",
        "model_tune2.build(input_shape = (1, window_size, training_set.shape[1]))\n",
        "#model_tune2.summary()\n",
        "# Set the training parameters\n",
        "model_tune2.compile(loss=tf.keras.losses.Huber(), \n",
        "                    optimizer=tf.keras.optimizers.SGD(\n",
        "                        learning_rate=0.028,\n",
        "                        momentum=0.9))\n",
        "\n",
        "\n",
        "# Train the model\n",
        "history_build1 = model_tune2.fit(windowed_training_ds, epochs=epoch_value, \n",
        "                                verbose=0)"
      ],
      "metadata": {
        "colab": {
          "base_uri": "https://localhost:8080/"
        },
        "id": "zAdaPinLwaS7",
        "outputId": "aa75c8fa-dcbe-48b3-a523-69f43250b462"
      },
      "execution_count": 108,
      "outputs": [
        {
          "output_type": "stream",
          "name": "stdout",
          "text": [
            "(588, 5)\n"
          ]
        }
      ]
    },
    {
      "cell_type": "code",
      "source": [
        "plot_series_plotly(np.arange(0, epoch_value), history_build1.history['loss'],\n",
        "                   figure_title='loss value',\n",
        "                   xaxis_title='epoch', yaxis_title='Loss')"
      ],
      "metadata": {
        "colab": {
          "base_uri": "https://localhost:8080/",
          "height": 617
        },
        "id": "gKwrpoCBwdEP",
        "outputId": "2071bc3b-1870-458d-9325-f0bea8cbf839"
      },
      "execution_count": 109,
      "outputs": [
        {
          "output_type": "display_data",
          "data": {
            "text/html": [
              "<html>\n",
              "<head><meta charset=\"utf-8\" /></head>\n",
              "<body>\n",
              "    <div>            <script src=\"https://cdnjs.cloudflare.com/ajax/libs/mathjax/2.7.5/MathJax.js?config=TeX-AMS-MML_SVG\"></script><script type=\"text/javascript\">if (window.MathJax && window.MathJax.Hub && window.MathJax.Hub.Config) {window.MathJax.Hub.Config({SVG: {font: \"STIX-Web\"}});}</script>                <script type=\"text/javascript\">window.PlotlyConfig = {MathJaxConfig: 'local'};</script>\n",
              "        <script src=\"https://cdn.plot.ly/plotly-2.18.2.min.js\"></script>                <div id=\"c58b2c3f-bd5e-4e46-ac6c-adad35b5ecf3\" class=\"plotly-graph-div\" style=\"height:600px; width:600px;\"></div>            <script type=\"text/javascript\">                                    window.PLOTLYENV=window.PLOTLYENV || {};                                    if (document.getElementById(\"c58b2c3f-bd5e-4e46-ac6c-adad35b5ecf3\")) {                    Plotly.newPlot(                        \"c58b2c3f-bd5e-4e46-ac6c-adad35b5ecf3\",                        [{\"mode\":\"lines\",\"x\":[0,1,2,3,4,5,6,7,8,9,10,11,12,13,14,15,16,17,18,19,20,21,22,23,24,25,26,27,28,29,30,31,32,33,34,35,36,37,38,39,40,41,42,43,44,45,46,47,48,49,50,51,52,53,54,55,56,57,58,59,60,61,62,63,64,65,66,67,68,69,70,71,72,73,74,75,76,77,78,79,80,81,82,83,84,85,86,87,88,89,90,91,92,93,94,95,96,97,98,99],\"y\":[0.0872548297047615,0.016588345170021057,0.012683597393333912,0.01127745769917965,0.01093958504498005,0.01072468888014555,0.01051293034106493,0.010373624972999096,0.010156139731407166,0.00994090549647808,0.00985789019614458,0.009678260423243046,0.009501325897872448,0.0093926340341568,0.009278806857764721,0.009163846261799335,0.009035072289407253,0.00894877128303051,0.00882871262729168,0.008712044917047024,0.008634806610643864,0.008569370023906231,0.008452922105789185,0.008363109081983566,0.008282244205474854,0.008218412287533283,0.00819519255310297,0.00814869161695242,0.008014211431145668,0.007955367676913738,0.007891366258263588,0.007849340327084064,0.007835287600755692,0.007780368905514479,0.007703474722802639,0.00761896139010787,0.007549323607236147,0.00751337967813015,0.007486304733902216,0.007488416973501444,0.0074501014314591885,0.007371034473180771,0.007297589909285307,0.007274462375789881,0.007228761445730925,0.0072398437187075615,0.007199499756097794,0.0071781394071877,0.007152750622481108,0.007059893105179071,0.0070503875613212585,0.0070931860245764256,0.007023124489933252,0.006969495210796595,0.006952690426260233,0.006921154446899891,0.006928902585059404,0.006859384942799807,0.006877683103084564,0.00682850880548358,0.006829244550317526,0.006788452621549368,0.006775073707103729,0.006768231745809317,0.006708778906613588,0.006716900505125523,0.006665908731520176,0.006666879635304213,0.0066508823074400425,0.006624157540500164,0.00659708958119154,0.006627199240028858,0.006617012899369001,0.006598435342311859,0.006546517834067345,0.006577132269740105,0.006554347462952137,0.006571490783244371,0.006541088689118624,0.006541054230183363,0.006486210506409407,0.006527573335915804,0.006631717085838318,0.006490377243608236,0.006430800538510084,0.006413801107555628,0.006420797668397427,0.006426038220524788,0.0064234924502670765,0.006424714345484972,0.006356914062052965,0.006358758080750704,0.006387790199369192,0.006337554194033146,0.006345612928271294,0.006384437903761864,0.0063480474054813385,0.00628891633823514,0.00630147336050868,0.006379793398082256],\"type\":\"scatter\"}],                        {\"template\":{\"data\":{\"histogram2dcontour\":[{\"type\":\"histogram2dcontour\",\"colorbar\":{\"outlinewidth\":0,\"ticks\":\"\"},\"colorscale\":[[0.0,\"#0d0887\"],[0.1111111111111111,\"#46039f\"],[0.2222222222222222,\"#7201a8\"],[0.3333333333333333,\"#9c179e\"],[0.4444444444444444,\"#bd3786\"],[0.5555555555555556,\"#d8576b\"],[0.6666666666666666,\"#ed7953\"],[0.7777777777777778,\"#fb9f3a\"],[0.8888888888888888,\"#fdca26\"],[1.0,\"#f0f921\"]]}],\"choropleth\":[{\"type\":\"choropleth\",\"colorbar\":{\"outlinewidth\":0,\"ticks\":\"\"}}],\"histogram2d\":[{\"type\":\"histogram2d\",\"colorbar\":{\"outlinewidth\":0,\"ticks\":\"\"},\"colorscale\":[[0.0,\"#0d0887\"],[0.1111111111111111,\"#46039f\"],[0.2222222222222222,\"#7201a8\"],[0.3333333333333333,\"#9c179e\"],[0.4444444444444444,\"#bd3786\"],[0.5555555555555556,\"#d8576b\"],[0.6666666666666666,\"#ed7953\"],[0.7777777777777778,\"#fb9f3a\"],[0.8888888888888888,\"#fdca26\"],[1.0,\"#f0f921\"]]}],\"heatmap\":[{\"type\":\"heatmap\",\"colorbar\":{\"outlinewidth\":0,\"ticks\":\"\"},\"colorscale\":[[0.0,\"#0d0887\"],[0.1111111111111111,\"#46039f\"],[0.2222222222222222,\"#7201a8\"],[0.3333333333333333,\"#9c179e\"],[0.4444444444444444,\"#bd3786\"],[0.5555555555555556,\"#d8576b\"],[0.6666666666666666,\"#ed7953\"],[0.7777777777777778,\"#fb9f3a\"],[0.8888888888888888,\"#fdca26\"],[1.0,\"#f0f921\"]]}],\"heatmapgl\":[{\"type\":\"heatmapgl\",\"colorbar\":{\"outlinewidth\":0,\"ticks\":\"\"},\"colorscale\":[[0.0,\"#0d0887\"],[0.1111111111111111,\"#46039f\"],[0.2222222222222222,\"#7201a8\"],[0.3333333333333333,\"#9c179e\"],[0.4444444444444444,\"#bd3786\"],[0.5555555555555556,\"#d8576b\"],[0.6666666666666666,\"#ed7953\"],[0.7777777777777778,\"#fb9f3a\"],[0.8888888888888888,\"#fdca26\"],[1.0,\"#f0f921\"]]}],\"contourcarpet\":[{\"type\":\"contourcarpet\",\"colorbar\":{\"outlinewidth\":0,\"ticks\":\"\"}}],\"contour\":[{\"type\":\"contour\",\"colorbar\":{\"outlinewidth\":0,\"ticks\":\"\"},\"colorscale\":[[0.0,\"#0d0887\"],[0.1111111111111111,\"#46039f\"],[0.2222222222222222,\"#7201a8\"],[0.3333333333333333,\"#9c179e\"],[0.4444444444444444,\"#bd3786\"],[0.5555555555555556,\"#d8576b\"],[0.6666666666666666,\"#ed7953\"],[0.7777777777777778,\"#fb9f3a\"],[0.8888888888888888,\"#fdca26\"],[1.0,\"#f0f921\"]]}],\"surface\":[{\"type\":\"surface\",\"colorbar\":{\"outlinewidth\":0,\"ticks\":\"\"},\"colorscale\":[[0.0,\"#0d0887\"],[0.1111111111111111,\"#46039f\"],[0.2222222222222222,\"#7201a8\"],[0.3333333333333333,\"#9c179e\"],[0.4444444444444444,\"#bd3786\"],[0.5555555555555556,\"#d8576b\"],[0.6666666666666666,\"#ed7953\"],[0.7777777777777778,\"#fb9f3a\"],[0.8888888888888888,\"#fdca26\"],[1.0,\"#f0f921\"]]}],\"mesh3d\":[{\"type\":\"mesh3d\",\"colorbar\":{\"outlinewidth\":0,\"ticks\":\"\"}}],\"scatter\":[{\"fillpattern\":{\"fillmode\":\"overlay\",\"size\":10,\"solidity\":0.2},\"type\":\"scatter\"}],\"parcoords\":[{\"type\":\"parcoords\",\"line\":{\"colorbar\":{\"outlinewidth\":0,\"ticks\":\"\"}}}],\"scatterpolargl\":[{\"type\":\"scatterpolargl\",\"marker\":{\"colorbar\":{\"outlinewidth\":0,\"ticks\":\"\"}}}],\"bar\":[{\"error_x\":{\"color\":\"#2a3f5f\"},\"error_y\":{\"color\":\"#2a3f5f\"},\"marker\":{\"line\":{\"color\":\"#E5ECF6\",\"width\":0.5},\"pattern\":{\"fillmode\":\"overlay\",\"size\":10,\"solidity\":0.2}},\"type\":\"bar\"}],\"scattergeo\":[{\"type\":\"scattergeo\",\"marker\":{\"colorbar\":{\"outlinewidth\":0,\"ticks\":\"\"}}}],\"scatterpolar\":[{\"type\":\"scatterpolar\",\"marker\":{\"colorbar\":{\"outlinewidth\":0,\"ticks\":\"\"}}}],\"histogram\":[{\"marker\":{\"pattern\":{\"fillmode\":\"overlay\",\"size\":10,\"solidity\":0.2}},\"type\":\"histogram\"}],\"scattergl\":[{\"type\":\"scattergl\",\"marker\":{\"colorbar\":{\"outlinewidth\":0,\"ticks\":\"\"}}}],\"scatter3d\":[{\"type\":\"scatter3d\",\"line\":{\"colorbar\":{\"outlinewidth\":0,\"ticks\":\"\"}},\"marker\":{\"colorbar\":{\"outlinewidth\":0,\"ticks\":\"\"}}}],\"scattermapbox\":[{\"type\":\"scattermapbox\",\"marker\":{\"colorbar\":{\"outlinewidth\":0,\"ticks\":\"\"}}}],\"scatterternary\":[{\"type\":\"scatterternary\",\"marker\":{\"colorbar\":{\"outlinewidth\":0,\"ticks\":\"\"}}}],\"scattercarpet\":[{\"type\":\"scattercarpet\",\"marker\":{\"colorbar\":{\"outlinewidth\":0,\"ticks\":\"\"}}}],\"carpet\":[{\"aaxis\":{\"endlinecolor\":\"#2a3f5f\",\"gridcolor\":\"white\",\"linecolor\":\"white\",\"minorgridcolor\":\"white\",\"startlinecolor\":\"#2a3f5f\"},\"baxis\":{\"endlinecolor\":\"#2a3f5f\",\"gridcolor\":\"white\",\"linecolor\":\"white\",\"minorgridcolor\":\"white\",\"startlinecolor\":\"#2a3f5f\"},\"type\":\"carpet\"}],\"table\":[{\"cells\":{\"fill\":{\"color\":\"#EBF0F8\"},\"line\":{\"color\":\"white\"}},\"header\":{\"fill\":{\"color\":\"#C8D4E3\"},\"line\":{\"color\":\"white\"}},\"type\":\"table\"}],\"barpolar\":[{\"marker\":{\"line\":{\"color\":\"#E5ECF6\",\"width\":0.5},\"pattern\":{\"fillmode\":\"overlay\",\"size\":10,\"solidity\":0.2}},\"type\":\"barpolar\"}],\"pie\":[{\"automargin\":true,\"type\":\"pie\"}]},\"layout\":{\"autotypenumbers\":\"strict\",\"colorway\":[\"#636efa\",\"#EF553B\",\"#00cc96\",\"#ab63fa\",\"#FFA15A\",\"#19d3f3\",\"#FF6692\",\"#B6E880\",\"#FF97FF\",\"#FECB52\"],\"font\":{\"color\":\"#2a3f5f\"},\"hovermode\":\"closest\",\"hoverlabel\":{\"align\":\"left\"},\"paper_bgcolor\":\"white\",\"plot_bgcolor\":\"#E5ECF6\",\"polar\":{\"bgcolor\":\"#E5ECF6\",\"angularaxis\":{\"gridcolor\":\"white\",\"linecolor\":\"white\",\"ticks\":\"\"},\"radialaxis\":{\"gridcolor\":\"white\",\"linecolor\":\"white\",\"ticks\":\"\"}},\"ternary\":{\"bgcolor\":\"#E5ECF6\",\"aaxis\":{\"gridcolor\":\"white\",\"linecolor\":\"white\",\"ticks\":\"\"},\"baxis\":{\"gridcolor\":\"white\",\"linecolor\":\"white\",\"ticks\":\"\"},\"caxis\":{\"gridcolor\":\"white\",\"linecolor\":\"white\",\"ticks\":\"\"}},\"coloraxis\":{\"colorbar\":{\"outlinewidth\":0,\"ticks\":\"\"}},\"colorscale\":{\"sequential\":[[0.0,\"#0d0887\"],[0.1111111111111111,\"#46039f\"],[0.2222222222222222,\"#7201a8\"],[0.3333333333333333,\"#9c179e\"],[0.4444444444444444,\"#bd3786\"],[0.5555555555555556,\"#d8576b\"],[0.6666666666666666,\"#ed7953\"],[0.7777777777777778,\"#fb9f3a\"],[0.8888888888888888,\"#fdca26\"],[1.0,\"#f0f921\"]],\"sequentialminus\":[[0.0,\"#0d0887\"],[0.1111111111111111,\"#46039f\"],[0.2222222222222222,\"#7201a8\"],[0.3333333333333333,\"#9c179e\"],[0.4444444444444444,\"#bd3786\"],[0.5555555555555556,\"#d8576b\"],[0.6666666666666666,\"#ed7953\"],[0.7777777777777778,\"#fb9f3a\"],[0.8888888888888888,\"#fdca26\"],[1.0,\"#f0f921\"]],\"diverging\":[[0,\"#8e0152\"],[0.1,\"#c51b7d\"],[0.2,\"#de77ae\"],[0.3,\"#f1b6da\"],[0.4,\"#fde0ef\"],[0.5,\"#f7f7f7\"],[0.6,\"#e6f5d0\"],[0.7,\"#b8e186\"],[0.8,\"#7fbc41\"],[0.9,\"#4d9221\"],[1,\"#276419\"]]},\"xaxis\":{\"gridcolor\":\"white\",\"linecolor\":\"white\",\"ticks\":\"\",\"title\":{\"standoff\":15},\"zerolinecolor\":\"white\",\"automargin\":true,\"zerolinewidth\":2},\"yaxis\":{\"gridcolor\":\"white\",\"linecolor\":\"white\",\"ticks\":\"\",\"title\":{\"standoff\":15},\"zerolinecolor\":\"white\",\"automargin\":true,\"zerolinewidth\":2},\"scene\":{\"xaxis\":{\"backgroundcolor\":\"#E5ECF6\",\"gridcolor\":\"white\",\"linecolor\":\"white\",\"showbackground\":true,\"ticks\":\"\",\"zerolinecolor\":\"white\",\"gridwidth\":2},\"yaxis\":{\"backgroundcolor\":\"#E5ECF6\",\"gridcolor\":\"white\",\"linecolor\":\"white\",\"showbackground\":true,\"ticks\":\"\",\"zerolinecolor\":\"white\",\"gridwidth\":2},\"zaxis\":{\"backgroundcolor\":\"#E5ECF6\",\"gridcolor\":\"white\",\"linecolor\":\"white\",\"showbackground\":true,\"ticks\":\"\",\"zerolinecolor\":\"white\",\"gridwidth\":2}},\"shapedefaults\":{\"line\":{\"color\":\"#2a3f5f\"}},\"annotationdefaults\":{\"arrowcolor\":\"#2a3f5f\",\"arrowhead\":0,\"arrowwidth\":1},\"geo\":{\"bgcolor\":\"white\",\"landcolor\":\"#E5ECF6\",\"subunitcolor\":\"white\",\"showland\":true,\"showlakes\":true,\"lakecolor\":\"white\"},\"title\":{\"x\":0.05},\"mapbox\":{\"style\":\"light\"}}},\"margin\":{\"l\":50,\"r\":50,\"b\":100,\"t\":100,\"pad\":4},\"title\":{\"text\":\"loss value\"},\"xaxis\":{\"title\":{\"text\":\"epoch\"}},\"yaxis\":{\"title\":{\"text\":\"Loss\"}},\"autosize\":false,\"width\":600,\"height\":600,\"paper_bgcolor\":\"LightSteelBlue\",\"showlegend\":false},                        {\"responsive\": true}                    ).then(function(){\n",
              "                            \n",
              "var gd = document.getElementById('c58b2c3f-bd5e-4e46-ac6c-adad35b5ecf3');\n",
              "var x = new MutationObserver(function (mutations, observer) {{\n",
              "        var display = window.getComputedStyle(gd).display;\n",
              "        if (!display || display === 'none') {{\n",
              "            console.log([gd, 'removed!']);\n",
              "            Plotly.purge(gd);\n",
              "            observer.disconnect();\n",
              "        }}\n",
              "}});\n",
              "\n",
              "// Listen for the removal of the full notebook cells\n",
              "var notebookContainer = gd.closest('#notebook-container');\n",
              "if (notebookContainer) {{\n",
              "    x.observe(notebookContainer, {childList: true});\n",
              "}}\n",
              "\n",
              "// Listen for the clearing of the current output cell\n",
              "var outputEl = gd.closest('.output');\n",
              "if (outputEl) {{\n",
              "    x.observe(outputEl, {childList: true});\n",
              "}}\n",
              "\n",
              "                        })                };                            </script>        </div>\n",
              "</body>\n",
              "</html>"
            ]
          },
          "metadata": {}
        }
      ]
    },
    {
      "cell_type": "code",
      "source": [
        "test_set_g2, results2 = plot_prediction_graph_plotly(\n",
        "    model_tune2, df, training_ds_rows, \n",
        "    window_size, None, None,\n",
        "    scaler=minmax_scaler,\n",
        "    variable_names=predictors_and_target,\n",
        "    series_name=['test set (close)',\n",
        "                 'pred set (close)']\n",
        "    )"
      ],
      "metadata": {
        "colab": {
          "base_uri": "https://localhost:8080/",
          "height": 689
        },
        "id": "0UFVeWWYwhd7",
        "outputId": "dd4756e3-6311-47c7-91ad-ded0eeb65a35"
      },
      "execution_count": 110,
      "outputs": [
        {
          "output_type": "stream",
          "name": "stdout",
          "text": [
            "dateset_to_forecast shape: (167, 5)\n",
            "expanded dateset_to_forecast shape: (1, 20, 5)\n",
            "forecast shape (147, 1, 5)\n",
            "forecast squeezed shape (147, 5)\n"
          ]
        },
        {
          "output_type": "display_data",
          "data": {
            "text/html": [
              "<html>\n",
              "<head><meta charset=\"utf-8\" /></head>\n",
              "<body>\n",
              "    <div>            <script src=\"https://cdnjs.cloudflare.com/ajax/libs/mathjax/2.7.5/MathJax.js?config=TeX-AMS-MML_SVG\"></script><script type=\"text/javascript\">if (window.MathJax && window.MathJax.Hub && window.MathJax.Hub.Config) {window.MathJax.Hub.Config({SVG: {font: \"STIX-Web\"}});}</script>                <script type=\"text/javascript\">window.PlotlyConfig = {MathJaxConfig: 'local'};</script>\n",
              "        <script src=\"https://cdn.plot.ly/plotly-2.18.2.min.js\"></script>                <div id=\"b2bcf9ed-5b2f-4939-8371-cdb273f2fccf\" class=\"plotly-graph-div\" style=\"height:600px; width:600px;\"></div>            <script type=\"text/javascript\">                                    window.PLOTLYENV=window.PLOTLYENV || {};                                    if (document.getElementById(\"b2bcf9ed-5b2f-4939-8371-cdb273f2fccf\")) {                    Plotly.newPlot(                        \"b2bcf9ed-5b2f-4939-8371-cdb273f2fccf\",                        [{\"mode\":\"lines\",\"name\":\"test set (close)\",\"x\":[\"2022-09-15T00:00:00\",\"2022-09-16T00:00:00\",\"2022-09-19T00:00:00\",\"2022-09-20T00:00:00\",\"2022-09-21T00:00:00\",\"2022-09-22T00:00:00\",\"2022-09-23T00:00:00\",\"2022-09-26T00:00:00\",\"2022-09-27T00:00:00\",\"2022-09-28T00:00:00\",\"2022-09-29T00:00:00\",\"2022-09-30T00:00:00\",\"2022-10-03T00:00:00\",\"2022-10-04T00:00:00\",\"2022-10-05T00:00:00\",\"2022-10-06T00:00:00\",\"2022-10-07T00:00:00\",\"2022-10-10T00:00:00\",\"2022-10-11T00:00:00\",\"2022-10-12T00:00:00\",\"2022-10-13T00:00:00\",\"2022-10-14T00:00:00\",\"2022-10-17T00:00:00\",\"2022-10-18T00:00:00\",\"2022-10-19T00:00:00\",\"2022-10-20T00:00:00\",\"2022-10-21T00:00:00\",\"2022-10-24T00:00:00\",\"2022-10-25T00:00:00\",\"2022-10-26T00:00:00\",\"2022-10-27T00:00:00\",\"2022-10-28T00:00:00\",\"2022-10-31T00:00:00\",\"2022-11-01T00:00:00\",\"2022-11-02T00:00:00\",\"2022-11-03T00:00:00\",\"2022-11-04T00:00:00\",\"2022-11-07T00:00:00\",\"2022-11-08T00:00:00\",\"2022-11-09T00:00:00\",\"2022-11-10T00:00:00\",\"2022-11-11T00:00:00\",\"2022-11-14T00:00:00\",\"2022-11-15T00:00:00\",\"2022-11-16T00:00:00\",\"2022-11-17T00:00:00\",\"2022-11-18T00:00:00\",\"2022-11-21T00:00:00\",\"2022-11-22T00:00:00\",\"2022-11-23T00:00:00\",\"2022-11-24T00:00:00\",\"2022-11-25T00:00:00\",\"2022-11-28T00:00:00\",\"2022-11-29T00:00:00\",\"2022-11-30T00:00:00\",\"2022-12-01T00:00:00\",\"2022-12-02T00:00:00\",\"2022-12-05T00:00:00\",\"2022-12-06T00:00:00\",\"2022-12-07T00:00:00\",\"2022-12-08T00:00:00\",\"2022-12-09T00:00:00\",\"2022-12-12T00:00:00\",\"2022-12-13T00:00:00\",\"2022-12-14T00:00:00\",\"2022-12-15T00:00:00\",\"2022-12-16T00:00:00\",\"2022-12-19T00:00:00\",\"2022-12-20T00:00:00\",\"2022-12-21T00:00:00\",\"2022-12-22T00:00:00\",\"2022-12-23T00:00:00\",\"2022-12-26T00:00:00\",\"2022-12-27T00:00:00\",\"2022-12-28T00:00:00\",\"2022-12-29T00:00:00\",\"2022-12-30T00:00:00\",\"2023-01-02T00:00:00\",\"2023-01-03T00:00:00\",\"2023-01-04T00:00:00\",\"2023-01-05T00:00:00\",\"2023-01-06T00:00:00\",\"2023-01-09T00:00:00\",\"2023-01-10T00:00:00\",\"2023-01-11T00:00:00\",\"2023-01-12T00:00:00\",\"2023-01-13T00:00:00\",\"2023-01-16T00:00:00\",\"2023-01-17T00:00:00\",\"2023-01-18T00:00:00\",\"2023-01-19T00:00:00\",\"2023-01-20T00:00:00\",\"2023-01-24T00:00:00\",\"2023-01-25T00:00:00\",\"2023-01-26T00:00:00\",\"2023-01-27T00:00:00\",\"2023-01-30T00:00:00\",\"2023-01-31T00:00:00\",\"2023-02-01T00:00:00\",\"2023-02-02T00:00:00\",\"2023-02-03T00:00:00\",\"2023-02-06T00:00:00\",\"2023-02-07T00:00:00\",\"2023-02-08T00:00:00\",\"2023-02-09T00:00:00\",\"2023-02-10T00:00:00\",\"2023-02-13T00:00:00\",\"2023-02-14T00:00:00\",\"2023-02-15T00:00:00\",\"2023-02-16T00:00:00\",\"2023-02-17T00:00:00\",\"2023-02-20T00:00:00\",\"2023-02-21T00:00:00\",\"2023-02-22T00:00:00\",\"2023-02-23T00:00:00\",\"2023-02-24T00:00:00\",\"2023-02-27T00:00:00\",\"2023-02-28T00:00:00\",\"2023-03-01T00:00:00\",\"2023-03-02T00:00:00\",\"2023-03-03T00:00:00\",\"2023-03-06T00:00:00\",\"2023-03-07T00:00:00\",\"2023-03-08T00:00:00\",\"2023-03-09T00:00:00\",\"2023-03-10T00:00:00\",\"2023-03-13T00:00:00\",\"2023-03-14T00:00:00\",\"2023-03-15T00:00:00\",\"2023-03-16T00:00:00\",\"2023-03-17T00:00:00\",\"2023-03-20T00:00:00\",\"2023-03-21T00:00:00\",\"2023-03-24T00:00:00\",\"2023-03-27T00:00:00\",\"2023-03-28T00:00:00\",\"2023-03-29T00:00:00\",\"2023-03-30T00:00:00\",\"2023-03-31T00:00:00\",\"2023-04-03T00:00:00\",\"2023-04-04T00:00:00\",\"2023-04-05T00:00:00\",\"2023-04-06T00:00:00\",\"2023-04-10T00:00:00\",\"2023-04-11T00:00:00\",\"2023-04-12T00:00:00\",\"2023-04-13T00:00:00\"],\"y\":[4500.0,4410.0,4500.0,4480.0,4430.0,4430.0,4380.0,4460.0,4440.0,4470.0,4440.0,4460.0,4460.0,4440.0,4460.0,4430.0,4350.0,4420.0,4310.0,4340.0,4300.0,4290.0,4330.0,4250.0,4200.0,4350.0,4360.0,4410.0,4390.0,4370.0,4370.0,4450.0,4390.0,4420.0,4220.0,4130.0,4210.0,4280.0,4220.0,4190.0,4170.0,4150.0,4050.0,4050.0,4050.0,4040.0,4010.0,4030.0,4000.0,3970.0,4030.0,4030.0,3980.0,3980.0,4040.0,3960.0,4000.0,3840.0,3600.0,3680.0,3740.0,3650.0,3700.0,3750.0,3750.0,3670.0,3680.0,3720.0,3720.0,3790.0,3750.0,3780.0,3750.0,3810.0,3730.0,3780.0,3750.0,3800.0,3860.0,3820.0,3770.0,3710.0,3790.0,3830.0,3870.0,3860.0,3780.0,3850.0,3950.0,3930.0,3890.0,3870.0,3850.0,3840.0,3970.0,3960.0,3960.0,3850.0,3870.0,3890.0,3880.0,3880.0,3800.0,3840.0,3770.0,3800.0,3790.0,3800.0,3790.0,3770.0,3760.0,3820.0,3840.0,3860.0,3970.0,4040.0,3960.0,3880.0,3930.0,3880.0,3900.0,3880.0,3880.0,3940.0,3970.0,4010.0,4070.0,4020.0,4010.0,4050.0,4050.0,3990.0,4120.0,4070.0,4050.0,4050.0,4100.0,4090.0,4060.0,4080.0,4060.0,4150.0,4250.0,4300.0,4300.0,4310.0,4340.0],\"type\":\"scatter\"},{\"mode\":\"lines\",\"name\":\"pred set (close)\",\"x\":[\"2022-09-15T00:00:00\",\"2022-09-16T00:00:00\",\"2022-09-19T00:00:00\",\"2022-09-20T00:00:00\",\"2022-09-21T00:00:00\",\"2022-09-22T00:00:00\",\"2022-09-23T00:00:00\",\"2022-09-26T00:00:00\",\"2022-09-27T00:00:00\",\"2022-09-28T00:00:00\",\"2022-09-29T00:00:00\",\"2022-09-30T00:00:00\",\"2022-10-03T00:00:00\",\"2022-10-04T00:00:00\",\"2022-10-05T00:00:00\",\"2022-10-06T00:00:00\",\"2022-10-07T00:00:00\",\"2022-10-10T00:00:00\",\"2022-10-11T00:00:00\",\"2022-10-12T00:00:00\",\"2022-10-13T00:00:00\",\"2022-10-14T00:00:00\",\"2022-10-17T00:00:00\",\"2022-10-18T00:00:00\",\"2022-10-19T00:00:00\",\"2022-10-20T00:00:00\",\"2022-10-21T00:00:00\",\"2022-10-24T00:00:00\",\"2022-10-25T00:00:00\",\"2022-10-26T00:00:00\",\"2022-10-27T00:00:00\",\"2022-10-28T00:00:00\",\"2022-10-31T00:00:00\",\"2022-11-01T00:00:00\",\"2022-11-02T00:00:00\",\"2022-11-03T00:00:00\",\"2022-11-04T00:00:00\",\"2022-11-07T00:00:00\",\"2022-11-08T00:00:00\",\"2022-11-09T00:00:00\",\"2022-11-10T00:00:00\",\"2022-11-11T00:00:00\",\"2022-11-14T00:00:00\",\"2022-11-15T00:00:00\",\"2022-11-16T00:00:00\",\"2022-11-17T00:00:00\",\"2022-11-18T00:00:00\",\"2022-11-21T00:00:00\",\"2022-11-22T00:00:00\",\"2022-11-23T00:00:00\",\"2022-11-24T00:00:00\",\"2022-11-25T00:00:00\",\"2022-11-28T00:00:00\",\"2022-11-29T00:00:00\",\"2022-11-30T00:00:00\",\"2022-12-01T00:00:00\",\"2022-12-02T00:00:00\",\"2022-12-05T00:00:00\",\"2022-12-06T00:00:00\",\"2022-12-07T00:00:00\",\"2022-12-08T00:00:00\",\"2022-12-09T00:00:00\",\"2022-12-12T00:00:00\",\"2022-12-13T00:00:00\",\"2022-12-14T00:00:00\",\"2022-12-15T00:00:00\",\"2022-12-16T00:00:00\",\"2022-12-19T00:00:00\",\"2022-12-20T00:00:00\",\"2022-12-21T00:00:00\",\"2022-12-22T00:00:00\",\"2022-12-23T00:00:00\",\"2022-12-26T00:00:00\",\"2022-12-27T00:00:00\",\"2022-12-28T00:00:00\",\"2022-12-29T00:00:00\",\"2022-12-30T00:00:00\",\"2023-01-02T00:00:00\",\"2023-01-03T00:00:00\",\"2023-01-04T00:00:00\",\"2023-01-05T00:00:00\",\"2023-01-06T00:00:00\",\"2023-01-09T00:00:00\",\"2023-01-10T00:00:00\",\"2023-01-11T00:00:00\",\"2023-01-12T00:00:00\",\"2023-01-13T00:00:00\",\"2023-01-16T00:00:00\",\"2023-01-17T00:00:00\",\"2023-01-18T00:00:00\",\"2023-01-19T00:00:00\",\"2023-01-20T00:00:00\",\"2023-01-24T00:00:00\",\"2023-01-25T00:00:00\",\"2023-01-26T00:00:00\",\"2023-01-27T00:00:00\",\"2023-01-30T00:00:00\",\"2023-01-31T00:00:00\",\"2023-02-01T00:00:00\",\"2023-02-02T00:00:00\",\"2023-02-03T00:00:00\",\"2023-02-06T00:00:00\",\"2023-02-07T00:00:00\",\"2023-02-08T00:00:00\",\"2023-02-09T00:00:00\",\"2023-02-10T00:00:00\",\"2023-02-13T00:00:00\",\"2023-02-14T00:00:00\",\"2023-02-15T00:00:00\",\"2023-02-16T00:00:00\",\"2023-02-17T00:00:00\",\"2023-02-20T00:00:00\",\"2023-02-21T00:00:00\",\"2023-02-22T00:00:00\",\"2023-02-23T00:00:00\",\"2023-02-24T00:00:00\",\"2023-02-27T00:00:00\",\"2023-02-28T00:00:00\",\"2023-03-01T00:00:00\",\"2023-03-02T00:00:00\",\"2023-03-03T00:00:00\",\"2023-03-06T00:00:00\",\"2023-03-07T00:00:00\",\"2023-03-08T00:00:00\",\"2023-03-09T00:00:00\",\"2023-03-10T00:00:00\",\"2023-03-13T00:00:00\",\"2023-03-14T00:00:00\",\"2023-03-15T00:00:00\",\"2023-03-16T00:00:00\",\"2023-03-17T00:00:00\",\"2023-03-20T00:00:00\",\"2023-03-21T00:00:00\",\"2023-03-24T00:00:00\",\"2023-03-27T00:00:00\",\"2023-03-28T00:00:00\",\"2023-03-29T00:00:00\",\"2023-03-30T00:00:00\",\"2023-03-31T00:00:00\",\"2023-04-03T00:00:00\",\"2023-04-04T00:00:00\",\"2023-04-05T00:00:00\",\"2023-04-06T00:00:00\",\"2023-04-10T00:00:00\",\"2023-04-11T00:00:00\",\"2023-04-12T00:00:00\",\"2023-04-13T00:00:00\"],\"y\":[4488.849609375,4492.6884765625,4487.99853515625,4482.88525390625,4485.4765625,4474.1474609375,4459.46435546875,4445.31396484375,4435.9755859375,4434.962890625,4440.35693359375,4442.578125,4441.29541015625,4437.7646484375,4439.14599609375,4444.64990234375,4443.3759765625,4429.3134765625,4412.6796875,4397.4189453125,4378.75,4362.79345703125,4356.4150390625,4334.783203125,4323.1123046875,4298.4765625,4297.75048828125,4303.787109375,4328.80322265625,4355.8076171875,4369.04443359375,4374.46337890625,4390.8720703125,4408.65966796875,4414.142578125,4410.12841796875,4362.46826171875,4322.34521484375,4305.0771484375,4292.25537109375,4276.0361328125,4240.279296875,4231.7451171875,4200.44873046875,4156.11083984375,4117.3681640625,4088.380859375,4070.238525390625,4043.732666015625,4027.213134765625,4009.258544921875,3992.276123046875,3986.185302734375,3988.63818359375,3983.579345703125,4051.8779296875,4057.3642578125,4039.479736328125,4010.854248046875,3947.64306640625,3875.42431640625,3827.8818359375,3778.703369140625,3743.954345703125,3735.072509765625,3735.546142578125,3711.805908203125,3712.28662109375,3702.780029296875,3686.466552734375,3681.607177734375,3684.729736328125,3674.887939453125,3671.262451171875,3677.4951171875,3708.696044921875,3711.44775390625,3716.28662109375,3714.807373046875,3750.031005859375,3775.96044921875,3793.34228515625,3780.961181640625,3773.30859375,3791.281494140625,3810.020751953125,3826.962890625,3843.5791015625,3845.91748046875,3881.344970703125,3921.70751953125,3939.927001953125,3941.810791015625,3930.32861328125,3917.06689453125,3928.740234375,3950.822998046875,3958.9111328125,3962.656005859375,3943.011474609375,3927.02978515625,3922.783935546875,3909.693603515625,3891.378662109375,3870.73291015625,3854.244384765625,3829.676025390625,3815.250732421875,3808.7294921875,3802.262451171875,3794.434814453125,3782.915771484375,3783.095947265625,3799.596435546875,3811.726806640625,3861.203125,3922.270263671875,3947.7890625,3966.00732421875,3969.122314453125,3958.8974609375,3947.063232421875,3941.91162109375,3931.86767578125,3927.131103515625,3947.18115234375,3965.01806640625,3998.263671875,4026.2041015625,4038.16162109375,4050.61474609375,4085.7197265625,4079.907470703125,4082.6015625,4092.994873046875,4097.7841796875,4105.20068359375,4115.64697265625,4117.86669921875,4119.02490234375,4114.44873046875,4108.505859375,4114.4716796875,4150.22216796875,4183.541015625,4215.70947265625,4256.966796875],\"type\":\"scatter\"}],                        {\"template\":{\"data\":{\"histogram2dcontour\":[{\"type\":\"histogram2dcontour\",\"colorbar\":{\"outlinewidth\":0,\"ticks\":\"\"},\"colorscale\":[[0.0,\"#0d0887\"],[0.1111111111111111,\"#46039f\"],[0.2222222222222222,\"#7201a8\"],[0.3333333333333333,\"#9c179e\"],[0.4444444444444444,\"#bd3786\"],[0.5555555555555556,\"#d8576b\"],[0.6666666666666666,\"#ed7953\"],[0.7777777777777778,\"#fb9f3a\"],[0.8888888888888888,\"#fdca26\"],[1.0,\"#f0f921\"]]}],\"choropleth\":[{\"type\":\"choropleth\",\"colorbar\":{\"outlinewidth\":0,\"ticks\":\"\"}}],\"histogram2d\":[{\"type\":\"histogram2d\",\"colorbar\":{\"outlinewidth\":0,\"ticks\":\"\"},\"colorscale\":[[0.0,\"#0d0887\"],[0.1111111111111111,\"#46039f\"],[0.2222222222222222,\"#7201a8\"],[0.3333333333333333,\"#9c179e\"],[0.4444444444444444,\"#bd3786\"],[0.5555555555555556,\"#d8576b\"],[0.6666666666666666,\"#ed7953\"],[0.7777777777777778,\"#fb9f3a\"],[0.8888888888888888,\"#fdca26\"],[1.0,\"#f0f921\"]]}],\"heatmap\":[{\"type\":\"heatmap\",\"colorbar\":{\"outlinewidth\":0,\"ticks\":\"\"},\"colorscale\":[[0.0,\"#0d0887\"],[0.1111111111111111,\"#46039f\"],[0.2222222222222222,\"#7201a8\"],[0.3333333333333333,\"#9c179e\"],[0.4444444444444444,\"#bd3786\"],[0.5555555555555556,\"#d8576b\"],[0.6666666666666666,\"#ed7953\"],[0.7777777777777778,\"#fb9f3a\"],[0.8888888888888888,\"#fdca26\"],[1.0,\"#f0f921\"]]}],\"heatmapgl\":[{\"type\":\"heatmapgl\",\"colorbar\":{\"outlinewidth\":0,\"ticks\":\"\"},\"colorscale\":[[0.0,\"#0d0887\"],[0.1111111111111111,\"#46039f\"],[0.2222222222222222,\"#7201a8\"],[0.3333333333333333,\"#9c179e\"],[0.4444444444444444,\"#bd3786\"],[0.5555555555555556,\"#d8576b\"],[0.6666666666666666,\"#ed7953\"],[0.7777777777777778,\"#fb9f3a\"],[0.8888888888888888,\"#fdca26\"],[1.0,\"#f0f921\"]]}],\"contourcarpet\":[{\"type\":\"contourcarpet\",\"colorbar\":{\"outlinewidth\":0,\"ticks\":\"\"}}],\"contour\":[{\"type\":\"contour\",\"colorbar\":{\"outlinewidth\":0,\"ticks\":\"\"},\"colorscale\":[[0.0,\"#0d0887\"],[0.1111111111111111,\"#46039f\"],[0.2222222222222222,\"#7201a8\"],[0.3333333333333333,\"#9c179e\"],[0.4444444444444444,\"#bd3786\"],[0.5555555555555556,\"#d8576b\"],[0.6666666666666666,\"#ed7953\"],[0.7777777777777778,\"#fb9f3a\"],[0.8888888888888888,\"#fdca26\"],[1.0,\"#f0f921\"]]}],\"surface\":[{\"type\":\"surface\",\"colorbar\":{\"outlinewidth\":0,\"ticks\":\"\"},\"colorscale\":[[0.0,\"#0d0887\"],[0.1111111111111111,\"#46039f\"],[0.2222222222222222,\"#7201a8\"],[0.3333333333333333,\"#9c179e\"],[0.4444444444444444,\"#bd3786\"],[0.5555555555555556,\"#d8576b\"],[0.6666666666666666,\"#ed7953\"],[0.7777777777777778,\"#fb9f3a\"],[0.8888888888888888,\"#fdca26\"],[1.0,\"#f0f921\"]]}],\"mesh3d\":[{\"type\":\"mesh3d\",\"colorbar\":{\"outlinewidth\":0,\"ticks\":\"\"}}],\"scatter\":[{\"fillpattern\":{\"fillmode\":\"overlay\",\"size\":10,\"solidity\":0.2},\"type\":\"scatter\"}],\"parcoords\":[{\"type\":\"parcoords\",\"line\":{\"colorbar\":{\"outlinewidth\":0,\"ticks\":\"\"}}}],\"scatterpolargl\":[{\"type\":\"scatterpolargl\",\"marker\":{\"colorbar\":{\"outlinewidth\":0,\"ticks\":\"\"}}}],\"bar\":[{\"error_x\":{\"color\":\"#2a3f5f\"},\"error_y\":{\"color\":\"#2a3f5f\"},\"marker\":{\"line\":{\"color\":\"#E5ECF6\",\"width\":0.5},\"pattern\":{\"fillmode\":\"overlay\",\"size\":10,\"solidity\":0.2}},\"type\":\"bar\"}],\"scattergeo\":[{\"type\":\"scattergeo\",\"marker\":{\"colorbar\":{\"outlinewidth\":0,\"ticks\":\"\"}}}],\"scatterpolar\":[{\"type\":\"scatterpolar\",\"marker\":{\"colorbar\":{\"outlinewidth\":0,\"ticks\":\"\"}}}],\"histogram\":[{\"marker\":{\"pattern\":{\"fillmode\":\"overlay\",\"size\":10,\"solidity\":0.2}},\"type\":\"histogram\"}],\"scattergl\":[{\"type\":\"scattergl\",\"marker\":{\"colorbar\":{\"outlinewidth\":0,\"ticks\":\"\"}}}],\"scatter3d\":[{\"type\":\"scatter3d\",\"line\":{\"colorbar\":{\"outlinewidth\":0,\"ticks\":\"\"}},\"marker\":{\"colorbar\":{\"outlinewidth\":0,\"ticks\":\"\"}}}],\"scattermapbox\":[{\"type\":\"scattermapbox\",\"marker\":{\"colorbar\":{\"outlinewidth\":0,\"ticks\":\"\"}}}],\"scatterternary\":[{\"type\":\"scatterternary\",\"marker\":{\"colorbar\":{\"outlinewidth\":0,\"ticks\":\"\"}}}],\"scattercarpet\":[{\"type\":\"scattercarpet\",\"marker\":{\"colorbar\":{\"outlinewidth\":0,\"ticks\":\"\"}}}],\"carpet\":[{\"aaxis\":{\"endlinecolor\":\"#2a3f5f\",\"gridcolor\":\"white\",\"linecolor\":\"white\",\"minorgridcolor\":\"white\",\"startlinecolor\":\"#2a3f5f\"},\"baxis\":{\"endlinecolor\":\"#2a3f5f\",\"gridcolor\":\"white\",\"linecolor\":\"white\",\"minorgridcolor\":\"white\",\"startlinecolor\":\"#2a3f5f\"},\"type\":\"carpet\"}],\"table\":[{\"cells\":{\"fill\":{\"color\":\"#EBF0F8\"},\"line\":{\"color\":\"white\"}},\"header\":{\"fill\":{\"color\":\"#C8D4E3\"},\"line\":{\"color\":\"white\"}},\"type\":\"table\"}],\"barpolar\":[{\"marker\":{\"line\":{\"color\":\"#E5ECF6\",\"width\":0.5},\"pattern\":{\"fillmode\":\"overlay\",\"size\":10,\"solidity\":0.2}},\"type\":\"barpolar\"}],\"pie\":[{\"automargin\":true,\"type\":\"pie\"}]},\"layout\":{\"autotypenumbers\":\"strict\",\"colorway\":[\"#636efa\",\"#EF553B\",\"#00cc96\",\"#ab63fa\",\"#FFA15A\",\"#19d3f3\",\"#FF6692\",\"#B6E880\",\"#FF97FF\",\"#FECB52\"],\"font\":{\"color\":\"#2a3f5f\"},\"hovermode\":\"closest\",\"hoverlabel\":{\"align\":\"left\"},\"paper_bgcolor\":\"white\",\"plot_bgcolor\":\"#E5ECF6\",\"polar\":{\"bgcolor\":\"#E5ECF6\",\"angularaxis\":{\"gridcolor\":\"white\",\"linecolor\":\"white\",\"ticks\":\"\"},\"radialaxis\":{\"gridcolor\":\"white\",\"linecolor\":\"white\",\"ticks\":\"\"}},\"ternary\":{\"bgcolor\":\"#E5ECF6\",\"aaxis\":{\"gridcolor\":\"white\",\"linecolor\":\"white\",\"ticks\":\"\"},\"baxis\":{\"gridcolor\":\"white\",\"linecolor\":\"white\",\"ticks\":\"\"},\"caxis\":{\"gridcolor\":\"white\",\"linecolor\":\"white\",\"ticks\":\"\"}},\"coloraxis\":{\"colorbar\":{\"outlinewidth\":0,\"ticks\":\"\"}},\"colorscale\":{\"sequential\":[[0.0,\"#0d0887\"],[0.1111111111111111,\"#46039f\"],[0.2222222222222222,\"#7201a8\"],[0.3333333333333333,\"#9c179e\"],[0.4444444444444444,\"#bd3786\"],[0.5555555555555556,\"#d8576b\"],[0.6666666666666666,\"#ed7953\"],[0.7777777777777778,\"#fb9f3a\"],[0.8888888888888888,\"#fdca26\"],[1.0,\"#f0f921\"]],\"sequentialminus\":[[0.0,\"#0d0887\"],[0.1111111111111111,\"#46039f\"],[0.2222222222222222,\"#7201a8\"],[0.3333333333333333,\"#9c179e\"],[0.4444444444444444,\"#bd3786\"],[0.5555555555555556,\"#d8576b\"],[0.6666666666666666,\"#ed7953\"],[0.7777777777777778,\"#fb9f3a\"],[0.8888888888888888,\"#fdca26\"],[1.0,\"#f0f921\"]],\"diverging\":[[0,\"#8e0152\"],[0.1,\"#c51b7d\"],[0.2,\"#de77ae\"],[0.3,\"#f1b6da\"],[0.4,\"#fde0ef\"],[0.5,\"#f7f7f7\"],[0.6,\"#e6f5d0\"],[0.7,\"#b8e186\"],[0.8,\"#7fbc41\"],[0.9,\"#4d9221\"],[1,\"#276419\"]]},\"xaxis\":{\"gridcolor\":\"white\",\"linecolor\":\"white\",\"ticks\":\"\",\"title\":{\"standoff\":15},\"zerolinecolor\":\"white\",\"automargin\":true,\"zerolinewidth\":2},\"yaxis\":{\"gridcolor\":\"white\",\"linecolor\":\"white\",\"ticks\":\"\",\"title\":{\"standoff\":15},\"zerolinecolor\":\"white\",\"automargin\":true,\"zerolinewidth\":2},\"scene\":{\"xaxis\":{\"backgroundcolor\":\"#E5ECF6\",\"gridcolor\":\"white\",\"linecolor\":\"white\",\"showbackground\":true,\"ticks\":\"\",\"zerolinecolor\":\"white\",\"gridwidth\":2},\"yaxis\":{\"backgroundcolor\":\"#E5ECF6\",\"gridcolor\":\"white\",\"linecolor\":\"white\",\"showbackground\":true,\"ticks\":\"\",\"zerolinecolor\":\"white\",\"gridwidth\":2},\"zaxis\":{\"backgroundcolor\":\"#E5ECF6\",\"gridcolor\":\"white\",\"linecolor\":\"white\",\"showbackground\":true,\"ticks\":\"\",\"zerolinecolor\":\"white\",\"gridwidth\":2}},\"shapedefaults\":{\"line\":{\"color\":\"#2a3f5f\"}},\"annotationdefaults\":{\"arrowcolor\":\"#2a3f5f\",\"arrowhead\":0,\"arrowwidth\":1},\"geo\":{\"bgcolor\":\"white\",\"landcolor\":\"#E5ECF6\",\"subunitcolor\":\"white\",\"showland\":true,\"showlakes\":true,\"lakecolor\":\"white\"},\"title\":{\"x\":0.05},\"mapbox\":{\"style\":\"light\"}}},\"margin\":{\"l\":50,\"r\":50,\"b\":100,\"t\":100,\"pad\":4},\"title\":{\"text\":\"\"},\"xaxis\":{\"title\":{\"text\":\"Time\"}},\"yaxis\":{\"title\":{\"text\":\"Value\"}},\"autosize\":false,\"width\":600,\"height\":600,\"paper_bgcolor\":\"LightSteelBlue\",\"showlegend\":false},                        {\"responsive\": true}                    ).then(function(){\n",
              "                            \n",
              "var gd = document.getElementById('b2bcf9ed-5b2f-4939-8371-cdb273f2fccf');\n",
              "var x = new MutationObserver(function (mutations, observer) {{\n",
              "        var display = window.getComputedStyle(gd).display;\n",
              "        if (!display || display === 'none') {{\n",
              "            console.log([gd, 'removed!']);\n",
              "            Plotly.purge(gd);\n",
              "            observer.disconnect();\n",
              "        }}\n",
              "}});\n",
              "\n",
              "// Listen for the removal of the full notebook cells\n",
              "var notebookContainer = gd.closest('#notebook-container');\n",
              "if (notebookContainer) {{\n",
              "    x.observe(notebookContainer, {childList: true});\n",
              "}}\n",
              "\n",
              "// Listen for the clearing of the current output cell\n",
              "var outputEl = gd.closest('.output');\n",
              "if (outputEl) {{\n",
              "    x.observe(outputEl, {childList: true});\n",
              "}}\n",
              "\n",
              "                        })                };                            </script>        </div>\n",
              "</body>\n",
              "</html>"
            ]
          },
          "metadata": {}
        }
      ]
    },
    {
      "cell_type": "code",
      "source": [
        "print(history_build1.history['loss'][-1])\n",
        "print(tf.keras.metrics.mean_squared_error(test_set_g2[:,-1], results2[:,-1]).numpy())\n",
        "print(tf.keras.metrics.mean_absolute_error(test_set_g2[:,-1], results2[:,-1]).numpy())"
      ],
      "metadata": {
        "colab": {
          "base_uri": "https://localhost:8080/"
        },
        "id": "xKP1sGYFwwPm",
        "outputId": "d7be35c3-1b8b-450b-eece-eabf37b75789"
      },
      "execution_count": 111,
      "outputs": [
        {
          "output_type": "stream",
          "name": "stdout",
          "text": [
            "0.006379793398082256\n",
            "7801.272\n",
            "66.3938\n"
          ]
        }
      ]
    },
    {
      "cell_type": "code",
      "source": [
        "test_set_g2.shape"
      ],
      "metadata": {
        "colab": {
          "base_uri": "https://localhost:8080/"
        },
        "id": "6A7ox-Szwydi",
        "outputId": "6b17a1b4-7197-4e4b-def7-546a82505820"
      },
      "execution_count": 112,
      "outputs": [
        {
          "output_type": "execute_result",
          "data": {
            "text/plain": [
              "TensorShape([147, 5])"
            ]
          },
          "metadata": {},
          "execution_count": 112
        }
      ]
    },
    {
      "cell_type": "markdown",
      "source": [
        "## tomorrow pred"
      ],
      "metadata": {
        "id": "kgb8qxIuw04q"
      }
    },
    {
      "cell_type": "code",
      "source": [
        "test_set = tf.convert_to_tensor(df_test[predictors_and_target])"
      ],
      "metadata": {
        "id": "meXYqecUw0fi"
      },
      "execution_count": 113,
      "outputs": []
    },
    {
      "cell_type": "code",
      "source": [
        "test_set[-1].numpy()"
      ],
      "metadata": {
        "colab": {
          "base_uri": "https://localhost:8080/"
        },
        "id": "TFIRMKP3w9hY",
        "outputId": "719324f0-6b8e-46ff-9453-92655c185fc5"
      },
      "execution_count": 114,
      "outputs": [
        {
          "output_type": "execute_result",
          "data": {
            "text/plain": [
              "array([1.492935e+08, 4.350000e+03, 4.290000e+03, 4.340000e+03,\n",
              "       4.340000e+03])"
            ]
          },
          "metadata": {},
          "execution_count": 114
        }
      ]
    },
    {
      "cell_type": "code",
      "source": [
        "with np.printoptions(precision=0, suppress=True):\n",
        "    print(test_set[-1].numpy())"
      ],
      "metadata": {
        "colab": {
          "base_uri": "https://localhost:8080/"
        },
        "id": "FNCc0wj8w9_K",
        "outputId": "2fdbc758-959e-4576-e5f7-480442c2d0a0"
      },
      "execution_count": 115,
      "outputs": [
        {
          "output_type": "stream",
          "name": "stdout",
          "text": [
            "[1.e+08 4.e+03 4.e+03 4.e+03 4.e+03]\n"
          ]
        }
      ]
    },
    {
      "cell_type": "code",
      "source": [
        "test_set_normalized = minmax_scaler.transform(test_set)\n",
        "test_set_normalized[-1]"
      ],
      "metadata": {
        "colab": {
          "base_uri": "https://localhost:8080/"
        },
        "id": "zJppynLsxQ5t",
        "outputId": "afaa562f-a648-442a-89a3-f1a7d08cc58b"
      },
      "execution_count": 116,
      "outputs": [
        {
          "output_type": "execute_result",
          "data": {
            "text/plain": [
              "array([-0.58667405,  0.55752212,  0.60550459,  0.55263158,  0.61085973])"
            ]
          },
          "metadata": {},
          "execution_count": 116
        }
      ]
    },
    {
      "cell_type": "code",
      "source": [
        "tomorro_pred = minmax_scaler.inverse_transform(model_tune2.predict(\n",
        "    np.expand_dims(test_set_normalized[-window_size:], axis=0)))"
      ],
      "metadata": {
        "colab": {
          "base_uri": "https://localhost:8080/"
        },
        "id": "VPymH3QHxTOA",
        "outputId": "488d9138-893f-4243-853c-e3a3f2def130"
      },
      "execution_count": 117,
      "outputs": [
        {
          "output_type": "stream",
          "name": "stdout",
          "text": [
            "1/1 [==============================] - 0s 47ms/step\n"
          ]
        }
      ]
    },
    {
      "cell_type": "code",
      "source": [
        "with np.printoptions(precision=13, suppress=True):\n",
        "    print(np.rint(tomorro_pred).astype(int))\n",
        "\n",
        "#for elem in tomorro_pred[0]:\n",
        "#  print('{:.1f}'.format(elem))"
      ],
      "metadata": {
        "colab": {
          "base_uri": "https://localhost:8080/"
        },
        "id": "mh1ACsefxVF2",
        "outputId": "571b73d6-a45f-4c1e-e0b1-72439ce21bb3"
      },
      "execution_count": 118,
      "outputs": [
        {
          "output_type": "stream",
          "name": "stdout",
          "text": [
            "[[106620184      4342      4257      4301      4291]]\n"
          ]
        }
      ]
    },
    {
      "cell_type": "markdown",
      "source": [
        "previous pred"
      ],
      "metadata": {
        "id": "iYQo2pdMxXkm"
      }
    },
    {
      "cell_type": "code",
      "source": [
        "with np.printoptions(precision=13, suppress=True):\n",
        "  print(np.rint(results2[-1,:].reshape(1, -1)).astype(int))"
      ],
      "metadata": {
        "colab": {
          "base_uri": "https://localhost:8080/"
        },
        "id": "7RDngJdsxXIW",
        "outputId": "c8355b78-4701-4e5e-e3ba-10e99cf71121"
      },
      "execution_count": 119,
      "outputs": [
        {
          "output_type": "stream",
          "name": "stdout",
          "text": [
            "[[101853352      4306      4222      4265      4257]]\n"
          ]
        }
      ]
    },
    {
      "cell_type": "code",
      "source": [
        "type(test_set_g2.numpy())"
      ],
      "metadata": {
        "colab": {
          "base_uri": "https://localhost:8080/"
        },
        "id": "DbqujeTJ_Nmt",
        "outputId": "99de18a6-4654-40b1-e3a5-609da1592699"
      },
      "execution_count": 121,
      "outputs": [
        {
          "output_type": "execute_result",
          "data": {
            "text/plain": [
              "numpy.ndarray"
            ]
          },
          "metadata": {},
          "execution_count": 121
        }
      ]
    },
    {
      "cell_type": "code",
      "source": [
        "#change numpy array to dataset\n",
        "df_trainset = pd.DataFrame(test_set_g2.numpy(), columns = predictors_and_target)\n",
        "\n",
        "# insert or prepend date column\n",
        "df_trainset.insert(0, 'Date', pd.to_datetime( df_test['Date'].to_numpy(), format='%y%m%d' ))\n",
        "#df_trainset['Date']= pd.to_datetime(df_test['Date'], format='%y%m%d')\n"
      ],
      "metadata": {
        "id": "DOQQt_xa_RFL"
      },
      "execution_count": 147,
      "outputs": []
    },
    {
      "cell_type": "code",
      "source": [
        "# vertical stack, append row to an array\n",
        "df_pred = pd.DataFrame(np.vstack([results2, tomorro_pred]), columns = predictors_and_target)\n",
        "\n",
        "# set tomorrow date\n",
        "tomorrow_datetime = np.array(np.datetime64('today', 'D') + np.timedelta64(1, 'D'))\n",
        "# print(tomorrow_datetime.reshape(1,))\n",
        "# print(df_test['Date'].to_numpy())\n",
        "\n",
        "# append tomorrow date to date data from test dataset date column\n",
        "the_datecol = np.append(df_test['Date'].to_numpy(), tomorrow_datetime.reshape(1,))\n",
        "\n",
        "# prepend column date to prediciton dataset\n",
        "df_pred.insert(0, 'Date', pd.to_datetime( the_datecol, format='%y%m%d' ))"
      ],
      "metadata": {
        "id": "KJEFZQxKIE_B"
      },
      "execution_count": 178,
      "outputs": []
    },
    {
      "cell_type": "code",
      "source": [
        "plot_candlesticks(df_pred, figure_title='pred + tomorrow candlestick graph', showlegend=False)"
      ],
      "metadata": {
        "colab": {
          "base_uri": "https://localhost:8080/",
          "height": 617
        },
        "id": "0L5aqFNuAQuY",
        "outputId": "91cfda56-5652-4b7b-fdbc-62faa33f4b9d"
      },
      "execution_count": 192,
      "outputs": [
        {
          "output_type": "display_data",
          "data": {
            "text/html": [
              "<html>\n",
              "<head><meta charset=\"utf-8\" /></head>\n",
              "<body>\n",
              "    <div>            <script src=\"https://cdnjs.cloudflare.com/ajax/libs/mathjax/2.7.5/MathJax.js?config=TeX-AMS-MML_SVG\"></script><script type=\"text/javascript\">if (window.MathJax && window.MathJax.Hub && window.MathJax.Hub.Config) {window.MathJax.Hub.Config({SVG: {font: \"STIX-Web\"}});}</script>                <script type=\"text/javascript\">window.PlotlyConfig = {MathJaxConfig: 'local'};</script>\n",
              "        <script src=\"https://cdn.plot.ly/plotly-2.18.2.min.js\"></script>                <div id=\"2c1e496a-fbac-43ed-ae4b-7919b4b05329\" class=\"plotly-graph-div\" style=\"height:600px; width:600px;\"></div>            <script type=\"text/javascript\">                                    window.PLOTLYENV=window.PLOTLYENV || {};                                    if (document.getElementById(\"2c1e496a-fbac-43ed-ae4b-7919b4b05329\")) {                    Plotly.newPlot(                        \"2c1e496a-fbac-43ed-ae4b-7919b4b05329\",                        [{\"close\":[4488.849609375,4492.6884765625,4487.99853515625,4482.88525390625,4485.4765625,4474.1474609375,4459.46435546875,4445.31396484375,4435.9755859375,4434.962890625,4440.35693359375,4442.578125,4441.29541015625,4437.7646484375,4439.14599609375,4444.64990234375,4443.3759765625,4429.3134765625,4412.6796875,4397.4189453125,4378.75,4362.79345703125,4356.4150390625,4334.783203125,4323.1123046875,4298.4765625,4297.75048828125,4303.787109375,4328.80322265625,4355.8076171875,4369.04443359375,4374.46337890625,4390.8720703125,4408.65966796875,4414.142578125,4410.12841796875,4362.46826171875,4322.34521484375,4305.0771484375,4292.25537109375,4276.0361328125,4240.279296875,4231.7451171875,4200.44873046875,4156.11083984375,4117.3681640625,4088.380859375,4070.238525390625,4043.732666015625,4027.213134765625,4009.258544921875,3992.276123046875,3986.185302734375,3988.63818359375,3983.579345703125,4051.8779296875,4057.3642578125,4039.479736328125,4010.854248046875,3947.64306640625,3875.42431640625,3827.8818359375,3778.703369140625,3743.954345703125,3735.072509765625,3735.546142578125,3711.805908203125,3712.28662109375,3702.780029296875,3686.466552734375,3681.607177734375,3684.729736328125,3674.887939453125,3671.262451171875,3677.4951171875,3708.696044921875,3711.44775390625,3716.28662109375,3714.807373046875,3750.031005859375,3775.96044921875,3793.34228515625,3780.961181640625,3773.30859375,3791.281494140625,3810.020751953125,3826.962890625,3843.5791015625,3845.91748046875,3881.344970703125,3921.70751953125,3939.927001953125,3941.810791015625,3930.32861328125,3917.06689453125,3928.740234375,3950.822998046875,3958.9111328125,3962.656005859375,3943.011474609375,3927.02978515625,3922.783935546875,3909.693603515625,3891.378662109375,3870.73291015625,3854.244384765625,3829.676025390625,3815.250732421875,3808.7294921875,3802.262451171875,3794.434814453125,3782.915771484375,3783.095947265625,3799.596435546875,3811.726806640625,3861.203125,3922.270263671875,3947.7890625,3966.00732421875,3969.122314453125,3958.8974609375,3947.063232421875,3941.91162109375,3931.86767578125,3927.131103515625,3947.18115234375,3965.01806640625,3998.263671875,4026.2041015625,4038.16162109375,4050.61474609375,4085.7197265625,4079.907470703125,4082.6015625,4092.994873046875,4097.7841796875,4105.20068359375,4115.64697265625,4117.86669921875,4119.02490234375,4114.44873046875,4108.505859375,4114.4716796875,4150.22216796875,4183.541015625,4215.70947265625,4256.966796875,4291.0048828125],\"high\":[4521.79052734375,4526.49072265625,4530.0087890625,4523.931640625,4525.74951171875,4515.44189453125,4500.3955078125,4485.654296875,4478.8095703125,4476.18359375,4478.83984375,4478.56640625,4478.71923828125,4473.673828125,4473.1376953125,4475.173828125,4472.111328125,4462.18310546875,4446.69775390625,4435.23876953125,4419.9375,4403.10205078125,4394.0859375,4375.79150390625,4363.15625,4338.490234375,4345.13330078125,4348.09765625,4368.8330078125,4394.9443359375,4406.576171875,4409.9677734375,4425.3056640625,4447.365234375,4452.51318359375,4457.72900390625,4421.146484375,4385.86767578125,4366.05859375,4349.0830078125,4333.50830078125,4294.49072265625,4292.365234375,4262.3955078125,4211.021484375,4171.35107421875,4133.36083984375,4112.5244140625,4080.400146484375,4062.137451171875,4043.66455078125,4025.072998046875,4021.484375,4026.127685546875,4025.7197265625,4129.7109375,4134.4091796875,4112.19482421875,4082.5830078125,4041.96630859375,3974.00341796875,3926.452880859375,3868.509033203125,3823.98193359375,3811.504638671875,3797.40185546875,3767.976806640625,3773.57275390625,3756.482177734375,3730.546875,3720.179443359375,3718.48291015625,3705.740234375,3698.69970703125,3707.67724609375,3734.918212890625,3740.179931640625,3752.191650390625,3749.890380859375,3780.3857421875,3805.7138671875,3827.242431640625,3815.47216796875,3808.1298828125,3825.573974609375,3843.96240234375,3864.67578125,3878.75390625,3878.62890625,3917.35791015625,3957.2041015625,3976.151123046875,3978.99560546875,3964.92919921875,3952.42041015625,3964.563232421875,3987.45654296875,3993.175048828125,4006.09423828125,3985.8623046875,3970.28564453125,3961.003662109375,3945.490966796875,3927.971435546875,3906.607177734375,3890.86181640625,3866.614013671875,3849.435791015625,3843.65771484375,3835.538818359375,3824.573486328125,3810.451904296875,3808.365234375,3823.5458984375,3834.616455078125,3886.8642578125,3953.073486328125,3980.33056640625,4000.118408203125,4002.41259765625,3992.224853515625,3980.70556640625,3975.735107421875,3965.172607421875,3963.58154296875,3982.5537109375,4001.445068359375,4037.34765625,4067.17431640625,4077.129150390625,4090.135986328125,4134.55224609375,4128.2119140625,4129.8466796875,4140.0244140625,4143.1162109375,4149.5185546875,4161.3525390625,4161.8310546875,4162.82958984375,4155.82177734375,4150.6884765625,4154.71533203125,4192.42724609375,4225.23876953125,4257.52783203125,4305.779296875,4342.15478515625],\"low\":[4461.958984375,4467.0068359375,4461.79248046875,4449.2861328125,4444.91748046875,4424.83740234375,4403.9365234375,4385.00341796875,4375.0361328125,4374.44091796875,4375.37744140625,4376.71728515625,4375.759765625,4373.197265625,4379.0830078125,4386.6650390625,4385.0322265625,4373.9775390625,4358.134765625,4343.35107421875,4323.546875,4303.45068359375,4290.48291015625,4265.78564453125,4252.837890625,4226.27587890625,4230.40283203125,4238.236328125,4264.66064453125,4294.67919921875,4307.79638671875,4313.505859375,4331.19677734375,4352.5869140625,4356.84228515625,4351.068359375,4295.19140625,4244.56103515625,4220.0888671875,4201.43896484375,4182.0625,4142.88525390625,4139.939453125,4104.400390625,4056.783935546875,4020.053955078125,3986.7333984375,3973.757080078125,3951.801513671875,3942.460693359375,3932.521484375,3924.18798828125,3927.21240234375,3934.636962890625,3934.880615234375,4020.857666015625,4013.2001953125,3982.043701171875,3943.317626953125,3873.70751953125,3784.572998046875,3725.356201171875,3658.9140625,3615.83447265625,3609.998779296875,3609.639404296875,3593.88818359375,3605.60107421875,3604.890380859375,3598.669189453125,3608.193359375,3627.807861328125,3632.669189453125,3641.408203125,3659.610107421875,3683.560546875,3690.159423828125,3702.124755859375,3700.795654296875,3730.995849609375,3755.575439453125,3771.176513671875,3754.818359375,3742.88330078125,3754.93017578125,3772.070068359375,3786.172607421875,3790.57958984375,3788.38037109375,3827.145751953125,3865.535888671875,3882.716552734375,3882.843994140625,3869.490966796875,3854.4013671875,3867.29248046875,3891.721435546875,3898.9599609375,3907.92138671875,3883.46240234375,3865.41796875,3856.26806640625,3843.78955078125,3827.008056640625,3806.752197265625,3790.43359375,3763.815185546875,3750.087646484375,3746.741943359375,3737.9990234375,3730.237548828125,3718.206298828125,3721.232177734375,3744.350830078125,3760.53125,3815.1455078125,3882.3359375,3907.962646484375,3921.297119140625,3921.12646484375,3907.070068359375,3893.552978515625,3886.318359375,3874.545166015625,3869.75244140625,3890.651123046875,3908.9736328125,3945.4404296875,3974.309326171875,3985.02734375,3998.62109375,4040.105224609375,4028.256103515625,4028.6494140625,4039.736083984375,4039.7109375,4041.453369140625,4052.20947265625,4049.97509765625,4050.76123046875,4046.53955078125,4042.115966796875,4051.601806640625,4095.9873046875,4134.13330078125,4172.75537109375,4221.76123046875,4256.9853515625],\"open\":[4478.16748046875,4488.2119140625,4494.94384765625,4489.62158203125,4489.05517578125,4473.697265625,4455.97412109375,4440.173828125,4436.60009765625,4437.83837890625,4441.974609375,4440.89111328125,4439.98046875,4432.73046875,4433.3369140625,4435.37109375,4428.3798828125,4415.44384765625,4397.51171875,4385.55712890625,4371.17626953125,4354.53857421875,4344.38623046875,4324.79638671875,4311.48291015625,4285.08447265625,4299.01171875,4306.6962890625,4331.8818359375,4361.775390625,4373.185546875,4375.57861328125,4391.84814453125,4415.17431640625,4417.61083984375,4418.68896484375,4374.20166015625,4335.0712890625,4313.1630859375,4294.3564453125,4278.025390625,4235.27587890625,4238.7021484375,4208.255859375,4154.884765625,4119.02978515625,4080.605712890625,4061.97314453125,4028.6533203125,4011.11083984375,3992.728515625,3973.216552734375,3970.0673828125,3974.97412109375,3976.46923828125,4099.0419921875,4100.484375,4069.135986328125,4029.91796875,3988.148193359375,3919.911376953125,3876.488525390625,3821.501708984375,3783.059326171875,3779.440673828125,3766.23681640625,3737.0712890625,3747.023193359375,3723.23046875,3688.586181640625,3672.19970703125,3661.57666015625,3640.798583984375,3629.178466796875,3641.9873046875,3669.172119140625,3669.93701171875,3681.31103515625,3682.837158203125,3725.171630859375,3755.09228515625,3780.515625,3768.318603515625,3762.8544921875,3785.991455078125,3810.75390625,3838.36376953125,3856.530029296875,3857.266845703125,3900.668701171875,3939.486572265625,3956.71875,3954.322265625,3934.886962890625,3920.08837890625,3935.197998046875,3958.04833984375,3961.40283203125,3972.554931640625,3947.422607421875,3931.10009765625,3922.40673828125,3907.26953125,3888.37451171875,3867.222412109375,3852.154541015625,3829.3017578125,3814.518798828125,3810.75048828125,3803.557373046875,3793.743896484375,3781.286865234375,3782.607421875,3801.551513671875,3813.87744140625,3870.346923828125,3940.73583984375,3963.48583984375,3981.3427734375,3977.2490234375,3960.7412109375,3945.703369140625,3938.393798828125,3927.751708984375,3928.015380859375,3950.83544921875,3971.42236328125,4010.260009765625,4040.574951171875,4047.01416015625,4059.26416015625,4107.369140625,4094.2265625,4094.134521484375,4102.88525390625,4102.90087890625,4108.1240234375,4120.99169921875,4120.56201171875,4119.1015625,4109.345703125,4102.6640625,4107.39208984375,4149.8115234375,4182.7685546875,4214.86669921875,4265.1142578125,4300.669921875],\"x\":[\"2022-09-15T00:00:00\",\"2022-09-16T00:00:00\",\"2022-09-19T00:00:00\",\"2022-09-20T00:00:00\",\"2022-09-21T00:00:00\",\"2022-09-22T00:00:00\",\"2022-09-23T00:00:00\",\"2022-09-26T00:00:00\",\"2022-09-27T00:00:00\",\"2022-09-28T00:00:00\",\"2022-09-29T00:00:00\",\"2022-09-30T00:00:00\",\"2022-10-03T00:00:00\",\"2022-10-04T00:00:00\",\"2022-10-05T00:00:00\",\"2022-10-06T00:00:00\",\"2022-10-07T00:00:00\",\"2022-10-10T00:00:00\",\"2022-10-11T00:00:00\",\"2022-10-12T00:00:00\",\"2022-10-13T00:00:00\",\"2022-10-14T00:00:00\",\"2022-10-17T00:00:00\",\"2022-10-18T00:00:00\",\"2022-10-19T00:00:00\",\"2022-10-20T00:00:00\",\"2022-10-21T00:00:00\",\"2022-10-24T00:00:00\",\"2022-10-25T00:00:00\",\"2022-10-26T00:00:00\",\"2022-10-27T00:00:00\",\"2022-10-28T00:00:00\",\"2022-10-31T00:00:00\",\"2022-11-01T00:00:00\",\"2022-11-02T00:00:00\",\"2022-11-03T00:00:00\",\"2022-11-04T00:00:00\",\"2022-11-07T00:00:00\",\"2022-11-08T00:00:00\",\"2022-11-09T00:00:00\",\"2022-11-10T00:00:00\",\"2022-11-11T00:00:00\",\"2022-11-14T00:00:00\",\"2022-11-15T00:00:00\",\"2022-11-16T00:00:00\",\"2022-11-17T00:00:00\",\"2022-11-18T00:00:00\",\"2022-11-21T00:00:00\",\"2022-11-22T00:00:00\",\"2022-11-23T00:00:00\",\"2022-11-24T00:00:00\",\"2022-11-25T00:00:00\",\"2022-11-28T00:00:00\",\"2022-11-29T00:00:00\",\"2022-11-30T00:00:00\",\"2022-12-01T00:00:00\",\"2022-12-02T00:00:00\",\"2022-12-05T00:00:00\",\"2022-12-06T00:00:00\",\"2022-12-07T00:00:00\",\"2022-12-08T00:00:00\",\"2022-12-09T00:00:00\",\"2022-12-12T00:00:00\",\"2022-12-13T00:00:00\",\"2022-12-14T00:00:00\",\"2022-12-15T00:00:00\",\"2022-12-16T00:00:00\",\"2022-12-19T00:00:00\",\"2022-12-20T00:00:00\",\"2022-12-21T00:00:00\",\"2022-12-22T00:00:00\",\"2022-12-23T00:00:00\",\"2022-12-26T00:00:00\",\"2022-12-27T00:00:00\",\"2022-12-28T00:00:00\",\"2022-12-29T00:00:00\",\"2022-12-30T00:00:00\",\"2023-01-02T00:00:00\",\"2023-01-03T00:00:00\",\"2023-01-04T00:00:00\",\"2023-01-05T00:00:00\",\"2023-01-06T00:00:00\",\"2023-01-09T00:00:00\",\"2023-01-10T00:00:00\",\"2023-01-11T00:00:00\",\"2023-01-12T00:00:00\",\"2023-01-13T00:00:00\",\"2023-01-16T00:00:00\",\"2023-01-17T00:00:00\",\"2023-01-18T00:00:00\",\"2023-01-19T00:00:00\",\"2023-01-20T00:00:00\",\"2023-01-24T00:00:00\",\"2023-01-25T00:00:00\",\"2023-01-26T00:00:00\",\"2023-01-27T00:00:00\",\"2023-01-30T00:00:00\",\"2023-01-31T00:00:00\",\"2023-02-01T00:00:00\",\"2023-02-02T00:00:00\",\"2023-02-03T00:00:00\",\"2023-02-06T00:00:00\",\"2023-02-07T00:00:00\",\"2023-02-08T00:00:00\",\"2023-02-09T00:00:00\",\"2023-02-10T00:00:00\",\"2023-02-13T00:00:00\",\"2023-02-14T00:00:00\",\"2023-02-15T00:00:00\",\"2023-02-16T00:00:00\",\"2023-02-17T00:00:00\",\"2023-02-20T00:00:00\",\"2023-02-21T00:00:00\",\"2023-02-22T00:00:00\",\"2023-02-23T00:00:00\",\"2023-02-24T00:00:00\",\"2023-02-27T00:00:00\",\"2023-02-28T00:00:00\",\"2023-03-01T00:00:00\",\"2023-03-02T00:00:00\",\"2023-03-03T00:00:00\",\"2023-03-06T00:00:00\",\"2023-03-07T00:00:00\",\"2023-03-08T00:00:00\",\"2023-03-09T00:00:00\",\"2023-03-10T00:00:00\",\"2023-03-13T00:00:00\",\"2023-03-14T00:00:00\",\"2023-03-15T00:00:00\",\"2023-03-16T00:00:00\",\"2023-03-17T00:00:00\",\"2023-03-20T00:00:00\",\"2023-03-21T00:00:00\",\"2023-03-24T00:00:00\",\"2023-03-27T00:00:00\",\"2023-03-28T00:00:00\",\"2023-03-29T00:00:00\",\"2023-03-30T00:00:00\",\"2023-03-31T00:00:00\",\"2023-04-03T00:00:00\",\"2023-04-04T00:00:00\",\"2023-04-05T00:00:00\",\"2023-04-06T00:00:00\",\"2023-04-10T00:00:00\",\"2023-04-11T00:00:00\",\"2023-04-12T00:00:00\",\"2023-04-13T00:00:00\",\"2023-04-14T00:00:00\"],\"type\":\"candlestick\"}],                        {\"template\":{\"data\":{\"histogram2dcontour\":[{\"type\":\"histogram2dcontour\",\"colorbar\":{\"outlinewidth\":0,\"ticks\":\"\"},\"colorscale\":[[0.0,\"#0d0887\"],[0.1111111111111111,\"#46039f\"],[0.2222222222222222,\"#7201a8\"],[0.3333333333333333,\"#9c179e\"],[0.4444444444444444,\"#bd3786\"],[0.5555555555555556,\"#d8576b\"],[0.6666666666666666,\"#ed7953\"],[0.7777777777777778,\"#fb9f3a\"],[0.8888888888888888,\"#fdca26\"],[1.0,\"#f0f921\"]]}],\"choropleth\":[{\"type\":\"choropleth\",\"colorbar\":{\"outlinewidth\":0,\"ticks\":\"\"}}],\"histogram2d\":[{\"type\":\"histogram2d\",\"colorbar\":{\"outlinewidth\":0,\"ticks\":\"\"},\"colorscale\":[[0.0,\"#0d0887\"],[0.1111111111111111,\"#46039f\"],[0.2222222222222222,\"#7201a8\"],[0.3333333333333333,\"#9c179e\"],[0.4444444444444444,\"#bd3786\"],[0.5555555555555556,\"#d8576b\"],[0.6666666666666666,\"#ed7953\"],[0.7777777777777778,\"#fb9f3a\"],[0.8888888888888888,\"#fdca26\"],[1.0,\"#f0f921\"]]}],\"heatmap\":[{\"type\":\"heatmap\",\"colorbar\":{\"outlinewidth\":0,\"ticks\":\"\"},\"colorscale\":[[0.0,\"#0d0887\"],[0.1111111111111111,\"#46039f\"],[0.2222222222222222,\"#7201a8\"],[0.3333333333333333,\"#9c179e\"],[0.4444444444444444,\"#bd3786\"],[0.5555555555555556,\"#d8576b\"],[0.6666666666666666,\"#ed7953\"],[0.7777777777777778,\"#fb9f3a\"],[0.8888888888888888,\"#fdca26\"],[1.0,\"#f0f921\"]]}],\"heatmapgl\":[{\"type\":\"heatmapgl\",\"colorbar\":{\"outlinewidth\":0,\"ticks\":\"\"},\"colorscale\":[[0.0,\"#0d0887\"],[0.1111111111111111,\"#46039f\"],[0.2222222222222222,\"#7201a8\"],[0.3333333333333333,\"#9c179e\"],[0.4444444444444444,\"#bd3786\"],[0.5555555555555556,\"#d8576b\"],[0.6666666666666666,\"#ed7953\"],[0.7777777777777778,\"#fb9f3a\"],[0.8888888888888888,\"#fdca26\"],[1.0,\"#f0f921\"]]}],\"contourcarpet\":[{\"type\":\"contourcarpet\",\"colorbar\":{\"outlinewidth\":0,\"ticks\":\"\"}}],\"contour\":[{\"type\":\"contour\",\"colorbar\":{\"outlinewidth\":0,\"ticks\":\"\"},\"colorscale\":[[0.0,\"#0d0887\"],[0.1111111111111111,\"#46039f\"],[0.2222222222222222,\"#7201a8\"],[0.3333333333333333,\"#9c179e\"],[0.4444444444444444,\"#bd3786\"],[0.5555555555555556,\"#d8576b\"],[0.6666666666666666,\"#ed7953\"],[0.7777777777777778,\"#fb9f3a\"],[0.8888888888888888,\"#fdca26\"],[1.0,\"#f0f921\"]]}],\"surface\":[{\"type\":\"surface\",\"colorbar\":{\"outlinewidth\":0,\"ticks\":\"\"},\"colorscale\":[[0.0,\"#0d0887\"],[0.1111111111111111,\"#46039f\"],[0.2222222222222222,\"#7201a8\"],[0.3333333333333333,\"#9c179e\"],[0.4444444444444444,\"#bd3786\"],[0.5555555555555556,\"#d8576b\"],[0.6666666666666666,\"#ed7953\"],[0.7777777777777778,\"#fb9f3a\"],[0.8888888888888888,\"#fdca26\"],[1.0,\"#f0f921\"]]}],\"mesh3d\":[{\"type\":\"mesh3d\",\"colorbar\":{\"outlinewidth\":0,\"ticks\":\"\"}}],\"scatter\":[{\"fillpattern\":{\"fillmode\":\"overlay\",\"size\":10,\"solidity\":0.2},\"type\":\"scatter\"}],\"parcoords\":[{\"type\":\"parcoords\",\"line\":{\"colorbar\":{\"outlinewidth\":0,\"ticks\":\"\"}}}],\"scatterpolargl\":[{\"type\":\"scatterpolargl\",\"marker\":{\"colorbar\":{\"outlinewidth\":0,\"ticks\":\"\"}}}],\"bar\":[{\"error_x\":{\"color\":\"#2a3f5f\"},\"error_y\":{\"color\":\"#2a3f5f\"},\"marker\":{\"line\":{\"color\":\"#E5ECF6\",\"width\":0.5},\"pattern\":{\"fillmode\":\"overlay\",\"size\":10,\"solidity\":0.2}},\"type\":\"bar\"}],\"scattergeo\":[{\"type\":\"scattergeo\",\"marker\":{\"colorbar\":{\"outlinewidth\":0,\"ticks\":\"\"}}}],\"scatterpolar\":[{\"type\":\"scatterpolar\",\"marker\":{\"colorbar\":{\"outlinewidth\":0,\"ticks\":\"\"}}}],\"histogram\":[{\"marker\":{\"pattern\":{\"fillmode\":\"overlay\",\"size\":10,\"solidity\":0.2}},\"type\":\"histogram\"}],\"scattergl\":[{\"type\":\"scattergl\",\"marker\":{\"colorbar\":{\"outlinewidth\":0,\"ticks\":\"\"}}}],\"scatter3d\":[{\"type\":\"scatter3d\",\"line\":{\"colorbar\":{\"outlinewidth\":0,\"ticks\":\"\"}},\"marker\":{\"colorbar\":{\"outlinewidth\":0,\"ticks\":\"\"}}}],\"scattermapbox\":[{\"type\":\"scattermapbox\",\"marker\":{\"colorbar\":{\"outlinewidth\":0,\"ticks\":\"\"}}}],\"scatterternary\":[{\"type\":\"scatterternary\",\"marker\":{\"colorbar\":{\"outlinewidth\":0,\"ticks\":\"\"}}}],\"scattercarpet\":[{\"type\":\"scattercarpet\",\"marker\":{\"colorbar\":{\"outlinewidth\":0,\"ticks\":\"\"}}}],\"carpet\":[{\"aaxis\":{\"endlinecolor\":\"#2a3f5f\",\"gridcolor\":\"white\",\"linecolor\":\"white\",\"minorgridcolor\":\"white\",\"startlinecolor\":\"#2a3f5f\"},\"baxis\":{\"endlinecolor\":\"#2a3f5f\",\"gridcolor\":\"white\",\"linecolor\":\"white\",\"minorgridcolor\":\"white\",\"startlinecolor\":\"#2a3f5f\"},\"type\":\"carpet\"}],\"table\":[{\"cells\":{\"fill\":{\"color\":\"#EBF0F8\"},\"line\":{\"color\":\"white\"}},\"header\":{\"fill\":{\"color\":\"#C8D4E3\"},\"line\":{\"color\":\"white\"}},\"type\":\"table\"}],\"barpolar\":[{\"marker\":{\"line\":{\"color\":\"#E5ECF6\",\"width\":0.5},\"pattern\":{\"fillmode\":\"overlay\",\"size\":10,\"solidity\":0.2}},\"type\":\"barpolar\"}],\"pie\":[{\"automargin\":true,\"type\":\"pie\"}]},\"layout\":{\"autotypenumbers\":\"strict\",\"colorway\":[\"#636efa\",\"#EF553B\",\"#00cc96\",\"#ab63fa\",\"#FFA15A\",\"#19d3f3\",\"#FF6692\",\"#B6E880\",\"#FF97FF\",\"#FECB52\"],\"font\":{\"color\":\"#2a3f5f\"},\"hovermode\":\"closest\",\"hoverlabel\":{\"align\":\"left\"},\"paper_bgcolor\":\"white\",\"plot_bgcolor\":\"#E5ECF6\",\"polar\":{\"bgcolor\":\"#E5ECF6\",\"angularaxis\":{\"gridcolor\":\"white\",\"linecolor\":\"white\",\"ticks\":\"\"},\"radialaxis\":{\"gridcolor\":\"white\",\"linecolor\":\"white\",\"ticks\":\"\"}},\"ternary\":{\"bgcolor\":\"#E5ECF6\",\"aaxis\":{\"gridcolor\":\"white\",\"linecolor\":\"white\",\"ticks\":\"\"},\"baxis\":{\"gridcolor\":\"white\",\"linecolor\":\"white\",\"ticks\":\"\"},\"caxis\":{\"gridcolor\":\"white\",\"linecolor\":\"white\",\"ticks\":\"\"}},\"coloraxis\":{\"colorbar\":{\"outlinewidth\":0,\"ticks\":\"\"}},\"colorscale\":{\"sequential\":[[0.0,\"#0d0887\"],[0.1111111111111111,\"#46039f\"],[0.2222222222222222,\"#7201a8\"],[0.3333333333333333,\"#9c179e\"],[0.4444444444444444,\"#bd3786\"],[0.5555555555555556,\"#d8576b\"],[0.6666666666666666,\"#ed7953\"],[0.7777777777777778,\"#fb9f3a\"],[0.8888888888888888,\"#fdca26\"],[1.0,\"#f0f921\"]],\"sequentialminus\":[[0.0,\"#0d0887\"],[0.1111111111111111,\"#46039f\"],[0.2222222222222222,\"#7201a8\"],[0.3333333333333333,\"#9c179e\"],[0.4444444444444444,\"#bd3786\"],[0.5555555555555556,\"#d8576b\"],[0.6666666666666666,\"#ed7953\"],[0.7777777777777778,\"#fb9f3a\"],[0.8888888888888888,\"#fdca26\"],[1.0,\"#f0f921\"]],\"diverging\":[[0,\"#8e0152\"],[0.1,\"#c51b7d\"],[0.2,\"#de77ae\"],[0.3,\"#f1b6da\"],[0.4,\"#fde0ef\"],[0.5,\"#f7f7f7\"],[0.6,\"#e6f5d0\"],[0.7,\"#b8e186\"],[0.8,\"#7fbc41\"],[0.9,\"#4d9221\"],[1,\"#276419\"]]},\"xaxis\":{\"gridcolor\":\"white\",\"linecolor\":\"white\",\"ticks\":\"\",\"title\":{\"standoff\":15},\"zerolinecolor\":\"white\",\"automargin\":true,\"zerolinewidth\":2},\"yaxis\":{\"gridcolor\":\"white\",\"linecolor\":\"white\",\"ticks\":\"\",\"title\":{\"standoff\":15},\"zerolinecolor\":\"white\",\"automargin\":true,\"zerolinewidth\":2},\"scene\":{\"xaxis\":{\"backgroundcolor\":\"#E5ECF6\",\"gridcolor\":\"white\",\"linecolor\":\"white\",\"showbackground\":true,\"ticks\":\"\",\"zerolinecolor\":\"white\",\"gridwidth\":2},\"yaxis\":{\"backgroundcolor\":\"#E5ECF6\",\"gridcolor\":\"white\",\"linecolor\":\"white\",\"showbackground\":true,\"ticks\":\"\",\"zerolinecolor\":\"white\",\"gridwidth\":2},\"zaxis\":{\"backgroundcolor\":\"#E5ECF6\",\"gridcolor\":\"white\",\"linecolor\":\"white\",\"showbackground\":true,\"ticks\":\"\",\"zerolinecolor\":\"white\",\"gridwidth\":2}},\"shapedefaults\":{\"line\":{\"color\":\"#2a3f5f\"}},\"annotationdefaults\":{\"arrowcolor\":\"#2a3f5f\",\"arrowhead\":0,\"arrowwidth\":1},\"geo\":{\"bgcolor\":\"white\",\"landcolor\":\"#E5ECF6\",\"subunitcolor\":\"white\",\"showland\":true,\"showlakes\":true,\"lakecolor\":\"white\"},\"title\":{\"x\":0.05},\"mapbox\":{\"style\":\"light\"}}},\"margin\":{\"l\":50,\"r\":50,\"b\":100,\"t\":100,\"pad\":4},\"title\":{\"text\":\"pred + tomorrow candlestick graph\"},\"xaxis\":{\"title\":{\"text\":\"Time\"}},\"yaxis\":{\"title\":{\"text\":\"Value\"}},\"autosize\":false,\"width\":600,\"height\":600,\"paper_bgcolor\":\"LightSteelBlue\",\"showlegend\":false},                        {\"responsive\": true}                    ).then(function(){\n",
              "                            \n",
              "var gd = document.getElementById('2c1e496a-fbac-43ed-ae4b-7919b4b05329');\n",
              "var x = new MutationObserver(function (mutations, observer) {{\n",
              "        var display = window.getComputedStyle(gd).display;\n",
              "        if (!display || display === 'none') {{\n",
              "            console.log([gd, 'removed!']);\n",
              "            Plotly.purge(gd);\n",
              "            observer.disconnect();\n",
              "        }}\n",
              "}});\n",
              "\n",
              "// Listen for the removal of the full notebook cells\n",
              "var notebookContainer = gd.closest('#notebook-container');\n",
              "if (notebookContainer) {{\n",
              "    x.observe(notebookContainer, {childList: true});\n",
              "}}\n",
              "\n",
              "// Listen for the clearing of the current output cell\n",
              "var outputEl = gd.closest('.output');\n",
              "if (outputEl) {{\n",
              "    x.observe(outputEl, {childList: true});\n",
              "}}\n",
              "\n",
              "                        })                };                            </script>        </div>\n",
              "</body>\n",
              "</html>"
            ]
          },
          "metadata": {}
        }
      ]
    },
    {
      "cell_type": "code",
      "source": [
        "plot_candlesticks(df_test, figure_title='test candlestick graph', showlegend=False)"
      ],
      "metadata": {
        "colab": {
          "base_uri": "https://localhost:8080/",
          "height": 617
        },
        "id": "_MeXSN9CHS6z",
        "outputId": "7eb2321c-e99e-407d-e298-81d41953dd39"
      },
      "execution_count": 153,
      "outputs": [
        {
          "output_type": "display_data",
          "data": {
            "text/html": [
              "<html>\n",
              "<head><meta charset=\"utf-8\" /></head>\n",
              "<body>\n",
              "    <div>            <script src=\"https://cdnjs.cloudflare.com/ajax/libs/mathjax/2.7.5/MathJax.js?config=TeX-AMS-MML_SVG\"></script><script type=\"text/javascript\">if (window.MathJax && window.MathJax.Hub && window.MathJax.Hub.Config) {window.MathJax.Hub.Config({SVG: {font: \"STIX-Web\"}});}</script>                <script type=\"text/javascript\">window.PlotlyConfig = {MathJaxConfig: 'local'};</script>\n",
              "        <script src=\"https://cdn.plot.ly/plotly-2.18.2.min.js\"></script>                <div id=\"865bf514-4e60-4d48-84d7-633975602eee\" class=\"plotly-graph-div\" style=\"height:600px; width:600px;\"></div>            <script type=\"text/javascript\">                                    window.PLOTLYENV=window.PLOTLYENV || {};                                    if (document.getElementById(\"865bf514-4e60-4d48-84d7-633975602eee\")) {                    Plotly.newPlot(                        \"865bf514-4e60-4d48-84d7-633975602eee\",                        [{\"close\":[4500.0,4410.0,4500.0,4480.0,4430.0,4430.0,4380.0,4460.0,4440.0,4470.0,4440.0,4460.0,4460.0,4440.0,4460.0,4430.0,4350.0,4420.0,4310.0,4340.0,4300.0,4290.0,4330.0,4250.0,4200.0,4350.0,4360.0,4410.0,4390.0,4370.0,4370.0,4450.0,4390.0,4420.0,4220.0,4130.0,4210.0,4280.0,4220.0,4190.0,4170.0,4150.0,4050.0,4050.0,4050.0,4040.0,4010.0,4030.0,4000.0,3970.0,4030.0,4030.0,3980.0,3980.0,4040.0,3960.0,4000.0,3840.0,3600.0,3680.0,3740.0,3650.0,3700.0,3750.0,3750.0,3670.0,3680.0,3720.0,3720.0,3790.0,3750.0,3780.0,3750.0,3810.0,3730.0,3780.0,3750.0,3800.0,3860.0,3820.0,3770.0,3710.0,3790.0,3830.0,3870.0,3860.0,3780.0,3850.0,3950.0,3930.0,3890.0,3870.0,3850.0,3840.0,3970.0,3960.0,3960.0,3850.0,3870.0,3890.0,3880.0,3880.0,3800.0,3840.0,3770.0,3800.0,3790.0,3800.0,3790.0,3770.0,3760.0,3820.0,3840.0,3860.0,3970.0,4040.0,3960.0,3880.0,3930.0,3880.0,3900.0,3880.0,3880.0,3940.0,3970.0,4010.0,4070.0,4020.0,4010.0,4050.0,4050.0,3990.0,4120.0,4070.0,4050.0,4050.0,4100.0,4090.0,4060.0,4080.0,4060.0,4150.0,4250.0,4300.0,4300.0,4310.0,4340.0],\"high\":[4600.0,4500.0,4560.0,4540.0,4470.0,4450.0,4430.0,4510.0,4470.0,4530.0,4500.0,4500.0,4470.0,4510.0,4540.0,4480.0,4430.0,4420.0,4380.0,4350.0,4350.0,4360.0,4330.0,4340.0,4300.0,4350.0,4390.0,4450.0,4470.0,4430.0,4410.0,4450.0,4460.0,4420.0,4420.0,4170.0,4210.0,4280.0,4280.0,4230.0,4210.0,4180.0,4120.0,4080.0,4070.0,4070.0,4080.0,4060.0,4040.0,4030.0,4040.0,4040.0,4040.0,4020.0,4050.0,4040.0,4020.0,3990.0,3720.0,3700.0,3780.0,3720.0,3710.0,3790.0,3820.0,3720.0,3740.0,3790.0,3750.0,3790.0,3810.0,3780.0,3800.0,3840.0,3810.0,3790.0,3800.0,3800.0,3890.0,3860.0,3820.0,3770.0,3790.0,3850.0,3900.0,3900.0,3860.0,3850.0,3990.0,4010.0,3980.0,3920.0,3910.0,3880.0,4000.0,3990.0,3970.0,3950.0,3900.0,3900.0,3920.0,3910.0,3880.0,3850.0,3840.0,3800.0,3810.0,3830.0,3820.0,3800.0,3770.0,3820.0,3870.0,3870.0,3970.0,4040.0,4000.0,3970.0,3990.0,3930.0,3920.0,3950.0,3910.0,3940.0,4000.0,4020.0,4090.0,4090.0,4050.0,4060.0,4100.0,4050.0,4120.0,4120.0,4120.0,4100.0,4120.0,4130.0,4120.0,4100.0,4100.0,4170.0,4270.0,4300.0,4300.0,4350.0,4350.0],\"low\":[4500.0,4410.0,4440.0,4480.0,4410.0,4380.0,4380.0,4300.0,4380.0,4400.0,4420.0,4390.0,4380.0,4430.0,4460.0,4420.0,4350.0,4330.0,4310.0,4280.0,4290.0,4290.0,4200.0,4250.0,4200.0,4200.0,4300.0,4380.0,4390.0,4330.0,4340.0,4380.0,4360.0,4360.0,4220.0,4050.0,4070.0,4160.0,4200.0,4180.0,4110.0,4140.0,4030.0,4030.0,3960.0,4020.0,4010.0,4010.0,4000.0,3970.0,3980.0,3980.0,3980.0,3980.0,3970.0,3960.0,3930.0,3820.0,3580.0,3570.0,3620.0,3630.0,3640.0,3680.0,3740.0,3670.0,3610.0,3680.0,3700.0,3670.0,3740.0,3700.0,3730.0,3750.0,3710.0,3710.0,3750.0,3750.0,3770.0,3810.0,3720.0,3710.0,3730.0,3750.0,3790.0,3780.0,3770.0,3780.0,3860.0,3900.0,3880.0,3850.0,3850.0,3810.0,3850.0,3950.0,3910.0,3850.0,3840.0,3840.0,3870.0,3850.0,3800.0,3790.0,3760.0,3690.0,3750.0,3760.0,3730.0,3750.0,3720.0,3760.0,3830.0,3800.0,3890.0,3950.0,3920.0,3880.0,3910.0,3880.0,3870.0,3870.0,3850.0,3850.0,3960.0,3930.0,3980.0,4000.0,3990.0,3980.0,4030.0,3940.0,4000.0,4060.0,4030.0,4030.0,4070.0,4040.0,4040.0,4070.0,4040.0,4080.0,4170.0,4190.0,4250.0,4260.0,4290.0],\"open\":[4540.0,4500.0,4460.0,4530.0,4450.0,4400.0,4400.0,4390.0,4450.0,4430.0,4460.0,4400.0,4460.0,4460.0,4490.0,4460.0,4400.0,4340.0,4360.0,4300.0,4330.0,4360.0,4200.0,4310.0,4220.0,4200.0,4300.0,4380.0,4430.0,4420.0,4390.0,4420.0,4460.0,4420.0,4400.0,4140.0,4070.0,4250.0,4270.0,4200.0,4110.0,4160.0,4090.0,4050.0,4000.0,4020.0,4070.0,4020.0,4020.0,3990.0,3980.0,4010.0,4030.0,3980.0,3970.0,4020.0,3950.0,3980.0,3640.0,3600.0,3700.0,3680.0,3670.0,3690.0,3820.0,3680.0,3610.0,3740.0,3730.0,3690.0,3800.0,3710.0,3780.0,3770.0,3800.0,3720.0,3760.0,3750.0,3790.0,3840.0,3800.0,3750.0,3730.0,3810.0,3820.0,3790.0,3820.0,3780.0,3870.0,4010.0,3900.0,3910.0,3890.0,3850.0,3850.0,3970.0,3960.0,3940.0,3850.0,3850.0,3910.0,3860.0,3880.0,3800.0,3840.0,3750.0,3800.0,3830.0,3810.0,3800.0,3770.0,3760.0,3850.0,3850.0,3950.0,4000.0,3990.0,3930.0,3930.0,3900.0,3880.0,3940.0,3890.0,3850.0,3970.0,3960.0,4020.0,4030.0,4050.0,4040.0,4090.0,4050.0,4000.0,4100.0,4100.0,4100.0,4090.0,4050.0,4110.0,4100.0,4080.0,4100.0,4200.0,4250.0,4290.0,4320.0,4340.0],\"x\":[\"2022-09-15T00:00:00\",\"2022-09-16T00:00:00\",\"2022-09-19T00:00:00\",\"2022-09-20T00:00:00\",\"2022-09-21T00:00:00\",\"2022-09-22T00:00:00\",\"2022-09-23T00:00:00\",\"2022-09-26T00:00:00\",\"2022-09-27T00:00:00\",\"2022-09-28T00:00:00\",\"2022-09-29T00:00:00\",\"2022-09-30T00:00:00\",\"2022-10-03T00:00:00\",\"2022-10-04T00:00:00\",\"2022-10-05T00:00:00\",\"2022-10-06T00:00:00\",\"2022-10-07T00:00:00\",\"2022-10-10T00:00:00\",\"2022-10-11T00:00:00\",\"2022-10-12T00:00:00\",\"2022-10-13T00:00:00\",\"2022-10-14T00:00:00\",\"2022-10-17T00:00:00\",\"2022-10-18T00:00:00\",\"2022-10-19T00:00:00\",\"2022-10-20T00:00:00\",\"2022-10-21T00:00:00\",\"2022-10-24T00:00:00\",\"2022-10-25T00:00:00\",\"2022-10-26T00:00:00\",\"2022-10-27T00:00:00\",\"2022-10-28T00:00:00\",\"2022-10-31T00:00:00\",\"2022-11-01T00:00:00\",\"2022-11-02T00:00:00\",\"2022-11-03T00:00:00\",\"2022-11-04T00:00:00\",\"2022-11-07T00:00:00\",\"2022-11-08T00:00:00\",\"2022-11-09T00:00:00\",\"2022-11-10T00:00:00\",\"2022-11-11T00:00:00\",\"2022-11-14T00:00:00\",\"2022-11-15T00:00:00\",\"2022-11-16T00:00:00\",\"2022-11-17T00:00:00\",\"2022-11-18T00:00:00\",\"2022-11-21T00:00:00\",\"2022-11-22T00:00:00\",\"2022-11-23T00:00:00\",\"2022-11-24T00:00:00\",\"2022-11-25T00:00:00\",\"2022-11-28T00:00:00\",\"2022-11-29T00:00:00\",\"2022-11-30T00:00:00\",\"2022-12-01T00:00:00\",\"2022-12-02T00:00:00\",\"2022-12-05T00:00:00\",\"2022-12-06T00:00:00\",\"2022-12-07T00:00:00\",\"2022-12-08T00:00:00\",\"2022-12-09T00:00:00\",\"2022-12-12T00:00:00\",\"2022-12-13T00:00:00\",\"2022-12-14T00:00:00\",\"2022-12-15T00:00:00\",\"2022-12-16T00:00:00\",\"2022-12-19T00:00:00\",\"2022-12-20T00:00:00\",\"2022-12-21T00:00:00\",\"2022-12-22T00:00:00\",\"2022-12-23T00:00:00\",\"2022-12-26T00:00:00\",\"2022-12-27T00:00:00\",\"2022-12-28T00:00:00\",\"2022-12-29T00:00:00\",\"2022-12-30T00:00:00\",\"2023-01-02T00:00:00\",\"2023-01-03T00:00:00\",\"2023-01-04T00:00:00\",\"2023-01-05T00:00:00\",\"2023-01-06T00:00:00\",\"2023-01-09T00:00:00\",\"2023-01-10T00:00:00\",\"2023-01-11T00:00:00\",\"2023-01-12T00:00:00\",\"2023-01-13T00:00:00\",\"2023-01-16T00:00:00\",\"2023-01-17T00:00:00\",\"2023-01-18T00:00:00\",\"2023-01-19T00:00:00\",\"2023-01-20T00:00:00\",\"2023-01-24T00:00:00\",\"2023-01-25T00:00:00\",\"2023-01-26T00:00:00\",\"2023-01-27T00:00:00\",\"2023-01-30T00:00:00\",\"2023-01-31T00:00:00\",\"2023-02-01T00:00:00\",\"2023-02-02T00:00:00\",\"2023-02-03T00:00:00\",\"2023-02-06T00:00:00\",\"2023-02-07T00:00:00\",\"2023-02-08T00:00:00\",\"2023-02-09T00:00:00\",\"2023-02-10T00:00:00\",\"2023-02-13T00:00:00\",\"2023-02-14T00:00:00\",\"2023-02-15T00:00:00\",\"2023-02-16T00:00:00\",\"2023-02-17T00:00:00\",\"2023-02-20T00:00:00\",\"2023-02-21T00:00:00\",\"2023-02-22T00:00:00\",\"2023-02-23T00:00:00\",\"2023-02-24T00:00:00\",\"2023-02-27T00:00:00\",\"2023-02-28T00:00:00\",\"2023-03-01T00:00:00\",\"2023-03-02T00:00:00\",\"2023-03-03T00:00:00\",\"2023-03-06T00:00:00\",\"2023-03-07T00:00:00\",\"2023-03-08T00:00:00\",\"2023-03-09T00:00:00\",\"2023-03-10T00:00:00\",\"2023-03-13T00:00:00\",\"2023-03-14T00:00:00\",\"2023-03-15T00:00:00\",\"2023-03-16T00:00:00\",\"2023-03-17T00:00:00\",\"2023-03-20T00:00:00\",\"2023-03-21T00:00:00\",\"2023-03-24T00:00:00\",\"2023-03-27T00:00:00\",\"2023-03-28T00:00:00\",\"2023-03-29T00:00:00\",\"2023-03-30T00:00:00\",\"2023-03-31T00:00:00\",\"2023-04-03T00:00:00\",\"2023-04-04T00:00:00\",\"2023-04-05T00:00:00\",\"2023-04-06T00:00:00\",\"2023-04-10T00:00:00\",\"2023-04-11T00:00:00\",\"2023-04-12T00:00:00\",\"2023-04-13T00:00:00\"],\"type\":\"candlestick\"}],                        {\"template\":{\"data\":{\"histogram2dcontour\":[{\"type\":\"histogram2dcontour\",\"colorbar\":{\"outlinewidth\":0,\"ticks\":\"\"},\"colorscale\":[[0.0,\"#0d0887\"],[0.1111111111111111,\"#46039f\"],[0.2222222222222222,\"#7201a8\"],[0.3333333333333333,\"#9c179e\"],[0.4444444444444444,\"#bd3786\"],[0.5555555555555556,\"#d8576b\"],[0.6666666666666666,\"#ed7953\"],[0.7777777777777778,\"#fb9f3a\"],[0.8888888888888888,\"#fdca26\"],[1.0,\"#f0f921\"]]}],\"choropleth\":[{\"type\":\"choropleth\",\"colorbar\":{\"outlinewidth\":0,\"ticks\":\"\"}}],\"histogram2d\":[{\"type\":\"histogram2d\",\"colorbar\":{\"outlinewidth\":0,\"ticks\":\"\"},\"colorscale\":[[0.0,\"#0d0887\"],[0.1111111111111111,\"#46039f\"],[0.2222222222222222,\"#7201a8\"],[0.3333333333333333,\"#9c179e\"],[0.4444444444444444,\"#bd3786\"],[0.5555555555555556,\"#d8576b\"],[0.6666666666666666,\"#ed7953\"],[0.7777777777777778,\"#fb9f3a\"],[0.8888888888888888,\"#fdca26\"],[1.0,\"#f0f921\"]]}],\"heatmap\":[{\"type\":\"heatmap\",\"colorbar\":{\"outlinewidth\":0,\"ticks\":\"\"},\"colorscale\":[[0.0,\"#0d0887\"],[0.1111111111111111,\"#46039f\"],[0.2222222222222222,\"#7201a8\"],[0.3333333333333333,\"#9c179e\"],[0.4444444444444444,\"#bd3786\"],[0.5555555555555556,\"#d8576b\"],[0.6666666666666666,\"#ed7953\"],[0.7777777777777778,\"#fb9f3a\"],[0.8888888888888888,\"#fdca26\"],[1.0,\"#f0f921\"]]}],\"heatmapgl\":[{\"type\":\"heatmapgl\",\"colorbar\":{\"outlinewidth\":0,\"ticks\":\"\"},\"colorscale\":[[0.0,\"#0d0887\"],[0.1111111111111111,\"#46039f\"],[0.2222222222222222,\"#7201a8\"],[0.3333333333333333,\"#9c179e\"],[0.4444444444444444,\"#bd3786\"],[0.5555555555555556,\"#d8576b\"],[0.6666666666666666,\"#ed7953\"],[0.7777777777777778,\"#fb9f3a\"],[0.8888888888888888,\"#fdca26\"],[1.0,\"#f0f921\"]]}],\"contourcarpet\":[{\"type\":\"contourcarpet\",\"colorbar\":{\"outlinewidth\":0,\"ticks\":\"\"}}],\"contour\":[{\"type\":\"contour\",\"colorbar\":{\"outlinewidth\":0,\"ticks\":\"\"},\"colorscale\":[[0.0,\"#0d0887\"],[0.1111111111111111,\"#46039f\"],[0.2222222222222222,\"#7201a8\"],[0.3333333333333333,\"#9c179e\"],[0.4444444444444444,\"#bd3786\"],[0.5555555555555556,\"#d8576b\"],[0.6666666666666666,\"#ed7953\"],[0.7777777777777778,\"#fb9f3a\"],[0.8888888888888888,\"#fdca26\"],[1.0,\"#f0f921\"]]}],\"surface\":[{\"type\":\"surface\",\"colorbar\":{\"outlinewidth\":0,\"ticks\":\"\"},\"colorscale\":[[0.0,\"#0d0887\"],[0.1111111111111111,\"#46039f\"],[0.2222222222222222,\"#7201a8\"],[0.3333333333333333,\"#9c179e\"],[0.4444444444444444,\"#bd3786\"],[0.5555555555555556,\"#d8576b\"],[0.6666666666666666,\"#ed7953\"],[0.7777777777777778,\"#fb9f3a\"],[0.8888888888888888,\"#fdca26\"],[1.0,\"#f0f921\"]]}],\"mesh3d\":[{\"type\":\"mesh3d\",\"colorbar\":{\"outlinewidth\":0,\"ticks\":\"\"}}],\"scatter\":[{\"fillpattern\":{\"fillmode\":\"overlay\",\"size\":10,\"solidity\":0.2},\"type\":\"scatter\"}],\"parcoords\":[{\"type\":\"parcoords\",\"line\":{\"colorbar\":{\"outlinewidth\":0,\"ticks\":\"\"}}}],\"scatterpolargl\":[{\"type\":\"scatterpolargl\",\"marker\":{\"colorbar\":{\"outlinewidth\":0,\"ticks\":\"\"}}}],\"bar\":[{\"error_x\":{\"color\":\"#2a3f5f\"},\"error_y\":{\"color\":\"#2a3f5f\"},\"marker\":{\"line\":{\"color\":\"#E5ECF6\",\"width\":0.5},\"pattern\":{\"fillmode\":\"overlay\",\"size\":10,\"solidity\":0.2}},\"type\":\"bar\"}],\"scattergeo\":[{\"type\":\"scattergeo\",\"marker\":{\"colorbar\":{\"outlinewidth\":0,\"ticks\":\"\"}}}],\"scatterpolar\":[{\"type\":\"scatterpolar\",\"marker\":{\"colorbar\":{\"outlinewidth\":0,\"ticks\":\"\"}}}],\"histogram\":[{\"marker\":{\"pattern\":{\"fillmode\":\"overlay\",\"size\":10,\"solidity\":0.2}},\"type\":\"histogram\"}],\"scattergl\":[{\"type\":\"scattergl\",\"marker\":{\"colorbar\":{\"outlinewidth\":0,\"ticks\":\"\"}}}],\"scatter3d\":[{\"type\":\"scatter3d\",\"line\":{\"colorbar\":{\"outlinewidth\":0,\"ticks\":\"\"}},\"marker\":{\"colorbar\":{\"outlinewidth\":0,\"ticks\":\"\"}}}],\"scattermapbox\":[{\"type\":\"scattermapbox\",\"marker\":{\"colorbar\":{\"outlinewidth\":0,\"ticks\":\"\"}}}],\"scatterternary\":[{\"type\":\"scatterternary\",\"marker\":{\"colorbar\":{\"outlinewidth\":0,\"ticks\":\"\"}}}],\"scattercarpet\":[{\"type\":\"scattercarpet\",\"marker\":{\"colorbar\":{\"outlinewidth\":0,\"ticks\":\"\"}}}],\"carpet\":[{\"aaxis\":{\"endlinecolor\":\"#2a3f5f\",\"gridcolor\":\"white\",\"linecolor\":\"white\",\"minorgridcolor\":\"white\",\"startlinecolor\":\"#2a3f5f\"},\"baxis\":{\"endlinecolor\":\"#2a3f5f\",\"gridcolor\":\"white\",\"linecolor\":\"white\",\"minorgridcolor\":\"white\",\"startlinecolor\":\"#2a3f5f\"},\"type\":\"carpet\"}],\"table\":[{\"cells\":{\"fill\":{\"color\":\"#EBF0F8\"},\"line\":{\"color\":\"white\"}},\"header\":{\"fill\":{\"color\":\"#C8D4E3\"},\"line\":{\"color\":\"white\"}},\"type\":\"table\"}],\"barpolar\":[{\"marker\":{\"line\":{\"color\":\"#E5ECF6\",\"width\":0.5},\"pattern\":{\"fillmode\":\"overlay\",\"size\":10,\"solidity\":0.2}},\"type\":\"barpolar\"}],\"pie\":[{\"automargin\":true,\"type\":\"pie\"}]},\"layout\":{\"autotypenumbers\":\"strict\",\"colorway\":[\"#636efa\",\"#EF553B\",\"#00cc96\",\"#ab63fa\",\"#FFA15A\",\"#19d3f3\",\"#FF6692\",\"#B6E880\",\"#FF97FF\",\"#FECB52\"],\"font\":{\"color\":\"#2a3f5f\"},\"hovermode\":\"closest\",\"hoverlabel\":{\"align\":\"left\"},\"paper_bgcolor\":\"white\",\"plot_bgcolor\":\"#E5ECF6\",\"polar\":{\"bgcolor\":\"#E5ECF6\",\"angularaxis\":{\"gridcolor\":\"white\",\"linecolor\":\"white\",\"ticks\":\"\"},\"radialaxis\":{\"gridcolor\":\"white\",\"linecolor\":\"white\",\"ticks\":\"\"}},\"ternary\":{\"bgcolor\":\"#E5ECF6\",\"aaxis\":{\"gridcolor\":\"white\",\"linecolor\":\"white\",\"ticks\":\"\"},\"baxis\":{\"gridcolor\":\"white\",\"linecolor\":\"white\",\"ticks\":\"\"},\"caxis\":{\"gridcolor\":\"white\",\"linecolor\":\"white\",\"ticks\":\"\"}},\"coloraxis\":{\"colorbar\":{\"outlinewidth\":0,\"ticks\":\"\"}},\"colorscale\":{\"sequential\":[[0.0,\"#0d0887\"],[0.1111111111111111,\"#46039f\"],[0.2222222222222222,\"#7201a8\"],[0.3333333333333333,\"#9c179e\"],[0.4444444444444444,\"#bd3786\"],[0.5555555555555556,\"#d8576b\"],[0.6666666666666666,\"#ed7953\"],[0.7777777777777778,\"#fb9f3a\"],[0.8888888888888888,\"#fdca26\"],[1.0,\"#f0f921\"]],\"sequentialminus\":[[0.0,\"#0d0887\"],[0.1111111111111111,\"#46039f\"],[0.2222222222222222,\"#7201a8\"],[0.3333333333333333,\"#9c179e\"],[0.4444444444444444,\"#bd3786\"],[0.5555555555555556,\"#d8576b\"],[0.6666666666666666,\"#ed7953\"],[0.7777777777777778,\"#fb9f3a\"],[0.8888888888888888,\"#fdca26\"],[1.0,\"#f0f921\"]],\"diverging\":[[0,\"#8e0152\"],[0.1,\"#c51b7d\"],[0.2,\"#de77ae\"],[0.3,\"#f1b6da\"],[0.4,\"#fde0ef\"],[0.5,\"#f7f7f7\"],[0.6,\"#e6f5d0\"],[0.7,\"#b8e186\"],[0.8,\"#7fbc41\"],[0.9,\"#4d9221\"],[1,\"#276419\"]]},\"xaxis\":{\"gridcolor\":\"white\",\"linecolor\":\"white\",\"ticks\":\"\",\"title\":{\"standoff\":15},\"zerolinecolor\":\"white\",\"automargin\":true,\"zerolinewidth\":2},\"yaxis\":{\"gridcolor\":\"white\",\"linecolor\":\"white\",\"ticks\":\"\",\"title\":{\"standoff\":15},\"zerolinecolor\":\"white\",\"automargin\":true,\"zerolinewidth\":2},\"scene\":{\"xaxis\":{\"backgroundcolor\":\"#E5ECF6\",\"gridcolor\":\"white\",\"linecolor\":\"white\",\"showbackground\":true,\"ticks\":\"\",\"zerolinecolor\":\"white\",\"gridwidth\":2},\"yaxis\":{\"backgroundcolor\":\"#E5ECF6\",\"gridcolor\":\"white\",\"linecolor\":\"white\",\"showbackground\":true,\"ticks\":\"\",\"zerolinecolor\":\"white\",\"gridwidth\":2},\"zaxis\":{\"backgroundcolor\":\"#E5ECF6\",\"gridcolor\":\"white\",\"linecolor\":\"white\",\"showbackground\":true,\"ticks\":\"\",\"zerolinecolor\":\"white\",\"gridwidth\":2}},\"shapedefaults\":{\"line\":{\"color\":\"#2a3f5f\"}},\"annotationdefaults\":{\"arrowcolor\":\"#2a3f5f\",\"arrowhead\":0,\"arrowwidth\":1},\"geo\":{\"bgcolor\":\"white\",\"landcolor\":\"#E5ECF6\",\"subunitcolor\":\"white\",\"showland\":true,\"showlakes\":true,\"lakecolor\":\"white\"},\"title\":{\"x\":0.05},\"mapbox\":{\"style\":\"light\"}}},\"margin\":{\"l\":50,\"r\":50,\"b\":100,\"t\":100,\"pad\":4},\"title\":{\"text\":\"test candlestick graph\"},\"xaxis\":{\"title\":{\"text\":\"Time\"}},\"yaxis\":{\"title\":{\"text\":\"Value\"}},\"autosize\":false,\"width\":600,\"height\":600,\"paper_bgcolor\":\"LightSteelBlue\",\"showlegend\":false},                        {\"responsive\": true}                    ).then(function(){\n",
              "                            \n",
              "var gd = document.getElementById('865bf514-4e60-4d48-84d7-633975602eee');\n",
              "var x = new MutationObserver(function (mutations, observer) {{\n",
              "        var display = window.getComputedStyle(gd).display;\n",
              "        if (!display || display === 'none') {{\n",
              "            console.log([gd, 'removed!']);\n",
              "            Plotly.purge(gd);\n",
              "            observer.disconnect();\n",
              "        }}\n",
              "}});\n",
              "\n",
              "// Listen for the removal of the full notebook cells\n",
              "var notebookContainer = gd.closest('#notebook-container');\n",
              "if (notebookContainer) {{\n",
              "    x.observe(notebookContainer, {childList: true});\n",
              "}}\n",
              "\n",
              "// Listen for the clearing of the current output cell\n",
              "var outputEl = gd.closest('.output');\n",
              "if (outputEl) {{\n",
              "    x.observe(outputEl, {childList: true});\n",
              "}}\n",
              "\n",
              "                        })                };                            </script>        </div>\n",
              "</body>\n",
              "</html>"
            ]
          },
          "metadata": {}
        }
      ]
    },
    {
      "cell_type": "code",
      "source": [
        "plot_candlesticks_compare(df_test, df_pred, figure_title='pred + tomorrow candlestick graph', showlegend=True)"
      ],
      "metadata": {
        "colab": {
          "base_uri": "https://localhost:8080/",
          "height": 617
        },
        "id": "PX3NNZUENzRq",
        "outputId": "af53ebb6-4f72-446b-a15b-f1f3d078c755"
      },
      "execution_count": 204,
      "outputs": [
        {
          "output_type": "display_data",
          "data": {
            "text/html": [
              "<html>\n",
              "<head><meta charset=\"utf-8\" /></head>\n",
              "<body>\n",
              "    <div>            <script src=\"https://cdnjs.cloudflare.com/ajax/libs/mathjax/2.7.5/MathJax.js?config=TeX-AMS-MML_SVG\"></script><script type=\"text/javascript\">if (window.MathJax && window.MathJax.Hub && window.MathJax.Hub.Config) {window.MathJax.Hub.Config({SVG: {font: \"STIX-Web\"}});}</script>                <script type=\"text/javascript\">window.PlotlyConfig = {MathJaxConfig: 'local'};</script>\n",
              "        <script src=\"https://cdn.plot.ly/plotly-2.18.2.min.js\"></script>                <div id=\"ff7d901f-47f0-4c1e-b9f7-0089b8d0aa97\" class=\"plotly-graph-div\" style=\"height:600px; width:600px;\"></div>            <script type=\"text/javascript\">                                    window.PLOTLYENV=window.PLOTLYENV || {};                                    if (document.getElementById(\"ff7d901f-47f0-4c1e-b9f7-0089b8d0aa97\")) {                    Plotly.newPlot(                        \"ff7d901f-47f0-4c1e-b9f7-0089b8d0aa97\",                        [{\"close\":[4500.0,4410.0,4500.0,4480.0,4430.0,4430.0,4380.0,4460.0,4440.0,4470.0,4440.0,4460.0,4460.0,4440.0,4460.0,4430.0,4350.0,4420.0,4310.0,4340.0,4300.0,4290.0,4330.0,4250.0,4200.0,4350.0,4360.0,4410.0,4390.0,4370.0,4370.0,4450.0,4390.0,4420.0,4220.0,4130.0,4210.0,4280.0,4220.0,4190.0,4170.0,4150.0,4050.0,4050.0,4050.0,4040.0,4010.0,4030.0,4000.0,3970.0,4030.0,4030.0,3980.0,3980.0,4040.0,3960.0,4000.0,3840.0,3600.0,3680.0,3740.0,3650.0,3700.0,3750.0,3750.0,3670.0,3680.0,3720.0,3720.0,3790.0,3750.0,3780.0,3750.0,3810.0,3730.0,3780.0,3750.0,3800.0,3860.0,3820.0,3770.0,3710.0,3790.0,3830.0,3870.0,3860.0,3780.0,3850.0,3950.0,3930.0,3890.0,3870.0,3850.0,3840.0,3970.0,3960.0,3960.0,3850.0,3870.0,3890.0,3880.0,3880.0,3800.0,3840.0,3770.0,3800.0,3790.0,3800.0,3790.0,3770.0,3760.0,3820.0,3840.0,3860.0,3970.0,4040.0,3960.0,3880.0,3930.0,3880.0,3900.0,3880.0,3880.0,3940.0,3970.0,4010.0,4070.0,4020.0,4010.0,4050.0,4050.0,3990.0,4120.0,4070.0,4050.0,4050.0,4100.0,4090.0,4060.0,4080.0,4060.0,4150.0,4250.0,4300.0,4300.0,4310.0,4340.0],\"high\":[4600.0,4500.0,4560.0,4540.0,4470.0,4450.0,4430.0,4510.0,4470.0,4530.0,4500.0,4500.0,4470.0,4510.0,4540.0,4480.0,4430.0,4420.0,4380.0,4350.0,4350.0,4360.0,4330.0,4340.0,4300.0,4350.0,4390.0,4450.0,4470.0,4430.0,4410.0,4450.0,4460.0,4420.0,4420.0,4170.0,4210.0,4280.0,4280.0,4230.0,4210.0,4180.0,4120.0,4080.0,4070.0,4070.0,4080.0,4060.0,4040.0,4030.0,4040.0,4040.0,4040.0,4020.0,4050.0,4040.0,4020.0,3990.0,3720.0,3700.0,3780.0,3720.0,3710.0,3790.0,3820.0,3720.0,3740.0,3790.0,3750.0,3790.0,3810.0,3780.0,3800.0,3840.0,3810.0,3790.0,3800.0,3800.0,3890.0,3860.0,3820.0,3770.0,3790.0,3850.0,3900.0,3900.0,3860.0,3850.0,3990.0,4010.0,3980.0,3920.0,3910.0,3880.0,4000.0,3990.0,3970.0,3950.0,3900.0,3900.0,3920.0,3910.0,3880.0,3850.0,3840.0,3800.0,3810.0,3830.0,3820.0,3800.0,3770.0,3820.0,3870.0,3870.0,3970.0,4040.0,4000.0,3970.0,3990.0,3930.0,3920.0,3950.0,3910.0,3940.0,4000.0,4020.0,4090.0,4090.0,4050.0,4060.0,4100.0,4050.0,4120.0,4120.0,4120.0,4100.0,4120.0,4130.0,4120.0,4100.0,4100.0,4170.0,4270.0,4300.0,4300.0,4350.0,4350.0],\"low\":[4500.0,4410.0,4440.0,4480.0,4410.0,4380.0,4380.0,4300.0,4380.0,4400.0,4420.0,4390.0,4380.0,4430.0,4460.0,4420.0,4350.0,4330.0,4310.0,4280.0,4290.0,4290.0,4200.0,4250.0,4200.0,4200.0,4300.0,4380.0,4390.0,4330.0,4340.0,4380.0,4360.0,4360.0,4220.0,4050.0,4070.0,4160.0,4200.0,4180.0,4110.0,4140.0,4030.0,4030.0,3960.0,4020.0,4010.0,4010.0,4000.0,3970.0,3980.0,3980.0,3980.0,3980.0,3970.0,3960.0,3930.0,3820.0,3580.0,3570.0,3620.0,3630.0,3640.0,3680.0,3740.0,3670.0,3610.0,3680.0,3700.0,3670.0,3740.0,3700.0,3730.0,3750.0,3710.0,3710.0,3750.0,3750.0,3770.0,3810.0,3720.0,3710.0,3730.0,3750.0,3790.0,3780.0,3770.0,3780.0,3860.0,3900.0,3880.0,3850.0,3850.0,3810.0,3850.0,3950.0,3910.0,3850.0,3840.0,3840.0,3870.0,3850.0,3800.0,3790.0,3760.0,3690.0,3750.0,3760.0,3730.0,3750.0,3720.0,3760.0,3830.0,3800.0,3890.0,3950.0,3920.0,3880.0,3910.0,3880.0,3870.0,3870.0,3850.0,3850.0,3960.0,3930.0,3980.0,4000.0,3990.0,3980.0,4030.0,3940.0,4000.0,4060.0,4030.0,4030.0,4070.0,4040.0,4040.0,4070.0,4040.0,4080.0,4170.0,4190.0,4250.0,4260.0,4290.0],\"open\":[4540.0,4500.0,4460.0,4530.0,4450.0,4400.0,4400.0,4390.0,4450.0,4430.0,4460.0,4400.0,4460.0,4460.0,4490.0,4460.0,4400.0,4340.0,4360.0,4300.0,4330.0,4360.0,4200.0,4310.0,4220.0,4200.0,4300.0,4380.0,4430.0,4420.0,4390.0,4420.0,4460.0,4420.0,4400.0,4140.0,4070.0,4250.0,4270.0,4200.0,4110.0,4160.0,4090.0,4050.0,4000.0,4020.0,4070.0,4020.0,4020.0,3990.0,3980.0,4010.0,4030.0,3980.0,3970.0,4020.0,3950.0,3980.0,3640.0,3600.0,3700.0,3680.0,3670.0,3690.0,3820.0,3680.0,3610.0,3740.0,3730.0,3690.0,3800.0,3710.0,3780.0,3770.0,3800.0,3720.0,3760.0,3750.0,3790.0,3840.0,3800.0,3750.0,3730.0,3810.0,3820.0,3790.0,3820.0,3780.0,3870.0,4010.0,3900.0,3910.0,3890.0,3850.0,3850.0,3970.0,3960.0,3940.0,3850.0,3850.0,3910.0,3860.0,3880.0,3800.0,3840.0,3750.0,3800.0,3830.0,3810.0,3800.0,3770.0,3760.0,3850.0,3850.0,3950.0,4000.0,3990.0,3930.0,3930.0,3900.0,3880.0,3940.0,3890.0,3850.0,3970.0,3960.0,4020.0,4030.0,4050.0,4040.0,4090.0,4050.0,4000.0,4100.0,4100.0,4100.0,4090.0,4050.0,4110.0,4100.0,4080.0,4100.0,4200.0,4250.0,4290.0,4320.0,4340.0],\"x\":[\"2022-09-15T00:00:00\",\"2022-09-16T00:00:00\",\"2022-09-19T00:00:00\",\"2022-09-20T00:00:00\",\"2022-09-21T00:00:00\",\"2022-09-22T00:00:00\",\"2022-09-23T00:00:00\",\"2022-09-26T00:00:00\",\"2022-09-27T00:00:00\",\"2022-09-28T00:00:00\",\"2022-09-29T00:00:00\",\"2022-09-30T00:00:00\",\"2022-10-03T00:00:00\",\"2022-10-04T00:00:00\",\"2022-10-05T00:00:00\",\"2022-10-06T00:00:00\",\"2022-10-07T00:00:00\",\"2022-10-10T00:00:00\",\"2022-10-11T00:00:00\",\"2022-10-12T00:00:00\",\"2022-10-13T00:00:00\",\"2022-10-14T00:00:00\",\"2022-10-17T00:00:00\",\"2022-10-18T00:00:00\",\"2022-10-19T00:00:00\",\"2022-10-20T00:00:00\",\"2022-10-21T00:00:00\",\"2022-10-24T00:00:00\",\"2022-10-25T00:00:00\",\"2022-10-26T00:00:00\",\"2022-10-27T00:00:00\",\"2022-10-28T00:00:00\",\"2022-10-31T00:00:00\",\"2022-11-01T00:00:00\",\"2022-11-02T00:00:00\",\"2022-11-03T00:00:00\",\"2022-11-04T00:00:00\",\"2022-11-07T00:00:00\",\"2022-11-08T00:00:00\",\"2022-11-09T00:00:00\",\"2022-11-10T00:00:00\",\"2022-11-11T00:00:00\",\"2022-11-14T00:00:00\",\"2022-11-15T00:00:00\",\"2022-11-16T00:00:00\",\"2022-11-17T00:00:00\",\"2022-11-18T00:00:00\",\"2022-11-21T00:00:00\",\"2022-11-22T00:00:00\",\"2022-11-23T00:00:00\",\"2022-11-24T00:00:00\",\"2022-11-25T00:00:00\",\"2022-11-28T00:00:00\",\"2022-11-29T00:00:00\",\"2022-11-30T00:00:00\",\"2022-12-01T00:00:00\",\"2022-12-02T00:00:00\",\"2022-12-05T00:00:00\",\"2022-12-06T00:00:00\",\"2022-12-07T00:00:00\",\"2022-12-08T00:00:00\",\"2022-12-09T00:00:00\",\"2022-12-12T00:00:00\",\"2022-12-13T00:00:00\",\"2022-12-14T00:00:00\",\"2022-12-15T00:00:00\",\"2022-12-16T00:00:00\",\"2022-12-19T00:00:00\",\"2022-12-20T00:00:00\",\"2022-12-21T00:00:00\",\"2022-12-22T00:00:00\",\"2022-12-23T00:00:00\",\"2022-12-26T00:00:00\",\"2022-12-27T00:00:00\",\"2022-12-28T00:00:00\",\"2022-12-29T00:00:00\",\"2022-12-30T00:00:00\",\"2023-01-02T00:00:00\",\"2023-01-03T00:00:00\",\"2023-01-04T00:00:00\",\"2023-01-05T00:00:00\",\"2023-01-06T00:00:00\",\"2023-01-09T00:00:00\",\"2023-01-10T00:00:00\",\"2023-01-11T00:00:00\",\"2023-01-12T00:00:00\",\"2023-01-13T00:00:00\",\"2023-01-16T00:00:00\",\"2023-01-17T00:00:00\",\"2023-01-18T00:00:00\",\"2023-01-19T00:00:00\",\"2023-01-20T00:00:00\",\"2023-01-24T00:00:00\",\"2023-01-25T00:00:00\",\"2023-01-26T00:00:00\",\"2023-01-27T00:00:00\",\"2023-01-30T00:00:00\",\"2023-01-31T00:00:00\",\"2023-02-01T00:00:00\",\"2023-02-02T00:00:00\",\"2023-02-03T00:00:00\",\"2023-02-06T00:00:00\",\"2023-02-07T00:00:00\",\"2023-02-08T00:00:00\",\"2023-02-09T00:00:00\",\"2023-02-10T00:00:00\",\"2023-02-13T00:00:00\",\"2023-02-14T00:00:00\",\"2023-02-15T00:00:00\",\"2023-02-16T00:00:00\",\"2023-02-17T00:00:00\",\"2023-02-20T00:00:00\",\"2023-02-21T00:00:00\",\"2023-02-22T00:00:00\",\"2023-02-23T00:00:00\",\"2023-02-24T00:00:00\",\"2023-02-27T00:00:00\",\"2023-02-28T00:00:00\",\"2023-03-01T00:00:00\",\"2023-03-02T00:00:00\",\"2023-03-03T00:00:00\",\"2023-03-06T00:00:00\",\"2023-03-07T00:00:00\",\"2023-03-08T00:00:00\",\"2023-03-09T00:00:00\",\"2023-03-10T00:00:00\",\"2023-03-13T00:00:00\",\"2023-03-14T00:00:00\",\"2023-03-15T00:00:00\",\"2023-03-16T00:00:00\",\"2023-03-17T00:00:00\",\"2023-03-20T00:00:00\",\"2023-03-21T00:00:00\",\"2023-03-24T00:00:00\",\"2023-03-27T00:00:00\",\"2023-03-28T00:00:00\",\"2023-03-29T00:00:00\",\"2023-03-30T00:00:00\",\"2023-03-31T00:00:00\",\"2023-04-03T00:00:00\",\"2023-04-04T00:00:00\",\"2023-04-05T00:00:00\",\"2023-04-06T00:00:00\",\"2023-04-10T00:00:00\",\"2023-04-11T00:00:00\",\"2023-04-12T00:00:00\",\"2023-04-13T00:00:00\"],\"type\":\"candlestick\"},{\"close\":[4488.849609375,4492.6884765625,4487.99853515625,4482.88525390625,4485.4765625,4474.1474609375,4459.46435546875,4445.31396484375,4435.9755859375,4434.962890625,4440.35693359375,4442.578125,4441.29541015625,4437.7646484375,4439.14599609375,4444.64990234375,4443.3759765625,4429.3134765625,4412.6796875,4397.4189453125,4378.75,4362.79345703125,4356.4150390625,4334.783203125,4323.1123046875,4298.4765625,4297.75048828125,4303.787109375,4328.80322265625,4355.8076171875,4369.04443359375,4374.46337890625,4390.8720703125,4408.65966796875,4414.142578125,4410.12841796875,4362.46826171875,4322.34521484375,4305.0771484375,4292.25537109375,4276.0361328125,4240.279296875,4231.7451171875,4200.44873046875,4156.11083984375,4117.3681640625,4088.380859375,4070.238525390625,4043.732666015625,4027.213134765625,4009.258544921875,3992.276123046875,3986.185302734375,3988.63818359375,3983.579345703125,4051.8779296875,4057.3642578125,4039.479736328125,4010.854248046875,3947.64306640625,3875.42431640625,3827.8818359375,3778.703369140625,3743.954345703125,3735.072509765625,3735.546142578125,3711.805908203125,3712.28662109375,3702.780029296875,3686.466552734375,3681.607177734375,3684.729736328125,3674.887939453125,3671.262451171875,3677.4951171875,3708.696044921875,3711.44775390625,3716.28662109375,3714.807373046875,3750.031005859375,3775.96044921875,3793.34228515625,3780.961181640625,3773.30859375,3791.281494140625,3810.020751953125,3826.962890625,3843.5791015625,3845.91748046875,3881.344970703125,3921.70751953125,3939.927001953125,3941.810791015625,3930.32861328125,3917.06689453125,3928.740234375,3950.822998046875,3958.9111328125,3962.656005859375,3943.011474609375,3927.02978515625,3922.783935546875,3909.693603515625,3891.378662109375,3870.73291015625,3854.244384765625,3829.676025390625,3815.250732421875,3808.7294921875,3802.262451171875,3794.434814453125,3782.915771484375,3783.095947265625,3799.596435546875,3811.726806640625,3861.203125,3922.270263671875,3947.7890625,3966.00732421875,3969.122314453125,3958.8974609375,3947.063232421875,3941.91162109375,3931.86767578125,3927.131103515625,3947.18115234375,3965.01806640625,3998.263671875,4026.2041015625,4038.16162109375,4050.61474609375,4085.7197265625,4079.907470703125,4082.6015625,4092.994873046875,4097.7841796875,4105.20068359375,4115.64697265625,4117.86669921875,4119.02490234375,4114.44873046875,4108.505859375,4114.4716796875,4150.22216796875,4183.541015625,4215.70947265625,4256.966796875,4291.0048828125],\"high\":[4521.79052734375,4526.49072265625,4530.0087890625,4523.931640625,4525.74951171875,4515.44189453125,4500.3955078125,4485.654296875,4478.8095703125,4476.18359375,4478.83984375,4478.56640625,4478.71923828125,4473.673828125,4473.1376953125,4475.173828125,4472.111328125,4462.18310546875,4446.69775390625,4435.23876953125,4419.9375,4403.10205078125,4394.0859375,4375.79150390625,4363.15625,4338.490234375,4345.13330078125,4348.09765625,4368.8330078125,4394.9443359375,4406.576171875,4409.9677734375,4425.3056640625,4447.365234375,4452.51318359375,4457.72900390625,4421.146484375,4385.86767578125,4366.05859375,4349.0830078125,4333.50830078125,4294.49072265625,4292.365234375,4262.3955078125,4211.021484375,4171.35107421875,4133.36083984375,4112.5244140625,4080.400146484375,4062.137451171875,4043.66455078125,4025.072998046875,4021.484375,4026.127685546875,4025.7197265625,4129.7109375,4134.4091796875,4112.19482421875,4082.5830078125,4041.96630859375,3974.00341796875,3926.452880859375,3868.509033203125,3823.98193359375,3811.504638671875,3797.40185546875,3767.976806640625,3773.57275390625,3756.482177734375,3730.546875,3720.179443359375,3718.48291015625,3705.740234375,3698.69970703125,3707.67724609375,3734.918212890625,3740.179931640625,3752.191650390625,3749.890380859375,3780.3857421875,3805.7138671875,3827.242431640625,3815.47216796875,3808.1298828125,3825.573974609375,3843.96240234375,3864.67578125,3878.75390625,3878.62890625,3917.35791015625,3957.2041015625,3976.151123046875,3978.99560546875,3964.92919921875,3952.42041015625,3964.563232421875,3987.45654296875,3993.175048828125,4006.09423828125,3985.8623046875,3970.28564453125,3961.003662109375,3945.490966796875,3927.971435546875,3906.607177734375,3890.86181640625,3866.614013671875,3849.435791015625,3843.65771484375,3835.538818359375,3824.573486328125,3810.451904296875,3808.365234375,3823.5458984375,3834.616455078125,3886.8642578125,3953.073486328125,3980.33056640625,4000.118408203125,4002.41259765625,3992.224853515625,3980.70556640625,3975.735107421875,3965.172607421875,3963.58154296875,3982.5537109375,4001.445068359375,4037.34765625,4067.17431640625,4077.129150390625,4090.135986328125,4134.55224609375,4128.2119140625,4129.8466796875,4140.0244140625,4143.1162109375,4149.5185546875,4161.3525390625,4161.8310546875,4162.82958984375,4155.82177734375,4150.6884765625,4154.71533203125,4192.42724609375,4225.23876953125,4257.52783203125,4305.779296875,4342.15478515625],\"low\":[4461.958984375,4467.0068359375,4461.79248046875,4449.2861328125,4444.91748046875,4424.83740234375,4403.9365234375,4385.00341796875,4375.0361328125,4374.44091796875,4375.37744140625,4376.71728515625,4375.759765625,4373.197265625,4379.0830078125,4386.6650390625,4385.0322265625,4373.9775390625,4358.134765625,4343.35107421875,4323.546875,4303.45068359375,4290.48291015625,4265.78564453125,4252.837890625,4226.27587890625,4230.40283203125,4238.236328125,4264.66064453125,4294.67919921875,4307.79638671875,4313.505859375,4331.19677734375,4352.5869140625,4356.84228515625,4351.068359375,4295.19140625,4244.56103515625,4220.0888671875,4201.43896484375,4182.0625,4142.88525390625,4139.939453125,4104.400390625,4056.783935546875,4020.053955078125,3986.7333984375,3973.757080078125,3951.801513671875,3942.460693359375,3932.521484375,3924.18798828125,3927.21240234375,3934.636962890625,3934.880615234375,4020.857666015625,4013.2001953125,3982.043701171875,3943.317626953125,3873.70751953125,3784.572998046875,3725.356201171875,3658.9140625,3615.83447265625,3609.998779296875,3609.639404296875,3593.88818359375,3605.60107421875,3604.890380859375,3598.669189453125,3608.193359375,3627.807861328125,3632.669189453125,3641.408203125,3659.610107421875,3683.560546875,3690.159423828125,3702.124755859375,3700.795654296875,3730.995849609375,3755.575439453125,3771.176513671875,3754.818359375,3742.88330078125,3754.93017578125,3772.070068359375,3786.172607421875,3790.57958984375,3788.38037109375,3827.145751953125,3865.535888671875,3882.716552734375,3882.843994140625,3869.490966796875,3854.4013671875,3867.29248046875,3891.721435546875,3898.9599609375,3907.92138671875,3883.46240234375,3865.41796875,3856.26806640625,3843.78955078125,3827.008056640625,3806.752197265625,3790.43359375,3763.815185546875,3750.087646484375,3746.741943359375,3737.9990234375,3730.237548828125,3718.206298828125,3721.232177734375,3744.350830078125,3760.53125,3815.1455078125,3882.3359375,3907.962646484375,3921.297119140625,3921.12646484375,3907.070068359375,3893.552978515625,3886.318359375,3874.545166015625,3869.75244140625,3890.651123046875,3908.9736328125,3945.4404296875,3974.309326171875,3985.02734375,3998.62109375,4040.105224609375,4028.256103515625,4028.6494140625,4039.736083984375,4039.7109375,4041.453369140625,4052.20947265625,4049.97509765625,4050.76123046875,4046.53955078125,4042.115966796875,4051.601806640625,4095.9873046875,4134.13330078125,4172.75537109375,4221.76123046875,4256.9853515625],\"open\":[4478.16748046875,4488.2119140625,4494.94384765625,4489.62158203125,4489.05517578125,4473.697265625,4455.97412109375,4440.173828125,4436.60009765625,4437.83837890625,4441.974609375,4440.89111328125,4439.98046875,4432.73046875,4433.3369140625,4435.37109375,4428.3798828125,4415.44384765625,4397.51171875,4385.55712890625,4371.17626953125,4354.53857421875,4344.38623046875,4324.79638671875,4311.48291015625,4285.08447265625,4299.01171875,4306.6962890625,4331.8818359375,4361.775390625,4373.185546875,4375.57861328125,4391.84814453125,4415.17431640625,4417.61083984375,4418.68896484375,4374.20166015625,4335.0712890625,4313.1630859375,4294.3564453125,4278.025390625,4235.27587890625,4238.7021484375,4208.255859375,4154.884765625,4119.02978515625,4080.605712890625,4061.97314453125,4028.6533203125,4011.11083984375,3992.728515625,3973.216552734375,3970.0673828125,3974.97412109375,3976.46923828125,4099.0419921875,4100.484375,4069.135986328125,4029.91796875,3988.148193359375,3919.911376953125,3876.488525390625,3821.501708984375,3783.059326171875,3779.440673828125,3766.23681640625,3737.0712890625,3747.023193359375,3723.23046875,3688.586181640625,3672.19970703125,3661.57666015625,3640.798583984375,3629.178466796875,3641.9873046875,3669.172119140625,3669.93701171875,3681.31103515625,3682.837158203125,3725.171630859375,3755.09228515625,3780.515625,3768.318603515625,3762.8544921875,3785.991455078125,3810.75390625,3838.36376953125,3856.530029296875,3857.266845703125,3900.668701171875,3939.486572265625,3956.71875,3954.322265625,3934.886962890625,3920.08837890625,3935.197998046875,3958.04833984375,3961.40283203125,3972.554931640625,3947.422607421875,3931.10009765625,3922.40673828125,3907.26953125,3888.37451171875,3867.222412109375,3852.154541015625,3829.3017578125,3814.518798828125,3810.75048828125,3803.557373046875,3793.743896484375,3781.286865234375,3782.607421875,3801.551513671875,3813.87744140625,3870.346923828125,3940.73583984375,3963.48583984375,3981.3427734375,3977.2490234375,3960.7412109375,3945.703369140625,3938.393798828125,3927.751708984375,3928.015380859375,3950.83544921875,3971.42236328125,4010.260009765625,4040.574951171875,4047.01416015625,4059.26416015625,4107.369140625,4094.2265625,4094.134521484375,4102.88525390625,4102.90087890625,4108.1240234375,4120.99169921875,4120.56201171875,4119.1015625,4109.345703125,4102.6640625,4107.39208984375,4149.8115234375,4182.7685546875,4214.86669921875,4265.1142578125,4300.669921875],\"x\":[\"2022-09-15T00:00:00\",\"2022-09-16T00:00:00\",\"2022-09-19T00:00:00\",\"2022-09-20T00:00:00\",\"2022-09-21T00:00:00\",\"2022-09-22T00:00:00\",\"2022-09-23T00:00:00\",\"2022-09-26T00:00:00\",\"2022-09-27T00:00:00\",\"2022-09-28T00:00:00\",\"2022-09-29T00:00:00\",\"2022-09-30T00:00:00\",\"2022-10-03T00:00:00\",\"2022-10-04T00:00:00\",\"2022-10-05T00:00:00\",\"2022-10-06T00:00:00\",\"2022-10-07T00:00:00\",\"2022-10-10T00:00:00\",\"2022-10-11T00:00:00\",\"2022-10-12T00:00:00\",\"2022-10-13T00:00:00\",\"2022-10-14T00:00:00\",\"2022-10-17T00:00:00\",\"2022-10-18T00:00:00\",\"2022-10-19T00:00:00\",\"2022-10-20T00:00:00\",\"2022-10-21T00:00:00\",\"2022-10-24T00:00:00\",\"2022-10-25T00:00:00\",\"2022-10-26T00:00:00\",\"2022-10-27T00:00:00\",\"2022-10-28T00:00:00\",\"2022-10-31T00:00:00\",\"2022-11-01T00:00:00\",\"2022-11-02T00:00:00\",\"2022-11-03T00:00:00\",\"2022-11-04T00:00:00\",\"2022-11-07T00:00:00\",\"2022-11-08T00:00:00\",\"2022-11-09T00:00:00\",\"2022-11-10T00:00:00\",\"2022-11-11T00:00:00\",\"2022-11-14T00:00:00\",\"2022-11-15T00:00:00\",\"2022-11-16T00:00:00\",\"2022-11-17T00:00:00\",\"2022-11-18T00:00:00\",\"2022-11-21T00:00:00\",\"2022-11-22T00:00:00\",\"2022-11-23T00:00:00\",\"2022-11-24T00:00:00\",\"2022-11-25T00:00:00\",\"2022-11-28T00:00:00\",\"2022-11-29T00:00:00\",\"2022-11-30T00:00:00\",\"2022-12-01T00:00:00\",\"2022-12-02T00:00:00\",\"2022-12-05T00:00:00\",\"2022-12-06T00:00:00\",\"2022-12-07T00:00:00\",\"2022-12-08T00:00:00\",\"2022-12-09T00:00:00\",\"2022-12-12T00:00:00\",\"2022-12-13T00:00:00\",\"2022-12-14T00:00:00\",\"2022-12-15T00:00:00\",\"2022-12-16T00:00:00\",\"2022-12-19T00:00:00\",\"2022-12-20T00:00:00\",\"2022-12-21T00:00:00\",\"2022-12-22T00:00:00\",\"2022-12-23T00:00:00\",\"2022-12-26T00:00:00\",\"2022-12-27T00:00:00\",\"2022-12-28T00:00:00\",\"2022-12-29T00:00:00\",\"2022-12-30T00:00:00\",\"2023-01-02T00:00:00\",\"2023-01-03T00:00:00\",\"2023-01-04T00:00:00\",\"2023-01-05T00:00:00\",\"2023-01-06T00:00:00\",\"2023-01-09T00:00:00\",\"2023-01-10T00:00:00\",\"2023-01-11T00:00:00\",\"2023-01-12T00:00:00\",\"2023-01-13T00:00:00\",\"2023-01-16T00:00:00\",\"2023-01-17T00:00:00\",\"2023-01-18T00:00:00\",\"2023-01-19T00:00:00\",\"2023-01-20T00:00:00\",\"2023-01-24T00:00:00\",\"2023-01-25T00:00:00\",\"2023-01-26T00:00:00\",\"2023-01-27T00:00:00\",\"2023-01-30T00:00:00\",\"2023-01-31T00:00:00\",\"2023-02-01T00:00:00\",\"2023-02-02T00:00:00\",\"2023-02-03T00:00:00\",\"2023-02-06T00:00:00\",\"2023-02-07T00:00:00\",\"2023-02-08T00:00:00\",\"2023-02-09T00:00:00\",\"2023-02-10T00:00:00\",\"2023-02-13T00:00:00\",\"2023-02-14T00:00:00\",\"2023-02-15T00:00:00\",\"2023-02-16T00:00:00\",\"2023-02-17T00:00:00\",\"2023-02-20T00:00:00\",\"2023-02-21T00:00:00\",\"2023-02-22T00:00:00\",\"2023-02-23T00:00:00\",\"2023-02-24T00:00:00\",\"2023-02-27T00:00:00\",\"2023-02-28T00:00:00\",\"2023-03-01T00:00:00\",\"2023-03-02T00:00:00\",\"2023-03-03T00:00:00\",\"2023-03-06T00:00:00\",\"2023-03-07T00:00:00\",\"2023-03-08T00:00:00\",\"2023-03-09T00:00:00\",\"2023-03-10T00:00:00\",\"2023-03-13T00:00:00\",\"2023-03-14T00:00:00\",\"2023-03-15T00:00:00\",\"2023-03-16T00:00:00\",\"2023-03-17T00:00:00\",\"2023-03-20T00:00:00\",\"2023-03-21T00:00:00\",\"2023-03-24T00:00:00\",\"2023-03-27T00:00:00\",\"2023-03-28T00:00:00\",\"2023-03-29T00:00:00\",\"2023-03-30T00:00:00\",\"2023-03-31T00:00:00\",\"2023-04-03T00:00:00\",\"2023-04-04T00:00:00\",\"2023-04-05T00:00:00\",\"2023-04-06T00:00:00\",\"2023-04-10T00:00:00\",\"2023-04-11T00:00:00\",\"2023-04-12T00:00:00\",\"2023-04-13T00:00:00\",\"2023-04-14T00:00:00\"],\"type\":\"candlestick\",\"increasing\":{\"fillcolor\":\"green\",\"line\":{\"color\":\"#286ed7\"}},\"decreasing\":{\"fillcolor\":\"red\",\"line\":{\"color\":\"#ff7a00\"}}}],                        {\"template\":{\"data\":{\"histogram2dcontour\":[{\"type\":\"histogram2dcontour\",\"colorbar\":{\"outlinewidth\":0,\"ticks\":\"\"},\"colorscale\":[[0.0,\"#0d0887\"],[0.1111111111111111,\"#46039f\"],[0.2222222222222222,\"#7201a8\"],[0.3333333333333333,\"#9c179e\"],[0.4444444444444444,\"#bd3786\"],[0.5555555555555556,\"#d8576b\"],[0.6666666666666666,\"#ed7953\"],[0.7777777777777778,\"#fb9f3a\"],[0.8888888888888888,\"#fdca26\"],[1.0,\"#f0f921\"]]}],\"choropleth\":[{\"type\":\"choropleth\",\"colorbar\":{\"outlinewidth\":0,\"ticks\":\"\"}}],\"histogram2d\":[{\"type\":\"histogram2d\",\"colorbar\":{\"outlinewidth\":0,\"ticks\":\"\"},\"colorscale\":[[0.0,\"#0d0887\"],[0.1111111111111111,\"#46039f\"],[0.2222222222222222,\"#7201a8\"],[0.3333333333333333,\"#9c179e\"],[0.4444444444444444,\"#bd3786\"],[0.5555555555555556,\"#d8576b\"],[0.6666666666666666,\"#ed7953\"],[0.7777777777777778,\"#fb9f3a\"],[0.8888888888888888,\"#fdca26\"],[1.0,\"#f0f921\"]]}],\"heatmap\":[{\"type\":\"heatmap\",\"colorbar\":{\"outlinewidth\":0,\"ticks\":\"\"},\"colorscale\":[[0.0,\"#0d0887\"],[0.1111111111111111,\"#46039f\"],[0.2222222222222222,\"#7201a8\"],[0.3333333333333333,\"#9c179e\"],[0.4444444444444444,\"#bd3786\"],[0.5555555555555556,\"#d8576b\"],[0.6666666666666666,\"#ed7953\"],[0.7777777777777778,\"#fb9f3a\"],[0.8888888888888888,\"#fdca26\"],[1.0,\"#f0f921\"]]}],\"heatmapgl\":[{\"type\":\"heatmapgl\",\"colorbar\":{\"outlinewidth\":0,\"ticks\":\"\"},\"colorscale\":[[0.0,\"#0d0887\"],[0.1111111111111111,\"#46039f\"],[0.2222222222222222,\"#7201a8\"],[0.3333333333333333,\"#9c179e\"],[0.4444444444444444,\"#bd3786\"],[0.5555555555555556,\"#d8576b\"],[0.6666666666666666,\"#ed7953\"],[0.7777777777777778,\"#fb9f3a\"],[0.8888888888888888,\"#fdca26\"],[1.0,\"#f0f921\"]]}],\"contourcarpet\":[{\"type\":\"contourcarpet\",\"colorbar\":{\"outlinewidth\":0,\"ticks\":\"\"}}],\"contour\":[{\"type\":\"contour\",\"colorbar\":{\"outlinewidth\":0,\"ticks\":\"\"},\"colorscale\":[[0.0,\"#0d0887\"],[0.1111111111111111,\"#46039f\"],[0.2222222222222222,\"#7201a8\"],[0.3333333333333333,\"#9c179e\"],[0.4444444444444444,\"#bd3786\"],[0.5555555555555556,\"#d8576b\"],[0.6666666666666666,\"#ed7953\"],[0.7777777777777778,\"#fb9f3a\"],[0.8888888888888888,\"#fdca26\"],[1.0,\"#f0f921\"]]}],\"surface\":[{\"type\":\"surface\",\"colorbar\":{\"outlinewidth\":0,\"ticks\":\"\"},\"colorscale\":[[0.0,\"#0d0887\"],[0.1111111111111111,\"#46039f\"],[0.2222222222222222,\"#7201a8\"],[0.3333333333333333,\"#9c179e\"],[0.4444444444444444,\"#bd3786\"],[0.5555555555555556,\"#d8576b\"],[0.6666666666666666,\"#ed7953\"],[0.7777777777777778,\"#fb9f3a\"],[0.8888888888888888,\"#fdca26\"],[1.0,\"#f0f921\"]]}],\"mesh3d\":[{\"type\":\"mesh3d\",\"colorbar\":{\"outlinewidth\":0,\"ticks\":\"\"}}],\"scatter\":[{\"fillpattern\":{\"fillmode\":\"overlay\",\"size\":10,\"solidity\":0.2},\"type\":\"scatter\"}],\"parcoords\":[{\"type\":\"parcoords\",\"line\":{\"colorbar\":{\"outlinewidth\":0,\"ticks\":\"\"}}}],\"scatterpolargl\":[{\"type\":\"scatterpolargl\",\"marker\":{\"colorbar\":{\"outlinewidth\":0,\"ticks\":\"\"}}}],\"bar\":[{\"error_x\":{\"color\":\"#2a3f5f\"},\"error_y\":{\"color\":\"#2a3f5f\"},\"marker\":{\"line\":{\"color\":\"#E5ECF6\",\"width\":0.5},\"pattern\":{\"fillmode\":\"overlay\",\"size\":10,\"solidity\":0.2}},\"type\":\"bar\"}],\"scattergeo\":[{\"type\":\"scattergeo\",\"marker\":{\"colorbar\":{\"outlinewidth\":0,\"ticks\":\"\"}}}],\"scatterpolar\":[{\"type\":\"scatterpolar\",\"marker\":{\"colorbar\":{\"outlinewidth\":0,\"ticks\":\"\"}}}],\"histogram\":[{\"marker\":{\"pattern\":{\"fillmode\":\"overlay\",\"size\":10,\"solidity\":0.2}},\"type\":\"histogram\"}],\"scattergl\":[{\"type\":\"scattergl\",\"marker\":{\"colorbar\":{\"outlinewidth\":0,\"ticks\":\"\"}}}],\"scatter3d\":[{\"type\":\"scatter3d\",\"line\":{\"colorbar\":{\"outlinewidth\":0,\"ticks\":\"\"}},\"marker\":{\"colorbar\":{\"outlinewidth\":0,\"ticks\":\"\"}}}],\"scattermapbox\":[{\"type\":\"scattermapbox\",\"marker\":{\"colorbar\":{\"outlinewidth\":0,\"ticks\":\"\"}}}],\"scatterternary\":[{\"type\":\"scatterternary\",\"marker\":{\"colorbar\":{\"outlinewidth\":0,\"ticks\":\"\"}}}],\"scattercarpet\":[{\"type\":\"scattercarpet\",\"marker\":{\"colorbar\":{\"outlinewidth\":0,\"ticks\":\"\"}}}],\"carpet\":[{\"aaxis\":{\"endlinecolor\":\"#2a3f5f\",\"gridcolor\":\"white\",\"linecolor\":\"white\",\"minorgridcolor\":\"white\",\"startlinecolor\":\"#2a3f5f\"},\"baxis\":{\"endlinecolor\":\"#2a3f5f\",\"gridcolor\":\"white\",\"linecolor\":\"white\",\"minorgridcolor\":\"white\",\"startlinecolor\":\"#2a3f5f\"},\"type\":\"carpet\"}],\"table\":[{\"cells\":{\"fill\":{\"color\":\"#EBF0F8\"},\"line\":{\"color\":\"white\"}},\"header\":{\"fill\":{\"color\":\"#C8D4E3\"},\"line\":{\"color\":\"white\"}},\"type\":\"table\"}],\"barpolar\":[{\"marker\":{\"line\":{\"color\":\"#E5ECF6\",\"width\":0.5},\"pattern\":{\"fillmode\":\"overlay\",\"size\":10,\"solidity\":0.2}},\"type\":\"barpolar\"}],\"pie\":[{\"automargin\":true,\"type\":\"pie\"}]},\"layout\":{\"autotypenumbers\":\"strict\",\"colorway\":[\"#636efa\",\"#EF553B\",\"#00cc96\",\"#ab63fa\",\"#FFA15A\",\"#19d3f3\",\"#FF6692\",\"#B6E880\",\"#FF97FF\",\"#FECB52\"],\"font\":{\"color\":\"#2a3f5f\"},\"hovermode\":\"closest\",\"hoverlabel\":{\"align\":\"left\"},\"paper_bgcolor\":\"white\",\"plot_bgcolor\":\"#E5ECF6\",\"polar\":{\"bgcolor\":\"#E5ECF6\",\"angularaxis\":{\"gridcolor\":\"white\",\"linecolor\":\"white\",\"ticks\":\"\"},\"radialaxis\":{\"gridcolor\":\"white\",\"linecolor\":\"white\",\"ticks\":\"\"}},\"ternary\":{\"bgcolor\":\"#E5ECF6\",\"aaxis\":{\"gridcolor\":\"white\",\"linecolor\":\"white\",\"ticks\":\"\"},\"baxis\":{\"gridcolor\":\"white\",\"linecolor\":\"white\",\"ticks\":\"\"},\"caxis\":{\"gridcolor\":\"white\",\"linecolor\":\"white\",\"ticks\":\"\"}},\"coloraxis\":{\"colorbar\":{\"outlinewidth\":0,\"ticks\":\"\"}},\"colorscale\":{\"sequential\":[[0.0,\"#0d0887\"],[0.1111111111111111,\"#46039f\"],[0.2222222222222222,\"#7201a8\"],[0.3333333333333333,\"#9c179e\"],[0.4444444444444444,\"#bd3786\"],[0.5555555555555556,\"#d8576b\"],[0.6666666666666666,\"#ed7953\"],[0.7777777777777778,\"#fb9f3a\"],[0.8888888888888888,\"#fdca26\"],[1.0,\"#f0f921\"]],\"sequentialminus\":[[0.0,\"#0d0887\"],[0.1111111111111111,\"#46039f\"],[0.2222222222222222,\"#7201a8\"],[0.3333333333333333,\"#9c179e\"],[0.4444444444444444,\"#bd3786\"],[0.5555555555555556,\"#d8576b\"],[0.6666666666666666,\"#ed7953\"],[0.7777777777777778,\"#fb9f3a\"],[0.8888888888888888,\"#fdca26\"],[1.0,\"#f0f921\"]],\"diverging\":[[0,\"#8e0152\"],[0.1,\"#c51b7d\"],[0.2,\"#de77ae\"],[0.3,\"#f1b6da\"],[0.4,\"#fde0ef\"],[0.5,\"#f7f7f7\"],[0.6,\"#e6f5d0\"],[0.7,\"#b8e186\"],[0.8,\"#7fbc41\"],[0.9,\"#4d9221\"],[1,\"#276419\"]]},\"xaxis\":{\"gridcolor\":\"white\",\"linecolor\":\"white\",\"ticks\":\"\",\"title\":{\"standoff\":15},\"zerolinecolor\":\"white\",\"automargin\":true,\"zerolinewidth\":2},\"yaxis\":{\"gridcolor\":\"white\",\"linecolor\":\"white\",\"ticks\":\"\",\"title\":{\"standoff\":15},\"zerolinecolor\":\"white\",\"automargin\":true,\"zerolinewidth\":2},\"scene\":{\"xaxis\":{\"backgroundcolor\":\"#E5ECF6\",\"gridcolor\":\"white\",\"linecolor\":\"white\",\"showbackground\":true,\"ticks\":\"\",\"zerolinecolor\":\"white\",\"gridwidth\":2},\"yaxis\":{\"backgroundcolor\":\"#E5ECF6\",\"gridcolor\":\"white\",\"linecolor\":\"white\",\"showbackground\":true,\"ticks\":\"\",\"zerolinecolor\":\"white\",\"gridwidth\":2},\"zaxis\":{\"backgroundcolor\":\"#E5ECF6\",\"gridcolor\":\"white\",\"linecolor\":\"white\",\"showbackground\":true,\"ticks\":\"\",\"zerolinecolor\":\"white\",\"gridwidth\":2}},\"shapedefaults\":{\"line\":{\"color\":\"#2a3f5f\"}},\"annotationdefaults\":{\"arrowcolor\":\"#2a3f5f\",\"arrowhead\":0,\"arrowwidth\":1},\"geo\":{\"bgcolor\":\"white\",\"landcolor\":\"#E5ECF6\",\"subunitcolor\":\"white\",\"showland\":true,\"showlakes\":true,\"lakecolor\":\"white\"},\"title\":{\"x\":0.05},\"mapbox\":{\"style\":\"light\"}}},\"margin\":{\"l\":50,\"r\":50,\"b\":100,\"t\":100,\"pad\":4},\"title\":{\"text\":\"pred + tomorrow candlestick graph\"},\"xaxis\":{\"title\":{\"text\":\"Time\"}},\"yaxis\":{\"title\":{\"text\":\"Value\"}},\"autosize\":false,\"width\":600,\"height\":600,\"paper_bgcolor\":\"LightSteelBlue\",\"showlegend\":true},                        {\"responsive\": true}                    ).then(function(){\n",
              "                            \n",
              "var gd = document.getElementById('ff7d901f-47f0-4c1e-b9f7-0089b8d0aa97');\n",
              "var x = new MutationObserver(function (mutations, observer) {{\n",
              "        var display = window.getComputedStyle(gd).display;\n",
              "        if (!display || display === 'none') {{\n",
              "            console.log([gd, 'removed!']);\n",
              "            Plotly.purge(gd);\n",
              "            observer.disconnect();\n",
              "        }}\n",
              "}});\n",
              "\n",
              "// Listen for the removal of the full notebook cells\n",
              "var notebookContainer = gd.closest('#notebook-container');\n",
              "if (notebookContainer) {{\n",
              "    x.observe(notebookContainer, {childList: true});\n",
              "}}\n",
              "\n",
              "// Listen for the clearing of the current output cell\n",
              "var outputEl = gd.closest('.output');\n",
              "if (outputEl) {{\n",
              "    x.observe(outputEl, {childList: true});\n",
              "}}\n",
              "\n",
              "                        })                };                            </script>        </div>\n",
              "</body>\n",
              "</html>"
            ]
          },
          "metadata": {}
        }
      ]
    },
    {
      "cell_type": "markdown",
      "source": [
        "## save model\n",
        "\n",
        "there are two method to save a model:\n",
        "\n",
        " - by calling `save()` function\n",
        " - by calling `save_weights()` function"
      ],
      "metadata": {
        "id": "WkLeyG-tUhDU"
      }
    },
    {
      "cell_type": "code",
      "source": [
        "model_tune2.save('./model/lstm01')"
      ],
      "metadata": {
        "colab": {
          "base_uri": "https://localhost:8080/"
        },
        "id": "52-L2ZoUUkBa",
        "outputId": "b0feb4f2-93dc-479f-af4f-364aa1ea0fe0"
      },
      "execution_count": 205,
      "outputs": [
        {
          "output_type": "stream",
          "name": "stderr",
          "text": [
            "WARNING:absl:Found untraced functions such as _update_step_xla, lstm_cell_1_layer_call_fn, lstm_cell_1_layer_call_and_return_conditional_losses, lstm_cell_2_layer_call_fn, lstm_cell_2_layer_call_and_return_conditional_losses while saving (showing 5 of 9). These functions will not be directly callable after loading.\n"
          ]
        }
      ]
    },
    {
      "cell_type": "code",
      "source": [
        "model_tune2.save_weights('./weights/lstm01')"
      ],
      "metadata": {
        "id": "gvOQGpHCUqmS"
      },
      "execution_count": 206,
      "outputs": []
    },
    {
      "cell_type": "markdown",
      "source": [
        "## load model\n",
        "\n",
        "### by calling `tf.keras.models.load_model`"
      ],
      "metadata": {
        "id": "RQm-86OXUs0M"
      }
    },
    {
      "cell_type": "code",
      "source": [
        "model_loaded0 = tf.keras.models.load_model('./model/lstm01')"
      ],
      "metadata": {
        "id": "mcg_rIGvUvaS"
      },
      "execution_count": 207,
      "outputs": []
    },
    {
      "cell_type": "code",
      "source": [
        "tomorrow_pred = minmax_scaler.inverse_transform(model_loaded0.predict(\n",
        "    np.expand_dims(test_set_normalized[-window_size:], axis=0)))"
      ],
      "metadata": {
        "colab": {
          "base_uri": "https://localhost:8080/"
        },
        "id": "TGhQ3lvEUy8N",
        "outputId": "26c98d31-89a4-419b-9fa3-6ead2b301cb4"
      },
      "execution_count": 208,
      "outputs": [
        {
          "output_type": "stream",
          "name": "stdout",
          "text": [
            "1/1 [==============================] - 1s 1s/step\n"
          ]
        }
      ]
    },
    {
      "cell_type": "code",
      "source": [
        "for elem in tomorro_pred[0]:\n",
        "  print('{:.0f}'.format(elem))"
      ],
      "metadata": {
        "colab": {
          "base_uri": "https://localhost:8080/"
        },
        "id": "Wsg4INlIU1bk",
        "outputId": "07d2169a-453a-4275-e7a5-6d32dc24f273"
      },
      "execution_count": 209,
      "outputs": [
        {
          "output_type": "stream",
          "name": "stdout",
          "text": [
            "106620184\n",
            "4342\n",
            "4257\n",
            "4301\n",
            "4291\n"
          ]
        }
      ]
    },
    {
      "cell_type": "markdown",
      "source": [
        "### by loading weights"
      ],
      "metadata": {
        "id": "z4sAHeHAU5Mr"
      }
    },
    {
      "cell_type": "code",
      "source": [
        "model_loaded = TS_LSTM_Model(window_size=window_size, \n",
        "                              normalizer_layer=None,\n",
        "                              denormalizer_layer=None,\n",
        "                             feature_size=2,\n",
        "                             expand_dims_layer=False\n",
        "                             )"
      ],
      "metadata": {
        "id": "UHdud8L3U52a"
      },
      "execution_count": 210,
      "outputs": []
    },
    {
      "cell_type": "code",
      "source": [
        "model_loaded.load_weights('./weights/lstm01')"
      ],
      "metadata": {
        "colab": {
          "base_uri": "https://localhost:8080/"
        },
        "id": "AFRKdeCnU8ZF",
        "outputId": "22a51658-5927-4126-a6e8-db2e107fee0b"
      },
      "execution_count": 211,
      "outputs": [
        {
          "output_type": "execute_result",
          "data": {
            "text/plain": [
              "<tensorflow.python.checkpoint.checkpoint.CheckpointLoadStatus at 0x7fb5e2b43dc0>"
            ]
          },
          "metadata": {},
          "execution_count": 211
        }
      ]
    },
    {
      "cell_type": "code",
      "source": [
        "tomorrow_pred = minmax_scaler.inverse_transform(model_loaded.predict(\n",
        "    np.expand_dims(test_set_normalized[-window_size:], axis=0)))"
      ],
      "metadata": {
        "colab": {
          "base_uri": "https://localhost:8080/"
        },
        "id": "KfoNd3-bU_rv",
        "outputId": "3d52df6b-82d4-4483-be32-b06f14c5b251"
      },
      "execution_count": 212,
      "outputs": [
        {
          "output_type": "stream",
          "name": "stdout",
          "text": [
            "1/1 [==============================] - 5s 5s/step\n"
          ]
        }
      ]
    },
    {
      "cell_type": "code",
      "source": [
        "for elem in tomorrow_pred[0]:\n",
        "  print('{:.0f}'.format(elem))"
      ],
      "metadata": {
        "colab": {
          "base_uri": "https://localhost:8080/"
        },
        "id": "9ulO-YfKVEXh",
        "outputId": "a868d7f0-3c6e-479a-b921-2e00b55b61a2"
      },
      "execution_count": 213,
      "outputs": [
        {
          "output_type": "stream",
          "name": "stdout",
          "text": [
            "106620184\n",
            "4342\n",
            "4257\n",
            "4301\n",
            "4291\n"
          ]
        }
      ]
    }
  ]
}