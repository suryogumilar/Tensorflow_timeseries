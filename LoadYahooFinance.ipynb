{
  "nbformat": 4,
  "nbformat_minor": 0,
  "metadata": {
    "colab": {
      "provenance": [],
      "authorship_tag": "ABX9TyO1ontHuhr0t7J4jklpe1Y4",
      "include_colab_link": true
    },
    "kernelspec": {
      "name": "python3",
      "display_name": "Python 3"
    },
    "language_info": {
      "name": "python"
    }
  },
  "cells": [
    {
      "cell_type": "markdown",
      "metadata": {
        "id": "view-in-github",
        "colab_type": "text"
      },
      "source": [
        "<a href=\"https://colab.research.google.com/github/suryogumilar/Tensorflow_timeseries/blob/main/LoadYahooFinance.ipynb\" target=\"_parent\"><img src=\"https://colab.research.google.com/assets/colab-badge.svg\" alt=\"Open In Colab\"/></a>"
      ]
    },
    {
      "cell_type": "markdown",
      "source": [
        "# Load stock price data using Yahoo Finance API\n",
        "\n",
        "Loading stock data using Yahoo finance API. The data would be used as data to exploring time series prediction using Tensorflow. Please note that **this is not** a tools to decide any financial action. \n",
        "\n",
        "The reason we use stock data is because it is one of readily available data for time series forecasting."
      ],
      "metadata": {
        "id": "nkyWK02ngrAk"
      }
    },
    {
      "cell_type": "code",
      "source": [
        "!pip install ipympl"
      ],
      "metadata": {
        "id": "UqyDAlPbmWB1"
      },
      "execution_count": null,
      "outputs": []
    },
    {
      "cell_type": "code",
      "execution_count": 15,
      "metadata": {
        "id": "sLQ90HlyWq4f"
      },
      "outputs": [],
      "source": [
        "import pandas as pd\n",
        "import datetime\n",
        "from dateutil.relativedelta import relativedelta\n",
        "# for timezone()\n",
        "import pytz\n",
        "import math\n",
        "import pandas as pd\n",
        "import matplotlib.pyplot as plt\n",
        "import matplotlib.dates as mdates"
      ]
    },
    {
      "cell_type": "code",
      "source": [
        "## this is for google collab\n",
        "%matplotlib widget\n",
        "from google.colab import output\n",
        "output.enable_custom_widget_manager()"
      ],
      "metadata": {
        "id": "sBMwOfFxmhs4"
      },
      "execution_count": 28,
      "outputs": []
    },
    {
      "cell_type": "code",
      "source": [
        "THE_URL = ('https://query1.finance.yahoo.com/v7/finance/'+\n",
        "           'download/{ticker}?period1={period1}&period2={period2}&interval=1d&events=history&includeAdjustedClose=true')"
      ],
      "metadata": {
        "id": "Ls4KbWlHWsri"
      },
      "execution_count": 4,
      "outputs": []
    },
    {
      "cell_type": "code",
      "source": [
        "# d = datetime.datetime(2022, 12, 25)\n",
        "tdy = datetime.datetime.now(tz=pytz.timezone('Asia/Jakarta'))\n",
        "\n",
        "p2 = math.ceil(tdy.timestamp())\n",
        "p1 = math.floor((tdy - relativedelta(years=3)).timestamp())"
      ],
      "metadata": {
        "id": "_fe84GXtYBmY"
      },
      "execution_count": 5,
      "outputs": []
    },
    {
      "cell_type": "code",
      "source": [
        "the_ticker = input('Ticker:')\n",
        "\n",
        "yf_url = THE_URL.format(ticker=the_ticker,period1=p1, period2=p2)\n",
        "df = pd.read_csv(yf_url)"
      ],
      "metadata": {
        "id": "pe-Kg2Hke0lp"
      },
      "execution_count": null,
      "outputs": []
    },
    {
      "cell_type": "code",
      "source": [
        "df.head()"
      ],
      "metadata": {
        "id": "LDzZME3RebUc"
      },
      "execution_count": null,
      "outputs": []
    },
    {
      "cell_type": "code",
      "source": [
        "%matplotlib inline\n",
        "output.disable_custom_widget_manager()"
      ],
      "metadata": {
        "id": "BzObO60Jpx5I"
      },
      "execution_count": 32,
      "outputs": []
    },
    {
      "cell_type": "code",
      "source": [
        "#plt.gca().xaxis.set_major_formatter(mdates.DateFormatter('%Y-%m-%d'))\n",
        "plt.gca().xaxis.set_major_locator(mdates.DayLocator(interval=95))\n",
        "\n",
        "\n",
        "plt.plot(df['Date'], df['Close'])\n",
        "plt.title('Stock Price')\n",
        "plt.xlabel('Date')\n",
        "plt.ylabel('Price')\n",
        "plt.gcf().autofmt_xdate()\n",
        "plt.show()\n"
      ],
      "metadata": {
        "id": "c79zA40ofskT"
      },
      "execution_count": null,
      "outputs": []
    },
    {
      "cell_type": "code",
      "source": [],
      "metadata": {
        "id": "PMuySSCLj-mB"
      },
      "execution_count": null,
      "outputs": []
    }
  ]
}