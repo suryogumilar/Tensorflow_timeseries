{
  "nbformat": 4,
  "nbformat_minor": 0,
  "metadata": {
    "colab": {
      "provenance": [],
      "authorship_tag": "ABX9TyNy168pvnjrUtgWWoEWhzKW"
    },
    "kernelspec": {
      "name": "python3",
      "display_name": "Python 3"
    },
    "language_info": {
      "name": "python"
    }
  },
  "cells": [
    {
      "cell_type": "markdown",
      "source": [
        "# Creating dataset for Timeseries training\n",
        "\n",
        "https://www.tensorflow.org/tutorials/load_data/pandas_dataframe"
      ],
      "metadata": {
        "id": "gJnpvpyRN-n7"
      }
    },
    {
      "cell_type": "code",
      "execution_count": 1,
      "metadata": {
        "id": "30_GB714FQ3M"
      },
      "outputs": [],
      "source": [
        "\n",
        "import tensorflow as tf\n",
        "import numpy as np\n",
        "import pandas as pd\n",
        "import datetime\n",
        "from dateutil.relativedelta import relativedelta\n",
        "# for timezone()\n",
        "import pytz\n",
        "import math\n",
        "import matplotlib.pyplot as plt\n",
        "import matplotlib.dates as mdates"
      ]
    },
    {
      "cell_type": "code",
      "source": [
        "def plot_series(time, series, format=\"-\", start=0, end=None, interval=95):\n",
        "    \"\"\"\n",
        "    Visualizes time series data\n",
        "\n",
        "    Args:\n",
        "      time (array of int) - contains the time steps\n",
        "      series (array of int) - contains the measurements for each time step\n",
        "      format - line style when plotting the graph\n",
        "      label - tag for the line\n",
        "      start - first time step to plot\n",
        "      end - last time step to plot\n",
        "    \"\"\"\n",
        "    \n",
        "    # Setup dimensions of the graph figure\n",
        "    figure = plt.figure(figsize=(10, 6))\n",
        "   \n",
        "    if type(series) is tuple:\n",
        "\n",
        "      for series_num in series:\n",
        "        # Plot the time series data\n",
        "        plt.plot(time[start:end], series_num[start:end], format)\n",
        "\n",
        "    else:\n",
        "      # Plot the time series data\n",
        "      plt.plot(time[start:end], series[start:end], format)\n",
        "\n",
        "    # Label the x-axis\n",
        "    plt.xlabel(\"Time\")\n",
        "\n",
        "    # Label the y-axis\n",
        "    plt.ylabel(\"Value\")\n",
        "\n",
        "    # Overlay a grid on the graph\n",
        "    plt.grid(True)\n",
        "\n",
        "    # Draw the graph on screen\n",
        "    plt.gca().xaxis.set_major_formatter(mdates.DateFormatter('%Y-%m-%d'))\n",
        "    plt.gca().xaxis.set_major_locator(mdates.DayLocator(interval=interval))\n",
        "\n",
        "    plt.gcf().autofmt_xdate()\n",
        "    plt.show()"
      ],
      "metadata": {
        "id": "6kBQrlBBK6yj"
      },
      "execution_count": 2,
      "outputs": []
    },
    {
      "cell_type": "code",
      "source": [
        "\n",
        "def getStockData(history_span, the_ticker):\n",
        "  THE_URL = ('https://query1.finance.yahoo.com/v7/finance/'+\n",
        "           'download/{ticker}?period1={period1}&period2={period2}&interval=1d&events=history&includeAdjustedClose=true')\n",
        "  tdy = datetime.datetime.now(tz=pytz.timezone('Asia/Jakarta'))\n",
        "\n",
        "  p2 = math.ceil(tdy.timestamp())\n",
        "  p1 = math.floor((tdy - relativedelta(years=history_span)).timestamp())\n",
        "  yf_url = THE_URL.format(ticker=the_ticker,period1=p1, period2=p2)\n",
        "  df = pd.read_csv(yf_url)\n",
        "  df['Date'] = pd.to_datetime(df['Date'], format='%Y-%m-%d')\n",
        "  return df"
      ],
      "metadata": {
        "id": "kcQxE2AQJcbz"
      },
      "execution_count": 3,
      "outputs": []
    },
    {
      "cell_type": "code",
      "source": [
        "ticker_name = input('input ticker name:')\n",
        "historical_span = int(input('input historical years:'))\n",
        "\n"
      ],
      "metadata": {
        "id": "2zx6ppZEJhku"
      },
      "execution_count": null,
      "outputs": []
    },
    {
      "cell_type": "code",
      "source": [
        "df = getStockData(historical_span, ticker_name)"
      ],
      "metadata": {
        "id": "B6V-8CYiJ1MK"
      },
      "execution_count": 18,
      "outputs": []
    },
    {
      "cell_type": "code",
      "source": [
        "df.dtypes"
      ],
      "metadata": {
        "colab": {
          "base_uri": "https://localhost:8080/"
        },
        "id": "nJpq7TM3J_eL",
        "outputId": "27a61781-f0b1-4bcc-ec89-a0ff6d76ef09"
      },
      "execution_count": 6,
      "outputs": [
        {
          "output_type": "execute_result",
          "data": {
            "text/plain": [
              "Date         datetime64[ns]\n",
              "Open                float64\n",
              "High                float64\n",
              "Low                 float64\n",
              "Close               float64\n",
              "Adj Close           float64\n",
              "Volume                int64\n",
              "dtype: object"
            ]
          },
          "metadata": {},
          "execution_count": 6
        }
      ]
    },
    {
      "cell_type": "markdown",
      "source": [
        "## Convert to Tensor (Eager Tensor)"
      ],
      "metadata": {
        "id": "YLAPe-Y1PA5z"
      }
    },
    {
      "cell_type": "code",
      "source": [
        "df_close = df['Close']\n",
        "ds_close = tf.convert_to_tensor(df_close)\n",
        "print(type(ds_close))"
      ],
      "metadata": {
        "colab": {
          "base_uri": "https://localhost:8080/"
        },
        "id": "cBy8zWNrKORH",
        "outputId": "4a13dfbc-9086-4ba0-84f4-5191075de8e0"
      },
      "execution_count": 7,
      "outputs": [
        {
          "output_type": "stream",
          "name": "stdout",
          "text": [
            "<class 'tensorflow.python.framework.ops.EagerTensor'>\n"
          ]
        }
      ]
    },
    {
      "cell_type": "code",
      "source": [
        "plot_series(df['Date'], ds_close)"
      ],
      "metadata": {
        "colab": {
          "base_uri": "https://localhost:8080/",
          "height": 383
        },
        "id": "5ytUNpSlKhmo",
        "outputId": "f40d324d-ca40-447c-8a6c-61c367c474e7"
      },
      "execution_count": 8,
      "outputs": [
        {
          "output_type": "display_data",
          "data": {
            "text/plain": [
              "<Figure size 720x432 with 1 Axes>"
            ],
            "image/png": "[encoded data removed]"
          },
          "metadata": {
            "needs_background": "light"
          }
        }
      ]
    },
    {
      "cell_type": "code",
      "source": [
        "plot_series(df['Date'], df_close)"
      ],
      "metadata": {
        "colab": {
          "base_uri": "https://localhost:8080/",
          "height": 383
        },
        "id": "NQgGOg4ALEwV",
        "outputId": "aa8ca9a5-f385-43d7-b837-04a0f9d56638"
      },
      "execution_count": 9,
      "outputs": [
        {
          "output_type": "display_data",
          "data": {
            "text/plain": [
              "<Figure size 720x432 with 1 Axes>"
            ],
            "image/png": "[encoded data removed]"
          },
          "metadata": {
            "needs_background": "light"
          }
        }
      ]
    },
    {
      "cell_type": "markdown",
      "source": [
        "## Normalize"
      ],
      "metadata": {
        "id": "8Ng-Xr-GLJq5"
      }
    },
    {
      "cell_type": "code",
      "source": [
        "print(ds_close.shape)\n",
        "print(df_close.shape)\n",
        "print(df.shape)"
      ],
      "metadata": {
        "colab": {
          "base_uri": "https://localhost:8080/"
        },
        "id": "AhSxUtdqL9eB",
        "outputId": "7683ed7e-ba54-43e1-a231-c337afccd065"
      },
      "execution_count": 10,
      "outputs": [
        {
          "output_type": "stream",
          "name": "stdout",
          "text": [
            "(735,)\n",
            "(735,)\n",
            "(735, 7)\n"
          ]
        }
      ]
    },
    {
      "cell_type": "code",
      "source": [
        "df_close = df['Close']\n",
        "ds_close = tf.convert_to_tensor(df_close)\n",
        "print(ds_close.shape)\n",
        "normalizer = tf.keras.layers.Normalization(axis=None)\n",
        "normalizer.adapt(ds_close)\n",
        "ds_close_normalized = normalizer(ds_close)\n",
        "print(type(ds_close_normalized))"
      ],
      "metadata": {
        "colab": {
          "base_uri": "https://localhost:8080/"
        },
        "id": "VXJ4Sf90LKn4",
        "outputId": "0d84b474-fed0-432d-bf85-fda5b0941804"
      },
      "execution_count": 11,
      "outputs": [
        {
          "output_type": "stream",
          "name": "stdout",
          "text": [
            "(735,)\n",
            "<class 'tensorflow.python.framework.ops.EagerTensor'>\n"
          ]
        }
      ]
    },
    {
      "cell_type": "code",
      "source": [
        "plot_series(df['Date'], ds_close_normalized)"
      ],
      "metadata": {
        "colab": {
          "base_uri": "https://localhost:8080/",
          "height": 383
        },
        "id": "FzglvjN7Nlny",
        "outputId": "6c175775-4a5d-4db7-d202-19b03c60eb51"
      },
      "execution_count": 12,
      "outputs": [
        {
          "output_type": "display_data",
          "data": {
            "text/plain": [
              "<Figure size 720x432 with 1 Axes>"
            ],
            "image/png": "[encoded data removed]"
          },
          "metadata": {
            "needs_background": "light"
          }
        }
      ]
    },
    {
      "cell_type": "markdown",
      "source": [
        "## Dataset Window\n",
        "\n"
      ],
      "metadata": {
        "id": "QkmxNJHMOOam"
      }
    },
    {
      "cell_type": "markdown",
      "source": [
        "### Create dataset Window from Eager tensors"
      ],
      "metadata": {
        "id": "bjV9eC-VZa9m"
      }
    },
    {
      "cell_type": "code",
      "source": [
        "df_close = df['Close']\n",
        "ds_close = tf.convert_to_tensor(df_close)\n",
        "print(type(ds_close))"
      ],
      "metadata": {
        "colab": {
          "base_uri": "https://localhost:8080/"
        },
        "id": "hudWhNUiZeTI",
        "outputId": "ac2e2054-2f47-4ef0-b384-0015c60555a4"
      },
      "execution_count": 13,
      "outputs": [
        {
          "output_type": "stream",
          "name": "stdout",
          "text": [
            "<class 'tensorflow.python.framework.ops.EagerTensor'>\n"
          ]
        }
      ]
    },
    {
      "cell_type": "markdown",
      "source": [
        "### Create batches for training\n",
        "\n",
        "Below is standard code for creating windowed dataset\n",
        "\n",
        "Also, look at this line of code:   \n",
        "\n",
        "```python\n",
        "# Create batches of windows\n",
        "ds_close_windowd = ds_close_windowd.batch(2).prefetch(1)\n",
        "```\n",
        "\n",
        "you will want to group your windows into batches. You can do that with the [batch()](https://www.tensorflow.org/api_docs/python/tf/data/Dataset#batch) method as shown below. Simply specify the batch size and it will return a batched dataset with that number of windows. As a rule of thumb, it is also good to specify a [prefetch()](https://www.tensorflow.org/api_docs/python/tf/data/Dataset#prefetch) step. This optimizes the execution time when the model is already training. By specifying a prefetch `buffer_size` of `1` as shown below, Tensorflow will prepare the next one batch in advance (i.e. putting it in a buffer) while the current batch is being consumed by the model. You can read more about it [here](https://towardsdatascience.com/optimising-your-input-pipeline-performance-with-tf-data-part-1-32e52a30cac4#Prefetching)."
      ],
      "metadata": {
        "id": "QTIWghu-Ydfg"
      }
    },
    {
      "cell_type": "code",
      "source": [
        "df_close = df['Close']\n",
        "ds_close = tf.convert_to_tensor(df_close)\n",
        "\n",
        "\n",
        "# Window the data but only take those with the specified size\n",
        "ds_close = tf.data.Dataset.from_tensor_slices(ds_close)\n",
        "print(type(ds_close))\n",
        "print(df['Close'][:10])\n",
        "\n",
        "ds_close_windowd = ds_close.window(5, shift=1, drop_remainder=True)\n",
        "\n",
        "\n",
        "\n",
        "# Print the result\n",
        "ii = 0\n",
        "print('Windowed:')\n",
        "print(type(ds_close_windowd))\n",
        "for window_dataset in ds_close_windowd:\n",
        "  print([item.numpy() for item in window_dataset])\n",
        "  if(ii>5):\n",
        "    break\n",
        "  ii = ii+1\n",
        "\n",
        "# Flatten the windows by putting its elements in a single batch\n",
        "ds_close_windowd = ds_close_windowd.flat_map(lambda window: window.batch(5))\n",
        "\n",
        "\n",
        "ii = 0\n",
        "print()\n",
        "print('Flat mapped:')\n",
        "print(type(ds_close_windowd))\n",
        "for window_dataset in ds_close_windowd:\n",
        "  print([item.numpy() for item in window_dataset])\n",
        "  if(ii>5):\n",
        "    break\n",
        "  ii = ii+1\n",
        "\n",
        "# Create tuples with features (first four elements of the window) and labels (last element)\n",
        "ds_close_windowd = ds_close_windowd.map(lambda window: (window[:-1], window[-1]))\n",
        "\n",
        "ii = 0\n",
        "print()\n",
        "print('Labelled:')\n",
        "print(type(ds_close_windowd))\n",
        "for window_dataset in ds_close_windowd:\n",
        "  print([item.numpy() for item in window_dataset])\n",
        "  if(ii>5):\n",
        "    break\n",
        "  ii = ii+1\n",
        "\n",
        "# Shuffle the windows\n",
        "ds_close_windowd = ds_close_windowd.shuffle(buffer_size=10)\n",
        "\n",
        "# Print the results\n",
        "print()\n",
        "print('Shuffled:')\n",
        "print(type(ds_close_windowd))\n",
        "ii = 0\n",
        "for x,y in ds_close_windowd:\n",
        "  print(\"x = \", x.numpy())\n",
        "  print(\"y = \", y.numpy())\n",
        "  print()\n",
        "  if(ii>4):\n",
        "    break\n",
        "  ii = ii+1 \n",
        "\n",
        "# Create batches of windows\n",
        "ds_close_windowd = ds_close_windowd.batch(2).prefetch(1)\n",
        "\n",
        "# Print the results\n",
        "ii = 0\n",
        "print()\n",
        "print('batched:')\n",
        "print(type(ds_close_windowd))\n",
        "for x,y in ds_close_windowd:\n",
        "  print(\"x = \", x.numpy())\n",
        "  print(\"y = \", y.numpy())\n",
        "  print()\n",
        "  if(ii>4):\n",
        "    break\n",
        "  ii = ii+1  \n"
      ],
      "metadata": {
        "colab": {
          "base_uri": "https://localhost:8080/"
        },
        "id": "1-IFt38pZi-b",
        "outputId": "e41ed2a1-8c7b-4839-da99-e4447f1ef2f0"
      },
      "execution_count": 14,
      "outputs": [
        {
          "output_type": "stream",
          "name": "stderr",
          "text": [
            "WARNING:tensorflow:From /usr/local/lib/python3.8/dist-packages/tensorflow/python/autograph/pyct/static_analysis/liveness.py:83: Analyzer.lamba_check (from tensorflow.python.autograph.pyct.static_analysis.liveness) is deprecated and will be removed after 2023-09-23.\n",
            "Instructions for updating:\n",
            "Lambda fuctions will be no more assumed to be used in the statement where they are used, or at least in the same block. https://github.com/tensorflow/tensorflow/issues/56089\n"
          ]
        },
        {
          "output_type": "stream",
          "name": "stdout",
          "text": [
            "<class 'tensorflow.python.data.ops.from_tensor_slices_op.TensorSliceDataset'>\n",
            "0    3630.0\n",
            "1    3690.0\n",
            "2    3640.0\n",
            "3    3590.0\n",
            "4    3510.0\n",
            "5    3470.0\n",
            "6    3490.0\n",
            "7    3440.0\n",
            "8    3620.0\n",
            "9    3830.0\n",
            "Name: Close, dtype: float64\n",
            "Windowed:\n",
            "<class 'tensorflow.python.data.ops.dataset_ops.WindowDataset'>\n",
            "[3630.0, 3690.0, 3640.0, 3590.0, 3510.0]\n",
            "[3690.0, 3640.0, 3590.0, 3510.0, 3470.0]\n",
            "[3640.0, 3590.0, 3510.0, 3470.0, 3490.0]\n",
            "[3590.0, 3510.0, 3470.0, 3490.0, 3440.0]\n",
            "[3510.0, 3470.0, 3490.0, 3440.0, 3620.0]\n",
            "[3470.0, 3490.0, 3440.0, 3620.0, 3830.0]\n",
            "[3490.0, 3440.0, 3620.0, 3830.0, 3830.0]\n",
            "\n",
            "Flat mapped:\n",
            "<class 'tensorflow.python.data.ops.dataset_ops.FlatMapDataset'>\n",
            "[3630.0, 3690.0, 3640.0, 3590.0, 3510.0]\n",
            "[3690.0, 3640.0, 3590.0, 3510.0, 3470.0]\n",
            "[3640.0, 3590.0, 3510.0, 3470.0, 3490.0]\n",
            "[3590.0, 3510.0, 3470.0, 3490.0, 3440.0]\n",
            "[3510.0, 3470.0, 3490.0, 3440.0, 3620.0]\n",
            "[3470.0, 3490.0, 3440.0, 3620.0, 3830.0]\n",
            "[3490.0, 3440.0, 3620.0, 3830.0, 3830.0]\n",
            "\n",
            "Labelled:\n",
            "<class 'tensorflow.python.data.ops.dataset_ops.MapDataset'>\n",
            "[array([3630., 3690., 3640., 3590.]), 3510.0]\n",
            "[array([3690., 3640., 3590., 3510.]), 3470.0]\n",
            "[array([3640., 3590., 3510., 3470.]), 3490.0]\n",
            "[array([3590., 3510., 3470., 3490.]), 3440.0]\n",
            "[array([3510., 3470., 3490., 3440.]), 3620.0]\n",
            "[array([3470., 3490., 3440., 3620.]), 3830.0]\n",
            "[array([3490., 3440., 3620., 3830.]), 3830.0]\n",
            "\n",
            "Shuffled:\n",
            "<class 'tensorflow.python.data.ops.dataset_ops.ShuffleDataset'>\n",
            "x =  [3690. 3640. 3590. 3510.]\n",
            "y =  3470.0\n",
            "\n",
            "x =  [3590. 3510. 3470. 3490.]\n",
            "y =  3440.0\n",
            "\n",
            "x =  [3750. 3500. 3490. 3400.]\n",
            "y =  3310.0\n",
            "\n",
            "x =  [3490. 3440. 3620. 3830.]\n",
            "y =  3830.0\n",
            "\n",
            "x =  [3630. 3690. 3640. 3590.]\n",
            "y =  3510.0\n",
            "\n",
            "x =  [3830. 3750. 3500. 3490.]\n",
            "y =  3400.0\n",
            "\n",
            "\n",
            "batched:\n",
            "<class 'tensorflow.python.data.ops.dataset_ops.PrefetchDataset'>\n",
            "x =  [[3490. 3440. 3620. 3830.]\n",
            " [3510. 3470. 3490. 3440.]]\n",
            "y =  [3830. 3620.]\n",
            "\n",
            "x =  [[3620. 3830. 3830. 3750.]\n",
            " [3750. 3500. 3490. 3400.]]\n",
            "y =  [3500. 3310.]\n",
            "\n",
            "x =  [[3830. 3750. 3500. 3490.]\n",
            " [3630. 3690. 3640. 3590.]]\n",
            "y =  [3400. 3510.]\n",
            "\n",
            "x =  [[3470. 3490. 3440. 3620.]\n",
            " [3310. 3160. 2940. 2810.]]\n",
            "y =  [3830. 2620.]\n",
            "\n",
            "x =  [[3160. 2940. 2810. 2620.]\n",
            " [3400. 3310. 3310. 3160.]]\n",
            "y =  [2880. 2940.]\n",
            "\n",
            "x =  [[3500. 3490. 3400. 3310.]\n",
            " [3310. 3310. 3160. 2940.]]\n",
            "y =  [3310. 2810.]\n",
            "\n"
          ]
        }
      ]
    },
    {
      "cell_type": "markdown",
      "source": [
        "### Create dataset window from pandas Series"
      ],
      "metadata": {
        "id": "JN5kEsR7ZYz0"
      }
    },
    {
      "cell_type": "code",
      "source": [
        "print(type(df[['Close']]))\n",
        "print(type(df['Close']))"
      ],
      "metadata": {
        "colab": {
          "base_uri": "https://localhost:8080/"
        },
        "id": "LhqsVfzvQrvw",
        "outputId": "b382bff3-0433-478c-c3ab-2e097085a85e"
      },
      "execution_count": 15,
      "outputs": [
        {
          "output_type": "stream",
          "name": "stdout",
          "text": [
            "<class 'pandas.core.frame.DataFrame'>\n",
            "<class 'pandas.core.series.Series'>\n"
          ]
        }
      ]
    },
    {
      "cell_type": "code",
      "source": [
        "df['Close'].head()"
      ],
      "metadata": {
        "colab": {
          "base_uri": "https://localhost:8080/"
        },
        "id": "si4Wrd3AVa45",
        "outputId": "970ee96d-acaf-46d0-f2e9-e4712b35a70f"
      },
      "execution_count": 16,
      "outputs": [
        {
          "output_type": "execute_result",
          "data": {
            "text/plain": [
              "0    3630.0\n",
              "1    3690.0\n",
              "2    3640.0\n",
              "3    3590.0\n",
              "4    3510.0\n",
              "Name: Close, dtype: float64"
            ]
          },
          "metadata": {},
          "execution_count": 16
        }
      ]
    },
    {
      "cell_type": "code",
      "source": [
        "# Window the data but only take those with the specified size\n",
        "ds_close = tf.data.Dataset.from_tensor_slices((df['Close']))\n",
        "print(type(ds_close))\n",
        "print(df['Close'][:10])\n",
        "\n",
        "ds_close_windowd = ds_close.window(5, shift=1, drop_remainder=True)\n",
        "\n",
        "\n",
        "# Print the result\n",
        "ii = 0\n",
        "print('Windowed:')\n",
        "print(type(ds_close_windowd))\n",
        "for window_dataset in ds_close_windowd:\n",
        "  print([item.numpy() for item in window_dataset])\n",
        "  if(ii>5):\n",
        "    break\n",
        "  ii = ii+1\n",
        "\n",
        "# Flatten the windows by putting its elements in a single batch\n",
        "ds_close_windowd = ds_close_windowd.flat_map(lambda window: window.batch(5))\n",
        "\n",
        "\n",
        "ii = 0\n",
        "print()\n",
        "print('Flat mapped:')\n",
        "print(type(ds_close_windowd))\n",
        "for window_dataset in ds_close_windowd:\n",
        "  print([item.numpy() for item in window_dataset])\n",
        "  if(ii>5):\n",
        "    break\n",
        "  ii = ii+1\n",
        "\n",
        "# Create tuples with features (first four elements of the window) and labels (last element)\n",
        "ds_close_windowd = ds_close_windowd.map(lambda window: (window[:-1], window[-1]))\n",
        "\n",
        "ii = 0\n",
        "print()\n",
        "print('Labelled:')\n",
        "print(type(ds_close_windowd))\n",
        "for window_dataset in ds_close_windowd:\n",
        "  print([item.numpy() for item in window_dataset])\n",
        "  if(ii>5):\n",
        "    break\n",
        "  ii = ii+1\n",
        "\n",
        "# Shuffle the windows\n",
        "ds_close_windowd = ds_close_windowd.shuffle(buffer_size=10)\n",
        "\n",
        "# Print the results\n",
        "print()\n",
        "print('Shuffled:')\n",
        "print(type(ds_close_windowd))\n",
        "ii = 0\n",
        "for x,y in ds_close_windowd:\n",
        "  print(\"x = \", x.numpy())\n",
        "  print(\"y = \", y.numpy())\n",
        "  print()\n",
        "  if(ii>4):\n",
        "    break\n",
        "  ii = ii+1 \n",
        "\n",
        "# Create batches of windows\n",
        "ds_close_windowd = ds_close_windowd.batch(2).prefetch(1)\n",
        "\n",
        "# Print the results\n",
        "ii = 0\n",
        "print()\n",
        "print('batched:')\n",
        "print(type(ds_close_windowd))\n",
        "for x,y in ds_close_windowd:\n",
        "  print(\"x = \", x.numpy())\n",
        "  print(\"y = \", y.numpy())\n",
        "  print()\n",
        "  if(ii>4):\n",
        "    break\n",
        "  ii = ii+1  \n"
      ],
      "metadata": {
        "colab": {
          "base_uri": "https://localhost:8080/"
        },
        "id": "mgfTlFR4OIjz",
        "outputId": "a36707a7-d9a7-4930-99fe-d805c7269729"
      },
      "execution_count": 17,
      "outputs": [
        {
          "output_type": "stream",
          "name": "stdout",
          "text": [
            "<class 'tensorflow.python.data.ops.from_tensor_slices_op.TensorSliceDataset'>\n",
            "0    3630.0\n",
            "1    3690.0\n",
            "2    3640.0\n",
            "3    3590.0\n",
            "4    3510.0\n",
            "5    3470.0\n",
            "6    3490.0\n",
            "7    3440.0\n",
            "8    3620.0\n",
            "9    3830.0\n",
            "Name: Close, dtype: float64\n",
            "Windowed:\n",
            "<class 'tensorflow.python.data.ops.dataset_ops.WindowDataset'>\n",
            "[3630.0, 3690.0, 3640.0, 3590.0, 3510.0]\n",
            "[3690.0, 3640.0, 3590.0, 3510.0, 3470.0]\n",
            "[3640.0, 3590.0, 3510.0, 3470.0, 3490.0]\n",
            "[3590.0, 3510.0, 3470.0, 3490.0, 3440.0]\n",
            "[3510.0, 3470.0, 3490.0, 3440.0, 3620.0]\n",
            "[3470.0, 3490.0, 3440.0, 3620.0, 3830.0]\n",
            "[3490.0, 3440.0, 3620.0, 3830.0, 3830.0]\n",
            "\n",
            "Flat mapped:\n",
            "<class 'tensorflow.python.data.ops.dataset_ops.FlatMapDataset'>\n",
            "[3630.0, 3690.0, 3640.0, 3590.0, 3510.0]\n",
            "[3690.0, 3640.0, 3590.0, 3510.0, 3470.0]\n",
            "[3640.0, 3590.0, 3510.0, 3470.0, 3490.0]\n",
            "[3590.0, 3510.0, 3470.0, 3490.0, 3440.0]\n",
            "[3510.0, 3470.0, 3490.0, 3440.0, 3620.0]\n",
            "[3470.0, 3490.0, 3440.0, 3620.0, 3830.0]\n",
            "[3490.0, 3440.0, 3620.0, 3830.0, 3830.0]\n",
            "\n",
            "Labelled:\n",
            "<class 'tensorflow.python.data.ops.dataset_ops.MapDataset'>\n",
            "[array([3630., 3690., 3640., 3590.]), 3510.0]\n",
            "[array([3690., 3640., 3590., 3510.]), 3470.0]\n",
            "[array([3640., 3590., 3510., 3470.]), 3490.0]\n",
            "[array([3590., 3510., 3470., 3490.]), 3440.0]\n",
            "[array([3510., 3470., 3490., 3440.]), 3620.0]\n",
            "[array([3470., 3490., 3440., 3620.]), 3830.0]\n",
            "[array([3490., 3440., 3620., 3830.]), 3830.0]\n",
            "\n",
            "Shuffled:\n",
            "<class 'tensorflow.python.data.ops.dataset_ops.ShuffleDataset'>\n",
            "x =  [3470. 3490. 3440. 3620.]\n",
            "y =  3830.0\n",
            "\n",
            "x =  [3690. 3640. 3590. 3510.]\n",
            "y =  3470.0\n",
            "\n",
            "x =  [3490. 3440. 3620. 3830.]\n",
            "y =  3830.0\n",
            "\n",
            "x =  [3590. 3510. 3470. 3490.]\n",
            "y =  3440.0\n",
            "\n",
            "x =  [3640. 3590. 3510. 3470.]\n",
            "y =  3490.0\n",
            "\n",
            "x =  [3510. 3470. 3490. 3440.]\n",
            "y =  3620.0\n",
            "\n",
            "\n",
            "batched:\n",
            "<class 'tensorflow.python.data.ops.dataset_ops.PrefetchDataset'>\n",
            "x =  [[3470. 3490. 3440. 3620.]\n",
            " [3640. 3590. 3510. 3470.]]\n",
            "y =  [3830. 3490.]\n",
            "\n",
            "x =  [[3590. 3510. 3470. 3490.]\n",
            " [3510. 3470. 3490. 3440.]]\n",
            "y =  [3440. 3620.]\n",
            "\n",
            "x =  [[3490. 3400. 3310. 3310.]\n",
            " [3490. 3440. 3620. 3830.]]\n",
            "y =  [3160. 3830.]\n",
            "\n",
            "x =  [[3310. 3310. 3160. 2940.]\n",
            " [3440. 3620. 3830. 3830.]]\n",
            "y =  [2810. 3750.]\n",
            "\n",
            "x =  [[3830. 3750. 3500. 3490.]\n",
            " [3160. 2940. 2810. 2620.]]\n",
            "y =  [3400. 2880.]\n",
            "\n",
            "x =  [[3400. 3310. 3310. 3160.]\n",
            " [2810. 2620. 2880. 2680.]]\n",
            "y =  [2940. 2620.]\n",
            "\n"
          ]
        }
      ]
    }
  ]
}