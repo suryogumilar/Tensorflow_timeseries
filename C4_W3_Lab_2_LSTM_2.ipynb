{
  "nbformat": 4,
  "nbformat_minor": 0,
  "metadata": {
    "colab": {
      "provenance": [],
      "authorship_tag": "ABX9TyOjY0I+3mD4sIYBGNi4Xrn3",
      "include_colab_link": true
    },
    "kernelspec": {
      "name": "python3",
      "display_name": "Python 3"
    },
    "language_info": {
      "name": "python"
    }
  },
  "cells": [
    {
      "cell_type": "markdown",
      "metadata": {
        "id": "view-in-github",
        "colab_type": "text"
      },
      "source": [
        "<a href=\"https://colab.research.google.com/github/suryogumilar/Tensorflow_timeseries/blob/main/C4_W3_Lab_2_LSTM_2.ipynb\" target=\"_parent\"><img src=\"https://colab.research.google.com/assets/colab-badge.svg\" alt=\"Open In Colab\"/></a>"
      ]
    },
    {
      "cell_type": "markdown",
      "source": [
        "# Using a multi-layer LSTM for forecasting\n",
        "\n",
        "without `tf.function`, `tf.function(reduce_retracing=True)` and try using multivariate input\n"
      ],
      "metadata": {
        "id": "_A0oROHqb2UV"
      }
    },
    {
      "cell_type": "code",
      "execution_count": null,
      "metadata": {
        "id": "-BBtU_qAbxAZ"
      },
      "outputs": [],
      "source": [
        "import tensorflow as tf\n",
        "import numpy as np\n",
        "import pandas as pd\n",
        "import datetime\n",
        "from dateutil.relativedelta import relativedelta\n",
        "# for timezone()\n",
        "import pytz\n",
        "import math\n",
        "import matplotlib.pyplot as plt\n",
        "import matplotlib.dates as mdates\n",
        "import plotly.graph_objects as go\n",
        "from IPython.display import clear_output\n",
        "import random\n",
        "import os\n",
        "from sklearn.preprocessing import MinMaxScaler"
      ]
    },
    {
      "cell_type": "markdown",
      "source": [
        "## Function\n",
        "\n",
        "### Plot functions"
      ],
      "metadata": {
        "id": "OYwp-dWlcZzT"
      }
    },
    {
      "cell_type": "code",
      "source": [
        "def plot_series(time, series, format=\"-\", start=0, end=None):\n",
        "    \"\"\"\n",
        "    Visualizes time series data\n",
        "\n",
        "    Args:\n",
        "      time (array of int) - contains the time steps\n",
        "      series (array of int) - contains the measurements for each time step\n",
        "      format - line style when plotting the graph\n",
        "      label - tag for the line\n",
        "      start - first time step to plot\n",
        "      end - last time step to plot\n",
        "    \"\"\"\n",
        "\n",
        "    # Setup dimensions of the graph figure\n",
        "    plt.figure(figsize=(10, 6))\n",
        "    \n",
        "    if type(series) is tuple:\n",
        "\n",
        "      for series_num in series:\n",
        "        # Plot the time series data\n",
        "        plt.plot(time[start:end], series_num[start:end], format)\n",
        "\n",
        "    else:\n",
        "      # Plot the time series data\n",
        "      plt.plot(time[start:end], series[start:end], format)\n",
        "\n",
        "    # Label the x-axis\n",
        "    plt.xlabel(\"Time\")\n",
        "\n",
        "    # Label the y-axis\n",
        "    plt.ylabel(\"Value\")\n",
        "\n",
        "    # Overlay a grid on the graph\n",
        "    plt.grid(True)\n",
        "\n",
        "    # Draw the graph on screen\n",
        "    plt.show()"
      ],
      "metadata": {
        "id": "xIeVJr26cW_D"
      },
      "execution_count": null,
      "outputs": []
    },
    {
      "cell_type": "code",
      "source": [
        "def plot_series_plotly(time, series, series_name=None, \n",
        "                       figure_title='', showlegend=False, \n",
        "                       start=0, end=None,\n",
        "                       xaxis_title=\"Time\",\n",
        "                       yaxis_title=\"Value\"):\n",
        "    \"\"\"\n",
        "    Visualizes time series data but using plotly for interactive graph\n",
        "\n",
        "    Args:\n",
        "      time (array of int) - contains the time steps\n",
        "      series (array of int) - contains the measurements for each time step\n",
        "      series_name (array of string) - contains correlative name of each series\n",
        "      format - line style when plotting the graph\n",
        "      label - tag for the line\n",
        "      start - first time step to plot\n",
        "      end - last time step to plot\n",
        "    \"\"\"\n",
        "    fig = go.Figure()\n",
        "    # Setup dimensions of the graph figure\n",
        "    \n",
        "    if type(series) is tuple:\n",
        "      ii = 0\n",
        "      for series_num in series:\n",
        "        # Plot the time series data\n",
        "        fig.add_trace(go.Scatter(x=time[start:end],\n",
        "                                 y=series_num[start:end], mode='lines',\n",
        "                                 name=series_name[ii]))  \n",
        "        ii = ii+1\n",
        "    else:\n",
        "      # Plot the time series data\n",
        "      fig.add_trace(go.Scatter(x=time[start:end],\n",
        "                                 y=series[start:end], mode='lines'))\n",
        "\n",
        "    fig.update_layout(title=figure_title, xaxis_title=xaxis_title, \n",
        "                      yaxis_title=yaxis_title,\n",
        "                      autosize=False,\n",
        "                      width=600,\n",
        "                      height=600,\n",
        "                      margin=dict(\n",
        "                        l=50,\n",
        "                        r=50,\n",
        "                        b=100,\n",
        "                        t=100,\n",
        "                        pad=4\n",
        "                        ), paper_bgcolor=\"LightSteelBlue\"\n",
        "                        , showlegend=showlegend\n",
        "                      )\n",
        "    fig.show()"
      ],
      "metadata": {
        "id": "UxDMMV6gcl9j"
      },
      "execution_count": null,
      "outputs": []
    },
    {
      "cell_type": "code",
      "source": [
        "def plot_candlesticks(df, figure_title='', showlegend=False):\n",
        "  fig = go.Figure(data= [go.Candlestick(x=df['Date'],\n",
        "                             open=df['Open'],\n",
        "                             high=df['High'],\n",
        "                             low=df['Low'],\n",
        "                             close=df['Close']\n",
        "                             )])\n",
        "  fig.update_layout(title=figure_title, xaxis_title=\"Time\", yaxis_title=\"Value\",\n",
        "                    autosize=False,\n",
        "                    width=600,\n",
        "                    height=600,\n",
        "                    margin=dict(\n",
        "                        l=50,\n",
        "                        r=50,\n",
        "                        b=100,\n",
        "                        t=100,\n",
        "                        pad=4\n",
        "                    ),\n",
        "                    paper_bgcolor=\"LightSteelBlue\", showlegend=showlegend\n",
        "                  )\n",
        "  fig.show()"
      ],
      "metadata": {
        "id": "GTzQIlXNcoNl"
      },
      "execution_count": null,
      "outputs": []
    },
    {
      "cell_type": "code",
      "source": [
        "def plot_loss_inlog(history, epoch_value, lrs_value=1e-8, \n",
        "                    x_boundary1=1e-8, x_boundary2=1e-3,\n",
        "                    y_boundary1=0, y_boundary2=50):\n",
        "  \"\"\"\n",
        "  plot loss value after training in logaritmic scale\n",
        "\n",
        "  Parameters:\n",
        "    lrs_value: learning rate value that passed to LearningRateScheduler function\n",
        "  \"\"\"\n",
        "  # Define the learning rate array\n",
        "  lrs = lrs_value * (10 ** (np.arange(epoch_value) / 20))\n",
        "\n",
        "  # Set the figure size\n",
        "  plt.figure(figsize=(10, 6))\n",
        "\n",
        "  # Set the grid\n",
        "  plt.grid(True)\n",
        "\n",
        "  # Plot the loss in log scale\n",
        "  plt.semilogx(lrs, history.history[\"loss\"])\n",
        "\n",
        "  # Increase the tickmarks size\n",
        "  plt.tick_params('both', length=10, width=1, which='both')\n",
        "\n",
        "  # Set the plot boundaries\n",
        "  plt.axis([x_boundary1, x_boundary2, \n",
        "            y_boundary1, y_boundary2])"
      ],
      "metadata": {
        "id": "F95_dMcDcr_v"
      },
      "execution_count": null,
      "outputs": []
    },
    {
      "cell_type": "code",
      "source": [
        "def plot_loss_inlog_plotly(history, epoch_value, lrs_value=1e-8,\n",
        "                           figure_title='Loss value', showlegend=False):\n",
        "  \"\"\"\n",
        "  plot loss value after training in logaritmic scale\n",
        "\n",
        "  Parameters:\n",
        "    lrs_value: learning rate value that passed to LearningRateScheduler function\n",
        "  \"\"\"\n",
        "  # Define the learning rate array\n",
        "  lrs = lrs_value * (10 ** (np.arange(epoch_value) / 20))\n",
        "  fig = go.Figure()\n",
        "  fig.add_trace(go.Scatter(x=lrs,\n",
        "                           y=history.history['loss'], mode='lines'))\n",
        "  fig.update_xaxes(title_text=\"learning rate\", type=\"log\")\n",
        "  \n",
        "  fig.update_layout(title=figure_title, xaxis_title=\"Time\", yaxis_title=\"Value\",\n",
        "                      autosize=False,\n",
        "                      width=600,\n",
        "                      height=600,\n",
        "                      margin=dict(\n",
        "                        l=50,\n",
        "                        r=50,\n",
        "                        b=100,\n",
        "                        t=100,\n",
        "                        pad=4\n",
        "                        ), paper_bgcolor=\"LightSteelBlue\"\n",
        "                        , showlegend=showlegend\n",
        "                      )\n",
        "  fig.show()"
      ],
      "metadata": {
        "id": "v4bea9SFcuSs"
      },
      "execution_count": null,
      "outputs": []
    },
    {
      "cell_type": "code",
      "source": [
        "def plot_prediction_graph(model, df, training_ds_rows,\n",
        "                          window_size, \n",
        "                          normalizer_univar, denormalizer_univar,\n",
        "                          variable_names='Close'):\n",
        "  # Initialize a list\n",
        "  forecast = []\n",
        "  dataset_to_forecast = df[variable_names].iloc[training_ds_rows-window_size:]\n",
        "  dateset_to_forecast_normalized = normalizer_univar(dataset_to_forecast)\n",
        "  for time in range(dateset_to_forecast_normalized.shape[0] - window_size):\n",
        "    the_prediction = model.predict(\n",
        "        np.expand_dims(dateset_to_forecast_normalized[time:time + window_size], \n",
        "                      axis=0), \n",
        "        verbose=0)\n",
        "    the_prediction_denorm = denormalizer_univar(the_prediction)\n",
        "    forecast.append(the_prediction_denorm)\n",
        "    \n",
        "  # Convert to a numpy array and drop single dimensional axes\n",
        "  results = np.array(forecast).squeeze()\n",
        "\n",
        "  # Overlay the results with the validation set\n",
        "  test_set = tf.convert_to_tensor(df[training_ds_rows:][variable_names])\n",
        "  plot_series(df_test['Date'], (test_set, results) )\n",
        "  return (test_set, results)"
      ],
      "metadata": {
        "id": "ZxT0VbticwIe"
      },
      "execution_count": null,
      "outputs": []
    },
    {
      "cell_type": "code",
      "source": [
        "def plot_prediction_graph_plotly(model, df, training_ds_rows, \n",
        "                          window_size, normalizer_univar, denormalizer_univar,\n",
        "                          scaler=None,\n",
        "                          variable_names='Close',\n",
        "                          series_name=['test dataset', 'predicted value']):\n",
        "  # Initialize a list\n",
        "  forecast = []\n",
        "  dataset_to_forecast = df[variable_names].iloc[training_ds_rows-window_size:]\n",
        "  if(normalizer_univar is not None):\n",
        "    dateset_to_forecast_normalized = normalizer_univar(dataset_to_forecast)\n",
        "  else:\n",
        "    dateset_to_forecast_normalized = scaler.transform(dataset_to_forecast.values)\n",
        "    print('dateset_to_forecast shape:', dateset_to_forecast_normalized.shape)\n",
        "    print('expanded dateset_to_forecast shape:',\n",
        "          np.expand_dims(dateset_to_forecast_normalized[0:window_size], \n",
        "                      axis=0).shape)\n",
        "  for time in range(dateset_to_forecast_normalized.shape[0] - window_size):\n",
        "    the_prediction = model.predict(\n",
        "        np.expand_dims(dateset_to_forecast_normalized[time:time + window_size], \n",
        "                      axis=0), \n",
        "        verbose=0)\n",
        "    if(denormalizer_univar is not None):\n",
        "      the_prediction_denorm = denormalizer_univar(the_prediction)\n",
        "    else:\n",
        "      the_prediction_denorm = scaler.inverse_transform(the_prediction)\n",
        "    forecast.append(the_prediction_denorm)\n",
        "    \n",
        "  # Convert to a numpy array and drop single dimensional axes\n",
        "  print('forecast shape', np.array(forecast).shape)\n",
        "  results = np.array(forecast).squeeze()\n",
        "  print('forecast squeezed shape', results.shape)\n",
        "  # Overlay the results with the validation set\n",
        "  test_set = tf.convert_to_tensor(df[training_ds_rows:][variable_names])\n",
        "\n",
        "  plot_series_plotly(df_test['Date'], (test_set[:,-1], results[:,-1]), \n",
        "                     series_name=series_name )\n",
        "  return (test_set, results)"
      ],
      "metadata": {
        "id": "sT-thI4Nc0lt"
      },
      "execution_count": null,
      "outputs": []
    },
    {
      "cell_type": "markdown",
      "source": [
        "### function data retrieval"
      ],
      "metadata": {
        "id": "3rFmVJzMc2Zv"
      }
    },
    {
      "cell_type": "code",
      "source": [
        "def getStockData(history_span:int, the_ticker:str):\n",
        "  \"\"\"\n",
        "  Getting stock data from Yahoo Finance API\n",
        "\n",
        "  Args:\n",
        "    history_span (int) how much backdate data to be collected\n",
        "    the_ticker (string) ticker name on yahoo finance API\n",
        "  Returns:\n",
        "    Pandas dataframe (pd.DataFrame) containing stock data    \n",
        "  \"\"\"\n",
        "  THE_URL = ('https://query1.finance.yahoo.com/v7/finance/'+\n",
        "           'download/{ticker}?period1={period1}&period2={period2}&interval=1d&events=history&includeAdjustedClose=true')\n",
        "  tdy = datetime.datetime.now(tz=pytz.timezone('Asia/Jakarta'))\n",
        "\n",
        "  p2 = math.ceil(tdy.timestamp())\n",
        "  p1 = math.floor((tdy - relativedelta(years=history_span)).timestamp())\n",
        "  yf_url = THE_URL.format(ticker=the_ticker,period1=p1, period2=p2)\n",
        "  df = pd.read_csv(yf_url)\n",
        "  df['Date'] = pd.to_datetime(df['Date'], format='%Y-%m-%d')\n",
        "  return df"
      ],
      "metadata": {
        "id": "ZrihIlLEc1Fz"
      },
      "execution_count": null,
      "outputs": []
    },
    {
      "cell_type": "markdown",
      "source": [
        "### Make windowed data for time series forecasting\n"
      ],
      "metadata": {
        "id": "VS9fjL-pc6Yx"
      }
    },
    {
      "cell_type": "code",
      "source": [
        "def windowed_dataset(series, window_size, batch_size, shuffle_buffer):\n",
        "    \"\"\"Generates dataset windows\n",
        "\n",
        "    Args:\n",
        "      series (array of float) - contains the values of the time series\n",
        "      window_size (int) - the number of time steps to include in the feature\n",
        "      batch_size (int) - the batch size\n",
        "      shuffle_buffer(int) - buffer size to use for the shuffle method\n",
        "\n",
        "    Returns:\n",
        "      dataset (TF Dataset) - TF Dataset containing time windows\n",
        "    \"\"\"\n",
        "  \n",
        "    # Generate a TF Dataset from the series values\n",
        "    dataset = tf.data.Dataset.from_tensor_slices(series)\n",
        "    \n",
        "    # Window the data but only take those with the specified size\n",
        "    dataset = dataset.window(window_size + 1, shift=1, drop_remainder=True)\n",
        "    \n",
        "    # Flatten the windows by putting its elements in a single batch\n",
        "    dataset = dataset.flat_map(lambda window: window.batch(window_size + 1))\n",
        "\n",
        "    # Create tuples with features and labels \n",
        "    dataset = dataset.map(lambda window: (window[:-1], window[-1]))\n",
        "\n",
        "    # Shuffle the windows\n",
        "    dataset = dataset.shuffle(shuffle_buffer)\n",
        "    \n",
        "    # Create batches of windows\n",
        "    dataset = dataset.batch(batch_size).prefetch(1)\n",
        "    \n",
        "    return dataset"
      ],
      "metadata": {
        "id": "8Q3BfMBtc4rj"
      },
      "execution_count": null,
      "outputs": []
    },
    {
      "cell_type": "markdown",
      "source": [
        "## Tensorflow function"
      ],
      "metadata": {
        "id": "vj-qaF9Me4_Q"
      }
    },
    {
      "cell_type": "code",
      "source": [
        "def set_seed(seed: int = 42) -> None:\n",
        "  random.seed(seed)\n",
        "  np.random.seed(seed)\n",
        "  tf.random.set_seed(seed)\n",
        "  tf.experimental.numpy.random.seed(seed)\n",
        "  #tf.keras.utils.set_random_seed(seed)\n",
        "  #tf.config.experimental.enable_op_determinism()\n",
        "  try:\n",
        "    tf.set_random_seed(seed)\n",
        "  except AttributeError as ae:\n",
        "    print('INFO: tf.set_random_seed is deprecated in tf version ', tf.__version__, ' ',ae )\n",
        "  \n",
        "  # When running on the CuDNN backend, two further options must be set\n",
        "  os.environ['TF_CUDNN_DETERMINISTIC'] = '1'\n",
        "  os.environ['TF_DETERMINISTIC_OPS'] = '1'\n",
        "  # Set a fixed value for the hash seed\n",
        "  os.environ[\"PYTHONHASHSEED\"] = str(seed)\n",
        "  print(f\"Random seed set as {seed}\")"
      ],
      "metadata": {
        "id": "n2dSEES4e26l"
      },
      "execution_count": null,
      "outputs": []
    },
    {
      "cell_type": "markdown",
      "source": [
        "## get data"
      ],
      "metadata": {
        "id": "rvMzfltAe9dj"
      }
    },
    {
      "cell_type": "code",
      "source": [
        "# stock_name = str(input(\"Stock tick:\"))\n",
        "# hist_data = int(input(\"historical data (year):\"))\n",
        "\n",
        "stock_name = 'TLKM.JK'\n",
        "hist_data = 3\n",
        "     "
      ],
      "metadata": {
        "id": "xSdttEJae-ET"
      },
      "execution_count": null,
      "outputs": []
    },
    {
      "cell_type": "code",
      "source": [
        "df = getStockData(hist_data, stock_name)"
      ],
      "metadata": {
        "id": "B99cfpa8fADJ"
      },
      "execution_count": null,
      "outputs": []
    },
    {
      "cell_type": "markdown",
      "source": [
        "## Split the Dataset"
      ],
      "metadata": {
        "id": "_xivgTHgfCU2"
      }
    },
    {
      "cell_type": "code",
      "source": [
        "split_ratio = 0.8\n",
        "rows_of_dataframe = df.shape[0]\n",
        "\n",
        "training_ds_rows = round(rows_of_dataframe * split_ratio)\n",
        "test_ds_rows = round(rows_of_dataframe * (1- split_ratio))\n",
        "\n",
        "df_training = df[:training_ds_rows]\n",
        "df_test = df[training_ds_rows:]"
      ],
      "metadata": {
        "id": "kS-bAIG0fDGL"
      },
      "execution_count": null,
      "outputs": []
    },
    {
      "cell_type": "markdown",
      "source": [
        "## Normalize"
      ],
      "metadata": {
        "id": "KbXFUO-NfFs3"
      }
    },
    {
      "cell_type": "code",
      "source": [
        "training_set = tf.convert_to_tensor(df_training[['Volume','Open', 'Close']])\n",
        "print(training_set.shape)"
      ],
      "metadata": {
        "colab": {
          "base_uri": "https://localhost:8080/"
        },
        "id": "yCLAUFVhkX3E",
        "outputId": "a20f9f15-cf30-48b0-9655-396e961edc54"
      },
      "execution_count": null,
      "outputs": [
        {
          "output_type": "stream",
          "name": "stdout",
          "text": [
            "(588, 3)\n"
          ]
        }
      ]
    },
    {
      "cell_type": "code",
      "source": [
        "plot_series_plotly(df_training['Date'], (training_set[:, 0],\n",
        "                                         training_set[:, 1],\n",
        "                                         training_set[:, 2]),\n",
        "                   series_name=['Volume','Open', 'Close'], figure_title='Data Normalized')"
      ],
      "metadata": {
        "colab": {
          "base_uri": "https://localhost:8080/",
          "height": 617
        },
        "id": "jaqOeg3c6eYB",
        "outputId": "e0f447f4-21b4-4442-9bca-05252a271914"
      },
      "execution_count": null,
      "outputs": [
        {
          "output_type": "display_data",
          "data": {
            "text/html": [
              "<html>\n",
              "<head><meta charset=\"utf-8\" /></head>\n",
              "<body>\n",
              "    <div>            <script src=\"https://cdnjs.cloudflare.com/ajax/libs/mathjax/2.7.5/MathJax.js?config=TeX-AMS-MML_SVG\"></script><script type=\"text/javascript\">if (window.MathJax) {MathJax.Hub.Config({SVG: {font: \"STIX-Web\"}});}</script>                <script type=\"text/javascript\">window.PlotlyConfig = {MathJaxConfig: 'local'};</script>\n",
              "        <script src=\"https://cdn.plot.ly/plotly-2.8.3.min.js\"></script>                <div id=\"7c36601a-6acb-4df0-bbc1-ce2a65eb6fc0\" class=\"plotly-graph-div\" style=\"height:600px; width:600px;\"></div>            <script type=\"text/javascript\">                                    window.PLOTLYENV=window.PLOTLYENV || {};                                    if (document.getElementById(\"7c36601a-6acb-4df0-bbc1-ce2a65eb6fc0\")) {                    Plotly.newPlot(                        \"7c36601a-6acb-4df0-bbc1-ce2a65eb6fc0\",                        [{\"mode\":\"lines\",\"name\":\"Volume\",\"x\":[\"2020-03-04T00:00:00\",\"2020-03-05T00:00:00\",\"2020-03-06T00:00:00\",\"2020-03-09T00:00:00\",\"2020-03-10T00:00:00\",\"2020-03-11T00:00:00\",\"2020-03-12T00:00:00\",\"2020-03-13T00:00:00\",\"2020-03-16T00:00:00\",\"2020-03-17T00:00:00\",\"2020-03-18T00:00:00\",\"2020-03-19T00:00:00\",\"2020-03-20T00:00:00\",\"2020-03-23T00:00:00\",\"2020-03-24T00:00:00\",\"2020-03-26T00:00:00\",\"2020-03-27T00:00:00\",\"2020-03-30T00:00:00\",\"2020-03-31T00:00:00\",\"2020-04-01T00:00:00\",\"2020-04-02T00:00:00\",\"2020-04-03T00:00:00\",\"2020-04-06T00:00:00\",\"2020-04-07T00:00:00\",\"2020-04-08T00:00:00\",\"2020-04-09T00:00:00\",\"2020-04-13T00:00:00\",\"2020-04-14T00:00:00\",\"2020-04-15T00:00:00\",\"2020-04-16T00:00:00\",\"2020-04-17T00:00:00\",\"2020-04-20T00:00:00\",\"2020-04-21T00:00:00\",\"2020-04-22T00:00:00\",\"2020-04-23T00:00:00\",\"2020-04-24T00:00:00\",\"2020-04-27T00:00:00\",\"2020-04-28T00:00:00\",\"2020-04-29T00:00:00\",\"2020-04-30T00:00:00\",\"2020-05-04T00:00:00\",\"2020-05-05T00:00:00\",\"2020-05-06T00:00:00\",\"2020-05-08T00:00:00\",\"2020-05-11T00:00:00\",\"2020-05-12T00:00:00\",\"2020-05-13T00:00:00\",\"2020-05-14T00:00:00\",\"2020-05-15T00:00:00\",\"2020-05-18T00:00:00\",\"2020-05-19T00:00:00\",\"2020-05-20T00:00:00\",\"2020-05-26T00:00:00\",\"2020-05-27T00:00:00\",\"2020-05-28T00:00:00\",\"2020-05-29T00:00:00\",\"2020-06-02T00:00:00\",\"2020-06-03T00:00:00\",\"2020-06-04T00:00:00\",\"2020-06-05T00:00:00\",\"2020-06-08T00:00:00\",\"2020-06-09T00:00:00\",\"2020-06-10T00:00:00\",\"2020-06-11T00:00:00\",\"2020-06-12T00:00:00\",\"2020-06-15T00:00:00\",\"2020-06-16T00:00:00\",\"2020-06-17T00:00:00\",\"2020-06-18T00:00:00\",\"2020-06-19T00:00:00\",\"2020-06-22T00:00:00\",\"2020-06-23T00:00:00\",\"2020-06-24T00:00:00\",\"2020-06-25T00:00:00\",\"2020-06-26T00:00:00\",\"2020-06-29T00:00:00\",\"2020-06-30T00:00:00\",\"2020-07-01T00:00:00\",\"2020-07-02T00:00:00\",\"2020-07-03T00:00:00\",\"2020-07-06T00:00:00\",\"2020-07-07T00:00:00\",\"2020-07-08T00:00:00\",\"2020-07-09T00:00:00\",\"2020-07-10T00:00:00\",\"2020-07-13T00:00:00\",\"2020-07-14T00:00:00\",\"2020-07-15T00:00:00\",\"2020-07-16T00:00:00\",\"2020-07-17T00:00:00\",\"2020-07-20T00:00:00\",\"2020-07-21T00:00:00\",\"2020-07-22T00:00:00\",\"2020-07-23T00:00:00\",\"2020-07-24T00:00:00\",\"2020-07-27T00:00:00\",\"2020-07-28T00:00:00\",\"2020-07-29T00:00:00\",\"2020-07-30T00:00:00\",\"2020-08-03T00:00:00\",\"2020-08-04T00:00:00\",\"2020-08-05T00:00:00\",\"2020-08-06T00:00:00\",\"2020-08-07T00:00:00\",\"2020-08-10T00:00:00\",\"2020-08-11T00:00:00\",\"2020-08-12T00:00:00\",\"2020-08-13T00:00:00\",\"2020-08-14T00:00:00\",\"2020-08-18T00:00:00\",\"2020-08-19T00:00:00\",\"2020-08-24T00:00:00\",\"2020-08-25T00:00:00\",\"2020-08-26T00:00:00\",\"2020-08-27T00:00:00\",\"2020-08-28T00:00:00\",\"2020-08-31T00:00:00\",\"2020-09-01T00:00:00\",\"2020-09-02T00:00:00\",\"2020-09-03T00:00:00\",\"2020-09-04T00:00:00\",\"2020-09-07T00:00:00\",\"2020-09-08T00:00:00\",\"2020-09-09T00:00:00\",\"2020-09-10T00:00:00\",\"2020-09-11T00:00:00\",\"2020-09-14T00:00:00\",\"2020-09-15T00:00:00\",\"2020-09-16T00:00:00\",\"2020-09-17T00:00:00\",\"2020-09-18T00:00:00\",\"2020-09-21T00:00:00\",\"2020-09-22T00:00:00\",\"2020-09-23T00:00:00\",\"2020-09-24T00:00:00\",\"2020-09-25T00:00:00\",\"2020-09-28T00:00:00\",\"2020-09-29T00:00:00\",\"2020-09-30T00:00:00\",\"2020-10-01T00:00:00\",\"2020-10-02T00:00:00\",\"2020-10-05T00:00:00\",\"2020-10-06T00:00:00\",\"2020-10-07T00:00:00\",\"2020-10-08T00:00:00\",\"2020-10-09T00:00:00\",\"2020-10-12T00:00:00\",\"2020-10-13T00:00:00\",\"2020-10-14T00:00:00\",\"2020-10-15T00:00:00\",\"2020-10-16T00:00:00\",\"2020-10-19T00:00:00\",\"2020-10-20T00:00:00\",\"2020-10-21T00:00:00\",\"2020-10-22T00:00:00\",\"2020-10-23T00:00:00\",\"2020-10-26T00:00:00\",\"2020-10-27T00:00:00\",\"2020-11-02T00:00:00\",\"2020-11-03T00:00:00\",\"2020-11-04T00:00:00\",\"2020-11-05T00:00:00\",\"2020-11-06T00:00:00\",\"2020-11-09T00:00:00\",\"2020-11-10T00:00:00\",\"2020-11-11T00:00:00\",\"2020-11-12T00:00:00\",\"2020-11-13T00:00:00\",\"2020-11-16T00:00:00\",\"2020-11-17T00:00:00\",\"2020-11-18T00:00:00\",\"2020-11-19T00:00:00\",\"2020-11-20T00:00:00\",\"2020-11-23T00:00:00\",\"2020-11-24T00:00:00\",\"2020-11-25T00:00:00\",\"2020-11-26T00:00:00\",\"2020-11-27T00:00:00\",\"2020-11-30T00:00:00\",\"2020-12-01T00:00:00\",\"2020-12-02T00:00:00\",\"2020-12-03T00:00:00\",\"2020-12-04T00:00:00\",\"2020-12-07T00:00:00\",\"2020-12-08T00:00:00\",\"2020-12-10T00:00:00\",\"2020-12-11T00:00:00\",\"2020-12-14T00:00:00\",\"2020-12-15T00:00:00\",\"2020-12-16T00:00:00\",\"2020-12-17T00:00:00\",\"2020-12-18T00:00:00\",\"2020-12-21T00:00:00\",\"2020-12-22T00:00:00\",\"2020-12-23T00:00:00\",\"2020-12-28T00:00:00\",\"2020-12-29T00:00:00\",\"2020-12-30T00:00:00\",\"2021-01-04T00:00:00\",\"2021-01-05T00:00:00\",\"2021-01-06T00:00:00\",\"2021-01-07T00:00:00\",\"2021-01-08T00:00:00\",\"2021-01-11T00:00:00\",\"2021-01-12T00:00:00\",\"2021-01-13T00:00:00\",\"2021-01-14T00:00:00\",\"2021-01-15T00:00:00\",\"2021-01-18T00:00:00\",\"2021-01-19T00:00:00\",\"2021-01-20T00:00:00\",\"2021-01-21T00:00:00\",\"2021-01-22T00:00:00\",\"2021-01-25T00:00:00\",\"2021-01-26T00:00:00\",\"2021-01-27T00:00:00\",\"2021-01-28T00:00:00\",\"2021-01-29T00:00:00\",\"2021-02-01T00:00:00\",\"2021-02-02T00:00:00\",\"2021-02-03T00:00:00\",\"2021-02-04T00:00:00\",\"2021-02-05T00:00:00\",\"2021-02-08T00:00:00\",\"2021-02-09T00:00:00\",\"2021-02-10T00:00:00\",\"2021-02-11T00:00:00\",\"2021-02-15T00:00:00\",\"2021-02-16T00:00:00\",\"2021-02-17T00:00:00\",\"2021-02-18T00:00:00\",\"2021-02-19T00:00:00\",\"2021-02-22T00:00:00\",\"2021-02-23T00:00:00\",\"2021-02-24T00:00:00\",\"2021-02-25T00:00:00\",\"2021-02-26T00:00:00\",\"2021-03-01T00:00:00\",\"2021-03-02T00:00:00\",\"2021-03-03T00:00:00\",\"2021-03-04T00:00:00\",\"2021-03-05T00:00:00\",\"2021-03-08T00:00:00\",\"2021-03-09T00:00:00\",\"2021-03-10T00:00:00\",\"2021-03-12T00:00:00\",\"2021-03-15T00:00:00\",\"2021-03-16T00:00:00\",\"2021-03-17T00:00:00\",\"2021-03-18T00:00:00\",\"2021-03-19T00:00:00\",\"2021-03-22T00:00:00\",\"2021-03-23T00:00:00\",\"2021-03-24T00:00:00\",\"2021-03-25T00:00:00\",\"2021-03-26T00:00:00\",\"2021-03-29T00:00:00\",\"2021-03-30T00:00:00\",\"2021-03-31T00:00:00\",\"2021-04-01T00:00:00\",\"2021-04-05T00:00:00\",\"2021-04-06T00:00:00\",\"2021-04-07T00:00:00\",\"2021-04-08T00:00:00\",\"2021-04-09T00:00:00\",\"2021-04-12T00:00:00\",\"2021-04-13T00:00:00\",\"2021-04-14T00:00:00\",\"2021-04-15T00:00:00\",\"2021-04-16T00:00:00\",\"2021-04-19T00:00:00\",\"2021-04-20T00:00:00\",\"2021-04-21T00:00:00\",\"2021-04-22T00:00:00\",\"2021-04-23T00:00:00\",\"2021-04-26T00:00:00\",\"2021-04-27T00:00:00\",\"2021-04-28T00:00:00\",\"2021-04-29T00:00:00\",\"2021-04-30T00:00:00\",\"2021-05-03T00:00:00\",\"2021-05-04T00:00:00\",\"2021-05-05T00:00:00\",\"2021-05-06T00:00:00\",\"2021-05-07T00:00:00\",\"2021-05-10T00:00:00\",\"2021-05-11T00:00:00\",\"2021-05-17T00:00:00\",\"2021-05-18T00:00:00\",\"2021-05-19T00:00:00\",\"2021-05-20T00:00:00\",\"2021-05-21T00:00:00\",\"2021-05-24T00:00:00\",\"2021-05-25T00:00:00\",\"2021-05-27T00:00:00\",\"2021-05-28T00:00:00\",\"2021-05-31T00:00:00\",\"2021-06-02T00:00:00\",\"2021-06-03T00:00:00\",\"2021-06-04T00:00:00\",\"2021-06-07T00:00:00\",\"2021-06-08T00:00:00\",\"2021-06-09T00:00:00\",\"2021-06-10T00:00:00\",\"2021-06-11T00:00:00\",\"2021-06-14T00:00:00\",\"2021-06-15T00:00:00\",\"2021-06-16T00:00:00\",\"2021-06-17T00:00:00\",\"2021-06-18T00:00:00\",\"2021-06-21T00:00:00\",\"2021-06-22T00:00:00\",\"2021-06-23T00:00:00\",\"2021-06-24T00:00:00\",\"2021-06-25T00:00:00\",\"2021-06-28T00:00:00\",\"2021-06-29T00:00:00\",\"2021-06-30T00:00:00\",\"2021-07-01T00:00:00\",\"2021-07-02T00:00:00\",\"2021-07-05T00:00:00\",\"2021-07-06T00:00:00\",\"2021-07-07T00:00:00\",\"2021-07-08T00:00:00\",\"2021-07-09T00:00:00\",\"2021-07-12T00:00:00\",\"2021-07-13T00:00:00\",\"2021-07-14T00:00:00\",\"2021-07-15T00:00:00\",\"2021-07-16T00:00:00\",\"2021-07-19T00:00:00\",\"2021-07-21T00:00:00\",\"2021-07-22T00:00:00\",\"2021-07-23T00:00:00\",\"2021-07-26T00:00:00\",\"2021-07-27T00:00:00\",\"2021-07-28T00:00:00\",\"2021-07-29T00:00:00\",\"2021-07-30T00:00:00\",\"2021-08-02T00:00:00\",\"2021-08-03T00:00:00\",\"2021-08-04T00:00:00\",\"2021-08-05T00:00:00\",\"2021-08-06T00:00:00\",\"2021-08-09T00:00:00\",\"2021-08-10T00:00:00\",\"2021-08-12T00:00:00\",\"2021-08-13T00:00:00\",\"2021-08-16T00:00:00\",\"2021-08-18T00:00:00\",\"2021-08-19T00:00:00\",\"2021-08-20T00:00:00\",\"2021-08-23T00:00:00\",\"2021-08-24T00:00:00\",\"2021-08-25T00:00:00\",\"2021-08-26T00:00:00\",\"2021-08-27T00:00:00\",\"2021-08-30T00:00:00\",\"2021-08-31T00:00:00\",\"2021-09-01T00:00:00\",\"2021-09-02T00:00:00\",\"2021-09-03T00:00:00\",\"2021-09-06T00:00:00\",\"2021-09-07T00:00:00\",\"2021-09-08T00:00:00\",\"2021-09-09T00:00:00\",\"2021-09-10T00:00:00\",\"2021-09-13T00:00:00\",\"2021-09-14T00:00:00\",\"2021-09-15T00:00:00\",\"2021-09-16T00:00:00\",\"2021-09-17T00:00:00\",\"2021-09-20T00:00:00\",\"2021-09-21T00:00:00\",\"2021-09-22T00:00:00\",\"2021-09-23T00:00:00\",\"2021-09-24T00:00:00\",\"2021-09-27T00:00:00\",\"2021-09-28T00:00:00\",\"2021-09-29T00:00:00\",\"2021-09-30T00:00:00\",\"2021-10-01T00:00:00\",\"2021-10-04T00:00:00\",\"2021-10-05T00:00:00\",\"2021-10-06T00:00:00\",\"2021-10-07T00:00:00\",\"2021-10-08T00:00:00\",\"2021-10-11T00:00:00\",\"2021-10-12T00:00:00\",\"2021-10-13T00:00:00\",\"2021-10-14T00:00:00\",\"2021-10-15T00:00:00\",\"2021-10-18T00:00:00\",\"2021-10-19T00:00:00\",\"2021-10-21T00:00:00\",\"2021-10-22T00:00:00\",\"2021-10-25T00:00:00\",\"2021-10-26T00:00:00\",\"2021-10-27T00:00:00\",\"2021-10-28T00:00:00\",\"2021-10-29T00:00:00\",\"2021-11-01T00:00:00\",\"2021-11-02T00:00:00\",\"2021-11-03T00:00:00\",\"2021-11-04T00:00:00\",\"2021-11-05T00:00:00\",\"2021-11-08T00:00:00\",\"2021-11-09T00:00:00\",\"2021-11-10T00:00:00\",\"2021-11-11T00:00:00\",\"2021-11-12T00:00:00\",\"2021-11-15T00:00:00\",\"2021-11-16T00:00:00\",\"2021-11-17T00:00:00\",\"2021-11-18T00:00:00\",\"2021-11-19T00:00:00\",\"2021-11-22T00:00:00\",\"2021-11-23T00:00:00\",\"2021-11-24T00:00:00\",\"2021-11-25T00:00:00\",\"2021-11-26T00:00:00\",\"2021-11-29T00:00:00\",\"2021-11-30T00:00:00\",\"2021-12-01T00:00:00\",\"2021-12-02T00:00:00\",\"2021-12-03T00:00:00\",\"2021-12-06T00:00:00\",\"2021-12-07T00:00:00\",\"2021-12-08T00:00:00\",\"2021-12-09T00:00:00\",\"2021-12-10T00:00:00\",\"2021-12-13T00:00:00\",\"2021-12-14T00:00:00\",\"2021-12-15T00:00:00\",\"2021-12-16T00:00:00\",\"2021-12-17T00:00:00\",\"2021-12-20T00:00:00\",\"2021-12-21T00:00:00\",\"2021-12-22T00:00:00\",\"2021-12-23T00:00:00\",\"2021-12-24T00:00:00\",\"2021-12-27T00:00:00\",\"2021-12-28T00:00:00\",\"2021-12-29T00:00:00\",\"2021-12-30T00:00:00\",\"2022-01-03T00:00:00\",\"2022-01-04T00:00:00\",\"2022-01-05T00:00:00\",\"2022-01-06T00:00:00\",\"2022-01-07T00:00:00\",\"2022-01-10T00:00:00\",\"2022-01-11T00:00:00\",\"2022-01-12T00:00:00\",\"2022-01-13T00:00:00\",\"2022-01-14T00:00:00\",\"2022-01-17T00:00:00\",\"2022-01-18T00:00:00\",\"2022-01-19T00:00:00\",\"2022-01-20T00:00:00\",\"2022-01-21T00:00:00\",\"2022-01-24T00:00:00\",\"2022-01-25T00:00:00\",\"2022-01-26T00:00:00\",\"2022-01-27T00:00:00\",\"2022-01-28T00:00:00\",\"2022-01-31T00:00:00\",\"2022-02-02T00:00:00\",\"2022-02-03T00:00:00\",\"2022-02-04T00:00:00\",\"2022-02-07T00:00:00\",\"2022-02-08T00:00:00\",\"2022-02-09T00:00:00\",\"2022-02-10T00:00:00\",\"2022-02-11T00:00:00\",\"2022-02-14T00:00:00\",\"2022-02-15T00:00:00\",\"2022-02-16T00:00:00\",\"2022-02-17T00:00:00\",\"2022-02-18T00:00:00\",\"2022-02-21T00:00:00\",\"2022-02-22T00:00:00\",\"2022-02-23T00:00:00\",\"2022-02-24T00:00:00\",\"2022-02-25T00:00:00\",\"2022-03-01T00:00:00\",\"2022-03-02T00:00:00\",\"2022-03-04T00:00:00\",\"2022-03-07T00:00:00\",\"2022-03-08T00:00:00\",\"2022-03-09T00:00:00\",\"2022-03-10T00:00:00\",\"2022-03-11T00:00:00\",\"2022-03-14T00:00:00\",\"2022-03-15T00:00:00\",\"2022-03-16T00:00:00\",\"2022-03-17T00:00:00\",\"2022-03-18T00:00:00\",\"2022-03-21T00:00:00\",\"2022-03-22T00:00:00\",\"2022-03-23T00:00:00\",\"2022-03-24T00:00:00\",\"2022-03-25T00:00:00\",\"2022-03-28T00:00:00\",\"2022-03-29T00:00:00\",\"2022-03-30T00:00:00\",\"2022-03-31T00:00:00\",\"2022-04-01T00:00:00\",\"2022-04-04T00:00:00\",\"2022-04-05T00:00:00\",\"2022-04-06T00:00:00\",\"2022-04-07T00:00:00\",\"2022-04-08T00:00:00\",\"2022-04-11T00:00:00\",\"2022-04-12T00:00:00\",\"2022-04-13T00:00:00\",\"2022-04-14T00:00:00\",\"2022-04-18T00:00:00\",\"2022-04-19T00:00:00\",\"2022-04-20T00:00:00\",\"2022-04-21T00:00:00\",\"2022-04-22T00:00:00\",\"2022-04-25T00:00:00\",\"2022-04-26T00:00:00\",\"2022-04-27T00:00:00\",\"2022-04-28T00:00:00\",\"2022-05-09T00:00:00\",\"2022-05-10T00:00:00\",\"2022-05-11T00:00:00\",\"2022-05-12T00:00:00\",\"2022-05-13T00:00:00\",\"2022-05-17T00:00:00\",\"2022-05-18T00:00:00\",\"2022-05-19T00:00:00\",\"2022-05-20T00:00:00\",\"2022-05-23T00:00:00\",\"2022-05-24T00:00:00\",\"2022-05-25T00:00:00\",\"2022-05-27T00:00:00\",\"2022-05-30T00:00:00\",\"2022-05-31T00:00:00\",\"2022-06-02T00:00:00\",\"2022-06-03T00:00:00\",\"2022-06-06T00:00:00\",\"2022-06-07T00:00:00\",\"2022-06-08T00:00:00\",\"2022-06-09T00:00:00\",\"2022-06-10T00:00:00\",\"2022-06-13T00:00:00\",\"2022-06-14T00:00:00\",\"2022-06-15T00:00:00\",\"2022-06-16T00:00:00\",\"2022-06-17T00:00:00\",\"2022-06-20T00:00:00\",\"2022-06-21T00:00:00\",\"2022-06-22T00:00:00\",\"2022-06-23T00:00:00\",\"2022-06-24T00:00:00\",\"2022-06-27T00:00:00\",\"2022-06-28T00:00:00\",\"2022-06-29T00:00:00\",\"2022-06-30T00:00:00\",\"2022-07-01T00:00:00\",\"2022-07-04T00:00:00\",\"2022-07-05T00:00:00\",\"2022-07-06T00:00:00\",\"2022-07-07T00:00:00\",\"2022-07-08T00:00:00\",\"2022-07-11T00:00:00\",\"2022-07-12T00:00:00\",\"2022-07-13T00:00:00\",\"2022-07-14T00:00:00\",\"2022-07-15T00:00:00\",\"2022-07-18T00:00:00\",\"2022-07-19T00:00:00\",\"2022-07-20T00:00:00\",\"2022-07-21T00:00:00\",\"2022-07-22T00:00:00\",\"2022-07-25T00:00:00\",\"2022-07-26T00:00:00\",\"2022-07-27T00:00:00\",\"2022-07-28T00:00:00\",\"2022-07-29T00:00:00\",\"2022-08-01T00:00:00\",\"2022-08-02T00:00:00\",\"2022-08-03T00:00:00\",\"2022-08-04T00:00:00\",\"2022-08-05T00:00:00\",\"2022-08-08T00:00:00\"],\"y\":[136081000.0,101235000.0,86476000.0,109347300.0,119718000.0,115486900.0,84363800.0,0.0,115972300.0,150122700.0,150147300.0,138987300.0,267694700.0,86157200.0,243778900.0,267369500.0,200952500.0,134474300.0,151302900.0,104550600.0,92893600.0,83469200.0,115495000.0,166425600.0,124553900.0,122622400.0,45469500.0,79114600.0,69832000.0,109582500.0,127860400.0,77306900.0,43239400.0,126278300.0,117391500.0,84061400.0,85475400.0,80212700.0,154902100.0,163170100.0,108988600.0,74036700.0,86395000.0,143584400.0,58473100.0,138978700.0,73238700.0,101581300.0,114753900.0,108828800.0,97387100.0,76086600.0,105792900.0,128693900.0,177385100.0,276092100.0,174790600.0,216200900.0,167708600.0,188420700.0,221641600.0,171214500.0,263483700.0,175767800.0,260087300.0,241625700.0,194424800.0,177784900.0,235586600.0,227358800.0,159776500.0,167271000.0,170895600.0,100882600.0,100784500.0,156613200.0,258068400.0,148037400.0,178357900.0,102033100.0,248572600.0,169104200.0,158166300.0,125940800.0,95422400.0,77733900.0,111442600.0,102304100.0,91951000.0,112416300.0,64735500.0,101283800.0,69462100.0,70482100.0,137265100.0,58708800.0,102705300.0,114352000.0,95785000.0,255659800.0,96018000.0,120719100.0,71699000.0,78347200.0,65485400.0,175693000.0,110934800.0,160906600.0,93007500.0,139358500.0,103980600.0,76713900.0,100013600.0,122465300.0,102787800.0,160569500.0,204261100.0,90565400.0,107589800.0,123106100.0,143569100.0,62206600.0,80068200.0,108397400.0,287496300.0,197756800.0,127562700.0,106215900.0,68113400.0,97257400.0,162116700.0,100305100.0,75891600.0,85953300.0,74516800.0,180968900.0,89256700.0,155853900.0,235611600.0,225006000.0,140161900.0,124720200.0,148977400.0,110186000.0,154587800.0,109122300.0,77479100.0,97205500.0,183236500.0,138462900.0,135175000.0,187840500.0,168211100.0,142146300.0,257179400.0,166356000.0,97523200.0,146366600.0,391510600.0,188874000.0,150678200.0,369260400.0,243865800.0,208192700.0,195337300.0,480530200.0,169609900.0,186708800.0,206145500.0,527501800.0,239122600.0,185558800.0,211892500.0,260752200.0,207503900.0,253156200.0,374185400.0,163651600.0,624142600.0,277929200.0,187276600.0,121434200.0,170418900.0,175436900.0,113775100.0,229380200.0,154365400.0,281474900.0,410175700.0,455088400.0,249797800.0,187856600.0,267970200.0,311860000.0,240067600.0,178138100.0,184525500.0,150844500.0,165339800.0,157800700.0,177877900.0,140221900.0,492643700.0,271231200.0,189779500.0,162329300.0,187448400.0,133304300.0,138913100.0,144100700.0,116098100.0,81801900.0,165024200.0,118131800.0,111414500.0,159144700.0,142648800.0,191915100.0,133929600.0,114734600.0,86433900.0,80319500.0,52630500.0,96635600.0,157479200.0,125221400.0,79940700.0,88883300.0,82026300.0,121105300.0,151200300.0,63214600.0,100425500.0,354966200.0,303017100.0,226833000.0,230007700.0,91513500.0,169061400.0,82610700.0,142322100.0,128546000.0,80094900.0,110090800.0,91631900.0,100195200.0,50077300.0,60111200.0,61701400.0,101896400.0,140000000.0,53870300.0,55323200.0,67173200.0,107607200.0,106810400.0,72214100.0,66491800.0,134671900.0,73332000.0,36029200.0,40566400.0,84754300.0,59079700.0,56861400.0,79003200.0,51300200.0,52587500.0,65669100.0,52517800.0,44899700.0,55700100.0,47167800.0,54970000.0,39798400.0,55076200.0,166985400.0,91596300.0,111785100.0,143840800.0,124724400.0,60180600.0,76480300.0,91955600.0,98099900.0,104121900.0,94281900.0,114071400.0,77310400.0,48958100.0,197430900.0,104101400.0,64347100.0,62218300.0,233551300.0,87439800.0,155768200.0,108933400.0,77627900.0,70624200.0,124440300.0,132409400.0,112204200.0,137713700.0,82336600.0,46016500.0,60528600.0,39149800.0,50286100.0,168414300.0,74248200.0,89349200.0,81901000.0,101334200.0,58330700.0,66338900.0,123411200.0,142204500.0,143665900.0,161855700.0,133815000.0,151573500.0,110215500.0,132576600.0,222916400.0,86268000.0,82856600.0,84993400.0,88092800.0,63626300.0,116219500.0,115099400.0,48865700.0,67128400.0,55525800.0,62673400.0,103282300.0,126542400.0,95143100.0,60368200.0,89712500.0,63108600.0,89742800.0,31664200.0,70299500.0,57658000.0,93133400.0,59903600.0,38661800.0,162921300.0,100851800.0,113411000.0,64122400.0,69338100.0,66618200.0,55756100.0,62419000.0,64177700.0,130019000.0,85135200.0,51633800.0,65479800.0,52640400.0,42617400.0,80636800.0,82214400.0,52115300.0,45547200.0,166002100.0,73158300.0,58318700.0,117573100.0,83985100.0,95848100.0,66835200.0,104737500.0,72224500.0,87303000.0,54671700.0,53170100.0,153853900.0,109898400.0,82205100.0,140488300.0,153535700.0,56837600.0,91361800.0,78865000.0,69866300.0,87143900.0,95817900.0,69707700.0,78580700.0,61095700.0,169659500.0,59640700.0,58246300.0,58615100.0,52210100.0,61151100.0,70430900.0,65447100.0,170260000.0,48810500.0,53494200.0,43133000.0,58758600.0,92427800.0,53511200.0,95789600.0,115142400.0,91001800.0,99590700.0,82023300.0,53290400.0,310615000.0,206683100.0,67778800.0,67303800.0,264897100.0,231870300.0,228774600.0,435800600.0,200699200.0,116093100.0,96760700.0,106756900.0,121543400.0,113845600.0,86985800.0,90725000.0,65533000.0,75736900.0,84424500.0,98164300.0,149615800.0,72794200.0,98039300.0,50574500.0,54508200.0,29075600.0,30748000.0,39443300.0,25596100.0,50575100.0,65937900.0,42984700.0,119584700.0,89197500.0,68415100.0,44921200.0,61890200.0,45132700.0,84148400.0,28193100.0,39816300.0,112212200.0,88713900.0,100014500.0,75534800.0,70404500.0,116353600.0,127641400.0,98613900.0,61686700.0,88735900.0,144006000.0,58212400.0,98728700.0,90285800.0,71210400.0,95375000.0,233984700.0,130081900.0,104903700.0,75305900.0,90121200.0,72970200.0,71111300.0,58883000.0,106985800.0,110562400.0,126158600.0,208757000.0,206416900.0,152165300.0,155369100.0,177360400.0,234086000.0,145145900.0,130830800.0,143446200.0,166572700.0,231077800.0,109961900.0,246300800.0,210266100.0,79691600.0,98699900.0,78299500.0,89578400.0,90053700.0,184131000.0,77920800.0,118749100.0,108109700.0,86590300.0,103480300.0,52172300.0,108368800.0,143921800.0,161974500.0,90521500.0,187948000.0,196864200.0,112735200.0,120778200.0,92268300.0,88360900.0,97575800.0,101299100.0,92045500.0,85945800.0,136485600.0,198484800.0,343682000.0,281386300.0,154455400.0,233518500.0,190889200.0,170880700.0,185359500.0,112679300.0,141701800.0,196569900.0,151693700.0,166595400.0,186513500.0,107614100.0,469620300.0,164481100.0,108852800.0,79319400.0,142504000.0,202555900.0,148580200.0,189186700.0,156054900.0,117325600.0,94848800.0,96042200.0,169375800.0,82101200.0,77489000.0,60907800.0,101065400.0,81050700.0,71574300.0,128618800.0,72888100.0,116718900.0,39572500.0,115885200.0,72329600.0,62679000.0,42393800.0,64049000.0,42258000.0,43399800.0,96218200.0,68708500.0,146093800.0,84009400.0,91367900.0,82344000.0,107234600.0,59792300.0,37218000.0,49786900.0,60672300.0,110767300.0,108823600.0,104724300.0,112228800.0,251825000.0,186881500.0,268967200.0,191023500.0],\"type\":\"scatter\"},{\"mode\":\"lines\",\"name\":\"Open\",\"x\":[\"2020-03-04T00:00:00\",\"2020-03-05T00:00:00\",\"2020-03-06T00:00:00\",\"2020-03-09T00:00:00\",\"2020-03-10T00:00:00\",\"2020-03-11T00:00:00\",\"2020-03-12T00:00:00\",\"2020-03-13T00:00:00\",\"2020-03-16T00:00:00\",\"2020-03-17T00:00:00\",\"2020-03-18T00:00:00\",\"2020-03-19T00:00:00\",\"2020-03-20T00:00:00\",\"2020-03-23T00:00:00\",\"2020-03-24T00:00:00\",\"2020-03-26T00:00:00\",\"2020-03-27T00:00:00\",\"2020-03-30T00:00:00\",\"2020-03-31T00:00:00\",\"2020-04-01T00:00:00\",\"2020-04-02T00:00:00\",\"2020-04-03T00:00:00\",\"2020-04-06T00:00:00\",\"2020-04-07T00:00:00\",\"2020-04-08T00:00:00\",\"2020-04-09T00:00:00\",\"2020-04-13T00:00:00\",\"2020-04-14T00:00:00\",\"2020-04-15T00:00:00\",\"2020-04-16T00:00:00\",\"2020-04-17T00:00:00\",\"2020-04-20T00:00:00\",\"2020-04-21T00:00:00\",\"2020-04-22T00:00:00\",\"2020-04-23T00:00:00\",\"2020-04-24T00:00:00\",\"2020-04-27T00:00:00\",\"2020-04-28T00:00:00\",\"2020-04-29T00:00:00\",\"2020-04-30T00:00:00\",\"2020-05-04T00:00:00\",\"2020-05-05T00:00:00\",\"2020-05-06T00:00:00\",\"2020-05-08T00:00:00\",\"2020-05-11T00:00:00\",\"2020-05-12T00:00:00\",\"2020-05-13T00:00:00\",\"2020-05-14T00:00:00\",\"2020-05-15T00:00:00\",\"2020-05-18T00:00:00\",\"2020-05-19T00:00:00\",\"2020-05-20T00:00:00\",\"2020-05-26T00:00:00\",\"2020-05-27T00:00:00\",\"2020-05-28T00:00:00\",\"2020-05-29T00:00:00\",\"2020-06-02T00:00:00\",\"2020-06-03T00:00:00\",\"2020-06-04T00:00:00\",\"2020-06-05T00:00:00\",\"2020-06-08T00:00:00\",\"2020-06-09T00:00:00\",\"2020-06-10T00:00:00\",\"2020-06-11T00:00:00\",\"2020-06-12T00:00:00\",\"2020-06-15T00:00:00\",\"2020-06-16T00:00:00\",\"2020-06-17T00:00:00\",\"2020-06-18T00:00:00\",\"2020-06-19T00:00:00\",\"2020-06-22T00:00:00\",\"2020-06-23T00:00:00\",\"2020-06-24T00:00:00\",\"2020-06-25T00:00:00\",\"2020-06-26T00:00:00\",\"2020-06-29T00:00:00\",\"2020-06-30T00:00:00\",\"2020-07-01T00:00:00\",\"2020-07-02T00:00:00\",\"2020-07-03T00:00:00\",\"2020-07-06T00:00:00\",\"2020-07-07T00:00:00\",\"2020-07-08T00:00:00\",\"2020-07-09T00:00:00\",\"2020-07-10T00:00:00\",\"2020-07-13T00:00:00\",\"2020-07-14T00:00:00\",\"2020-07-15T00:00:00\",\"2020-07-16T00:00:00\",\"2020-07-17T00:00:00\",\"2020-07-20T00:00:00\",\"2020-07-21T00:00:00\",\"2020-07-22T00:00:00\",\"2020-07-23T00:00:00\",\"2020-07-24T00:00:00\",\"2020-07-27T00:00:00\",\"2020-07-28T00:00:00\",\"2020-07-29T00:00:00\",\"2020-07-30T00:00:00\",\"2020-08-03T00:00:00\",\"2020-08-04T00:00:00\",\"2020-08-05T00:00:00\",\"2020-08-06T00:00:00\",\"2020-08-07T00:00:00\",\"2020-08-10T00:00:00\",\"2020-08-11T00:00:00\",\"2020-08-12T00:00:00\",\"2020-08-13T00:00:00\",\"2020-08-14T00:00:00\",\"2020-08-18T00:00:00\",\"2020-08-19T00:00:00\",\"2020-08-24T00:00:00\",\"2020-08-25T00:00:00\",\"2020-08-26T00:00:00\",\"2020-08-27T00:00:00\",\"2020-08-28T00:00:00\",\"2020-08-31T00:00:00\",\"2020-09-01T00:00:00\",\"2020-09-02T00:00:00\",\"2020-09-03T00:00:00\",\"2020-09-04T00:00:00\",\"2020-09-07T00:00:00\",\"2020-09-08T00:00:00\",\"2020-09-09T00:00:00\",\"2020-09-10T00:00:00\",\"2020-09-11T00:00:00\",\"2020-09-14T00:00:00\",\"2020-09-15T00:00:00\",\"2020-09-16T00:00:00\",\"2020-09-17T00:00:00\",\"2020-09-18T00:00:00\",\"2020-09-21T00:00:00\",\"2020-09-22T00:00:00\",\"2020-09-23T00:00:00\",\"2020-09-24T00:00:00\",\"2020-09-25T00:00:00\",\"2020-09-28T00:00:00\",\"2020-09-29T00:00:00\",\"2020-09-30T00:00:00\",\"2020-10-01T00:00:00\",\"2020-10-02T00:00:00\",\"2020-10-05T00:00:00\",\"2020-10-06T00:00:00\",\"2020-10-07T00:00:00\",\"2020-10-08T00:00:00\",\"2020-10-09T00:00:00\",\"2020-10-12T00:00:00\",\"2020-10-13T00:00:00\",\"2020-10-14T00:00:00\",\"2020-10-15T00:00:00\",\"2020-10-16T00:00:00\",\"2020-10-19T00:00:00\",\"2020-10-20T00:00:00\",\"2020-10-21T00:00:00\",\"2020-10-22T00:00:00\",\"2020-10-23T00:00:00\",\"2020-10-26T00:00:00\",\"2020-10-27T00:00:00\",\"2020-11-02T00:00:00\",\"2020-11-03T00:00:00\",\"2020-11-04T00:00:00\",\"2020-11-05T00:00:00\",\"2020-11-06T00:00:00\",\"2020-11-09T00:00:00\",\"2020-11-10T00:00:00\",\"2020-11-11T00:00:00\",\"2020-11-12T00:00:00\",\"2020-11-13T00:00:00\",\"2020-11-16T00:00:00\",\"2020-11-17T00:00:00\",\"2020-11-18T00:00:00\",\"2020-11-19T00:00:00\",\"2020-11-20T00:00:00\",\"2020-11-23T00:00:00\",\"2020-11-24T00:00:00\",\"2020-11-25T00:00:00\",\"2020-11-26T00:00:00\",\"2020-11-27T00:00:00\",\"2020-11-30T00:00:00\",\"2020-12-01T00:00:00\",\"2020-12-02T00:00:00\",\"2020-12-03T00:00:00\",\"2020-12-04T00:00:00\",\"2020-12-07T00:00:00\",\"2020-12-08T00:00:00\",\"2020-12-10T00:00:00\",\"2020-12-11T00:00:00\",\"2020-12-14T00:00:00\",\"2020-12-15T00:00:00\",\"2020-12-16T00:00:00\",\"2020-12-17T00:00:00\",\"2020-12-18T00:00:00\",\"2020-12-21T00:00:00\",\"2020-12-22T00:00:00\",\"2020-12-23T00:00:00\",\"2020-12-28T00:00:00\",\"2020-12-29T00:00:00\",\"2020-12-30T00:00:00\",\"2021-01-04T00:00:00\",\"2021-01-05T00:00:00\",\"2021-01-06T00:00:00\",\"2021-01-07T00:00:00\",\"2021-01-08T00:00:00\",\"2021-01-11T00:00:00\",\"2021-01-12T00:00:00\",\"2021-01-13T00:00:00\",\"2021-01-14T00:00:00\",\"2021-01-15T00:00:00\",\"2021-01-18T00:00:00\",\"2021-01-19T00:00:00\",\"2021-01-20T00:00:00\",\"2021-01-21T00:00:00\",\"2021-01-22T00:00:00\",\"2021-01-25T00:00:00\",\"2021-01-26T00:00:00\",\"2021-01-27T00:00:00\",\"2021-01-28T00:00:00\",\"2021-01-29T00:00:00\",\"2021-02-01T00:00:00\",\"2021-02-02T00:00:00\",\"2021-02-03T00:00:00\",\"2021-02-04T00:00:00\",\"2021-02-05T00:00:00\",\"2021-02-08T00:00:00\",\"2021-02-09T00:00:00\",\"2021-02-10T00:00:00\",\"2021-02-11T00:00:00\",\"2021-02-15T00:00:00\",\"2021-02-16T00:00:00\",\"2021-02-17T00:00:00\",\"2021-02-18T00:00:00\",\"2021-02-19T00:00:00\",\"2021-02-22T00:00:00\",\"2021-02-23T00:00:00\",\"2021-02-24T00:00:00\",\"2021-02-25T00:00:00\",\"2021-02-26T00:00:00\",\"2021-03-01T00:00:00\",\"2021-03-02T00:00:00\",\"2021-03-03T00:00:00\",\"2021-03-04T00:00:00\",\"2021-03-05T00:00:00\",\"2021-03-08T00:00:00\",\"2021-03-09T00:00:00\",\"2021-03-10T00:00:00\",\"2021-03-12T00:00:00\",\"2021-03-15T00:00:00\",\"2021-03-16T00:00:00\",\"2021-03-17T00:00:00\",\"2021-03-18T00:00:00\",\"2021-03-19T00:00:00\",\"2021-03-22T00:00:00\",\"2021-03-23T00:00:00\",\"2021-03-24T00:00:00\",\"2021-03-25T00:00:00\",\"2021-03-26T00:00:00\",\"2021-03-29T00:00:00\",\"2021-03-30T00:00:00\",\"2021-03-31T00:00:00\",\"2021-04-01T00:00:00\",\"2021-04-05T00:00:00\",\"2021-04-06T00:00:00\",\"2021-04-07T00:00:00\",\"2021-04-08T00:00:00\",\"2021-04-09T00:00:00\",\"2021-04-12T00:00:00\",\"2021-04-13T00:00:00\",\"2021-04-14T00:00:00\",\"2021-04-15T00:00:00\",\"2021-04-16T00:00:00\",\"2021-04-19T00:00:00\",\"2021-04-20T00:00:00\",\"2021-04-21T00:00:00\",\"2021-04-22T00:00:00\",\"2021-04-23T00:00:00\",\"2021-04-26T00:00:00\",\"2021-04-27T00:00:00\",\"2021-04-28T00:00:00\",\"2021-04-29T00:00:00\",\"2021-04-30T00:00:00\",\"2021-05-03T00:00:00\",\"2021-05-04T00:00:00\",\"2021-05-05T00:00:00\",\"2021-05-06T00:00:00\",\"2021-05-07T00:00:00\",\"2021-05-10T00:00:00\",\"2021-05-11T00:00:00\",\"2021-05-17T00:00:00\",\"2021-05-18T00:00:00\",\"2021-05-19T00:00:00\",\"2021-05-20T00:00:00\",\"2021-05-21T00:00:00\",\"2021-05-24T00:00:00\",\"2021-05-25T00:00:00\",\"2021-05-27T00:00:00\",\"2021-05-28T00:00:00\",\"2021-05-31T00:00:00\",\"2021-06-02T00:00:00\",\"2021-06-03T00:00:00\",\"2021-06-04T00:00:00\",\"2021-06-07T00:00:00\",\"2021-06-08T00:00:00\",\"2021-06-09T00:00:00\",\"2021-06-10T00:00:00\",\"2021-06-11T00:00:00\",\"2021-06-14T00:00:00\",\"2021-06-15T00:00:00\",\"2021-06-16T00:00:00\",\"2021-06-17T00:00:00\",\"2021-06-18T00:00:00\",\"2021-06-21T00:00:00\",\"2021-06-22T00:00:00\",\"2021-06-23T00:00:00\",\"2021-06-24T00:00:00\",\"2021-06-25T00:00:00\",\"2021-06-28T00:00:00\",\"2021-06-29T00:00:00\",\"2021-06-30T00:00:00\",\"2021-07-01T00:00:00\",\"2021-07-02T00:00:00\",\"2021-07-05T00:00:00\",\"2021-07-06T00:00:00\",\"2021-07-07T00:00:00\",\"2021-07-08T00:00:00\",\"2021-07-09T00:00:00\",\"2021-07-12T00:00:00\",\"2021-07-13T00:00:00\",\"2021-07-14T00:00:00\",\"2021-07-15T00:00:00\",\"2021-07-16T00:00:00\",\"2021-07-19T00:00:00\",\"2021-07-21T00:00:00\",\"2021-07-22T00:00:00\",\"2021-07-23T00:00:00\",\"2021-07-26T00:00:00\",\"2021-07-27T00:00:00\",\"2021-07-28T00:00:00\",\"2021-07-29T00:00:00\",\"2021-07-30T00:00:00\",\"2021-08-02T00:00:00\",\"2021-08-03T00:00:00\",\"2021-08-04T00:00:00\",\"2021-08-05T00:00:00\",\"2021-08-06T00:00:00\",\"2021-08-09T00:00:00\",\"2021-08-10T00:00:00\",\"2021-08-12T00:00:00\",\"2021-08-13T00:00:00\",\"2021-08-16T00:00:00\",\"2021-08-18T00:00:00\",\"2021-08-19T00:00:00\",\"2021-08-20T00:00:00\",\"2021-08-23T00:00:00\",\"2021-08-24T00:00:00\",\"2021-08-25T00:00:00\",\"2021-08-26T00:00:00\",\"2021-08-27T00:00:00\",\"2021-08-30T00:00:00\",\"2021-08-31T00:00:00\",\"2021-09-01T00:00:00\",\"2021-09-02T00:00:00\",\"2021-09-03T00:00:00\",\"2021-09-06T00:00:00\",\"2021-09-07T00:00:00\",\"2021-09-08T00:00:00\",\"2021-09-09T00:00:00\",\"2021-09-10T00:00:00\",\"2021-09-13T00:00:00\",\"2021-09-14T00:00:00\",\"2021-09-15T00:00:00\",\"2021-09-16T00:00:00\",\"2021-09-17T00:00:00\",\"2021-09-20T00:00:00\",\"2021-09-21T00:00:00\",\"2021-09-22T00:00:00\",\"2021-09-23T00:00:00\",\"2021-09-24T00:00:00\",\"2021-09-27T00:00:00\",\"2021-09-28T00:00:00\",\"2021-09-29T00:00:00\",\"2021-09-30T00:00:00\",\"2021-10-01T00:00:00\",\"2021-10-04T00:00:00\",\"2021-10-05T00:00:00\",\"2021-10-06T00:00:00\",\"2021-10-07T00:00:00\",\"2021-10-08T00:00:00\",\"2021-10-11T00:00:00\",\"2021-10-12T00:00:00\",\"2021-10-13T00:00:00\",\"2021-10-14T00:00:00\",\"2021-10-15T00:00:00\",\"2021-10-18T00:00:00\",\"2021-10-19T00:00:00\",\"2021-10-21T00:00:00\",\"2021-10-22T00:00:00\",\"2021-10-25T00:00:00\",\"2021-10-26T00:00:00\",\"2021-10-27T00:00:00\",\"2021-10-28T00:00:00\",\"2021-10-29T00:00:00\",\"2021-11-01T00:00:00\",\"2021-11-02T00:00:00\",\"2021-11-03T00:00:00\",\"2021-11-04T00:00:00\",\"2021-11-05T00:00:00\",\"2021-11-08T00:00:00\",\"2021-11-09T00:00:00\",\"2021-11-10T00:00:00\",\"2021-11-11T00:00:00\",\"2021-11-12T00:00:00\",\"2021-11-15T00:00:00\",\"2021-11-16T00:00:00\",\"2021-11-17T00:00:00\",\"2021-11-18T00:00:00\",\"2021-11-19T00:00:00\",\"2021-11-22T00:00:00\",\"2021-11-23T00:00:00\",\"2021-11-24T00:00:00\",\"2021-11-25T00:00:00\",\"2021-11-26T00:00:00\",\"2021-11-29T00:00:00\",\"2021-11-30T00:00:00\",\"2021-12-01T00:00:00\",\"2021-12-02T00:00:00\",\"2021-12-03T00:00:00\",\"2021-12-06T00:00:00\",\"2021-12-07T00:00:00\",\"2021-12-08T00:00:00\",\"2021-12-09T00:00:00\",\"2021-12-10T00:00:00\",\"2021-12-13T00:00:00\",\"2021-12-14T00:00:00\",\"2021-12-15T00:00:00\",\"2021-12-16T00:00:00\",\"2021-12-17T00:00:00\",\"2021-12-20T00:00:00\",\"2021-12-21T00:00:00\",\"2021-12-22T00:00:00\",\"2021-12-23T00:00:00\",\"2021-12-24T00:00:00\",\"2021-12-27T00:00:00\",\"2021-12-28T00:00:00\",\"2021-12-29T00:00:00\",\"2021-12-30T00:00:00\",\"2022-01-03T00:00:00\",\"2022-01-04T00:00:00\",\"2022-01-05T00:00:00\",\"2022-01-06T00:00:00\",\"2022-01-07T00:00:00\",\"2022-01-10T00:00:00\",\"2022-01-11T00:00:00\",\"2022-01-12T00:00:00\",\"2022-01-13T00:00:00\",\"2022-01-14T00:00:00\",\"2022-01-17T00:00:00\",\"2022-01-18T00:00:00\",\"2022-01-19T00:00:00\",\"2022-01-20T00:00:00\",\"2022-01-21T00:00:00\",\"2022-01-24T00:00:00\",\"2022-01-25T00:00:00\",\"2022-01-26T00:00:00\",\"2022-01-27T00:00:00\",\"2022-01-28T00:00:00\",\"2022-01-31T00:00:00\",\"2022-02-02T00:00:00\",\"2022-02-03T00:00:00\",\"2022-02-04T00:00:00\",\"2022-02-07T00:00:00\",\"2022-02-08T00:00:00\",\"2022-02-09T00:00:00\",\"2022-02-10T00:00:00\",\"2022-02-11T00:00:00\",\"2022-02-14T00:00:00\",\"2022-02-15T00:00:00\",\"2022-02-16T00:00:00\",\"2022-02-17T00:00:00\",\"2022-02-18T00:00:00\",\"2022-02-21T00:00:00\",\"2022-02-22T00:00:00\",\"2022-02-23T00:00:00\",\"2022-02-24T00:00:00\",\"2022-02-25T00:00:00\",\"2022-03-01T00:00:00\",\"2022-03-02T00:00:00\",\"2022-03-04T00:00:00\",\"2022-03-07T00:00:00\",\"2022-03-08T00:00:00\",\"2022-03-09T00:00:00\",\"2022-03-10T00:00:00\",\"2022-03-11T00:00:00\",\"2022-03-14T00:00:00\",\"2022-03-15T00:00:00\",\"2022-03-16T00:00:00\",\"2022-03-17T00:00:00\",\"2022-03-18T00:00:00\",\"2022-03-21T00:00:00\",\"2022-03-22T00:00:00\",\"2022-03-23T00:00:00\",\"2022-03-24T00:00:00\",\"2022-03-25T00:00:00\",\"2022-03-28T00:00:00\",\"2022-03-29T00:00:00\",\"2022-03-30T00:00:00\",\"2022-03-31T00:00:00\",\"2022-04-01T00:00:00\",\"2022-04-04T00:00:00\",\"2022-04-05T00:00:00\",\"2022-04-06T00:00:00\",\"2022-04-07T00:00:00\",\"2022-04-08T00:00:00\",\"2022-04-11T00:00:00\",\"2022-04-12T00:00:00\",\"2022-04-13T00:00:00\",\"2022-04-14T00:00:00\",\"2022-04-18T00:00:00\",\"2022-04-19T00:00:00\",\"2022-04-20T00:00:00\",\"2022-04-21T00:00:00\",\"2022-04-22T00:00:00\",\"2022-04-25T00:00:00\",\"2022-04-26T00:00:00\",\"2022-04-27T00:00:00\",\"2022-04-28T00:00:00\",\"2022-05-09T00:00:00\",\"2022-05-10T00:00:00\",\"2022-05-11T00:00:00\",\"2022-05-12T00:00:00\",\"2022-05-13T00:00:00\",\"2022-05-17T00:00:00\",\"2022-05-18T00:00:00\",\"2022-05-19T00:00:00\",\"2022-05-20T00:00:00\",\"2022-05-23T00:00:00\",\"2022-05-24T00:00:00\",\"2022-05-25T00:00:00\",\"2022-05-27T00:00:00\",\"2022-05-30T00:00:00\",\"2022-05-31T00:00:00\",\"2022-06-02T00:00:00\",\"2022-06-03T00:00:00\",\"2022-06-06T00:00:00\",\"2022-06-07T00:00:00\",\"2022-06-08T00:00:00\",\"2022-06-09T00:00:00\",\"2022-06-10T00:00:00\",\"2022-06-13T00:00:00\",\"2022-06-14T00:00:00\",\"2022-06-15T00:00:00\",\"2022-06-16T00:00:00\",\"2022-06-17T00:00:00\",\"2022-06-20T00:00:00\",\"2022-06-21T00:00:00\",\"2022-06-22T00:00:00\",\"2022-06-23T00:00:00\",\"2022-06-24T00:00:00\",\"2022-06-27T00:00:00\",\"2022-06-28T00:00:00\",\"2022-06-29T00:00:00\",\"2022-06-30T00:00:00\",\"2022-07-01T00:00:00\",\"2022-07-04T00:00:00\",\"2022-07-05T00:00:00\",\"2022-07-06T00:00:00\",\"2022-07-07T00:00:00\",\"2022-07-08T00:00:00\",\"2022-07-11T00:00:00\",\"2022-07-12T00:00:00\",\"2022-07-13T00:00:00\",\"2022-07-14T00:00:00\",\"2022-07-15T00:00:00\",\"2022-07-18T00:00:00\",\"2022-07-19T00:00:00\",\"2022-07-20T00:00:00\",\"2022-07-21T00:00:00\",\"2022-07-22T00:00:00\",\"2022-07-25T00:00:00\",\"2022-07-26T00:00:00\",\"2022-07-27T00:00:00\",\"2022-07-28T00:00:00\",\"2022-07-29T00:00:00\",\"2022-08-01T00:00:00\",\"2022-08-02T00:00:00\",\"2022-08-03T00:00:00\",\"2022-08-04T00:00:00\",\"2022-08-05T00:00:00\",\"2022-08-08T00:00:00\"],\"y\":[3640.0,3820.0,3730.0,3560.0,3480.0,3470.0,3300.0,3310.0,3300.0,3160.0,3010.0,2810.0,2660.0,2880.0,2700.0,2550.0,3050.0,3060.0,3180.0,3180.0,3100.0,3150.0,3280.0,3390.0,3220.0,3110.0,3140.0,3200.0,3250.0,3110.0,3050.0,3270.0,3120.0,3050.0,3200.0,3100.0,3120.0,3170.0,3200.0,3400.0,3400.0,3320.0,3300.0,3270.0,3220.0,3270.0,3150.0,3110.0,3100.0,3100.0,3250.0,3200.0,3150.0,3250.0,3180.0,3100.0,3160.0,3280.0,3320.0,3360.0,3250.0,3250.0,3150.0,3120.0,3080.0,3060.0,3150.0,3210.0,3210.0,3300.0,3290.0,3200.0,3150.0,3160.0,3190.0,3200.0,3090.0,3070.0,3040.0,3150.0,3130.0,3060.0,3130.0,3170.0,3110.0,3120.0,3100.0,3120.0,3090.0,3100.0,3080.0,3050.0,3070.0,3070.0,3080.0,3020.0,3050.0,3030.0,3040.0,3060.0,2970.0,2960.0,3050.0,3020.0,3000.0,2980.0,2930.0,2950.0,3020.0,3030.0,3050.0,3010.0,3010.0,2980.0,3020.0,2990.0,2960.0,2900.0,2900.0,2950.0,2850.0,2870.0,2890.0,2850.0,2800.0,2670.0,2830.0,2890.0,2810.0,2810.0,2850.0,2890.0,2790.0,2770.0,2750.0,2720.0,2710.0,2690.0,2630.0,2600.0,2750.0,2690.0,2680.0,2650.0,2670.0,2710.0,2750.0,2730.0,2730.0,2800.0,2780.0,2800.0,2710.0,2680.0,2670.0,2710.0,2630.0,2640.0,2590.0,2570.0,2600.0,2630.0,2800.0,2860.0,2950.0,2900.0,3080.0,3010.0,3040.0,3100.0,3200.0,3150.0,3190.0,3230.0,3350.0,3370.0,3280.0,3480.0,3460.0,3230.0,3270.0,3330.0,3270.0,3280.0,3350.0,3270.0,3270.0,3300.0,3320.0,3500.0,3610.0,3500.0,3530.0,3500.0,3350.0,3370.0,3500.0,3420.0,3320.0,3480.0,3470.0,3390.0,3450.0,3590.0,3600.0,3550.0,3480.0,3510.0,3480.0,3470.0,3420.0,3500.0,3420.0,3370.0,3360.0,3340.0,3280.0,3290.0,3130.0,3300.0,3250.0,3270.0,3320.0,3300.0,3250.0,3180.0,3220.0,3200.0,3200.0,3220.0,3190.0,3180.0,3210.0,3200.0,3490.0,3510.0,3450.0,3490.0,3490.0,3480.0,3420.0,3340.0,3360.0,3370.0,3340.0,3440.0,3440.0,3400.0,3410.0,3450.0,3410.0,3440.0,3390.0,3320.0,3400.0,3410.0,3470.0,3420.0,3380.0,3390.0,3430.0,3400.0,3410.0,3380.0,3390.0,3340.0,3340.0,3360.0,3340.0,3370.0,3330.0,3330.0,3290.0,3290.0,3330.0,3280.0,3240.0,3160.0,3150.0,3220.0,3200.0,3180.0,3210.0,3200.0,3200.0,3190.0,3170.0,3190.0,3190.0,3150.0,3190.0,3340.0,3290.0,3290.0,3350.0,3380.0,3300.0,3490.0,3420.0,3490.0,3540.0,3550.0,3340.0,3350.0,3490.0,3460.0,3410.0,3380.0,3370.0,3350.0,3280.0,3300.0,3310.0,3330.0,3250.0,3250.0,3190.0,3150.0,3160.0,3110.0,3070.0,3050.0,3030.0,3060.0,3040.0,3190.0,3160.0,3050.0,3110.0,3140.0,3160.0,3190.0,3210.0,3250.0,3140.0,3210.0,3250.0,3210.0,3200.0,3240.0,3310.0,3330.0,3360.0,3360.0,3260.0,3240.0,3260.0,3370.0,3300.0,3360.0,3410.0,3390.0,3420.0,3410.0,3390.0,3330.0,3370.0,3330.0,3400.0,3420.0,3350.0,3400.0,3410.0,3410.0,3400.0,3360.0,3380.0,3310.0,3380.0,3430.0,3470.0,3400.0,3500.0,3500.0,3530.0,3600.0,3560.0,3530.0,3510.0,3490.0,3550.0,3680.0,3620.0,3670.0,3690.0,3720.0,3730.0,3800.0,3780.0,3750.0,3770.0,3840.0,3840.0,3750.0,3780.0,3860.0,3800.0,3800.0,3820.0,3820.0,3750.0,3810.0,3700.0,3620.0,3750.0,3760.0,3780.0,3730.0,3670.0,3700.0,3660.0,3600.0,3590.0,3690.0,3630.0,3660.0,3920.0,3800.0,3840.0,3880.0,4040.0,4010.0,4150.0,4040.0,4140.0,4130.0,4060.0,4180.0,4100.0,4090.0,4070.0,4150.0,4120.0,4060.0,4110.0,4010.0,4070.0,4110.0,4160.0,4110.0,4160.0,4150.0,4080.0,4100.0,4130.0,4060.0,4180.0,4150.0,4090.0,4120.0,4180.0,4120.0,4110.0,4170.0,4140.0,4200.0,4200.0,4260.0,4300.0,4240.0,4260.0,4310.0,4380.0,4400.0,4260.0,4210.0,4170.0,4200.0,4260.0,4230.0,4280.0,4280.0,4400.0,4500.0,4380.0,4400.0,4420.0,4400.0,4420.0,4370.0,4320.0,4280.0,4280.0,4240.0,4640.0,4400.0,4440.0,4400.0,4600.0,4550.0,4500.0,4410.0,4650.0,4630.0,4660.0,4550.0,4490.0,4550.0,4550.0,4550.0,4500.0,4510.0,4510.0,4600.0,4620.0,4620.0,4550.0,4560.0,4550.0,4490.0,4450.0,4580.0,4610.0,4620.0,4700.0,4700.0,4720.0,4740.0,4680.0,4620.0,4620.0,4610.0,4680.0,4720.0,4850.0,4560.0,4120.0,4400.0,4340.0,4250.0,4250.0,4230.0,4180.0,4220.0,4160.0,4120.0,4200.0,4260.0,4340.0,4270.0,4390.0,4310.0,4310.0,4340.0,4150.0,4080.0,4040.0,3950.0,4050.0,4060.0,4120.0,4010.0,4050.0,4060.0,4090.0,4030.0,4230.0,4110.0,4010.0,4000.0,4110.0,4010.0,4020.0,4010.0,4050.0,4040.0,4050.0,4100.0,4060.0,4010.0,3940.0,4040.0,4110.0,4190.0,4140.0,4210.0,4240.0,4240.0,4240.0,4230.0,4310.0,4280.0,4230.0,4350.0,4450.0,4450.0,4590.0,4700.0],\"type\":\"scatter\"},{\"mode\":\"lines\",\"name\":\"Close\",\"x\":[\"2020-03-04T00:00:00\",\"2020-03-05T00:00:00\",\"2020-03-06T00:00:00\",\"2020-03-09T00:00:00\",\"2020-03-10T00:00:00\",\"2020-03-11T00:00:00\",\"2020-03-12T00:00:00\",\"2020-03-13T00:00:00\",\"2020-03-16T00:00:00\",\"2020-03-17T00:00:00\",\"2020-03-18T00:00:00\",\"2020-03-19T00:00:00\",\"2020-03-20T00:00:00\",\"2020-03-23T00:00:00\",\"2020-03-24T00:00:00\",\"2020-03-26T00:00:00\",\"2020-03-27T00:00:00\",\"2020-03-30T00:00:00\",\"2020-03-31T00:00:00\",\"2020-04-01T00:00:00\",\"2020-04-02T00:00:00\",\"2020-04-03T00:00:00\",\"2020-04-06T00:00:00\",\"2020-04-07T00:00:00\",\"2020-04-08T00:00:00\",\"2020-04-09T00:00:00\",\"2020-04-13T00:00:00\",\"2020-04-14T00:00:00\",\"2020-04-15T00:00:00\",\"2020-04-16T00:00:00\",\"2020-04-17T00:00:00\",\"2020-04-20T00:00:00\",\"2020-04-21T00:00:00\",\"2020-04-22T00:00:00\",\"2020-04-23T00:00:00\",\"2020-04-24T00:00:00\",\"2020-04-27T00:00:00\",\"2020-04-28T00:00:00\",\"2020-04-29T00:00:00\",\"2020-04-30T00:00:00\",\"2020-05-04T00:00:00\",\"2020-05-05T00:00:00\",\"2020-05-06T00:00:00\",\"2020-05-08T00:00:00\",\"2020-05-11T00:00:00\",\"2020-05-12T00:00:00\",\"2020-05-13T00:00:00\",\"2020-05-14T00:00:00\",\"2020-05-15T00:00:00\",\"2020-05-18T00:00:00\",\"2020-05-19T00:00:00\",\"2020-05-20T00:00:00\",\"2020-05-26T00:00:00\",\"2020-05-27T00:00:00\",\"2020-05-28T00:00:00\",\"2020-05-29T00:00:00\",\"2020-06-02T00:00:00\",\"2020-06-03T00:00:00\",\"2020-06-04T00:00:00\",\"2020-06-05T00:00:00\",\"2020-06-08T00:00:00\",\"2020-06-09T00:00:00\",\"2020-06-10T00:00:00\",\"2020-06-11T00:00:00\",\"2020-06-12T00:00:00\",\"2020-06-15T00:00:00\",\"2020-06-16T00:00:00\",\"2020-06-17T00:00:00\",\"2020-06-18T00:00:00\",\"2020-06-19T00:00:00\",\"2020-06-22T00:00:00\",\"2020-06-23T00:00:00\",\"2020-06-24T00:00:00\",\"2020-06-25T00:00:00\",\"2020-06-26T00:00:00\",\"2020-06-29T00:00:00\",\"2020-06-30T00:00:00\",\"2020-07-01T00:00:00\",\"2020-07-02T00:00:00\",\"2020-07-03T00:00:00\",\"2020-07-06T00:00:00\",\"2020-07-07T00:00:00\",\"2020-07-08T00:00:00\",\"2020-07-09T00:00:00\",\"2020-07-10T00:00:00\",\"2020-07-13T00:00:00\",\"2020-07-14T00:00:00\",\"2020-07-15T00:00:00\",\"2020-07-16T00:00:00\",\"2020-07-17T00:00:00\",\"2020-07-20T00:00:00\",\"2020-07-21T00:00:00\",\"2020-07-22T00:00:00\",\"2020-07-23T00:00:00\",\"2020-07-24T00:00:00\",\"2020-07-27T00:00:00\",\"2020-07-28T00:00:00\",\"2020-07-29T00:00:00\",\"2020-07-30T00:00:00\",\"2020-08-03T00:00:00\",\"2020-08-04T00:00:00\",\"2020-08-05T00:00:00\",\"2020-08-06T00:00:00\",\"2020-08-07T00:00:00\",\"2020-08-10T00:00:00\",\"2020-08-11T00:00:00\",\"2020-08-12T00:00:00\",\"2020-08-13T00:00:00\",\"2020-08-14T00:00:00\",\"2020-08-18T00:00:00\",\"2020-08-19T00:00:00\",\"2020-08-24T00:00:00\",\"2020-08-25T00:00:00\",\"2020-08-26T00:00:00\",\"2020-08-27T00:00:00\",\"2020-08-28T00:00:00\",\"2020-08-31T00:00:00\",\"2020-09-01T00:00:00\",\"2020-09-02T00:00:00\",\"2020-09-03T00:00:00\",\"2020-09-04T00:00:00\",\"2020-09-07T00:00:00\",\"2020-09-08T00:00:00\",\"2020-09-09T00:00:00\",\"2020-09-10T00:00:00\",\"2020-09-11T00:00:00\",\"2020-09-14T00:00:00\",\"2020-09-15T00:00:00\",\"2020-09-16T00:00:00\",\"2020-09-17T00:00:00\",\"2020-09-18T00:00:00\",\"2020-09-21T00:00:00\",\"2020-09-22T00:00:00\",\"2020-09-23T00:00:00\",\"2020-09-24T00:00:00\",\"2020-09-25T00:00:00\",\"2020-09-28T00:00:00\",\"2020-09-29T00:00:00\",\"2020-09-30T00:00:00\",\"2020-10-01T00:00:00\",\"2020-10-02T00:00:00\",\"2020-10-05T00:00:00\",\"2020-10-06T00:00:00\",\"2020-10-07T00:00:00\",\"2020-10-08T00:00:00\",\"2020-10-09T00:00:00\",\"2020-10-12T00:00:00\",\"2020-10-13T00:00:00\",\"2020-10-14T00:00:00\",\"2020-10-15T00:00:00\",\"2020-10-16T00:00:00\",\"2020-10-19T00:00:00\",\"2020-10-20T00:00:00\",\"2020-10-21T00:00:00\",\"2020-10-22T00:00:00\",\"2020-10-23T00:00:00\",\"2020-10-26T00:00:00\",\"2020-10-27T00:00:00\",\"2020-11-02T00:00:00\",\"2020-11-03T00:00:00\",\"2020-11-04T00:00:00\",\"2020-11-05T00:00:00\",\"2020-11-06T00:00:00\",\"2020-11-09T00:00:00\",\"2020-11-10T00:00:00\",\"2020-11-11T00:00:00\",\"2020-11-12T00:00:00\",\"2020-11-13T00:00:00\",\"2020-11-16T00:00:00\",\"2020-11-17T00:00:00\",\"2020-11-18T00:00:00\",\"2020-11-19T00:00:00\",\"2020-11-20T00:00:00\",\"2020-11-23T00:00:00\",\"2020-11-24T00:00:00\",\"2020-11-25T00:00:00\",\"2020-11-26T00:00:00\",\"2020-11-27T00:00:00\",\"2020-11-30T00:00:00\",\"2020-12-01T00:00:00\",\"2020-12-02T00:00:00\",\"2020-12-03T00:00:00\",\"2020-12-04T00:00:00\",\"2020-12-07T00:00:00\",\"2020-12-08T00:00:00\",\"2020-12-10T00:00:00\",\"2020-12-11T00:00:00\",\"2020-12-14T00:00:00\",\"2020-12-15T00:00:00\",\"2020-12-16T00:00:00\",\"2020-12-17T00:00:00\",\"2020-12-18T00:00:00\",\"2020-12-21T00:00:00\",\"2020-12-22T00:00:00\",\"2020-12-23T00:00:00\",\"2020-12-28T00:00:00\",\"2020-12-29T00:00:00\",\"2020-12-30T00:00:00\",\"2021-01-04T00:00:00\",\"2021-01-05T00:00:00\",\"2021-01-06T00:00:00\",\"2021-01-07T00:00:00\",\"2021-01-08T00:00:00\",\"2021-01-11T00:00:00\",\"2021-01-12T00:00:00\",\"2021-01-13T00:00:00\",\"2021-01-14T00:00:00\",\"2021-01-15T00:00:00\",\"2021-01-18T00:00:00\",\"2021-01-19T00:00:00\",\"2021-01-20T00:00:00\",\"2021-01-21T00:00:00\",\"2021-01-22T00:00:00\",\"2021-01-25T00:00:00\",\"2021-01-26T00:00:00\",\"2021-01-27T00:00:00\",\"2021-01-28T00:00:00\",\"2021-01-29T00:00:00\",\"2021-02-01T00:00:00\",\"2021-02-02T00:00:00\",\"2021-02-03T00:00:00\",\"2021-02-04T00:00:00\",\"2021-02-05T00:00:00\",\"2021-02-08T00:00:00\",\"2021-02-09T00:00:00\",\"2021-02-10T00:00:00\",\"2021-02-11T00:00:00\",\"2021-02-15T00:00:00\",\"2021-02-16T00:00:00\",\"2021-02-17T00:00:00\",\"2021-02-18T00:00:00\",\"2021-02-19T00:00:00\",\"2021-02-22T00:00:00\",\"2021-02-23T00:00:00\",\"2021-02-24T00:00:00\",\"2021-02-25T00:00:00\",\"2021-02-26T00:00:00\",\"2021-03-01T00:00:00\",\"2021-03-02T00:00:00\",\"2021-03-03T00:00:00\",\"2021-03-04T00:00:00\",\"2021-03-05T00:00:00\",\"2021-03-08T00:00:00\",\"2021-03-09T00:00:00\",\"2021-03-10T00:00:00\",\"2021-03-12T00:00:00\",\"2021-03-15T00:00:00\",\"2021-03-16T00:00:00\",\"2021-03-17T00:00:00\",\"2021-03-18T00:00:00\",\"2021-03-19T00:00:00\",\"2021-03-22T00:00:00\",\"2021-03-23T00:00:00\",\"2021-03-24T00:00:00\",\"2021-03-25T00:00:00\",\"2021-03-26T00:00:00\",\"2021-03-29T00:00:00\",\"2021-03-30T00:00:00\",\"2021-03-31T00:00:00\",\"2021-04-01T00:00:00\",\"2021-04-05T00:00:00\",\"2021-04-06T00:00:00\",\"2021-04-07T00:00:00\",\"2021-04-08T00:00:00\",\"2021-04-09T00:00:00\",\"2021-04-12T00:00:00\",\"2021-04-13T00:00:00\",\"2021-04-14T00:00:00\",\"2021-04-15T00:00:00\",\"2021-04-16T00:00:00\",\"2021-04-19T00:00:00\",\"2021-04-20T00:00:00\",\"2021-04-21T00:00:00\",\"2021-04-22T00:00:00\",\"2021-04-23T00:00:00\",\"2021-04-26T00:00:00\",\"2021-04-27T00:00:00\",\"2021-04-28T00:00:00\",\"2021-04-29T00:00:00\",\"2021-04-30T00:00:00\",\"2021-05-03T00:00:00\",\"2021-05-04T00:00:00\",\"2021-05-05T00:00:00\",\"2021-05-06T00:00:00\",\"2021-05-07T00:00:00\",\"2021-05-10T00:00:00\",\"2021-05-11T00:00:00\",\"2021-05-17T00:00:00\",\"2021-05-18T00:00:00\",\"2021-05-19T00:00:00\",\"2021-05-20T00:00:00\",\"2021-05-21T00:00:00\",\"2021-05-24T00:00:00\",\"2021-05-25T00:00:00\",\"2021-05-27T00:00:00\",\"2021-05-28T00:00:00\",\"2021-05-31T00:00:00\",\"2021-06-02T00:00:00\",\"2021-06-03T00:00:00\",\"2021-06-04T00:00:00\",\"2021-06-07T00:00:00\",\"2021-06-08T00:00:00\",\"2021-06-09T00:00:00\",\"2021-06-10T00:00:00\",\"2021-06-11T00:00:00\",\"2021-06-14T00:00:00\",\"2021-06-15T00:00:00\",\"2021-06-16T00:00:00\",\"2021-06-17T00:00:00\",\"2021-06-18T00:00:00\",\"2021-06-21T00:00:00\",\"2021-06-22T00:00:00\",\"2021-06-23T00:00:00\",\"2021-06-24T00:00:00\",\"2021-06-25T00:00:00\",\"2021-06-28T00:00:00\",\"2021-06-29T00:00:00\",\"2021-06-30T00:00:00\",\"2021-07-01T00:00:00\",\"2021-07-02T00:00:00\",\"2021-07-05T00:00:00\",\"2021-07-06T00:00:00\",\"2021-07-07T00:00:00\",\"2021-07-08T00:00:00\",\"2021-07-09T00:00:00\",\"2021-07-12T00:00:00\",\"2021-07-13T00:00:00\",\"2021-07-14T00:00:00\",\"2021-07-15T00:00:00\",\"2021-07-16T00:00:00\",\"2021-07-19T00:00:00\",\"2021-07-21T00:00:00\",\"2021-07-22T00:00:00\",\"2021-07-23T00:00:00\",\"2021-07-26T00:00:00\",\"2021-07-27T00:00:00\",\"2021-07-28T00:00:00\",\"2021-07-29T00:00:00\",\"2021-07-30T00:00:00\",\"2021-08-02T00:00:00\",\"2021-08-03T00:00:00\",\"2021-08-04T00:00:00\",\"2021-08-05T00:00:00\",\"2021-08-06T00:00:00\",\"2021-08-09T00:00:00\",\"2021-08-10T00:00:00\",\"2021-08-12T00:00:00\",\"2021-08-13T00:00:00\",\"2021-08-16T00:00:00\",\"2021-08-18T00:00:00\",\"2021-08-19T00:00:00\",\"2021-08-20T00:00:00\",\"2021-08-23T00:00:00\",\"2021-08-24T00:00:00\",\"2021-08-25T00:00:00\",\"2021-08-26T00:00:00\",\"2021-08-27T00:00:00\",\"2021-08-30T00:00:00\",\"2021-08-31T00:00:00\",\"2021-09-01T00:00:00\",\"2021-09-02T00:00:00\",\"2021-09-03T00:00:00\",\"2021-09-06T00:00:00\",\"2021-09-07T00:00:00\",\"2021-09-08T00:00:00\",\"2021-09-09T00:00:00\",\"2021-09-10T00:00:00\",\"2021-09-13T00:00:00\",\"2021-09-14T00:00:00\",\"2021-09-15T00:00:00\",\"2021-09-16T00:00:00\",\"2021-09-17T00:00:00\",\"2021-09-20T00:00:00\",\"2021-09-21T00:00:00\",\"2021-09-22T00:00:00\",\"2021-09-23T00:00:00\",\"2021-09-24T00:00:00\",\"2021-09-27T00:00:00\",\"2021-09-28T00:00:00\",\"2021-09-29T00:00:00\",\"2021-09-30T00:00:00\",\"2021-10-01T00:00:00\",\"2021-10-04T00:00:00\",\"2021-10-05T00:00:00\",\"2021-10-06T00:00:00\",\"2021-10-07T00:00:00\",\"2021-10-08T00:00:00\",\"2021-10-11T00:00:00\",\"2021-10-12T00:00:00\",\"2021-10-13T00:00:00\",\"2021-10-14T00:00:00\",\"2021-10-15T00:00:00\",\"2021-10-18T00:00:00\",\"2021-10-19T00:00:00\",\"2021-10-21T00:00:00\",\"2021-10-22T00:00:00\",\"2021-10-25T00:00:00\",\"2021-10-26T00:00:00\",\"2021-10-27T00:00:00\",\"2021-10-28T00:00:00\",\"2021-10-29T00:00:00\",\"2021-11-01T00:00:00\",\"2021-11-02T00:00:00\",\"2021-11-03T00:00:00\",\"2021-11-04T00:00:00\",\"2021-11-05T00:00:00\",\"2021-11-08T00:00:00\",\"2021-11-09T00:00:00\",\"2021-11-10T00:00:00\",\"2021-11-11T00:00:00\",\"2021-11-12T00:00:00\",\"2021-11-15T00:00:00\",\"2021-11-16T00:00:00\",\"2021-11-17T00:00:00\",\"2021-11-18T00:00:00\",\"2021-11-19T00:00:00\",\"2021-11-22T00:00:00\",\"2021-11-23T00:00:00\",\"2021-11-24T00:00:00\",\"2021-11-25T00:00:00\",\"2021-11-26T00:00:00\",\"2021-11-29T00:00:00\",\"2021-11-30T00:00:00\",\"2021-12-01T00:00:00\",\"2021-12-02T00:00:00\",\"2021-12-03T00:00:00\",\"2021-12-06T00:00:00\",\"2021-12-07T00:00:00\",\"2021-12-08T00:00:00\",\"2021-12-09T00:00:00\",\"2021-12-10T00:00:00\",\"2021-12-13T00:00:00\",\"2021-12-14T00:00:00\",\"2021-12-15T00:00:00\",\"2021-12-16T00:00:00\",\"2021-12-17T00:00:00\",\"2021-12-20T00:00:00\",\"2021-12-21T00:00:00\",\"2021-12-22T00:00:00\",\"2021-12-23T00:00:00\",\"2021-12-24T00:00:00\",\"2021-12-27T00:00:00\",\"2021-12-28T00:00:00\",\"2021-12-29T00:00:00\",\"2021-12-30T00:00:00\",\"2022-01-03T00:00:00\",\"2022-01-04T00:00:00\",\"2022-01-05T00:00:00\",\"2022-01-06T00:00:00\",\"2022-01-07T00:00:00\",\"2022-01-10T00:00:00\",\"2022-01-11T00:00:00\",\"2022-01-12T00:00:00\",\"2022-01-13T00:00:00\",\"2022-01-14T00:00:00\",\"2022-01-17T00:00:00\",\"2022-01-18T00:00:00\",\"2022-01-19T00:00:00\",\"2022-01-20T00:00:00\",\"2022-01-21T00:00:00\",\"2022-01-24T00:00:00\",\"2022-01-25T00:00:00\",\"2022-01-26T00:00:00\",\"2022-01-27T00:00:00\",\"2022-01-28T00:00:00\",\"2022-01-31T00:00:00\",\"2022-02-02T00:00:00\",\"2022-02-03T00:00:00\",\"2022-02-04T00:00:00\",\"2022-02-07T00:00:00\",\"2022-02-08T00:00:00\",\"2022-02-09T00:00:00\",\"2022-02-10T00:00:00\",\"2022-02-11T00:00:00\",\"2022-02-14T00:00:00\",\"2022-02-15T00:00:00\",\"2022-02-16T00:00:00\",\"2022-02-17T00:00:00\",\"2022-02-18T00:00:00\",\"2022-02-21T00:00:00\",\"2022-02-22T00:00:00\",\"2022-02-23T00:00:00\",\"2022-02-24T00:00:00\",\"2022-02-25T00:00:00\",\"2022-03-01T00:00:00\",\"2022-03-02T00:00:00\",\"2022-03-04T00:00:00\",\"2022-03-07T00:00:00\",\"2022-03-08T00:00:00\",\"2022-03-09T00:00:00\",\"2022-03-10T00:00:00\",\"2022-03-11T00:00:00\",\"2022-03-14T00:00:00\",\"2022-03-15T00:00:00\",\"2022-03-16T00:00:00\",\"2022-03-17T00:00:00\",\"2022-03-18T00:00:00\",\"2022-03-21T00:00:00\",\"2022-03-22T00:00:00\",\"2022-03-23T00:00:00\",\"2022-03-24T00:00:00\",\"2022-03-25T00:00:00\",\"2022-03-28T00:00:00\",\"2022-03-29T00:00:00\",\"2022-03-30T00:00:00\",\"2022-03-31T00:00:00\",\"2022-04-01T00:00:00\",\"2022-04-04T00:00:00\",\"2022-04-05T00:00:00\",\"2022-04-06T00:00:00\",\"2022-04-07T00:00:00\",\"2022-04-08T00:00:00\",\"2022-04-11T00:00:00\",\"2022-04-12T00:00:00\",\"2022-04-13T00:00:00\",\"2022-04-14T00:00:00\",\"2022-04-18T00:00:00\",\"2022-04-19T00:00:00\",\"2022-04-20T00:00:00\",\"2022-04-21T00:00:00\",\"2022-04-22T00:00:00\",\"2022-04-25T00:00:00\",\"2022-04-26T00:00:00\",\"2022-04-27T00:00:00\",\"2022-04-28T00:00:00\",\"2022-05-09T00:00:00\",\"2022-05-10T00:00:00\",\"2022-05-11T00:00:00\",\"2022-05-12T00:00:00\",\"2022-05-13T00:00:00\",\"2022-05-17T00:00:00\",\"2022-05-18T00:00:00\",\"2022-05-19T00:00:00\",\"2022-05-20T00:00:00\",\"2022-05-23T00:00:00\",\"2022-05-24T00:00:00\",\"2022-05-25T00:00:00\",\"2022-05-27T00:00:00\",\"2022-05-30T00:00:00\",\"2022-05-31T00:00:00\",\"2022-06-02T00:00:00\",\"2022-06-03T00:00:00\",\"2022-06-06T00:00:00\",\"2022-06-07T00:00:00\",\"2022-06-08T00:00:00\",\"2022-06-09T00:00:00\",\"2022-06-10T00:00:00\",\"2022-06-13T00:00:00\",\"2022-06-14T00:00:00\",\"2022-06-15T00:00:00\",\"2022-06-16T00:00:00\",\"2022-06-17T00:00:00\",\"2022-06-20T00:00:00\",\"2022-06-21T00:00:00\",\"2022-06-22T00:00:00\",\"2022-06-23T00:00:00\",\"2022-06-24T00:00:00\",\"2022-06-27T00:00:00\",\"2022-06-28T00:00:00\",\"2022-06-29T00:00:00\",\"2022-06-30T00:00:00\",\"2022-07-01T00:00:00\",\"2022-07-04T00:00:00\",\"2022-07-05T00:00:00\",\"2022-07-06T00:00:00\",\"2022-07-07T00:00:00\",\"2022-07-08T00:00:00\",\"2022-07-11T00:00:00\",\"2022-07-12T00:00:00\",\"2022-07-13T00:00:00\",\"2022-07-14T00:00:00\",\"2022-07-15T00:00:00\",\"2022-07-18T00:00:00\",\"2022-07-19T00:00:00\",\"2022-07-20T00:00:00\",\"2022-07-21T00:00:00\",\"2022-07-22T00:00:00\",\"2022-07-25T00:00:00\",\"2022-07-26T00:00:00\",\"2022-07-27T00:00:00\",\"2022-07-28T00:00:00\",\"2022-07-29T00:00:00\",\"2022-08-01T00:00:00\",\"2022-08-02T00:00:00\",\"2022-08-03T00:00:00\",\"2022-08-04T00:00:00\",\"2022-08-05T00:00:00\",\"2022-08-08T00:00:00\"],\"y\":[3830.0,3830.0,3750.0,3500.0,3490.0,3400.0,3310.0,3310.0,3160.0,2940.0,2810.0,2620.0,2880.0,2680.0,2620.0,2980.0,3090.0,3140.0,3160.0,3100.0,3130.0,3200.0,3330.0,3220.0,3110.0,3120.0,3180.0,3240.0,3110.0,3000.0,3230.0,3120.0,3070.0,3160.0,3070.0,3090.0,3150.0,3160.0,3350.0,3500.0,3320.0,3320.0,3240.0,3190.0,3220.0,3150.0,3160.0,3070.0,3100.0,3220.0,3270.0,3180.0,3250.0,3170.0,3130.0,3150.0,3250.0,3290.0,3300.0,3230.0,3230.0,3140.0,3110.0,3080.0,3030.0,3090.0,3200.0,3210.0,3280.0,3280.0,3200.0,3130.0,3180.0,3160.0,3190.0,3180.0,3050.0,3040.0,3140.0,3120.0,3050.0,3120.0,3150.0,3110.0,3110.0,3090.0,3080.0,3090.0,3100.0,3060.0,3060.0,3060.0,3070.0,3070.0,3020.0,3040.0,3020.0,3000.0,3050.0,2920.0,2950.0,3020.0,3020.0,2980.0,2970.0,2930.0,2950.0,3010.0,3030.0,3050.0,3000.0,3000.0,2980.0,3020.0,2990.0,2960.0,2860.0,2900.0,2950.0,2900.0,2860.0,2900.0,2860.0,2800.0,2700.0,2810.0,2890.0,2830.0,2790.0,2820.0,2890.0,2810.0,2780.0,2800.0,2730.0,2690.0,2660.0,2630.0,2560.0,2750.0,2680.0,2650.0,2650.0,2660.0,2700.0,2730.0,2730.0,2730.0,2810.0,2780.0,2750.0,2710.0,2670.0,2680.0,2700.0,2630.0,2650.0,2620.0,2560.0,2580.0,2580.0,2770.0,2830.0,2880.0,2860.0,3080.0,3040.0,2990.0,3070.0,3220.0,3180.0,3170.0,3220.0,3320.0,3350.0,3280.0,3470.0,3460.0,3230.0,3240.0,3330.0,3300.0,3250.0,3330.0,3300.0,3260.0,3280.0,3320.0,3450.0,3610.0,3540.0,3510.0,3520.0,3360.0,3320.0,3430.0,3420.0,3310.0,3490.0,3470.0,3370.0,3390.0,3570.0,3600.0,3510.0,3480.0,3500.0,3480.0,3450.0,3410.0,3470.0,3480.0,3390.0,3370.0,3260.0,3380.0,3240.0,3110.0,3230.0,3270.0,3240.0,3290.0,3290.0,3280.0,3200.0,3190.0,3190.0,3220.0,3210.0,3150.0,3180.0,3210.0,3170.0,3470.0,3480.0,3490.0,3490.0,3490.0,3460.0,3440.0,3360.0,3320.0,3340.0,3290.0,3400.0,3450.0,3380.0,3360.0,3390.0,3450.0,3440.0,3380.0,3360.0,3370.0,3410.0,3490.0,3410.0,3380.0,3420.0,3390.0,3380.0,3370.0,3400.0,3390.0,3360.0,3310.0,3330.0,3340.0,3360.0,3360.0,3340.0,3320.0,3280.0,3330.0,3310.0,3250.0,3160.0,3140.0,3200.0,3200.0,3170.0,3210.0,3200.0,3190.0,3190.0,3170.0,3180.0,3190.0,3180.0,3160.0,3310.0,3270.0,3260.0,3300.0,3380.0,3270.0,3440.0,3450.0,3490.0,3500.0,3550.0,3500.0,3390.0,3480.0,3470.0,3410.0,3440.0,3410.0,3350.0,3350.0,3300.0,3300.0,3370.0,3250.0,3250.0,3170.0,3160.0,3150.0,3110.0,3070.0,3040.0,3010.0,3030.0,3010.0,3160.0,3130.0,3070.0,3060.0,3130.0,3170.0,3220.0,3210.0,3260.0,3170.0,3190.0,3270.0,3190.0,3230.0,3240.0,3310.0,3330.0,3370.0,3340.0,3320.0,3250.0,3230.0,3350.0,3300.0,3340.0,3420.0,3390.0,3400.0,3440.0,3400.0,3370.0,3360.0,3320.0,3400.0,3400.0,3340.0,3370.0,3390.0,3390.0,3380.0,3330.0,3390.0,3330.0,3350.0,3440.0,3450.0,3440.0,3530.0,3520.0,3530.0,3590.0,3560.0,3560.0,3520.0,3530.0,3530.0,3690.0,3660.0,3670.0,3670.0,3760.0,3720.0,3800.0,3810.0,3780.0,3770.0,3830.0,3810.0,3790.0,3740.0,3850.0,3870.0,3780.0,3800.0,3790.0,3750.0,3800.0,3700.0,3660.0,3720.0,3770.0,3770.0,3750.0,3710.0,3700.0,3650.0,3600.0,3600.0,3670.0,3630.0,3630.0,3900.0,3800.0,3800.0,3800.0,4000.0,4010.0,4140.0,3990.0,4080.0,4160.0,4070.0,4170.0,4150.0,4090.0,4150.0,4150.0,4080.0,4100.0,4080.0,4100.0,4100.0,4080.0,4160.0,4110.0,4160.0,4110.0,4080.0,4090.0,4080.0,4040.0,4180.0,4170.0,4050.0,4120.0,4170.0,4100.0,4090.0,4110.0,4180.0,4190.0,4180.0,4250.0,4250.0,4220.0,4330.0,4300.0,4290.0,4390.0,4270.0,4260.0,4190.0,4170.0,4200.0,4230.0,4290.0,4230.0,4280.0,4460.0,4450.0,4400.0,4410.0,4400.0,4410.0,4400.0,4370.0,4300.0,4350.0,4240.0,4340.0,4350.0,4290.0,4400.0,4510.0,4620.0,4440.0,4410.0,4590.0,4580.0,4620.0,4630.0,4480.0,4540.0,4550.0,4550.0,4550.0,4560.0,4520.0,4600.0,4560.0,4580.0,4580.0,4580.0,4540.0,4520.0,4430.0,4540.0,4580.0,4590.0,4630.0,4690.0,4680.0,4710.0,4680.0,4630.0,4620.0,4620.0,4710.0,4760.0,4770.0,4620.0,4310.0,4340.0,4330.0,4300.0,4260.0,4180.0,4250.0,4210.0,4170.0,4110.0,4150.0,4200.0,4300.0,4250.0,4310.0,4290.0,4310.0,4340.0,4250.0,4100.0,4050.0,4020.0,4080.0,4110.0,4060.0,4040.0,4120.0,4040.0,4110.0,4050.0,4160.0,4150.0,4070.0,4030.0,4040.0,4000.0,4020.0,3990.0,3990.0,4020.0,4040.0,4010.0,4040.0,4010.0,3940.0,4020.0,4150.0,4190.0,4160.0,4210.0,4260.0,4230.0,4240.0,4250.0,4300.0,4240.0,4230.0,4300.0,4450.0,4500.0,4550.0,4650.0,4700.0],\"type\":\"scatter\"}],                        {\"template\":{\"data\":{\"bar\":[{\"error_x\":{\"color\":\"#2a3f5f\"},\"error_y\":{\"color\":\"#2a3f5f\"},\"marker\":{\"line\":{\"color\":\"#E5ECF6\",\"width\":0.5},\"pattern\":{\"fillmode\":\"overlay\",\"size\":10,\"solidity\":0.2}},\"type\":\"bar\"}],\"barpolar\":[{\"marker\":{\"line\":{\"color\":\"#E5ECF6\",\"width\":0.5},\"pattern\":{\"fillmode\":\"overlay\",\"size\":10,\"solidity\":0.2}},\"type\":\"barpolar\"}],\"carpet\":[{\"aaxis\":{\"endlinecolor\":\"#2a3f5f\",\"gridcolor\":\"white\",\"linecolor\":\"white\",\"minorgridcolor\":\"white\",\"startlinecolor\":\"#2a3f5f\"},\"baxis\":{\"endlinecolor\":\"#2a3f5f\",\"gridcolor\":\"white\",\"linecolor\":\"white\",\"minorgridcolor\":\"white\",\"startlinecolor\":\"#2a3f5f\"},\"type\":\"carpet\"}],\"choropleth\":[{\"colorbar\":{\"outlinewidth\":0,\"ticks\":\"\"},\"type\":\"choropleth\"}],\"contour\":[{\"colorbar\":{\"outlinewidth\":0,\"ticks\":\"\"},\"colorscale\":[[0.0,\"#0d0887\"],[0.1111111111111111,\"#46039f\"],[0.2222222222222222,\"#7201a8\"],[0.3333333333333333,\"#9c179e\"],[0.4444444444444444,\"#bd3786\"],[0.5555555555555556,\"#d8576b\"],[0.6666666666666666,\"#ed7953\"],[0.7777777777777778,\"#fb9f3a\"],[0.8888888888888888,\"#fdca26\"],[1.0,\"#f0f921\"]],\"type\":\"contour\"}],\"contourcarpet\":[{\"colorbar\":{\"outlinewidth\":0,\"ticks\":\"\"},\"type\":\"contourcarpet\"}],\"heatmap\":[{\"colorbar\":{\"outlinewidth\":0,\"ticks\":\"\"},\"colorscale\":[[0.0,\"#0d0887\"],[0.1111111111111111,\"#46039f\"],[0.2222222222222222,\"#7201a8\"],[0.3333333333333333,\"#9c179e\"],[0.4444444444444444,\"#bd3786\"],[0.5555555555555556,\"#d8576b\"],[0.6666666666666666,\"#ed7953\"],[0.7777777777777778,\"#fb9f3a\"],[0.8888888888888888,\"#fdca26\"],[1.0,\"#f0f921\"]],\"type\":\"heatmap\"}],\"heatmapgl\":[{\"colorbar\":{\"outlinewidth\":0,\"ticks\":\"\"},\"colorscale\":[[0.0,\"#0d0887\"],[0.1111111111111111,\"#46039f\"],[0.2222222222222222,\"#7201a8\"],[0.3333333333333333,\"#9c179e\"],[0.4444444444444444,\"#bd3786\"],[0.5555555555555556,\"#d8576b\"],[0.6666666666666666,\"#ed7953\"],[0.7777777777777778,\"#fb9f3a\"],[0.8888888888888888,\"#fdca26\"],[1.0,\"#f0f921\"]],\"type\":\"heatmapgl\"}],\"histogram\":[{\"marker\":{\"pattern\":{\"fillmode\":\"overlay\",\"size\":10,\"solidity\":0.2}},\"type\":\"histogram\"}],\"histogram2d\":[{\"colorbar\":{\"outlinewidth\":0,\"ticks\":\"\"},\"colorscale\":[[0.0,\"#0d0887\"],[0.1111111111111111,\"#46039f\"],[0.2222222222222222,\"#7201a8\"],[0.3333333333333333,\"#9c179e\"],[0.4444444444444444,\"#bd3786\"],[0.5555555555555556,\"#d8576b\"],[0.6666666666666666,\"#ed7953\"],[0.7777777777777778,\"#fb9f3a\"],[0.8888888888888888,\"#fdca26\"],[1.0,\"#f0f921\"]],\"type\":\"histogram2d\"}],\"histogram2dcontour\":[{\"colorbar\":{\"outlinewidth\":0,\"ticks\":\"\"},\"colorscale\":[[0.0,\"#0d0887\"],[0.1111111111111111,\"#46039f\"],[0.2222222222222222,\"#7201a8\"],[0.3333333333333333,\"#9c179e\"],[0.4444444444444444,\"#bd3786\"],[0.5555555555555556,\"#d8576b\"],[0.6666666666666666,\"#ed7953\"],[0.7777777777777778,\"#fb9f3a\"],[0.8888888888888888,\"#fdca26\"],[1.0,\"#f0f921\"]],\"type\":\"histogram2dcontour\"}],\"mesh3d\":[{\"colorbar\":{\"outlinewidth\":0,\"ticks\":\"\"},\"type\":\"mesh3d\"}],\"parcoords\":[{\"line\":{\"colorbar\":{\"outlinewidth\":0,\"ticks\":\"\"}},\"type\":\"parcoords\"}],\"pie\":[{\"automargin\":true,\"type\":\"pie\"}],\"scatter\":[{\"marker\":{\"colorbar\":{\"outlinewidth\":0,\"ticks\":\"\"}},\"type\":\"scatter\"}],\"scatter3d\":[{\"line\":{\"colorbar\":{\"outlinewidth\":0,\"ticks\":\"\"}},\"marker\":{\"colorbar\":{\"outlinewidth\":0,\"ticks\":\"\"}},\"type\":\"scatter3d\"}],\"scattercarpet\":[{\"marker\":{\"colorbar\":{\"outlinewidth\":0,\"ticks\":\"\"}},\"type\":\"scattercarpet\"}],\"scattergeo\":[{\"marker\":{\"colorbar\":{\"outlinewidth\":0,\"ticks\":\"\"}},\"type\":\"scattergeo\"}],\"scattergl\":[{\"marker\":{\"colorbar\":{\"outlinewidth\":0,\"ticks\":\"\"}},\"type\":\"scattergl\"}],\"scattermapbox\":[{\"marker\":{\"colorbar\":{\"outlinewidth\":0,\"ticks\":\"\"}},\"type\":\"scattermapbox\"}],\"scatterpolar\":[{\"marker\":{\"colorbar\":{\"outlinewidth\":0,\"ticks\":\"\"}},\"type\":\"scatterpolar\"}],\"scatterpolargl\":[{\"marker\":{\"colorbar\":{\"outlinewidth\":0,\"ticks\":\"\"}},\"type\":\"scatterpolargl\"}],\"scatterternary\":[{\"marker\":{\"colorbar\":{\"outlinewidth\":0,\"ticks\":\"\"}},\"type\":\"scatterternary\"}],\"surface\":[{\"colorbar\":{\"outlinewidth\":0,\"ticks\":\"\"},\"colorscale\":[[0.0,\"#0d0887\"],[0.1111111111111111,\"#46039f\"],[0.2222222222222222,\"#7201a8\"],[0.3333333333333333,\"#9c179e\"],[0.4444444444444444,\"#bd3786\"],[0.5555555555555556,\"#d8576b\"],[0.6666666666666666,\"#ed7953\"],[0.7777777777777778,\"#fb9f3a\"],[0.8888888888888888,\"#fdca26\"],[1.0,\"#f0f921\"]],\"type\":\"surface\"}],\"table\":[{\"cells\":{\"fill\":{\"color\":\"#EBF0F8\"},\"line\":{\"color\":\"white\"}},\"header\":{\"fill\":{\"color\":\"#C8D4E3\"},\"line\":{\"color\":\"white\"}},\"type\":\"table\"}]},\"layout\":{\"annotationdefaults\":{\"arrowcolor\":\"#2a3f5f\",\"arrowhead\":0,\"arrowwidth\":1},\"autotypenumbers\":\"strict\",\"coloraxis\":{\"colorbar\":{\"outlinewidth\":0,\"ticks\":\"\"}},\"colorscale\":{\"diverging\":[[0,\"#8e0152\"],[0.1,\"#c51b7d\"],[0.2,\"#de77ae\"],[0.3,\"#f1b6da\"],[0.4,\"#fde0ef\"],[0.5,\"#f7f7f7\"],[0.6,\"#e6f5d0\"],[0.7,\"#b8e186\"],[0.8,\"#7fbc41\"],[0.9,\"#4d9221\"],[1,\"#276419\"]],\"sequential\":[[0.0,\"#0d0887\"],[0.1111111111111111,\"#46039f\"],[0.2222222222222222,\"#7201a8\"],[0.3333333333333333,\"#9c179e\"],[0.4444444444444444,\"#bd3786\"],[0.5555555555555556,\"#d8576b\"],[0.6666666666666666,\"#ed7953\"],[0.7777777777777778,\"#fb9f3a\"],[0.8888888888888888,\"#fdca26\"],[1.0,\"#f0f921\"]],\"sequentialminus\":[[0.0,\"#0d0887\"],[0.1111111111111111,\"#46039f\"],[0.2222222222222222,\"#7201a8\"],[0.3333333333333333,\"#9c179e\"],[0.4444444444444444,\"#bd3786\"],[0.5555555555555556,\"#d8576b\"],[0.6666666666666666,\"#ed7953\"],[0.7777777777777778,\"#fb9f3a\"],[0.8888888888888888,\"#fdca26\"],[1.0,\"#f0f921\"]]},\"colorway\":[\"#636efa\",\"#EF553B\",\"#00cc96\",\"#ab63fa\",\"#FFA15A\",\"#19d3f3\",\"#FF6692\",\"#B6E880\",\"#FF97FF\",\"#FECB52\"],\"font\":{\"color\":\"#2a3f5f\"},\"geo\":{\"bgcolor\":\"white\",\"lakecolor\":\"white\",\"landcolor\":\"#E5ECF6\",\"showlakes\":true,\"showland\":true,\"subunitcolor\":\"white\"},\"hoverlabel\":{\"align\":\"left\"},\"hovermode\":\"closest\",\"mapbox\":{\"style\":\"light\"},\"paper_bgcolor\":\"white\",\"plot_bgcolor\":\"#E5ECF6\",\"polar\":{\"angularaxis\":{\"gridcolor\":\"white\",\"linecolor\":\"white\",\"ticks\":\"\"},\"bgcolor\":\"#E5ECF6\",\"radialaxis\":{\"gridcolor\":\"white\",\"linecolor\":\"white\",\"ticks\":\"\"}},\"scene\":{\"xaxis\":{\"backgroundcolor\":\"#E5ECF6\",\"gridcolor\":\"white\",\"gridwidth\":2,\"linecolor\":\"white\",\"showbackground\":true,\"ticks\":\"\",\"zerolinecolor\":\"white\"},\"yaxis\":{\"backgroundcolor\":\"#E5ECF6\",\"gridcolor\":\"white\",\"gridwidth\":2,\"linecolor\":\"white\",\"showbackground\":true,\"ticks\":\"\",\"zerolinecolor\":\"white\"},\"zaxis\":{\"backgroundcolor\":\"#E5ECF6\",\"gridcolor\":\"white\",\"gridwidth\":2,\"linecolor\":\"white\",\"showbackground\":true,\"ticks\":\"\",\"zerolinecolor\":\"white\"}},\"shapedefaults\":{\"line\":{\"color\":\"#2a3f5f\"}},\"ternary\":{\"aaxis\":{\"gridcolor\":\"white\",\"linecolor\":\"white\",\"ticks\":\"\"},\"baxis\":{\"gridcolor\":\"white\",\"linecolor\":\"white\",\"ticks\":\"\"},\"bgcolor\":\"#E5ECF6\",\"caxis\":{\"gridcolor\":\"white\",\"linecolor\":\"white\",\"ticks\":\"\"}},\"title\":{\"x\":0.05},\"xaxis\":{\"automargin\":true,\"gridcolor\":\"white\",\"linecolor\":\"white\",\"ticks\":\"\",\"title\":{\"standoff\":15},\"zerolinecolor\":\"white\",\"zerolinewidth\":2},\"yaxis\":{\"automargin\":true,\"gridcolor\":\"white\",\"linecolor\":\"white\",\"ticks\":\"\",\"title\":{\"standoff\":15},\"zerolinecolor\":\"white\",\"zerolinewidth\":2}}},\"margin\":{\"l\":50,\"r\":50,\"b\":100,\"t\":100,\"pad\":4},\"title\":{\"text\":\"Data Normalized\"},\"xaxis\":{\"title\":{\"text\":\"Time\"}},\"yaxis\":{\"title\":{\"text\":\"Value\"}},\"autosize\":false,\"width\":600,\"height\":600,\"paper_bgcolor\":\"LightSteelBlue\",\"showlegend\":false},                        {\"responsive\": true}                    ).then(function(){\n",
              "                            \n",
              "var gd = document.getElementById('7c36601a-6acb-4df0-bbc1-ce2a65eb6fc0');\n",
              "var x = new MutationObserver(function (mutations, observer) {{\n",
              "        var display = window.getComputedStyle(gd).display;\n",
              "        if (!display || display === 'none') {{\n",
              "            console.log([gd, 'removed!']);\n",
              "            Plotly.purge(gd);\n",
              "            observer.disconnect();\n",
              "        }}\n",
              "}});\n",
              "\n",
              "// Listen for the removal of the full notebook cells\n",
              "var notebookContainer = gd.closest('#notebook-container');\n",
              "if (notebookContainer) {{\n",
              "    x.observe(notebookContainer, {childList: true});\n",
              "}}\n",
              "\n",
              "// Listen for the clearing of the current output cell\n",
              "var outputEl = gd.closest('.output');\n",
              "if (outputEl) {{\n",
              "    x.observe(outputEl, {childList: true});\n",
              "}}\n",
              "\n",
              "                        })                };                            </script>        </div>\n",
              "</body>\n",
              "</html>"
            ]
          },
          "metadata": {}
        }
      ]
    },
    {
      "cell_type": "code",
      "source": [
        "minmax_scaler = MinMaxScaler(feature_range=(-1, 1))\n",
        "\n",
        "training_set_normalized = minmax_scaler.fit_transform(training_set)"
      ],
      "metadata": {
        "id": "SZUKihsn7VKI"
      },
      "execution_count": null,
      "outputs": []
    },
    {
      "cell_type": "code",
      "source": [
        "plot_series_plotly(df_training['Date'], (training_set_normalized[:, 0],\n",
        "                                         training_set_normalized[:, 1],\n",
        "                                         training_set_normalized[:, 2]),\n",
        "                   series_name=['Volume','Open', 'Close'], figure_title='Data Normalized')"
      ],
      "metadata": {
        "colab": {
          "base_uri": "https://localhost:8080/",
          "height": 617
        },
        "id": "2aRj_5y4luZA",
        "outputId": "506bb426-c0b5-44c1-a930-f9cc25a20ff7"
      },
      "execution_count": null,
      "outputs": [
        {
          "output_type": "display_data",
          "data": {
            "text/html": [
              "<html>\n",
              "<head><meta charset=\"utf-8\" /></head>\n",
              "<body>\n",
              "    <div>            <script src=\"https://cdnjs.cloudflare.com/ajax/libs/mathjax/2.7.5/MathJax.js?config=TeX-AMS-MML_SVG\"></script><script type=\"text/javascript\">if (window.MathJax) {MathJax.Hub.Config({SVG: {font: \"STIX-Web\"}});}</script>                <script type=\"text/javascript\">window.PlotlyConfig = {MathJaxConfig: 'local'};</script>\n",
              "        <script src=\"https://cdn.plot.ly/plotly-2.8.3.min.js\"></script>                <div id=\"619abaa1-2607-4c4b-90c1-75935c4e2073\" class=\"plotly-graph-div\" style=\"height:600px; width:600px;\"></div>            <script type=\"text/javascript\">                                    window.PLOTLYENV=window.PLOTLYENV || {};                                    if (document.getElementById(\"619abaa1-2607-4c4b-90c1-75935c4e2073\")) {                    Plotly.newPlot(                        \"619abaa1-2607-4c4b-90c1-75935c4e2073\",                        [{\"mode\":\"lines\",\"name\":\"Volume\",\"x\":[\"2020-03-04T00:00:00\",\"2020-03-05T00:00:00\",\"2020-03-06T00:00:00\",\"2020-03-09T00:00:00\",\"2020-03-10T00:00:00\",\"2020-03-11T00:00:00\",\"2020-03-12T00:00:00\",\"2020-03-13T00:00:00\",\"2020-03-16T00:00:00\",\"2020-03-17T00:00:00\",\"2020-03-18T00:00:00\",\"2020-03-19T00:00:00\",\"2020-03-20T00:00:00\",\"2020-03-23T00:00:00\",\"2020-03-24T00:00:00\",\"2020-03-26T00:00:00\",\"2020-03-27T00:00:00\",\"2020-03-30T00:00:00\",\"2020-03-31T00:00:00\",\"2020-04-01T00:00:00\",\"2020-04-02T00:00:00\",\"2020-04-03T00:00:00\",\"2020-04-06T00:00:00\",\"2020-04-07T00:00:00\",\"2020-04-08T00:00:00\",\"2020-04-09T00:00:00\",\"2020-04-13T00:00:00\",\"2020-04-14T00:00:00\",\"2020-04-15T00:00:00\",\"2020-04-16T00:00:00\",\"2020-04-17T00:00:00\",\"2020-04-20T00:00:00\",\"2020-04-21T00:00:00\",\"2020-04-22T00:00:00\",\"2020-04-23T00:00:00\",\"2020-04-24T00:00:00\",\"2020-04-27T00:00:00\",\"2020-04-28T00:00:00\",\"2020-04-29T00:00:00\",\"2020-04-30T00:00:00\",\"2020-05-04T00:00:00\",\"2020-05-05T00:00:00\",\"2020-05-06T00:00:00\",\"2020-05-08T00:00:00\",\"2020-05-11T00:00:00\",\"2020-05-12T00:00:00\",\"2020-05-13T00:00:00\",\"2020-05-14T00:00:00\",\"2020-05-15T00:00:00\",\"2020-05-18T00:00:00\",\"2020-05-19T00:00:00\",\"2020-05-20T00:00:00\",\"2020-05-26T00:00:00\",\"2020-05-27T00:00:00\",\"2020-05-28T00:00:00\",\"2020-05-29T00:00:00\",\"2020-06-02T00:00:00\",\"2020-06-03T00:00:00\",\"2020-06-04T00:00:00\",\"2020-06-05T00:00:00\",\"2020-06-08T00:00:00\",\"2020-06-09T00:00:00\",\"2020-06-10T00:00:00\",\"2020-06-11T00:00:00\",\"2020-06-12T00:00:00\",\"2020-06-15T00:00:00\",\"2020-06-16T00:00:00\",\"2020-06-17T00:00:00\",\"2020-06-18T00:00:00\",\"2020-06-19T00:00:00\",\"2020-06-22T00:00:00\",\"2020-06-23T00:00:00\",\"2020-06-24T00:00:00\",\"2020-06-25T00:00:00\",\"2020-06-26T00:00:00\",\"2020-06-29T00:00:00\",\"2020-06-30T00:00:00\",\"2020-07-01T00:00:00\",\"2020-07-02T00:00:00\",\"2020-07-03T00:00:00\",\"2020-07-06T00:00:00\",\"2020-07-07T00:00:00\",\"2020-07-08T00:00:00\",\"2020-07-09T00:00:00\",\"2020-07-10T00:00:00\",\"2020-07-13T00:00:00\",\"2020-07-14T00:00:00\",\"2020-07-15T00:00:00\",\"2020-07-16T00:00:00\",\"2020-07-17T00:00:00\",\"2020-07-20T00:00:00\",\"2020-07-21T00:00:00\",\"2020-07-22T00:00:00\",\"2020-07-23T00:00:00\",\"2020-07-24T00:00:00\",\"2020-07-27T00:00:00\",\"2020-07-28T00:00:00\",\"2020-07-29T00:00:00\",\"2020-07-30T00:00:00\",\"2020-08-03T00:00:00\",\"2020-08-04T00:00:00\",\"2020-08-05T00:00:00\",\"2020-08-06T00:00:00\",\"2020-08-07T00:00:00\",\"2020-08-10T00:00:00\",\"2020-08-11T00:00:00\",\"2020-08-12T00:00:00\",\"2020-08-13T00:00:00\",\"2020-08-14T00:00:00\",\"2020-08-18T00:00:00\",\"2020-08-19T00:00:00\",\"2020-08-24T00:00:00\",\"2020-08-25T00:00:00\",\"2020-08-26T00:00:00\",\"2020-08-27T00:00:00\",\"2020-08-28T00:00:00\",\"2020-08-31T00:00:00\",\"2020-09-01T00:00:00\",\"2020-09-02T00:00:00\",\"2020-09-03T00:00:00\",\"2020-09-04T00:00:00\",\"2020-09-07T00:00:00\",\"2020-09-08T00:00:00\",\"2020-09-09T00:00:00\",\"2020-09-10T00:00:00\",\"2020-09-11T00:00:00\",\"2020-09-14T00:00:00\",\"2020-09-15T00:00:00\",\"2020-09-16T00:00:00\",\"2020-09-17T00:00:00\",\"2020-09-18T00:00:00\",\"2020-09-21T00:00:00\",\"2020-09-22T00:00:00\",\"2020-09-23T00:00:00\",\"2020-09-24T00:00:00\",\"2020-09-25T00:00:00\",\"2020-09-28T00:00:00\",\"2020-09-29T00:00:00\",\"2020-09-30T00:00:00\",\"2020-10-01T00:00:00\",\"2020-10-02T00:00:00\",\"2020-10-05T00:00:00\",\"2020-10-06T00:00:00\",\"2020-10-07T00:00:00\",\"2020-10-08T00:00:00\",\"2020-10-09T00:00:00\",\"2020-10-12T00:00:00\",\"2020-10-13T00:00:00\",\"2020-10-14T00:00:00\",\"2020-10-15T00:00:00\",\"2020-10-16T00:00:00\",\"2020-10-19T00:00:00\",\"2020-10-20T00:00:00\",\"2020-10-21T00:00:00\",\"2020-10-22T00:00:00\",\"2020-10-23T00:00:00\",\"2020-10-26T00:00:00\",\"2020-10-27T00:00:00\",\"2020-11-02T00:00:00\",\"2020-11-03T00:00:00\",\"2020-11-04T00:00:00\",\"2020-11-05T00:00:00\",\"2020-11-06T00:00:00\",\"2020-11-09T00:00:00\",\"2020-11-10T00:00:00\",\"2020-11-11T00:00:00\",\"2020-11-12T00:00:00\",\"2020-11-13T00:00:00\",\"2020-11-16T00:00:00\",\"2020-11-17T00:00:00\",\"2020-11-18T00:00:00\",\"2020-11-19T00:00:00\",\"2020-11-20T00:00:00\",\"2020-11-23T00:00:00\",\"2020-11-24T00:00:00\",\"2020-11-25T00:00:00\",\"2020-11-26T00:00:00\",\"2020-11-27T00:00:00\",\"2020-11-30T00:00:00\",\"2020-12-01T00:00:00\",\"2020-12-02T00:00:00\",\"2020-12-03T00:00:00\",\"2020-12-04T00:00:00\",\"2020-12-07T00:00:00\",\"2020-12-08T00:00:00\",\"2020-12-10T00:00:00\",\"2020-12-11T00:00:00\",\"2020-12-14T00:00:00\",\"2020-12-15T00:00:00\",\"2020-12-16T00:00:00\",\"2020-12-17T00:00:00\",\"2020-12-18T00:00:00\",\"2020-12-21T00:00:00\",\"2020-12-22T00:00:00\",\"2020-12-23T00:00:00\",\"2020-12-28T00:00:00\",\"2020-12-29T00:00:00\",\"2020-12-30T00:00:00\",\"2021-01-04T00:00:00\",\"2021-01-05T00:00:00\",\"2021-01-06T00:00:00\",\"2021-01-07T00:00:00\",\"2021-01-08T00:00:00\",\"2021-01-11T00:00:00\",\"2021-01-12T00:00:00\",\"2021-01-13T00:00:00\",\"2021-01-14T00:00:00\",\"2021-01-15T00:00:00\",\"2021-01-18T00:00:00\",\"2021-01-19T00:00:00\",\"2021-01-20T00:00:00\",\"2021-01-21T00:00:00\",\"2021-01-22T00:00:00\",\"2021-01-25T00:00:00\",\"2021-01-26T00:00:00\",\"2021-01-27T00:00:00\",\"2021-01-28T00:00:00\",\"2021-01-29T00:00:00\",\"2021-02-01T00:00:00\",\"2021-02-02T00:00:00\",\"2021-02-03T00:00:00\",\"2021-02-04T00:00:00\",\"2021-02-05T00:00:00\",\"2021-02-08T00:00:00\",\"2021-02-09T00:00:00\",\"2021-02-10T00:00:00\",\"2021-02-11T00:00:00\",\"2021-02-15T00:00:00\",\"2021-02-16T00:00:00\",\"2021-02-17T00:00:00\",\"2021-02-18T00:00:00\",\"2021-02-19T00:00:00\",\"2021-02-22T00:00:00\",\"2021-02-23T00:00:00\",\"2021-02-24T00:00:00\",\"2021-02-25T00:00:00\",\"2021-02-26T00:00:00\",\"2021-03-01T00:00:00\",\"2021-03-02T00:00:00\",\"2021-03-03T00:00:00\",\"2021-03-04T00:00:00\",\"2021-03-05T00:00:00\",\"2021-03-08T00:00:00\",\"2021-03-09T00:00:00\",\"2021-03-10T00:00:00\",\"2021-03-12T00:00:00\",\"2021-03-15T00:00:00\",\"2021-03-16T00:00:00\",\"2021-03-17T00:00:00\",\"2021-03-18T00:00:00\",\"2021-03-19T00:00:00\",\"2021-03-22T00:00:00\",\"2021-03-23T00:00:00\",\"2021-03-24T00:00:00\",\"2021-03-25T00:00:00\",\"2021-03-26T00:00:00\",\"2021-03-29T00:00:00\",\"2021-03-30T00:00:00\",\"2021-03-31T00:00:00\",\"2021-04-01T00:00:00\",\"2021-04-05T00:00:00\",\"2021-04-06T00:00:00\",\"2021-04-07T00:00:00\",\"2021-04-08T00:00:00\",\"2021-04-09T00:00:00\",\"2021-04-12T00:00:00\",\"2021-04-13T00:00:00\",\"2021-04-14T00:00:00\",\"2021-04-15T00:00:00\",\"2021-04-16T00:00:00\",\"2021-04-19T00:00:00\",\"2021-04-20T00:00:00\",\"2021-04-21T00:00:00\",\"2021-04-22T00:00:00\",\"2021-04-23T00:00:00\",\"2021-04-26T00:00:00\",\"2021-04-27T00:00:00\",\"2021-04-28T00:00:00\",\"2021-04-29T00:00:00\",\"2021-04-30T00:00:00\",\"2021-05-03T00:00:00\",\"2021-05-04T00:00:00\",\"2021-05-05T00:00:00\",\"2021-05-06T00:00:00\",\"2021-05-07T00:00:00\",\"2021-05-10T00:00:00\",\"2021-05-11T00:00:00\",\"2021-05-17T00:00:00\",\"2021-05-18T00:00:00\",\"2021-05-19T00:00:00\",\"2021-05-20T00:00:00\",\"2021-05-21T00:00:00\",\"2021-05-24T00:00:00\",\"2021-05-25T00:00:00\",\"2021-05-27T00:00:00\",\"2021-05-28T00:00:00\",\"2021-05-31T00:00:00\",\"2021-06-02T00:00:00\",\"2021-06-03T00:00:00\",\"2021-06-04T00:00:00\",\"2021-06-07T00:00:00\",\"2021-06-08T00:00:00\",\"2021-06-09T00:00:00\",\"2021-06-10T00:00:00\",\"2021-06-11T00:00:00\",\"2021-06-14T00:00:00\",\"2021-06-15T00:00:00\",\"2021-06-16T00:00:00\",\"2021-06-17T00:00:00\",\"2021-06-18T00:00:00\",\"2021-06-21T00:00:00\",\"2021-06-22T00:00:00\",\"2021-06-23T00:00:00\",\"2021-06-24T00:00:00\",\"2021-06-25T00:00:00\",\"2021-06-28T00:00:00\",\"2021-06-29T00:00:00\",\"2021-06-30T00:00:00\",\"2021-07-01T00:00:00\",\"2021-07-02T00:00:00\",\"2021-07-05T00:00:00\",\"2021-07-06T00:00:00\",\"2021-07-07T00:00:00\",\"2021-07-08T00:00:00\",\"2021-07-09T00:00:00\",\"2021-07-12T00:00:00\",\"2021-07-13T00:00:00\",\"2021-07-14T00:00:00\",\"2021-07-15T00:00:00\",\"2021-07-16T00:00:00\",\"2021-07-19T00:00:00\",\"2021-07-21T00:00:00\",\"2021-07-22T00:00:00\",\"2021-07-23T00:00:00\",\"2021-07-26T00:00:00\",\"2021-07-27T00:00:00\",\"2021-07-28T00:00:00\",\"2021-07-29T00:00:00\",\"2021-07-30T00:00:00\",\"2021-08-02T00:00:00\",\"2021-08-03T00:00:00\",\"2021-08-04T00:00:00\",\"2021-08-05T00:00:00\",\"2021-08-06T00:00:00\",\"2021-08-09T00:00:00\",\"2021-08-10T00:00:00\",\"2021-08-12T00:00:00\",\"2021-08-13T00:00:00\",\"2021-08-16T00:00:00\",\"2021-08-18T00:00:00\",\"2021-08-19T00:00:00\",\"2021-08-20T00:00:00\",\"2021-08-23T00:00:00\",\"2021-08-24T00:00:00\",\"2021-08-25T00:00:00\",\"2021-08-26T00:00:00\",\"2021-08-27T00:00:00\",\"2021-08-30T00:00:00\",\"2021-08-31T00:00:00\",\"2021-09-01T00:00:00\",\"2021-09-02T00:00:00\",\"2021-09-03T00:00:00\",\"2021-09-06T00:00:00\",\"2021-09-07T00:00:00\",\"2021-09-08T00:00:00\",\"2021-09-09T00:00:00\",\"2021-09-10T00:00:00\",\"2021-09-13T00:00:00\",\"2021-09-14T00:00:00\",\"2021-09-15T00:00:00\",\"2021-09-16T00:00:00\",\"2021-09-17T00:00:00\",\"2021-09-20T00:00:00\",\"2021-09-21T00:00:00\",\"2021-09-22T00:00:00\",\"2021-09-23T00:00:00\",\"2021-09-24T00:00:00\",\"2021-09-27T00:00:00\",\"2021-09-28T00:00:00\",\"2021-09-29T00:00:00\",\"2021-09-30T00:00:00\",\"2021-10-01T00:00:00\",\"2021-10-04T00:00:00\",\"2021-10-05T00:00:00\",\"2021-10-06T00:00:00\",\"2021-10-07T00:00:00\",\"2021-10-08T00:00:00\",\"2021-10-11T00:00:00\",\"2021-10-12T00:00:00\",\"2021-10-13T00:00:00\",\"2021-10-14T00:00:00\",\"2021-10-15T00:00:00\",\"2021-10-18T00:00:00\",\"2021-10-19T00:00:00\",\"2021-10-21T00:00:00\",\"2021-10-22T00:00:00\",\"2021-10-25T00:00:00\",\"2021-10-26T00:00:00\",\"2021-10-27T00:00:00\",\"2021-10-28T00:00:00\",\"2021-10-29T00:00:00\",\"2021-11-01T00:00:00\",\"2021-11-02T00:00:00\",\"2021-11-03T00:00:00\",\"2021-11-04T00:00:00\",\"2021-11-05T00:00:00\",\"2021-11-08T00:00:00\",\"2021-11-09T00:00:00\",\"2021-11-10T00:00:00\",\"2021-11-11T00:00:00\",\"2021-11-12T00:00:00\",\"2021-11-15T00:00:00\",\"2021-11-16T00:00:00\",\"2021-11-17T00:00:00\",\"2021-11-18T00:00:00\",\"2021-11-19T00:00:00\",\"2021-11-22T00:00:00\",\"2021-11-23T00:00:00\",\"2021-11-24T00:00:00\",\"2021-11-25T00:00:00\",\"2021-11-26T00:00:00\",\"2021-11-29T00:00:00\",\"2021-11-30T00:00:00\",\"2021-12-01T00:00:00\",\"2021-12-02T00:00:00\",\"2021-12-03T00:00:00\",\"2021-12-06T00:00:00\",\"2021-12-07T00:00:00\",\"2021-12-08T00:00:00\",\"2021-12-09T00:00:00\",\"2021-12-10T00:00:00\",\"2021-12-13T00:00:00\",\"2021-12-14T00:00:00\",\"2021-12-15T00:00:00\",\"2021-12-16T00:00:00\",\"2021-12-17T00:00:00\",\"2021-12-20T00:00:00\",\"2021-12-21T00:00:00\",\"2021-12-22T00:00:00\",\"2021-12-23T00:00:00\",\"2021-12-24T00:00:00\",\"2021-12-27T00:00:00\",\"2021-12-28T00:00:00\",\"2021-12-29T00:00:00\",\"2021-12-30T00:00:00\",\"2022-01-03T00:00:00\",\"2022-01-04T00:00:00\",\"2022-01-05T00:00:00\",\"2022-01-06T00:00:00\",\"2022-01-07T00:00:00\",\"2022-01-10T00:00:00\",\"2022-01-11T00:00:00\",\"2022-01-12T00:00:00\",\"2022-01-13T00:00:00\",\"2022-01-14T00:00:00\",\"2022-01-17T00:00:00\",\"2022-01-18T00:00:00\",\"2022-01-19T00:00:00\",\"2022-01-20T00:00:00\",\"2022-01-21T00:00:00\",\"2022-01-24T00:00:00\",\"2022-01-25T00:00:00\",\"2022-01-26T00:00:00\",\"2022-01-27T00:00:00\",\"2022-01-28T00:00:00\",\"2022-01-31T00:00:00\",\"2022-02-02T00:00:00\",\"2022-02-03T00:00:00\",\"2022-02-04T00:00:00\",\"2022-02-07T00:00:00\",\"2022-02-08T00:00:00\",\"2022-02-09T00:00:00\",\"2022-02-10T00:00:00\",\"2022-02-11T00:00:00\",\"2022-02-14T00:00:00\",\"2022-02-15T00:00:00\",\"2022-02-16T00:00:00\",\"2022-02-17T00:00:00\",\"2022-02-18T00:00:00\",\"2022-02-21T00:00:00\",\"2022-02-22T00:00:00\",\"2022-02-23T00:00:00\",\"2022-02-24T00:00:00\",\"2022-02-25T00:00:00\",\"2022-03-01T00:00:00\",\"2022-03-02T00:00:00\",\"2022-03-04T00:00:00\",\"2022-03-07T00:00:00\",\"2022-03-08T00:00:00\",\"2022-03-09T00:00:00\",\"2022-03-10T00:00:00\",\"2022-03-11T00:00:00\",\"2022-03-14T00:00:00\",\"2022-03-15T00:00:00\",\"2022-03-16T00:00:00\",\"2022-03-17T00:00:00\",\"2022-03-18T00:00:00\",\"2022-03-21T00:00:00\",\"2022-03-22T00:00:00\",\"2022-03-23T00:00:00\",\"2022-03-24T00:00:00\",\"2022-03-25T00:00:00\",\"2022-03-28T00:00:00\",\"2022-03-29T00:00:00\",\"2022-03-30T00:00:00\",\"2022-03-31T00:00:00\",\"2022-04-01T00:00:00\",\"2022-04-04T00:00:00\",\"2022-04-05T00:00:00\",\"2022-04-06T00:00:00\",\"2022-04-07T00:00:00\",\"2022-04-08T00:00:00\",\"2022-04-11T00:00:00\",\"2022-04-12T00:00:00\",\"2022-04-13T00:00:00\",\"2022-04-14T00:00:00\",\"2022-04-18T00:00:00\",\"2022-04-19T00:00:00\",\"2022-04-20T00:00:00\",\"2022-04-21T00:00:00\",\"2022-04-22T00:00:00\",\"2022-04-25T00:00:00\",\"2022-04-26T00:00:00\",\"2022-04-27T00:00:00\",\"2022-04-28T00:00:00\",\"2022-05-09T00:00:00\",\"2022-05-10T00:00:00\",\"2022-05-11T00:00:00\",\"2022-05-12T00:00:00\",\"2022-05-13T00:00:00\",\"2022-05-17T00:00:00\",\"2022-05-18T00:00:00\",\"2022-05-19T00:00:00\",\"2022-05-20T00:00:00\",\"2022-05-23T00:00:00\",\"2022-05-24T00:00:00\",\"2022-05-25T00:00:00\",\"2022-05-27T00:00:00\",\"2022-05-30T00:00:00\",\"2022-05-31T00:00:00\",\"2022-06-02T00:00:00\",\"2022-06-03T00:00:00\",\"2022-06-06T00:00:00\",\"2022-06-07T00:00:00\",\"2022-06-08T00:00:00\",\"2022-06-09T00:00:00\",\"2022-06-10T00:00:00\",\"2022-06-13T00:00:00\",\"2022-06-14T00:00:00\",\"2022-06-15T00:00:00\",\"2022-06-16T00:00:00\",\"2022-06-17T00:00:00\",\"2022-06-20T00:00:00\",\"2022-06-21T00:00:00\",\"2022-06-22T00:00:00\",\"2022-06-23T00:00:00\",\"2022-06-24T00:00:00\",\"2022-06-27T00:00:00\",\"2022-06-28T00:00:00\",\"2022-06-29T00:00:00\",\"2022-06-30T00:00:00\",\"2022-07-01T00:00:00\",\"2022-07-04T00:00:00\",\"2022-07-05T00:00:00\",\"2022-07-06T00:00:00\",\"2022-07-07T00:00:00\",\"2022-07-08T00:00:00\",\"2022-07-11T00:00:00\",\"2022-07-12T00:00:00\",\"2022-07-13T00:00:00\",\"2022-07-14T00:00:00\",\"2022-07-15T00:00:00\",\"2022-07-18T00:00:00\",\"2022-07-19T00:00:00\",\"2022-07-20T00:00:00\",\"2022-07-21T00:00:00\",\"2022-07-22T00:00:00\",\"2022-07-25T00:00:00\",\"2022-07-26T00:00:00\",\"2022-07-27T00:00:00\",\"2022-07-28T00:00:00\",\"2022-07-29T00:00:00\",\"2022-08-01T00:00:00\",\"2022-08-02T00:00:00\",\"2022-08-03T00:00:00\",\"2022-08-04T00:00:00\",\"2022-08-05T00:00:00\",\"2022-08-08T00:00:00\"],\"y\":[-0.5639425990150329,-0.6756029791909733,-0.7228966585520681,-0.6496079581813515,-0.6163761294293963,-0.6299342490001484,-0.7296649836111171,-1.0,-0.62837883522131,-0.5189474328462758,-0.5188686047066808,-0.5546296631571055,-0.14220019591676647,-0.7239182199708849,-0.21883588782435293,-0.14324226546946162,-0.35606862918826565,-0.5690911019372816,-0.5151656047832659,-0.6649784840836053,-0.7023321273055227,-0.7325316361998043,-0.6299082933932085,-0.46670648662661385,-0.6008799912071376,-0.6070692819237142,-0.8542977197839083,-0.7464854986664906,-0.7762306242195294,-0.6488542842613211,-0.5902846561026278,-0.7522780851683574,-0.8614438431217482,-0.5953543308852817,-0.6238311565337793,-0.7306339929368706,-0.726102977108116,-0.7429667515083893,-0.5036323429934121,-0.47713839753928033,-0.6507573749973163,-0.7627571007010256,-0.7231562146214663,-0.5398987346801837,-0.8126290370181429,-0.5546572209620045,-0.7653142086439861,-0.674493296884398,-0.6322830712084065,-0.6512694374650921,-0.6879331742457573,-0.756188409507699,-0.6609976630340566,-0.5876137921045608,-0.43158790955784787,-0.11529160163078123,-0.4399017147683879,-0.3072067184646585,-0.4625952466631824,-0.3962254779596842,-0.2897725615908928,-0.4513609550125244,-0.15569390712955666,-0.4367703790768328,-0.16657731742713922,-0.22573559311606028,-0.3769859644254374,-0.43030679206963285,-0.24508726050745455,-0.27145238924566273,-0.4880128355282911,-0.4639974903171167,-0.45238283687093306,-0.6767322083126517,-0.6770465595522561,-0.4981493011372722,-0.17304667234699245,-0.5256295596551173,-0.4284706732083341,-0.673045550808421,-0.20347497510985468,-0.45812319171932825,-0.4931725538362547,-0.5964358145077744,-0.694228850906828,-0.7509098081111591,-0.6428937874133251,-0.6721771595145084,-0.7053525908982979,-0.6397736671074847,-0.7925618280181485,-0.6754466046701507,-0.7774159302697813,-0.7741474464329146,-0.5601482738079406,-0.8118737609001533,-0.6708915558720074,-0.6335709179280504,-0.693066936946781,-0.18076478035628396,-0.6923203126977713,-0.6131682086753892,-0.7702480170396957,-0.7489445520943452,-0.7901588515188677,-0.4370100678915363,-0.6445209796607378,-0.48439154770079784,-0.701967146610406,-0.5534401913921594,-0.6668049897571484,-0.754178291948026,-0.6795168283658254,-0.60757269252251,-0.6706271932087315,-0.4854717495649231,-0.3454665648523271,-0.7097926018829671,-0.6552396840081096,-0.6055193156179373,-0.5399477619377366,-0.8006654248564351,-0.743429786718612,-0.6526518138643316,-0.07874802969705963,-0.3663089172250059,-0.5912386047675644,-0.6596422035605325,-0.781737699045058,-0.6883487843963864,-0.48051390819982487,-0.6785827469555836,-0.7568132667118059,-0.7245715962986663,-0.7612186702205553,-0.4201039954651389,-0.7139861948215039,-0.5005823989581868,-0.24500715060949207,-0.2789916919627021,-0.5508657797112391,-0.6003471001658915,-0.5226174274917302,-0.6469204313245083,-0.5046394846305957,-0.6503289472630133,-0.7517262881911921,-0.6885150925445563,-0.4128377072803555,-0.5563100483767651,-0.5668457817171909,-0.39808466847159607,-0.4609850377141378,-0.5445069764505739,-0.17589538031853613,-0.46692951258254123,-0.6874970559612499,-0.5309834643557418,0.25455496868824534,-0.39477292528982966,-0.5171673909135508,0.18325651862250703,-0.2185574258190356,-0.3328681618591649,-0.37406195314980906,0.5398090115944658,-0.4565027287033444,-0.4017110833325589,-0.3394282011835116,0.6903246149197315,-0.2337565165396498,-0.4053961386388303,-0.32101253783991035,-0.16444671458093074,-0.3350753497678255,-0.18878730597783266,0.199038168521104,-0.4755954809045241,1.0,-0.10940480588891066,-0.39989162733003647,-0.6108767451540722,-0.4539103724052804,-0.43783071368626336,-0.6354195339334312,-0.2649750233360133,-0.5053521422828693,-0.09804297928069639,0.31436533894658036,0.458283411515253,-0.19954894923051236,-0.3980330776973082,-0.14131738484122058,-0.000677088857578334,-0.23072836239667027,-0.42917499943121973,-0.4087072409414131,-0.5166344998723048,-0.4701858197149177,-0.49434408098405713,-0.43000878324921266,-0.5506735159561292,0.5786254615531772,-0.1308678497510024,-0.3918713447856307,-0.47983265362755245,-0.3993411121112387,-0.572840245161923,-0.5548674293342579,-0.5382443050674637,-0.627975722214763,-0.7378743255147141,-0.4711971270667953,-0.6214589422353161,-0.6429838309386349,-0.4900373728695975,-0.5428967675015293,-0.38502803686208886,-0.5708365363940868,-0.6323449160496335,-0.7230315636202368,-0.7426245220242937,-0.8313510406115525,-0.6903412777785076,-0.49537429427185387,-0.598741056931541,-0.7438383471982204,-0.7151827162574707,-0.7371552590706034,-0.6119306709716658,-0.5154943758045036,-0.7974353937705903,-0.6781969376869965,0.13745224248432963,-0.029013241525253974,-0.2731372606196084,-0.2629642648971565,-0.7067545141126403,-0.4582603398646399,-0.7352826100958338,-0.5439436436481022,-0.5880877222609064,-0.7433442293475883,-0.6472254898159491,-0.7063751136358902,-0.6789349100670263,-0.8395325042706586,-0.8073799160640533,-0.8022842856744596,-0.6734835917304796,-0.5513845714104437,-0.8273782305518002,-0.8227225637218161,-0.7847504720876287,-0.6551839275191278,-0.6577371901869862,-0.768597432702078,-0.7869339474664925,-0.5684579133037866,-0.7650152385047904,-0.884548178573294,-0.8700091934118902,-0.7284136670049441,-0.8106852504539828,-0.8177935619199843,-0.7468424683718111,-0.8356138485019289,-0.8314888296360479,-0.7895702039886398,-0.8317121760315671,-0.8561235845782679,-0.8215148269001347,-0.8488556941955252,-0.8238543563602292,-0.8724701694772957,-0.8235140495136848,-0.4649126657914393,-0.7064891901305888,-0.6417962818112399,-0.539077127566681,-0.6003336417030338,-0.8071575309873096,-0.7549268388345869,-0.7053378506770729,-0.6856490808350528,-0.6663522086138649,-0.6978834644518737,-0.6344700714227807,-0.7522668697826427,-0.8431188641826404,-0.3673532298548441,-0.6664178987301941,-0.7938064153928925,-0.8006279334241886,-0.2516091675203711,-0.7198082617658208,-0.500857015688402,-0.6509342576520174,-0.7512494740785198,-0.7736921017728962,-0.6012440105834789,-0.5757078590693858,-0.6404533194817978,-0.558710781798903,-0.7361609350170939,-0.8525449152164906,-0.8060424012076728,-0.8745485406700327,-0.8388634264028765,-0.4603339044634992,-0.7620793709642636,-0.7136897881990429,-0.737556769879191,-0.6752851031158584,-0.8130853429969369,-0.7874238996024305,-0.604541654423204,-0.5443204806081174,-0.5396375764128262,-0.4813502555345526,-0.5712037601663467,-0.5142984952477206,-0.6468259016449125,-0.5751720840718131,-0.2856875976739931,-0.7235631729031153,-0.7344946491394755,-0.7276474959408314,-0.7177157912310423,-0.7961161439709451,-0.6275867085502576,-0.6311759524185658,-0.8434149503655094,-0.7848940290247773,-0.8220733531087286,-0.7991696128416808,-0.6690426194270348,-0.5945080499232067,-0.6951238386868641,-0.8065563863129996,-0.7125256311618531,-0.7977750597379509,-0.7124285379655226,-0.8985353667575326,-0.7747325691276321,-0.8152409401313098,-0.7015637131642672,-0.8080451486567333,-0.8761122858782593,-0.47793565124380233,-0.6768309037069413,-0.636586254487356,-0.7945264431557788,-0.7778132753636748,-0.7865289118223944,-0.8213353807286988,-0.7999848111633463,-0.794349240061486,-0.5833676470729605,-0.7271931125995886,-0.8345448620235183,-0.7901767961360112,-0.8313193170919595,-0.8634369773830531,-0.7416077671993548,-0.7365525121983342,-0.8330019453887622,-0.8540487382210411,-0.46806354829809727,-0.7655718420758333,-0.8131237957479589,-0.6232492382349804,-0.7308784883454518,-0.6928647395643239,-0.7858335579080806,-0.6643795824864382,-0.7685641069845257,-0.7202466231274711,-0.8248102276627168,-0.8296219485739317,-0.5069911907951805,-0.6478420155906679,-0.7365823130803761,-0.5498198648834417,-0.5080108295764462,-0.8178698265428446,-0.7072406209734763,-0.7472853158877475,-0.7761207134395249,-0.7207564425181041,-0.6929615123210625,-0.7766289306321985,-0.748196325647376,-0.8042251882822932,-0.456343790665787,-0.8088875843437061,-0.813355794012458,-0.8121740127977164,-0.8326981686556887,-0.8040476647484085,-0.7743115115039416,-0.7902815798825461,-0.4544195509167296,-0.8435918330202105,-0.8285834038567468,-0.8617847908474762,-0.8117141819834122,-0.7038247349243587,-0.8285289291261324,-0.6930521967255561,-0.6310381633940705,-0.7083942035041351,-0.6808719673997576,-0.7371648722583589,-0.8292364597449364,-0.0046665617761069145,-0.33770551793772774,-0.782809889919387,-0.784331977980673,-0.15116481393835324,-0.2569957570593643,-0.26691560550425497,0.39647766391846995,-0.35688030267442084,-0.6279917441943557,-0.6899404078491037,-0.6579086253686257,-0.6105268251197723,-0.6351936240211773,-0.7212630575128184,-0.709281180294375,-0.7900063222731472,-0.7573089867603974,-0.7294704767788643,-0.6854427177379016,-0.5205717411373618,-0.766738562629758,-0.6858432672277137,-0.8379392786199821,-0.825334146395391,-0.9068302660321536,-0.9014712342980594,-0.873608050467954,-0.9179799616305633,-0.8379373559824309,-0.7887088623657479,-0.8622600027621893,-0.6168032754053321,-0.7141758950598789,-0.7807709327964475,-0.8560546900660202,-0.8016792957250475,-0.855376960329258,-0.7303552104919613,-0.909658145430227,-0.8724128107903546,-0.64042768431445,-0.715725540926064,-0.6795139444094987,-0.7579565951755256,-0.7743961075561898,-0.6271569990575872,-0.5909864188087786,-0.6840020213329454,-0.8023313902944615,-0.7156550442158571,-0.5385477613609454,-0.813464423034095,-0.683634156681502,-0.7106885509817789,-0.7718136848854733,-0.6943807392733647,-0.25022038232929467,-0.5831660905696872,-0.663847011884784,-0.7586900814012695,-0.7112159945499634,-0.7661745889481025,-0.7721312405209964,-0.8113155551311511,-0.6571751391428817,-0.6457142967007861,-0.5957378970767258,-0.33105992124235717,-0.33855852813123155,-0.5124021337431541,-0.5021358900994741,-0.43166705813703476,-0.2498957770227509,-0.5348950704534509,-0.5807663184663249,-0.5403415821961199,-0.46623511998700295,-0.2595352408247731,-0.6476385364498434,-0.21075472175749577,-0.3262241673617535,-0.744636562221518,-0.6837264432839547,-0.7490974017796574,-0.7129553406545235,-0.711432291274462,-0.40997137513126003,-0.7503109065139921,-0.619480868634828,-0.6535737185700832,-0.7225303960985838,-0.6684081490351724,-0.8328192948214078,-0.6527434595876007,-0.5388175714972828,-0.4809695732994351,-0.7099332748637892,-0.3977401959103577,-0.36916916102185626,-0.638751785249076,-0.612978828876606,-0.7043358360733589,-0.7168566926852934,-0.687328504735937,-0.6753975774125978,-0.7050497754839999,-0.7245956292680551,-0.562646100426409,-0.36397611699634025,0.10129319806082782,-0.09832688875907525,-0.5050637466502046,-0.25171427170649785,-0.38831542663487484,-0.4524305823701186,-0.40603477474538674,-0.63893091098092,-0.5459313304363458,-0.3701122147406698,-0.5139133268583174,-0.46616238019965306,-0.40233690185544135,-0.6551618171872902,0.5048493725632572,-0.4729374344901309,-0.6511925319630483,-0.7458292383823825,-0.5433607640305276,-0.35093070077254784,-0.5238902135505572,-0.3937709106861157,-0.4999383153785689,-0.6240423262248083,-0.6960668924056779,-0.6922427663165437,-0.4572528777878645,-0.7369152498163081,-0.7516945646715991,-0.8048272942753787,-0.6761464447387504,-0.7402814677286889,-0.7706476052107323,-0.5878544422380398,-0.7664376698530111,-0.6259864332285603,-0.8731940425152842,-0.628657938105811,-0.7682273249734917,-0.7991516682245372,-0.864153480310429,-0.7947616458161965,-0.8645886372761609,-0.8609298580164213,-0.6916787926348882,-0.7798307630339605,-0.5318576235623077,-0.7308006215246323,-0.7072210741583734,-0.736137222487297,-0.6563778854383597,-0.8084017979224619,-0.8807387927053849,-0.8404630608453901,-0.8055819295141847,-0.645057715977086,-0.6512861003238684,-0.6644218805125623,-0.6403744913422029,-0.19305299782453567,-0.4011576841574346,-0.13812260211047922,-0.3878850762630207],\"type\":\"scatter\"},{\"mode\":\"lines\",\"name\":\"Open\",\"x\":[\"2020-03-04T00:00:00\",\"2020-03-05T00:00:00\",\"2020-03-06T00:00:00\",\"2020-03-09T00:00:00\",\"2020-03-10T00:00:00\",\"2020-03-11T00:00:00\",\"2020-03-12T00:00:00\",\"2020-03-13T00:00:00\",\"2020-03-16T00:00:00\",\"2020-03-17T00:00:00\",\"2020-03-18T00:00:00\",\"2020-03-19T00:00:00\",\"2020-03-20T00:00:00\",\"2020-03-23T00:00:00\",\"2020-03-24T00:00:00\",\"2020-03-26T00:00:00\",\"2020-03-27T00:00:00\",\"2020-03-30T00:00:00\",\"2020-03-31T00:00:00\",\"2020-04-01T00:00:00\",\"2020-04-02T00:00:00\",\"2020-04-03T00:00:00\",\"2020-04-06T00:00:00\",\"2020-04-07T00:00:00\",\"2020-04-08T00:00:00\",\"2020-04-09T00:00:00\",\"2020-04-13T00:00:00\",\"2020-04-14T00:00:00\",\"2020-04-15T00:00:00\",\"2020-04-16T00:00:00\",\"2020-04-17T00:00:00\",\"2020-04-20T00:00:00\",\"2020-04-21T00:00:00\",\"2020-04-22T00:00:00\",\"2020-04-23T00:00:00\",\"2020-04-24T00:00:00\",\"2020-04-27T00:00:00\",\"2020-04-28T00:00:00\",\"2020-04-29T00:00:00\",\"2020-04-30T00:00:00\",\"2020-05-04T00:00:00\",\"2020-05-05T00:00:00\",\"2020-05-06T00:00:00\",\"2020-05-08T00:00:00\",\"2020-05-11T00:00:00\",\"2020-05-12T00:00:00\",\"2020-05-13T00:00:00\",\"2020-05-14T00:00:00\",\"2020-05-15T00:00:00\",\"2020-05-18T00:00:00\",\"2020-05-19T00:00:00\",\"2020-05-20T00:00:00\",\"2020-05-26T00:00:00\",\"2020-05-27T00:00:00\",\"2020-05-28T00:00:00\",\"2020-05-29T00:00:00\",\"2020-06-02T00:00:00\",\"2020-06-03T00:00:00\",\"2020-06-04T00:00:00\",\"2020-06-05T00:00:00\",\"2020-06-08T00:00:00\",\"2020-06-09T00:00:00\",\"2020-06-10T00:00:00\",\"2020-06-11T00:00:00\",\"2020-06-12T00:00:00\",\"2020-06-15T00:00:00\",\"2020-06-16T00:00:00\",\"2020-06-17T00:00:00\",\"2020-06-18T00:00:00\",\"2020-06-19T00:00:00\",\"2020-06-22T00:00:00\",\"2020-06-23T00:00:00\",\"2020-06-24T00:00:00\",\"2020-06-25T00:00:00\",\"2020-06-26T00:00:00\",\"2020-06-29T00:00:00\",\"2020-06-30T00:00:00\",\"2020-07-01T00:00:00\",\"2020-07-02T00:00:00\",\"2020-07-03T00:00:00\",\"2020-07-06T00:00:00\",\"2020-07-07T00:00:00\",\"2020-07-08T00:00:00\",\"2020-07-09T00:00:00\",\"2020-07-10T00:00:00\",\"2020-07-13T00:00:00\",\"2020-07-14T00:00:00\",\"2020-07-15T00:00:00\",\"2020-07-16T00:00:00\",\"2020-07-17T00:00:00\",\"2020-07-20T00:00:00\",\"2020-07-21T00:00:00\",\"2020-07-22T00:00:00\",\"2020-07-23T00:00:00\",\"2020-07-24T00:00:00\",\"2020-07-27T00:00:00\",\"2020-07-28T00:00:00\",\"2020-07-29T00:00:00\",\"2020-07-30T00:00:00\",\"2020-08-03T00:00:00\",\"2020-08-04T00:00:00\",\"2020-08-05T00:00:00\",\"2020-08-06T00:00:00\",\"2020-08-07T00:00:00\",\"2020-08-10T00:00:00\",\"2020-08-11T00:00:00\",\"2020-08-12T00:00:00\",\"2020-08-13T00:00:00\",\"2020-08-14T00:00:00\",\"2020-08-18T00:00:00\",\"2020-08-19T00:00:00\",\"2020-08-24T00:00:00\",\"2020-08-25T00:00:00\",\"2020-08-26T00:00:00\",\"2020-08-27T00:00:00\",\"2020-08-28T00:00:00\",\"2020-08-31T00:00:00\",\"2020-09-01T00:00:00\",\"2020-09-02T00:00:00\",\"2020-09-03T00:00:00\",\"2020-09-04T00:00:00\",\"2020-09-07T00:00:00\",\"2020-09-08T00:00:00\",\"2020-09-09T00:00:00\",\"2020-09-10T00:00:00\",\"2020-09-11T00:00:00\",\"2020-09-14T00:00:00\",\"2020-09-15T00:00:00\",\"2020-09-16T00:00:00\",\"2020-09-17T00:00:00\",\"2020-09-18T00:00:00\",\"2020-09-21T00:00:00\",\"2020-09-22T00:00:00\",\"2020-09-23T00:00:00\",\"2020-09-24T00:00:00\",\"2020-09-25T00:00:00\",\"2020-09-28T00:00:00\",\"2020-09-29T00:00:00\",\"2020-09-30T00:00:00\",\"2020-10-01T00:00:00\",\"2020-10-02T00:00:00\",\"2020-10-05T00:00:00\",\"2020-10-06T00:00:00\",\"2020-10-07T00:00:00\",\"2020-10-08T00:00:00\",\"2020-10-09T00:00:00\",\"2020-10-12T00:00:00\",\"2020-10-13T00:00:00\",\"2020-10-14T00:00:00\",\"2020-10-15T00:00:00\",\"2020-10-16T00:00:00\",\"2020-10-19T00:00:00\",\"2020-10-20T00:00:00\",\"2020-10-21T00:00:00\",\"2020-10-22T00:00:00\",\"2020-10-23T00:00:00\",\"2020-10-26T00:00:00\",\"2020-10-27T00:00:00\",\"2020-11-02T00:00:00\",\"2020-11-03T00:00:00\",\"2020-11-04T00:00:00\",\"2020-11-05T00:00:00\",\"2020-11-06T00:00:00\",\"2020-11-09T00:00:00\",\"2020-11-10T00:00:00\",\"2020-11-11T00:00:00\",\"2020-11-12T00:00:00\",\"2020-11-13T00:00:00\",\"2020-11-16T00:00:00\",\"2020-11-17T00:00:00\",\"2020-11-18T00:00:00\",\"2020-11-19T00:00:00\",\"2020-11-20T00:00:00\",\"2020-11-23T00:00:00\",\"2020-11-24T00:00:00\",\"2020-11-25T00:00:00\",\"2020-11-26T00:00:00\",\"2020-11-27T00:00:00\",\"2020-11-30T00:00:00\",\"2020-12-01T00:00:00\",\"2020-12-02T00:00:00\",\"2020-12-03T00:00:00\",\"2020-12-04T00:00:00\",\"2020-12-07T00:00:00\",\"2020-12-08T00:00:00\",\"2020-12-10T00:00:00\",\"2020-12-11T00:00:00\",\"2020-12-14T00:00:00\",\"2020-12-15T00:00:00\",\"2020-12-16T00:00:00\",\"2020-12-17T00:00:00\",\"2020-12-18T00:00:00\",\"2020-12-21T00:00:00\",\"2020-12-22T00:00:00\",\"2020-12-23T00:00:00\",\"2020-12-28T00:00:00\",\"2020-12-29T00:00:00\",\"2020-12-30T00:00:00\",\"2021-01-04T00:00:00\",\"2021-01-05T00:00:00\",\"2021-01-06T00:00:00\",\"2021-01-07T00:00:00\",\"2021-01-08T00:00:00\",\"2021-01-11T00:00:00\",\"2021-01-12T00:00:00\",\"2021-01-13T00:00:00\",\"2021-01-14T00:00:00\",\"2021-01-15T00:00:00\",\"2021-01-18T00:00:00\",\"2021-01-19T00:00:00\",\"2021-01-20T00:00:00\",\"2021-01-21T00:00:00\",\"2021-01-22T00:00:00\",\"2021-01-25T00:00:00\",\"2021-01-26T00:00:00\",\"2021-01-27T00:00:00\",\"2021-01-28T00:00:00\",\"2021-01-29T00:00:00\",\"2021-02-01T00:00:00\",\"2021-02-02T00:00:00\",\"2021-02-03T00:00:00\",\"2021-02-04T00:00:00\",\"2021-02-05T00:00:00\",\"2021-02-08T00:00:00\",\"2021-02-09T00:00:00\",\"2021-02-10T00:00:00\",\"2021-02-11T00:00:00\",\"2021-02-15T00:00:00\",\"2021-02-16T00:00:00\",\"2021-02-17T00:00:00\",\"2021-02-18T00:00:00\",\"2021-02-19T00:00:00\",\"2021-02-22T00:00:00\",\"2021-02-23T00:00:00\",\"2021-02-24T00:00:00\",\"2021-02-25T00:00:00\",\"2021-02-26T00:00:00\",\"2021-03-01T00:00:00\",\"2021-03-02T00:00:00\",\"2021-03-03T00:00:00\",\"2021-03-04T00:00:00\",\"2021-03-05T00:00:00\",\"2021-03-08T00:00:00\",\"2021-03-09T00:00:00\",\"2021-03-10T00:00:00\",\"2021-03-12T00:00:00\",\"2021-03-15T00:00:00\",\"2021-03-16T00:00:00\",\"2021-03-17T00:00:00\",\"2021-03-18T00:00:00\",\"2021-03-19T00:00:00\",\"2021-03-22T00:00:00\",\"2021-03-23T00:00:00\",\"2021-03-24T00:00:00\",\"2021-03-25T00:00:00\",\"2021-03-26T00:00:00\",\"2021-03-29T00:00:00\",\"2021-03-30T00:00:00\",\"2021-03-31T00:00:00\",\"2021-04-01T00:00:00\",\"2021-04-05T00:00:00\",\"2021-04-06T00:00:00\",\"2021-04-07T00:00:00\",\"2021-04-08T00:00:00\",\"2021-04-09T00:00:00\",\"2021-04-12T00:00:00\",\"2021-04-13T00:00:00\",\"2021-04-14T00:00:00\",\"2021-04-15T00:00:00\",\"2021-04-16T00:00:00\",\"2021-04-19T00:00:00\",\"2021-04-20T00:00:00\",\"2021-04-21T00:00:00\",\"2021-04-22T00:00:00\",\"2021-04-23T00:00:00\",\"2021-04-26T00:00:00\",\"2021-04-27T00:00:00\",\"2021-04-28T00:00:00\",\"2021-04-29T00:00:00\",\"2021-04-30T00:00:00\",\"2021-05-03T00:00:00\",\"2021-05-04T00:00:00\",\"2021-05-05T00:00:00\",\"2021-05-06T00:00:00\",\"2021-05-07T00:00:00\",\"2021-05-10T00:00:00\",\"2021-05-11T00:00:00\",\"2021-05-17T00:00:00\",\"2021-05-18T00:00:00\",\"2021-05-19T00:00:00\",\"2021-05-20T00:00:00\",\"2021-05-21T00:00:00\",\"2021-05-24T00:00:00\",\"2021-05-25T00:00:00\",\"2021-05-27T00:00:00\",\"2021-05-28T00:00:00\",\"2021-05-31T00:00:00\",\"2021-06-02T00:00:00\",\"2021-06-03T00:00:00\",\"2021-06-04T00:00:00\",\"2021-06-07T00:00:00\",\"2021-06-08T00:00:00\",\"2021-06-09T00:00:00\",\"2021-06-10T00:00:00\",\"2021-06-11T00:00:00\",\"2021-06-14T00:00:00\",\"2021-06-15T00:00:00\",\"2021-06-16T00:00:00\",\"2021-06-17T00:00:00\",\"2021-06-18T00:00:00\",\"2021-06-21T00:00:00\",\"2021-06-22T00:00:00\",\"2021-06-23T00:00:00\",\"2021-06-24T00:00:00\",\"2021-06-25T00:00:00\",\"2021-06-28T00:00:00\",\"2021-06-29T00:00:00\",\"2021-06-30T00:00:00\",\"2021-07-01T00:00:00\",\"2021-07-02T00:00:00\",\"2021-07-05T00:00:00\",\"2021-07-06T00:00:00\",\"2021-07-07T00:00:00\",\"2021-07-08T00:00:00\",\"2021-07-09T00:00:00\",\"2021-07-12T00:00:00\",\"2021-07-13T00:00:00\",\"2021-07-14T00:00:00\",\"2021-07-15T00:00:00\",\"2021-07-16T00:00:00\",\"2021-07-19T00:00:00\",\"2021-07-21T00:00:00\",\"2021-07-22T00:00:00\",\"2021-07-23T00:00:00\",\"2021-07-26T00:00:00\",\"2021-07-27T00:00:00\",\"2021-07-28T00:00:00\",\"2021-07-29T00:00:00\",\"2021-07-30T00:00:00\",\"2021-08-02T00:00:00\",\"2021-08-03T00:00:00\",\"2021-08-04T00:00:00\",\"2021-08-05T00:00:00\",\"2021-08-06T00:00:00\",\"2021-08-09T00:00:00\",\"2021-08-10T00:00:00\",\"2021-08-12T00:00:00\",\"2021-08-13T00:00:00\",\"2021-08-16T00:00:00\",\"2021-08-18T00:00:00\",\"2021-08-19T00:00:00\",\"2021-08-20T00:00:00\",\"2021-08-23T00:00:00\",\"2021-08-24T00:00:00\",\"2021-08-25T00:00:00\",\"2021-08-26T00:00:00\",\"2021-08-27T00:00:00\",\"2021-08-30T00:00:00\",\"2021-08-31T00:00:00\",\"2021-09-01T00:00:00\",\"2021-09-02T00:00:00\",\"2021-09-03T00:00:00\",\"2021-09-06T00:00:00\",\"2021-09-07T00:00:00\",\"2021-09-08T00:00:00\",\"2021-09-09T00:00:00\",\"2021-09-10T00:00:00\",\"2021-09-13T00:00:00\",\"2021-09-14T00:00:00\",\"2021-09-15T00:00:00\",\"2021-09-16T00:00:00\",\"2021-09-17T00:00:00\",\"2021-09-20T00:00:00\",\"2021-09-21T00:00:00\",\"2021-09-22T00:00:00\",\"2021-09-23T00:00:00\",\"2021-09-24T00:00:00\",\"2021-09-27T00:00:00\",\"2021-09-28T00:00:00\",\"2021-09-29T00:00:00\",\"2021-09-30T00:00:00\",\"2021-10-01T00:00:00\",\"2021-10-04T00:00:00\",\"2021-10-05T00:00:00\",\"2021-10-06T00:00:00\",\"2021-10-07T00:00:00\",\"2021-10-08T00:00:00\",\"2021-10-11T00:00:00\",\"2021-10-12T00:00:00\",\"2021-10-13T00:00:00\",\"2021-10-14T00:00:00\",\"2021-10-15T00:00:00\",\"2021-10-18T00:00:00\",\"2021-10-19T00:00:00\",\"2021-10-21T00:00:00\",\"2021-10-22T00:00:00\",\"2021-10-25T00:00:00\",\"2021-10-26T00:00:00\",\"2021-10-27T00:00:00\",\"2021-10-28T00:00:00\",\"2021-10-29T00:00:00\",\"2021-11-01T00:00:00\",\"2021-11-02T00:00:00\",\"2021-11-03T00:00:00\",\"2021-11-04T00:00:00\",\"2021-11-05T00:00:00\",\"2021-11-08T00:00:00\",\"2021-11-09T00:00:00\",\"2021-11-10T00:00:00\",\"2021-11-11T00:00:00\",\"2021-11-12T00:00:00\",\"2021-11-15T00:00:00\",\"2021-11-16T00:00:00\",\"2021-11-17T00:00:00\",\"2021-11-18T00:00:00\",\"2021-11-19T00:00:00\",\"2021-11-22T00:00:00\",\"2021-11-23T00:00:00\",\"2021-11-24T00:00:00\",\"2021-11-25T00:00:00\",\"2021-11-26T00:00:00\",\"2021-11-29T00:00:00\",\"2021-11-30T00:00:00\",\"2021-12-01T00:00:00\",\"2021-12-02T00:00:00\",\"2021-12-03T00:00:00\",\"2021-12-06T00:00:00\",\"2021-12-07T00:00:00\",\"2021-12-08T00:00:00\",\"2021-12-09T00:00:00\",\"2021-12-10T00:00:00\",\"2021-12-13T00:00:00\",\"2021-12-14T00:00:00\",\"2021-12-15T00:00:00\",\"2021-12-16T00:00:00\",\"2021-12-17T00:00:00\",\"2021-12-20T00:00:00\",\"2021-12-21T00:00:00\",\"2021-12-22T00:00:00\",\"2021-12-23T00:00:00\",\"2021-12-24T00:00:00\",\"2021-12-27T00:00:00\",\"2021-12-28T00:00:00\",\"2021-12-29T00:00:00\",\"2021-12-30T00:00:00\",\"2022-01-03T00:00:00\",\"2022-01-04T00:00:00\",\"2022-01-05T00:00:00\",\"2022-01-06T00:00:00\",\"2022-01-07T00:00:00\",\"2022-01-10T00:00:00\",\"2022-01-11T00:00:00\",\"2022-01-12T00:00:00\",\"2022-01-13T00:00:00\",\"2022-01-14T00:00:00\",\"2022-01-17T00:00:00\",\"2022-01-18T00:00:00\",\"2022-01-19T00:00:00\",\"2022-01-20T00:00:00\",\"2022-01-21T00:00:00\",\"2022-01-24T00:00:00\",\"2022-01-25T00:00:00\",\"2022-01-26T00:00:00\",\"2022-01-27T00:00:00\",\"2022-01-28T00:00:00\",\"2022-01-31T00:00:00\",\"2022-02-02T00:00:00\",\"2022-02-03T00:00:00\",\"2022-02-04T00:00:00\",\"2022-02-07T00:00:00\",\"2022-02-08T00:00:00\",\"2022-02-09T00:00:00\",\"2022-02-10T00:00:00\",\"2022-02-11T00:00:00\",\"2022-02-14T00:00:00\",\"2022-02-15T00:00:00\",\"2022-02-16T00:00:00\",\"2022-02-17T00:00:00\",\"2022-02-18T00:00:00\",\"2022-02-21T00:00:00\",\"2022-02-22T00:00:00\",\"2022-02-23T00:00:00\",\"2022-02-24T00:00:00\",\"2022-02-25T00:00:00\",\"2022-03-01T00:00:00\",\"2022-03-02T00:00:00\",\"2022-03-04T00:00:00\",\"2022-03-07T00:00:00\",\"2022-03-08T00:00:00\",\"2022-03-09T00:00:00\",\"2022-03-10T00:00:00\",\"2022-03-11T00:00:00\",\"2022-03-14T00:00:00\",\"2022-03-15T00:00:00\",\"2022-03-16T00:00:00\",\"2022-03-17T00:00:00\",\"2022-03-18T00:00:00\",\"2022-03-21T00:00:00\",\"2022-03-22T00:00:00\",\"2022-03-23T00:00:00\",\"2022-03-24T00:00:00\",\"2022-03-25T00:00:00\",\"2022-03-28T00:00:00\",\"2022-03-29T00:00:00\",\"2022-03-30T00:00:00\",\"2022-03-31T00:00:00\",\"2022-04-01T00:00:00\",\"2022-04-04T00:00:00\",\"2022-04-05T00:00:00\",\"2022-04-06T00:00:00\",\"2022-04-07T00:00:00\",\"2022-04-08T00:00:00\",\"2022-04-11T00:00:00\",\"2022-04-12T00:00:00\",\"2022-04-13T00:00:00\",\"2022-04-14T00:00:00\",\"2022-04-18T00:00:00\",\"2022-04-19T00:00:00\",\"2022-04-20T00:00:00\",\"2022-04-21T00:00:00\",\"2022-04-22T00:00:00\",\"2022-04-25T00:00:00\",\"2022-04-26T00:00:00\",\"2022-04-27T00:00:00\",\"2022-04-28T00:00:00\",\"2022-05-09T00:00:00\",\"2022-05-10T00:00:00\",\"2022-05-11T00:00:00\",\"2022-05-12T00:00:00\",\"2022-05-13T00:00:00\",\"2022-05-17T00:00:00\",\"2022-05-18T00:00:00\",\"2022-05-19T00:00:00\",\"2022-05-20T00:00:00\",\"2022-05-23T00:00:00\",\"2022-05-24T00:00:00\",\"2022-05-25T00:00:00\",\"2022-05-27T00:00:00\",\"2022-05-30T00:00:00\",\"2022-05-31T00:00:00\",\"2022-06-02T00:00:00\",\"2022-06-03T00:00:00\",\"2022-06-06T00:00:00\",\"2022-06-07T00:00:00\",\"2022-06-08T00:00:00\",\"2022-06-09T00:00:00\",\"2022-06-10T00:00:00\",\"2022-06-13T00:00:00\",\"2022-06-14T00:00:00\",\"2022-06-15T00:00:00\",\"2022-06-16T00:00:00\",\"2022-06-17T00:00:00\",\"2022-06-20T00:00:00\",\"2022-06-21T00:00:00\",\"2022-06-22T00:00:00\",\"2022-06-23T00:00:00\",\"2022-06-24T00:00:00\",\"2022-06-27T00:00:00\",\"2022-06-28T00:00:00\",\"2022-06-29T00:00:00\",\"2022-06-30T00:00:00\",\"2022-07-01T00:00:00\",\"2022-07-04T00:00:00\",\"2022-07-05T00:00:00\",\"2022-07-06T00:00:00\",\"2022-07-07T00:00:00\",\"2022-07-08T00:00:00\",\"2022-07-11T00:00:00\",\"2022-07-12T00:00:00\",\"2022-07-13T00:00:00\",\"2022-07-14T00:00:00\",\"2022-07-15T00:00:00\",\"2022-07-18T00:00:00\",\"2022-07-19T00:00:00\",\"2022-07-20T00:00:00\",\"2022-07-21T00:00:00\",\"2022-07-22T00:00:00\",\"2022-07-25T00:00:00\",\"2022-07-26T00:00:00\",\"2022-07-27T00:00:00\",\"2022-07-28T00:00:00\",\"2022-07-29T00:00:00\",\"2022-08-01T00:00:00\",\"2022-08-02T00:00:00\",\"2022-08-03T00:00:00\",\"2022-08-04T00:00:00\",\"2022-08-05T00:00:00\",\"2022-08-08T00:00:00\"],\"y\":[-0.052173913043478404,0.10434782608695636,0.02608695652173898,-0.12173913043478235,-0.19130434782608674,-0.20000000000000018,-0.3478260869565215,-0.3391304347826085,-0.3478260869565215,-0.4695652173913043,-0.6000000000000001,-0.7739130434782608,-0.9043478260869566,-0.7130434782608694,-0.8695652173913042,-1.0,-0.5652173913043477,-0.5565217391304347,-0.4521739130434783,-0.4521739130434783,-0.5217391304347827,-0.4782608695652173,-0.36521739130434794,-0.2695652173913041,-0.4173913043478259,-0.5130434782608697,-0.4869565217391303,-0.43478260869565233,-0.3913043478260869,-0.5130434782608697,-0.5652173913043477,-0.37391304347826093,-0.5043478260869567,-0.5652173913043477,-0.43478260869565233,-0.5217391304347827,-0.5043478260869567,-0.4608695652173913,-0.43478260869565233,-0.26086956521739113,-0.26086956521739113,-0.3304347826086955,-0.3478260869565215,-0.37391304347826093,-0.4173913043478259,-0.37391304347826093,-0.4782608695652173,-0.5130434782608697,-0.5217391304347827,-0.5217391304347827,-0.3913043478260869,-0.43478260869565233,-0.4782608695652173,-0.3913043478260869,-0.4521739130434783,-0.5217391304347827,-0.4695652173913043,-0.36521739130434794,-0.3304347826086955,-0.29565217391304355,-0.3913043478260869,-0.3913043478260869,-0.4782608695652173,-0.5043478260869567,-0.5391304347826087,-0.5565217391304347,-0.4782608695652173,-0.4260869565217389,-0.4260869565217389,-0.3478260869565215,-0.35652173913043494,-0.43478260869565233,-0.4782608695652173,-0.4695652173913043,-0.4434782608695653,-0.43478260869565233,-0.5304347826086957,-0.5478260869565217,-0.5739130434782607,-0.4782608695652173,-0.4956521739130433,-0.5565217391304347,-0.4956521739130433,-0.4608695652173913,-0.5130434782608697,-0.5043478260869567,-0.5217391304347827,-0.5043478260869567,-0.5304347826086957,-0.5217391304347827,-0.5391304347826087,-0.5652173913043477,-0.5478260869565217,-0.5478260869565217,-0.5391304347826087,-0.5913043478260871,-0.5652173913043477,-0.5826086956521741,-0.5739130434782607,-0.5565217391304347,-0.6347826086956521,-0.643478260869565,-0.5652173913043477,-0.5913043478260871,-0.6086956521739131,-0.6260869565217391,-0.6695652173913045,-0.652173913043478,-0.5913043478260871,-0.5826086956521741,-0.5652173913043477,-0.6000000000000001,-0.6000000000000001,-0.6260869565217391,-0.5913043478260871,-0.6173913043478261,-0.643478260869565,-0.6956521739130435,-0.6956521739130435,-0.652173913043478,-0.7391304347826089,-0.7217391304347824,-0.7043478260869565,-0.7391304347826089,-0.7826086956521738,-0.8956521739130436,-0.7565217391304349,-0.7043478260869565,-0.7739130434782608,-0.7739130434782608,-0.7391304347826089,-0.7043478260869565,-0.7913043478260868,-0.8086956521739128,-0.8260869565217392,-0.8521739130434782,-0.8608695652173912,-0.8782608695652172,-0.9304347826086956,-0.9565217391304346,-0.8260869565217392,-0.8782608695652172,-0.8869565217391306,-0.9130434782608696,-0.8956521739130436,-0.8608695652173912,-0.8260869565217392,-0.8434782608695652,-0.8434782608695652,-0.7826086956521738,-0.7999999999999998,-0.7826086956521738,-0.8608695652173912,-0.8869565217391306,-0.8956521739130436,-0.8608695652173912,-0.9304347826086956,-0.9217391304347826,-0.965217391304348,-0.982608695652174,-0.9565217391304346,-0.9304347826086956,-0.7826086956521738,-0.7304347826086954,-0.652173913043478,-0.6956521739130435,-0.5391304347826087,-0.6000000000000001,-0.5739130434782607,-0.5217391304347827,-0.43478260869565233,-0.4782608695652173,-0.4434782608695653,-0.4086956521739129,-0.30434782608695654,-0.28695652173913055,-0.36521739130434794,-0.19130434782608674,-0.20869565217391317,-0.4086956521739129,-0.37391304347826093,-0.3217391304347825,-0.37391304347826093,-0.36521739130434794,-0.30434782608695654,-0.37391304347826093,-0.37391304347826093,-0.3478260869565215,-0.3304347826086955,-0.17391304347826075,-0.07826086956521738,-0.17391304347826075,-0.14782608695652177,-0.17391304347826075,-0.30434782608695654,-0.28695652173913055,-0.17391304347826075,-0.24347826086956514,-0.3304347826086955,-0.19130434782608674,-0.20000000000000018,-0.2695652173913041,-0.21739130434782616,-0.09565217391304337,-0.08695652173913038,-0.1304347826086958,-0.19130434782608674,-0.16521739130434776,-0.19130434782608674,-0.20000000000000018,-0.24347826086956514,-0.17391304347826075,-0.24347826086956514,-0.28695652173913055,-0.29565217391304355,-0.31304347826086953,-0.36521739130434794,-0.35652173913043494,-0.4956521739130433,-0.3478260869565215,-0.3913043478260869,-0.37391304347826093,-0.3304347826086955,-0.3478260869565215,-0.3913043478260869,-0.4521739130434783,-0.4173913043478259,-0.43478260869565233,-0.43478260869565233,-0.4173913043478259,-0.4434782608695653,-0.4521739130434783,-0.4260869565217389,-0.43478260869565233,-0.18260869565217375,-0.16521739130434776,-0.21739130434782616,-0.18260869565217375,-0.18260869565217375,-0.19130434782608674,-0.24347826086956514,-0.31304347826086953,-0.29565217391304355,-0.28695652173913055,-0.31304347826086953,-0.22608695652173916,-0.22608695652173916,-0.26086956521739113,-0.25217391304347814,-0.21739130434782616,-0.25217391304347814,-0.22608695652173916,-0.2695652173913041,-0.3304347826086955,-0.26086956521739113,-0.25217391304347814,-0.20000000000000018,-0.24347826086956514,-0.27826086956521756,-0.2695652173913041,-0.23478260869565215,-0.26086956521739113,-0.25217391304347814,-0.27826086956521756,-0.2695652173913041,-0.31304347826086953,-0.31304347826086953,-0.29565217391304355,-0.31304347826086953,-0.28695652173913055,-0.3217391304347825,-0.3217391304347825,-0.35652173913043494,-0.35652173913043494,-0.3217391304347825,-0.36521739130434794,-0.3999999999999999,-0.4695652173913043,-0.4782608695652173,-0.4173913043478259,-0.43478260869565233,-0.4521739130434783,-0.4260869565217389,-0.43478260869565233,-0.43478260869565233,-0.4434782608695653,-0.4608695652173913,-0.4434782608695653,-0.4434782608695653,-0.4782608695652173,-0.4434782608695653,-0.31304347826086953,-0.35652173913043494,-0.35652173913043494,-0.30434782608695654,-0.27826086956521756,-0.3478260869565215,-0.18260869565217375,-0.24347826086956514,-0.18260869565217375,-0.13913043478260878,-0.1304347826086958,-0.31304347826086953,-0.30434782608695654,-0.18260869565217375,-0.20869565217391317,-0.25217391304347814,-0.27826086956521756,-0.28695652173913055,-0.30434782608695654,-0.36521739130434794,-0.3478260869565215,-0.3391304347826085,-0.3217391304347825,-0.3913043478260869,-0.3913043478260869,-0.4434782608695653,-0.4782608695652173,-0.4695652173913043,-0.5130434782608697,-0.5478260869565217,-0.5652173913043477,-0.5826086956521741,-0.5565217391304347,-0.5739130434782607,-0.4434782608695653,-0.4695652173913043,-0.5652173913043477,-0.5130434782608697,-0.4869565217391303,-0.4695652173913043,-0.4434782608695653,-0.4260869565217389,-0.3913043478260869,-0.4869565217391303,-0.4260869565217389,-0.3913043478260869,-0.4260869565217389,-0.43478260869565233,-0.3999999999999999,-0.3391304347826085,-0.3217391304347825,-0.29565217391304355,-0.29565217391304355,-0.3826086956521739,-0.3999999999999999,-0.3826086956521739,-0.28695652173913055,-0.3478260869565215,-0.29565217391304355,-0.25217391304347814,-0.2695652173913041,-0.24347826086956514,-0.25217391304347814,-0.2695652173913041,-0.3217391304347825,-0.28695652173913055,-0.3217391304347825,-0.26086956521739113,-0.24347826086956514,-0.30434782608695654,-0.26086956521739113,-0.25217391304347814,-0.25217391304347814,-0.26086956521739113,-0.29565217391304355,-0.27826086956521756,-0.3391304347826085,-0.27826086956521756,-0.23478260869565215,-0.20000000000000018,-0.26086956521739113,-0.17391304347826075,-0.17391304347826075,-0.14782608695652177,-0.08695652173913038,-0.12173913043478235,-0.14782608695652177,-0.16521739130434776,-0.18260869565217375,-0.1304347826086958,-0.017391304347825987,-0.06956521739130439,-0.02608695652173898,-0.008695652173912993,0.017391304347825987,0.02608695652173898,0.08695652173913038,0.06956521739130439,0.04347826086956541,0.0608695652173914,0.1217391304347828,0.1217391304347828,0.04347826086956541,0.06956521739130439,0.13913043478260878,0.08695652173913038,0.08695652173913038,0.10434782608695636,0.10434782608695636,0.04347826086956541,0.09565217391304337,0.0,-0.06956521739130439,0.04347826086956541,0.052173913043478404,0.06956521739130439,0.02608695652173898,-0.02608695652173898,0.0,-0.03478260869565197,-0.08695652173913038,-0.09565217391304337,-0.008695652173912993,-0.0608695652173914,-0.03478260869565197,0.19130434782608718,0.08695652173913038,0.1217391304347828,0.15652173913043477,0.29565217391304355,0.26956521739130457,0.3913043478260869,0.29565217391304355,0.3826086956521739,0.37391304347826093,0.31304347826086953,0.41739130434782634,0.34782608695652195,0.33913043478260896,0.3217391304347825,0.3913043478260869,0.36521739130434794,0.31304347826086953,0.35652173913043494,0.26956521739130457,0.3217391304347825,0.35652173913043494,0.3999999999999999,0.35652173913043494,0.3999999999999999,0.3913043478260869,0.3304347826086955,0.34782608695652195,0.37391304347826093,0.31304347826086953,0.41739130434782634,0.3913043478260869,0.33913043478260896,0.36521739130434794,0.41739130434782634,0.36521739130434794,0.35652173913043494,0.4086956521739129,0.3826086956521739,0.43478260869565233,0.43478260869565233,0.4869565217391303,0.5217391304347827,0.4695652173913043,0.4869565217391303,0.5304347826086957,0.5913043478260871,0.6086956521739131,0.4869565217391303,0.4434782608695653,0.4086956521739129,0.43478260869565233,0.4869565217391303,0.4608695652173913,0.5043478260869567,0.5043478260869567,0.6086956521739131,0.6956521739130435,0.5913043478260871,0.6086956521739131,0.6260869565217391,0.6086956521739131,0.6260869565217391,0.5826086956521741,0.5391304347826087,0.5043478260869567,0.5043478260869567,0.4695652173913043,0.8173913043478258,0.6086956521739131,0.6434782608695655,0.6086956521739131,0.7826086956521738,0.7391304347826089,0.6956521739130435,0.6173913043478261,0.8260869565217392,0.8086956521739133,0.8347826086956527,0.7391304347826089,0.6869565217391305,0.7391304347826089,0.7391304347826089,0.7391304347826089,0.6956521739130435,0.7043478260869565,0.7043478260869565,0.7826086956521738,0.7999999999999998,0.7999999999999998,0.7391304347826089,0.7478260869565219,0.7391304347826089,0.6869565217391305,0.6521739130434785,0.7652173913043478,0.7913043478260873,0.7999999999999998,0.8695652173913047,0.8695652173913047,0.8869565217391306,0.9043478260869566,0.8521739130434787,0.7999999999999998,0.7999999999999998,0.7913043478260873,0.8521739130434787,0.8869565217391306,1.0,0.7478260869565219,0.36521739130434794,0.6086956521739131,0.5565217391304347,0.4782608695652173,0.4782608695652173,0.4608695652173913,0.41739130434782634,0.4521739130434783,0.3999999999999999,0.36521739130434794,0.43478260869565233,0.4869565217391303,0.5565217391304347,0.4956521739130437,0.6000000000000001,0.5304347826086957,0.5304347826086957,0.5565217391304347,0.3913043478260869,0.3304347826086955,0.29565217391304355,0.21739130434782616,0.30434782608695654,0.31304347826086953,0.36521739130434794,0.26956521739130457,0.30434782608695654,0.31304347826086953,0.33913043478260896,0.28695652173913055,0.4608695652173913,0.35652173913043494,0.26956521739130457,0.2608695652173916,0.35652173913043494,0.26956521739130457,0.27826086956521756,0.26956521739130457,0.30434782608695654,0.29565217391304355,0.30434782608695654,0.34782608695652195,0.31304347826086953,0.26956521739130457,0.20869565217391317,0.29565217391304355,0.35652173913043494,0.42608695652173934,0.3826086956521739,0.4434782608695653,0.4695652173913043,0.4695652173913043,0.4695652173913043,0.4608695652173913,0.5304347826086957,0.5043478260869567,0.4608695652173913,0.5652173913043477,0.6521739130434785,0.6521739130434785,0.7739130434782608,0.8695652173913047],\"type\":\"scatter\"},{\"mode\":\"lines\",\"name\":\"Close\",\"x\":[\"2020-03-04T00:00:00\",\"2020-03-05T00:00:00\",\"2020-03-06T00:00:00\",\"2020-03-09T00:00:00\",\"2020-03-10T00:00:00\",\"2020-03-11T00:00:00\",\"2020-03-12T00:00:00\",\"2020-03-13T00:00:00\",\"2020-03-16T00:00:00\",\"2020-03-17T00:00:00\",\"2020-03-18T00:00:00\",\"2020-03-19T00:00:00\",\"2020-03-20T00:00:00\",\"2020-03-23T00:00:00\",\"2020-03-24T00:00:00\",\"2020-03-26T00:00:00\",\"2020-03-27T00:00:00\",\"2020-03-30T00:00:00\",\"2020-03-31T00:00:00\",\"2020-04-01T00:00:00\",\"2020-04-02T00:00:00\",\"2020-04-03T00:00:00\",\"2020-04-06T00:00:00\",\"2020-04-07T00:00:00\",\"2020-04-08T00:00:00\",\"2020-04-09T00:00:00\",\"2020-04-13T00:00:00\",\"2020-04-14T00:00:00\",\"2020-04-15T00:00:00\",\"2020-04-16T00:00:00\",\"2020-04-17T00:00:00\",\"2020-04-20T00:00:00\",\"2020-04-21T00:00:00\",\"2020-04-22T00:00:00\",\"2020-04-23T00:00:00\",\"2020-04-24T00:00:00\",\"2020-04-27T00:00:00\",\"2020-04-28T00:00:00\",\"2020-04-29T00:00:00\",\"2020-04-30T00:00:00\",\"2020-05-04T00:00:00\",\"2020-05-05T00:00:00\",\"2020-05-06T00:00:00\",\"2020-05-08T00:00:00\",\"2020-05-11T00:00:00\",\"2020-05-12T00:00:00\",\"2020-05-13T00:00:00\",\"2020-05-14T00:00:00\",\"2020-05-15T00:00:00\",\"2020-05-18T00:00:00\",\"2020-05-19T00:00:00\",\"2020-05-20T00:00:00\",\"2020-05-26T00:00:00\",\"2020-05-27T00:00:00\",\"2020-05-28T00:00:00\",\"2020-05-29T00:00:00\",\"2020-06-02T00:00:00\",\"2020-06-03T00:00:00\",\"2020-06-04T00:00:00\",\"2020-06-05T00:00:00\",\"2020-06-08T00:00:00\",\"2020-06-09T00:00:00\",\"2020-06-10T00:00:00\",\"2020-06-11T00:00:00\",\"2020-06-12T00:00:00\",\"2020-06-15T00:00:00\",\"2020-06-16T00:00:00\",\"2020-06-17T00:00:00\",\"2020-06-18T00:00:00\",\"2020-06-19T00:00:00\",\"2020-06-22T00:00:00\",\"2020-06-23T00:00:00\",\"2020-06-24T00:00:00\",\"2020-06-25T00:00:00\",\"2020-06-26T00:00:00\",\"2020-06-29T00:00:00\",\"2020-06-30T00:00:00\",\"2020-07-01T00:00:00\",\"2020-07-02T00:00:00\",\"2020-07-03T00:00:00\",\"2020-07-06T00:00:00\",\"2020-07-07T00:00:00\",\"2020-07-08T00:00:00\",\"2020-07-09T00:00:00\",\"2020-07-10T00:00:00\",\"2020-07-13T00:00:00\",\"2020-07-14T00:00:00\",\"2020-07-15T00:00:00\",\"2020-07-16T00:00:00\",\"2020-07-17T00:00:00\",\"2020-07-20T00:00:00\",\"2020-07-21T00:00:00\",\"2020-07-22T00:00:00\",\"2020-07-23T00:00:00\",\"2020-07-24T00:00:00\",\"2020-07-27T00:00:00\",\"2020-07-28T00:00:00\",\"2020-07-29T00:00:00\",\"2020-07-30T00:00:00\",\"2020-08-03T00:00:00\",\"2020-08-04T00:00:00\",\"2020-08-05T00:00:00\",\"2020-08-06T00:00:00\",\"2020-08-07T00:00:00\",\"2020-08-10T00:00:00\",\"2020-08-11T00:00:00\",\"2020-08-12T00:00:00\",\"2020-08-13T00:00:00\",\"2020-08-14T00:00:00\",\"2020-08-18T00:00:00\",\"2020-08-19T00:00:00\",\"2020-08-24T00:00:00\",\"2020-08-25T00:00:00\",\"2020-08-26T00:00:00\",\"2020-08-27T00:00:00\",\"2020-08-28T00:00:00\",\"2020-08-31T00:00:00\",\"2020-09-01T00:00:00\",\"2020-09-02T00:00:00\",\"2020-09-03T00:00:00\",\"2020-09-04T00:00:00\",\"2020-09-07T00:00:00\",\"2020-09-08T00:00:00\",\"2020-09-09T00:00:00\",\"2020-09-10T00:00:00\",\"2020-09-11T00:00:00\",\"2020-09-14T00:00:00\",\"2020-09-15T00:00:00\",\"2020-09-16T00:00:00\",\"2020-09-17T00:00:00\",\"2020-09-18T00:00:00\",\"2020-09-21T00:00:00\",\"2020-09-22T00:00:00\",\"2020-09-23T00:00:00\",\"2020-09-24T00:00:00\",\"2020-09-25T00:00:00\",\"2020-09-28T00:00:00\",\"2020-09-29T00:00:00\",\"2020-09-30T00:00:00\",\"2020-10-01T00:00:00\",\"2020-10-02T00:00:00\",\"2020-10-05T00:00:00\",\"2020-10-06T00:00:00\",\"2020-10-07T00:00:00\",\"2020-10-08T00:00:00\",\"2020-10-09T00:00:00\",\"2020-10-12T00:00:00\",\"2020-10-13T00:00:00\",\"2020-10-14T00:00:00\",\"2020-10-15T00:00:00\",\"2020-10-16T00:00:00\",\"2020-10-19T00:00:00\",\"2020-10-20T00:00:00\",\"2020-10-21T00:00:00\",\"2020-10-22T00:00:00\",\"2020-10-23T00:00:00\",\"2020-10-26T00:00:00\",\"2020-10-27T00:00:00\",\"2020-11-02T00:00:00\",\"2020-11-03T00:00:00\",\"2020-11-04T00:00:00\",\"2020-11-05T00:00:00\",\"2020-11-06T00:00:00\",\"2020-11-09T00:00:00\",\"2020-11-10T00:00:00\",\"2020-11-11T00:00:00\",\"2020-11-12T00:00:00\",\"2020-11-13T00:00:00\",\"2020-11-16T00:00:00\",\"2020-11-17T00:00:00\",\"2020-11-18T00:00:00\",\"2020-11-19T00:00:00\",\"2020-11-20T00:00:00\",\"2020-11-23T00:00:00\",\"2020-11-24T00:00:00\",\"2020-11-25T00:00:00\",\"2020-11-26T00:00:00\",\"2020-11-27T00:00:00\",\"2020-11-30T00:00:00\",\"2020-12-01T00:00:00\",\"2020-12-02T00:00:00\",\"2020-12-03T00:00:00\",\"2020-12-04T00:00:00\",\"2020-12-07T00:00:00\",\"2020-12-08T00:00:00\",\"2020-12-10T00:00:00\",\"2020-12-11T00:00:00\",\"2020-12-14T00:00:00\",\"2020-12-15T00:00:00\",\"2020-12-16T00:00:00\",\"2020-12-17T00:00:00\",\"2020-12-18T00:00:00\",\"2020-12-21T00:00:00\",\"2020-12-22T00:00:00\",\"2020-12-23T00:00:00\",\"2020-12-28T00:00:00\",\"2020-12-29T00:00:00\",\"2020-12-30T00:00:00\",\"2021-01-04T00:00:00\",\"2021-01-05T00:00:00\",\"2021-01-06T00:00:00\",\"2021-01-07T00:00:00\",\"2021-01-08T00:00:00\",\"2021-01-11T00:00:00\",\"2021-01-12T00:00:00\",\"2021-01-13T00:00:00\",\"2021-01-14T00:00:00\",\"2021-01-15T00:00:00\",\"2021-01-18T00:00:00\",\"2021-01-19T00:00:00\",\"2021-01-20T00:00:00\",\"2021-01-21T00:00:00\",\"2021-01-22T00:00:00\",\"2021-01-25T00:00:00\",\"2021-01-26T00:00:00\",\"2021-01-27T00:00:00\",\"2021-01-28T00:00:00\",\"2021-01-29T00:00:00\",\"2021-02-01T00:00:00\",\"2021-02-02T00:00:00\",\"2021-02-03T00:00:00\",\"2021-02-04T00:00:00\",\"2021-02-05T00:00:00\",\"2021-02-08T00:00:00\",\"2021-02-09T00:00:00\",\"2021-02-10T00:00:00\",\"2021-02-11T00:00:00\",\"2021-02-15T00:00:00\",\"2021-02-16T00:00:00\",\"2021-02-17T00:00:00\",\"2021-02-18T00:00:00\",\"2021-02-19T00:00:00\",\"2021-02-22T00:00:00\",\"2021-02-23T00:00:00\",\"2021-02-24T00:00:00\",\"2021-02-25T00:00:00\",\"2021-02-26T00:00:00\",\"2021-03-01T00:00:00\",\"2021-03-02T00:00:00\",\"2021-03-03T00:00:00\",\"2021-03-04T00:00:00\",\"2021-03-05T00:00:00\",\"2021-03-08T00:00:00\",\"2021-03-09T00:00:00\",\"2021-03-10T00:00:00\",\"2021-03-12T00:00:00\",\"2021-03-15T00:00:00\",\"2021-03-16T00:00:00\",\"2021-03-17T00:00:00\",\"2021-03-18T00:00:00\",\"2021-03-19T00:00:00\",\"2021-03-22T00:00:00\",\"2021-03-23T00:00:00\",\"2021-03-24T00:00:00\",\"2021-03-25T00:00:00\",\"2021-03-26T00:00:00\",\"2021-03-29T00:00:00\",\"2021-03-30T00:00:00\",\"2021-03-31T00:00:00\",\"2021-04-01T00:00:00\",\"2021-04-05T00:00:00\",\"2021-04-06T00:00:00\",\"2021-04-07T00:00:00\",\"2021-04-08T00:00:00\",\"2021-04-09T00:00:00\",\"2021-04-12T00:00:00\",\"2021-04-13T00:00:00\",\"2021-04-14T00:00:00\",\"2021-04-15T00:00:00\",\"2021-04-16T00:00:00\",\"2021-04-19T00:00:00\",\"2021-04-20T00:00:00\",\"2021-04-21T00:00:00\",\"2021-04-22T00:00:00\",\"2021-04-23T00:00:00\",\"2021-04-26T00:00:00\",\"2021-04-27T00:00:00\",\"2021-04-28T00:00:00\",\"2021-04-29T00:00:00\",\"2021-04-30T00:00:00\",\"2021-05-03T00:00:00\",\"2021-05-04T00:00:00\",\"2021-05-05T00:00:00\",\"2021-05-06T00:00:00\",\"2021-05-07T00:00:00\",\"2021-05-10T00:00:00\",\"2021-05-11T00:00:00\",\"2021-05-17T00:00:00\",\"2021-05-18T00:00:00\",\"2021-05-19T00:00:00\",\"2021-05-20T00:00:00\",\"2021-05-21T00:00:00\",\"2021-05-24T00:00:00\",\"2021-05-25T00:00:00\",\"2021-05-27T00:00:00\",\"2021-05-28T00:00:00\",\"2021-05-31T00:00:00\",\"2021-06-02T00:00:00\",\"2021-06-03T00:00:00\",\"2021-06-04T00:00:00\",\"2021-06-07T00:00:00\",\"2021-06-08T00:00:00\",\"2021-06-09T00:00:00\",\"2021-06-10T00:00:00\",\"2021-06-11T00:00:00\",\"2021-06-14T00:00:00\",\"2021-06-15T00:00:00\",\"2021-06-16T00:00:00\",\"2021-06-17T00:00:00\",\"2021-06-18T00:00:00\",\"2021-06-21T00:00:00\",\"2021-06-22T00:00:00\",\"2021-06-23T00:00:00\",\"2021-06-24T00:00:00\",\"2021-06-25T00:00:00\",\"2021-06-28T00:00:00\",\"2021-06-29T00:00:00\",\"2021-06-30T00:00:00\",\"2021-07-01T00:00:00\",\"2021-07-02T00:00:00\",\"2021-07-05T00:00:00\",\"2021-07-06T00:00:00\",\"2021-07-07T00:00:00\",\"2021-07-08T00:00:00\",\"2021-07-09T00:00:00\",\"2021-07-12T00:00:00\",\"2021-07-13T00:00:00\",\"2021-07-14T00:00:00\",\"2021-07-15T00:00:00\",\"2021-07-16T00:00:00\",\"2021-07-19T00:00:00\",\"2021-07-21T00:00:00\",\"2021-07-22T00:00:00\",\"2021-07-23T00:00:00\",\"2021-07-26T00:00:00\",\"2021-07-27T00:00:00\",\"2021-07-28T00:00:00\",\"2021-07-29T00:00:00\",\"2021-07-30T00:00:00\",\"2021-08-02T00:00:00\",\"2021-08-03T00:00:00\",\"2021-08-04T00:00:00\",\"2021-08-05T00:00:00\",\"2021-08-06T00:00:00\",\"2021-08-09T00:00:00\",\"2021-08-10T00:00:00\",\"2021-08-12T00:00:00\",\"2021-08-13T00:00:00\",\"2021-08-16T00:00:00\",\"2021-08-18T00:00:00\",\"2021-08-19T00:00:00\",\"2021-08-20T00:00:00\",\"2021-08-23T00:00:00\",\"2021-08-24T00:00:00\",\"2021-08-25T00:00:00\",\"2021-08-26T00:00:00\",\"2021-08-27T00:00:00\",\"2021-08-30T00:00:00\",\"2021-08-31T00:00:00\",\"2021-09-01T00:00:00\",\"2021-09-02T00:00:00\",\"2021-09-03T00:00:00\",\"2021-09-06T00:00:00\",\"2021-09-07T00:00:00\",\"2021-09-08T00:00:00\",\"2021-09-09T00:00:00\",\"2021-09-10T00:00:00\",\"2021-09-13T00:00:00\",\"2021-09-14T00:00:00\",\"2021-09-15T00:00:00\",\"2021-09-16T00:00:00\",\"2021-09-17T00:00:00\",\"2021-09-20T00:00:00\",\"2021-09-21T00:00:00\",\"2021-09-22T00:00:00\",\"2021-09-23T00:00:00\",\"2021-09-24T00:00:00\",\"2021-09-27T00:00:00\",\"2021-09-28T00:00:00\",\"2021-09-29T00:00:00\",\"2021-09-30T00:00:00\",\"2021-10-01T00:00:00\",\"2021-10-04T00:00:00\",\"2021-10-05T00:00:00\",\"2021-10-06T00:00:00\",\"2021-10-07T00:00:00\",\"2021-10-08T00:00:00\",\"2021-10-11T00:00:00\",\"2021-10-12T00:00:00\",\"2021-10-13T00:00:00\",\"2021-10-14T00:00:00\",\"2021-10-15T00:00:00\",\"2021-10-18T00:00:00\",\"2021-10-19T00:00:00\",\"2021-10-21T00:00:00\",\"2021-10-22T00:00:00\",\"2021-10-25T00:00:00\",\"2021-10-26T00:00:00\",\"2021-10-27T00:00:00\",\"2021-10-28T00:00:00\",\"2021-10-29T00:00:00\",\"2021-11-01T00:00:00\",\"2021-11-02T00:00:00\",\"2021-11-03T00:00:00\",\"2021-11-04T00:00:00\",\"2021-11-05T00:00:00\",\"2021-11-08T00:00:00\",\"2021-11-09T00:00:00\",\"2021-11-10T00:00:00\",\"2021-11-11T00:00:00\",\"2021-11-12T00:00:00\",\"2021-11-15T00:00:00\",\"2021-11-16T00:00:00\",\"2021-11-17T00:00:00\",\"2021-11-18T00:00:00\",\"2021-11-19T00:00:00\",\"2021-11-22T00:00:00\",\"2021-11-23T00:00:00\",\"2021-11-24T00:00:00\",\"2021-11-25T00:00:00\",\"2021-11-26T00:00:00\",\"2021-11-29T00:00:00\",\"2021-11-30T00:00:00\",\"2021-12-01T00:00:00\",\"2021-12-02T00:00:00\",\"2021-12-03T00:00:00\",\"2021-12-06T00:00:00\",\"2021-12-07T00:00:00\",\"2021-12-08T00:00:00\",\"2021-12-09T00:00:00\",\"2021-12-10T00:00:00\",\"2021-12-13T00:00:00\",\"2021-12-14T00:00:00\",\"2021-12-15T00:00:00\",\"2021-12-16T00:00:00\",\"2021-12-17T00:00:00\",\"2021-12-20T00:00:00\",\"2021-12-21T00:00:00\",\"2021-12-22T00:00:00\",\"2021-12-23T00:00:00\",\"2021-12-24T00:00:00\",\"2021-12-27T00:00:00\",\"2021-12-28T00:00:00\",\"2021-12-29T00:00:00\",\"2021-12-30T00:00:00\",\"2022-01-03T00:00:00\",\"2022-01-04T00:00:00\",\"2022-01-05T00:00:00\",\"2022-01-06T00:00:00\",\"2022-01-07T00:00:00\",\"2022-01-10T00:00:00\",\"2022-01-11T00:00:00\",\"2022-01-12T00:00:00\",\"2022-01-13T00:00:00\",\"2022-01-14T00:00:00\",\"2022-01-17T00:00:00\",\"2022-01-18T00:00:00\",\"2022-01-19T00:00:00\",\"2022-01-20T00:00:00\",\"2022-01-21T00:00:00\",\"2022-01-24T00:00:00\",\"2022-01-25T00:00:00\",\"2022-01-26T00:00:00\",\"2022-01-27T00:00:00\",\"2022-01-28T00:00:00\",\"2022-01-31T00:00:00\",\"2022-02-02T00:00:00\",\"2022-02-03T00:00:00\",\"2022-02-04T00:00:00\",\"2022-02-07T00:00:00\",\"2022-02-08T00:00:00\",\"2022-02-09T00:00:00\",\"2022-02-10T00:00:00\",\"2022-02-11T00:00:00\",\"2022-02-14T00:00:00\",\"2022-02-15T00:00:00\",\"2022-02-16T00:00:00\",\"2022-02-17T00:00:00\",\"2022-02-18T00:00:00\",\"2022-02-21T00:00:00\",\"2022-02-22T00:00:00\",\"2022-02-23T00:00:00\",\"2022-02-24T00:00:00\",\"2022-02-25T00:00:00\",\"2022-03-01T00:00:00\",\"2022-03-02T00:00:00\",\"2022-03-04T00:00:00\",\"2022-03-07T00:00:00\",\"2022-03-08T00:00:00\",\"2022-03-09T00:00:00\",\"2022-03-10T00:00:00\",\"2022-03-11T00:00:00\",\"2022-03-14T00:00:00\",\"2022-03-15T00:00:00\",\"2022-03-16T00:00:00\",\"2022-03-17T00:00:00\",\"2022-03-18T00:00:00\",\"2022-03-21T00:00:00\",\"2022-03-22T00:00:00\",\"2022-03-23T00:00:00\",\"2022-03-24T00:00:00\",\"2022-03-25T00:00:00\",\"2022-03-28T00:00:00\",\"2022-03-29T00:00:00\",\"2022-03-30T00:00:00\",\"2022-03-31T00:00:00\",\"2022-04-01T00:00:00\",\"2022-04-04T00:00:00\",\"2022-04-05T00:00:00\",\"2022-04-06T00:00:00\",\"2022-04-07T00:00:00\",\"2022-04-08T00:00:00\",\"2022-04-11T00:00:00\",\"2022-04-12T00:00:00\",\"2022-04-13T00:00:00\",\"2022-04-14T00:00:00\",\"2022-04-18T00:00:00\",\"2022-04-19T00:00:00\",\"2022-04-20T00:00:00\",\"2022-04-21T00:00:00\",\"2022-04-22T00:00:00\",\"2022-04-25T00:00:00\",\"2022-04-26T00:00:00\",\"2022-04-27T00:00:00\",\"2022-04-28T00:00:00\",\"2022-05-09T00:00:00\",\"2022-05-10T00:00:00\",\"2022-05-11T00:00:00\",\"2022-05-12T00:00:00\",\"2022-05-13T00:00:00\",\"2022-05-17T00:00:00\",\"2022-05-18T00:00:00\",\"2022-05-19T00:00:00\",\"2022-05-20T00:00:00\",\"2022-05-23T00:00:00\",\"2022-05-24T00:00:00\",\"2022-05-25T00:00:00\",\"2022-05-27T00:00:00\",\"2022-05-30T00:00:00\",\"2022-05-31T00:00:00\",\"2022-06-02T00:00:00\",\"2022-06-03T00:00:00\",\"2022-06-06T00:00:00\",\"2022-06-07T00:00:00\",\"2022-06-08T00:00:00\",\"2022-06-09T00:00:00\",\"2022-06-10T00:00:00\",\"2022-06-13T00:00:00\",\"2022-06-14T00:00:00\",\"2022-06-15T00:00:00\",\"2022-06-16T00:00:00\",\"2022-06-17T00:00:00\",\"2022-06-20T00:00:00\",\"2022-06-21T00:00:00\",\"2022-06-22T00:00:00\",\"2022-06-23T00:00:00\",\"2022-06-24T00:00:00\",\"2022-06-27T00:00:00\",\"2022-06-28T00:00:00\",\"2022-06-29T00:00:00\",\"2022-06-30T00:00:00\",\"2022-07-01T00:00:00\",\"2022-07-04T00:00:00\",\"2022-07-05T00:00:00\",\"2022-07-06T00:00:00\",\"2022-07-07T00:00:00\",\"2022-07-08T00:00:00\",\"2022-07-11T00:00:00\",\"2022-07-12T00:00:00\",\"2022-07-13T00:00:00\",\"2022-07-14T00:00:00\",\"2022-07-15T00:00:00\",\"2022-07-18T00:00:00\",\"2022-07-19T00:00:00\",\"2022-07-20T00:00:00\",\"2022-07-21T00:00:00\",\"2022-07-22T00:00:00\",\"2022-07-25T00:00:00\",\"2022-07-26T00:00:00\",\"2022-07-27T00:00:00\",\"2022-07-28T00:00:00\",\"2022-07-29T00:00:00\",\"2022-08-01T00:00:00\",\"2022-08-02T00:00:00\",\"2022-08-03T00:00:00\",\"2022-08-04T00:00:00\",\"2022-08-05T00:00:00\",\"2022-08-08T00:00:00\"],\"y\":[0.1493212669683257,0.1493212669683257,0.07692307692307665,-0.1493212669683257,-0.15837104072398178,-0.23981900452488691,-0.32126696832579205,-0.32126696832579205,-0.45701357466063364,-0.6561085972850678,-0.7737556561085972,-0.9457013574660635,-0.7104072398190047,-0.8914027149321266,-0.9457013574660635,-0.6199095022624435,-0.5203619909502262,-0.4751131221719458,-0.45701357466063364,-0.5113122171945701,-0.48416289592760187,-0.42081447963800933,-0.3031674208144799,-0.40271493212669673,-0.502262443438914,-0.49321266968325794,-0.4389140271493215,-0.3846153846153846,-0.502262443438914,-0.6018099547511313,-0.39366515837104066,-0.49321266968325794,-0.5384615384615388,-0.45701357466063364,-0.5384615384615388,-0.5203619909502262,-0.4660633484162897,-0.45701357466063364,-0.2850678733031673,-0.1493212669683257,-0.31221719457013597,-0.31221719457013597,-0.3846153846153846,-0.4298642533936654,-0.40271493212669673,-0.4660633484162897,-0.45701357466063364,-0.5384615384615388,-0.5113122171945701,-0.40271493212669673,-0.35746606334841635,-0.4389140271493215,-0.3755656108597285,-0.44796380090497756,-0.48416289592760187,-0.4660633484162897,-0.3755656108597285,-0.3393665158371042,-0.3303167420814481,-0.39366515837104066,-0.39366515837104066,-0.4751131221719458,-0.502262443438914,-0.5294117647058822,-0.5746606334841631,-0.5203619909502262,-0.42081447963800933,-0.4117647058823528,-0.3484162895927603,-0.3484162895927603,-0.42081447963800933,-0.48416289592760187,-0.4389140271493215,-0.45701357466063364,-0.4298642533936654,-0.4389140271493215,-0.5565610859728509,-0.565610859728507,-0.4751131221719458,-0.49321266968325794,-0.5565610859728509,-0.49321266968325794,-0.4660633484162897,-0.502262443438914,-0.502262443438914,-0.5203619909502262,-0.5294117647058822,-0.5203619909502262,-0.5113122171945701,-0.5475113122171948,-0.5475113122171948,-0.5475113122171948,-0.5384615384615388,-0.5384615384615388,-0.5837104072398192,-0.565610859728507,-0.5837104072398192,-0.6018099547511313,-0.5565610859728509,-0.6742081447963804,-0.6470588235294117,-0.5837104072398192,-0.5837104072398192,-0.6199095022624435,-0.6289592760180995,-0.6651583710407243,-0.6470588235294117,-0.5927601809954752,-0.5746606334841631,-0.5565610859728509,-0.6018099547511313,-0.6018099547511313,-0.6199095022624435,-0.5837104072398192,-0.6108597285067874,-0.6380090497737556,-0.7285067873303168,-0.6923076923076925,-0.6470588235294117,-0.6923076923076925,-0.7285067873303168,-0.6923076923076925,-0.7285067873303168,-0.7828054298642533,-0.8733031674208145,-0.7737556561085972,-0.7013574660633486,-0.755656108597285,-0.7918552036199098,-0.7647058823529411,-0.7013574660633486,-0.7737556561085972,-0.8009049773755659,-0.7828054298642533,-0.8461538461538463,-0.8823529411764706,-0.9095022624434392,-0.9366515837104075,-1.0,-0.8280542986425341,-0.8914027149321266,-0.9185520361990953,-0.9185520361990953,-0.9095022624434392,-0.8733031674208145,-0.8461538461538463,-0.8461538461538463,-0.8461538461538463,-0.7737556561085972,-0.8009049773755659,-0.8280542986425341,-0.8642533936651584,-0.9004524886877827,-0.8914027149321266,-0.8733031674208145,-0.9366515837104075,-0.9185520361990953,-0.9457013574660635,-1.0,-0.9819004524886878,-0.9819004524886878,-0.809954751131222,-0.755656108597285,-0.7104072398190047,-0.7285067873303168,-0.5294117647058822,-0.565610859728507,-0.6108597285067874,-0.5384615384615388,-0.40271493212669673,-0.4389140271493215,-0.44796380090497756,-0.40271493212669673,-0.31221719457013597,-0.2850678733031673,-0.3484162895927603,-0.17647058823529438,-0.18552036199095046,-0.39366515837104066,-0.3846153846153846,-0.3031674208144799,-0.3303167420814481,-0.3755656108597285,-0.3031674208144799,-0.3303167420814481,-0.36651583710407243,-0.3484162895927603,-0.31221719457013597,-0.19457013574660653,-0.049773755656108865,-0.1131221719457014,-0.14027149321266963,-0.13122171945701355,-0.2760180995475112,-0.31221719457013597,-0.21266968325791868,-0.22171945701357476,-0.32126696832579205,-0.15837104072398178,-0.17647058823529438,-0.26696832579185514,-0.248868778280543,-0.08597285067873317,-0.05882352941176494,-0.14027149321266963,-0.1674208144796383,-0.1493212669683257,-0.1674208144796383,-0.19457013574660653,-0.23076923076923084,-0.17647058823529438,-0.1674208144796383,-0.248868778280543,-0.26696832579185514,-0.36651583710407243,-0.25791855203619907,-0.3846153846153846,-0.502262443438914,-0.39366515837104066,-0.35746606334841635,-0.3846153846153846,-0.3393665158371042,-0.3393665158371042,-0.3484162895927603,-0.42081447963800933,-0.4298642533936654,-0.4298642533936654,-0.40271493212669673,-0.4117647058823528,-0.4660633484162897,-0.4389140271493215,-0.4117647058823528,-0.44796380090497756,-0.17647058823529438,-0.1674208144796383,-0.15837104072398178,-0.15837104072398178,-0.15837104072398178,-0.18552036199095046,-0.2036199095022626,-0.2760180995475112,-0.31221719457013597,-0.2941176470588238,-0.3393665158371042,-0.23981900452488691,-0.19457013574660653,-0.25791855203619907,-0.2760180995475112,-0.248868778280543,-0.19457013574660653,-0.2036199095022626,-0.25791855203619907,-0.2760180995475112,-0.26696832579185514,-0.23076923076923084,-0.15837104072398178,-0.23076923076923084,-0.25791855203619907,-0.22171945701357476,-0.248868778280543,-0.25791855203619907,-0.26696832579185514,-0.23981900452488691,-0.248868778280543,-0.2760180995475112,-0.32126696832579205,-0.3031674208144799,-0.2941176470588238,-0.2760180995475112,-0.2760180995475112,-0.2941176470588238,-0.31221719457013597,-0.3484162895927603,-0.3031674208144799,-0.32126696832579205,-0.3755656108597285,-0.45701357466063364,-0.4751131221719458,-0.42081447963800933,-0.42081447963800933,-0.44796380090497756,-0.4117647058823528,-0.42081447963800933,-0.4298642533936654,-0.4298642533936654,-0.44796380090497756,-0.4389140271493215,-0.4298642533936654,-0.4389140271493215,-0.45701357466063364,-0.32126696832579205,-0.35746606334841635,-0.36651583710407243,-0.3303167420814481,-0.25791855203619907,-0.35746606334841635,-0.2036199095022626,-0.19457013574660653,-0.15837104072398178,-0.1493212669683257,-0.10407239819004532,-0.1493212669683257,-0.248868778280543,-0.1674208144796383,-0.17647058823529438,-0.23076923076923084,-0.2036199095022626,-0.23076923076923084,-0.2850678733031673,-0.2850678733031673,-0.3303167420814481,-0.3303167420814481,-0.26696832579185514,-0.3755656108597285,-0.3755656108597285,-0.44796380090497756,-0.45701357466063364,-0.4660633484162897,-0.502262443438914,-0.5384615384615388,-0.565610859728507,-0.5927601809954752,-0.5746606334841631,-0.5927601809954752,-0.45701357466063364,-0.48416289592760187,-0.5384615384615388,-0.5475113122171948,-0.48416289592760187,-0.44796380090497756,-0.40271493212669673,-0.4117647058823528,-0.36651583710407243,-0.44796380090497756,-0.4298642533936654,-0.35746606334841635,-0.4298642533936654,-0.39366515837104066,-0.3846153846153846,-0.32126696832579205,-0.3031674208144799,-0.26696832579185514,-0.2941176470588238,-0.31221719457013597,-0.3755656108597285,-0.39366515837104066,-0.2850678733031673,-0.3303167420814481,-0.2941176470588238,-0.22171945701357476,-0.248868778280543,-0.23981900452488691,-0.2036199095022626,-0.23981900452488691,-0.26696832579185514,-0.2760180995475112,-0.31221719457013597,-0.23981900452488691,-0.23981900452488691,-0.2941176470588238,-0.26696832579185514,-0.248868778280543,-0.248868778280543,-0.25791855203619907,-0.3031674208144799,-0.248868778280543,-0.3031674208144799,-0.2850678733031673,-0.2036199095022626,-0.19457013574660653,-0.2036199095022626,-0.12217194570135748,-0.13122171945701355,-0.12217194570135748,-0.06787330316742102,-0.09502262443438925,-0.09502262443438925,-0.13122171945701355,-0.12217194570135748,-0.12217194570135748,0.02262443438914019,-0.004524886877828038,0.004524886877828038,0.004524886877828038,0.08597285067873317,0.04977375565610842,0.12217194570135748,0.13122171945701355,0.10407239819004532,0.09502262443438925,0.1493212669683257,0.13122171945701355,0.1131221719457014,0.06787330316742057,0.16742081447963786,0.18552036199095,0.10407239819004532,0.12217194570135748,0.1131221719457014,0.07692307692307665,0.12217194570135748,0.03167420814479627,-0.004524886877828038,0.04977375565610842,0.09502262443438925,0.09502262443438925,0.07692307692307665,0.040723981900452344,0.03167420814479627,-0.013574660633484115,-0.05882352941176494,-0.05882352941176494,0.004524886877828038,-0.03167420814479627,-0.03167420814479627,0.21266968325791868,0.12217194570135748,0.12217194570135748,0.12217194570135748,0.30316742081447945,0.3122171945701355,0.42986425339366496,0.2941176470588234,0.3755656108597285,0.4479638009049771,0.36651583710407243,0.45701357466063364,0.43891402714932104,0.3846153846153846,0.43891402714932104,0.43891402714932104,0.3755656108597285,0.39366515837104066,0.3755656108597285,0.39366515837104066,0.39366515837104066,0.3755656108597285,0.4479638009049771,0.40271493212669673,0.4479638009049771,0.40271493212669673,0.3755656108597285,0.3846153846153846,0.3755656108597285,0.3393665158371042,0.4660633484162897,0.45701357466063364,0.3484162895927603,0.4117647058823528,0.45701357466063364,0.39366515837104066,0.3846153846153846,0.40271493212669673,0.4660633484162897,0.4751131221719458,0.4660633484162897,0.5294117647058822,0.5294117647058822,0.502262443438914,0.6018099547511313,0.5746606334841626,0.5656108597285066,0.6561085972850678,0.5475113122171944,0.5384615384615383,0.4751131221719458,0.45701357466063364,0.48416289592760187,0.5113122171945701,0.5656108597285066,0.5113122171945701,0.5565610859728505,0.7194570135746603,0.7104072398190042,0.6651583710407238,0.6742081447963799,0.6651583710407238,0.6742081447963799,0.6651583710407238,0.6380090497737556,0.5746606334841626,0.6199095022624435,0.5203619909502262,0.6108597285067874,0.6199095022624435,0.5656108597285066,0.6651583710407238,0.7647058823529416,0.8642533936651584,0.7013574660633481,0.6742081447963799,0.8371040723981902,0.8280542986425341,0.8642533936651584,0.8733031674208145,0.7375565610859725,0.7918552036199098,0.8009049773755659,0.8009049773755659,0.8009049773755659,0.809954751131222,0.7737556561085976,0.8461538461538463,0.809954751131222,0.8280542986425341,0.8280542986425341,0.8280542986425341,0.7918552036199098,0.7737556561085976,0.6923076923076921,0.7918552036199098,0.8280542986425341,0.8371040723981902,0.8733031674208145,0.9276018099547509,0.9185520361990949,0.9457013574660631,0.9185520361990949,0.8733031674208145,0.8642533936651584,0.8642533936651584,0.9457013574660631,0.9909502262443435,0.9999999999999996,0.8642533936651584,0.5837104072398192,0.6108597285067874,0.6018099547511313,0.5746606334841626,0.5384615384615383,0.4660633484162897,0.5294117647058822,0.49321266968325794,0.45701357466063364,0.40271493212669673,0.43891402714932104,0.48416289592760187,0.5746606334841626,0.5294117647058822,0.5837104072398192,0.5656108597285066,0.5837104072398192,0.6108597285067874,0.5294117647058822,0.39366515837104066,0.3484162895927603,0.3212669683257916,0.3755656108597285,0.40271493212669673,0.35746606334841635,0.3393665158371042,0.4117647058823528,0.3393665158371042,0.40271493212669673,0.3484162895927603,0.4479638009049771,0.43891402714932104,0.36651583710407243,0.3303167420814481,0.3393665158371042,0.30316742081447945,0.3212669683257916,0.2941176470588234,0.2941176470588234,0.3212669683257916,0.3393665158371042,0.3122171945701355,0.3393665158371042,0.3122171945701355,0.248868778280543,0.3212669683257916,0.43891402714932104,0.4751131221719458,0.4479638009049771,0.49321266968325794,0.5384615384615383,0.5113122171945701,0.5203619909502262,0.5294117647058822,0.5746606334841626,0.5203619909502262,0.5113122171945701,0.5746606334841626,0.7104072398190042,0.7556561085972846,0.8009049773755659,0.8914027149321266,0.936651583710407],\"type\":\"scatter\"}],                        {\"template\":{\"data\":{\"bar\":[{\"error_x\":{\"color\":\"#2a3f5f\"},\"error_y\":{\"color\":\"#2a3f5f\"},\"marker\":{\"line\":{\"color\":\"#E5ECF6\",\"width\":0.5},\"pattern\":{\"fillmode\":\"overlay\",\"size\":10,\"solidity\":0.2}},\"type\":\"bar\"}],\"barpolar\":[{\"marker\":{\"line\":{\"color\":\"#E5ECF6\",\"width\":0.5},\"pattern\":{\"fillmode\":\"overlay\",\"size\":10,\"solidity\":0.2}},\"type\":\"barpolar\"}],\"carpet\":[{\"aaxis\":{\"endlinecolor\":\"#2a3f5f\",\"gridcolor\":\"white\",\"linecolor\":\"white\",\"minorgridcolor\":\"white\",\"startlinecolor\":\"#2a3f5f\"},\"baxis\":{\"endlinecolor\":\"#2a3f5f\",\"gridcolor\":\"white\",\"linecolor\":\"white\",\"minorgridcolor\":\"white\",\"startlinecolor\":\"#2a3f5f\"},\"type\":\"carpet\"}],\"choropleth\":[{\"colorbar\":{\"outlinewidth\":0,\"ticks\":\"\"},\"type\":\"choropleth\"}],\"contour\":[{\"colorbar\":{\"outlinewidth\":0,\"ticks\":\"\"},\"colorscale\":[[0.0,\"#0d0887\"],[0.1111111111111111,\"#46039f\"],[0.2222222222222222,\"#7201a8\"],[0.3333333333333333,\"#9c179e\"],[0.4444444444444444,\"#bd3786\"],[0.5555555555555556,\"#d8576b\"],[0.6666666666666666,\"#ed7953\"],[0.7777777777777778,\"#fb9f3a\"],[0.8888888888888888,\"#fdca26\"],[1.0,\"#f0f921\"]],\"type\":\"contour\"}],\"contourcarpet\":[{\"colorbar\":{\"outlinewidth\":0,\"ticks\":\"\"},\"type\":\"contourcarpet\"}],\"heatmap\":[{\"colorbar\":{\"outlinewidth\":0,\"ticks\":\"\"},\"colorscale\":[[0.0,\"#0d0887\"],[0.1111111111111111,\"#46039f\"],[0.2222222222222222,\"#7201a8\"],[0.3333333333333333,\"#9c179e\"],[0.4444444444444444,\"#bd3786\"],[0.5555555555555556,\"#d8576b\"],[0.6666666666666666,\"#ed7953\"],[0.7777777777777778,\"#fb9f3a\"],[0.8888888888888888,\"#fdca26\"],[1.0,\"#f0f921\"]],\"type\":\"heatmap\"}],\"heatmapgl\":[{\"colorbar\":{\"outlinewidth\":0,\"ticks\":\"\"},\"colorscale\":[[0.0,\"#0d0887\"],[0.1111111111111111,\"#46039f\"],[0.2222222222222222,\"#7201a8\"],[0.3333333333333333,\"#9c179e\"],[0.4444444444444444,\"#bd3786\"],[0.5555555555555556,\"#d8576b\"],[0.6666666666666666,\"#ed7953\"],[0.7777777777777778,\"#fb9f3a\"],[0.8888888888888888,\"#fdca26\"],[1.0,\"#f0f921\"]],\"type\":\"heatmapgl\"}],\"histogram\":[{\"marker\":{\"pattern\":{\"fillmode\":\"overlay\",\"size\":10,\"solidity\":0.2}},\"type\":\"histogram\"}],\"histogram2d\":[{\"colorbar\":{\"outlinewidth\":0,\"ticks\":\"\"},\"colorscale\":[[0.0,\"#0d0887\"],[0.1111111111111111,\"#46039f\"],[0.2222222222222222,\"#7201a8\"],[0.3333333333333333,\"#9c179e\"],[0.4444444444444444,\"#bd3786\"],[0.5555555555555556,\"#d8576b\"],[0.6666666666666666,\"#ed7953\"],[0.7777777777777778,\"#fb9f3a\"],[0.8888888888888888,\"#fdca26\"],[1.0,\"#f0f921\"]],\"type\":\"histogram2d\"}],\"histogram2dcontour\":[{\"colorbar\":{\"outlinewidth\":0,\"ticks\":\"\"},\"colorscale\":[[0.0,\"#0d0887\"],[0.1111111111111111,\"#46039f\"],[0.2222222222222222,\"#7201a8\"],[0.3333333333333333,\"#9c179e\"],[0.4444444444444444,\"#bd3786\"],[0.5555555555555556,\"#d8576b\"],[0.6666666666666666,\"#ed7953\"],[0.7777777777777778,\"#fb9f3a\"],[0.8888888888888888,\"#fdca26\"],[1.0,\"#f0f921\"]],\"type\":\"histogram2dcontour\"}],\"mesh3d\":[{\"colorbar\":{\"outlinewidth\":0,\"ticks\":\"\"},\"type\":\"mesh3d\"}],\"parcoords\":[{\"line\":{\"colorbar\":{\"outlinewidth\":0,\"ticks\":\"\"}},\"type\":\"parcoords\"}],\"pie\":[{\"automargin\":true,\"type\":\"pie\"}],\"scatter\":[{\"marker\":{\"colorbar\":{\"outlinewidth\":0,\"ticks\":\"\"}},\"type\":\"scatter\"}],\"scatter3d\":[{\"line\":{\"colorbar\":{\"outlinewidth\":0,\"ticks\":\"\"}},\"marker\":{\"colorbar\":{\"outlinewidth\":0,\"ticks\":\"\"}},\"type\":\"scatter3d\"}],\"scattercarpet\":[{\"marker\":{\"colorbar\":{\"outlinewidth\":0,\"ticks\":\"\"}},\"type\":\"scattercarpet\"}],\"scattergeo\":[{\"marker\":{\"colorbar\":{\"outlinewidth\":0,\"ticks\":\"\"}},\"type\":\"scattergeo\"}],\"scattergl\":[{\"marker\":{\"colorbar\":{\"outlinewidth\":0,\"ticks\":\"\"}},\"type\":\"scattergl\"}],\"scattermapbox\":[{\"marker\":{\"colorbar\":{\"outlinewidth\":0,\"ticks\":\"\"}},\"type\":\"scattermapbox\"}],\"scatterpolar\":[{\"marker\":{\"colorbar\":{\"outlinewidth\":0,\"ticks\":\"\"}},\"type\":\"scatterpolar\"}],\"scatterpolargl\":[{\"marker\":{\"colorbar\":{\"outlinewidth\":0,\"ticks\":\"\"}},\"type\":\"scatterpolargl\"}],\"scatterternary\":[{\"marker\":{\"colorbar\":{\"outlinewidth\":0,\"ticks\":\"\"}},\"type\":\"scatterternary\"}],\"surface\":[{\"colorbar\":{\"outlinewidth\":0,\"ticks\":\"\"},\"colorscale\":[[0.0,\"#0d0887\"],[0.1111111111111111,\"#46039f\"],[0.2222222222222222,\"#7201a8\"],[0.3333333333333333,\"#9c179e\"],[0.4444444444444444,\"#bd3786\"],[0.5555555555555556,\"#d8576b\"],[0.6666666666666666,\"#ed7953\"],[0.7777777777777778,\"#fb9f3a\"],[0.8888888888888888,\"#fdca26\"],[1.0,\"#f0f921\"]],\"type\":\"surface\"}],\"table\":[{\"cells\":{\"fill\":{\"color\":\"#EBF0F8\"},\"line\":{\"color\":\"white\"}},\"header\":{\"fill\":{\"color\":\"#C8D4E3\"},\"line\":{\"color\":\"white\"}},\"type\":\"table\"}]},\"layout\":{\"annotationdefaults\":{\"arrowcolor\":\"#2a3f5f\",\"arrowhead\":0,\"arrowwidth\":1},\"autotypenumbers\":\"strict\",\"coloraxis\":{\"colorbar\":{\"outlinewidth\":0,\"ticks\":\"\"}},\"colorscale\":{\"diverging\":[[0,\"#8e0152\"],[0.1,\"#c51b7d\"],[0.2,\"#de77ae\"],[0.3,\"#f1b6da\"],[0.4,\"#fde0ef\"],[0.5,\"#f7f7f7\"],[0.6,\"#e6f5d0\"],[0.7,\"#b8e186\"],[0.8,\"#7fbc41\"],[0.9,\"#4d9221\"],[1,\"#276419\"]],\"sequential\":[[0.0,\"#0d0887\"],[0.1111111111111111,\"#46039f\"],[0.2222222222222222,\"#7201a8\"],[0.3333333333333333,\"#9c179e\"],[0.4444444444444444,\"#bd3786\"],[0.5555555555555556,\"#d8576b\"],[0.6666666666666666,\"#ed7953\"],[0.7777777777777778,\"#fb9f3a\"],[0.8888888888888888,\"#fdca26\"],[1.0,\"#f0f921\"]],\"sequentialminus\":[[0.0,\"#0d0887\"],[0.1111111111111111,\"#46039f\"],[0.2222222222222222,\"#7201a8\"],[0.3333333333333333,\"#9c179e\"],[0.4444444444444444,\"#bd3786\"],[0.5555555555555556,\"#d8576b\"],[0.6666666666666666,\"#ed7953\"],[0.7777777777777778,\"#fb9f3a\"],[0.8888888888888888,\"#fdca26\"],[1.0,\"#f0f921\"]]},\"colorway\":[\"#636efa\",\"#EF553B\",\"#00cc96\",\"#ab63fa\",\"#FFA15A\",\"#19d3f3\",\"#FF6692\",\"#B6E880\",\"#FF97FF\",\"#FECB52\"],\"font\":{\"color\":\"#2a3f5f\"},\"geo\":{\"bgcolor\":\"white\",\"lakecolor\":\"white\",\"landcolor\":\"#E5ECF6\",\"showlakes\":true,\"showland\":true,\"subunitcolor\":\"white\"},\"hoverlabel\":{\"align\":\"left\"},\"hovermode\":\"closest\",\"mapbox\":{\"style\":\"light\"},\"paper_bgcolor\":\"white\",\"plot_bgcolor\":\"#E5ECF6\",\"polar\":{\"angularaxis\":{\"gridcolor\":\"white\",\"linecolor\":\"white\",\"ticks\":\"\"},\"bgcolor\":\"#E5ECF6\",\"radialaxis\":{\"gridcolor\":\"white\",\"linecolor\":\"white\",\"ticks\":\"\"}},\"scene\":{\"xaxis\":{\"backgroundcolor\":\"#E5ECF6\",\"gridcolor\":\"white\",\"gridwidth\":2,\"linecolor\":\"white\",\"showbackground\":true,\"ticks\":\"\",\"zerolinecolor\":\"white\"},\"yaxis\":{\"backgroundcolor\":\"#E5ECF6\",\"gridcolor\":\"white\",\"gridwidth\":2,\"linecolor\":\"white\",\"showbackground\":true,\"ticks\":\"\",\"zerolinecolor\":\"white\"},\"zaxis\":{\"backgroundcolor\":\"#E5ECF6\",\"gridcolor\":\"white\",\"gridwidth\":2,\"linecolor\":\"white\",\"showbackground\":true,\"ticks\":\"\",\"zerolinecolor\":\"white\"}},\"shapedefaults\":{\"line\":{\"color\":\"#2a3f5f\"}},\"ternary\":{\"aaxis\":{\"gridcolor\":\"white\",\"linecolor\":\"white\",\"ticks\":\"\"},\"baxis\":{\"gridcolor\":\"white\",\"linecolor\":\"white\",\"ticks\":\"\"},\"bgcolor\":\"#E5ECF6\",\"caxis\":{\"gridcolor\":\"white\",\"linecolor\":\"white\",\"ticks\":\"\"}},\"title\":{\"x\":0.05},\"xaxis\":{\"automargin\":true,\"gridcolor\":\"white\",\"linecolor\":\"white\",\"ticks\":\"\",\"title\":{\"standoff\":15},\"zerolinecolor\":\"white\",\"zerolinewidth\":2},\"yaxis\":{\"automargin\":true,\"gridcolor\":\"white\",\"linecolor\":\"white\",\"ticks\":\"\",\"title\":{\"standoff\":15},\"zerolinecolor\":\"white\",\"zerolinewidth\":2}}},\"margin\":{\"l\":50,\"r\":50,\"b\":100,\"t\":100,\"pad\":4},\"title\":{\"text\":\"Data Normalized\"},\"xaxis\":{\"title\":{\"text\":\"Time\"}},\"yaxis\":{\"title\":{\"text\":\"Value\"}},\"autosize\":false,\"width\":600,\"height\":600,\"paper_bgcolor\":\"LightSteelBlue\",\"showlegend\":false},                        {\"responsive\": true}                    ).then(function(){\n",
              "                            \n",
              "var gd = document.getElementById('619abaa1-2607-4c4b-90c1-75935c4e2073');\n",
              "var x = new MutationObserver(function (mutations, observer) {{\n",
              "        var display = window.getComputedStyle(gd).display;\n",
              "        if (!display || display === 'none') {{\n",
              "            console.log([gd, 'removed!']);\n",
              "            Plotly.purge(gd);\n",
              "            observer.disconnect();\n",
              "        }}\n",
              "}});\n",
              "\n",
              "// Listen for the removal of the full notebook cells\n",
              "var notebookContainer = gd.closest('#notebook-container');\n",
              "if (notebookContainer) {{\n",
              "    x.observe(notebookContainer, {childList: true});\n",
              "}}\n",
              "\n",
              "// Listen for the clearing of the current output cell\n",
              "var outputEl = gd.closest('.output');\n",
              "if (outputEl) {{\n",
              "    x.observe(outputEl, {childList: true});\n",
              "}}\n",
              "\n",
              "                        })                };                            </script>        </div>\n",
              "</body>\n",
              "</html>"
            ]
          },
          "metadata": {}
        }
      ]
    },
    {
      "cell_type": "markdown",
      "source": [
        "## Prepare features and labels"
      ],
      "metadata": {
        "id": "TxagUibmfKV1"
      }
    },
    {
      "cell_type": "code",
      "source": [
        "window_size = 20\n",
        "batch_size = 32\n",
        "shuffle_buffer_size = 1000\n",
        "     \n",
        "## CONSTANT\n",
        "MU = 0.000001\n",
        "NANO = 1e-9"
      ],
      "metadata": {
        "id": "ddNi2XwmfK9D"
      },
      "execution_count": null,
      "outputs": []
    },
    {
      "cell_type": "code",
      "source": [
        "# Generate the dataset windows\n",
        "windowed_training_ds = windowed_dataset(training_set_normalized, window_size, \n",
        "                           batch_size, shuffle_buffer_size)"
      ],
      "metadata": {
        "id": "6Pf3RHacfN5k",
        "colab": {
          "base_uri": "https://localhost:8080/"
        },
        "outputId": "30f76714-2df5-4d8c-97b6-3177d51c6312"
      },
      "execution_count": null,
      "outputs": [
        {
          "output_type": "stream",
          "name": "stderr",
          "text": [
            "WARNING:tensorflow:From /usr/local/lib/python3.8/dist-packages/tensorflow/python/autograph/pyct/static_analysis/liveness.py:83: Analyzer.lamba_check (from tensorflow.python.autograph.pyct.static_analysis.liveness) is deprecated and will be removed after 2023-09-23.\n",
            "Instructions for updating:\n",
            "Lambda fuctions will be no more assumed to be used in the statement where they are used, or at least in the same block. https://github.com/tensorflow/tensorflow/issues/56089\n"
          ]
        }
      ]
    },
    {
      "cell_type": "code",
      "source": [
        "# Print properties of a single batch\n",
        "for windows in windowed_training_ds.take(1):\n",
        "  print(f'data type: {type(windows)}')\n",
        "  print(f'number of elements in the tuple: {len(windows)}')\n",
        "  print(f'shape of first element: {windows[0].shape}')\n",
        "  print(f'shape of second element: {windows[1].shape}')\n",
        "  print(f'shape of first element expanded: {tf.expand_dims(windows[0], axis=-1).shape}')"
      ],
      "metadata": {
        "colab": {
          "base_uri": "https://localhost:8080/"
        },
        "id": "OAo9MKR6RXVI",
        "outputId": "9ce33d52-6e1c-4b7d-dd40-27d1efcafa51"
      },
      "execution_count": null,
      "outputs": [
        {
          "output_type": "stream",
          "name": "stdout",
          "text": [
            "data type: <class 'tuple'>\n",
            "number of elements in the tuple: 2\n",
            "shape of first element: (32, 20, 3)\n",
            "shape of second element: (32, 3)\n",
            "shape of first element expanded: (32, 20, 3, 1)\n"
          ]
        }
      ]
    },
    {
      "cell_type": "markdown",
      "source": [
        "## Build and compile the model"
      ],
      "metadata": {
        "id": "m9NVZZ7UfP33"
      }
    },
    {
      "cell_type": "code",
      "source": [
        "class TS_LSTM_Model(tf.keras.Model):\n",
        "  def __init__(self, window_size,feature_size=1,\n",
        "               normalizer_layer=None,\n",
        "               denormalizer_layer=None,\n",
        "               expand_dims_layer=True,\n",
        "               **kwargs):\n",
        "    super(TS_LSTM_Model, self).__init__(**kwargs)\n",
        "\n",
        "    self.normalizer_1 = normalizer_layer\n",
        "    self.denormalizer_1 = denormalizer_layer\n",
        "    model_tune = tf.keras.models.Sequential()\n",
        "    if(expand_dims_layer):\n",
        "      model_tune.add(tf.keras.layers.Lambda(lambda x: tf.expand_dims(x, axis=-1),\n",
        "                      input_shape=[window_size]))      \n",
        "    model_tune.add(tf.keras.layers.Bidirectional(\n",
        "        tf.keras.layers.LSTM(32, return_sequences=True)))\n",
        "    model_tune.add(tf.keras.layers.Bidirectional(tf.keras.layers.LSTM(32)))\n",
        "    model_tune.add(tf.keras.layers.Dense(feature_size))\n",
        "    self.seq_1 = model_tune\n",
        "\n",
        "  def normalize(self, x):\n",
        "    return self.normalizer_1(x)\n",
        "  \n",
        "  def denormalize(self, x):\n",
        "    return self.denormalizer_1(x)\n",
        "\n",
        "  @tf.function(reduce_retracing=True)   \n",
        "  def call(self, x):\n",
        "    x = self.seq_1(x)\n",
        "    return x"
      ],
      "metadata": {
        "id": "CPPH69ITfOb_"
      },
      "execution_count": null,
      "outputs": []
    },
    {
      "cell_type": "markdown",
      "source": [
        "## create model"
      ],
      "metadata": {
        "id": "TTOG8B31flO7"
      }
    },
    {
      "cell_type": "code",
      "source": [
        "learning_rate_value_all = 1e-6\n",
        "epoch_value = 100"
      ],
      "metadata": {
        "id": "MrMu7mxAgUos"
      },
      "execution_count": null,
      "outputs": []
    },
    {
      "cell_type": "markdown",
      "source": [
        "Since we are using minmaxscaler we already reshape the input dimension into `(Batch_size, window_size, feature_size)` so we do not need to add lambda expand dimension layer, so we set `expand_dims_layer=False` to the parameter of model\n",
        "\n",
        "and input shape for `build()` would be\n",
        "input_shape = (1, window_size, feature_size)"
      ],
      "metadata": {
        "id": "6elgv9afq0Lc"
      }
    },
    {
      "cell_type": "code",
      "source": [
        "# Reset states generated by Keras\n",
        "tf.keras.backend.clear_session()\n",
        "\n",
        "model_tune2 = TS_LSTM_Model(window_size=window_size, \n",
        "                              normalizer_layer=None,\n",
        "                              feature_size=training_set_normalized.shape[1],\n",
        "                              denormalizer_layer=None,\n",
        "                            expand_dims_layer=False)\n",
        "# set built parameter\n",
        "\n",
        "print(training_set.shape)\n",
        "model_tune2.build(input_shape = (1, window_size, training_set_normalized.shape[1]))\n",
        "model_tune2.summary()\n",
        "# Set the training parameters\n",
        "model_tune2.compile(loss=tf.keras.losses.Huber(), \n",
        "                    optimizer=tf.keras.optimizers.SGD(\n",
        "                        learning_rate=learning_rate_value_all,\n",
        "                        momentum=0.9))"
      ],
      "metadata": {
        "colab": {
          "base_uri": "https://localhost:8080/"
        },
        "id": "vvrEIlsofh97",
        "outputId": "f96e3e4c-6a5a-4f4c-8ce6-c8be0eb522c1"
      },
      "execution_count": null,
      "outputs": [
        {
          "output_type": "stream",
          "name": "stdout",
          "text": [
            "(588, 3)\n",
            "Model: \"ts_lstm__model\"\n",
            "_________________________________________________________________\n",
            " Layer (type)                Output Shape              Param #   \n",
            "=================================================================\n",
            " sequential (Sequential)     (1, 3)                    34243     \n",
            "                                                                 \n",
            "=================================================================\n",
            "Total params: 34,243\n",
            "Trainable params: 34,243\n",
            "Non-trainable params: 0\n",
            "_________________________________________________________________\n"
          ]
        }
      ]
    },
    {
      "cell_type": "markdown",
      "source": [
        "## Tune the Learning Rate\n",
        "\n",
        "As usual, you will pick a learning rate by running the tuning code below."
      ],
      "metadata": {
        "id": "r2tnRRWegBqx"
      }
    },
    {
      "cell_type": "code",
      "source": [
        "# Set the learning rate scheduler\n",
        "lr_schedule = tf.keras.callbacks.LearningRateScheduler(\n",
        "    lambda epoch: learning_rate_value_all * 10**(epoch / 20))\n",
        "\n",
        "# Train the model\n",
        "history_tune2 = model_tune2.fit(windowed_training_ds, epochs=epoch_value, \n",
        "                                callbacks=[lr_schedule],\n",
        "                                verbose=0)"
      ],
      "metadata": {
        "id": "i5G3xBckgEzD"
      },
      "execution_count": null,
      "outputs": []
    },
    {
      "cell_type": "code",
      "source": [
        "plot_loss_inlog_plotly(history_tune2, epoch_value, lrs_value=learning_rate_value_all)"
      ],
      "metadata": {
        "colab": {
          "base_uri": "https://localhost:8080/",
          "height": 617
        },
        "id": "HqR8fRSphfOo",
        "outputId": "cf509a68-81a5-4510-8326-5f4f5b418031"
      },
      "execution_count": null,
      "outputs": [
        {
          "output_type": "display_data",
          "data": {
            "text/html": [
              "<html>\n",
              "<head><meta charset=\"utf-8\" /></head>\n",
              "<body>\n",
              "    <div>            <script src=\"https://cdnjs.cloudflare.com/ajax/libs/mathjax/2.7.5/MathJax.js?config=TeX-AMS-MML_SVG\"></script><script type=\"text/javascript\">if (window.MathJax) {MathJax.Hub.Config({SVG: {font: \"STIX-Web\"}});}</script>                <script type=\"text/javascript\">window.PlotlyConfig = {MathJaxConfig: 'local'};</script>\n",
              "        <script src=\"https://cdn.plot.ly/plotly-2.8.3.min.js\"></script>                <div id=\"769160a3-df90-4c6b-b2d7-de96553ca8d8\" class=\"plotly-graph-div\" style=\"height:600px; width:600px;\"></div>            <script type=\"text/javascript\">                                    window.PLOTLYENV=window.PLOTLYENV || {};                                    if (document.getElementById(\"769160a3-df90-4c6b-b2d7-de96553ca8d8\")) {                    Plotly.newPlot(                        \"769160a3-df90-4c6b-b2d7-de96553ca8d8\",                        [{\"mode\":\"lines\",\"x\":[1e-06,1.1220184543019633e-06,1.2589254117941672e-06,1.4125375446227544e-06,1.5848931924611134e-06,1.7782794100389227e-06,1.9952623149688796e-06,2.2387211385683393e-06,2.51188643150958e-06,2.8183829312644534e-06,3.162277660168379e-06,3.548133892335755e-06,3.981071705534972e-06,4.466835921509631e-06,5.011872336272722e-06,5.623413251903491e-06,6.309573444801933e-06,7.079457843841378e-06,7.943282347242815e-06,8.912509381337454e-06,9.999999999999999e-06,1.1220184543019635e-05,1.2589254117941675e-05,1.412537544622754e-05,1.584893192461113e-05,1.778279410038923e-05,1.9952623149688796e-05,2.23872113856834e-05,2.5118864315095795e-05,2.8183829312644532e-05,3.162277660168379e-05,3.548133892335755e-05,3.9810717055349735e-05,4.46683592150963e-05,5.0118723362727224e-05,5.623413251903491e-05,6.309573444801932e-05,7.07945784384138e-05,7.943282347242814e-05,8.912509381337455e-05,9.999999999999999e-05,0.0001122018454301963,0.00012589254117941674,0.00014125375446227538,0.00015848931924611142,0.00017782794100389227,0.00019952623149688788,0.000223872113856834,0.00025118864315095795,0.00028183829312644545,0.00031622776601683794,0.0003548133892335753,0.0003981071705534973,0.000446683592150963,0.0005011872336272724,0.000562341325190349,0.000630957344480193,0.000707945784384138,0.0007943282347242812,0.0008912509381337458,0.001,0.0011220184543019628,0.0012589254117941675,0.001412537544622754,0.0015848931924611139,0.0017782794100389228,0.001995262314968879,0.00223872113856834,0.00251188643150958,0.002818382931264455,0.0031622776601683794,0.003548133892335753,0.003981071705534973,0.0044668359215096305,0.005011872336272725,0.005623413251903491,0.00630957344480193,0.00707945784384138,0.007943282347242814,0.008912509381337459,0.01,0.011220184543019629,0.012589254117941661,0.014125375446227554,0.01584893192461114,0.017782794100389226,0.01995262314968879,0.022387211385683378,0.025118864315095822,0.02818382931264455,0.03162277660168379,0.03548133892335753,0.039810717055349686,0.04466835921509634,0.05011872336272725,0.056234132519034905,0.0630957344480193,0.07079457843841373,0.07943282347242821,0.08912509381337459],\"y\":[0.14727041125297546,0.14723198115825653,0.147181436419487,0.1471230685710907,0.1470574587583542,0.14698392152786255,0.1469016820192337,0.14680908620357513,0.14670534431934357,0.14658915996551514,0.14645914733409882,0.1463138461112976,0.14614956080913544,0.14596708118915558,0.14576195180416107,0.14553380012512207,0.14527615904808044,0.1449887752532959,0.14466910064220428,0.14430946111679077,0.14390893280506134,0.14345726370811462,0.14296045899391174,0.1423988789319992,0.1417788714170456,0.14108283817768097,0.14030995965003967,0.13945446908473969,0.13849687576293945,0.13744141161441803,0.1362665593624115,0.13497090339660645,0.13353832066059113,0.13195912539958954,0.1302221119403839,0.12831424176692963,0.12622369825839996,0.12394122034311295,0.12146469950675964,0.11875495314598083,0.11587031185626984,0.11272743344306946,0.1093667671084404,0.10581547766923904,0.10203132778406143,0.09802864491939545,0.09390829503536224,0.08956298977136612,0.0851173847913742,0.08059090375900269,0.07602361589670181,0.07142962515354156,0.06685779988765717,0.0623946338891983,0.05795789882540703,0.053763169795274734,0.04968368634581566,0.045777883380651474,0.042006682604551315,0.03842570260167122,0.035042498260736465,0.03173661604523659,0.02868184819817543,0.025757871568202972,0.02305581606924534,0.020699355751276016,0.018677087500691414,0.01707872375845909,0.015771809965372086,0.014952602796256542,0.014413967728614807,0.014111832715570927,0.013945425860583782,0.013853254728019238,0.013783205300569534,0.013700745068490505,0.013644717633724213,0.013578939251601696,0.013503843918442726,0.013409256935119629,0.013331039808690548,0.013225877657532692,0.013126990757882595,0.01300144661217928,0.012871815823018551,0.012801851145923138,0.012681840918958187,0.012516174465417862,0.01230545248836279,0.012143580242991447,0.01208270899951458,0.01195275317877531,0.011689879931509495,0.011575261130928993,0.011245722882449627,0.011101736687123775,0.010801461525261402,0.010632206685841084,0.01034640334546566,0.010373665951192379],\"type\":\"scatter\"}],                        {\"template\":{\"data\":{\"bar\":[{\"error_x\":{\"color\":\"#2a3f5f\"},\"error_y\":{\"color\":\"#2a3f5f\"},\"marker\":{\"line\":{\"color\":\"#E5ECF6\",\"width\":0.5},\"pattern\":{\"fillmode\":\"overlay\",\"size\":10,\"solidity\":0.2}},\"type\":\"bar\"}],\"barpolar\":[{\"marker\":{\"line\":{\"color\":\"#E5ECF6\",\"width\":0.5},\"pattern\":{\"fillmode\":\"overlay\",\"size\":10,\"solidity\":0.2}},\"type\":\"barpolar\"}],\"carpet\":[{\"aaxis\":{\"endlinecolor\":\"#2a3f5f\",\"gridcolor\":\"white\",\"linecolor\":\"white\",\"minorgridcolor\":\"white\",\"startlinecolor\":\"#2a3f5f\"},\"baxis\":{\"endlinecolor\":\"#2a3f5f\",\"gridcolor\":\"white\",\"linecolor\":\"white\",\"minorgridcolor\":\"white\",\"startlinecolor\":\"#2a3f5f\"},\"type\":\"carpet\"}],\"choropleth\":[{\"colorbar\":{\"outlinewidth\":0,\"ticks\":\"\"},\"type\":\"choropleth\"}],\"contour\":[{\"colorbar\":{\"outlinewidth\":0,\"ticks\":\"\"},\"colorscale\":[[0.0,\"#0d0887\"],[0.1111111111111111,\"#46039f\"],[0.2222222222222222,\"#7201a8\"],[0.3333333333333333,\"#9c179e\"],[0.4444444444444444,\"#bd3786\"],[0.5555555555555556,\"#d8576b\"],[0.6666666666666666,\"#ed7953\"],[0.7777777777777778,\"#fb9f3a\"],[0.8888888888888888,\"#fdca26\"],[1.0,\"#f0f921\"]],\"type\":\"contour\"}],\"contourcarpet\":[{\"colorbar\":{\"outlinewidth\":0,\"ticks\":\"\"},\"type\":\"contourcarpet\"}],\"heatmap\":[{\"colorbar\":{\"outlinewidth\":0,\"ticks\":\"\"},\"colorscale\":[[0.0,\"#0d0887\"],[0.1111111111111111,\"#46039f\"],[0.2222222222222222,\"#7201a8\"],[0.3333333333333333,\"#9c179e\"],[0.4444444444444444,\"#bd3786\"],[0.5555555555555556,\"#d8576b\"],[0.6666666666666666,\"#ed7953\"],[0.7777777777777778,\"#fb9f3a\"],[0.8888888888888888,\"#fdca26\"],[1.0,\"#f0f921\"]],\"type\":\"heatmap\"}],\"heatmapgl\":[{\"colorbar\":{\"outlinewidth\":0,\"ticks\":\"\"},\"colorscale\":[[0.0,\"#0d0887\"],[0.1111111111111111,\"#46039f\"],[0.2222222222222222,\"#7201a8\"],[0.3333333333333333,\"#9c179e\"],[0.4444444444444444,\"#bd3786\"],[0.5555555555555556,\"#d8576b\"],[0.6666666666666666,\"#ed7953\"],[0.7777777777777778,\"#fb9f3a\"],[0.8888888888888888,\"#fdca26\"],[1.0,\"#f0f921\"]],\"type\":\"heatmapgl\"}],\"histogram\":[{\"marker\":{\"pattern\":{\"fillmode\":\"overlay\",\"size\":10,\"solidity\":0.2}},\"type\":\"histogram\"}],\"histogram2d\":[{\"colorbar\":{\"outlinewidth\":0,\"ticks\":\"\"},\"colorscale\":[[0.0,\"#0d0887\"],[0.1111111111111111,\"#46039f\"],[0.2222222222222222,\"#7201a8\"],[0.3333333333333333,\"#9c179e\"],[0.4444444444444444,\"#bd3786\"],[0.5555555555555556,\"#d8576b\"],[0.6666666666666666,\"#ed7953\"],[0.7777777777777778,\"#fb9f3a\"],[0.8888888888888888,\"#fdca26\"],[1.0,\"#f0f921\"]],\"type\":\"histogram2d\"}],\"histogram2dcontour\":[{\"colorbar\":{\"outlinewidth\":0,\"ticks\":\"\"},\"colorscale\":[[0.0,\"#0d0887\"],[0.1111111111111111,\"#46039f\"],[0.2222222222222222,\"#7201a8\"],[0.3333333333333333,\"#9c179e\"],[0.4444444444444444,\"#bd3786\"],[0.5555555555555556,\"#d8576b\"],[0.6666666666666666,\"#ed7953\"],[0.7777777777777778,\"#fb9f3a\"],[0.8888888888888888,\"#fdca26\"],[1.0,\"#f0f921\"]],\"type\":\"histogram2dcontour\"}],\"mesh3d\":[{\"colorbar\":{\"outlinewidth\":0,\"ticks\":\"\"},\"type\":\"mesh3d\"}],\"parcoords\":[{\"line\":{\"colorbar\":{\"outlinewidth\":0,\"ticks\":\"\"}},\"type\":\"parcoords\"}],\"pie\":[{\"automargin\":true,\"type\":\"pie\"}],\"scatter\":[{\"marker\":{\"colorbar\":{\"outlinewidth\":0,\"ticks\":\"\"}},\"type\":\"scatter\"}],\"scatter3d\":[{\"line\":{\"colorbar\":{\"outlinewidth\":0,\"ticks\":\"\"}},\"marker\":{\"colorbar\":{\"outlinewidth\":0,\"ticks\":\"\"}},\"type\":\"scatter3d\"}],\"scattercarpet\":[{\"marker\":{\"colorbar\":{\"outlinewidth\":0,\"ticks\":\"\"}},\"type\":\"scattercarpet\"}],\"scattergeo\":[{\"marker\":{\"colorbar\":{\"outlinewidth\":0,\"ticks\":\"\"}},\"type\":\"scattergeo\"}],\"scattergl\":[{\"marker\":{\"colorbar\":{\"outlinewidth\":0,\"ticks\":\"\"}},\"type\":\"scattergl\"}],\"scattermapbox\":[{\"marker\":{\"colorbar\":{\"outlinewidth\":0,\"ticks\":\"\"}},\"type\":\"scattermapbox\"}],\"scatterpolar\":[{\"marker\":{\"colorbar\":{\"outlinewidth\":0,\"ticks\":\"\"}},\"type\":\"scatterpolar\"}],\"scatterpolargl\":[{\"marker\":{\"colorbar\":{\"outlinewidth\":0,\"ticks\":\"\"}},\"type\":\"scatterpolargl\"}],\"scatterternary\":[{\"marker\":{\"colorbar\":{\"outlinewidth\":0,\"ticks\":\"\"}},\"type\":\"scatterternary\"}],\"surface\":[{\"colorbar\":{\"outlinewidth\":0,\"ticks\":\"\"},\"colorscale\":[[0.0,\"#0d0887\"],[0.1111111111111111,\"#46039f\"],[0.2222222222222222,\"#7201a8\"],[0.3333333333333333,\"#9c179e\"],[0.4444444444444444,\"#bd3786\"],[0.5555555555555556,\"#d8576b\"],[0.6666666666666666,\"#ed7953\"],[0.7777777777777778,\"#fb9f3a\"],[0.8888888888888888,\"#fdca26\"],[1.0,\"#f0f921\"]],\"type\":\"surface\"}],\"table\":[{\"cells\":{\"fill\":{\"color\":\"#EBF0F8\"},\"line\":{\"color\":\"white\"}},\"header\":{\"fill\":{\"color\":\"#C8D4E3\"},\"line\":{\"color\":\"white\"}},\"type\":\"table\"}]},\"layout\":{\"annotationdefaults\":{\"arrowcolor\":\"#2a3f5f\",\"arrowhead\":0,\"arrowwidth\":1},\"autotypenumbers\":\"strict\",\"coloraxis\":{\"colorbar\":{\"outlinewidth\":0,\"ticks\":\"\"}},\"colorscale\":{\"diverging\":[[0,\"#8e0152\"],[0.1,\"#c51b7d\"],[0.2,\"#de77ae\"],[0.3,\"#f1b6da\"],[0.4,\"#fde0ef\"],[0.5,\"#f7f7f7\"],[0.6,\"#e6f5d0\"],[0.7,\"#b8e186\"],[0.8,\"#7fbc41\"],[0.9,\"#4d9221\"],[1,\"#276419\"]],\"sequential\":[[0.0,\"#0d0887\"],[0.1111111111111111,\"#46039f\"],[0.2222222222222222,\"#7201a8\"],[0.3333333333333333,\"#9c179e\"],[0.4444444444444444,\"#bd3786\"],[0.5555555555555556,\"#d8576b\"],[0.6666666666666666,\"#ed7953\"],[0.7777777777777778,\"#fb9f3a\"],[0.8888888888888888,\"#fdca26\"],[1.0,\"#f0f921\"]],\"sequentialminus\":[[0.0,\"#0d0887\"],[0.1111111111111111,\"#46039f\"],[0.2222222222222222,\"#7201a8\"],[0.3333333333333333,\"#9c179e\"],[0.4444444444444444,\"#bd3786\"],[0.5555555555555556,\"#d8576b\"],[0.6666666666666666,\"#ed7953\"],[0.7777777777777778,\"#fb9f3a\"],[0.8888888888888888,\"#fdca26\"],[1.0,\"#f0f921\"]]},\"colorway\":[\"#636efa\",\"#EF553B\",\"#00cc96\",\"#ab63fa\",\"#FFA15A\",\"#19d3f3\",\"#FF6692\",\"#B6E880\",\"#FF97FF\",\"#FECB52\"],\"font\":{\"color\":\"#2a3f5f\"},\"geo\":{\"bgcolor\":\"white\",\"lakecolor\":\"white\",\"landcolor\":\"#E5ECF6\",\"showlakes\":true,\"showland\":true,\"subunitcolor\":\"white\"},\"hoverlabel\":{\"align\":\"left\"},\"hovermode\":\"closest\",\"mapbox\":{\"style\":\"light\"},\"paper_bgcolor\":\"white\",\"plot_bgcolor\":\"#E5ECF6\",\"polar\":{\"angularaxis\":{\"gridcolor\":\"white\",\"linecolor\":\"white\",\"ticks\":\"\"},\"bgcolor\":\"#E5ECF6\",\"radialaxis\":{\"gridcolor\":\"white\",\"linecolor\":\"white\",\"ticks\":\"\"}},\"scene\":{\"xaxis\":{\"backgroundcolor\":\"#E5ECF6\",\"gridcolor\":\"white\",\"gridwidth\":2,\"linecolor\":\"white\",\"showbackground\":true,\"ticks\":\"\",\"zerolinecolor\":\"white\"},\"yaxis\":{\"backgroundcolor\":\"#E5ECF6\",\"gridcolor\":\"white\",\"gridwidth\":2,\"linecolor\":\"white\",\"showbackground\":true,\"ticks\":\"\",\"zerolinecolor\":\"white\"},\"zaxis\":{\"backgroundcolor\":\"#E5ECF6\",\"gridcolor\":\"white\",\"gridwidth\":2,\"linecolor\":\"white\",\"showbackground\":true,\"ticks\":\"\",\"zerolinecolor\":\"white\"}},\"shapedefaults\":{\"line\":{\"color\":\"#2a3f5f\"}},\"ternary\":{\"aaxis\":{\"gridcolor\":\"white\",\"linecolor\":\"white\",\"ticks\":\"\"},\"baxis\":{\"gridcolor\":\"white\",\"linecolor\":\"white\",\"ticks\":\"\"},\"bgcolor\":\"#E5ECF6\",\"caxis\":{\"gridcolor\":\"white\",\"linecolor\":\"white\",\"ticks\":\"\"}},\"title\":{\"x\":0.05},\"xaxis\":{\"automargin\":true,\"gridcolor\":\"white\",\"linecolor\":\"white\",\"ticks\":\"\",\"title\":{\"standoff\":15},\"zerolinecolor\":\"white\",\"zerolinewidth\":2},\"yaxis\":{\"automargin\":true,\"gridcolor\":\"white\",\"linecolor\":\"white\",\"ticks\":\"\",\"title\":{\"standoff\":15},\"zerolinecolor\":\"white\",\"zerolinewidth\":2}}},\"xaxis\":{\"title\":{\"text\":\"Time\"},\"type\":\"log\"},\"margin\":{\"l\":50,\"r\":50,\"b\":100,\"t\":100,\"pad\":4},\"title\":{\"text\":\"Loss value\"},\"yaxis\":{\"title\":{\"text\":\"Value\"}},\"autosize\":false,\"width\":600,\"height\":600,\"paper_bgcolor\":\"LightSteelBlue\",\"showlegend\":false},                        {\"responsive\": true}                    ).then(function(){\n",
              "                            \n",
              "var gd = document.getElementById('769160a3-df90-4c6b-b2d7-de96553ca8d8');\n",
              "var x = new MutationObserver(function (mutations, observer) {{\n",
              "        var display = window.getComputedStyle(gd).display;\n",
              "        if (!display || display === 'none') {{\n",
              "            console.log([gd, 'removed!']);\n",
              "            Plotly.purge(gd);\n",
              "            observer.disconnect();\n",
              "        }}\n",
              "}});\n",
              "\n",
              "// Listen for the removal of the full notebook cells\n",
              "var notebookContainer = gd.closest('#notebook-container');\n",
              "if (notebookContainer) {{\n",
              "    x.observe(notebookContainer, {childList: true});\n",
              "}}\n",
              "\n",
              "// Listen for the clearing of the current output cell\n",
              "var outputEl = gd.closest('.output');\n",
              "if (outputEl) {{\n",
              "    x.observe(outputEl, {childList: true});\n",
              "}}\n",
              "\n",
              "                        })                };                            </script>        </div>\n",
              "</body>\n",
              "</html>"
            ]
          },
          "metadata": {}
        }
      ]
    },
    {
      "cell_type": "markdown",
      "source": [
        "## Train the Model\n",
        "\n",
        "You can then proceed to train the model with your chosen learning rate. \n",
        "\n",
        "*Tip: When experimenting and you find yourself running different iterations of a model, you may want to use the [`clear_session()`](https://www.tensorflow.org/api_docs/python/tf/keras/backend/clear_session) method to declutter memory used by Keras. This is added in the first line below.*\n"
      ],
      "metadata": {
        "id": "dlxKXEbDgS2P"
      }
    },
    {
      "cell_type": "code",
      "source": [
        "# Reset states generated by Keras\n",
        "tf.keras.backend.clear_session()\n",
        "\n",
        "model_tune2 = TS_LSTM_Model(window_size=window_size, \n",
        "                              normalizer_layer=None,\n",
        "                              denormalizer_layer=None,\n",
        "                            feature_size=training_set_normalized.shape[1],\n",
        "                            expand_dims_layer=False)\n",
        "#model_tune2.load_weights('./checkpoints/my_checkpoint')\n",
        "\n",
        "# set built parameter\n",
        "print(training_set.shape)\n",
        "model_tune2.build(input_shape = (1, window_size, training_set.shape[1]))\n",
        "#model_tune2.summary()\n",
        "# Set the training parameters\n",
        "model_tune2.compile(loss=tf.keras.losses.Huber(), \n",
        "                    optimizer=tf.keras.optimizers.SGD(\n",
        "                        learning_rate=0.028,\n",
        "                        momentum=0.9))\n",
        "\n",
        "\n",
        "# Train the model\n",
        "history_build1 = model_tune2.fit(windowed_training_ds, epochs=epoch_value, \n",
        "                                verbose=0)"
      ],
      "metadata": {
        "id": "R-w7VYo9jI5w",
        "colab": {
          "base_uri": "https://localhost:8080/"
        },
        "outputId": "362c7b72-f64a-4733-9c51-b545531d48cc"
      },
      "execution_count": null,
      "outputs": [
        {
          "output_type": "stream",
          "name": "stdout",
          "text": [
            "(588, 3)\n"
          ]
        }
      ]
    },
    {
      "cell_type": "code",
      "source": [
        "plot_series_plotly(np.arange(0, epoch_value), history_build1.history['loss'],\n",
        "                   figure_title='loss value',\n",
        "                   xaxis_title='epoch', yaxis_title='Loss')"
      ],
      "metadata": {
        "colab": {
          "base_uri": "https://localhost:8080/",
          "height": 617
        },
        "id": "wx0-PKiak3tw",
        "outputId": "0b56d53a-1280-4cbb-e249-9f2b1b845d31"
      },
      "execution_count": null,
      "outputs": [
        {
          "output_type": "display_data",
          "data": {
            "text/html": [
              "<html>\n",
              "<head><meta charset=\"utf-8\" /></head>\n",
              "<body>\n",
              "    <div>            <script src=\"https://cdnjs.cloudflare.com/ajax/libs/mathjax/2.7.5/MathJax.js?config=TeX-AMS-MML_SVG\"></script><script type=\"text/javascript\">if (window.MathJax) {MathJax.Hub.Config({SVG: {font: \"STIX-Web\"}});}</script>                <script type=\"text/javascript\">window.PlotlyConfig = {MathJaxConfig: 'local'};</script>\n",
              "        <script src=\"https://cdn.plot.ly/plotly-2.8.3.min.js\"></script>                <div id=\"6af06485-4177-4c38-b0f1-dc60c42a182d\" class=\"plotly-graph-div\" style=\"height:600px; width:600px;\"></div>            <script type=\"text/javascript\">                                    window.PLOTLYENV=window.PLOTLYENV || {};                                    if (document.getElementById(\"6af06485-4177-4c38-b0f1-dc60c42a182d\")) {                    Plotly.newPlot(                        \"6af06485-4177-4c38-b0f1-dc60c42a182d\",                        [{\"mode\":\"lines\",\"x\":[0,1,2,3,4,5,6,7,8,9,10,11,12,13,14,15,16,17,18,19,20,21,22,23,24,25,26,27,28,29,30,31,32,33,34,35,36,37,38,39,40,41,42,43,44,45,46,47,48,49,50,51,52,53,54,55,56,57,58,59,60,61,62,63,64,65,66,67,68,69,70,71,72,73,74,75,76,77,78,79,80,81,82,83,84,85,86,87,88,89,90,91,92,93,94,95,96,97,98,99],\"y\":[0.07490885257720947,0.017102086916565895,0.013294405303895473,0.012256640009582043,0.01188003458082676,0.011579570360481739,0.011440885253250599,0.01130743883550167,0.011099095456302166,0.010964840650558472,0.010890343226492405,0.010801764205098152,0.010751734487712383,0.010708740912377834,0.010498196817934513,0.010498180985450745,0.010369808413088322,0.010267999023199081,0.010265988297760487,0.010254396125674248,0.010139992460608482,0.010021987371146679,0.01002153754234314,0.009910882450640202,0.009970441460609436,0.009897942654788494,0.009778974577784538,0.00988558679819107,0.009681188501417637,0.009595696814358234,0.009628886356949806,0.009523686952888966,0.009556240402162075,0.00958979595452547,0.009469486773014069,0.009380286559462547,0.009334972128272057,0.009285122156143188,0.00943617895245552,0.00919400341808796,0.009188082069158554,0.009186242707073689,0.009200401604175568,0.009158976376056671,0.00907959695905447,0.00906028039753437,0.009205387905240059,0.0091009009629488,0.009025818668305874,0.008951573632657528,0.008927748538553715,0.0089270556345582,0.008953969925642014,0.008916773833334446,0.008869510143995285,0.008891438134014606,0.008803564123809338,0.008820571005344391,0.008801608346402645,0.008790125139057636,0.008777851238846779,0.008775475434958935,0.008674857206642628,0.008685080334544182,0.0087126474827528,0.008712793700397015,0.008695339784026146,0.00862804614007473,0.008639770559966564,0.008616405539214611,0.008710894733667374,0.00858643464744091,0.008546903729438782,0.008528592996299267,0.008518924936652184,0.00850971695035696,0.008518018759787083,0.008543609641492367,0.008514637127518654,0.008562383241951466,0.008500944823026657,0.0084476163610816,0.00859746988862753,0.00859750434756279,0.008655037730932236,0.00848244596272707,0.008388740941882133,0.008436434902250767,0.008363527245819569,0.008366955444216728,0.008523830212652683,0.008553399704396725,0.008366512134671211,0.008353501558303833,0.008417352102696896,0.008331440389156342,0.008316234685480595,0.008365077897906303,0.008337289094924927,0.00833134539425373],\"type\":\"scatter\"}],                        {\"template\":{\"data\":{\"bar\":[{\"error_x\":{\"color\":\"#2a3f5f\"},\"error_y\":{\"color\":\"#2a3f5f\"},\"marker\":{\"line\":{\"color\":\"#E5ECF6\",\"width\":0.5},\"pattern\":{\"fillmode\":\"overlay\",\"size\":10,\"solidity\":0.2}},\"type\":\"bar\"}],\"barpolar\":[{\"marker\":{\"line\":{\"color\":\"#E5ECF6\",\"width\":0.5},\"pattern\":{\"fillmode\":\"overlay\",\"size\":10,\"solidity\":0.2}},\"type\":\"barpolar\"}],\"carpet\":[{\"aaxis\":{\"endlinecolor\":\"#2a3f5f\",\"gridcolor\":\"white\",\"linecolor\":\"white\",\"minorgridcolor\":\"white\",\"startlinecolor\":\"#2a3f5f\"},\"baxis\":{\"endlinecolor\":\"#2a3f5f\",\"gridcolor\":\"white\",\"linecolor\":\"white\",\"minorgridcolor\":\"white\",\"startlinecolor\":\"#2a3f5f\"},\"type\":\"carpet\"}],\"choropleth\":[{\"colorbar\":{\"outlinewidth\":0,\"ticks\":\"\"},\"type\":\"choropleth\"}],\"contour\":[{\"colorbar\":{\"outlinewidth\":0,\"ticks\":\"\"},\"colorscale\":[[0.0,\"#0d0887\"],[0.1111111111111111,\"#46039f\"],[0.2222222222222222,\"#7201a8\"],[0.3333333333333333,\"#9c179e\"],[0.4444444444444444,\"#bd3786\"],[0.5555555555555556,\"#d8576b\"],[0.6666666666666666,\"#ed7953\"],[0.7777777777777778,\"#fb9f3a\"],[0.8888888888888888,\"#fdca26\"],[1.0,\"#f0f921\"]],\"type\":\"contour\"}],\"contourcarpet\":[{\"colorbar\":{\"outlinewidth\":0,\"ticks\":\"\"},\"type\":\"contourcarpet\"}],\"heatmap\":[{\"colorbar\":{\"outlinewidth\":0,\"ticks\":\"\"},\"colorscale\":[[0.0,\"#0d0887\"],[0.1111111111111111,\"#46039f\"],[0.2222222222222222,\"#7201a8\"],[0.3333333333333333,\"#9c179e\"],[0.4444444444444444,\"#bd3786\"],[0.5555555555555556,\"#d8576b\"],[0.6666666666666666,\"#ed7953\"],[0.7777777777777778,\"#fb9f3a\"],[0.8888888888888888,\"#fdca26\"],[1.0,\"#f0f921\"]],\"type\":\"heatmap\"}],\"heatmapgl\":[{\"colorbar\":{\"outlinewidth\":0,\"ticks\":\"\"},\"colorscale\":[[0.0,\"#0d0887\"],[0.1111111111111111,\"#46039f\"],[0.2222222222222222,\"#7201a8\"],[0.3333333333333333,\"#9c179e\"],[0.4444444444444444,\"#bd3786\"],[0.5555555555555556,\"#d8576b\"],[0.6666666666666666,\"#ed7953\"],[0.7777777777777778,\"#fb9f3a\"],[0.8888888888888888,\"#fdca26\"],[1.0,\"#f0f921\"]],\"type\":\"heatmapgl\"}],\"histogram\":[{\"marker\":{\"pattern\":{\"fillmode\":\"overlay\",\"size\":10,\"solidity\":0.2}},\"type\":\"histogram\"}],\"histogram2d\":[{\"colorbar\":{\"outlinewidth\":0,\"ticks\":\"\"},\"colorscale\":[[0.0,\"#0d0887\"],[0.1111111111111111,\"#46039f\"],[0.2222222222222222,\"#7201a8\"],[0.3333333333333333,\"#9c179e\"],[0.4444444444444444,\"#bd3786\"],[0.5555555555555556,\"#d8576b\"],[0.6666666666666666,\"#ed7953\"],[0.7777777777777778,\"#fb9f3a\"],[0.8888888888888888,\"#fdca26\"],[1.0,\"#f0f921\"]],\"type\":\"histogram2d\"}],\"histogram2dcontour\":[{\"colorbar\":{\"outlinewidth\":0,\"ticks\":\"\"},\"colorscale\":[[0.0,\"#0d0887\"],[0.1111111111111111,\"#46039f\"],[0.2222222222222222,\"#7201a8\"],[0.3333333333333333,\"#9c179e\"],[0.4444444444444444,\"#bd3786\"],[0.5555555555555556,\"#d8576b\"],[0.6666666666666666,\"#ed7953\"],[0.7777777777777778,\"#fb9f3a\"],[0.8888888888888888,\"#fdca26\"],[1.0,\"#f0f921\"]],\"type\":\"histogram2dcontour\"}],\"mesh3d\":[{\"colorbar\":{\"outlinewidth\":0,\"ticks\":\"\"},\"type\":\"mesh3d\"}],\"parcoords\":[{\"line\":{\"colorbar\":{\"outlinewidth\":0,\"ticks\":\"\"}},\"type\":\"parcoords\"}],\"pie\":[{\"automargin\":true,\"type\":\"pie\"}],\"scatter\":[{\"marker\":{\"colorbar\":{\"outlinewidth\":0,\"ticks\":\"\"}},\"type\":\"scatter\"}],\"scatter3d\":[{\"line\":{\"colorbar\":{\"outlinewidth\":0,\"ticks\":\"\"}},\"marker\":{\"colorbar\":{\"outlinewidth\":0,\"ticks\":\"\"}},\"type\":\"scatter3d\"}],\"scattercarpet\":[{\"marker\":{\"colorbar\":{\"outlinewidth\":0,\"ticks\":\"\"}},\"type\":\"scattercarpet\"}],\"scattergeo\":[{\"marker\":{\"colorbar\":{\"outlinewidth\":0,\"ticks\":\"\"}},\"type\":\"scattergeo\"}],\"scattergl\":[{\"marker\":{\"colorbar\":{\"outlinewidth\":0,\"ticks\":\"\"}},\"type\":\"scattergl\"}],\"scattermapbox\":[{\"marker\":{\"colorbar\":{\"outlinewidth\":0,\"ticks\":\"\"}},\"type\":\"scattermapbox\"}],\"scatterpolar\":[{\"marker\":{\"colorbar\":{\"outlinewidth\":0,\"ticks\":\"\"}},\"type\":\"scatterpolar\"}],\"scatterpolargl\":[{\"marker\":{\"colorbar\":{\"outlinewidth\":0,\"ticks\":\"\"}},\"type\":\"scatterpolargl\"}],\"scatterternary\":[{\"marker\":{\"colorbar\":{\"outlinewidth\":0,\"ticks\":\"\"}},\"type\":\"scatterternary\"}],\"surface\":[{\"colorbar\":{\"outlinewidth\":0,\"ticks\":\"\"},\"colorscale\":[[0.0,\"#0d0887\"],[0.1111111111111111,\"#46039f\"],[0.2222222222222222,\"#7201a8\"],[0.3333333333333333,\"#9c179e\"],[0.4444444444444444,\"#bd3786\"],[0.5555555555555556,\"#d8576b\"],[0.6666666666666666,\"#ed7953\"],[0.7777777777777778,\"#fb9f3a\"],[0.8888888888888888,\"#fdca26\"],[1.0,\"#f0f921\"]],\"type\":\"surface\"}],\"table\":[{\"cells\":{\"fill\":{\"color\":\"#EBF0F8\"},\"line\":{\"color\":\"white\"}},\"header\":{\"fill\":{\"color\":\"#C8D4E3\"},\"line\":{\"color\":\"white\"}},\"type\":\"table\"}]},\"layout\":{\"annotationdefaults\":{\"arrowcolor\":\"#2a3f5f\",\"arrowhead\":0,\"arrowwidth\":1},\"autotypenumbers\":\"strict\",\"coloraxis\":{\"colorbar\":{\"outlinewidth\":0,\"ticks\":\"\"}},\"colorscale\":{\"diverging\":[[0,\"#8e0152\"],[0.1,\"#c51b7d\"],[0.2,\"#de77ae\"],[0.3,\"#f1b6da\"],[0.4,\"#fde0ef\"],[0.5,\"#f7f7f7\"],[0.6,\"#e6f5d0\"],[0.7,\"#b8e186\"],[0.8,\"#7fbc41\"],[0.9,\"#4d9221\"],[1,\"#276419\"]],\"sequential\":[[0.0,\"#0d0887\"],[0.1111111111111111,\"#46039f\"],[0.2222222222222222,\"#7201a8\"],[0.3333333333333333,\"#9c179e\"],[0.4444444444444444,\"#bd3786\"],[0.5555555555555556,\"#d8576b\"],[0.6666666666666666,\"#ed7953\"],[0.7777777777777778,\"#fb9f3a\"],[0.8888888888888888,\"#fdca26\"],[1.0,\"#f0f921\"]],\"sequentialminus\":[[0.0,\"#0d0887\"],[0.1111111111111111,\"#46039f\"],[0.2222222222222222,\"#7201a8\"],[0.3333333333333333,\"#9c179e\"],[0.4444444444444444,\"#bd3786\"],[0.5555555555555556,\"#d8576b\"],[0.6666666666666666,\"#ed7953\"],[0.7777777777777778,\"#fb9f3a\"],[0.8888888888888888,\"#fdca26\"],[1.0,\"#f0f921\"]]},\"colorway\":[\"#636efa\",\"#EF553B\",\"#00cc96\",\"#ab63fa\",\"#FFA15A\",\"#19d3f3\",\"#FF6692\",\"#B6E880\",\"#FF97FF\",\"#FECB52\"],\"font\":{\"color\":\"#2a3f5f\"},\"geo\":{\"bgcolor\":\"white\",\"lakecolor\":\"white\",\"landcolor\":\"#E5ECF6\",\"showlakes\":true,\"showland\":true,\"subunitcolor\":\"white\"},\"hoverlabel\":{\"align\":\"left\"},\"hovermode\":\"closest\",\"mapbox\":{\"style\":\"light\"},\"paper_bgcolor\":\"white\",\"plot_bgcolor\":\"#E5ECF6\",\"polar\":{\"angularaxis\":{\"gridcolor\":\"white\",\"linecolor\":\"white\",\"ticks\":\"\"},\"bgcolor\":\"#E5ECF6\",\"radialaxis\":{\"gridcolor\":\"white\",\"linecolor\":\"white\",\"ticks\":\"\"}},\"scene\":{\"xaxis\":{\"backgroundcolor\":\"#E5ECF6\",\"gridcolor\":\"white\",\"gridwidth\":2,\"linecolor\":\"white\",\"showbackground\":true,\"ticks\":\"\",\"zerolinecolor\":\"white\"},\"yaxis\":{\"backgroundcolor\":\"#E5ECF6\",\"gridcolor\":\"white\",\"gridwidth\":2,\"linecolor\":\"white\",\"showbackground\":true,\"ticks\":\"\",\"zerolinecolor\":\"white\"},\"zaxis\":{\"backgroundcolor\":\"#E5ECF6\",\"gridcolor\":\"white\",\"gridwidth\":2,\"linecolor\":\"white\",\"showbackground\":true,\"ticks\":\"\",\"zerolinecolor\":\"white\"}},\"shapedefaults\":{\"line\":{\"color\":\"#2a3f5f\"}},\"ternary\":{\"aaxis\":{\"gridcolor\":\"white\",\"linecolor\":\"white\",\"ticks\":\"\"},\"baxis\":{\"gridcolor\":\"white\",\"linecolor\":\"white\",\"ticks\":\"\"},\"bgcolor\":\"#E5ECF6\",\"caxis\":{\"gridcolor\":\"white\",\"linecolor\":\"white\",\"ticks\":\"\"}},\"title\":{\"x\":0.05},\"xaxis\":{\"automargin\":true,\"gridcolor\":\"white\",\"linecolor\":\"white\",\"ticks\":\"\",\"title\":{\"standoff\":15},\"zerolinecolor\":\"white\",\"zerolinewidth\":2},\"yaxis\":{\"automargin\":true,\"gridcolor\":\"white\",\"linecolor\":\"white\",\"ticks\":\"\",\"title\":{\"standoff\":15},\"zerolinecolor\":\"white\",\"zerolinewidth\":2}}},\"margin\":{\"l\":50,\"r\":50,\"b\":100,\"t\":100,\"pad\":4},\"title\":{\"text\":\"loss value\"},\"xaxis\":{\"title\":{\"text\":\"epoch\"}},\"yaxis\":{\"title\":{\"text\":\"Loss\"}},\"autosize\":false,\"width\":600,\"height\":600,\"paper_bgcolor\":\"LightSteelBlue\",\"showlegend\":false},                        {\"responsive\": true}                    ).then(function(){\n",
              "                            \n",
              "var gd = document.getElementById('6af06485-4177-4c38-b0f1-dc60c42a182d');\n",
              "var x = new MutationObserver(function (mutations, observer) {{\n",
              "        var display = window.getComputedStyle(gd).display;\n",
              "        if (!display || display === 'none') {{\n",
              "            console.log([gd, 'removed!']);\n",
              "            Plotly.purge(gd);\n",
              "            observer.disconnect();\n",
              "        }}\n",
              "}});\n",
              "\n",
              "// Listen for the removal of the full notebook cells\n",
              "var notebookContainer = gd.closest('#notebook-container');\n",
              "if (notebookContainer) {{\n",
              "    x.observe(notebookContainer, {childList: true});\n",
              "}}\n",
              "\n",
              "// Listen for the clearing of the current output cell\n",
              "var outputEl = gd.closest('.output');\n",
              "if (outputEl) {{\n",
              "    x.observe(outputEl, {childList: true});\n",
              "}}\n",
              "\n",
              "                        })                };                            </script>        </div>\n",
              "</body>\n",
              "</html>"
            ]
          },
          "metadata": {}
        }
      ]
    },
    {
      "cell_type": "code",
      "source": [
        "test_set_g2, results2 = plot_prediction_graph_plotly(\n",
        "    model_tune2, df, training_ds_rows, \n",
        "    window_size, None, None,\n",
        "    scaler=minmax_scaler,\n",
        "    variable_names=['Volume', 'Open', 'Close'],\n",
        "    series_name=['test set (close)',\n",
        "                 'pred set (close)']\n",
        "    )"
      ],
      "metadata": {
        "colab": {
          "base_uri": "https://localhost:8080/",
          "height": 689
        },
        "id": "T5R2RaLzkCJa",
        "outputId": "7562082d-5b01-4722-b07a-5c46f07925e6"
      },
      "execution_count": null,
      "outputs": [
        {
          "output_type": "stream",
          "name": "stdout",
          "text": [
            "dateset_to_forecast shape: (167, 3)\n",
            "expanded dateset_to_forecast shape: (1, 20, 3)\n",
            "forecast shape (147, 1, 3)\n",
            "forecast squeezed shape (147, 3)\n"
          ]
        },
        {
          "output_type": "display_data",
          "data": {
            "text/html": [
              "<html>\n",
              "<head><meta charset=\"utf-8\" /></head>\n",
              "<body>\n",
              "    <div>            <script src=\"https://cdnjs.cloudflare.com/ajax/libs/mathjax/2.7.5/MathJax.js?config=TeX-AMS-MML_SVG\"></script><script type=\"text/javascript\">if (window.MathJax) {MathJax.Hub.Config({SVG: {font: \"STIX-Web\"}});}</script>                <script type=\"text/javascript\">window.PlotlyConfig = {MathJaxConfig: 'local'};</script>\n",
              "        <script src=\"https://cdn.plot.ly/plotly-2.8.3.min.js\"></script>                <div id=\"6e734631-fb58-4d52-a06d-9adc3d4d6beb\" class=\"plotly-graph-div\" style=\"height:600px; width:600px;\"></div>            <script type=\"text/javascript\">                                    window.PLOTLYENV=window.PLOTLYENV || {};                                    if (document.getElementById(\"6e734631-fb58-4d52-a06d-9adc3d4d6beb\")) {                    Plotly.newPlot(                        \"6e734631-fb58-4d52-a06d-9adc3d4d6beb\",                        [{\"mode\":\"lines\",\"name\":\"test set (close)\",\"x\":[\"2022-08-09T00:00:00\",\"2022-08-10T00:00:00\",\"2022-08-11T00:00:00\",\"2022-08-12T00:00:00\",\"2022-08-15T00:00:00\",\"2022-08-16T00:00:00\",\"2022-08-18T00:00:00\",\"2022-08-19T00:00:00\",\"2022-08-22T00:00:00\",\"2022-08-23T00:00:00\",\"2022-08-24T00:00:00\",\"2022-08-25T00:00:00\",\"2022-08-26T00:00:00\",\"2022-08-29T00:00:00\",\"2022-08-30T00:00:00\",\"2022-08-31T00:00:00\",\"2022-09-01T00:00:00\",\"2022-09-02T00:00:00\",\"2022-09-05T00:00:00\",\"2022-09-06T00:00:00\",\"2022-09-07T00:00:00\",\"2022-09-08T00:00:00\",\"2022-09-09T00:00:00\",\"2022-09-12T00:00:00\",\"2022-09-13T00:00:00\",\"2022-09-14T00:00:00\",\"2022-09-15T00:00:00\",\"2022-09-16T00:00:00\",\"2022-09-19T00:00:00\",\"2022-09-20T00:00:00\",\"2022-09-21T00:00:00\",\"2022-09-22T00:00:00\",\"2022-09-23T00:00:00\",\"2022-09-26T00:00:00\",\"2022-09-27T00:00:00\",\"2022-09-28T00:00:00\",\"2022-09-29T00:00:00\",\"2022-09-30T00:00:00\",\"2022-10-03T00:00:00\",\"2022-10-04T00:00:00\",\"2022-10-05T00:00:00\",\"2022-10-06T00:00:00\",\"2022-10-07T00:00:00\",\"2022-10-10T00:00:00\",\"2022-10-11T00:00:00\",\"2022-10-12T00:00:00\",\"2022-10-13T00:00:00\",\"2022-10-14T00:00:00\",\"2022-10-17T00:00:00\",\"2022-10-18T00:00:00\",\"2022-10-19T00:00:00\",\"2022-10-20T00:00:00\",\"2022-10-21T00:00:00\",\"2022-10-24T00:00:00\",\"2022-10-25T00:00:00\",\"2022-10-26T00:00:00\",\"2022-10-27T00:00:00\",\"2022-10-28T00:00:00\",\"2022-10-31T00:00:00\",\"2022-11-01T00:00:00\",\"2022-11-02T00:00:00\",\"2022-11-03T00:00:00\",\"2022-11-04T00:00:00\",\"2022-11-07T00:00:00\",\"2022-11-08T00:00:00\",\"2022-11-09T00:00:00\",\"2022-11-10T00:00:00\",\"2022-11-11T00:00:00\",\"2022-11-14T00:00:00\",\"2022-11-15T00:00:00\",\"2022-11-16T00:00:00\",\"2022-11-17T00:00:00\",\"2022-11-18T00:00:00\",\"2022-11-21T00:00:00\",\"2022-11-22T00:00:00\",\"2022-11-23T00:00:00\",\"2022-11-24T00:00:00\",\"2022-11-25T00:00:00\",\"2022-11-28T00:00:00\",\"2022-11-29T00:00:00\",\"2022-11-30T00:00:00\",\"2022-12-01T00:00:00\",\"2022-12-02T00:00:00\",\"2022-12-05T00:00:00\",\"2022-12-06T00:00:00\",\"2022-12-07T00:00:00\",\"2022-12-08T00:00:00\",\"2022-12-09T00:00:00\",\"2022-12-12T00:00:00\",\"2022-12-13T00:00:00\",\"2022-12-14T00:00:00\",\"2022-12-15T00:00:00\",\"2022-12-16T00:00:00\",\"2022-12-19T00:00:00\",\"2022-12-20T00:00:00\",\"2022-12-21T00:00:00\",\"2022-12-22T00:00:00\",\"2022-12-23T00:00:00\",\"2022-12-26T00:00:00\",\"2022-12-27T00:00:00\",\"2022-12-28T00:00:00\",\"2022-12-29T00:00:00\",\"2022-12-30T00:00:00\",\"2023-01-02T00:00:00\",\"2023-01-03T00:00:00\",\"2023-01-04T00:00:00\",\"2023-01-05T00:00:00\",\"2023-01-06T00:00:00\",\"2023-01-09T00:00:00\",\"2023-01-10T00:00:00\",\"2023-01-11T00:00:00\",\"2023-01-12T00:00:00\",\"2023-01-13T00:00:00\",\"2023-01-16T00:00:00\",\"2023-01-17T00:00:00\",\"2023-01-18T00:00:00\",\"2023-01-19T00:00:00\",\"2023-01-20T00:00:00\",\"2023-01-24T00:00:00\",\"2023-01-25T00:00:00\",\"2023-01-26T00:00:00\",\"2023-01-27T00:00:00\",\"2023-01-30T00:00:00\",\"2023-01-31T00:00:00\",\"2023-02-01T00:00:00\",\"2023-02-02T00:00:00\",\"2023-02-03T00:00:00\",\"2023-02-06T00:00:00\",\"2023-02-07T00:00:00\",\"2023-02-08T00:00:00\",\"2023-02-09T00:00:00\",\"2023-02-10T00:00:00\",\"2023-02-13T00:00:00\",\"2023-02-14T00:00:00\",\"2023-02-15T00:00:00\",\"2023-02-16T00:00:00\",\"2023-02-17T00:00:00\",\"2023-02-20T00:00:00\",\"2023-02-21T00:00:00\",\"2023-02-22T00:00:00\",\"2023-02-23T00:00:00\",\"2023-02-24T00:00:00\",\"2023-02-27T00:00:00\",\"2023-02-28T00:00:00\",\"2023-03-01T00:00:00\",\"2023-03-02T00:00:00\",\"2023-03-03T00:00:00\"],\"y\":[4640.0,4560.0,4570.0,4550.0,4450.0,4410.0,4550.0,4600.0,4650.0,4660.0,4750.0,4570.0,4490.0,4520.0,4480.0,4560.0,4580.0,4600.0,4620.0,4510.0,4490.0,4560.0,4600.0,4540.0,4520.0,4480.0,4500.0,4410.0,4500.0,4480.0,4430.0,4430.0,4380.0,4460.0,4440.0,4470.0,4440.0,4460.0,4460.0,4440.0,4460.0,4430.0,4350.0,4420.0,4310.0,4340.0,4300.0,4290.0,4330.0,4250.0,4200.0,4350.0,4360.0,4410.0,4390.0,4370.0,4370.0,4450.0,4390.0,4420.0,4220.0,4130.0,4210.0,4280.0,4220.0,4190.0,4170.0,4150.0,4050.0,4050.0,4050.0,4040.0,4010.0,4030.0,4000.0,3970.0,4030.0,4030.0,3980.0,3980.0,4040.0,3960.0,4000.0,3840.0,3600.0,3680.0,3740.0,3650.0,3700.0,3750.0,3750.0,3670.0,3680.0,3720.0,3720.0,3790.0,3750.0,3780.0,3750.0,3810.0,3730.0,3780.0,3750.0,3800.0,3860.0,3820.0,3770.0,3710.0,3790.0,3830.0,3870.0,3860.0,3780.0,3850.0,3950.0,3930.0,3890.0,3870.0,3850.0,3840.0,3970.0,3960.0,3960.0,3850.0,3870.0,3890.0,3880.0,3880.0,3800.0,3840.0,3770.0,3800.0,3790.0,3800.0,3790.0,3770.0,3760.0,3820.0,3840.0,3860.0,3970.0,4040.0,3960.0,3880.0,3930.0,3880.0,3900.0],\"type\":\"scatter\"},{\"mode\":\"lines\",\"name\":\"pred set (close)\",\"x\":[\"2022-08-09T00:00:00\",\"2022-08-10T00:00:00\",\"2022-08-11T00:00:00\",\"2022-08-12T00:00:00\",\"2022-08-15T00:00:00\",\"2022-08-16T00:00:00\",\"2022-08-18T00:00:00\",\"2022-08-19T00:00:00\",\"2022-08-22T00:00:00\",\"2022-08-23T00:00:00\",\"2022-08-24T00:00:00\",\"2022-08-25T00:00:00\",\"2022-08-26T00:00:00\",\"2022-08-29T00:00:00\",\"2022-08-30T00:00:00\",\"2022-08-31T00:00:00\",\"2022-09-01T00:00:00\",\"2022-09-02T00:00:00\",\"2022-09-05T00:00:00\",\"2022-09-06T00:00:00\",\"2022-09-07T00:00:00\",\"2022-09-08T00:00:00\",\"2022-09-09T00:00:00\",\"2022-09-12T00:00:00\",\"2022-09-13T00:00:00\",\"2022-09-14T00:00:00\",\"2022-09-15T00:00:00\",\"2022-09-16T00:00:00\",\"2022-09-19T00:00:00\",\"2022-09-20T00:00:00\",\"2022-09-21T00:00:00\",\"2022-09-22T00:00:00\",\"2022-09-23T00:00:00\",\"2022-09-26T00:00:00\",\"2022-09-27T00:00:00\",\"2022-09-28T00:00:00\",\"2022-09-29T00:00:00\",\"2022-09-30T00:00:00\",\"2022-10-03T00:00:00\",\"2022-10-04T00:00:00\",\"2022-10-05T00:00:00\",\"2022-10-06T00:00:00\",\"2022-10-07T00:00:00\",\"2022-10-10T00:00:00\",\"2022-10-11T00:00:00\",\"2022-10-12T00:00:00\",\"2022-10-13T00:00:00\",\"2022-10-14T00:00:00\",\"2022-10-17T00:00:00\",\"2022-10-18T00:00:00\",\"2022-10-19T00:00:00\",\"2022-10-20T00:00:00\",\"2022-10-21T00:00:00\",\"2022-10-24T00:00:00\",\"2022-10-25T00:00:00\",\"2022-10-26T00:00:00\",\"2022-10-27T00:00:00\",\"2022-10-28T00:00:00\",\"2022-10-31T00:00:00\",\"2022-11-01T00:00:00\",\"2022-11-02T00:00:00\",\"2022-11-03T00:00:00\",\"2022-11-04T00:00:00\",\"2022-11-07T00:00:00\",\"2022-11-08T00:00:00\",\"2022-11-09T00:00:00\",\"2022-11-10T00:00:00\",\"2022-11-11T00:00:00\",\"2022-11-14T00:00:00\",\"2022-11-15T00:00:00\",\"2022-11-16T00:00:00\",\"2022-11-17T00:00:00\",\"2022-11-18T00:00:00\",\"2022-11-21T00:00:00\",\"2022-11-22T00:00:00\",\"2022-11-23T00:00:00\",\"2022-11-24T00:00:00\",\"2022-11-25T00:00:00\",\"2022-11-28T00:00:00\",\"2022-11-29T00:00:00\",\"2022-11-30T00:00:00\",\"2022-12-01T00:00:00\",\"2022-12-02T00:00:00\",\"2022-12-05T00:00:00\",\"2022-12-06T00:00:00\",\"2022-12-07T00:00:00\",\"2022-12-08T00:00:00\",\"2022-12-09T00:00:00\",\"2022-12-12T00:00:00\",\"2022-12-13T00:00:00\",\"2022-12-14T00:00:00\",\"2022-12-15T00:00:00\",\"2022-12-16T00:00:00\",\"2022-12-19T00:00:00\",\"2022-12-20T00:00:00\",\"2022-12-21T00:00:00\",\"2022-12-22T00:00:00\",\"2022-12-23T00:00:00\",\"2022-12-26T00:00:00\",\"2022-12-27T00:00:00\",\"2022-12-28T00:00:00\",\"2022-12-29T00:00:00\",\"2022-12-30T00:00:00\",\"2023-01-02T00:00:00\",\"2023-01-03T00:00:00\",\"2023-01-04T00:00:00\",\"2023-01-05T00:00:00\",\"2023-01-06T00:00:00\",\"2023-01-09T00:00:00\",\"2023-01-10T00:00:00\",\"2023-01-11T00:00:00\",\"2023-01-12T00:00:00\",\"2023-01-13T00:00:00\",\"2023-01-16T00:00:00\",\"2023-01-17T00:00:00\",\"2023-01-18T00:00:00\",\"2023-01-19T00:00:00\",\"2023-01-20T00:00:00\",\"2023-01-24T00:00:00\",\"2023-01-25T00:00:00\",\"2023-01-26T00:00:00\",\"2023-01-27T00:00:00\",\"2023-01-30T00:00:00\",\"2023-01-31T00:00:00\",\"2023-02-01T00:00:00\",\"2023-02-02T00:00:00\",\"2023-02-03T00:00:00\",\"2023-02-06T00:00:00\",\"2023-02-07T00:00:00\",\"2023-02-08T00:00:00\",\"2023-02-09T00:00:00\",\"2023-02-10T00:00:00\",\"2023-02-13T00:00:00\",\"2023-02-14T00:00:00\",\"2023-02-15T00:00:00\",\"2023-02-16T00:00:00\",\"2023-02-17T00:00:00\",\"2023-02-20T00:00:00\",\"2023-02-21T00:00:00\",\"2023-02-22T00:00:00\",\"2023-02-23T00:00:00\",\"2023-02-24T00:00:00\",\"2023-02-27T00:00:00\",\"2023-02-28T00:00:00\",\"2023-03-01T00:00:00\",\"2023-03-02T00:00:00\",\"2023-03-03T00:00:00\"],\"y\":[4571.1904296875,4591.56005859375,4587.7255859375,4578.9013671875,4569.87744140625,4548.05078125,4521.23388671875,4512.55322265625,4520.44384765625,4532.09521484375,4550.64208984375,4566.92333984375,4560.33203125,4536.42431640625,4499.88623046875,4480.36474609375,4475.66650390625,4478.32763671875,4481.056640625,4485.17626953125,4475.44482421875,4465.41748046875,4468.8896484375,4467.33349609375,4466.67724609375,4464.404296875,4457.6630859375,4466.67333984375,4475.3115234375,4477.30810546875,4477.9921875,4466.27294921875,4451.34912109375,4434.109375,4435.0615234375,4435.7421875,4438.92529296875,4436.0732421875,4436.35498046875,4433.890625,4430.17724609375,4429.1728515625,4424.4375,4413.55126953125,4404.53662109375,4391.96142578125,4382.15869140625,4365.1181640625,4352.94287109375,4341.3994140625,4324.7138671875,4297.57470703125,4312.72314453125,4319.28955078125,4338.56982421875,4361.23193359375,4374.841796875,4380.291015625,4399.15576171875,4420.49462890625,4429.30810546875,4426.0107421875,4394.07568359375,4364.34326171875,4345.76953125,4320.2412109375,4296.90869140625,4256.3291015625,4247.927734375,4217.34033203125,4168.638671875,4135.8095703125,4098.3427734375,4074.747314453125,4044.05908203125,4024.609619140625,4006.746337890625,3994.736328125,3995.95703125,3999.443359375,3999.771728515625,4093.9111328125,4103.5068359375,4086.987060546875,4052.82177734375,4006.603759765625,3947.985107421875,3905.126708984375,3841.70703125,3794.57177734375,3776.035400390625,3752.578369140625,3717.241943359375,3716.8212890625,3696.53564453125,3668.781494140625,3664.5927734375,3661.634765625,3657.43115234375,3655.6669921875,3676.910888671875,3698.635986328125,3709.5126953125,3721.97314453125,3727.97900390625,3763.134033203125,3788.997802734375,3814.097412109375,3805.4873046875,3805.346435546875,3825.977294921875,3846.875732421875,3868.91455078125,3876.068115234375,3877.81201171875,3914.017822265625,3947.00634765625,3960.389404296875,3962.42236328125,3947.895263671875,3936.87939453125,3953.447509765625,3972.67431640625,3980.6689453125,3989.99853515625,3972.3701171875,3959.06591796875,3947.07177734375,3932.517333984375,3913.841552734375,3897.240966796875,3880.9765625,3865.406982421875,3850.829833984375,3846.834716796875,3839.989013671875,3827.396484375,3814.23095703125,3813.15185546875,3824.806396484375,3839.023681640625,3891.15576171875,3956.262939453125,3981.841796875,3995.447998046875,3995.384765625,3982.8330078125],\"type\":\"scatter\"}],                        {\"template\":{\"data\":{\"bar\":[{\"error_x\":{\"color\":\"#2a3f5f\"},\"error_y\":{\"color\":\"#2a3f5f\"},\"marker\":{\"line\":{\"color\":\"#E5ECF6\",\"width\":0.5},\"pattern\":{\"fillmode\":\"overlay\",\"size\":10,\"solidity\":0.2}},\"type\":\"bar\"}],\"barpolar\":[{\"marker\":{\"line\":{\"color\":\"#E5ECF6\",\"width\":0.5},\"pattern\":{\"fillmode\":\"overlay\",\"size\":10,\"solidity\":0.2}},\"type\":\"barpolar\"}],\"carpet\":[{\"aaxis\":{\"endlinecolor\":\"#2a3f5f\",\"gridcolor\":\"white\",\"linecolor\":\"white\",\"minorgridcolor\":\"white\",\"startlinecolor\":\"#2a3f5f\"},\"baxis\":{\"endlinecolor\":\"#2a3f5f\",\"gridcolor\":\"white\",\"linecolor\":\"white\",\"minorgridcolor\":\"white\",\"startlinecolor\":\"#2a3f5f\"},\"type\":\"carpet\"}],\"choropleth\":[{\"colorbar\":{\"outlinewidth\":0,\"ticks\":\"\"},\"type\":\"choropleth\"}],\"contour\":[{\"colorbar\":{\"outlinewidth\":0,\"ticks\":\"\"},\"colorscale\":[[0.0,\"#0d0887\"],[0.1111111111111111,\"#46039f\"],[0.2222222222222222,\"#7201a8\"],[0.3333333333333333,\"#9c179e\"],[0.4444444444444444,\"#bd3786\"],[0.5555555555555556,\"#d8576b\"],[0.6666666666666666,\"#ed7953\"],[0.7777777777777778,\"#fb9f3a\"],[0.8888888888888888,\"#fdca26\"],[1.0,\"#f0f921\"]],\"type\":\"contour\"}],\"contourcarpet\":[{\"colorbar\":{\"outlinewidth\":0,\"ticks\":\"\"},\"type\":\"contourcarpet\"}],\"heatmap\":[{\"colorbar\":{\"outlinewidth\":0,\"ticks\":\"\"},\"colorscale\":[[0.0,\"#0d0887\"],[0.1111111111111111,\"#46039f\"],[0.2222222222222222,\"#7201a8\"],[0.3333333333333333,\"#9c179e\"],[0.4444444444444444,\"#bd3786\"],[0.5555555555555556,\"#d8576b\"],[0.6666666666666666,\"#ed7953\"],[0.7777777777777778,\"#fb9f3a\"],[0.8888888888888888,\"#fdca26\"],[1.0,\"#f0f921\"]],\"type\":\"heatmap\"}],\"heatmapgl\":[{\"colorbar\":{\"outlinewidth\":0,\"ticks\":\"\"},\"colorscale\":[[0.0,\"#0d0887\"],[0.1111111111111111,\"#46039f\"],[0.2222222222222222,\"#7201a8\"],[0.3333333333333333,\"#9c179e\"],[0.4444444444444444,\"#bd3786\"],[0.5555555555555556,\"#d8576b\"],[0.6666666666666666,\"#ed7953\"],[0.7777777777777778,\"#fb9f3a\"],[0.8888888888888888,\"#fdca26\"],[1.0,\"#f0f921\"]],\"type\":\"heatmapgl\"}],\"histogram\":[{\"marker\":{\"pattern\":{\"fillmode\":\"overlay\",\"size\":10,\"solidity\":0.2}},\"type\":\"histogram\"}],\"histogram2d\":[{\"colorbar\":{\"outlinewidth\":0,\"ticks\":\"\"},\"colorscale\":[[0.0,\"#0d0887\"],[0.1111111111111111,\"#46039f\"],[0.2222222222222222,\"#7201a8\"],[0.3333333333333333,\"#9c179e\"],[0.4444444444444444,\"#bd3786\"],[0.5555555555555556,\"#d8576b\"],[0.6666666666666666,\"#ed7953\"],[0.7777777777777778,\"#fb9f3a\"],[0.8888888888888888,\"#fdca26\"],[1.0,\"#f0f921\"]],\"type\":\"histogram2d\"}],\"histogram2dcontour\":[{\"colorbar\":{\"outlinewidth\":0,\"ticks\":\"\"},\"colorscale\":[[0.0,\"#0d0887\"],[0.1111111111111111,\"#46039f\"],[0.2222222222222222,\"#7201a8\"],[0.3333333333333333,\"#9c179e\"],[0.4444444444444444,\"#bd3786\"],[0.5555555555555556,\"#d8576b\"],[0.6666666666666666,\"#ed7953\"],[0.7777777777777778,\"#fb9f3a\"],[0.8888888888888888,\"#fdca26\"],[1.0,\"#f0f921\"]],\"type\":\"histogram2dcontour\"}],\"mesh3d\":[{\"colorbar\":{\"outlinewidth\":0,\"ticks\":\"\"},\"type\":\"mesh3d\"}],\"parcoords\":[{\"line\":{\"colorbar\":{\"outlinewidth\":0,\"ticks\":\"\"}},\"type\":\"parcoords\"}],\"pie\":[{\"automargin\":true,\"type\":\"pie\"}],\"scatter\":[{\"marker\":{\"colorbar\":{\"outlinewidth\":0,\"ticks\":\"\"}},\"type\":\"scatter\"}],\"scatter3d\":[{\"line\":{\"colorbar\":{\"outlinewidth\":0,\"ticks\":\"\"}},\"marker\":{\"colorbar\":{\"outlinewidth\":0,\"ticks\":\"\"}},\"type\":\"scatter3d\"}],\"scattercarpet\":[{\"marker\":{\"colorbar\":{\"outlinewidth\":0,\"ticks\":\"\"}},\"type\":\"scattercarpet\"}],\"scattergeo\":[{\"marker\":{\"colorbar\":{\"outlinewidth\":0,\"ticks\":\"\"}},\"type\":\"scattergeo\"}],\"scattergl\":[{\"marker\":{\"colorbar\":{\"outlinewidth\":0,\"ticks\":\"\"}},\"type\":\"scattergl\"}],\"scattermapbox\":[{\"marker\":{\"colorbar\":{\"outlinewidth\":0,\"ticks\":\"\"}},\"type\":\"scattermapbox\"}],\"scatterpolar\":[{\"marker\":{\"colorbar\":{\"outlinewidth\":0,\"ticks\":\"\"}},\"type\":\"scatterpolar\"}],\"scatterpolargl\":[{\"marker\":{\"colorbar\":{\"outlinewidth\":0,\"ticks\":\"\"}},\"type\":\"scatterpolargl\"}],\"scatterternary\":[{\"marker\":{\"colorbar\":{\"outlinewidth\":0,\"ticks\":\"\"}},\"type\":\"scatterternary\"}],\"surface\":[{\"colorbar\":{\"outlinewidth\":0,\"ticks\":\"\"},\"colorscale\":[[0.0,\"#0d0887\"],[0.1111111111111111,\"#46039f\"],[0.2222222222222222,\"#7201a8\"],[0.3333333333333333,\"#9c179e\"],[0.4444444444444444,\"#bd3786\"],[0.5555555555555556,\"#d8576b\"],[0.6666666666666666,\"#ed7953\"],[0.7777777777777778,\"#fb9f3a\"],[0.8888888888888888,\"#fdca26\"],[1.0,\"#f0f921\"]],\"type\":\"surface\"}],\"table\":[{\"cells\":{\"fill\":{\"color\":\"#EBF0F8\"},\"line\":{\"color\":\"white\"}},\"header\":{\"fill\":{\"color\":\"#C8D4E3\"},\"line\":{\"color\":\"white\"}},\"type\":\"table\"}]},\"layout\":{\"annotationdefaults\":{\"arrowcolor\":\"#2a3f5f\",\"arrowhead\":0,\"arrowwidth\":1},\"autotypenumbers\":\"strict\",\"coloraxis\":{\"colorbar\":{\"outlinewidth\":0,\"ticks\":\"\"}},\"colorscale\":{\"diverging\":[[0,\"#8e0152\"],[0.1,\"#c51b7d\"],[0.2,\"#de77ae\"],[0.3,\"#f1b6da\"],[0.4,\"#fde0ef\"],[0.5,\"#f7f7f7\"],[0.6,\"#e6f5d0\"],[0.7,\"#b8e186\"],[0.8,\"#7fbc41\"],[0.9,\"#4d9221\"],[1,\"#276419\"]],\"sequential\":[[0.0,\"#0d0887\"],[0.1111111111111111,\"#46039f\"],[0.2222222222222222,\"#7201a8\"],[0.3333333333333333,\"#9c179e\"],[0.4444444444444444,\"#bd3786\"],[0.5555555555555556,\"#d8576b\"],[0.6666666666666666,\"#ed7953\"],[0.7777777777777778,\"#fb9f3a\"],[0.8888888888888888,\"#fdca26\"],[1.0,\"#f0f921\"]],\"sequentialminus\":[[0.0,\"#0d0887\"],[0.1111111111111111,\"#46039f\"],[0.2222222222222222,\"#7201a8\"],[0.3333333333333333,\"#9c179e\"],[0.4444444444444444,\"#bd3786\"],[0.5555555555555556,\"#d8576b\"],[0.6666666666666666,\"#ed7953\"],[0.7777777777777778,\"#fb9f3a\"],[0.8888888888888888,\"#fdca26\"],[1.0,\"#f0f921\"]]},\"colorway\":[\"#636efa\",\"#EF553B\",\"#00cc96\",\"#ab63fa\",\"#FFA15A\",\"#19d3f3\",\"#FF6692\",\"#B6E880\",\"#FF97FF\",\"#FECB52\"],\"font\":{\"color\":\"#2a3f5f\"},\"geo\":{\"bgcolor\":\"white\",\"lakecolor\":\"white\",\"landcolor\":\"#E5ECF6\",\"showlakes\":true,\"showland\":true,\"subunitcolor\":\"white\"},\"hoverlabel\":{\"align\":\"left\"},\"hovermode\":\"closest\",\"mapbox\":{\"style\":\"light\"},\"paper_bgcolor\":\"white\",\"plot_bgcolor\":\"#E5ECF6\",\"polar\":{\"angularaxis\":{\"gridcolor\":\"white\",\"linecolor\":\"white\",\"ticks\":\"\"},\"bgcolor\":\"#E5ECF6\",\"radialaxis\":{\"gridcolor\":\"white\",\"linecolor\":\"white\",\"ticks\":\"\"}},\"scene\":{\"xaxis\":{\"backgroundcolor\":\"#E5ECF6\",\"gridcolor\":\"white\",\"gridwidth\":2,\"linecolor\":\"white\",\"showbackground\":true,\"ticks\":\"\",\"zerolinecolor\":\"white\"},\"yaxis\":{\"backgroundcolor\":\"#E5ECF6\",\"gridcolor\":\"white\",\"gridwidth\":2,\"linecolor\":\"white\",\"showbackground\":true,\"ticks\":\"\",\"zerolinecolor\":\"white\"},\"zaxis\":{\"backgroundcolor\":\"#E5ECF6\",\"gridcolor\":\"white\",\"gridwidth\":2,\"linecolor\":\"white\",\"showbackground\":true,\"ticks\":\"\",\"zerolinecolor\":\"white\"}},\"shapedefaults\":{\"line\":{\"color\":\"#2a3f5f\"}},\"ternary\":{\"aaxis\":{\"gridcolor\":\"white\",\"linecolor\":\"white\",\"ticks\":\"\"},\"baxis\":{\"gridcolor\":\"white\",\"linecolor\":\"white\",\"ticks\":\"\"},\"bgcolor\":\"#E5ECF6\",\"caxis\":{\"gridcolor\":\"white\",\"linecolor\":\"white\",\"ticks\":\"\"}},\"title\":{\"x\":0.05},\"xaxis\":{\"automargin\":true,\"gridcolor\":\"white\",\"linecolor\":\"white\",\"ticks\":\"\",\"title\":{\"standoff\":15},\"zerolinecolor\":\"white\",\"zerolinewidth\":2},\"yaxis\":{\"automargin\":true,\"gridcolor\":\"white\",\"linecolor\":\"white\",\"ticks\":\"\",\"title\":{\"standoff\":15},\"zerolinecolor\":\"white\",\"zerolinewidth\":2}}},\"margin\":{\"l\":50,\"r\":50,\"b\":100,\"t\":100,\"pad\":4},\"title\":{\"text\":\"\"},\"xaxis\":{\"title\":{\"text\":\"Time\"}},\"yaxis\":{\"title\":{\"text\":\"Value\"}},\"autosize\":false,\"width\":600,\"height\":600,\"paper_bgcolor\":\"LightSteelBlue\",\"showlegend\":false},                        {\"responsive\": true}                    ).then(function(){\n",
              "                            \n",
              "var gd = document.getElementById('6e734631-fb58-4d52-a06d-9adc3d4d6beb');\n",
              "var x = new MutationObserver(function (mutations, observer) {{\n",
              "        var display = window.getComputedStyle(gd).display;\n",
              "        if (!display || display === 'none') {{\n",
              "            console.log([gd, 'removed!']);\n",
              "            Plotly.purge(gd);\n",
              "            observer.disconnect();\n",
              "        }}\n",
              "}});\n",
              "\n",
              "// Listen for the removal of the full notebook cells\n",
              "var notebookContainer = gd.closest('#notebook-container');\n",
              "if (notebookContainer) {{\n",
              "    x.observe(notebookContainer, {childList: true});\n",
              "}}\n",
              "\n",
              "// Listen for the clearing of the current output cell\n",
              "var outputEl = gd.closest('.output');\n",
              "if (outputEl) {{\n",
              "    x.observe(outputEl, {childList: true});\n",
              "}}\n",
              "\n",
              "                        })                };                            </script>        </div>\n",
              "</body>\n",
              "</html>"
            ]
          },
          "metadata": {}
        }
      ]
    },
    {
      "cell_type": "code",
      "source": [
        "print(history_build1.history['loss'][-1])\n",
        "print(tf.keras.metrics.mean_squared_error(test_set_g2[:,-1], results2[:,-1]).numpy())\n",
        "print(tf.keras.metrics.mean_absolute_error(test_set_g2[:,-1], results2[:,-1]).numpy())"
      ],
      "metadata": {
        "colab": {
          "base_uri": "https://localhost:8080/"
        },
        "id": "pECIrJHMpMpu",
        "outputId": "e8b5ce6d-8b16-44e6-9e37-a8f936b4f40c"
      },
      "execution_count": null,
      "outputs": [
        {
          "output_type": "stream",
          "name": "stdout",
          "text": [
            "0.00833134539425373\n",
            "10567.976\n",
            "77.63741\n"
          ]
        }
      ]
    },
    {
      "cell_type": "markdown",
      "source": [
        "## tomorrow pred"
      ],
      "metadata": {
        "id": "WS2TUEKfkMbd"
      }
    },
    {
      "cell_type": "code",
      "source": [
        "test_set = tf.convert_to_tensor(df_test[['Volume', 'Open','Close']])"
      ],
      "metadata": {
        "id": "fl9QTO5pmNk4"
      },
      "execution_count": null,
      "outputs": []
    },
    {
      "cell_type": "code",
      "source": [
        "test_set[-1].numpy()"
      ],
      "metadata": {
        "colab": {
          "base_uri": "https://localhost:8080/"
        },
        "id": "kGWiWK-dmVd4",
        "outputId": "de242557-b89f-4a6b-bf03-fd6bd83b0780"
      },
      "execution_count": null,
      "outputs": [
        {
          "output_type": "execute_result",
          "data": {
            "text/plain": [
              "array([4.9796e+07, 3.8800e+03, 3.9000e+03])"
            ]
          },
          "metadata": {},
          "execution_count": 38
        }
      ]
    },
    {
      "cell_type": "code",
      "source": [
        "with np.printoptions(precision=0, suppress=True):\n",
        "    print(test_set[-1].numpy())"
      ],
      "metadata": {
        "colab": {
          "base_uri": "https://localhost:8080/"
        },
        "id": "lZnCOEW2BdMR",
        "outputId": "fedb1a7e-8253-40a0-ff29-c074d4fbe1b9"
      },
      "execution_count": null,
      "outputs": [
        {
          "output_type": "stream",
          "name": "stdout",
          "text": [
            "[49796000.     3880.     3900.]\n"
          ]
        }
      ]
    },
    {
      "cell_type": "code",
      "source": [
        "test_set_normalized = minmax_scaler.transform(test_set)\n",
        "test_set_normalized[-1]"
      ],
      "metadata": {
        "colab": {
          "base_uri": "https://localhost:8080/"
        },
        "id": "oOMfyGVNGiqC",
        "outputId": "b5a10d56-5d46-4959-a1fa-d57d135472a9"
      },
      "execution_count": null,
      "outputs": [
        {
          "output_type": "execute_result",
          "data": {
            "text/plain": [
              "array([-0.8404339 ,  0.15652174,  0.21266968])"
            ]
          },
          "metadata": {},
          "execution_count": 39
        }
      ]
    },
    {
      "cell_type": "code",
      "source": [
        "tomorro_pred = minmax_scaler.inverse_transform(model_tune2.predict(\n",
        "    np.expand_dims(test_set_normalized[-window_size:], axis=0)))"
      ],
      "metadata": {
        "colab": {
          "base_uri": "https://localhost:8080/"
        },
        "id": "_gW6dY1qkoZm",
        "outputId": "4053354d-7f74-496b-bee1-8ad23b358f2c"
      },
      "execution_count": null,
      "outputs": [
        {
          "output_type": "stream",
          "name": "stdout",
          "text": [
            "1/1 [==============================] - 0s 20ms/step\n"
          ]
        }
      ]
    },
    {
      "cell_type": "code",
      "source": [
        "with np.printoptions(precision=0, suppress=True):\n",
        "    print(tomorro_pred)\n",
        "\n",
        "#for elem in tomorro_pred[0]:\n",
        "#  print('{:.1f}'.format(elem))"
      ],
      "metadata": {
        "colab": {
          "base_uri": "https://localhost:8080/"
        },
        "id": "ZLF5rcd3_Y6E",
        "outputId": "ea838bbb-6a98-4bdd-d314-d4b95e0675e8"
      },
      "execution_count": null,
      "outputs": [
        {
          "output_type": "stream",
          "name": "stdout",
          "text": [
            "[[81156152.     3958.     3972.]]\n"
          ]
        }
      ]
    },
    {
      "cell_type": "markdown",
      "source": [
        "## save model\n",
        "\n",
        "there are two method to save a model:\n",
        " - by calling `save()` function\n",
        " - by calling `save_weights()` function"
      ],
      "metadata": {
        "id": "l4mzx_T4s1xt"
      }
    },
    {
      "cell_type": "code",
      "source": [
        "model_tune2.save('./model/lstm01')"
      ],
      "metadata": {
        "colab": {
          "base_uri": "https://localhost:8080/"
        },
        "id": "scl7bvKms2u2",
        "outputId": "11b16f1d-6bce-4174-8ab1-3d41faf1d6dc"
      },
      "execution_count": null,
      "outputs": [
        {
          "output_type": "stream",
          "name": "stderr",
          "text": [
            "WARNING:absl:Found untraced functions such as _update_step_xla, lstm_cell_1_layer_call_fn, lstm_cell_1_layer_call_and_return_conditional_losses, lstm_cell_2_layer_call_fn, lstm_cell_2_layer_call_and_return_conditional_losses while saving (showing 5 of 9). These functions will not be directly callable after loading.\n"
          ]
        }
      ]
    },
    {
      "cell_type": "code",
      "source": [
        "model_tune2.save_weights('./weights/lstm01')"
      ],
      "metadata": {
        "id": "CmXH2RG2t8HH"
      },
      "execution_count": null,
      "outputs": []
    },
    {
      "cell_type": "markdown",
      "source": [
        "## load model\n",
        "\n",
        "### by calling `tf.keras.models.load_model`"
      ],
      "metadata": {
        "id": "kGf6K22QtHTd"
      }
    },
    {
      "cell_type": "code",
      "source": [
        "model_loaded0 = tf.keras.models.load_model('./model/lstm01')"
      ],
      "metadata": {
        "id": "dRMHgEa5utva"
      },
      "execution_count": null,
      "outputs": []
    },
    {
      "cell_type": "code",
      "source": [
        "tomorrow_pred = minmax_scaler.inverse_transform(model_loaded0.predict(\n",
        "    np.expand_dims(test_set_normalized[-window_size:], axis=0)))"
      ],
      "metadata": {
        "colab": {
          "base_uri": "https://localhost:8080/"
        },
        "id": "vfSno4qnvCbU",
        "outputId": "e48bc185-e25e-4893-b3fd-077d9228c077"
      },
      "execution_count": null,
      "outputs": [
        {
          "output_type": "stream",
          "name": "stdout",
          "text": [
            "1/1 [==============================] - 0s 18ms/step\n"
          ]
        }
      ]
    },
    {
      "cell_type": "code",
      "source": [
        "for elem in tomorro_pred[0]:\n",
        "  print('{:.0f}'.format(elem))"
      ],
      "metadata": {
        "colab": {
          "base_uri": "https://localhost:8080/"
        },
        "id": "y8HzbIqwBTUw",
        "outputId": "93e35ce8-65a1-4ac4-96e3-f896edfae102"
      },
      "execution_count": null,
      "outputs": [
        {
          "output_type": "stream",
          "name": "stdout",
          "text": [
            "81156152\n",
            "3958\n",
            "3972\n"
          ]
        }
      ]
    },
    {
      "cell_type": "markdown",
      "source": [
        "### by loading weights"
      ],
      "metadata": {
        "id": "aTm7asGKumRj"
      }
    },
    {
      "cell_type": "code",
      "source": [
        "model_loaded = TS_LSTM_Model(window_size=window_size, \n",
        "                              normalizer_layer=None,\n",
        "                              denormalizer_layer=None,\n",
        "                             feature_size=2,\n",
        "                             expand_dims_layer=False\n",
        "                             )"
      ],
      "metadata": {
        "id": "9_vwgLCJtJZG"
      },
      "execution_count": null,
      "outputs": []
    },
    {
      "cell_type": "code",
      "source": [
        "model_loaded.load_weights('./weights/lstm01')"
      ],
      "metadata": {
        "colab": {
          "base_uri": "https://localhost:8080/"
        },
        "id": "ZrFs5jKuuY_f",
        "outputId": "7e1c3552-6713-4afb-af7b-91f3f907feb6"
      },
      "execution_count": null,
      "outputs": [
        {
          "output_type": "execute_result",
          "data": {
            "text/plain": [
              "<tensorflow.python.checkpoint.checkpoint.CheckpointLoadStatus at 0x7fdd91ce6ac0>"
            ]
          },
          "metadata": {},
          "execution_count": 46
        }
      ]
    },
    {
      "cell_type": "code",
      "source": [
        "tomorrow_pred = minmax_scaler.inverse_transform(model_loaded.predict(\n",
        "    np.expand_dims(test_set_normalized[-window_size:], axis=0)))"
      ],
      "metadata": {
        "colab": {
          "base_uri": "https://localhost:8080/"
        },
        "id": "w16Nl9rqtt3u",
        "outputId": "96372be9-97ff-4efc-e891-c2029af90ba4"
      },
      "execution_count": null,
      "outputs": [
        {
          "output_type": "stream",
          "name": "stdout",
          "text": [
            "1/1 [==============================] - 0s 19ms/step\n"
          ]
        }
      ]
    },
    {
      "cell_type": "code",
      "source": [
        "for elem in tomorrow_pred[0]:\n",
        "  print('{:.0f}'.format(elem))"
      ],
      "metadata": {
        "colab": {
          "base_uri": "https://localhost:8080/"
        },
        "id": "sBoVgRX-BoWM",
        "outputId": "6c9eed52-620e-4172-8d9e-06db385bb232"
      },
      "execution_count": null,
      "outputs": [
        {
          "output_type": "stream",
          "name": "stdout",
          "text": [
            "81156152\n",
            "3958\n",
            "3972\n"
          ]
        }
      ]
    }
  ]
}