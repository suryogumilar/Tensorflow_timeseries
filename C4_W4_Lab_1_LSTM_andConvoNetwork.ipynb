{
  "nbformat": 4,
  "nbformat_minor": 0,
  "metadata": {
    "colab": {
      "provenance": [],
      "authorship_tag": "ABX9TyOyZ2NbUlqFrdlL9RiVndHX",
      "include_colab_link": true
    },
    "kernelspec": {
      "name": "python3",
      "display_name": "Python 3"
    },
    "language_info": {
      "name": "python"
    }
  },
  "cells": [
    {
      "cell_type": "markdown",
      "metadata": {
        "id": "view-in-github",
        "colab_type": "text"
      },
      "source": [
        "<a href=\"https://colab.research.google.com/github/suryogumilar/Tensorflow_timeseries/blob/main/C4_W4_Lab_1_LSTM_andConvoNetwork.ipynb\" target=\"_parent\"><img src=\"https://colab.research.google.com/assets/colab-badge.svg\" alt=\"Open In Colab\"/></a>"
      ]
    },
    {
      "cell_type": "markdown",
      "source": [
        "# Using a Convolutions with multi-layer LSTM for forecasting\n",
        "\n"
      ],
      "metadata": {
        "id": "PWFadpeC1zx8"
      }
    },
    {
      "cell_type": "code",
      "execution_count": 36,
      "metadata": {
        "id": "IWjrEbt01rsm"
      },
      "outputs": [],
      "source": [
        "import tensorflow as tf\n",
        "import numpy as np\n",
        "import pandas as pd\n",
        "import datetime\n",
        "from dateutil.relativedelta import relativedelta\n",
        "# for timezone()\n",
        "import pytz\n",
        "import math\n",
        "import matplotlib.pyplot as plt\n",
        "import matplotlib.dates as mdates\n",
        "import plotly.graph_objects as go\n",
        "from IPython.display import clear_output\n",
        "import random\n",
        "import os\n",
        "from sklearn.preprocessing import MinMaxScaler"
      ]
    },
    {
      "cell_type": "markdown",
      "source": [
        "## Function\n",
        "\n",
        "### Plot functions\n"
      ],
      "metadata": {
        "id": "Jzzosp1Q2D2K"
      }
    },
    {
      "cell_type": "code",
      "source": [
        "def plot_series(time, series, format=\"-\", start=0, end=None):\n",
        "    \"\"\"\n",
        "    Visualizes time series data\n",
        "\n",
        "    Args:\n",
        "      time (array of int) - contains the time steps\n",
        "      series (array of int) - contains the measurements for each time step\n",
        "      format - line style when plotting the graph\n",
        "      label - tag for the line\n",
        "      start - first time step to plot\n",
        "      end - last time step to plot\n",
        "    \"\"\"\n",
        "\n",
        "    # Setup dimensions of the graph figure\n",
        "    plt.figure(figsize=(10, 6))\n",
        "    \n",
        "    if type(series) is tuple:\n",
        "\n",
        "      for series_num in series:\n",
        "        # Plot the time series data\n",
        "        plt.plot(time[start:end], series_num[start:end], format)\n",
        "\n",
        "    else:\n",
        "      # Plot the time series data\n",
        "      plt.plot(time[start:end], series[start:end], format)\n",
        "\n",
        "    # Label the x-axis\n",
        "    plt.xlabel(\"Time\")\n",
        "\n",
        "    # Label the y-axis\n",
        "    plt.ylabel(\"Value\")\n",
        "\n",
        "    # Overlay a grid on the graph\n",
        "    plt.grid(True)\n",
        "\n",
        "    # Draw the graph on screen\n",
        "    plt.show()"
      ],
      "metadata": {
        "id": "tpv3XvMi2Bj4"
      },
      "execution_count": 37,
      "outputs": []
    },
    {
      "cell_type": "code",
      "source": [
        "def plot_series_plotly(time, series, series_name=None, \n",
        "                       figure_title='', showlegend=False, \n",
        "                       start=0, end=None,\n",
        "                       xaxis_title=\"Time\",\n",
        "                       yaxis_title=\"Value\"):\n",
        "    \"\"\"\n",
        "    Visualizes time series data but using plotly for interactive graph\n",
        "\n",
        "    Args:\n",
        "      time (array of int) - contains the time steps\n",
        "      series (array of int) - contains the measurements for each time step\n",
        "      series_name (array of string) - contains correlative name of each series\n",
        "      format - line style when plotting the graph\n",
        "      label - tag for the line\n",
        "      start - first time step to plot\n",
        "      end - last time step to plot\n",
        "    \"\"\"\n",
        "    fig = go.Figure()\n",
        "    # Setup dimensions of the graph figure\n",
        "    \n",
        "    if type(series) is tuple:\n",
        "      ii = 0\n",
        "      for series_num in series:\n",
        "        # Plot the time series data\n",
        "        fig.add_trace(go.Scatter(x=time[start:end],\n",
        "                                 y=series_num[start:end], mode='lines',\n",
        "                                 name=series_name[ii]))  \n",
        "        ii = ii+1\n",
        "    else:\n",
        "      # Plot the time series data\n",
        "      fig.add_trace(go.Scatter(x=time[start:end],\n",
        "                                 y=series[start:end], mode='lines'))\n",
        "\n",
        "    fig.update_layout(title=figure_title, xaxis_title=xaxis_title, \n",
        "                      yaxis_title=yaxis_title,\n",
        "                      autosize=False,\n",
        "                      width=600,\n",
        "                      height=600,\n",
        "                      margin=dict(\n",
        "                        l=50,\n",
        "                        r=50,\n",
        "                        b=100,\n",
        "                        t=100,\n",
        "                        pad=4\n",
        "                        ), paper_bgcolor=\"LightSteelBlue\"\n",
        "                        , showlegend=showlegend\n",
        "                      )\n",
        "    fig.show()"
      ],
      "metadata": {
        "id": "63OpDzV22f2C"
      },
      "execution_count": 38,
      "outputs": []
    },
    {
      "cell_type": "code",
      "source": [
        "def plot_candlesticks(df, figure_title='', showlegend=False):\n",
        "  fig = go.Figure(data= [go.Candlestick(x=df['Date'],\n",
        "                             open=df['Open'],\n",
        "                             high=df['High'],\n",
        "                             low=df['Low'],\n",
        "                             close=df['Close']\n",
        "                             )])\n",
        "  fig.update_layout(title=figure_title, xaxis_title=\"Time\", yaxis_title=\"Value\",\n",
        "                    autosize=False,\n",
        "                    width=600,\n",
        "                    height=600,\n",
        "                    margin=dict(\n",
        "                        l=50,\n",
        "                        r=50,\n",
        "                        b=100,\n",
        "                        t=100,\n",
        "                        pad=4\n",
        "                    ),\n",
        "                    paper_bgcolor=\"LightSteelBlue\", showlegend=showlegend\n",
        "                  )\n",
        "  fig.show()"
      ],
      "metadata": {
        "id": "WqmtJJol2iNx"
      },
      "execution_count": 39,
      "outputs": []
    },
    {
      "cell_type": "code",
      "source": [
        "def plot_loss_inlog(history, epoch_value, lrs_value=1e-8, \n",
        "                    x_boundary1=1e-8, x_boundary2=1e-3,\n",
        "                    y_boundary1=0, y_boundary2=50):\n",
        "  \"\"\"\n",
        "  plot loss value after training in logaritmic scale\n",
        "\n",
        "  Parameters:\n",
        "    lrs_value: learning rate value that passed to LearningRateScheduler function\n",
        "  \"\"\"\n",
        "  # Define the learning rate array\n",
        "  lrs = lrs_value * (10 ** (np.arange(epoch_value) / 20))\n",
        "\n",
        "  # Set the figure size\n",
        "  plt.figure(figsize=(10, 6))\n",
        "\n",
        "  # Set the grid\n",
        "  plt.grid(True)\n",
        "\n",
        "  # Plot the loss in log scale\n",
        "  plt.semilogx(lrs, history.history[\"loss\"])\n",
        "\n",
        "  # Increase the tickmarks size\n",
        "  plt.tick_params('both', length=10, width=1, which='both')\n",
        "\n",
        "  # Set the plot boundaries\n",
        "  plt.axis([x_boundary1, x_boundary2, \n",
        "            y_boundary1, y_boundary2])"
      ],
      "metadata": {
        "id": "WvwjL8rf2j9q"
      },
      "execution_count": 40,
      "outputs": []
    },
    {
      "cell_type": "code",
      "source": [
        "def plot_loss_inlog_plotly(history, epoch_value, lrs_value=1e-8,\n",
        "                           figure_title='Loss value', showlegend=False):\n",
        "  \"\"\"\n",
        "  plot loss value after training in logaritmic scale\n",
        "\n",
        "  Parameters:\n",
        "    lrs_value: learning rate value that passed to LearningRateScheduler function\n",
        "  \"\"\"\n",
        "  # Define the learning rate array\n",
        "  lrs = lrs_value * (10 ** (np.arange(epoch_value) / 20))\n",
        "  fig = go.Figure()\n",
        "  fig.add_trace(go.Scatter(x=lrs,\n",
        "                           y=history.history['loss'], mode='lines'))\n",
        "  fig.update_xaxes(title_text=\"learning rate\", type=\"log\")\n",
        "  \n",
        "  fig.update_layout(title=figure_title, xaxis_title=\"Time\", yaxis_title=\"Value\",\n",
        "                      autosize=False,\n",
        "                      width=600,\n",
        "                      height=600,\n",
        "                      margin=dict(\n",
        "                        l=50,\n",
        "                        r=50,\n",
        "                        b=100,\n",
        "                        t=100,\n",
        "                        pad=4\n",
        "                        ), paper_bgcolor=\"LightSteelBlue\"\n",
        "                        , showlegend=showlegend\n",
        "                      )\n",
        "  fig.show()"
      ],
      "metadata": {
        "id": "nVidmrXziXKh"
      },
      "execution_count": 41,
      "outputs": []
    },
    {
      "cell_type": "code",
      "source": [
        "def plot_prediction_graph(model, df, training_ds_rows,\n",
        "                          window_size, \n",
        "                          normalizer_univar, denormalizer_univar,\n",
        "                          variable_names='Close'):\n",
        "  # Initialize a list\n",
        "  forecast = []\n",
        "  dataset_to_forecast = df[variable_names].iloc[training_ds_rows-window_size:]\n",
        "  dateset_to_forecast_normalized = normalizer_univar(dataset_to_forecast)\n",
        "  for time in range(dateset_to_forecast_normalized.shape[0] - window_size):\n",
        "    the_prediction = model.predict(\n",
        "        np.expand_dims(dateset_to_forecast_normalized[time:time + window_size], \n",
        "                      axis=0), \n",
        "        verbose=0)\n",
        "    the_prediction_denorm = denormalizer_univar(the_prediction)\n",
        "    forecast.append(the_prediction_denorm)\n",
        "    \n",
        "  # Convert to a numpy array and drop single dimensional axes\n",
        "  results = np.array(forecast).squeeze()\n",
        "\n",
        "  # Overlay the results with the validation set\n",
        "  test_set = tf.convert_to_tensor(df[training_ds_rows:][variable_names])\n",
        "  plot_series(df_test['Date'], (test_set, results) )\n",
        "  return (test_set, results)"
      ],
      "metadata": {
        "id": "nbaxmDR52mNb"
      },
      "execution_count": 42,
      "outputs": []
    },
    {
      "cell_type": "code",
      "source": [
        "def plot_prediction_graph_plotly(model, df, training_ds_rows, \n",
        "                          window_size, normalizer_univar, denormalizer_univar,\n",
        "                          scaler=None,\n",
        "                          variable_names='Close',\n",
        "                          series_name=['test dataset', 'predicted value']):\n",
        "  # Initialize a list\n",
        "  forecast = []\n",
        "  dataset_to_forecast = df[variable_names].iloc[training_ds_rows-window_size:]\n",
        "  if(normalizer_univar is not None):\n",
        "    dateset_to_forecast_normalized = normalizer_univar(dataset_to_forecast)\n",
        "  else:\n",
        "    dateset_to_forecast_normalized = scaler.transform(dataset_to_forecast.values)\n",
        "    print('dateset_to_forecast shape:', dateset_to_forecast_normalized.shape)\n",
        "    print('expanded dateset_to_forecast shape:',\n",
        "          np.expand_dims(dateset_to_forecast_normalized[0:window_size], \n",
        "                      axis=0).shape)\n",
        "  for time in range(dateset_to_forecast_normalized.shape[0] - window_size):\n",
        "    the_prediction = model.predict(\n",
        "        np.expand_dims(dateset_to_forecast_normalized[time:time + window_size], \n",
        "                      axis=0), \n",
        "        verbose=0)\n",
        "    if(denormalizer_univar is not None):\n",
        "      the_prediction_denorm = denormalizer_univar(the_prediction)\n",
        "    else:\n",
        "      the_prediction_denorm = scaler.inverse_transform(the_prediction)\n",
        "    forecast.append(the_prediction_denorm)\n",
        "    \n",
        "  # Convert to a numpy array and drop single dimensional axes\n",
        "  print('forecast shape', np.array(forecast).shape)\n",
        "  results = np.array(forecast).squeeze()\n",
        "  print('forecast squeezed shape', results.shape)\n",
        "  # Overlay the results with the validation set\n",
        "  test_set = tf.convert_to_tensor(df[training_ds_rows:][variable_names])\n",
        "  print('test_set.size', test_set.get_shape())\n",
        "  print('results.ndim', results.ndim)\n",
        "  \n",
        "  # if(test_set.size==1):\n",
        "  #   test_set = test_set.reshape(-1, 1)\n",
        "  if(results.ndim==1):\n",
        "    results = results.reshape(-1, len(variable_names))\n",
        "    \n",
        "  plot_series_plotly(df_test['Date'], (test_set[:,-1], results[:,-1]), \n",
        "                     series_name=series_name )\n",
        "  return (test_set, results)\n",
        "     "
      ],
      "metadata": {
        "id": "3AhNaa717V5M"
      },
      "execution_count": 43,
      "outputs": []
    },
    {
      "cell_type": "markdown",
      "source": [
        "### function data retrieval "
      ],
      "metadata": {
        "id": "SRDL7hBT7YC9"
      }
    },
    {
      "cell_type": "code",
      "source": [
        "def getStockData(history_span:int, the_ticker:str):\n",
        "  \"\"\"\n",
        "  Getting stock data from Yahoo Finance API\n",
        "\n",
        "  Args:\n",
        "    history_span (int) how much backdate data to be collected\n",
        "    the_ticker (string) ticker name on yahoo finance API\n",
        "  Returns:\n",
        "    Pandas dataframe (pd.DataFrame) containing stock data    \n",
        "  \"\"\"\n",
        "  THE_URL = ('https://query1.finance.yahoo.com/v7/finance/'+\n",
        "           'download/{ticker}?period1={period1}&period2={period2}&interval=1d&events=history&includeAdjustedClose=true')\n",
        "  tdy = datetime.datetime.now(tz=pytz.timezone('Asia/Jakarta'))\n",
        "\n",
        "  p2 = math.ceil(tdy.timestamp())\n",
        "  p1 = math.floor((tdy - relativedelta(years=history_span)).timestamp())\n",
        "  yf_url = THE_URL.format(ticker=the_ticker,period1=p1, period2=p2)\n",
        "  df = pd.read_csv(yf_url)\n",
        "  df['Date'] = pd.to_datetime(df['Date'], format='%Y-%m-%d')\n",
        "  return df\n",
        "     "
      ],
      "metadata": {
        "id": "tVxNgggIRUM4"
      },
      "execution_count": 44,
      "outputs": []
    },
    {
      "cell_type": "markdown",
      "source": [
        "### Fucntion to Make windowed data for time series forecasting"
      ],
      "metadata": {
        "id": "YcSK6N_tRXem"
      }
    },
    {
      "cell_type": "code",
      "source": [
        "def windowed_dataset(series, window_size, batch_size, shuffle_buffer):\n",
        "    \"\"\"Generates dataset windows\n",
        "\n",
        "    Args:\n",
        "      series (array of float) - contains the values of the time series\n",
        "      window_size (int) - the number of time steps to include in the feature\n",
        "      batch_size (int) - the batch size\n",
        "      shuffle_buffer(int) - buffer size to use for the shuffle method\n",
        "\n",
        "    Returns:\n",
        "      dataset (TF Dataset) - TF Dataset containing time windows\n",
        "    \"\"\"\n",
        "  \n",
        "    # Generate a TF Dataset from the series values\n",
        "    dataset = tf.data.Dataset.from_tensor_slices(series)\n",
        "    \n",
        "    # Window the data but only take those with the specified size\n",
        "    dataset = dataset.window(window_size + 1, shift=1, drop_remainder=True)\n",
        "    \n",
        "    # Flatten the windows by putting its elements in a single batch\n",
        "    dataset = dataset.flat_map(lambda window: window.batch(window_size + 1))\n",
        "\n",
        "    # Create tuples with features and labels \n",
        "    dataset = dataset.map(lambda window: (window[:-1], window[-1]))\n",
        "\n",
        "    # Shuffle the windows\n",
        "    dataset = dataset.shuffle(shuffle_buffer)\n",
        "    \n",
        "    # Create batches of windows\n",
        "    dataset = dataset.batch(batch_size).prefetch(1)\n",
        "    \n",
        "    return dataset"
      ],
      "metadata": {
        "id": "tsfLOxPSRWCW"
      },
      "execution_count": 45,
      "outputs": []
    },
    {
      "cell_type": "markdown",
      "source": [
        "### Tensorflow functions\n",
        "\n",
        "for set random seed"
      ],
      "metadata": {
        "id": "y497F_TSRbul"
      }
    },
    {
      "cell_type": "code",
      "source": [
        "def set_seed(seed: int = 42) -> None:\n",
        "  random.seed(seed)\n",
        "  np.random.seed(seed)\n",
        "  tf.random.set_seed(seed)\n",
        "  tf.experimental.numpy.random.seed(seed)\n",
        "  #tf.keras.utils.set_random_seed(seed)\n",
        "  #tf.config.experimental.enable_op_determinism()\n",
        "  try:\n",
        "    tf.set_random_seed(seed)\n",
        "  except AttributeError as ae:\n",
        "    print('INFO: tf.set_random_seed is deprecated in tf version ', tf.__version__, ' ',ae )\n",
        "  \n",
        "  # When running on the CuDNN backend, two further options must be set\n",
        "  os.environ['TF_CUDNN_DETERMINISTIC'] = '1'\n",
        "  os.environ['TF_DETERMINISTIC_OPS'] = '1'\n",
        "  # Set a fixed value for the hash seed\n",
        "  os.environ[\"PYTHONHASHSEED\"] = str(seed)\n",
        "  print(f\"Random seed set as {seed}\")\n",
        "     "
      ],
      "metadata": {
        "id": "vkmRwkMHRflo"
      },
      "execution_count": 46,
      "outputs": []
    },
    {
      "cell_type": "markdown",
      "source": [
        "## get data"
      ],
      "metadata": {
        "id": "CstVSeRWRinX"
      }
    },
    {
      "cell_type": "code",
      "source": [
        "# stock_name = str(input(\"Stock tick:\"))\n",
        "# hist_data = int(input(\"historical data (year):\"))\n",
        "\n",
        "stock_name = 'TLKM.JK'\n",
        "hist_data = 3"
      ],
      "metadata": {
        "id": "JHB0t8FQRhXi"
      },
      "execution_count": 47,
      "outputs": []
    },
    {
      "cell_type": "code",
      "source": [
        "df = getStockData(hist_data, stock_name)"
      ],
      "metadata": {
        "id": "zkqBQsQjRlAo"
      },
      "execution_count": 48,
      "outputs": []
    },
    {
      "cell_type": "markdown",
      "source": [
        "## Split the Dataset"
      ],
      "metadata": {
        "id": "TQY4HhzkR1Wo"
      }
    },
    {
      "cell_type": "code",
      "source": [
        "split_ratio = 0.8\n",
        "rows_of_dataframe = df.shape[0]\n",
        "\n",
        "training_ds_rows = round(rows_of_dataframe * split_ratio)\n",
        "test_ds_rows = round(rows_of_dataframe * (1- split_ratio))\n",
        "\n",
        "df_training = df[:training_ds_rows]\n",
        "df_test = df[training_ds_rows:]"
      ],
      "metadata": {
        "id": "oULj09l3RyUc"
      },
      "execution_count": 49,
      "outputs": []
    },
    {
      "cell_type": "markdown",
      "source": [
        "## Normalize"
      ],
      "metadata": {
        "id": "NrNVT0M7Rmbl"
      }
    },
    {
      "cell_type": "code",
      "source": [
        "# convert to tensor\n",
        "training_set = tf.convert_to_tensor(df_training['Close'])\n",
        "print(training_set.shape)"
      ],
      "metadata": {
        "colab": {
          "base_uri": "https://localhost:8080/"
        },
        "id": "R2M0PzkqZmLR",
        "outputId": "ae1182b3-bb55-4b35-be77-32faf8511238"
      },
      "execution_count": 50,
      "outputs": [
        {
          "output_type": "stream",
          "name": "stdout",
          "text": [
            "(587,)\n"
          ]
        }
      ]
    },
    {
      "cell_type": "code",
      "source": [
        "plot_series_plotly(df_training['Date'], training_set,\n",
        "                   series_name='Close', figure_title='Stocks')"
      ],
      "metadata": {
        "colab": {
          "base_uri": "https://localhost:8080/",
          "height": 617
        },
        "id": "cQkRTKJZaiBp",
        "outputId": "968a0f6f-c811-43c7-8cf8-51b98dfc8316"
      },
      "execution_count": 51,
      "outputs": [
        {
          "output_type": "display_data",
          "data": {
            "text/html": [
              "<html>\n",
              "<head><meta charset=\"utf-8\" /></head>\n",
              "<body>\n",
              "    <div>            <script src=\"https://cdnjs.cloudflare.com/ajax/libs/mathjax/2.7.5/MathJax.js?config=TeX-AMS-MML_SVG\"></script><script type=\"text/javascript\">if (window.MathJax) {MathJax.Hub.Config({SVG: {font: \"STIX-Web\"}});}</script>                <script type=\"text/javascript\">window.PlotlyConfig = {MathJaxConfig: 'local'};</script>\n",
              "        <script src=\"https://cdn.plot.ly/plotly-2.8.3.min.js\"></script>                <div id=\"5dc303a0-37b8-4d1c-9b5f-c0ecd679763f\" class=\"plotly-graph-div\" style=\"height:600px; width:600px;\"></div>            <script type=\"text/javascript\">                                    window.PLOTLYENV=window.PLOTLYENV || {};                                    if (document.getElementById(\"5dc303a0-37b8-4d1c-9b5f-c0ecd679763f\")) {                    Plotly.newPlot(                        \"5dc303a0-37b8-4d1c-9b5f-c0ecd679763f\",                        [{\"mode\":\"lines\",\"x\":[\"2020-03-06T00:00:00\",\"2020-03-09T00:00:00\",\"2020-03-10T00:00:00\",\"2020-03-11T00:00:00\",\"2020-03-12T00:00:00\",\"2020-03-13T00:00:00\",\"2020-03-16T00:00:00\",\"2020-03-17T00:00:00\",\"2020-03-18T00:00:00\",\"2020-03-19T00:00:00\",\"2020-03-20T00:00:00\",\"2020-03-23T00:00:00\",\"2020-03-24T00:00:00\",\"2020-03-26T00:00:00\",\"2020-03-27T00:00:00\",\"2020-03-30T00:00:00\",\"2020-03-31T00:00:00\",\"2020-04-01T00:00:00\",\"2020-04-02T00:00:00\",\"2020-04-03T00:00:00\",\"2020-04-06T00:00:00\",\"2020-04-07T00:00:00\",\"2020-04-08T00:00:00\",\"2020-04-09T00:00:00\",\"2020-04-13T00:00:00\",\"2020-04-14T00:00:00\",\"2020-04-15T00:00:00\",\"2020-04-16T00:00:00\",\"2020-04-17T00:00:00\",\"2020-04-20T00:00:00\",\"2020-04-21T00:00:00\",\"2020-04-22T00:00:00\",\"2020-04-23T00:00:00\",\"2020-04-24T00:00:00\",\"2020-04-27T00:00:00\",\"2020-04-28T00:00:00\",\"2020-04-29T00:00:00\",\"2020-04-30T00:00:00\",\"2020-05-04T00:00:00\",\"2020-05-05T00:00:00\",\"2020-05-06T00:00:00\",\"2020-05-08T00:00:00\",\"2020-05-11T00:00:00\",\"2020-05-12T00:00:00\",\"2020-05-13T00:00:00\",\"2020-05-14T00:00:00\",\"2020-05-15T00:00:00\",\"2020-05-18T00:00:00\",\"2020-05-19T00:00:00\",\"2020-05-20T00:00:00\",\"2020-05-26T00:00:00\",\"2020-05-27T00:00:00\",\"2020-05-28T00:00:00\",\"2020-05-29T00:00:00\",\"2020-06-02T00:00:00\",\"2020-06-03T00:00:00\",\"2020-06-04T00:00:00\",\"2020-06-05T00:00:00\",\"2020-06-08T00:00:00\",\"2020-06-09T00:00:00\",\"2020-06-10T00:00:00\",\"2020-06-11T00:00:00\",\"2020-06-12T00:00:00\",\"2020-06-15T00:00:00\",\"2020-06-16T00:00:00\",\"2020-06-17T00:00:00\",\"2020-06-18T00:00:00\",\"2020-06-19T00:00:00\",\"2020-06-22T00:00:00\",\"2020-06-23T00:00:00\",\"2020-06-24T00:00:00\",\"2020-06-25T00:00:00\",\"2020-06-26T00:00:00\",\"2020-06-29T00:00:00\",\"2020-06-30T00:00:00\",\"2020-07-01T00:00:00\",\"2020-07-02T00:00:00\",\"2020-07-03T00:00:00\",\"2020-07-06T00:00:00\",\"2020-07-07T00:00:00\",\"2020-07-08T00:00:00\",\"2020-07-09T00:00:00\",\"2020-07-10T00:00:00\",\"2020-07-13T00:00:00\",\"2020-07-14T00:00:00\",\"2020-07-15T00:00:00\",\"2020-07-16T00:00:00\",\"2020-07-17T00:00:00\",\"2020-07-20T00:00:00\",\"2020-07-21T00:00:00\",\"2020-07-22T00:00:00\",\"2020-07-23T00:00:00\",\"2020-07-24T00:00:00\",\"2020-07-27T00:00:00\",\"2020-07-28T00:00:00\",\"2020-07-29T00:00:00\",\"2020-07-30T00:00:00\",\"2020-08-03T00:00:00\",\"2020-08-04T00:00:00\",\"2020-08-05T00:00:00\",\"2020-08-06T00:00:00\",\"2020-08-07T00:00:00\",\"2020-08-10T00:00:00\",\"2020-08-11T00:00:00\",\"2020-08-12T00:00:00\",\"2020-08-13T00:00:00\",\"2020-08-14T00:00:00\",\"2020-08-18T00:00:00\",\"2020-08-19T00:00:00\",\"2020-08-24T00:00:00\",\"2020-08-25T00:00:00\",\"2020-08-26T00:00:00\",\"2020-08-27T00:00:00\",\"2020-08-28T00:00:00\",\"2020-08-31T00:00:00\",\"2020-09-01T00:00:00\",\"2020-09-02T00:00:00\",\"2020-09-03T00:00:00\",\"2020-09-04T00:00:00\",\"2020-09-07T00:00:00\",\"2020-09-08T00:00:00\",\"2020-09-09T00:00:00\",\"2020-09-10T00:00:00\",\"2020-09-11T00:00:00\",\"2020-09-14T00:00:00\",\"2020-09-15T00:00:00\",\"2020-09-16T00:00:00\",\"2020-09-17T00:00:00\",\"2020-09-18T00:00:00\",\"2020-09-21T00:00:00\",\"2020-09-22T00:00:00\",\"2020-09-23T00:00:00\",\"2020-09-24T00:00:00\",\"2020-09-25T00:00:00\",\"2020-09-28T00:00:00\",\"2020-09-29T00:00:00\",\"2020-09-30T00:00:00\",\"2020-10-01T00:00:00\",\"2020-10-02T00:00:00\",\"2020-10-05T00:00:00\",\"2020-10-06T00:00:00\",\"2020-10-07T00:00:00\",\"2020-10-08T00:00:00\",\"2020-10-09T00:00:00\",\"2020-10-12T00:00:00\",\"2020-10-13T00:00:00\",\"2020-10-14T00:00:00\",\"2020-10-15T00:00:00\",\"2020-10-16T00:00:00\",\"2020-10-19T00:00:00\",\"2020-10-20T00:00:00\",\"2020-10-21T00:00:00\",\"2020-10-22T00:00:00\",\"2020-10-23T00:00:00\",\"2020-10-26T00:00:00\",\"2020-10-27T00:00:00\",\"2020-11-02T00:00:00\",\"2020-11-03T00:00:00\",\"2020-11-04T00:00:00\",\"2020-11-05T00:00:00\",\"2020-11-06T00:00:00\",\"2020-11-09T00:00:00\",\"2020-11-10T00:00:00\",\"2020-11-11T00:00:00\",\"2020-11-12T00:00:00\",\"2020-11-13T00:00:00\",\"2020-11-16T00:00:00\",\"2020-11-17T00:00:00\",\"2020-11-18T00:00:00\",\"2020-11-19T00:00:00\",\"2020-11-20T00:00:00\",\"2020-11-23T00:00:00\",\"2020-11-24T00:00:00\",\"2020-11-25T00:00:00\",\"2020-11-26T00:00:00\",\"2020-11-27T00:00:00\",\"2020-11-30T00:00:00\",\"2020-12-01T00:00:00\",\"2020-12-02T00:00:00\",\"2020-12-03T00:00:00\",\"2020-12-04T00:00:00\",\"2020-12-07T00:00:00\",\"2020-12-08T00:00:00\",\"2020-12-10T00:00:00\",\"2020-12-11T00:00:00\",\"2020-12-14T00:00:00\",\"2020-12-15T00:00:00\",\"2020-12-16T00:00:00\",\"2020-12-17T00:00:00\",\"2020-12-18T00:00:00\",\"2020-12-21T00:00:00\",\"2020-12-22T00:00:00\",\"2020-12-23T00:00:00\",\"2020-12-28T00:00:00\",\"2020-12-29T00:00:00\",\"2020-12-30T00:00:00\",\"2021-01-04T00:00:00\",\"2021-01-05T00:00:00\",\"2021-01-06T00:00:00\",\"2021-01-07T00:00:00\",\"2021-01-08T00:00:00\",\"2021-01-11T00:00:00\",\"2021-01-12T00:00:00\",\"2021-01-13T00:00:00\",\"2021-01-14T00:00:00\",\"2021-01-15T00:00:00\",\"2021-01-18T00:00:00\",\"2021-01-19T00:00:00\",\"2021-01-20T00:00:00\",\"2021-01-21T00:00:00\",\"2021-01-22T00:00:00\",\"2021-01-25T00:00:00\",\"2021-01-26T00:00:00\",\"2021-01-27T00:00:00\",\"2021-01-28T00:00:00\",\"2021-01-29T00:00:00\",\"2021-02-01T00:00:00\",\"2021-02-02T00:00:00\",\"2021-02-03T00:00:00\",\"2021-02-04T00:00:00\",\"2021-02-05T00:00:00\",\"2021-02-08T00:00:00\",\"2021-02-09T00:00:00\",\"2021-02-10T00:00:00\",\"2021-02-11T00:00:00\",\"2021-02-15T00:00:00\",\"2021-02-16T00:00:00\",\"2021-02-17T00:00:00\",\"2021-02-18T00:00:00\",\"2021-02-19T00:00:00\",\"2021-02-22T00:00:00\",\"2021-02-23T00:00:00\",\"2021-02-24T00:00:00\",\"2021-02-25T00:00:00\",\"2021-02-26T00:00:00\",\"2021-03-01T00:00:00\",\"2021-03-02T00:00:00\",\"2021-03-03T00:00:00\",\"2021-03-04T00:00:00\",\"2021-03-05T00:00:00\",\"2021-03-08T00:00:00\",\"2021-03-09T00:00:00\",\"2021-03-10T00:00:00\",\"2021-03-12T00:00:00\",\"2021-03-15T00:00:00\",\"2021-03-16T00:00:00\",\"2021-03-17T00:00:00\",\"2021-03-18T00:00:00\",\"2021-03-19T00:00:00\",\"2021-03-22T00:00:00\",\"2021-03-23T00:00:00\",\"2021-03-24T00:00:00\",\"2021-03-25T00:00:00\",\"2021-03-26T00:00:00\",\"2021-03-29T00:00:00\",\"2021-03-30T00:00:00\",\"2021-03-31T00:00:00\",\"2021-04-01T00:00:00\",\"2021-04-05T00:00:00\",\"2021-04-06T00:00:00\",\"2021-04-07T00:00:00\",\"2021-04-08T00:00:00\",\"2021-04-09T00:00:00\",\"2021-04-12T00:00:00\",\"2021-04-13T00:00:00\",\"2021-04-14T00:00:00\",\"2021-04-15T00:00:00\",\"2021-04-16T00:00:00\",\"2021-04-19T00:00:00\",\"2021-04-20T00:00:00\",\"2021-04-21T00:00:00\",\"2021-04-22T00:00:00\",\"2021-04-23T00:00:00\",\"2021-04-26T00:00:00\",\"2021-04-27T00:00:00\",\"2021-04-28T00:00:00\",\"2021-04-29T00:00:00\",\"2021-04-30T00:00:00\",\"2021-05-03T00:00:00\",\"2021-05-04T00:00:00\",\"2021-05-05T00:00:00\",\"2021-05-06T00:00:00\",\"2021-05-07T00:00:00\",\"2021-05-10T00:00:00\",\"2021-05-11T00:00:00\",\"2021-05-17T00:00:00\",\"2021-05-18T00:00:00\",\"2021-05-19T00:00:00\",\"2021-05-20T00:00:00\",\"2021-05-21T00:00:00\",\"2021-05-24T00:00:00\",\"2021-05-25T00:00:00\",\"2021-05-27T00:00:00\",\"2021-05-28T00:00:00\",\"2021-05-31T00:00:00\",\"2021-06-02T00:00:00\",\"2021-06-03T00:00:00\",\"2021-06-04T00:00:00\",\"2021-06-07T00:00:00\",\"2021-06-08T00:00:00\",\"2021-06-09T00:00:00\",\"2021-06-10T00:00:00\",\"2021-06-11T00:00:00\",\"2021-06-14T00:00:00\",\"2021-06-15T00:00:00\",\"2021-06-16T00:00:00\",\"2021-06-17T00:00:00\",\"2021-06-18T00:00:00\",\"2021-06-21T00:00:00\",\"2021-06-22T00:00:00\",\"2021-06-23T00:00:00\",\"2021-06-24T00:00:00\",\"2021-06-25T00:00:00\",\"2021-06-28T00:00:00\",\"2021-06-29T00:00:00\",\"2021-06-30T00:00:00\",\"2021-07-01T00:00:00\",\"2021-07-02T00:00:00\",\"2021-07-05T00:00:00\",\"2021-07-06T00:00:00\",\"2021-07-07T00:00:00\",\"2021-07-08T00:00:00\",\"2021-07-09T00:00:00\",\"2021-07-12T00:00:00\",\"2021-07-13T00:00:00\",\"2021-07-14T00:00:00\",\"2021-07-15T00:00:00\",\"2021-07-16T00:00:00\",\"2021-07-19T00:00:00\",\"2021-07-21T00:00:00\",\"2021-07-22T00:00:00\",\"2021-07-23T00:00:00\",\"2021-07-26T00:00:00\",\"2021-07-27T00:00:00\",\"2021-07-28T00:00:00\",\"2021-07-29T00:00:00\",\"2021-07-30T00:00:00\",\"2021-08-02T00:00:00\",\"2021-08-03T00:00:00\",\"2021-08-04T00:00:00\",\"2021-08-05T00:00:00\",\"2021-08-06T00:00:00\",\"2021-08-09T00:00:00\",\"2021-08-10T00:00:00\",\"2021-08-12T00:00:00\",\"2021-08-13T00:00:00\",\"2021-08-16T00:00:00\",\"2021-08-18T00:00:00\",\"2021-08-19T00:00:00\",\"2021-08-20T00:00:00\",\"2021-08-23T00:00:00\",\"2021-08-24T00:00:00\",\"2021-08-25T00:00:00\",\"2021-08-26T00:00:00\",\"2021-08-27T00:00:00\",\"2021-08-30T00:00:00\",\"2021-08-31T00:00:00\",\"2021-09-01T00:00:00\",\"2021-09-02T00:00:00\",\"2021-09-03T00:00:00\",\"2021-09-06T00:00:00\",\"2021-09-07T00:00:00\",\"2021-09-08T00:00:00\",\"2021-09-09T00:00:00\",\"2021-09-10T00:00:00\",\"2021-09-13T00:00:00\",\"2021-09-14T00:00:00\",\"2021-09-15T00:00:00\",\"2021-09-16T00:00:00\",\"2021-09-17T00:00:00\",\"2021-09-20T00:00:00\",\"2021-09-21T00:00:00\",\"2021-09-22T00:00:00\",\"2021-09-23T00:00:00\",\"2021-09-24T00:00:00\",\"2021-09-27T00:00:00\",\"2021-09-28T00:00:00\",\"2021-09-29T00:00:00\",\"2021-09-30T00:00:00\",\"2021-10-01T00:00:00\",\"2021-10-04T00:00:00\",\"2021-10-05T00:00:00\",\"2021-10-06T00:00:00\",\"2021-10-07T00:00:00\",\"2021-10-08T00:00:00\",\"2021-10-11T00:00:00\",\"2021-10-12T00:00:00\",\"2021-10-13T00:00:00\",\"2021-10-14T00:00:00\",\"2021-10-15T00:00:00\",\"2021-10-18T00:00:00\",\"2021-10-19T00:00:00\",\"2021-10-21T00:00:00\",\"2021-10-22T00:00:00\",\"2021-10-25T00:00:00\",\"2021-10-26T00:00:00\",\"2021-10-27T00:00:00\",\"2021-10-28T00:00:00\",\"2021-10-29T00:00:00\",\"2021-11-01T00:00:00\",\"2021-11-02T00:00:00\",\"2021-11-03T00:00:00\",\"2021-11-04T00:00:00\",\"2021-11-05T00:00:00\",\"2021-11-08T00:00:00\",\"2021-11-09T00:00:00\",\"2021-11-10T00:00:00\",\"2021-11-11T00:00:00\",\"2021-11-12T00:00:00\",\"2021-11-15T00:00:00\",\"2021-11-16T00:00:00\",\"2021-11-17T00:00:00\",\"2021-11-18T00:00:00\",\"2021-11-19T00:00:00\",\"2021-11-22T00:00:00\",\"2021-11-23T00:00:00\",\"2021-11-24T00:00:00\",\"2021-11-25T00:00:00\",\"2021-11-26T00:00:00\",\"2021-11-29T00:00:00\",\"2021-11-30T00:00:00\",\"2021-12-01T00:00:00\",\"2021-12-02T00:00:00\",\"2021-12-03T00:00:00\",\"2021-12-06T00:00:00\",\"2021-12-07T00:00:00\",\"2021-12-08T00:00:00\",\"2021-12-09T00:00:00\",\"2021-12-10T00:00:00\",\"2021-12-13T00:00:00\",\"2021-12-14T00:00:00\",\"2021-12-15T00:00:00\",\"2021-12-16T00:00:00\",\"2021-12-17T00:00:00\",\"2021-12-20T00:00:00\",\"2021-12-21T00:00:00\",\"2021-12-22T00:00:00\",\"2021-12-23T00:00:00\",\"2021-12-24T00:00:00\",\"2021-12-27T00:00:00\",\"2021-12-28T00:00:00\",\"2021-12-29T00:00:00\",\"2021-12-30T00:00:00\",\"2022-01-03T00:00:00\",\"2022-01-04T00:00:00\",\"2022-01-05T00:00:00\",\"2022-01-06T00:00:00\",\"2022-01-07T00:00:00\",\"2022-01-10T00:00:00\",\"2022-01-11T00:00:00\",\"2022-01-12T00:00:00\",\"2022-01-13T00:00:00\",\"2022-01-14T00:00:00\",\"2022-01-17T00:00:00\",\"2022-01-18T00:00:00\",\"2022-01-19T00:00:00\",\"2022-01-20T00:00:00\",\"2022-01-21T00:00:00\",\"2022-01-24T00:00:00\",\"2022-01-25T00:00:00\",\"2022-01-26T00:00:00\",\"2022-01-27T00:00:00\",\"2022-01-28T00:00:00\",\"2022-01-31T00:00:00\",\"2022-02-02T00:00:00\",\"2022-02-03T00:00:00\",\"2022-02-04T00:00:00\",\"2022-02-07T00:00:00\",\"2022-02-08T00:00:00\",\"2022-02-09T00:00:00\",\"2022-02-10T00:00:00\",\"2022-02-11T00:00:00\",\"2022-02-14T00:00:00\",\"2022-02-15T00:00:00\",\"2022-02-16T00:00:00\",\"2022-02-17T00:00:00\",\"2022-02-18T00:00:00\",\"2022-02-21T00:00:00\",\"2022-02-22T00:00:00\",\"2022-02-23T00:00:00\",\"2022-02-24T00:00:00\",\"2022-02-25T00:00:00\",\"2022-03-01T00:00:00\",\"2022-03-02T00:00:00\",\"2022-03-04T00:00:00\",\"2022-03-07T00:00:00\",\"2022-03-08T00:00:00\",\"2022-03-09T00:00:00\",\"2022-03-10T00:00:00\",\"2022-03-11T00:00:00\",\"2022-03-14T00:00:00\",\"2022-03-15T00:00:00\",\"2022-03-16T00:00:00\",\"2022-03-17T00:00:00\",\"2022-03-18T00:00:00\",\"2022-03-21T00:00:00\",\"2022-03-22T00:00:00\",\"2022-03-23T00:00:00\",\"2022-03-24T00:00:00\",\"2022-03-25T00:00:00\",\"2022-03-28T00:00:00\",\"2022-03-29T00:00:00\",\"2022-03-30T00:00:00\",\"2022-03-31T00:00:00\",\"2022-04-01T00:00:00\",\"2022-04-04T00:00:00\",\"2022-04-05T00:00:00\",\"2022-04-06T00:00:00\",\"2022-04-07T00:00:00\",\"2022-04-08T00:00:00\",\"2022-04-11T00:00:00\",\"2022-04-12T00:00:00\",\"2022-04-13T00:00:00\",\"2022-04-14T00:00:00\",\"2022-04-18T00:00:00\",\"2022-04-19T00:00:00\",\"2022-04-20T00:00:00\",\"2022-04-21T00:00:00\",\"2022-04-22T00:00:00\",\"2022-04-25T00:00:00\",\"2022-04-26T00:00:00\",\"2022-04-27T00:00:00\",\"2022-04-28T00:00:00\",\"2022-05-09T00:00:00\",\"2022-05-10T00:00:00\",\"2022-05-11T00:00:00\",\"2022-05-12T00:00:00\",\"2022-05-13T00:00:00\",\"2022-05-17T00:00:00\",\"2022-05-18T00:00:00\",\"2022-05-19T00:00:00\",\"2022-05-20T00:00:00\",\"2022-05-23T00:00:00\",\"2022-05-24T00:00:00\",\"2022-05-25T00:00:00\",\"2022-05-27T00:00:00\",\"2022-05-30T00:00:00\",\"2022-05-31T00:00:00\",\"2022-06-02T00:00:00\",\"2022-06-03T00:00:00\",\"2022-06-06T00:00:00\",\"2022-06-07T00:00:00\",\"2022-06-08T00:00:00\",\"2022-06-09T00:00:00\",\"2022-06-10T00:00:00\",\"2022-06-13T00:00:00\",\"2022-06-14T00:00:00\",\"2022-06-15T00:00:00\",\"2022-06-16T00:00:00\",\"2022-06-17T00:00:00\",\"2022-06-20T00:00:00\",\"2022-06-21T00:00:00\",\"2022-06-22T00:00:00\",\"2022-06-23T00:00:00\",\"2022-06-24T00:00:00\",\"2022-06-27T00:00:00\",\"2022-06-28T00:00:00\",\"2022-06-29T00:00:00\",\"2022-06-30T00:00:00\",\"2022-07-01T00:00:00\",\"2022-07-04T00:00:00\",\"2022-07-05T00:00:00\",\"2022-07-06T00:00:00\",\"2022-07-07T00:00:00\",\"2022-07-08T00:00:00\",\"2022-07-11T00:00:00\",\"2022-07-12T00:00:00\",\"2022-07-13T00:00:00\",\"2022-07-14T00:00:00\",\"2022-07-15T00:00:00\",\"2022-07-18T00:00:00\",\"2022-07-19T00:00:00\",\"2022-07-20T00:00:00\",\"2022-07-21T00:00:00\",\"2022-07-22T00:00:00\",\"2022-07-25T00:00:00\",\"2022-07-26T00:00:00\",\"2022-07-27T00:00:00\",\"2022-07-28T00:00:00\",\"2022-07-29T00:00:00\",\"2022-08-01T00:00:00\",\"2022-08-02T00:00:00\",\"2022-08-03T00:00:00\",\"2022-08-04T00:00:00\",\"2022-08-05T00:00:00\",\"2022-08-08T00:00:00\",\"2022-08-09T00:00:00\"],\"y\":[3750.0,3500.0,3490.0,3400.0,3310.0,3310.0,3160.0,2940.0,2810.0,2620.0,2880.0,2680.0,2620.0,2980.0,3090.0,3140.0,3160.0,3100.0,3130.0,3200.0,3330.0,3220.0,3110.0,3120.0,3180.0,3240.0,3110.0,3000.0,3230.0,3120.0,3070.0,3160.0,3070.0,3090.0,3150.0,3160.0,3350.0,3500.0,3320.0,3320.0,3240.0,3190.0,3220.0,3150.0,3160.0,3070.0,3100.0,3220.0,3270.0,3180.0,3250.0,3170.0,3130.0,3150.0,3250.0,3290.0,3300.0,3230.0,3230.0,3140.0,3110.0,3080.0,3030.0,3090.0,3200.0,3210.0,3280.0,3280.0,3200.0,3130.0,3180.0,3160.0,3190.0,3180.0,3050.0,3040.0,3140.0,3120.0,3050.0,3120.0,3150.0,3110.0,3110.0,3090.0,3080.0,3090.0,3100.0,3060.0,3060.0,3060.0,3070.0,3070.0,3020.0,3040.0,3020.0,3000.0,3050.0,2920.0,2950.0,3020.0,3020.0,2980.0,2970.0,2930.0,2950.0,3010.0,3030.0,3050.0,3000.0,3000.0,2980.0,3020.0,2990.0,2960.0,2860.0,2900.0,2950.0,2900.0,2860.0,2900.0,2860.0,2800.0,2700.0,2810.0,2890.0,2830.0,2790.0,2820.0,2890.0,2810.0,2780.0,2800.0,2730.0,2690.0,2660.0,2630.0,2560.0,2750.0,2680.0,2650.0,2650.0,2660.0,2700.0,2730.0,2730.0,2730.0,2810.0,2780.0,2750.0,2710.0,2670.0,2680.0,2700.0,2630.0,2650.0,2620.0,2560.0,2580.0,2580.0,2770.0,2830.0,2880.0,2860.0,3080.0,3040.0,2990.0,3070.0,3220.0,3180.0,3170.0,3220.0,3320.0,3350.0,3280.0,3470.0,3460.0,3230.0,3240.0,3330.0,3300.0,3250.0,3330.0,3300.0,3260.0,3280.0,3320.0,3450.0,3610.0,3540.0,3510.0,3520.0,3360.0,3320.0,3430.0,3420.0,3310.0,3490.0,3470.0,3370.0,3390.0,3570.0,3600.0,3510.0,3480.0,3500.0,3480.0,3450.0,3410.0,3470.0,3480.0,3390.0,3370.0,3260.0,3380.0,3240.0,3110.0,3230.0,3270.0,3240.0,3290.0,3290.0,3280.0,3200.0,3190.0,3190.0,3220.0,3210.0,3150.0,3180.0,3210.0,3170.0,3470.0,3480.0,3490.0,3490.0,3490.0,3460.0,3440.0,3360.0,3320.0,3340.0,3290.0,3400.0,3450.0,3380.0,3360.0,3390.0,3450.0,3440.0,3380.0,3360.0,3370.0,3410.0,3490.0,3410.0,3380.0,3420.0,3390.0,3380.0,3370.0,3400.0,3390.0,3360.0,3310.0,3330.0,3340.0,3360.0,3360.0,3340.0,3320.0,3280.0,3330.0,3310.0,3250.0,3160.0,3140.0,3200.0,3200.0,3170.0,3210.0,3200.0,3190.0,3190.0,3170.0,3180.0,3190.0,3180.0,3160.0,3310.0,3270.0,3260.0,3300.0,3380.0,3270.0,3440.0,3450.0,3490.0,3500.0,3550.0,3500.0,3390.0,3480.0,3470.0,3410.0,3440.0,3410.0,3350.0,3350.0,3300.0,3300.0,3370.0,3250.0,3250.0,3170.0,3160.0,3150.0,3110.0,3070.0,3040.0,3010.0,3030.0,3010.0,3160.0,3130.0,3070.0,3060.0,3130.0,3170.0,3220.0,3210.0,3260.0,3170.0,3190.0,3270.0,3190.0,3230.0,3240.0,3310.0,3330.0,3370.0,3340.0,3320.0,3250.0,3230.0,3350.0,3300.0,3340.0,3420.0,3390.0,3400.0,3440.0,3400.0,3370.0,3360.0,3320.0,3400.0,3400.0,3340.0,3370.0,3390.0,3390.0,3380.0,3330.0,3390.0,3330.0,3350.0,3440.0,3450.0,3440.0,3530.0,3520.0,3530.0,3590.0,3560.0,3560.0,3520.0,3530.0,3530.0,3690.0,3660.0,3670.0,3670.0,3760.0,3720.0,3800.0,3810.0,3780.0,3770.0,3830.0,3810.0,3790.0,3740.0,3850.0,3870.0,3780.0,3800.0,3790.0,3750.0,3800.0,3700.0,3660.0,3720.0,3770.0,3770.0,3750.0,3710.0,3700.0,3650.0,3600.0,3600.0,3670.0,3630.0,3630.0,3900.0,3800.0,3800.0,3800.0,4000.0,4010.0,4140.0,3990.0,4080.0,4160.0,4070.0,4170.0,4150.0,4090.0,4150.0,4150.0,4080.0,4100.0,4080.0,4100.0,4100.0,4080.0,4160.0,4110.0,4160.0,4110.0,4080.0,4090.0,4080.0,4040.0,4180.0,4170.0,4050.0,4120.0,4170.0,4100.0,4090.0,4110.0,4180.0,4190.0,4180.0,4250.0,4250.0,4220.0,4330.0,4300.0,4290.0,4390.0,4270.0,4260.0,4190.0,4170.0,4200.0,4230.0,4290.0,4230.0,4280.0,4460.0,4450.0,4400.0,4410.0,4400.0,4410.0,4400.0,4370.0,4300.0,4350.0,4240.0,4340.0,4350.0,4290.0,4400.0,4510.0,4620.0,4440.0,4410.0,4590.0,4580.0,4620.0,4630.0,4480.0,4540.0,4550.0,4550.0,4550.0,4560.0,4520.0,4600.0,4560.0,4580.0,4580.0,4580.0,4540.0,4520.0,4430.0,4540.0,4580.0,4590.0,4630.0,4690.0,4680.0,4710.0,4680.0,4630.0,4620.0,4620.0,4710.0,4760.0,4770.0,4620.0,4310.0,4340.0,4330.0,4300.0,4260.0,4180.0,4250.0,4210.0,4170.0,4110.0,4150.0,4200.0,4300.0,4250.0,4310.0,4290.0,4310.0,4340.0,4250.0,4100.0,4050.0,4020.0,4080.0,4110.0,4060.0,4040.0,4120.0,4040.0,4110.0,4050.0,4160.0,4150.0,4070.0,4030.0,4040.0,4000.0,4020.0,3990.0,3990.0,4020.0,4040.0,4010.0,4040.0,4010.0,3940.0,4020.0,4150.0,4190.0,4160.0,4210.0,4260.0,4230.0,4240.0,4250.0,4300.0,4240.0,4230.0,4300.0,4450.0,4500.0,4550.0,4650.0,4700.0,4640.0],\"type\":\"scatter\"}],                        {\"template\":{\"data\":{\"bar\":[{\"error_x\":{\"color\":\"#2a3f5f\"},\"error_y\":{\"color\":\"#2a3f5f\"},\"marker\":{\"line\":{\"color\":\"#E5ECF6\",\"width\":0.5},\"pattern\":{\"fillmode\":\"overlay\",\"size\":10,\"solidity\":0.2}},\"type\":\"bar\"}],\"barpolar\":[{\"marker\":{\"line\":{\"color\":\"#E5ECF6\",\"width\":0.5},\"pattern\":{\"fillmode\":\"overlay\",\"size\":10,\"solidity\":0.2}},\"type\":\"barpolar\"}],\"carpet\":[{\"aaxis\":{\"endlinecolor\":\"#2a3f5f\",\"gridcolor\":\"white\",\"linecolor\":\"white\",\"minorgridcolor\":\"white\",\"startlinecolor\":\"#2a3f5f\"},\"baxis\":{\"endlinecolor\":\"#2a3f5f\",\"gridcolor\":\"white\",\"linecolor\":\"white\",\"minorgridcolor\":\"white\",\"startlinecolor\":\"#2a3f5f\"},\"type\":\"carpet\"}],\"choropleth\":[{\"colorbar\":{\"outlinewidth\":0,\"ticks\":\"\"},\"type\":\"choropleth\"}],\"contour\":[{\"colorbar\":{\"outlinewidth\":0,\"ticks\":\"\"},\"colorscale\":[[0.0,\"#0d0887\"],[0.1111111111111111,\"#46039f\"],[0.2222222222222222,\"#7201a8\"],[0.3333333333333333,\"#9c179e\"],[0.4444444444444444,\"#bd3786\"],[0.5555555555555556,\"#d8576b\"],[0.6666666666666666,\"#ed7953\"],[0.7777777777777778,\"#fb9f3a\"],[0.8888888888888888,\"#fdca26\"],[1.0,\"#f0f921\"]],\"type\":\"contour\"}],\"contourcarpet\":[{\"colorbar\":{\"outlinewidth\":0,\"ticks\":\"\"},\"type\":\"contourcarpet\"}],\"heatmap\":[{\"colorbar\":{\"outlinewidth\":0,\"ticks\":\"\"},\"colorscale\":[[0.0,\"#0d0887\"],[0.1111111111111111,\"#46039f\"],[0.2222222222222222,\"#7201a8\"],[0.3333333333333333,\"#9c179e\"],[0.4444444444444444,\"#bd3786\"],[0.5555555555555556,\"#d8576b\"],[0.6666666666666666,\"#ed7953\"],[0.7777777777777778,\"#fb9f3a\"],[0.8888888888888888,\"#fdca26\"],[1.0,\"#f0f921\"]],\"type\":\"heatmap\"}],\"heatmapgl\":[{\"colorbar\":{\"outlinewidth\":0,\"ticks\":\"\"},\"colorscale\":[[0.0,\"#0d0887\"],[0.1111111111111111,\"#46039f\"],[0.2222222222222222,\"#7201a8\"],[0.3333333333333333,\"#9c179e\"],[0.4444444444444444,\"#bd3786\"],[0.5555555555555556,\"#d8576b\"],[0.6666666666666666,\"#ed7953\"],[0.7777777777777778,\"#fb9f3a\"],[0.8888888888888888,\"#fdca26\"],[1.0,\"#f0f921\"]],\"type\":\"heatmapgl\"}],\"histogram\":[{\"marker\":{\"pattern\":{\"fillmode\":\"overlay\",\"size\":10,\"solidity\":0.2}},\"type\":\"histogram\"}],\"histogram2d\":[{\"colorbar\":{\"outlinewidth\":0,\"ticks\":\"\"},\"colorscale\":[[0.0,\"#0d0887\"],[0.1111111111111111,\"#46039f\"],[0.2222222222222222,\"#7201a8\"],[0.3333333333333333,\"#9c179e\"],[0.4444444444444444,\"#bd3786\"],[0.5555555555555556,\"#d8576b\"],[0.6666666666666666,\"#ed7953\"],[0.7777777777777778,\"#fb9f3a\"],[0.8888888888888888,\"#fdca26\"],[1.0,\"#f0f921\"]],\"type\":\"histogram2d\"}],\"histogram2dcontour\":[{\"colorbar\":{\"outlinewidth\":0,\"ticks\":\"\"},\"colorscale\":[[0.0,\"#0d0887\"],[0.1111111111111111,\"#46039f\"],[0.2222222222222222,\"#7201a8\"],[0.3333333333333333,\"#9c179e\"],[0.4444444444444444,\"#bd3786\"],[0.5555555555555556,\"#d8576b\"],[0.6666666666666666,\"#ed7953\"],[0.7777777777777778,\"#fb9f3a\"],[0.8888888888888888,\"#fdca26\"],[1.0,\"#f0f921\"]],\"type\":\"histogram2dcontour\"}],\"mesh3d\":[{\"colorbar\":{\"outlinewidth\":0,\"ticks\":\"\"},\"type\":\"mesh3d\"}],\"parcoords\":[{\"line\":{\"colorbar\":{\"outlinewidth\":0,\"ticks\":\"\"}},\"type\":\"parcoords\"}],\"pie\":[{\"automargin\":true,\"type\":\"pie\"}],\"scatter\":[{\"marker\":{\"colorbar\":{\"outlinewidth\":0,\"ticks\":\"\"}},\"type\":\"scatter\"}],\"scatter3d\":[{\"line\":{\"colorbar\":{\"outlinewidth\":0,\"ticks\":\"\"}},\"marker\":{\"colorbar\":{\"outlinewidth\":0,\"ticks\":\"\"}},\"type\":\"scatter3d\"}],\"scattercarpet\":[{\"marker\":{\"colorbar\":{\"outlinewidth\":0,\"ticks\":\"\"}},\"type\":\"scattercarpet\"}],\"scattergeo\":[{\"marker\":{\"colorbar\":{\"outlinewidth\":0,\"ticks\":\"\"}},\"type\":\"scattergeo\"}],\"scattergl\":[{\"marker\":{\"colorbar\":{\"outlinewidth\":0,\"ticks\":\"\"}},\"type\":\"scattergl\"}],\"scattermapbox\":[{\"marker\":{\"colorbar\":{\"outlinewidth\":0,\"ticks\":\"\"}},\"type\":\"scattermapbox\"}],\"scatterpolar\":[{\"marker\":{\"colorbar\":{\"outlinewidth\":0,\"ticks\":\"\"}},\"type\":\"scatterpolar\"}],\"scatterpolargl\":[{\"marker\":{\"colorbar\":{\"outlinewidth\":0,\"ticks\":\"\"}},\"type\":\"scatterpolargl\"}],\"scatterternary\":[{\"marker\":{\"colorbar\":{\"outlinewidth\":0,\"ticks\":\"\"}},\"type\":\"scatterternary\"}],\"surface\":[{\"colorbar\":{\"outlinewidth\":0,\"ticks\":\"\"},\"colorscale\":[[0.0,\"#0d0887\"],[0.1111111111111111,\"#46039f\"],[0.2222222222222222,\"#7201a8\"],[0.3333333333333333,\"#9c179e\"],[0.4444444444444444,\"#bd3786\"],[0.5555555555555556,\"#d8576b\"],[0.6666666666666666,\"#ed7953\"],[0.7777777777777778,\"#fb9f3a\"],[0.8888888888888888,\"#fdca26\"],[1.0,\"#f0f921\"]],\"type\":\"surface\"}],\"table\":[{\"cells\":{\"fill\":{\"color\":\"#EBF0F8\"},\"line\":{\"color\":\"white\"}},\"header\":{\"fill\":{\"color\":\"#C8D4E3\"},\"line\":{\"color\":\"white\"}},\"type\":\"table\"}]},\"layout\":{\"annotationdefaults\":{\"arrowcolor\":\"#2a3f5f\",\"arrowhead\":0,\"arrowwidth\":1},\"autotypenumbers\":\"strict\",\"coloraxis\":{\"colorbar\":{\"outlinewidth\":0,\"ticks\":\"\"}},\"colorscale\":{\"diverging\":[[0,\"#8e0152\"],[0.1,\"#c51b7d\"],[0.2,\"#de77ae\"],[0.3,\"#f1b6da\"],[0.4,\"#fde0ef\"],[0.5,\"#f7f7f7\"],[0.6,\"#e6f5d0\"],[0.7,\"#b8e186\"],[0.8,\"#7fbc41\"],[0.9,\"#4d9221\"],[1,\"#276419\"]],\"sequential\":[[0.0,\"#0d0887\"],[0.1111111111111111,\"#46039f\"],[0.2222222222222222,\"#7201a8\"],[0.3333333333333333,\"#9c179e\"],[0.4444444444444444,\"#bd3786\"],[0.5555555555555556,\"#d8576b\"],[0.6666666666666666,\"#ed7953\"],[0.7777777777777778,\"#fb9f3a\"],[0.8888888888888888,\"#fdca26\"],[1.0,\"#f0f921\"]],\"sequentialminus\":[[0.0,\"#0d0887\"],[0.1111111111111111,\"#46039f\"],[0.2222222222222222,\"#7201a8\"],[0.3333333333333333,\"#9c179e\"],[0.4444444444444444,\"#bd3786\"],[0.5555555555555556,\"#d8576b\"],[0.6666666666666666,\"#ed7953\"],[0.7777777777777778,\"#fb9f3a\"],[0.8888888888888888,\"#fdca26\"],[1.0,\"#f0f921\"]]},\"colorway\":[\"#636efa\",\"#EF553B\",\"#00cc96\",\"#ab63fa\",\"#FFA15A\",\"#19d3f3\",\"#FF6692\",\"#B6E880\",\"#FF97FF\",\"#FECB52\"],\"font\":{\"color\":\"#2a3f5f\"},\"geo\":{\"bgcolor\":\"white\",\"lakecolor\":\"white\",\"landcolor\":\"#E5ECF6\",\"showlakes\":true,\"showland\":true,\"subunitcolor\":\"white\"},\"hoverlabel\":{\"align\":\"left\"},\"hovermode\":\"closest\",\"mapbox\":{\"style\":\"light\"},\"paper_bgcolor\":\"white\",\"plot_bgcolor\":\"#E5ECF6\",\"polar\":{\"angularaxis\":{\"gridcolor\":\"white\",\"linecolor\":\"white\",\"ticks\":\"\"},\"bgcolor\":\"#E5ECF6\",\"radialaxis\":{\"gridcolor\":\"white\",\"linecolor\":\"white\",\"ticks\":\"\"}},\"scene\":{\"xaxis\":{\"backgroundcolor\":\"#E5ECF6\",\"gridcolor\":\"white\",\"gridwidth\":2,\"linecolor\":\"white\",\"showbackground\":true,\"ticks\":\"\",\"zerolinecolor\":\"white\"},\"yaxis\":{\"backgroundcolor\":\"#E5ECF6\",\"gridcolor\":\"white\",\"gridwidth\":2,\"linecolor\":\"white\",\"showbackground\":true,\"ticks\":\"\",\"zerolinecolor\":\"white\"},\"zaxis\":{\"backgroundcolor\":\"#E5ECF6\",\"gridcolor\":\"white\",\"gridwidth\":2,\"linecolor\":\"white\",\"showbackground\":true,\"ticks\":\"\",\"zerolinecolor\":\"white\"}},\"shapedefaults\":{\"line\":{\"color\":\"#2a3f5f\"}},\"ternary\":{\"aaxis\":{\"gridcolor\":\"white\",\"linecolor\":\"white\",\"ticks\":\"\"},\"baxis\":{\"gridcolor\":\"white\",\"linecolor\":\"white\",\"ticks\":\"\"},\"bgcolor\":\"#E5ECF6\",\"caxis\":{\"gridcolor\":\"white\",\"linecolor\":\"white\",\"ticks\":\"\"}},\"title\":{\"x\":0.05},\"xaxis\":{\"automargin\":true,\"gridcolor\":\"white\",\"linecolor\":\"white\",\"ticks\":\"\",\"title\":{\"standoff\":15},\"zerolinecolor\":\"white\",\"zerolinewidth\":2},\"yaxis\":{\"automargin\":true,\"gridcolor\":\"white\",\"linecolor\":\"white\",\"ticks\":\"\",\"title\":{\"standoff\":15},\"zerolinecolor\":\"white\",\"zerolinewidth\":2}}},\"margin\":{\"l\":50,\"r\":50,\"b\":100,\"t\":100,\"pad\":4},\"title\":{\"text\":\"Stocks\"},\"xaxis\":{\"title\":{\"text\":\"Time\"}},\"yaxis\":{\"title\":{\"text\":\"Value\"}},\"autosize\":false,\"width\":600,\"height\":600,\"paper_bgcolor\":\"LightSteelBlue\",\"showlegend\":false},                        {\"responsive\": true}                    ).then(function(){\n",
              "                            \n",
              "var gd = document.getElementById('5dc303a0-37b8-4d1c-9b5f-c0ecd679763f');\n",
              "var x = new MutationObserver(function (mutations, observer) {{\n",
              "        var display = window.getComputedStyle(gd).display;\n",
              "        if (!display || display === 'none') {{\n",
              "            console.log([gd, 'removed!']);\n",
              "            Plotly.purge(gd);\n",
              "            observer.disconnect();\n",
              "        }}\n",
              "}});\n",
              "\n",
              "// Listen for the removal of the full notebook cells\n",
              "var notebookContainer = gd.closest('#notebook-container');\n",
              "if (notebookContainer) {{\n",
              "    x.observe(notebookContainer, {childList: true});\n",
              "}}\n",
              "\n",
              "// Listen for the clearing of the current output cell\n",
              "var outputEl = gd.closest('.output');\n",
              "if (outputEl) {{\n",
              "    x.observe(outputEl, {childList: true});\n",
              "}}\n",
              "\n",
              "                        })                };                            </script>        </div>\n",
              "</body>\n",
              "</html>"
            ]
          },
          "metadata": {}
        }
      ]
    },
    {
      "cell_type": "code",
      "source": [
        "np.expand_dims(training_set, axis=1).shape"
      ],
      "metadata": {
        "colab": {
          "base_uri": "https://localhost:8080/"
        },
        "id": "jt6OFK1bbEYS",
        "outputId": "f758d23b-ec0c-4060-92ec-ad8566cf24e0"
      },
      "execution_count": 52,
      "outputs": [
        {
          "output_type": "execute_result",
          "data": {
            "text/plain": [
              "(587, 1)"
            ]
          },
          "metadata": {},
          "execution_count": 52
        }
      ]
    },
    {
      "cell_type": "code",
      "source": [
        "minmax_scaler = MinMaxScaler(feature_range=(-1, 1))\n",
        "\n",
        "training_set_normalized = minmax_scaler.fit_transform(np.expand_dims(training_set, axis=1))"
      ],
      "metadata": {
        "id": "uxK48qdoa8SG"
      },
      "execution_count": 53,
      "outputs": []
    },
    {
      "cell_type": "code",
      "source": [
        "plot_series_plotly(df_training['Date'], training_set_normalized[:,0],\n",
        "                   series_name='Close', figure_title='Data Normalized')"
      ],
      "metadata": {
        "colab": {
          "base_uri": "https://localhost:8080/",
          "height": 617
        },
        "id": "HIQg78l7bRX-",
        "outputId": "30c9ff85-29de-47ff-85e1-e33c606d7ea5"
      },
      "execution_count": 54,
      "outputs": [
        {
          "output_type": "display_data",
          "data": {
            "text/html": [
              "<html>\n",
              "<head><meta charset=\"utf-8\" /></head>\n",
              "<body>\n",
              "    <div>            <script src=\"https://cdnjs.cloudflare.com/ajax/libs/mathjax/2.7.5/MathJax.js?config=TeX-AMS-MML_SVG\"></script><script type=\"text/javascript\">if (window.MathJax) {MathJax.Hub.Config({SVG: {font: \"STIX-Web\"}});}</script>                <script type=\"text/javascript\">window.PlotlyConfig = {MathJaxConfig: 'local'};</script>\n",
              "        <script src=\"https://cdn.plot.ly/plotly-2.8.3.min.js\"></script>                <div id=\"848dea21-d771-482c-9cb9-066bb68415d5\" class=\"plotly-graph-div\" style=\"height:600px; width:600px;\"></div>            <script type=\"text/javascript\">                                    window.PLOTLYENV=window.PLOTLYENV || {};                                    if (document.getElementById(\"848dea21-d771-482c-9cb9-066bb68415d5\")) {                    Plotly.newPlot(                        \"848dea21-d771-482c-9cb9-066bb68415d5\",                        [{\"mode\":\"lines\",\"x\":[\"2020-03-06T00:00:00\",\"2020-03-09T00:00:00\",\"2020-03-10T00:00:00\",\"2020-03-11T00:00:00\",\"2020-03-12T00:00:00\",\"2020-03-13T00:00:00\",\"2020-03-16T00:00:00\",\"2020-03-17T00:00:00\",\"2020-03-18T00:00:00\",\"2020-03-19T00:00:00\",\"2020-03-20T00:00:00\",\"2020-03-23T00:00:00\",\"2020-03-24T00:00:00\",\"2020-03-26T00:00:00\",\"2020-03-27T00:00:00\",\"2020-03-30T00:00:00\",\"2020-03-31T00:00:00\",\"2020-04-01T00:00:00\",\"2020-04-02T00:00:00\",\"2020-04-03T00:00:00\",\"2020-04-06T00:00:00\",\"2020-04-07T00:00:00\",\"2020-04-08T00:00:00\",\"2020-04-09T00:00:00\",\"2020-04-13T00:00:00\",\"2020-04-14T00:00:00\",\"2020-04-15T00:00:00\",\"2020-04-16T00:00:00\",\"2020-04-17T00:00:00\",\"2020-04-20T00:00:00\",\"2020-04-21T00:00:00\",\"2020-04-22T00:00:00\",\"2020-04-23T00:00:00\",\"2020-04-24T00:00:00\",\"2020-04-27T00:00:00\",\"2020-04-28T00:00:00\",\"2020-04-29T00:00:00\",\"2020-04-30T00:00:00\",\"2020-05-04T00:00:00\",\"2020-05-05T00:00:00\",\"2020-05-06T00:00:00\",\"2020-05-08T00:00:00\",\"2020-05-11T00:00:00\",\"2020-05-12T00:00:00\",\"2020-05-13T00:00:00\",\"2020-05-14T00:00:00\",\"2020-05-15T00:00:00\",\"2020-05-18T00:00:00\",\"2020-05-19T00:00:00\",\"2020-05-20T00:00:00\",\"2020-05-26T00:00:00\",\"2020-05-27T00:00:00\",\"2020-05-28T00:00:00\",\"2020-05-29T00:00:00\",\"2020-06-02T00:00:00\",\"2020-06-03T00:00:00\",\"2020-06-04T00:00:00\",\"2020-06-05T00:00:00\",\"2020-06-08T00:00:00\",\"2020-06-09T00:00:00\",\"2020-06-10T00:00:00\",\"2020-06-11T00:00:00\",\"2020-06-12T00:00:00\",\"2020-06-15T00:00:00\",\"2020-06-16T00:00:00\",\"2020-06-17T00:00:00\",\"2020-06-18T00:00:00\",\"2020-06-19T00:00:00\",\"2020-06-22T00:00:00\",\"2020-06-23T00:00:00\",\"2020-06-24T00:00:00\",\"2020-06-25T00:00:00\",\"2020-06-26T00:00:00\",\"2020-06-29T00:00:00\",\"2020-06-30T00:00:00\",\"2020-07-01T00:00:00\",\"2020-07-02T00:00:00\",\"2020-07-03T00:00:00\",\"2020-07-06T00:00:00\",\"2020-07-07T00:00:00\",\"2020-07-08T00:00:00\",\"2020-07-09T00:00:00\",\"2020-07-10T00:00:00\",\"2020-07-13T00:00:00\",\"2020-07-14T00:00:00\",\"2020-07-15T00:00:00\",\"2020-07-16T00:00:00\",\"2020-07-17T00:00:00\",\"2020-07-20T00:00:00\",\"2020-07-21T00:00:00\",\"2020-07-22T00:00:00\",\"2020-07-23T00:00:00\",\"2020-07-24T00:00:00\",\"2020-07-27T00:00:00\",\"2020-07-28T00:00:00\",\"2020-07-29T00:00:00\",\"2020-07-30T00:00:00\",\"2020-08-03T00:00:00\",\"2020-08-04T00:00:00\",\"2020-08-05T00:00:00\",\"2020-08-06T00:00:00\",\"2020-08-07T00:00:00\",\"2020-08-10T00:00:00\",\"2020-08-11T00:00:00\",\"2020-08-12T00:00:00\",\"2020-08-13T00:00:00\",\"2020-08-14T00:00:00\",\"2020-08-18T00:00:00\",\"2020-08-19T00:00:00\",\"2020-08-24T00:00:00\",\"2020-08-25T00:00:00\",\"2020-08-26T00:00:00\",\"2020-08-27T00:00:00\",\"2020-08-28T00:00:00\",\"2020-08-31T00:00:00\",\"2020-09-01T00:00:00\",\"2020-09-02T00:00:00\",\"2020-09-03T00:00:00\",\"2020-09-04T00:00:00\",\"2020-09-07T00:00:00\",\"2020-09-08T00:00:00\",\"2020-09-09T00:00:00\",\"2020-09-10T00:00:00\",\"2020-09-11T00:00:00\",\"2020-09-14T00:00:00\",\"2020-09-15T00:00:00\",\"2020-09-16T00:00:00\",\"2020-09-17T00:00:00\",\"2020-09-18T00:00:00\",\"2020-09-21T00:00:00\",\"2020-09-22T00:00:00\",\"2020-09-23T00:00:00\",\"2020-09-24T00:00:00\",\"2020-09-25T00:00:00\",\"2020-09-28T00:00:00\",\"2020-09-29T00:00:00\",\"2020-09-30T00:00:00\",\"2020-10-01T00:00:00\",\"2020-10-02T00:00:00\",\"2020-10-05T00:00:00\",\"2020-10-06T00:00:00\",\"2020-10-07T00:00:00\",\"2020-10-08T00:00:00\",\"2020-10-09T00:00:00\",\"2020-10-12T00:00:00\",\"2020-10-13T00:00:00\",\"2020-10-14T00:00:00\",\"2020-10-15T00:00:00\",\"2020-10-16T00:00:00\",\"2020-10-19T00:00:00\",\"2020-10-20T00:00:00\",\"2020-10-21T00:00:00\",\"2020-10-22T00:00:00\",\"2020-10-23T00:00:00\",\"2020-10-26T00:00:00\",\"2020-10-27T00:00:00\",\"2020-11-02T00:00:00\",\"2020-11-03T00:00:00\",\"2020-11-04T00:00:00\",\"2020-11-05T00:00:00\",\"2020-11-06T00:00:00\",\"2020-11-09T00:00:00\",\"2020-11-10T00:00:00\",\"2020-11-11T00:00:00\",\"2020-11-12T00:00:00\",\"2020-11-13T00:00:00\",\"2020-11-16T00:00:00\",\"2020-11-17T00:00:00\",\"2020-11-18T00:00:00\",\"2020-11-19T00:00:00\",\"2020-11-20T00:00:00\",\"2020-11-23T00:00:00\",\"2020-11-24T00:00:00\",\"2020-11-25T00:00:00\",\"2020-11-26T00:00:00\",\"2020-11-27T00:00:00\",\"2020-11-30T00:00:00\",\"2020-12-01T00:00:00\",\"2020-12-02T00:00:00\",\"2020-12-03T00:00:00\",\"2020-12-04T00:00:00\",\"2020-12-07T00:00:00\",\"2020-12-08T00:00:00\",\"2020-12-10T00:00:00\",\"2020-12-11T00:00:00\",\"2020-12-14T00:00:00\",\"2020-12-15T00:00:00\",\"2020-12-16T00:00:00\",\"2020-12-17T00:00:00\",\"2020-12-18T00:00:00\",\"2020-12-21T00:00:00\",\"2020-12-22T00:00:00\",\"2020-12-23T00:00:00\",\"2020-12-28T00:00:00\",\"2020-12-29T00:00:00\",\"2020-12-30T00:00:00\",\"2021-01-04T00:00:00\",\"2021-01-05T00:00:00\",\"2021-01-06T00:00:00\",\"2021-01-07T00:00:00\",\"2021-01-08T00:00:00\",\"2021-01-11T00:00:00\",\"2021-01-12T00:00:00\",\"2021-01-13T00:00:00\",\"2021-01-14T00:00:00\",\"2021-01-15T00:00:00\",\"2021-01-18T00:00:00\",\"2021-01-19T00:00:00\",\"2021-01-20T00:00:00\",\"2021-01-21T00:00:00\",\"2021-01-22T00:00:00\",\"2021-01-25T00:00:00\",\"2021-01-26T00:00:00\",\"2021-01-27T00:00:00\",\"2021-01-28T00:00:00\",\"2021-01-29T00:00:00\",\"2021-02-01T00:00:00\",\"2021-02-02T00:00:00\",\"2021-02-03T00:00:00\",\"2021-02-04T00:00:00\",\"2021-02-05T00:00:00\",\"2021-02-08T00:00:00\",\"2021-02-09T00:00:00\",\"2021-02-10T00:00:00\",\"2021-02-11T00:00:00\",\"2021-02-15T00:00:00\",\"2021-02-16T00:00:00\",\"2021-02-17T00:00:00\",\"2021-02-18T00:00:00\",\"2021-02-19T00:00:00\",\"2021-02-22T00:00:00\",\"2021-02-23T00:00:00\",\"2021-02-24T00:00:00\",\"2021-02-25T00:00:00\",\"2021-02-26T00:00:00\",\"2021-03-01T00:00:00\",\"2021-03-02T00:00:00\",\"2021-03-03T00:00:00\",\"2021-03-04T00:00:00\",\"2021-03-05T00:00:00\",\"2021-03-08T00:00:00\",\"2021-03-09T00:00:00\",\"2021-03-10T00:00:00\",\"2021-03-12T00:00:00\",\"2021-03-15T00:00:00\",\"2021-03-16T00:00:00\",\"2021-03-17T00:00:00\",\"2021-03-18T00:00:00\",\"2021-03-19T00:00:00\",\"2021-03-22T00:00:00\",\"2021-03-23T00:00:00\",\"2021-03-24T00:00:00\",\"2021-03-25T00:00:00\",\"2021-03-26T00:00:00\",\"2021-03-29T00:00:00\",\"2021-03-30T00:00:00\",\"2021-03-31T00:00:00\",\"2021-04-01T00:00:00\",\"2021-04-05T00:00:00\",\"2021-04-06T00:00:00\",\"2021-04-07T00:00:00\",\"2021-04-08T00:00:00\",\"2021-04-09T00:00:00\",\"2021-04-12T00:00:00\",\"2021-04-13T00:00:00\",\"2021-04-14T00:00:00\",\"2021-04-15T00:00:00\",\"2021-04-16T00:00:00\",\"2021-04-19T00:00:00\",\"2021-04-20T00:00:00\",\"2021-04-21T00:00:00\",\"2021-04-22T00:00:00\",\"2021-04-23T00:00:00\",\"2021-04-26T00:00:00\",\"2021-04-27T00:00:00\",\"2021-04-28T00:00:00\",\"2021-04-29T00:00:00\",\"2021-04-30T00:00:00\",\"2021-05-03T00:00:00\",\"2021-05-04T00:00:00\",\"2021-05-05T00:00:00\",\"2021-05-06T00:00:00\",\"2021-05-07T00:00:00\",\"2021-05-10T00:00:00\",\"2021-05-11T00:00:00\",\"2021-05-17T00:00:00\",\"2021-05-18T00:00:00\",\"2021-05-19T00:00:00\",\"2021-05-20T00:00:00\",\"2021-05-21T00:00:00\",\"2021-05-24T00:00:00\",\"2021-05-25T00:00:00\",\"2021-05-27T00:00:00\",\"2021-05-28T00:00:00\",\"2021-05-31T00:00:00\",\"2021-06-02T00:00:00\",\"2021-06-03T00:00:00\",\"2021-06-04T00:00:00\",\"2021-06-07T00:00:00\",\"2021-06-08T00:00:00\",\"2021-06-09T00:00:00\",\"2021-06-10T00:00:00\",\"2021-06-11T00:00:00\",\"2021-06-14T00:00:00\",\"2021-06-15T00:00:00\",\"2021-06-16T00:00:00\",\"2021-06-17T00:00:00\",\"2021-06-18T00:00:00\",\"2021-06-21T00:00:00\",\"2021-06-22T00:00:00\",\"2021-06-23T00:00:00\",\"2021-06-24T00:00:00\",\"2021-06-25T00:00:00\",\"2021-06-28T00:00:00\",\"2021-06-29T00:00:00\",\"2021-06-30T00:00:00\",\"2021-07-01T00:00:00\",\"2021-07-02T00:00:00\",\"2021-07-05T00:00:00\",\"2021-07-06T00:00:00\",\"2021-07-07T00:00:00\",\"2021-07-08T00:00:00\",\"2021-07-09T00:00:00\",\"2021-07-12T00:00:00\",\"2021-07-13T00:00:00\",\"2021-07-14T00:00:00\",\"2021-07-15T00:00:00\",\"2021-07-16T00:00:00\",\"2021-07-19T00:00:00\",\"2021-07-21T00:00:00\",\"2021-07-22T00:00:00\",\"2021-07-23T00:00:00\",\"2021-07-26T00:00:00\",\"2021-07-27T00:00:00\",\"2021-07-28T00:00:00\",\"2021-07-29T00:00:00\",\"2021-07-30T00:00:00\",\"2021-08-02T00:00:00\",\"2021-08-03T00:00:00\",\"2021-08-04T00:00:00\",\"2021-08-05T00:00:00\",\"2021-08-06T00:00:00\",\"2021-08-09T00:00:00\",\"2021-08-10T00:00:00\",\"2021-08-12T00:00:00\",\"2021-08-13T00:00:00\",\"2021-08-16T00:00:00\",\"2021-08-18T00:00:00\",\"2021-08-19T00:00:00\",\"2021-08-20T00:00:00\",\"2021-08-23T00:00:00\",\"2021-08-24T00:00:00\",\"2021-08-25T00:00:00\",\"2021-08-26T00:00:00\",\"2021-08-27T00:00:00\",\"2021-08-30T00:00:00\",\"2021-08-31T00:00:00\",\"2021-09-01T00:00:00\",\"2021-09-02T00:00:00\",\"2021-09-03T00:00:00\",\"2021-09-06T00:00:00\",\"2021-09-07T00:00:00\",\"2021-09-08T00:00:00\",\"2021-09-09T00:00:00\",\"2021-09-10T00:00:00\",\"2021-09-13T00:00:00\",\"2021-09-14T00:00:00\",\"2021-09-15T00:00:00\",\"2021-09-16T00:00:00\",\"2021-09-17T00:00:00\",\"2021-09-20T00:00:00\",\"2021-09-21T00:00:00\",\"2021-09-22T00:00:00\",\"2021-09-23T00:00:00\",\"2021-09-24T00:00:00\",\"2021-09-27T00:00:00\",\"2021-09-28T00:00:00\",\"2021-09-29T00:00:00\",\"2021-09-30T00:00:00\",\"2021-10-01T00:00:00\",\"2021-10-04T00:00:00\",\"2021-10-05T00:00:00\",\"2021-10-06T00:00:00\",\"2021-10-07T00:00:00\",\"2021-10-08T00:00:00\",\"2021-10-11T00:00:00\",\"2021-10-12T00:00:00\",\"2021-10-13T00:00:00\",\"2021-10-14T00:00:00\",\"2021-10-15T00:00:00\",\"2021-10-18T00:00:00\",\"2021-10-19T00:00:00\",\"2021-10-21T00:00:00\",\"2021-10-22T00:00:00\",\"2021-10-25T00:00:00\",\"2021-10-26T00:00:00\",\"2021-10-27T00:00:00\",\"2021-10-28T00:00:00\",\"2021-10-29T00:00:00\",\"2021-11-01T00:00:00\",\"2021-11-02T00:00:00\",\"2021-11-03T00:00:00\",\"2021-11-04T00:00:00\",\"2021-11-05T00:00:00\",\"2021-11-08T00:00:00\",\"2021-11-09T00:00:00\",\"2021-11-10T00:00:00\",\"2021-11-11T00:00:00\",\"2021-11-12T00:00:00\",\"2021-11-15T00:00:00\",\"2021-11-16T00:00:00\",\"2021-11-17T00:00:00\",\"2021-11-18T00:00:00\",\"2021-11-19T00:00:00\",\"2021-11-22T00:00:00\",\"2021-11-23T00:00:00\",\"2021-11-24T00:00:00\",\"2021-11-25T00:00:00\",\"2021-11-26T00:00:00\",\"2021-11-29T00:00:00\",\"2021-11-30T00:00:00\",\"2021-12-01T00:00:00\",\"2021-12-02T00:00:00\",\"2021-12-03T00:00:00\",\"2021-12-06T00:00:00\",\"2021-12-07T00:00:00\",\"2021-12-08T00:00:00\",\"2021-12-09T00:00:00\",\"2021-12-10T00:00:00\",\"2021-12-13T00:00:00\",\"2021-12-14T00:00:00\",\"2021-12-15T00:00:00\",\"2021-12-16T00:00:00\",\"2021-12-17T00:00:00\",\"2021-12-20T00:00:00\",\"2021-12-21T00:00:00\",\"2021-12-22T00:00:00\",\"2021-12-23T00:00:00\",\"2021-12-24T00:00:00\",\"2021-12-27T00:00:00\",\"2021-12-28T00:00:00\",\"2021-12-29T00:00:00\",\"2021-12-30T00:00:00\",\"2022-01-03T00:00:00\",\"2022-01-04T00:00:00\",\"2022-01-05T00:00:00\",\"2022-01-06T00:00:00\",\"2022-01-07T00:00:00\",\"2022-01-10T00:00:00\",\"2022-01-11T00:00:00\",\"2022-01-12T00:00:00\",\"2022-01-13T00:00:00\",\"2022-01-14T00:00:00\",\"2022-01-17T00:00:00\",\"2022-01-18T00:00:00\",\"2022-01-19T00:00:00\",\"2022-01-20T00:00:00\",\"2022-01-21T00:00:00\",\"2022-01-24T00:00:00\",\"2022-01-25T00:00:00\",\"2022-01-26T00:00:00\",\"2022-01-27T00:00:00\",\"2022-01-28T00:00:00\",\"2022-01-31T00:00:00\",\"2022-02-02T00:00:00\",\"2022-02-03T00:00:00\",\"2022-02-04T00:00:00\",\"2022-02-07T00:00:00\",\"2022-02-08T00:00:00\",\"2022-02-09T00:00:00\",\"2022-02-10T00:00:00\",\"2022-02-11T00:00:00\",\"2022-02-14T00:00:00\",\"2022-02-15T00:00:00\",\"2022-02-16T00:00:00\",\"2022-02-17T00:00:00\",\"2022-02-18T00:00:00\",\"2022-02-21T00:00:00\",\"2022-02-22T00:00:00\",\"2022-02-23T00:00:00\",\"2022-02-24T00:00:00\",\"2022-02-25T00:00:00\",\"2022-03-01T00:00:00\",\"2022-03-02T00:00:00\",\"2022-03-04T00:00:00\",\"2022-03-07T00:00:00\",\"2022-03-08T00:00:00\",\"2022-03-09T00:00:00\",\"2022-03-10T00:00:00\",\"2022-03-11T00:00:00\",\"2022-03-14T00:00:00\",\"2022-03-15T00:00:00\",\"2022-03-16T00:00:00\",\"2022-03-17T00:00:00\",\"2022-03-18T00:00:00\",\"2022-03-21T00:00:00\",\"2022-03-22T00:00:00\",\"2022-03-23T00:00:00\",\"2022-03-24T00:00:00\",\"2022-03-25T00:00:00\",\"2022-03-28T00:00:00\",\"2022-03-29T00:00:00\",\"2022-03-30T00:00:00\",\"2022-03-31T00:00:00\",\"2022-04-01T00:00:00\",\"2022-04-04T00:00:00\",\"2022-04-05T00:00:00\",\"2022-04-06T00:00:00\",\"2022-04-07T00:00:00\",\"2022-04-08T00:00:00\",\"2022-04-11T00:00:00\",\"2022-04-12T00:00:00\",\"2022-04-13T00:00:00\",\"2022-04-14T00:00:00\",\"2022-04-18T00:00:00\",\"2022-04-19T00:00:00\",\"2022-04-20T00:00:00\",\"2022-04-21T00:00:00\",\"2022-04-22T00:00:00\",\"2022-04-25T00:00:00\",\"2022-04-26T00:00:00\",\"2022-04-27T00:00:00\",\"2022-04-28T00:00:00\",\"2022-05-09T00:00:00\",\"2022-05-10T00:00:00\",\"2022-05-11T00:00:00\",\"2022-05-12T00:00:00\",\"2022-05-13T00:00:00\",\"2022-05-17T00:00:00\",\"2022-05-18T00:00:00\",\"2022-05-19T00:00:00\",\"2022-05-20T00:00:00\",\"2022-05-23T00:00:00\",\"2022-05-24T00:00:00\",\"2022-05-25T00:00:00\",\"2022-05-27T00:00:00\",\"2022-05-30T00:00:00\",\"2022-05-31T00:00:00\",\"2022-06-02T00:00:00\",\"2022-06-03T00:00:00\",\"2022-06-06T00:00:00\",\"2022-06-07T00:00:00\",\"2022-06-08T00:00:00\",\"2022-06-09T00:00:00\",\"2022-06-10T00:00:00\",\"2022-06-13T00:00:00\",\"2022-06-14T00:00:00\",\"2022-06-15T00:00:00\",\"2022-06-16T00:00:00\",\"2022-06-17T00:00:00\",\"2022-06-20T00:00:00\",\"2022-06-21T00:00:00\",\"2022-06-22T00:00:00\",\"2022-06-23T00:00:00\",\"2022-06-24T00:00:00\",\"2022-06-27T00:00:00\",\"2022-06-28T00:00:00\",\"2022-06-29T00:00:00\",\"2022-06-30T00:00:00\",\"2022-07-01T00:00:00\",\"2022-07-04T00:00:00\",\"2022-07-05T00:00:00\",\"2022-07-06T00:00:00\",\"2022-07-07T00:00:00\",\"2022-07-08T00:00:00\",\"2022-07-11T00:00:00\",\"2022-07-12T00:00:00\",\"2022-07-13T00:00:00\",\"2022-07-14T00:00:00\",\"2022-07-15T00:00:00\",\"2022-07-18T00:00:00\",\"2022-07-19T00:00:00\",\"2022-07-20T00:00:00\",\"2022-07-21T00:00:00\",\"2022-07-22T00:00:00\",\"2022-07-25T00:00:00\",\"2022-07-26T00:00:00\",\"2022-07-27T00:00:00\",\"2022-07-28T00:00:00\",\"2022-07-29T00:00:00\",\"2022-08-01T00:00:00\",\"2022-08-02T00:00:00\",\"2022-08-03T00:00:00\",\"2022-08-04T00:00:00\",\"2022-08-05T00:00:00\",\"2022-08-08T00:00:00\",\"2022-08-09T00:00:00\"],\"y\":[0.07692307692307665,-0.1493212669683257,-0.15837104072398178,-0.23981900452488691,-0.32126696832579205,-0.32126696832579205,-0.45701357466063364,-0.6561085972850678,-0.7737556561085972,-0.9457013574660635,-0.7104072398190047,-0.8914027149321266,-0.9457013574660635,-0.6199095022624435,-0.5203619909502262,-0.4751131221719458,-0.45701357466063364,-0.5113122171945701,-0.48416289592760187,-0.42081447963800933,-0.3031674208144799,-0.40271493212669673,-0.502262443438914,-0.49321266968325794,-0.4389140271493215,-0.3846153846153846,-0.502262443438914,-0.6018099547511313,-0.39366515837104066,-0.49321266968325794,-0.5384615384615388,-0.45701357466063364,-0.5384615384615388,-0.5203619909502262,-0.4660633484162897,-0.45701357466063364,-0.2850678733031673,-0.1493212669683257,-0.31221719457013597,-0.31221719457013597,-0.3846153846153846,-0.4298642533936654,-0.40271493212669673,-0.4660633484162897,-0.45701357466063364,-0.5384615384615388,-0.5113122171945701,-0.40271493212669673,-0.35746606334841635,-0.4389140271493215,-0.3755656108597285,-0.44796380090497756,-0.48416289592760187,-0.4660633484162897,-0.3755656108597285,-0.3393665158371042,-0.3303167420814481,-0.39366515837104066,-0.39366515837104066,-0.4751131221719458,-0.502262443438914,-0.5294117647058822,-0.5746606334841631,-0.5203619909502262,-0.42081447963800933,-0.4117647058823528,-0.3484162895927603,-0.3484162895927603,-0.42081447963800933,-0.48416289592760187,-0.4389140271493215,-0.45701357466063364,-0.4298642533936654,-0.4389140271493215,-0.5565610859728509,-0.565610859728507,-0.4751131221719458,-0.49321266968325794,-0.5565610859728509,-0.49321266968325794,-0.4660633484162897,-0.502262443438914,-0.502262443438914,-0.5203619909502262,-0.5294117647058822,-0.5203619909502262,-0.5113122171945701,-0.5475113122171948,-0.5475113122171948,-0.5475113122171948,-0.5384615384615388,-0.5384615384615388,-0.5837104072398192,-0.565610859728507,-0.5837104072398192,-0.6018099547511313,-0.5565610859728509,-0.6742081447963804,-0.6470588235294117,-0.5837104072398192,-0.5837104072398192,-0.6199095022624435,-0.6289592760180995,-0.6651583710407243,-0.6470588235294117,-0.5927601809954752,-0.5746606334841631,-0.5565610859728509,-0.6018099547511313,-0.6018099547511313,-0.6199095022624435,-0.5837104072398192,-0.6108597285067874,-0.6380090497737556,-0.7285067873303168,-0.6923076923076925,-0.6470588235294117,-0.6923076923076925,-0.7285067873303168,-0.6923076923076925,-0.7285067873303168,-0.7828054298642533,-0.8733031674208145,-0.7737556561085972,-0.7013574660633486,-0.755656108597285,-0.7918552036199098,-0.7647058823529411,-0.7013574660633486,-0.7737556561085972,-0.8009049773755659,-0.7828054298642533,-0.8461538461538463,-0.8823529411764706,-0.9095022624434392,-0.9366515837104075,-1.0,-0.8280542986425341,-0.8914027149321266,-0.9185520361990953,-0.9185520361990953,-0.9095022624434392,-0.8733031674208145,-0.8461538461538463,-0.8461538461538463,-0.8461538461538463,-0.7737556561085972,-0.8009049773755659,-0.8280542986425341,-0.8642533936651584,-0.9004524886877827,-0.8914027149321266,-0.8733031674208145,-0.9366515837104075,-0.9185520361990953,-0.9457013574660635,-1.0,-0.9819004524886878,-0.9819004524886878,-0.809954751131222,-0.755656108597285,-0.7104072398190047,-0.7285067873303168,-0.5294117647058822,-0.565610859728507,-0.6108597285067874,-0.5384615384615388,-0.40271493212669673,-0.4389140271493215,-0.44796380090497756,-0.40271493212669673,-0.31221719457013597,-0.2850678733031673,-0.3484162895927603,-0.17647058823529438,-0.18552036199095046,-0.39366515837104066,-0.3846153846153846,-0.3031674208144799,-0.3303167420814481,-0.3755656108597285,-0.3031674208144799,-0.3303167420814481,-0.36651583710407243,-0.3484162895927603,-0.31221719457013597,-0.19457013574660653,-0.049773755656108865,-0.1131221719457014,-0.14027149321266963,-0.13122171945701355,-0.2760180995475112,-0.31221719457013597,-0.21266968325791868,-0.22171945701357476,-0.32126696832579205,-0.15837104072398178,-0.17647058823529438,-0.26696832579185514,-0.248868778280543,-0.08597285067873317,-0.05882352941176494,-0.14027149321266963,-0.1674208144796383,-0.1493212669683257,-0.1674208144796383,-0.19457013574660653,-0.23076923076923084,-0.17647058823529438,-0.1674208144796383,-0.248868778280543,-0.26696832579185514,-0.36651583710407243,-0.25791855203619907,-0.3846153846153846,-0.502262443438914,-0.39366515837104066,-0.35746606334841635,-0.3846153846153846,-0.3393665158371042,-0.3393665158371042,-0.3484162895927603,-0.42081447963800933,-0.4298642533936654,-0.4298642533936654,-0.40271493212669673,-0.4117647058823528,-0.4660633484162897,-0.4389140271493215,-0.4117647058823528,-0.44796380090497756,-0.17647058823529438,-0.1674208144796383,-0.15837104072398178,-0.15837104072398178,-0.15837104072398178,-0.18552036199095046,-0.2036199095022626,-0.2760180995475112,-0.31221719457013597,-0.2941176470588238,-0.3393665158371042,-0.23981900452488691,-0.19457013574660653,-0.25791855203619907,-0.2760180995475112,-0.248868778280543,-0.19457013574660653,-0.2036199095022626,-0.25791855203619907,-0.2760180995475112,-0.26696832579185514,-0.23076923076923084,-0.15837104072398178,-0.23076923076923084,-0.25791855203619907,-0.22171945701357476,-0.248868778280543,-0.25791855203619907,-0.26696832579185514,-0.23981900452488691,-0.248868778280543,-0.2760180995475112,-0.32126696832579205,-0.3031674208144799,-0.2941176470588238,-0.2760180995475112,-0.2760180995475112,-0.2941176470588238,-0.31221719457013597,-0.3484162895927603,-0.3031674208144799,-0.32126696832579205,-0.3755656108597285,-0.45701357466063364,-0.4751131221719458,-0.42081447963800933,-0.42081447963800933,-0.44796380090497756,-0.4117647058823528,-0.42081447963800933,-0.4298642533936654,-0.4298642533936654,-0.44796380090497756,-0.4389140271493215,-0.4298642533936654,-0.4389140271493215,-0.45701357466063364,-0.32126696832579205,-0.35746606334841635,-0.36651583710407243,-0.3303167420814481,-0.25791855203619907,-0.35746606334841635,-0.2036199095022626,-0.19457013574660653,-0.15837104072398178,-0.1493212669683257,-0.10407239819004532,-0.1493212669683257,-0.248868778280543,-0.1674208144796383,-0.17647058823529438,-0.23076923076923084,-0.2036199095022626,-0.23076923076923084,-0.2850678733031673,-0.2850678733031673,-0.3303167420814481,-0.3303167420814481,-0.26696832579185514,-0.3755656108597285,-0.3755656108597285,-0.44796380090497756,-0.45701357466063364,-0.4660633484162897,-0.502262443438914,-0.5384615384615388,-0.565610859728507,-0.5927601809954752,-0.5746606334841631,-0.5927601809954752,-0.45701357466063364,-0.48416289592760187,-0.5384615384615388,-0.5475113122171948,-0.48416289592760187,-0.44796380090497756,-0.40271493212669673,-0.4117647058823528,-0.36651583710407243,-0.44796380090497756,-0.4298642533936654,-0.35746606334841635,-0.4298642533936654,-0.39366515837104066,-0.3846153846153846,-0.32126696832579205,-0.3031674208144799,-0.26696832579185514,-0.2941176470588238,-0.31221719457013597,-0.3755656108597285,-0.39366515837104066,-0.2850678733031673,-0.3303167420814481,-0.2941176470588238,-0.22171945701357476,-0.248868778280543,-0.23981900452488691,-0.2036199095022626,-0.23981900452488691,-0.26696832579185514,-0.2760180995475112,-0.31221719457013597,-0.23981900452488691,-0.23981900452488691,-0.2941176470588238,-0.26696832579185514,-0.248868778280543,-0.248868778280543,-0.25791855203619907,-0.3031674208144799,-0.248868778280543,-0.3031674208144799,-0.2850678733031673,-0.2036199095022626,-0.19457013574660653,-0.2036199095022626,-0.12217194570135748,-0.13122171945701355,-0.12217194570135748,-0.06787330316742102,-0.09502262443438925,-0.09502262443438925,-0.13122171945701355,-0.12217194570135748,-0.12217194570135748,0.02262443438914019,-0.004524886877828038,0.004524886877828038,0.004524886877828038,0.08597285067873317,0.04977375565610842,0.12217194570135748,0.13122171945701355,0.10407239819004532,0.09502262443438925,0.1493212669683257,0.13122171945701355,0.1131221719457014,0.06787330316742057,0.16742081447963786,0.18552036199095,0.10407239819004532,0.12217194570135748,0.1131221719457014,0.07692307692307665,0.12217194570135748,0.03167420814479627,-0.004524886877828038,0.04977375565610842,0.09502262443438925,0.09502262443438925,0.07692307692307665,0.040723981900452344,0.03167420814479627,-0.013574660633484115,-0.05882352941176494,-0.05882352941176494,0.004524886877828038,-0.03167420814479627,-0.03167420814479627,0.21266968325791868,0.12217194570135748,0.12217194570135748,0.12217194570135748,0.30316742081447945,0.3122171945701355,0.42986425339366496,0.2941176470588234,0.3755656108597285,0.4479638009049771,0.36651583710407243,0.45701357466063364,0.43891402714932104,0.3846153846153846,0.43891402714932104,0.43891402714932104,0.3755656108597285,0.39366515837104066,0.3755656108597285,0.39366515837104066,0.39366515837104066,0.3755656108597285,0.4479638009049771,0.40271493212669673,0.4479638009049771,0.40271493212669673,0.3755656108597285,0.3846153846153846,0.3755656108597285,0.3393665158371042,0.4660633484162897,0.45701357466063364,0.3484162895927603,0.4117647058823528,0.45701357466063364,0.39366515837104066,0.3846153846153846,0.40271493212669673,0.4660633484162897,0.4751131221719458,0.4660633484162897,0.5294117647058822,0.5294117647058822,0.502262443438914,0.6018099547511313,0.5746606334841626,0.5656108597285066,0.6561085972850678,0.5475113122171944,0.5384615384615383,0.4751131221719458,0.45701357466063364,0.48416289592760187,0.5113122171945701,0.5656108597285066,0.5113122171945701,0.5565610859728505,0.7194570135746603,0.7104072398190042,0.6651583710407238,0.6742081447963799,0.6651583710407238,0.6742081447963799,0.6651583710407238,0.6380090497737556,0.5746606334841626,0.6199095022624435,0.5203619909502262,0.6108597285067874,0.6199095022624435,0.5656108597285066,0.6651583710407238,0.7647058823529416,0.8642533936651584,0.7013574660633481,0.6742081447963799,0.8371040723981902,0.8280542986425341,0.8642533936651584,0.8733031674208145,0.7375565610859725,0.7918552036199098,0.8009049773755659,0.8009049773755659,0.8009049773755659,0.809954751131222,0.7737556561085976,0.8461538461538463,0.809954751131222,0.8280542986425341,0.8280542986425341,0.8280542986425341,0.7918552036199098,0.7737556561085976,0.6923076923076921,0.7918552036199098,0.8280542986425341,0.8371040723981902,0.8733031674208145,0.9276018099547509,0.9185520361990949,0.9457013574660631,0.9185520361990949,0.8733031674208145,0.8642533936651584,0.8642533936651584,0.9457013574660631,0.9909502262443435,0.9999999999999996,0.8642533936651584,0.5837104072398192,0.6108597285067874,0.6018099547511313,0.5746606334841626,0.5384615384615383,0.4660633484162897,0.5294117647058822,0.49321266968325794,0.45701357466063364,0.40271493212669673,0.43891402714932104,0.48416289592760187,0.5746606334841626,0.5294117647058822,0.5837104072398192,0.5656108597285066,0.5837104072398192,0.6108597285067874,0.5294117647058822,0.39366515837104066,0.3484162895927603,0.3212669683257916,0.3755656108597285,0.40271493212669673,0.35746606334841635,0.3393665158371042,0.4117647058823528,0.3393665158371042,0.40271493212669673,0.3484162895927603,0.4479638009049771,0.43891402714932104,0.36651583710407243,0.3303167420814481,0.3393665158371042,0.30316742081447945,0.3212669683257916,0.2941176470588234,0.2941176470588234,0.3212669683257916,0.3393665158371042,0.3122171945701355,0.3393665158371042,0.3122171945701355,0.248868778280543,0.3212669683257916,0.43891402714932104,0.4751131221719458,0.4479638009049771,0.49321266968325794,0.5384615384615383,0.5113122171945701,0.5203619909502262,0.5294117647058822,0.5746606334841626,0.5203619909502262,0.5113122171945701,0.5746606334841626,0.7104072398190042,0.7556561085972846,0.8009049773755659,0.8914027149321266,0.936651583710407,0.8823529411764706],\"type\":\"scatter\"}],                        {\"template\":{\"data\":{\"bar\":[{\"error_x\":{\"color\":\"#2a3f5f\"},\"error_y\":{\"color\":\"#2a3f5f\"},\"marker\":{\"line\":{\"color\":\"#E5ECF6\",\"width\":0.5},\"pattern\":{\"fillmode\":\"overlay\",\"size\":10,\"solidity\":0.2}},\"type\":\"bar\"}],\"barpolar\":[{\"marker\":{\"line\":{\"color\":\"#E5ECF6\",\"width\":0.5},\"pattern\":{\"fillmode\":\"overlay\",\"size\":10,\"solidity\":0.2}},\"type\":\"barpolar\"}],\"carpet\":[{\"aaxis\":{\"endlinecolor\":\"#2a3f5f\",\"gridcolor\":\"white\",\"linecolor\":\"white\",\"minorgridcolor\":\"white\",\"startlinecolor\":\"#2a3f5f\"},\"baxis\":{\"endlinecolor\":\"#2a3f5f\",\"gridcolor\":\"white\",\"linecolor\":\"white\",\"minorgridcolor\":\"white\",\"startlinecolor\":\"#2a3f5f\"},\"type\":\"carpet\"}],\"choropleth\":[{\"colorbar\":{\"outlinewidth\":0,\"ticks\":\"\"},\"type\":\"choropleth\"}],\"contour\":[{\"colorbar\":{\"outlinewidth\":0,\"ticks\":\"\"},\"colorscale\":[[0.0,\"#0d0887\"],[0.1111111111111111,\"#46039f\"],[0.2222222222222222,\"#7201a8\"],[0.3333333333333333,\"#9c179e\"],[0.4444444444444444,\"#bd3786\"],[0.5555555555555556,\"#d8576b\"],[0.6666666666666666,\"#ed7953\"],[0.7777777777777778,\"#fb9f3a\"],[0.8888888888888888,\"#fdca26\"],[1.0,\"#f0f921\"]],\"type\":\"contour\"}],\"contourcarpet\":[{\"colorbar\":{\"outlinewidth\":0,\"ticks\":\"\"},\"type\":\"contourcarpet\"}],\"heatmap\":[{\"colorbar\":{\"outlinewidth\":0,\"ticks\":\"\"},\"colorscale\":[[0.0,\"#0d0887\"],[0.1111111111111111,\"#46039f\"],[0.2222222222222222,\"#7201a8\"],[0.3333333333333333,\"#9c179e\"],[0.4444444444444444,\"#bd3786\"],[0.5555555555555556,\"#d8576b\"],[0.6666666666666666,\"#ed7953\"],[0.7777777777777778,\"#fb9f3a\"],[0.8888888888888888,\"#fdca26\"],[1.0,\"#f0f921\"]],\"type\":\"heatmap\"}],\"heatmapgl\":[{\"colorbar\":{\"outlinewidth\":0,\"ticks\":\"\"},\"colorscale\":[[0.0,\"#0d0887\"],[0.1111111111111111,\"#46039f\"],[0.2222222222222222,\"#7201a8\"],[0.3333333333333333,\"#9c179e\"],[0.4444444444444444,\"#bd3786\"],[0.5555555555555556,\"#d8576b\"],[0.6666666666666666,\"#ed7953\"],[0.7777777777777778,\"#fb9f3a\"],[0.8888888888888888,\"#fdca26\"],[1.0,\"#f0f921\"]],\"type\":\"heatmapgl\"}],\"histogram\":[{\"marker\":{\"pattern\":{\"fillmode\":\"overlay\",\"size\":10,\"solidity\":0.2}},\"type\":\"histogram\"}],\"histogram2d\":[{\"colorbar\":{\"outlinewidth\":0,\"ticks\":\"\"},\"colorscale\":[[0.0,\"#0d0887\"],[0.1111111111111111,\"#46039f\"],[0.2222222222222222,\"#7201a8\"],[0.3333333333333333,\"#9c179e\"],[0.4444444444444444,\"#bd3786\"],[0.5555555555555556,\"#d8576b\"],[0.6666666666666666,\"#ed7953\"],[0.7777777777777778,\"#fb9f3a\"],[0.8888888888888888,\"#fdca26\"],[1.0,\"#f0f921\"]],\"type\":\"histogram2d\"}],\"histogram2dcontour\":[{\"colorbar\":{\"outlinewidth\":0,\"ticks\":\"\"},\"colorscale\":[[0.0,\"#0d0887\"],[0.1111111111111111,\"#46039f\"],[0.2222222222222222,\"#7201a8\"],[0.3333333333333333,\"#9c179e\"],[0.4444444444444444,\"#bd3786\"],[0.5555555555555556,\"#d8576b\"],[0.6666666666666666,\"#ed7953\"],[0.7777777777777778,\"#fb9f3a\"],[0.8888888888888888,\"#fdca26\"],[1.0,\"#f0f921\"]],\"type\":\"histogram2dcontour\"}],\"mesh3d\":[{\"colorbar\":{\"outlinewidth\":0,\"ticks\":\"\"},\"type\":\"mesh3d\"}],\"parcoords\":[{\"line\":{\"colorbar\":{\"outlinewidth\":0,\"ticks\":\"\"}},\"type\":\"parcoords\"}],\"pie\":[{\"automargin\":true,\"type\":\"pie\"}],\"scatter\":[{\"marker\":{\"colorbar\":{\"outlinewidth\":0,\"ticks\":\"\"}},\"type\":\"scatter\"}],\"scatter3d\":[{\"line\":{\"colorbar\":{\"outlinewidth\":0,\"ticks\":\"\"}},\"marker\":{\"colorbar\":{\"outlinewidth\":0,\"ticks\":\"\"}},\"type\":\"scatter3d\"}],\"scattercarpet\":[{\"marker\":{\"colorbar\":{\"outlinewidth\":0,\"ticks\":\"\"}},\"type\":\"scattercarpet\"}],\"scattergeo\":[{\"marker\":{\"colorbar\":{\"outlinewidth\":0,\"ticks\":\"\"}},\"type\":\"scattergeo\"}],\"scattergl\":[{\"marker\":{\"colorbar\":{\"outlinewidth\":0,\"ticks\":\"\"}},\"type\":\"scattergl\"}],\"scattermapbox\":[{\"marker\":{\"colorbar\":{\"outlinewidth\":0,\"ticks\":\"\"}},\"type\":\"scattermapbox\"}],\"scatterpolar\":[{\"marker\":{\"colorbar\":{\"outlinewidth\":0,\"ticks\":\"\"}},\"type\":\"scatterpolar\"}],\"scatterpolargl\":[{\"marker\":{\"colorbar\":{\"outlinewidth\":0,\"ticks\":\"\"}},\"type\":\"scatterpolargl\"}],\"scatterternary\":[{\"marker\":{\"colorbar\":{\"outlinewidth\":0,\"ticks\":\"\"}},\"type\":\"scatterternary\"}],\"surface\":[{\"colorbar\":{\"outlinewidth\":0,\"ticks\":\"\"},\"colorscale\":[[0.0,\"#0d0887\"],[0.1111111111111111,\"#46039f\"],[0.2222222222222222,\"#7201a8\"],[0.3333333333333333,\"#9c179e\"],[0.4444444444444444,\"#bd3786\"],[0.5555555555555556,\"#d8576b\"],[0.6666666666666666,\"#ed7953\"],[0.7777777777777778,\"#fb9f3a\"],[0.8888888888888888,\"#fdca26\"],[1.0,\"#f0f921\"]],\"type\":\"surface\"}],\"table\":[{\"cells\":{\"fill\":{\"color\":\"#EBF0F8\"},\"line\":{\"color\":\"white\"}},\"header\":{\"fill\":{\"color\":\"#C8D4E3\"},\"line\":{\"color\":\"white\"}},\"type\":\"table\"}]},\"layout\":{\"annotationdefaults\":{\"arrowcolor\":\"#2a3f5f\",\"arrowhead\":0,\"arrowwidth\":1},\"autotypenumbers\":\"strict\",\"coloraxis\":{\"colorbar\":{\"outlinewidth\":0,\"ticks\":\"\"}},\"colorscale\":{\"diverging\":[[0,\"#8e0152\"],[0.1,\"#c51b7d\"],[0.2,\"#de77ae\"],[0.3,\"#f1b6da\"],[0.4,\"#fde0ef\"],[0.5,\"#f7f7f7\"],[0.6,\"#e6f5d0\"],[0.7,\"#b8e186\"],[0.8,\"#7fbc41\"],[0.9,\"#4d9221\"],[1,\"#276419\"]],\"sequential\":[[0.0,\"#0d0887\"],[0.1111111111111111,\"#46039f\"],[0.2222222222222222,\"#7201a8\"],[0.3333333333333333,\"#9c179e\"],[0.4444444444444444,\"#bd3786\"],[0.5555555555555556,\"#d8576b\"],[0.6666666666666666,\"#ed7953\"],[0.7777777777777778,\"#fb9f3a\"],[0.8888888888888888,\"#fdca26\"],[1.0,\"#f0f921\"]],\"sequentialminus\":[[0.0,\"#0d0887\"],[0.1111111111111111,\"#46039f\"],[0.2222222222222222,\"#7201a8\"],[0.3333333333333333,\"#9c179e\"],[0.4444444444444444,\"#bd3786\"],[0.5555555555555556,\"#d8576b\"],[0.6666666666666666,\"#ed7953\"],[0.7777777777777778,\"#fb9f3a\"],[0.8888888888888888,\"#fdca26\"],[1.0,\"#f0f921\"]]},\"colorway\":[\"#636efa\",\"#EF553B\",\"#00cc96\",\"#ab63fa\",\"#FFA15A\",\"#19d3f3\",\"#FF6692\",\"#B6E880\",\"#FF97FF\",\"#FECB52\"],\"font\":{\"color\":\"#2a3f5f\"},\"geo\":{\"bgcolor\":\"white\",\"lakecolor\":\"white\",\"landcolor\":\"#E5ECF6\",\"showlakes\":true,\"showland\":true,\"subunitcolor\":\"white\"},\"hoverlabel\":{\"align\":\"left\"},\"hovermode\":\"closest\",\"mapbox\":{\"style\":\"light\"},\"paper_bgcolor\":\"white\",\"plot_bgcolor\":\"#E5ECF6\",\"polar\":{\"angularaxis\":{\"gridcolor\":\"white\",\"linecolor\":\"white\",\"ticks\":\"\"},\"bgcolor\":\"#E5ECF6\",\"radialaxis\":{\"gridcolor\":\"white\",\"linecolor\":\"white\",\"ticks\":\"\"}},\"scene\":{\"xaxis\":{\"backgroundcolor\":\"#E5ECF6\",\"gridcolor\":\"white\",\"gridwidth\":2,\"linecolor\":\"white\",\"showbackground\":true,\"ticks\":\"\",\"zerolinecolor\":\"white\"},\"yaxis\":{\"backgroundcolor\":\"#E5ECF6\",\"gridcolor\":\"white\",\"gridwidth\":2,\"linecolor\":\"white\",\"showbackground\":true,\"ticks\":\"\",\"zerolinecolor\":\"white\"},\"zaxis\":{\"backgroundcolor\":\"#E5ECF6\",\"gridcolor\":\"white\",\"gridwidth\":2,\"linecolor\":\"white\",\"showbackground\":true,\"ticks\":\"\",\"zerolinecolor\":\"white\"}},\"shapedefaults\":{\"line\":{\"color\":\"#2a3f5f\"}},\"ternary\":{\"aaxis\":{\"gridcolor\":\"white\",\"linecolor\":\"white\",\"ticks\":\"\"},\"baxis\":{\"gridcolor\":\"white\",\"linecolor\":\"white\",\"ticks\":\"\"},\"bgcolor\":\"#E5ECF6\",\"caxis\":{\"gridcolor\":\"white\",\"linecolor\":\"white\",\"ticks\":\"\"}},\"title\":{\"x\":0.05},\"xaxis\":{\"automargin\":true,\"gridcolor\":\"white\",\"linecolor\":\"white\",\"ticks\":\"\",\"title\":{\"standoff\":15},\"zerolinecolor\":\"white\",\"zerolinewidth\":2},\"yaxis\":{\"automargin\":true,\"gridcolor\":\"white\",\"linecolor\":\"white\",\"ticks\":\"\",\"title\":{\"standoff\":15},\"zerolinecolor\":\"white\",\"zerolinewidth\":2}}},\"margin\":{\"l\":50,\"r\":50,\"b\":100,\"t\":100,\"pad\":4},\"title\":{\"text\":\"Data Normalized\"},\"xaxis\":{\"title\":{\"text\":\"Time\"}},\"yaxis\":{\"title\":{\"text\":\"Value\"}},\"autosize\":false,\"width\":600,\"height\":600,\"paper_bgcolor\":\"LightSteelBlue\",\"showlegend\":false},                        {\"responsive\": true}                    ).then(function(){\n",
              "                            \n",
              "var gd = document.getElementById('848dea21-d771-482c-9cb9-066bb68415d5');\n",
              "var x = new MutationObserver(function (mutations, observer) {{\n",
              "        var display = window.getComputedStyle(gd).display;\n",
              "        if (!display || display === 'none') {{\n",
              "            console.log([gd, 'removed!']);\n",
              "            Plotly.purge(gd);\n",
              "            observer.disconnect();\n",
              "        }}\n",
              "}});\n",
              "\n",
              "// Listen for the removal of the full notebook cells\n",
              "var notebookContainer = gd.closest('#notebook-container');\n",
              "if (notebookContainer) {{\n",
              "    x.observe(notebookContainer, {childList: true});\n",
              "}}\n",
              "\n",
              "// Listen for the clearing of the current output cell\n",
              "var outputEl = gd.closest('.output');\n",
              "if (outputEl) {{\n",
              "    x.observe(outputEl, {childList: true});\n",
              "}}\n",
              "\n",
              "                        })                };                            </script>        </div>\n",
              "</body>\n",
              "</html>"
            ]
          },
          "metadata": {}
        }
      ]
    },
    {
      "cell_type": "markdown",
      "source": [
        "## Prepare features and labels (windowed data)"
      ],
      "metadata": {
        "id": "l5N8ksnRbcxF"
      }
    },
    {
      "cell_type": "code",
      "source": [
        "window_size = 20\n",
        "batch_size = 32\n",
        "shuffle_buffer_size = 1000\n",
        "     \n",
        "## CONSTANT\n",
        "MU = 0.000001\n",
        "NANO = 1e-9"
      ],
      "metadata": {
        "id": "_aM0H_KdbbEI"
      },
      "execution_count": 58,
      "outputs": []
    },
    {
      "cell_type": "code",
      "source": [
        "# Generate the dataset windows\n",
        "windowed_training_ds = windowed_dataset(training_set_normalized, window_size, \n",
        "                           batch_size, shuffle_buffer_size)"
      ],
      "metadata": {
        "id": "MNl6SrAncGeM"
      },
      "execution_count": 59,
      "outputs": []
    },
    {
      "cell_type": "code",
      "source": [
        "# Print properties of a single batch\n",
        "for windows in windowed_training_ds.take(1):\n",
        "  print(f'data type: {type(windows)}')\n",
        "  print(f'number of elements in the tuple: {len(windows)}')\n",
        "  print(f'shape of first element: {windows[0].shape}')\n",
        "  print(f'shape of second element: {windows[1].shape}')\n",
        "  print(f'shape of first element expanded: {tf.expand_dims(windows[0], axis=-1).shape}')"
      ],
      "metadata": {
        "colab": {
          "base_uri": "https://localhost:8080/"
        },
        "id": "spigkaRhcRnj",
        "outputId": "c095e427-2325-4c94-efae-0c659ae0c72f"
      },
      "execution_count": 60,
      "outputs": [
        {
          "output_type": "stream",
          "name": "stdout",
          "text": [
            "data type: <class 'tuple'>\n",
            "number of elements in the tuple: 2\n",
            "shape of first element: (32, 20, 1)\n",
            "shape of second element: (32, 1)\n",
            "shape of first element expanded: (32, 20, 1, 1)\n"
          ]
        }
      ]
    },
    {
      "cell_type": "markdown",
      "source": [
        "Since we use `MinMaxScaler` the shape of the input element already has the shape of `(batch_size, window_size, feature_size)` so we won't need flatten layer in fron of lstm layer"
      ],
      "metadata": {
        "id": "-wSbhts4cby5"
      }
    },
    {
      "cell_type": "markdown",
      "source": [
        "## Build and compile the model\n",
        "\n",
        "Here is the model architecture you will be using. It is very similar to the last RNN you built but with the [Conv1D](https://www.tensorflow.org/api_docs/python/tf/keras/layers/Conv1D) layer at the input. One important [argument](https://www.tensorflow.org/api_docs/python/tf/keras/layers/Conv1D#args) here is the `padding`. For time series data, it is good practice to not let computations for a particular time step to be affected by values into the future. Here is one way of looking at it:\n",
        "\n",
        "* Let's say you have a small time series window with these values: `[1, 2, 3, 4, 5]`. This means the value `1` is at `t=0`, `2` is at `t=1`, etc.\n",
        "* If you have a 1D kernel of size `3`, then the first convolution will be for the values at `[1, 2, 3]` which are values for `t=0` to `t=2`.\n",
        "* When you pass this to the first timestep of the `LSTM` after the convolution, it means that the value at `t=0` of the LSTM depends on `t=1` and `t=2` which are values into the future.\n",
        "* For time series data, you want computations to only rely on current and previous time steps.\n",
        "* One way to do that is to pad the array depending on the kernel size and stride. For a kernel size of 3 and stride of 1, the window can be padded as such: `[0, 0, 1, 2, 3, 4, 5]`. `1` is still at `t=0` and two zeroes are prepended to simulate values in the past.\n",
        "* This way, the first stride will be at `[0, 0, 1]` and this does not contain any future values when it is passed on to subsequent layers.\n",
        "\n",
        "The `Conv1D` layer does this kind of padding by setting `padding=causal` and you'll see that below."
      ],
      "metadata": {
        "id": "p5KXrnVNcyOm"
      }
    },
    {
      "cell_type": "code",
      "source": [
        "class TS_LSTM_Model(tf.keras.Model):\n",
        "  def __init__(self, window_size,feature_size=1,\n",
        "               **kwargs):\n",
        "    super(TS_LSTM_Model, self).__init__(**kwargs)\n",
        "\n",
        "    model_tune = tf.keras.models.Sequential()\n",
        "    model_tune.add(\n",
        "      tf.keras.layers.Conv1D(filters=64, kernel_size=3,\n",
        "                             strides=1, padding=\"causal\",\n",
        "                             activation=\"relu\",\n",
        "                             input_shape=[window_size, feature_size])\n",
        "    )\n",
        "    model_tune.add(\n",
        "        tf.keras.layers.LSTM(64, return_sequences=True))\n",
        "    model_tune.add(tf.keras.layers.LSTM(64))\n",
        "    model_tune.add(tf.keras.layers.Dense(feature_size))\n",
        "    self.seq_1 = model_tune\n",
        "\n",
        "  @tf.function(reduce_retracing=True)   \n",
        "  def call(self, x):\n",
        "    x = self.seq_1(x)\n",
        "    return x"
      ],
      "metadata": {
        "id": "0lRV4xefcx91"
      },
      "execution_count": 63,
      "outputs": []
    },
    {
      "cell_type": "markdown",
      "source": [
        "## create model"
      ],
      "metadata": {
        "id": "42GJtdnqdDpv"
      }
    },
    {
      "cell_type": "code",
      "source": [
        "learning_rate_value_all = 1e-6\n",
        "epoch_value = 100"
      ],
      "metadata": {
        "id": "Gb-WZjehcp7V"
      },
      "execution_count": 64,
      "outputs": []
    },
    {
      "cell_type": "markdown",
      "source": [
        "Since we are using `MinmaxScaler` we already reshaped the input dimension into `(Batch_size, window_size, feature_size)` so we do not need to add lambda expand dimension layer, so we set `expand_dims_layer=False` to the parameter of the model\n",
        "\n",
        "and input shape for `build()` would be `input_shape = (1, window_size, feature_size)`"
      ],
      "metadata": {
        "id": "euSXNf6RgP4d"
      }
    },
    {
      "cell_type": "code",
      "source": [
        "training_set_normalized.shape"
      ],
      "metadata": {
        "colab": {
          "base_uri": "https://localhost:8080/"
        },
        "id": "3bbJmqAJgi89",
        "outputId": "65025cc8-7dfc-46ff-d154-891f4a5c2965"
      },
      "execution_count": 65,
      "outputs": [
        {
          "output_type": "execute_result",
          "data": {
            "text/plain": [
              "(587, 1)"
            ]
          },
          "metadata": {},
          "execution_count": 65
        }
      ]
    },
    {
      "cell_type": "markdown",
      "source": [
        "Before tuning, you can use the [`get_weights()`]((https://www.tensorflow.org/api_docs/python/tf/keras/layers/Layer#get_weights)) method so you can reset it later."
      ],
      "metadata": {
        "id": "TNC3b5yejaBo"
      }
    },
    {
      "cell_type": "code",
      "source": [
        "# Reset states generated by Keras\n",
        "tf.keras.backend.clear_session()\n",
        "\n",
        "model_tune2 = TS_LSTM_Model(window_size=window_size,\n",
        "                              feature_size=training_set_normalized.shape[1])"
      ],
      "metadata": {
        "id": "rLLLVTvAjlYB"
      },
      "execution_count": 66,
      "outputs": []
    },
    {
      "cell_type": "code",
      "source": [
        "# Get initial weights\n",
        "init_weights = model_tune2.get_weights()"
      ],
      "metadata": {
        "id": "r3InLrjWjoqR"
      },
      "execution_count": 68,
      "outputs": []
    },
    {
      "cell_type": "code",
      "source": [
        "\n",
        "# set built parameter\n",
        "\n",
        "print(training_set.shape)\n",
        "model_tune2.build(input_shape = (1, window_size, training_set_normalized.shape[1]))\n",
        "model_tune2.summary()\n",
        "# Set the training parameters\n",
        "model_tune2.compile(loss=tf.keras.losses.Huber(), \n",
        "                    optimizer=tf.keras.optimizers.SGD(\n",
        "                        learning_rate=learning_rate_value_all,\n",
        "                        momentum=0.9))"
      ],
      "metadata": {
        "colab": {
          "base_uri": "https://localhost:8080/"
        },
        "id": "3twO1zMDgZC6",
        "outputId": "a3c292e4-40e2-44ca-8911-7d0d3a6db40f"
      },
      "execution_count": 69,
      "outputs": [
        {
          "output_type": "stream",
          "name": "stdout",
          "text": [
            "(587,)\n",
            "Model: \"ts_lstm__model\"\n",
            "_________________________________________________________________\n",
            " Layer (type)                Output Shape              Param #   \n",
            "=================================================================\n",
            " sequential (Sequential)     (None, 1)                 66369     \n",
            "                                                                 \n",
            "=================================================================\n",
            "Total params: 66,369\n",
            "Trainable params: 66,369\n",
            "Non-trainable params: 0\n",
            "_________________________________________________________________\n"
          ]
        }
      ]
    },
    {
      "cell_type": "markdown",
      "source": [
        "### Tune the Learning Rate\n",
        "\n",
        "As usual, you will pick a learning rate by running the tuning code below."
      ],
      "metadata": {
        "id": "UEAZrwu7gyv9"
      }
    },
    {
      "cell_type": "code",
      "source": [
        "# Set the learning rate scheduler\n",
        "lr_schedule = tf.keras.callbacks.LearningRateScheduler(\n",
        "    lambda epoch: learning_rate_value_all * 10**(epoch / 20))\n",
        "\n",
        "# Train the model\n",
        "history_tune2 = model_tune2.fit(windowed_training_ds, epochs=epoch_value, \n",
        "                                callbacks=[lr_schedule],\n",
        "                                verbose=0)"
      ],
      "metadata": {
        "id": "TQ4U4n_gg0Id"
      },
      "execution_count": 70,
      "outputs": []
    },
    {
      "cell_type": "code",
      "source": [
        "plot_loss_inlog_plotly(history_tune2, epoch_value, lrs_value=learning_rate_value_all)"
      ],
      "metadata": {
        "colab": {
          "base_uri": "https://localhost:8080/",
          "height": 617
        },
        "id": "c_IwLRBZiOU5",
        "outputId": "0400cddc-c0c8-4bf7-f08b-7d41b8b1a666"
      },
      "execution_count": 71,
      "outputs": [
        {
          "output_type": "display_data",
          "data": {
            "text/html": [
              "<html>\n",
              "<head><meta charset=\"utf-8\" /></head>\n",
              "<body>\n",
              "    <div>            <script src=\"https://cdnjs.cloudflare.com/ajax/libs/mathjax/2.7.5/MathJax.js?config=TeX-AMS-MML_SVG\"></script><script type=\"text/javascript\">if (window.MathJax) {MathJax.Hub.Config({SVG: {font: \"STIX-Web\"}});}</script>                <script type=\"text/javascript\">window.PlotlyConfig = {MathJaxConfig: 'local'};</script>\n",
              "        <script src=\"https://cdn.plot.ly/plotly-2.8.3.min.js\"></script>                <div id=\"a7dc3fe6-5ffc-4737-8faa-9f13bae93a87\" class=\"plotly-graph-div\" style=\"height:600px; width:600px;\"></div>            <script type=\"text/javascript\">                                    window.PLOTLYENV=window.PLOTLYENV || {};                                    if (document.getElementById(\"a7dc3fe6-5ffc-4737-8faa-9f13bae93a87\")) {                    Plotly.newPlot(                        \"a7dc3fe6-5ffc-4737-8faa-9f13bae93a87\",                        [{\"mode\":\"lines\",\"x\":[1e-06,1.1220184543019633e-06,1.2589254117941672e-06,1.4125375446227544e-06,1.5848931924611134e-06,1.7782794100389227e-06,1.9952623149688796e-06,2.2387211385683393e-06,2.51188643150958e-06,2.8183829312644534e-06,3.162277660168379e-06,3.548133892335755e-06,3.981071705534972e-06,4.466835921509631e-06,5.011872336272722e-06,5.623413251903491e-06,6.309573444801933e-06,7.079457843841378e-06,7.943282347242815e-06,8.912509381337454e-06,9.999999999999999e-06,1.1220184543019635e-05,1.2589254117941675e-05,1.412537544622754e-05,1.584893192461113e-05,1.778279410038923e-05,1.9952623149688796e-05,2.23872113856834e-05,2.5118864315095795e-05,2.8183829312644532e-05,3.162277660168379e-05,3.548133892335755e-05,3.9810717055349735e-05,4.46683592150963e-05,5.0118723362727224e-05,5.623413251903491e-05,6.309573444801932e-05,7.07945784384138e-05,7.943282347242814e-05,8.912509381337455e-05,9.999999999999999e-05,0.0001122018454301963,0.00012589254117941674,0.00014125375446227538,0.00015848931924611142,0.00017782794100389227,0.00019952623149688788,0.000223872113856834,0.00025118864315095795,0.00028183829312644545,0.00031622776601683794,0.0003548133892335753,0.0003981071705534973,0.000446683592150963,0.0005011872336272724,0.000562341325190349,0.000630957344480193,0.000707945784384138,0.0007943282347242812,0.0008912509381337458,0.001,0.0011220184543019628,0.0012589254117941675,0.001412537544622754,0.0015848931924611139,0.0017782794100389228,0.001995262314968879,0.00223872113856834,0.00251188643150958,0.002818382931264455,0.0031622776601683794,0.003548133892335753,0.003981071705534973,0.0044668359215096305,0.005011872336272725,0.005623413251903491,0.00630957344480193,0.00707945784384138,0.007943282347242814,0.008912509381337459,0.01,0.011220184543019629,0.012589254117941661,0.014125375446227554,0.01584893192461114,0.017782794100389226,0.01995262314968879,0.022387211385683378,0.025118864315095822,0.02818382931264455,0.03162277660168379,0.03548133892335753,0.039810717055349686,0.04466835921509634,0.05011872336272725,0.056234132519034905,0.0630957344480193,0.07079457843841373,0.07943282347242821,0.08912509381337459],\"y\":[0.10925330221652985,0.10924002528190613,0.10922220349311829,0.10920216143131256,0.10917934030294418,0.10915404558181763,0.10912524908781052,0.10909295827150345,0.10905769467353821,0.1090167686343193,0.10897165536880493,0.10892044752836227,0.10886363685131073,0.10880184173583984,0.10872781276702881,0.10864782333374023,0.1085578054189682,0.10845727473497391,0.10834330320358276,0.10822033882141113,0.10807697474956512,0.10791618376970291,0.10774076730012894,0.10754156112670898,0.10732004046440125,0.10707268863916397,0.10679154098033905,0.1064869612455368,0.10613617300987244,0.10574929416179657,0.10531948506832123,0.10484061390161514,0.10430344939231873,0.10370096564292908,0.10304274410009384,0.10229494422674179,0.10145869106054306,0.10053560137748718,0.0995137020945549,0.09836677461862564,0.09709823131561279,0.09569264203310013,0.09410382062196732,0.09237387031316757,0.09041047841310501,0.08824566006660461,0.08583003282546997,0.08313065767288208,0.08011171966791153,0.07677576690912247,0.07302547991275787,0.06886608898639679,0.06414249539375305,0.05896956846117973,0.053351402282714844,0.0471004992723465,0.04049050807952881,0.03368407115340233,0.026821475476026535,0.020698383450508118,0.01556162815541029,0.011763189919292927,0.00956027302891016,0.008630530908703804,0.008286938071250916,0.008218932896852493,0.008175547234714031,0.008157847449183464,0.00812497641891241,0.008081726729869843,0.008055620826780796,0.008032365702092648,0.007969642989337444,0.00798168033361435,0.007969043217599392,0.007845485582947731,0.007822838611900806,0.00779906427487731,0.007833502255380154,0.0077250804752111435,0.007754140067845583,0.007629841100424528,0.007530393078923225,0.007493944372981787,0.0075653656385838985,0.007583459839224815,0.007379673887044191,0.007174719590693712,0.006960256025195122,0.006911483593285084,0.006820344366133213,0.00667546084150672,0.006574439350515604,0.006597961764782667,0.006488234270364046,0.006744216661900282,0.006470127496868372,0.0064850435592234135,0.005703497212380171,0.005581999663263559],\"type\":\"scatter\"}],                        {\"template\":{\"data\":{\"bar\":[{\"error_x\":{\"color\":\"#2a3f5f\"},\"error_y\":{\"color\":\"#2a3f5f\"},\"marker\":{\"line\":{\"color\":\"#E5ECF6\",\"width\":0.5},\"pattern\":{\"fillmode\":\"overlay\",\"size\":10,\"solidity\":0.2}},\"type\":\"bar\"}],\"barpolar\":[{\"marker\":{\"line\":{\"color\":\"#E5ECF6\",\"width\":0.5},\"pattern\":{\"fillmode\":\"overlay\",\"size\":10,\"solidity\":0.2}},\"type\":\"barpolar\"}],\"carpet\":[{\"aaxis\":{\"endlinecolor\":\"#2a3f5f\",\"gridcolor\":\"white\",\"linecolor\":\"white\",\"minorgridcolor\":\"white\",\"startlinecolor\":\"#2a3f5f\"},\"baxis\":{\"endlinecolor\":\"#2a3f5f\",\"gridcolor\":\"white\",\"linecolor\":\"white\",\"minorgridcolor\":\"white\",\"startlinecolor\":\"#2a3f5f\"},\"type\":\"carpet\"}],\"choropleth\":[{\"colorbar\":{\"outlinewidth\":0,\"ticks\":\"\"},\"type\":\"choropleth\"}],\"contour\":[{\"colorbar\":{\"outlinewidth\":0,\"ticks\":\"\"},\"colorscale\":[[0.0,\"#0d0887\"],[0.1111111111111111,\"#46039f\"],[0.2222222222222222,\"#7201a8\"],[0.3333333333333333,\"#9c179e\"],[0.4444444444444444,\"#bd3786\"],[0.5555555555555556,\"#d8576b\"],[0.6666666666666666,\"#ed7953\"],[0.7777777777777778,\"#fb9f3a\"],[0.8888888888888888,\"#fdca26\"],[1.0,\"#f0f921\"]],\"type\":\"contour\"}],\"contourcarpet\":[{\"colorbar\":{\"outlinewidth\":0,\"ticks\":\"\"},\"type\":\"contourcarpet\"}],\"heatmap\":[{\"colorbar\":{\"outlinewidth\":0,\"ticks\":\"\"},\"colorscale\":[[0.0,\"#0d0887\"],[0.1111111111111111,\"#46039f\"],[0.2222222222222222,\"#7201a8\"],[0.3333333333333333,\"#9c179e\"],[0.4444444444444444,\"#bd3786\"],[0.5555555555555556,\"#d8576b\"],[0.6666666666666666,\"#ed7953\"],[0.7777777777777778,\"#fb9f3a\"],[0.8888888888888888,\"#fdca26\"],[1.0,\"#f0f921\"]],\"type\":\"heatmap\"}],\"heatmapgl\":[{\"colorbar\":{\"outlinewidth\":0,\"ticks\":\"\"},\"colorscale\":[[0.0,\"#0d0887\"],[0.1111111111111111,\"#46039f\"],[0.2222222222222222,\"#7201a8\"],[0.3333333333333333,\"#9c179e\"],[0.4444444444444444,\"#bd3786\"],[0.5555555555555556,\"#d8576b\"],[0.6666666666666666,\"#ed7953\"],[0.7777777777777778,\"#fb9f3a\"],[0.8888888888888888,\"#fdca26\"],[1.0,\"#f0f921\"]],\"type\":\"heatmapgl\"}],\"histogram\":[{\"marker\":{\"pattern\":{\"fillmode\":\"overlay\",\"size\":10,\"solidity\":0.2}},\"type\":\"histogram\"}],\"histogram2d\":[{\"colorbar\":{\"outlinewidth\":0,\"ticks\":\"\"},\"colorscale\":[[0.0,\"#0d0887\"],[0.1111111111111111,\"#46039f\"],[0.2222222222222222,\"#7201a8\"],[0.3333333333333333,\"#9c179e\"],[0.4444444444444444,\"#bd3786\"],[0.5555555555555556,\"#d8576b\"],[0.6666666666666666,\"#ed7953\"],[0.7777777777777778,\"#fb9f3a\"],[0.8888888888888888,\"#fdca26\"],[1.0,\"#f0f921\"]],\"type\":\"histogram2d\"}],\"histogram2dcontour\":[{\"colorbar\":{\"outlinewidth\":0,\"ticks\":\"\"},\"colorscale\":[[0.0,\"#0d0887\"],[0.1111111111111111,\"#46039f\"],[0.2222222222222222,\"#7201a8\"],[0.3333333333333333,\"#9c179e\"],[0.4444444444444444,\"#bd3786\"],[0.5555555555555556,\"#d8576b\"],[0.6666666666666666,\"#ed7953\"],[0.7777777777777778,\"#fb9f3a\"],[0.8888888888888888,\"#fdca26\"],[1.0,\"#f0f921\"]],\"type\":\"histogram2dcontour\"}],\"mesh3d\":[{\"colorbar\":{\"outlinewidth\":0,\"ticks\":\"\"},\"type\":\"mesh3d\"}],\"parcoords\":[{\"line\":{\"colorbar\":{\"outlinewidth\":0,\"ticks\":\"\"}},\"type\":\"parcoords\"}],\"pie\":[{\"automargin\":true,\"type\":\"pie\"}],\"scatter\":[{\"marker\":{\"colorbar\":{\"outlinewidth\":0,\"ticks\":\"\"}},\"type\":\"scatter\"}],\"scatter3d\":[{\"line\":{\"colorbar\":{\"outlinewidth\":0,\"ticks\":\"\"}},\"marker\":{\"colorbar\":{\"outlinewidth\":0,\"ticks\":\"\"}},\"type\":\"scatter3d\"}],\"scattercarpet\":[{\"marker\":{\"colorbar\":{\"outlinewidth\":0,\"ticks\":\"\"}},\"type\":\"scattercarpet\"}],\"scattergeo\":[{\"marker\":{\"colorbar\":{\"outlinewidth\":0,\"ticks\":\"\"}},\"type\":\"scattergeo\"}],\"scattergl\":[{\"marker\":{\"colorbar\":{\"outlinewidth\":0,\"ticks\":\"\"}},\"type\":\"scattergl\"}],\"scattermapbox\":[{\"marker\":{\"colorbar\":{\"outlinewidth\":0,\"ticks\":\"\"}},\"type\":\"scattermapbox\"}],\"scatterpolar\":[{\"marker\":{\"colorbar\":{\"outlinewidth\":0,\"ticks\":\"\"}},\"type\":\"scatterpolar\"}],\"scatterpolargl\":[{\"marker\":{\"colorbar\":{\"outlinewidth\":0,\"ticks\":\"\"}},\"type\":\"scatterpolargl\"}],\"scatterternary\":[{\"marker\":{\"colorbar\":{\"outlinewidth\":0,\"ticks\":\"\"}},\"type\":\"scatterternary\"}],\"surface\":[{\"colorbar\":{\"outlinewidth\":0,\"ticks\":\"\"},\"colorscale\":[[0.0,\"#0d0887\"],[0.1111111111111111,\"#46039f\"],[0.2222222222222222,\"#7201a8\"],[0.3333333333333333,\"#9c179e\"],[0.4444444444444444,\"#bd3786\"],[0.5555555555555556,\"#d8576b\"],[0.6666666666666666,\"#ed7953\"],[0.7777777777777778,\"#fb9f3a\"],[0.8888888888888888,\"#fdca26\"],[1.0,\"#f0f921\"]],\"type\":\"surface\"}],\"table\":[{\"cells\":{\"fill\":{\"color\":\"#EBF0F8\"},\"line\":{\"color\":\"white\"}},\"header\":{\"fill\":{\"color\":\"#C8D4E3\"},\"line\":{\"color\":\"white\"}},\"type\":\"table\"}]},\"layout\":{\"annotationdefaults\":{\"arrowcolor\":\"#2a3f5f\",\"arrowhead\":0,\"arrowwidth\":1},\"autotypenumbers\":\"strict\",\"coloraxis\":{\"colorbar\":{\"outlinewidth\":0,\"ticks\":\"\"}},\"colorscale\":{\"diverging\":[[0,\"#8e0152\"],[0.1,\"#c51b7d\"],[0.2,\"#de77ae\"],[0.3,\"#f1b6da\"],[0.4,\"#fde0ef\"],[0.5,\"#f7f7f7\"],[0.6,\"#e6f5d0\"],[0.7,\"#b8e186\"],[0.8,\"#7fbc41\"],[0.9,\"#4d9221\"],[1,\"#276419\"]],\"sequential\":[[0.0,\"#0d0887\"],[0.1111111111111111,\"#46039f\"],[0.2222222222222222,\"#7201a8\"],[0.3333333333333333,\"#9c179e\"],[0.4444444444444444,\"#bd3786\"],[0.5555555555555556,\"#d8576b\"],[0.6666666666666666,\"#ed7953\"],[0.7777777777777778,\"#fb9f3a\"],[0.8888888888888888,\"#fdca26\"],[1.0,\"#f0f921\"]],\"sequentialminus\":[[0.0,\"#0d0887\"],[0.1111111111111111,\"#46039f\"],[0.2222222222222222,\"#7201a8\"],[0.3333333333333333,\"#9c179e\"],[0.4444444444444444,\"#bd3786\"],[0.5555555555555556,\"#d8576b\"],[0.6666666666666666,\"#ed7953\"],[0.7777777777777778,\"#fb9f3a\"],[0.8888888888888888,\"#fdca26\"],[1.0,\"#f0f921\"]]},\"colorway\":[\"#636efa\",\"#EF553B\",\"#00cc96\",\"#ab63fa\",\"#FFA15A\",\"#19d3f3\",\"#FF6692\",\"#B6E880\",\"#FF97FF\",\"#FECB52\"],\"font\":{\"color\":\"#2a3f5f\"},\"geo\":{\"bgcolor\":\"white\",\"lakecolor\":\"white\",\"landcolor\":\"#E5ECF6\",\"showlakes\":true,\"showland\":true,\"subunitcolor\":\"white\"},\"hoverlabel\":{\"align\":\"left\"},\"hovermode\":\"closest\",\"mapbox\":{\"style\":\"light\"},\"paper_bgcolor\":\"white\",\"plot_bgcolor\":\"#E5ECF6\",\"polar\":{\"angularaxis\":{\"gridcolor\":\"white\",\"linecolor\":\"white\",\"ticks\":\"\"},\"bgcolor\":\"#E5ECF6\",\"radialaxis\":{\"gridcolor\":\"white\",\"linecolor\":\"white\",\"ticks\":\"\"}},\"scene\":{\"xaxis\":{\"backgroundcolor\":\"#E5ECF6\",\"gridcolor\":\"white\",\"gridwidth\":2,\"linecolor\":\"white\",\"showbackground\":true,\"ticks\":\"\",\"zerolinecolor\":\"white\"},\"yaxis\":{\"backgroundcolor\":\"#E5ECF6\",\"gridcolor\":\"white\",\"gridwidth\":2,\"linecolor\":\"white\",\"showbackground\":true,\"ticks\":\"\",\"zerolinecolor\":\"white\"},\"zaxis\":{\"backgroundcolor\":\"#E5ECF6\",\"gridcolor\":\"white\",\"gridwidth\":2,\"linecolor\":\"white\",\"showbackground\":true,\"ticks\":\"\",\"zerolinecolor\":\"white\"}},\"shapedefaults\":{\"line\":{\"color\":\"#2a3f5f\"}},\"ternary\":{\"aaxis\":{\"gridcolor\":\"white\",\"linecolor\":\"white\",\"ticks\":\"\"},\"baxis\":{\"gridcolor\":\"white\",\"linecolor\":\"white\",\"ticks\":\"\"},\"bgcolor\":\"#E5ECF6\",\"caxis\":{\"gridcolor\":\"white\",\"linecolor\":\"white\",\"ticks\":\"\"}},\"title\":{\"x\":0.05},\"xaxis\":{\"automargin\":true,\"gridcolor\":\"white\",\"linecolor\":\"white\",\"ticks\":\"\",\"title\":{\"standoff\":15},\"zerolinecolor\":\"white\",\"zerolinewidth\":2},\"yaxis\":{\"automargin\":true,\"gridcolor\":\"white\",\"linecolor\":\"white\",\"ticks\":\"\",\"title\":{\"standoff\":15},\"zerolinecolor\":\"white\",\"zerolinewidth\":2}}},\"xaxis\":{\"title\":{\"text\":\"Time\"},\"type\":\"log\"},\"margin\":{\"l\":50,\"r\":50,\"b\":100,\"t\":100,\"pad\":4},\"title\":{\"text\":\"Loss value\"},\"yaxis\":{\"title\":{\"text\":\"Value\"}},\"autosize\":false,\"width\":600,\"height\":600,\"paper_bgcolor\":\"LightSteelBlue\",\"showlegend\":false},                        {\"responsive\": true}                    ).then(function(){\n",
              "                            \n",
              "var gd = document.getElementById('a7dc3fe6-5ffc-4737-8faa-9f13bae93a87');\n",
              "var x = new MutationObserver(function (mutations, observer) {{\n",
              "        var display = window.getComputedStyle(gd).display;\n",
              "        if (!display || display === 'none') {{\n",
              "            console.log([gd, 'removed!']);\n",
              "            Plotly.purge(gd);\n",
              "            observer.disconnect();\n",
              "        }}\n",
              "}});\n",
              "\n",
              "// Listen for the removal of the full notebook cells\n",
              "var notebookContainer = gd.closest('#notebook-container');\n",
              "if (notebookContainer) {{\n",
              "    x.observe(notebookContainer, {childList: true});\n",
              "}}\n",
              "\n",
              "// Listen for the clearing of the current output cell\n",
              "var outputEl = gd.closest('.output');\n",
              "if (outputEl) {{\n",
              "    x.observe(outputEl, {childList: true});\n",
              "}}\n",
              "\n",
              "                        })                };                            </script>        </div>\n",
              "</body>\n",
              "</html>"
            ]
          },
          "metadata": {}
        }
      ]
    },
    {
      "cell_type": "markdown",
      "source": [
        "## Train the Model\n",
        "\n",
        "proceed to train the model with your chosen learning rate. Choose the lowest loss value where the graph still smooth \n",
        "\n",
        "Tip: When experimenting and you find yourself running different iterations of a model, you may want to use the `clear_session()` method to declutter memory used by Keras. This is added in the first line below.\n",
        "\n",
        "\n",
        "To reset the weights, you can simply call the [`set_weights()`](https://www.tensorflow.org/api_docs/python/tf/keras/layers/Layer#set_weights) and pass in the saved weights from earlier."
      ],
      "metadata": {
        "id": "a82NO7MNii1r"
      }
    },
    {
      "cell_type": "code",
      "source": [
        "# Reset states generated by Keras\n",
        "tf.keras.backend.clear_session()\n",
        "\n",
        "model_tune2 = TS_LSTM_Model(window_size=window_size,\n",
        "                            feature_size=training_set_normalized.shape[1])\n",
        "#model_tune2.load_weights('./checkpoints/my_checkpoint')\n",
        "\n",
        "model_tune2.set_weights(init_weights)\n",
        "\n",
        "# set built parameter\n",
        "print(training_set_normalized.shape)\n",
        "model_tune2.build(input_shape = (1, window_size, training_set_normalized.shape[1]))\n",
        "#model_tune2.summary()\n",
        "\n",
        "\n",
        "# Set the training parameters\n",
        "# usinbg mae as metrics\n",
        "model_tune2.compile(loss=tf.keras.losses.Huber(), \n",
        "                    optimizer=tf.keras.optimizers.SGD(\n",
        "                        learning_rate=0.003548,\n",
        "                        momentum=0.9), metrics=[\"mae\"])\n",
        "\n"
      ],
      "metadata": {
        "colab": {
          "base_uri": "https://localhost:8080/"
        },
        "id": "urJLWL6RinUx",
        "outputId": "9f9f3dbc-2581-4827-8017-3576c679c61c"
      },
      "execution_count": 73,
      "outputs": [
        {
          "output_type": "stream",
          "name": "stdout",
          "text": [
            "(587, 1)\n"
          ]
        }
      ]
    },
    {
      "cell_type": "code",
      "source": [
        "\n",
        "# Train the model\n",
        "history_build1 = model_tune2.fit(windowed_training_ds, epochs=epoch_value, \n",
        "                                verbose=0)"
      ],
      "metadata": {
        "id": "Z__LgNQWlGu2"
      },
      "execution_count": 74,
      "outputs": []
    },
    {
      "cell_type": "code",
      "source": [
        "history_build1.history.keys()"
      ],
      "metadata": {
        "colab": {
          "base_uri": "https://localhost:8080/"
        },
        "id": "Nk1QMBcHlhp8",
        "outputId": "3663c6a3-3d33-4f0b-fd57-2d92a37f5fcd"
      },
      "execution_count": 75,
      "outputs": [
        {
          "output_type": "execute_result",
          "data": {
            "text/plain": [
              "dict_keys(['loss', 'mae'])"
            ]
          },
          "metadata": {},
          "execution_count": 75
        }
      ]
    },
    {
      "cell_type": "code",
      "source": [
        "plot_series_plotly(np.arange(0, epoch_value), \n",
        "                   (history_build1.history['loss'], history_build1.history['mae']),\n",
        "                   figure_title='Mae and loss value',\n",
        "                   series_name=['Loss Value', 'MAE Value'],\n",
        "                   xaxis_title='epoch', yaxis_title='Loss')"
      ],
      "metadata": {
        "colab": {
          "base_uri": "https://localhost:8080/",
          "height": 617
        },
        "id": "ZA9M-ILykXsK",
        "outputId": "603c9f8f-37c5-4251-851e-ec981d9ee40e"
      },
      "execution_count": 77,
      "outputs": [
        {
          "output_type": "display_data",
          "data": {
            "text/html": [
              "<html>\n",
              "<head><meta charset=\"utf-8\" /></head>\n",
              "<body>\n",
              "    <div>            <script src=\"https://cdnjs.cloudflare.com/ajax/libs/mathjax/2.7.5/MathJax.js?config=TeX-AMS-MML_SVG\"></script><script type=\"text/javascript\">if (window.MathJax) {MathJax.Hub.Config({SVG: {font: \"STIX-Web\"}});}</script>                <script type=\"text/javascript\">window.PlotlyConfig = {MathJaxConfig: 'local'};</script>\n",
              "        <script src=\"https://cdn.plot.ly/plotly-2.8.3.min.js\"></script>                <div id=\"c8957381-3dcd-4741-9b6c-e5b5ac8bd9f4\" class=\"plotly-graph-div\" style=\"height:600px; width:600px;\"></div>            <script type=\"text/javascript\">                                    window.PLOTLYENV=window.PLOTLYENV || {};                                    if (document.getElementById(\"c8957381-3dcd-4741-9b6c-e5b5ac8bd9f4\")) {                    Plotly.newPlot(                        \"c8957381-3dcd-4741-9b6c-e5b5ac8bd9f4\",                        [{\"mode\":\"lines\",\"name\":\"Loss Value\",\"x\":[0,1,2,3,4,5,6,7,8,9,10,11,12,13,14,15,16,17,18,19,20,21,22,23,24,25,26,27,28,29,30,31,32,33,34,35,36,37,38,39,40,41,42,43,44,45,46,47,48,49,50,51,52,53,54,55,56,57,58,59,60,61,62,63,64,65,66,67,68,69,70,71,72,73,74,75,76,77,78,79,80,81,82,83,84,85,86,87,88,89,90,91,92,93,94,95,96,97,98,99],\"y\":[0.09877029061317444,0.061243873089551926,0.02525796927511692,0.009264144115149975,0.008355074562132359,0.008109472692012787,0.00801989808678627,0.008045143447816372,0.008001565933227539,0.007918489165604115,0.007904967293143272,0.007907728664577007,0.00780157744884491,0.007748757489025593,0.007724892348051071,0.007699543610215187,0.007709687575697899,0.007646538782864809,0.007637504022568464,0.007635818794369698,0.007640044670552015,0.007614388130605221,0.007507717702537775,0.007492658216506243,0.00748535618185997,0.0074651665054261684,0.0074217962101101875,0.007394138723611832,0.007380625233054161,0.007372415624558926,0.007339097559452057,0.007325298618525267,0.0072847530245780945,0.0072960155084729195,0.007294184062629938,0.007279417011886835,0.007221418898552656,0.007179010659456253,0.007174174766987562,0.007134031504392624,0.007140083704143763,0.0071296109817922115,0.007107871118932962,0.00706320907920599,0.007116902153939009,0.00710027851164341,0.0070427353493869305,0.006993900518864393,0.00699160760268569,0.0069770715199410915,0.007001818157732487,0.006958600599318743,0.006910925265401602,0.0069063203409314156,0.0068961926735937595,0.006872943136841059,0.006846971809864044,0.006823698524385691,0.00684196874499321,0.006871946156024933,0.006777050439268351,0.006784352473914623,0.006793975364416838,0.006741907447576523,0.0067340475507080555,0.006718190852552652,0.006767152808606625,0.00673335324972868,0.006653825286775827,0.006677388213574886,0.006673973519355059,0.006641763262450695,0.0066281817853450775,0.006595313083380461,0.00659946771338582,0.0065624606795609,0.0065483772195875645,0.006538781337440014,0.006556238513439894,0.006520791910588741,0.006539529655128717,0.006511274725198746,0.006491946056485176,0.006467041093856096,0.006446625106036663,0.006444532889872789,0.00642035249620676,0.0064178816974163055,0.006401337683200836,0.006398157216608524,0.0063795545138418674,0.00635547423735261,0.006355381570756435,0.006341827567666769,0.006309512536972761,0.006327440962195396,0.006299640983343124,0.006350448355078697,0.006274409592151642,0.00625664321705699],\"type\":\"scatter\"},{\"mode\":\"lines\",\"name\":\"MAE Value\",\"x\":[0,1,2,3,4,5,6,7,8,9,10,11,12,13,14,15,16,17,18,19,20,21,22,23,24,25,26,27,28,29,30,31,32,33,34,35,36,37,38,39,40,41,42,43,44,45,46,47,48,49,50,51,52,53,54,55,56,57,58,59,60,61,62,63,64,65,66,67,68,69,70,71,72,73,74,75,76,77,78,79,80,81,82,83,84,85,86,87,88,89,90,91,92,93,94,95,96,97,98,99],\"y\":[0.37850937247276306,0.28649577498435974,0.17714020609855652,0.10871881991624832,0.10145360231399536,0.10027164965867996,0.10122130811214447,0.10033141821622849,0.10139640420675278,0.09963024407625198,0.09954813122749329,0.1005072370171547,0.09893562644720078,0.0989452451467514,0.09916716814041138,0.09889504313468933,0.09860128909349442,0.09831414371728897,0.09862411767244339,0.09790085256099701,0.09877831488847733,0.09758249670267105,0.09772216528654099,0.09711231291294098,0.09721212834119797,0.09686463326215744,0.09688138961791992,0.09634934365749359,0.09634724259376526,0.09651190787553787,0.09562148153781891,0.09654846042394638,0.09551331400871277,0.09577321261167526,0.0947834774851799,0.09628826379776001,0.09479521214962006,0.09490370005369186,0.09436379373073578,0.09444951266050339,0.09458368271589279,0.09422466903924942,0.09444750100374222,0.0936034768819809,0.09435421973466873,0.09357099235057831,0.09405706077814102,0.09314475953578949,0.09357141703367233,0.09296164661645889,0.09254370629787445,0.09337490797042847,0.09243800491094589,0.09283194690942764,0.09221768379211426,0.09241697192192078,0.09181984513998032,0.0919501930475235,0.09185829013586044,0.091655433177948,0.0913902148604393,0.0914454236626625,0.09186345338821411,0.09095413237810135,0.09061750769615173,0.09131354838609695,0.09030479192733765,0.09189449995756149,0.09026080369949341,0.0897984430193901,0.09111712872982025,0.08982234448194504,0.09040380269289017,0.09011594206094742,0.08990580588579178,0.08943398296833038,0.08938838541507721,0.0892130509018898,0.08982379734516144,0.0887603759765625,0.09026411920785904,0.0887581929564476,0.08913365006446838,0.08850010484457016,0.08905362337827682,0.08841356635093689,0.08841964602470398,0.08836084604263306,0.08821768313646317,0.08776183426380157,0.08853761851787567,0.08764771372079849,0.08786455541849136,0.08778358995914459,0.08747901022434235,0.08724085241556168,0.08792421221733093,0.08744654059410095,0.08736561983823776,0.08682128041982651],\"type\":\"scatter\"}],                        {\"template\":{\"data\":{\"bar\":[{\"error_x\":{\"color\":\"#2a3f5f\"},\"error_y\":{\"color\":\"#2a3f5f\"},\"marker\":{\"line\":{\"color\":\"#E5ECF6\",\"width\":0.5},\"pattern\":{\"fillmode\":\"overlay\",\"size\":10,\"solidity\":0.2}},\"type\":\"bar\"}],\"barpolar\":[{\"marker\":{\"line\":{\"color\":\"#E5ECF6\",\"width\":0.5},\"pattern\":{\"fillmode\":\"overlay\",\"size\":10,\"solidity\":0.2}},\"type\":\"barpolar\"}],\"carpet\":[{\"aaxis\":{\"endlinecolor\":\"#2a3f5f\",\"gridcolor\":\"white\",\"linecolor\":\"white\",\"minorgridcolor\":\"white\",\"startlinecolor\":\"#2a3f5f\"},\"baxis\":{\"endlinecolor\":\"#2a3f5f\",\"gridcolor\":\"white\",\"linecolor\":\"white\",\"minorgridcolor\":\"white\",\"startlinecolor\":\"#2a3f5f\"},\"type\":\"carpet\"}],\"choropleth\":[{\"colorbar\":{\"outlinewidth\":0,\"ticks\":\"\"},\"type\":\"choropleth\"}],\"contour\":[{\"colorbar\":{\"outlinewidth\":0,\"ticks\":\"\"},\"colorscale\":[[0.0,\"#0d0887\"],[0.1111111111111111,\"#46039f\"],[0.2222222222222222,\"#7201a8\"],[0.3333333333333333,\"#9c179e\"],[0.4444444444444444,\"#bd3786\"],[0.5555555555555556,\"#d8576b\"],[0.6666666666666666,\"#ed7953\"],[0.7777777777777778,\"#fb9f3a\"],[0.8888888888888888,\"#fdca26\"],[1.0,\"#f0f921\"]],\"type\":\"contour\"}],\"contourcarpet\":[{\"colorbar\":{\"outlinewidth\":0,\"ticks\":\"\"},\"type\":\"contourcarpet\"}],\"heatmap\":[{\"colorbar\":{\"outlinewidth\":0,\"ticks\":\"\"},\"colorscale\":[[0.0,\"#0d0887\"],[0.1111111111111111,\"#46039f\"],[0.2222222222222222,\"#7201a8\"],[0.3333333333333333,\"#9c179e\"],[0.4444444444444444,\"#bd3786\"],[0.5555555555555556,\"#d8576b\"],[0.6666666666666666,\"#ed7953\"],[0.7777777777777778,\"#fb9f3a\"],[0.8888888888888888,\"#fdca26\"],[1.0,\"#f0f921\"]],\"type\":\"heatmap\"}],\"heatmapgl\":[{\"colorbar\":{\"outlinewidth\":0,\"ticks\":\"\"},\"colorscale\":[[0.0,\"#0d0887\"],[0.1111111111111111,\"#46039f\"],[0.2222222222222222,\"#7201a8\"],[0.3333333333333333,\"#9c179e\"],[0.4444444444444444,\"#bd3786\"],[0.5555555555555556,\"#d8576b\"],[0.6666666666666666,\"#ed7953\"],[0.7777777777777778,\"#fb9f3a\"],[0.8888888888888888,\"#fdca26\"],[1.0,\"#f0f921\"]],\"type\":\"heatmapgl\"}],\"histogram\":[{\"marker\":{\"pattern\":{\"fillmode\":\"overlay\",\"size\":10,\"solidity\":0.2}},\"type\":\"histogram\"}],\"histogram2d\":[{\"colorbar\":{\"outlinewidth\":0,\"ticks\":\"\"},\"colorscale\":[[0.0,\"#0d0887\"],[0.1111111111111111,\"#46039f\"],[0.2222222222222222,\"#7201a8\"],[0.3333333333333333,\"#9c179e\"],[0.4444444444444444,\"#bd3786\"],[0.5555555555555556,\"#d8576b\"],[0.6666666666666666,\"#ed7953\"],[0.7777777777777778,\"#fb9f3a\"],[0.8888888888888888,\"#fdca26\"],[1.0,\"#f0f921\"]],\"type\":\"histogram2d\"}],\"histogram2dcontour\":[{\"colorbar\":{\"outlinewidth\":0,\"ticks\":\"\"},\"colorscale\":[[0.0,\"#0d0887\"],[0.1111111111111111,\"#46039f\"],[0.2222222222222222,\"#7201a8\"],[0.3333333333333333,\"#9c179e\"],[0.4444444444444444,\"#bd3786\"],[0.5555555555555556,\"#d8576b\"],[0.6666666666666666,\"#ed7953\"],[0.7777777777777778,\"#fb9f3a\"],[0.8888888888888888,\"#fdca26\"],[1.0,\"#f0f921\"]],\"type\":\"histogram2dcontour\"}],\"mesh3d\":[{\"colorbar\":{\"outlinewidth\":0,\"ticks\":\"\"},\"type\":\"mesh3d\"}],\"parcoords\":[{\"line\":{\"colorbar\":{\"outlinewidth\":0,\"ticks\":\"\"}},\"type\":\"parcoords\"}],\"pie\":[{\"automargin\":true,\"type\":\"pie\"}],\"scatter\":[{\"marker\":{\"colorbar\":{\"outlinewidth\":0,\"ticks\":\"\"}},\"type\":\"scatter\"}],\"scatter3d\":[{\"line\":{\"colorbar\":{\"outlinewidth\":0,\"ticks\":\"\"}},\"marker\":{\"colorbar\":{\"outlinewidth\":0,\"ticks\":\"\"}},\"type\":\"scatter3d\"}],\"scattercarpet\":[{\"marker\":{\"colorbar\":{\"outlinewidth\":0,\"ticks\":\"\"}},\"type\":\"scattercarpet\"}],\"scattergeo\":[{\"marker\":{\"colorbar\":{\"outlinewidth\":0,\"ticks\":\"\"}},\"type\":\"scattergeo\"}],\"scattergl\":[{\"marker\":{\"colorbar\":{\"outlinewidth\":0,\"ticks\":\"\"}},\"type\":\"scattergl\"}],\"scattermapbox\":[{\"marker\":{\"colorbar\":{\"outlinewidth\":0,\"ticks\":\"\"}},\"type\":\"scattermapbox\"}],\"scatterpolar\":[{\"marker\":{\"colorbar\":{\"outlinewidth\":0,\"ticks\":\"\"}},\"type\":\"scatterpolar\"}],\"scatterpolargl\":[{\"marker\":{\"colorbar\":{\"outlinewidth\":0,\"ticks\":\"\"}},\"type\":\"scatterpolargl\"}],\"scatterternary\":[{\"marker\":{\"colorbar\":{\"outlinewidth\":0,\"ticks\":\"\"}},\"type\":\"scatterternary\"}],\"surface\":[{\"colorbar\":{\"outlinewidth\":0,\"ticks\":\"\"},\"colorscale\":[[0.0,\"#0d0887\"],[0.1111111111111111,\"#46039f\"],[0.2222222222222222,\"#7201a8\"],[0.3333333333333333,\"#9c179e\"],[0.4444444444444444,\"#bd3786\"],[0.5555555555555556,\"#d8576b\"],[0.6666666666666666,\"#ed7953\"],[0.7777777777777778,\"#fb9f3a\"],[0.8888888888888888,\"#fdca26\"],[1.0,\"#f0f921\"]],\"type\":\"surface\"}],\"table\":[{\"cells\":{\"fill\":{\"color\":\"#EBF0F8\"},\"line\":{\"color\":\"white\"}},\"header\":{\"fill\":{\"color\":\"#C8D4E3\"},\"line\":{\"color\":\"white\"}},\"type\":\"table\"}]},\"layout\":{\"annotationdefaults\":{\"arrowcolor\":\"#2a3f5f\",\"arrowhead\":0,\"arrowwidth\":1},\"autotypenumbers\":\"strict\",\"coloraxis\":{\"colorbar\":{\"outlinewidth\":0,\"ticks\":\"\"}},\"colorscale\":{\"diverging\":[[0,\"#8e0152\"],[0.1,\"#c51b7d\"],[0.2,\"#de77ae\"],[0.3,\"#f1b6da\"],[0.4,\"#fde0ef\"],[0.5,\"#f7f7f7\"],[0.6,\"#e6f5d0\"],[0.7,\"#b8e186\"],[0.8,\"#7fbc41\"],[0.9,\"#4d9221\"],[1,\"#276419\"]],\"sequential\":[[0.0,\"#0d0887\"],[0.1111111111111111,\"#46039f\"],[0.2222222222222222,\"#7201a8\"],[0.3333333333333333,\"#9c179e\"],[0.4444444444444444,\"#bd3786\"],[0.5555555555555556,\"#d8576b\"],[0.6666666666666666,\"#ed7953\"],[0.7777777777777778,\"#fb9f3a\"],[0.8888888888888888,\"#fdca26\"],[1.0,\"#f0f921\"]],\"sequentialminus\":[[0.0,\"#0d0887\"],[0.1111111111111111,\"#46039f\"],[0.2222222222222222,\"#7201a8\"],[0.3333333333333333,\"#9c179e\"],[0.4444444444444444,\"#bd3786\"],[0.5555555555555556,\"#d8576b\"],[0.6666666666666666,\"#ed7953\"],[0.7777777777777778,\"#fb9f3a\"],[0.8888888888888888,\"#fdca26\"],[1.0,\"#f0f921\"]]},\"colorway\":[\"#636efa\",\"#EF553B\",\"#00cc96\",\"#ab63fa\",\"#FFA15A\",\"#19d3f3\",\"#FF6692\",\"#B6E880\",\"#FF97FF\",\"#FECB52\"],\"font\":{\"color\":\"#2a3f5f\"},\"geo\":{\"bgcolor\":\"white\",\"lakecolor\":\"white\",\"landcolor\":\"#E5ECF6\",\"showlakes\":true,\"showland\":true,\"subunitcolor\":\"white\"},\"hoverlabel\":{\"align\":\"left\"},\"hovermode\":\"closest\",\"mapbox\":{\"style\":\"light\"},\"paper_bgcolor\":\"white\",\"plot_bgcolor\":\"#E5ECF6\",\"polar\":{\"angularaxis\":{\"gridcolor\":\"white\",\"linecolor\":\"white\",\"ticks\":\"\"},\"bgcolor\":\"#E5ECF6\",\"radialaxis\":{\"gridcolor\":\"white\",\"linecolor\":\"white\",\"ticks\":\"\"}},\"scene\":{\"xaxis\":{\"backgroundcolor\":\"#E5ECF6\",\"gridcolor\":\"white\",\"gridwidth\":2,\"linecolor\":\"white\",\"showbackground\":true,\"ticks\":\"\",\"zerolinecolor\":\"white\"},\"yaxis\":{\"backgroundcolor\":\"#E5ECF6\",\"gridcolor\":\"white\",\"gridwidth\":2,\"linecolor\":\"white\",\"showbackground\":true,\"ticks\":\"\",\"zerolinecolor\":\"white\"},\"zaxis\":{\"backgroundcolor\":\"#E5ECF6\",\"gridcolor\":\"white\",\"gridwidth\":2,\"linecolor\":\"white\",\"showbackground\":true,\"ticks\":\"\",\"zerolinecolor\":\"white\"}},\"shapedefaults\":{\"line\":{\"color\":\"#2a3f5f\"}},\"ternary\":{\"aaxis\":{\"gridcolor\":\"white\",\"linecolor\":\"white\",\"ticks\":\"\"},\"baxis\":{\"gridcolor\":\"white\",\"linecolor\":\"white\",\"ticks\":\"\"},\"bgcolor\":\"#E5ECF6\",\"caxis\":{\"gridcolor\":\"white\",\"linecolor\":\"white\",\"ticks\":\"\"}},\"title\":{\"x\":0.05},\"xaxis\":{\"automargin\":true,\"gridcolor\":\"white\",\"linecolor\":\"white\",\"ticks\":\"\",\"title\":{\"standoff\":15},\"zerolinecolor\":\"white\",\"zerolinewidth\":2},\"yaxis\":{\"automargin\":true,\"gridcolor\":\"white\",\"linecolor\":\"white\",\"ticks\":\"\",\"title\":{\"standoff\":15},\"zerolinecolor\":\"white\",\"zerolinewidth\":2}}},\"margin\":{\"l\":50,\"r\":50,\"b\":100,\"t\":100,\"pad\":4},\"title\":{\"text\":\"Mae and loss value\"},\"xaxis\":{\"title\":{\"text\":\"epoch\"}},\"yaxis\":{\"title\":{\"text\":\"Loss\"}},\"autosize\":false,\"width\":600,\"height\":600,\"paper_bgcolor\":\"LightSteelBlue\",\"showlegend\":false},                        {\"responsive\": true}                    ).then(function(){\n",
              "                            \n",
              "var gd = document.getElementById('c8957381-3dcd-4741-9b6c-e5b5ac8bd9f4');\n",
              "var x = new MutationObserver(function (mutations, observer) {{\n",
              "        var display = window.getComputedStyle(gd).display;\n",
              "        if (!display || display === 'none') {{\n",
              "            console.log([gd, 'removed!']);\n",
              "            Plotly.purge(gd);\n",
              "            observer.disconnect();\n",
              "        }}\n",
              "}});\n",
              "\n",
              "// Listen for the removal of the full notebook cells\n",
              "var notebookContainer = gd.closest('#notebook-container');\n",
              "if (notebookContainer) {{\n",
              "    x.observe(notebookContainer, {childList: true});\n",
              "}}\n",
              "\n",
              "// Listen for the clearing of the current output cell\n",
              "var outputEl = gd.closest('.output');\n",
              "if (outputEl) {{\n",
              "    x.observe(outputEl, {childList: true});\n",
              "}}\n",
              "\n",
              "                        })                };                            </script>        </div>\n",
              "</body>\n",
              "</html>"
            ]
          },
          "metadata": {}
        }
      ]
    },
    {
      "cell_type": "code",
      "source": [
        "test_set_g2, results2 = plot_prediction_graph_plotly(\n",
        "    model_tune2, df, training_ds_rows, \n",
        "    window_size, None, None,\n",
        "    scaler=minmax_scaler,\n",
        "    variable_names=['Close'],\n",
        "    series_name=['test set (close)',\n",
        "                 'pred set (close)']\n",
        "    )"
      ],
      "metadata": {
        "colab": {
          "base_uri": "https://localhost:8080/",
          "height": 724
        },
        "id": "vOOFrvooko7_",
        "outputId": "053548e8-22e2-40e9-eb6b-e6253a054662"
      },
      "execution_count": 78,
      "outputs": [
        {
          "output_type": "stream",
          "name": "stdout",
          "text": [
            "dateset_to_forecast shape: (167, 1)\n",
            "expanded dateset_to_forecast shape: (1, 20, 1)\n",
            "forecast shape (147, 1, 1)\n",
            "forecast squeezed shape (147,)\n",
            "test_set.size (147, 1)\n",
            "results.ndim 1\n"
          ]
        },
        {
          "output_type": "display_data",
          "data": {
            "text/html": [
              "<html>\n",
              "<head><meta charset=\"utf-8\" /></head>\n",
              "<body>\n",
              "    <div>            <script src=\"https://cdnjs.cloudflare.com/ajax/libs/mathjax/2.7.5/MathJax.js?config=TeX-AMS-MML_SVG\"></script><script type=\"text/javascript\">if (window.MathJax) {MathJax.Hub.Config({SVG: {font: \"STIX-Web\"}});}</script>                <script type=\"text/javascript\">window.PlotlyConfig = {MathJaxConfig: 'local'};</script>\n",
              "        <script src=\"https://cdn.plot.ly/plotly-2.8.3.min.js\"></script>                <div id=\"388c8522-d36b-4ebb-851c-d6a20c31f95d\" class=\"plotly-graph-div\" style=\"height:600px; width:600px;\"></div>            <script type=\"text/javascript\">                                    window.PLOTLYENV=window.PLOTLYENV || {};                                    if (document.getElementById(\"388c8522-d36b-4ebb-851c-d6a20c31f95d\")) {                    Plotly.newPlot(                        \"388c8522-d36b-4ebb-851c-d6a20c31f95d\",                        [{\"mode\":\"lines\",\"name\":\"test set (close)\",\"x\":[\"2022-08-10T00:00:00\",\"2022-08-11T00:00:00\",\"2022-08-12T00:00:00\",\"2022-08-15T00:00:00\",\"2022-08-16T00:00:00\",\"2022-08-18T00:00:00\",\"2022-08-19T00:00:00\",\"2022-08-22T00:00:00\",\"2022-08-23T00:00:00\",\"2022-08-24T00:00:00\",\"2022-08-25T00:00:00\",\"2022-08-26T00:00:00\",\"2022-08-29T00:00:00\",\"2022-08-30T00:00:00\",\"2022-08-31T00:00:00\",\"2022-09-01T00:00:00\",\"2022-09-02T00:00:00\",\"2022-09-05T00:00:00\",\"2022-09-06T00:00:00\",\"2022-09-07T00:00:00\",\"2022-09-08T00:00:00\",\"2022-09-09T00:00:00\",\"2022-09-12T00:00:00\",\"2022-09-13T00:00:00\",\"2022-09-14T00:00:00\",\"2022-09-15T00:00:00\",\"2022-09-16T00:00:00\",\"2022-09-19T00:00:00\",\"2022-09-20T00:00:00\",\"2022-09-21T00:00:00\",\"2022-09-22T00:00:00\",\"2022-09-23T00:00:00\",\"2022-09-26T00:00:00\",\"2022-09-27T00:00:00\",\"2022-09-28T00:00:00\",\"2022-09-29T00:00:00\",\"2022-09-30T00:00:00\",\"2022-10-03T00:00:00\",\"2022-10-04T00:00:00\",\"2022-10-05T00:00:00\",\"2022-10-06T00:00:00\",\"2022-10-07T00:00:00\",\"2022-10-10T00:00:00\",\"2022-10-11T00:00:00\",\"2022-10-12T00:00:00\",\"2022-10-13T00:00:00\",\"2022-10-14T00:00:00\",\"2022-10-17T00:00:00\",\"2022-10-18T00:00:00\",\"2022-10-19T00:00:00\",\"2022-10-20T00:00:00\",\"2022-10-21T00:00:00\",\"2022-10-24T00:00:00\",\"2022-10-25T00:00:00\",\"2022-10-26T00:00:00\",\"2022-10-27T00:00:00\",\"2022-10-28T00:00:00\",\"2022-10-31T00:00:00\",\"2022-11-01T00:00:00\",\"2022-11-02T00:00:00\",\"2022-11-03T00:00:00\",\"2022-11-04T00:00:00\",\"2022-11-07T00:00:00\",\"2022-11-08T00:00:00\",\"2022-11-09T00:00:00\",\"2022-11-10T00:00:00\",\"2022-11-11T00:00:00\",\"2022-11-14T00:00:00\",\"2022-11-15T00:00:00\",\"2022-11-16T00:00:00\",\"2022-11-17T00:00:00\",\"2022-11-18T00:00:00\",\"2022-11-21T00:00:00\",\"2022-11-22T00:00:00\",\"2022-11-23T00:00:00\",\"2022-11-24T00:00:00\",\"2022-11-25T00:00:00\",\"2022-11-28T00:00:00\",\"2022-11-29T00:00:00\",\"2022-11-30T00:00:00\",\"2022-12-01T00:00:00\",\"2022-12-02T00:00:00\",\"2022-12-05T00:00:00\",\"2022-12-06T00:00:00\",\"2022-12-07T00:00:00\",\"2022-12-08T00:00:00\",\"2022-12-09T00:00:00\",\"2022-12-12T00:00:00\",\"2022-12-13T00:00:00\",\"2022-12-14T00:00:00\",\"2022-12-15T00:00:00\",\"2022-12-16T00:00:00\",\"2022-12-19T00:00:00\",\"2022-12-20T00:00:00\",\"2022-12-21T00:00:00\",\"2022-12-22T00:00:00\",\"2022-12-23T00:00:00\",\"2022-12-26T00:00:00\",\"2022-12-27T00:00:00\",\"2022-12-28T00:00:00\",\"2022-12-29T00:00:00\",\"2022-12-30T00:00:00\",\"2023-01-02T00:00:00\",\"2023-01-03T00:00:00\",\"2023-01-04T00:00:00\",\"2023-01-05T00:00:00\",\"2023-01-06T00:00:00\",\"2023-01-09T00:00:00\",\"2023-01-10T00:00:00\",\"2023-01-11T00:00:00\",\"2023-01-12T00:00:00\",\"2023-01-13T00:00:00\",\"2023-01-16T00:00:00\",\"2023-01-17T00:00:00\",\"2023-01-18T00:00:00\",\"2023-01-19T00:00:00\",\"2023-01-20T00:00:00\",\"2023-01-24T00:00:00\",\"2023-01-25T00:00:00\",\"2023-01-26T00:00:00\",\"2023-01-27T00:00:00\",\"2023-01-30T00:00:00\",\"2023-01-31T00:00:00\",\"2023-02-01T00:00:00\",\"2023-02-02T00:00:00\",\"2023-02-03T00:00:00\",\"2023-02-06T00:00:00\",\"2023-02-07T00:00:00\",\"2023-02-08T00:00:00\",\"2023-02-09T00:00:00\",\"2023-02-10T00:00:00\",\"2023-02-13T00:00:00\",\"2023-02-14T00:00:00\",\"2023-02-15T00:00:00\",\"2023-02-16T00:00:00\",\"2023-02-17T00:00:00\",\"2023-02-20T00:00:00\",\"2023-02-21T00:00:00\",\"2023-02-22T00:00:00\",\"2023-02-23T00:00:00\",\"2023-02-24T00:00:00\",\"2023-02-27T00:00:00\",\"2023-02-28T00:00:00\",\"2023-03-01T00:00:00\",\"2023-03-02T00:00:00\",\"2023-03-03T00:00:00\",\"2023-03-06T00:00:00\"],\"y\":[4560.0,4570.0,4550.0,4450.0,4410.0,4550.0,4600.0,4650.0,4660.0,4750.0,4570.0,4490.0,4520.0,4480.0,4560.0,4580.0,4600.0,4620.0,4510.0,4490.0,4560.0,4600.0,4540.0,4520.0,4480.0,4500.0,4410.0,4500.0,4480.0,4430.0,4430.0,4380.0,4460.0,4440.0,4470.0,4440.0,4460.0,4460.0,4440.0,4460.0,4430.0,4350.0,4420.0,4310.0,4340.0,4300.0,4290.0,4330.0,4250.0,4200.0,4350.0,4360.0,4410.0,4390.0,4370.0,4370.0,4450.0,4390.0,4420.0,4220.0,4130.0,4210.0,4280.0,4220.0,4190.0,4170.0,4150.0,4050.0,4050.0,4050.0,4040.0,4010.0,4030.0,4000.0,3970.0,4030.0,4030.0,3980.0,3980.0,4040.0,3960.0,4000.0,3840.0,3600.0,3680.0,3740.0,3650.0,3700.0,3750.0,3750.0,3670.0,3680.0,3720.0,3720.0,3790.0,3750.0,3780.0,3750.0,3810.0,3730.0,3780.0,3750.0,3800.0,3860.0,3820.0,3770.0,3710.0,3790.0,3830.0,3870.0,3860.0,3780.0,3850.0,3950.0,3930.0,3890.0,3870.0,3850.0,3840.0,3970.0,3960.0,3960.0,3850.0,3870.0,3890.0,3880.0,3880.0,3800.0,3840.0,3770.0,3800.0,3790.0,3800.0,3790.0,3770.0,3760.0,3820.0,3840.0,3860.0,3970.0,4040.0,3960.0,3880.0,3930.0,3880.0,3900.0,3880.0],\"type\":\"scatter\"},{\"mode\":\"lines\",\"name\":\"pred set (close)\",\"x\":[\"2022-08-10T00:00:00\",\"2022-08-11T00:00:00\",\"2022-08-12T00:00:00\",\"2022-08-15T00:00:00\",\"2022-08-16T00:00:00\",\"2022-08-18T00:00:00\",\"2022-08-19T00:00:00\",\"2022-08-22T00:00:00\",\"2022-08-23T00:00:00\",\"2022-08-24T00:00:00\",\"2022-08-25T00:00:00\",\"2022-08-26T00:00:00\",\"2022-08-29T00:00:00\",\"2022-08-30T00:00:00\",\"2022-08-31T00:00:00\",\"2022-09-01T00:00:00\",\"2022-09-02T00:00:00\",\"2022-09-05T00:00:00\",\"2022-09-06T00:00:00\",\"2022-09-07T00:00:00\",\"2022-09-08T00:00:00\",\"2022-09-09T00:00:00\",\"2022-09-12T00:00:00\",\"2022-09-13T00:00:00\",\"2022-09-14T00:00:00\",\"2022-09-15T00:00:00\",\"2022-09-16T00:00:00\",\"2022-09-19T00:00:00\",\"2022-09-20T00:00:00\",\"2022-09-21T00:00:00\",\"2022-09-22T00:00:00\",\"2022-09-23T00:00:00\",\"2022-09-26T00:00:00\",\"2022-09-27T00:00:00\",\"2022-09-28T00:00:00\",\"2022-09-29T00:00:00\",\"2022-09-30T00:00:00\",\"2022-10-03T00:00:00\",\"2022-10-04T00:00:00\",\"2022-10-05T00:00:00\",\"2022-10-06T00:00:00\",\"2022-10-07T00:00:00\",\"2022-10-10T00:00:00\",\"2022-10-11T00:00:00\",\"2022-10-12T00:00:00\",\"2022-10-13T00:00:00\",\"2022-10-14T00:00:00\",\"2022-10-17T00:00:00\",\"2022-10-18T00:00:00\",\"2022-10-19T00:00:00\",\"2022-10-20T00:00:00\",\"2022-10-21T00:00:00\",\"2022-10-24T00:00:00\",\"2022-10-25T00:00:00\",\"2022-10-26T00:00:00\",\"2022-10-27T00:00:00\",\"2022-10-28T00:00:00\",\"2022-10-31T00:00:00\",\"2022-11-01T00:00:00\",\"2022-11-02T00:00:00\",\"2022-11-03T00:00:00\",\"2022-11-04T00:00:00\",\"2022-11-07T00:00:00\",\"2022-11-08T00:00:00\",\"2022-11-09T00:00:00\",\"2022-11-10T00:00:00\",\"2022-11-11T00:00:00\",\"2022-11-14T00:00:00\",\"2022-11-15T00:00:00\",\"2022-11-16T00:00:00\",\"2022-11-17T00:00:00\",\"2022-11-18T00:00:00\",\"2022-11-21T00:00:00\",\"2022-11-22T00:00:00\",\"2022-11-23T00:00:00\",\"2022-11-24T00:00:00\",\"2022-11-25T00:00:00\",\"2022-11-28T00:00:00\",\"2022-11-29T00:00:00\",\"2022-11-30T00:00:00\",\"2022-12-01T00:00:00\",\"2022-12-02T00:00:00\",\"2022-12-05T00:00:00\",\"2022-12-06T00:00:00\",\"2022-12-07T00:00:00\",\"2022-12-08T00:00:00\",\"2022-12-09T00:00:00\",\"2022-12-12T00:00:00\",\"2022-12-13T00:00:00\",\"2022-12-14T00:00:00\",\"2022-12-15T00:00:00\",\"2022-12-16T00:00:00\",\"2022-12-19T00:00:00\",\"2022-12-20T00:00:00\",\"2022-12-21T00:00:00\",\"2022-12-22T00:00:00\",\"2022-12-23T00:00:00\",\"2022-12-26T00:00:00\",\"2022-12-27T00:00:00\",\"2022-12-28T00:00:00\",\"2022-12-29T00:00:00\",\"2022-12-30T00:00:00\",\"2023-01-02T00:00:00\",\"2023-01-03T00:00:00\",\"2023-01-04T00:00:00\",\"2023-01-05T00:00:00\",\"2023-01-06T00:00:00\",\"2023-01-09T00:00:00\",\"2023-01-10T00:00:00\",\"2023-01-11T00:00:00\",\"2023-01-12T00:00:00\",\"2023-01-13T00:00:00\",\"2023-01-16T00:00:00\",\"2023-01-17T00:00:00\",\"2023-01-18T00:00:00\",\"2023-01-19T00:00:00\",\"2023-01-20T00:00:00\",\"2023-01-24T00:00:00\",\"2023-01-25T00:00:00\",\"2023-01-26T00:00:00\",\"2023-01-27T00:00:00\",\"2023-01-30T00:00:00\",\"2023-01-31T00:00:00\",\"2023-02-01T00:00:00\",\"2023-02-02T00:00:00\",\"2023-02-03T00:00:00\",\"2023-02-06T00:00:00\",\"2023-02-07T00:00:00\",\"2023-02-08T00:00:00\",\"2023-02-09T00:00:00\",\"2023-02-10T00:00:00\",\"2023-02-13T00:00:00\",\"2023-02-14T00:00:00\",\"2023-02-15T00:00:00\",\"2023-02-16T00:00:00\",\"2023-02-17T00:00:00\",\"2023-02-20T00:00:00\",\"2023-02-21T00:00:00\",\"2023-02-22T00:00:00\",\"2023-02-23T00:00:00\",\"2023-02-24T00:00:00\",\"2023-02-27T00:00:00\",\"2023-02-28T00:00:00\",\"2023-03-01T00:00:00\",\"2023-03-02T00:00:00\",\"2023-03-03T00:00:00\",\"2023-03-06T00:00:00\"],\"y\":[4371.974609375,4401.85546875,4427.3984375,4447.95849609375,4462.98583984375,4472.30517578125,4478.14111328125,4483.59912109375,4491.13330078125,4500.39306640625,4512.0234375,4522.97216796875,4530.87255859375,4534.86279296875,4535.15478515625,4532.94775390625,4530.8037109375,4529.69482421875,4529.392578125,4528.48388671875,4526.50830078125,4524.47900390625,4523.2802734375,4522.7900390625,4522.458984375,4521.04736328125,4517.37109375,4511.4169921875,4504.48876953125,4497.8212890625,4490.3466796875,4483.7666015625,4476.5859375,4469.2509765625,4463.11767578125,4457.80029296875,4453.26806640625,4449.53662109375,4446.54736328125,4444.8740234375,4443.79541015625,4442.08984375,4438.509765625,4434.61474609375,4429.03759765625,4422.36083984375,4413.85693359375,4404.91796875,4395.1298828125,4384.8779296875,4373.3916015625,4362.85498046875,4355.64794921875,4351.6923828125,4350.92724609375,4351.59228515625,4353.2958984375,4356.60498046875,4360.806640625,4365.802734375,4367.30908203125,4363.029296875,4355.0234375,4345.5224609375,4336.78173828125,4326.96728515625,4316.337890625,4304.798828125,4290.51806640625,4274.45947265625,4257.55712890625,4238.93798828125,4220.140625,4201.6015625,4183.98095703125,4166.82861328125,4151.39599609375,4137.52880859375,4125.5625,4114.13818359375,4106.2265625,4099.54541015625,4092.95849609375,4083.28271484375,4064.8720703125,4037.439208984375,4004.300048828125,3969.07421875,3936.17138671875,3906.5087890625,3882.187744140625,3860.965087890625,3841.87255859375,3824.6171875,3810.668701171875,3802.453369140625,3797.452392578125,3796.60791015625,3797.476318359375,3801.012939453125,3803.373291015625,3807.033935546875,3808.7880859375,3813.30859375,3821.217529296875,3830.43310546875,3838.738525390625,3843.104248046875,3844.78857421875,3846.277587890625,3851.29052734375,3859.463134765625,3866.82763671875,3873.887451171875,3883.26953125,3895.111083984375,3907.771728515625,3919.07275390625,3927.94384765625,3933.68798828125,3940.606201171875,3948.91162109375,3958.506103515625,3965.744873046875,3970.27734375,3973.20166015625,3975.2001953125,3976.50146484375,3974.189208984375,3969.839599609375,3961.62353515625,3952.276123046875,3941.83740234375,3931.216552734375,3920.319091796875,3909.968505859375,3899.74560546875,3891.401611328125,3886.191650390625,3885.169189453125,3889.269287109375,3900.03857421875,3914.445556640625,3928.941162109375,3941.80712890625,3951.990478515625,3960.178466796875],\"type\":\"scatter\"}],                        {\"template\":{\"data\":{\"bar\":[{\"error_x\":{\"color\":\"#2a3f5f\"},\"error_y\":{\"color\":\"#2a3f5f\"},\"marker\":{\"line\":{\"color\":\"#E5ECF6\",\"width\":0.5},\"pattern\":{\"fillmode\":\"overlay\",\"size\":10,\"solidity\":0.2}},\"type\":\"bar\"}],\"barpolar\":[{\"marker\":{\"line\":{\"color\":\"#E5ECF6\",\"width\":0.5},\"pattern\":{\"fillmode\":\"overlay\",\"size\":10,\"solidity\":0.2}},\"type\":\"barpolar\"}],\"carpet\":[{\"aaxis\":{\"endlinecolor\":\"#2a3f5f\",\"gridcolor\":\"white\",\"linecolor\":\"white\",\"minorgridcolor\":\"white\",\"startlinecolor\":\"#2a3f5f\"},\"baxis\":{\"endlinecolor\":\"#2a3f5f\",\"gridcolor\":\"white\",\"linecolor\":\"white\",\"minorgridcolor\":\"white\",\"startlinecolor\":\"#2a3f5f\"},\"type\":\"carpet\"}],\"choropleth\":[{\"colorbar\":{\"outlinewidth\":0,\"ticks\":\"\"},\"type\":\"choropleth\"}],\"contour\":[{\"colorbar\":{\"outlinewidth\":0,\"ticks\":\"\"},\"colorscale\":[[0.0,\"#0d0887\"],[0.1111111111111111,\"#46039f\"],[0.2222222222222222,\"#7201a8\"],[0.3333333333333333,\"#9c179e\"],[0.4444444444444444,\"#bd3786\"],[0.5555555555555556,\"#d8576b\"],[0.6666666666666666,\"#ed7953\"],[0.7777777777777778,\"#fb9f3a\"],[0.8888888888888888,\"#fdca26\"],[1.0,\"#f0f921\"]],\"type\":\"contour\"}],\"contourcarpet\":[{\"colorbar\":{\"outlinewidth\":0,\"ticks\":\"\"},\"type\":\"contourcarpet\"}],\"heatmap\":[{\"colorbar\":{\"outlinewidth\":0,\"ticks\":\"\"},\"colorscale\":[[0.0,\"#0d0887\"],[0.1111111111111111,\"#46039f\"],[0.2222222222222222,\"#7201a8\"],[0.3333333333333333,\"#9c179e\"],[0.4444444444444444,\"#bd3786\"],[0.5555555555555556,\"#d8576b\"],[0.6666666666666666,\"#ed7953\"],[0.7777777777777778,\"#fb9f3a\"],[0.8888888888888888,\"#fdca26\"],[1.0,\"#f0f921\"]],\"type\":\"heatmap\"}],\"heatmapgl\":[{\"colorbar\":{\"outlinewidth\":0,\"ticks\":\"\"},\"colorscale\":[[0.0,\"#0d0887\"],[0.1111111111111111,\"#46039f\"],[0.2222222222222222,\"#7201a8\"],[0.3333333333333333,\"#9c179e\"],[0.4444444444444444,\"#bd3786\"],[0.5555555555555556,\"#d8576b\"],[0.6666666666666666,\"#ed7953\"],[0.7777777777777778,\"#fb9f3a\"],[0.8888888888888888,\"#fdca26\"],[1.0,\"#f0f921\"]],\"type\":\"heatmapgl\"}],\"histogram\":[{\"marker\":{\"pattern\":{\"fillmode\":\"overlay\",\"size\":10,\"solidity\":0.2}},\"type\":\"histogram\"}],\"histogram2d\":[{\"colorbar\":{\"outlinewidth\":0,\"ticks\":\"\"},\"colorscale\":[[0.0,\"#0d0887\"],[0.1111111111111111,\"#46039f\"],[0.2222222222222222,\"#7201a8\"],[0.3333333333333333,\"#9c179e\"],[0.4444444444444444,\"#bd3786\"],[0.5555555555555556,\"#d8576b\"],[0.6666666666666666,\"#ed7953\"],[0.7777777777777778,\"#fb9f3a\"],[0.8888888888888888,\"#fdca26\"],[1.0,\"#f0f921\"]],\"type\":\"histogram2d\"}],\"histogram2dcontour\":[{\"colorbar\":{\"outlinewidth\":0,\"ticks\":\"\"},\"colorscale\":[[0.0,\"#0d0887\"],[0.1111111111111111,\"#46039f\"],[0.2222222222222222,\"#7201a8\"],[0.3333333333333333,\"#9c179e\"],[0.4444444444444444,\"#bd3786\"],[0.5555555555555556,\"#d8576b\"],[0.6666666666666666,\"#ed7953\"],[0.7777777777777778,\"#fb9f3a\"],[0.8888888888888888,\"#fdca26\"],[1.0,\"#f0f921\"]],\"type\":\"histogram2dcontour\"}],\"mesh3d\":[{\"colorbar\":{\"outlinewidth\":0,\"ticks\":\"\"},\"type\":\"mesh3d\"}],\"parcoords\":[{\"line\":{\"colorbar\":{\"outlinewidth\":0,\"ticks\":\"\"}},\"type\":\"parcoords\"}],\"pie\":[{\"automargin\":true,\"type\":\"pie\"}],\"scatter\":[{\"marker\":{\"colorbar\":{\"outlinewidth\":0,\"ticks\":\"\"}},\"type\":\"scatter\"}],\"scatter3d\":[{\"line\":{\"colorbar\":{\"outlinewidth\":0,\"ticks\":\"\"}},\"marker\":{\"colorbar\":{\"outlinewidth\":0,\"ticks\":\"\"}},\"type\":\"scatter3d\"}],\"scattercarpet\":[{\"marker\":{\"colorbar\":{\"outlinewidth\":0,\"ticks\":\"\"}},\"type\":\"scattercarpet\"}],\"scattergeo\":[{\"marker\":{\"colorbar\":{\"outlinewidth\":0,\"ticks\":\"\"}},\"type\":\"scattergeo\"}],\"scattergl\":[{\"marker\":{\"colorbar\":{\"outlinewidth\":0,\"ticks\":\"\"}},\"type\":\"scattergl\"}],\"scattermapbox\":[{\"marker\":{\"colorbar\":{\"outlinewidth\":0,\"ticks\":\"\"}},\"type\":\"scattermapbox\"}],\"scatterpolar\":[{\"marker\":{\"colorbar\":{\"outlinewidth\":0,\"ticks\":\"\"}},\"type\":\"scatterpolar\"}],\"scatterpolargl\":[{\"marker\":{\"colorbar\":{\"outlinewidth\":0,\"ticks\":\"\"}},\"type\":\"scatterpolargl\"}],\"scatterternary\":[{\"marker\":{\"colorbar\":{\"outlinewidth\":0,\"ticks\":\"\"}},\"type\":\"scatterternary\"}],\"surface\":[{\"colorbar\":{\"outlinewidth\":0,\"ticks\":\"\"},\"colorscale\":[[0.0,\"#0d0887\"],[0.1111111111111111,\"#46039f\"],[0.2222222222222222,\"#7201a8\"],[0.3333333333333333,\"#9c179e\"],[0.4444444444444444,\"#bd3786\"],[0.5555555555555556,\"#d8576b\"],[0.6666666666666666,\"#ed7953\"],[0.7777777777777778,\"#fb9f3a\"],[0.8888888888888888,\"#fdca26\"],[1.0,\"#f0f921\"]],\"type\":\"surface\"}],\"table\":[{\"cells\":{\"fill\":{\"color\":\"#EBF0F8\"},\"line\":{\"color\":\"white\"}},\"header\":{\"fill\":{\"color\":\"#C8D4E3\"},\"line\":{\"color\":\"white\"}},\"type\":\"table\"}]},\"layout\":{\"annotationdefaults\":{\"arrowcolor\":\"#2a3f5f\",\"arrowhead\":0,\"arrowwidth\":1},\"autotypenumbers\":\"strict\",\"coloraxis\":{\"colorbar\":{\"outlinewidth\":0,\"ticks\":\"\"}},\"colorscale\":{\"diverging\":[[0,\"#8e0152\"],[0.1,\"#c51b7d\"],[0.2,\"#de77ae\"],[0.3,\"#f1b6da\"],[0.4,\"#fde0ef\"],[0.5,\"#f7f7f7\"],[0.6,\"#e6f5d0\"],[0.7,\"#b8e186\"],[0.8,\"#7fbc41\"],[0.9,\"#4d9221\"],[1,\"#276419\"]],\"sequential\":[[0.0,\"#0d0887\"],[0.1111111111111111,\"#46039f\"],[0.2222222222222222,\"#7201a8\"],[0.3333333333333333,\"#9c179e\"],[0.4444444444444444,\"#bd3786\"],[0.5555555555555556,\"#d8576b\"],[0.6666666666666666,\"#ed7953\"],[0.7777777777777778,\"#fb9f3a\"],[0.8888888888888888,\"#fdca26\"],[1.0,\"#f0f921\"]],\"sequentialminus\":[[0.0,\"#0d0887\"],[0.1111111111111111,\"#46039f\"],[0.2222222222222222,\"#7201a8\"],[0.3333333333333333,\"#9c179e\"],[0.4444444444444444,\"#bd3786\"],[0.5555555555555556,\"#d8576b\"],[0.6666666666666666,\"#ed7953\"],[0.7777777777777778,\"#fb9f3a\"],[0.8888888888888888,\"#fdca26\"],[1.0,\"#f0f921\"]]},\"colorway\":[\"#636efa\",\"#EF553B\",\"#00cc96\",\"#ab63fa\",\"#FFA15A\",\"#19d3f3\",\"#FF6692\",\"#B6E880\",\"#FF97FF\",\"#FECB52\"],\"font\":{\"color\":\"#2a3f5f\"},\"geo\":{\"bgcolor\":\"white\",\"lakecolor\":\"white\",\"landcolor\":\"#E5ECF6\",\"showlakes\":true,\"showland\":true,\"subunitcolor\":\"white\"},\"hoverlabel\":{\"align\":\"left\"},\"hovermode\":\"closest\",\"mapbox\":{\"style\":\"light\"},\"paper_bgcolor\":\"white\",\"plot_bgcolor\":\"#E5ECF6\",\"polar\":{\"angularaxis\":{\"gridcolor\":\"white\",\"linecolor\":\"white\",\"ticks\":\"\"},\"bgcolor\":\"#E5ECF6\",\"radialaxis\":{\"gridcolor\":\"white\",\"linecolor\":\"white\",\"ticks\":\"\"}},\"scene\":{\"xaxis\":{\"backgroundcolor\":\"#E5ECF6\",\"gridcolor\":\"white\",\"gridwidth\":2,\"linecolor\":\"white\",\"showbackground\":true,\"ticks\":\"\",\"zerolinecolor\":\"white\"},\"yaxis\":{\"backgroundcolor\":\"#E5ECF6\",\"gridcolor\":\"white\",\"gridwidth\":2,\"linecolor\":\"white\",\"showbackground\":true,\"ticks\":\"\",\"zerolinecolor\":\"white\"},\"zaxis\":{\"backgroundcolor\":\"#E5ECF6\",\"gridcolor\":\"white\",\"gridwidth\":2,\"linecolor\":\"white\",\"showbackground\":true,\"ticks\":\"\",\"zerolinecolor\":\"white\"}},\"shapedefaults\":{\"line\":{\"color\":\"#2a3f5f\"}},\"ternary\":{\"aaxis\":{\"gridcolor\":\"white\",\"linecolor\":\"white\",\"ticks\":\"\"},\"baxis\":{\"gridcolor\":\"white\",\"linecolor\":\"white\",\"ticks\":\"\"},\"bgcolor\":\"#E5ECF6\",\"caxis\":{\"gridcolor\":\"white\",\"linecolor\":\"white\",\"ticks\":\"\"}},\"title\":{\"x\":0.05},\"xaxis\":{\"automargin\":true,\"gridcolor\":\"white\",\"linecolor\":\"white\",\"ticks\":\"\",\"title\":{\"standoff\":15},\"zerolinecolor\":\"white\",\"zerolinewidth\":2},\"yaxis\":{\"automargin\":true,\"gridcolor\":\"white\",\"linecolor\":\"white\",\"ticks\":\"\",\"title\":{\"standoff\":15},\"zerolinecolor\":\"white\",\"zerolinewidth\":2}}},\"margin\":{\"l\":50,\"r\":50,\"b\":100,\"t\":100,\"pad\":4},\"title\":{\"text\":\"\"},\"xaxis\":{\"title\":{\"text\":\"Time\"}},\"yaxis\":{\"title\":{\"text\":\"Value\"}},\"autosize\":false,\"width\":600,\"height\":600,\"paper_bgcolor\":\"LightSteelBlue\",\"showlegend\":false},                        {\"responsive\": true}                    ).then(function(){\n",
              "                            \n",
              "var gd = document.getElementById('388c8522-d36b-4ebb-851c-d6a20c31f95d');\n",
              "var x = new MutationObserver(function (mutations, observer) {{\n",
              "        var display = window.getComputedStyle(gd).display;\n",
              "        if (!display || display === 'none') {{\n",
              "            console.log([gd, 'removed!']);\n",
              "            Plotly.purge(gd);\n",
              "            observer.disconnect();\n",
              "        }}\n",
              "}});\n",
              "\n",
              "// Listen for the removal of the full notebook cells\n",
              "var notebookContainer = gd.closest('#notebook-container');\n",
              "if (notebookContainer) {{\n",
              "    x.observe(notebookContainer, {childList: true});\n",
              "}}\n",
              "\n",
              "// Listen for the clearing of the current output cell\n",
              "var outputEl = gd.closest('.output');\n",
              "if (outputEl) {{\n",
              "    x.observe(outputEl, {childList: true});\n",
              "}}\n",
              "\n",
              "                        })                };                            </script>        </div>\n",
              "</body>\n",
              "</html>"
            ]
          },
          "metadata": {}
        }
      ]
    },
    {
      "cell_type": "code",
      "source": [
        "print(history_build1.history['loss'][-1])\n",
        "print(tf.keras.metrics.mean_squared_error(test_set_g2[:,-1], results2[:,-1]).numpy())\n",
        "print(tf.keras.metrics.mean_absolute_error(test_set_g2[:,-1], results2[:,-1]).numpy())"
      ],
      "metadata": {
        "colab": {
          "base_uri": "https://localhost:8080/"
        },
        "id": "xq2uaW4Mo-Kn",
        "outputId": "3b7b5924-a422-4aca-8cd2-0a97dad0d388"
      },
      "execution_count": 79,
      "outputs": [
        {
          "output_type": "stream",
          "name": "stdout",
          "text": [
            "0.00625664321705699\n",
            "16564.664\n",
            "97.59266\n"
          ]
        }
      ]
    },
    {
      "cell_type": "markdown",
      "source": [
        "## tomorrow pred"
      ],
      "metadata": {
        "id": "1P0JIudnpChA"
      }
    },
    {
      "cell_type": "code",
      "source": [
        "test_set = tf.convert_to_tensor(df_test[['Close']])"
      ],
      "metadata": {
        "id": "W04oYQ6dpEB-"
      },
      "execution_count": 80,
      "outputs": []
    },
    {
      "cell_type": "code",
      "source": [
        "with np.printoptions(precision=0, suppress=True):\n",
        "    print(test_set[-1].numpy())"
      ],
      "metadata": {
        "colab": {
          "base_uri": "https://localhost:8080/"
        },
        "id": "RBcz_9FgpJPA",
        "outputId": "bc79f1cd-6c95-45b0-d832-5a6c878e2dc4"
      },
      "execution_count": 81,
      "outputs": [
        {
          "output_type": "stream",
          "name": "stdout",
          "text": [
            "[3880.]\n"
          ]
        }
      ]
    },
    {
      "cell_type": "code",
      "source": [
        "test_set_normalized = minmax_scaler.transform(test_set)\n",
        "test_set_normalized[-1]"
      ],
      "metadata": {
        "colab": {
          "base_uri": "https://localhost:8080/"
        },
        "id": "xMCRYsjupNGU",
        "outputId": "6abab2cc-cfd9-42c7-cca5-2bbfdb4ccdc9"
      },
      "execution_count": 82,
      "outputs": [
        {
          "output_type": "execute_result",
          "data": {
            "text/plain": [
              "array([0.19457014])"
            ]
          },
          "metadata": {},
          "execution_count": 82
        }
      ]
    },
    {
      "cell_type": "code",
      "source": [
        "test_set_normalized.shape"
      ],
      "metadata": {
        "colab": {
          "base_uri": "https://localhost:8080/"
        },
        "id": "ZjgHsvlRpXHW",
        "outputId": "18cf0a05-6246-4c65-c827-f0cfd20a612e"
      },
      "execution_count": 83,
      "outputs": [
        {
          "output_type": "execute_result",
          "data": {
            "text/plain": [
              "(147, 1)"
            ]
          },
          "metadata": {},
          "execution_count": 83
        }
      ]
    },
    {
      "cell_type": "code",
      "source": [
        "np.expand_dims(test_set_normalized[-window_size:], axis=0).shape"
      ],
      "metadata": {
        "colab": {
          "base_uri": "https://localhost:8080/"
        },
        "id": "Yl-8VQXzpbX4",
        "outputId": "07498e96-3d89-4f7c-fe73-cb22faa64153"
      },
      "execution_count": 84,
      "outputs": [
        {
          "output_type": "execute_result",
          "data": {
            "text/plain": [
              "(1, 20, 1)"
            ]
          },
          "metadata": {},
          "execution_count": 84
        }
      ]
    },
    {
      "cell_type": "code",
      "source": [
        "tomorro_pred = minmax_scaler.inverse_transform(model_tune2.predict(\n",
        "    np.expand_dims(test_set_normalized[-window_size:], axis=0)))"
      ],
      "metadata": {
        "colab": {
          "base_uri": "https://localhost:8080/"
        },
        "id": "CEHlnd_DpSK9",
        "outputId": "f11a1f42-a7cd-414b-cfed-be0fcf540b07"
      },
      "execution_count": 85,
      "outputs": [
        {
          "output_type": "stream",
          "name": "stdout",
          "text": [
            "1/1 [==============================] - 0s 23ms/step\n"
          ]
        }
      ]
    },
    {
      "cell_type": "code",
      "source": [
        "with np.printoptions(precision=0, suppress=True):\n",
        "    print(tomorro_pred)\n",
        "\n",
        "#for elem in tomorro_pred[0]:\n",
        "#  print('{:.1f}'.format(elem))"
      ],
      "metadata": {
        "colab": {
          "base_uri": "https://localhost:8080/"
        },
        "id": "ThII9_E2pfm6",
        "outputId": "29df9421-8bbb-4873-c558-99dfb43a813b"
      },
      "execution_count": 86,
      "outputs": [
        {
          "output_type": "stream",
          "name": "stdout",
          "text": [
            "[[3966.]]\n"
          ]
        }
      ]
    },
    {
      "cell_type": "markdown",
      "source": [
        "## save model\n",
        "\n",
        "there are two method to save a model:\n",
        "\n",
        "by calling `save()` function\n",
        "by calling `save_weights()` function"
      ],
      "metadata": {
        "id": "N9y3lkJHplmj"
      }
    },
    {
      "cell_type": "code",
      "source": [
        "\n",
        "model_tune2.save('./model/lstm01')"
      ],
      "metadata": {
        "colab": {
          "base_uri": "https://localhost:8080/"
        },
        "id": "g-bXH14kpo_m",
        "outputId": "1a6d1b0b-d221-4147-dfd0-3e634b0034d0"
      },
      "execution_count": 87,
      "outputs": [
        {
          "output_type": "stream",
          "name": "stderr",
          "text": [
            "WARNING:absl:Found untraced functions such as _update_step_xla, _jit_compiled_convolution_op, lstm_cell_layer_call_fn, lstm_cell_layer_call_and_return_conditional_losses, lstm_cell_1_layer_call_fn while saving (showing 5 of 6). These functions will not be directly callable after loading.\n"
          ]
        }
      ]
    },
    {
      "cell_type": "code",
      "source": [
        "model_tune2.save_weights('./weights/lstm01')"
      ],
      "metadata": {
        "id": "QjQJdDR6psEx"
      },
      "execution_count": 88,
      "outputs": []
    },
    {
      "cell_type": "markdown",
      "source": [
        "## load model\n",
        "\n",
        "by calling `tf.keras.models.load_model`"
      ],
      "metadata": {
        "id": "_s2Xpu9wptq4"
      }
    },
    {
      "cell_type": "code",
      "source": [
        "model_loaded0 = tf.keras.models.load_model('./model/lstm01')"
      ],
      "metadata": {
        "id": "AjMbhA2Upwpe"
      },
      "execution_count": 89,
      "outputs": []
    },
    {
      "cell_type": "code",
      "source": [
        "tomorrow_pred = minmax_scaler.inverse_transform(model_loaded0.predict(\n",
        "    np.expand_dims(test_set_normalized[-window_size:], axis=0)))"
      ],
      "metadata": {
        "colab": {
          "base_uri": "https://localhost:8080/"
        },
        "id": "tAqtoOMjpzxD",
        "outputId": "8529a7ea-ed16-4b1a-f414-592bfa017fb7"
      },
      "execution_count": 90,
      "outputs": [
        {
          "output_type": "stream",
          "name": "stdout",
          "text": [
            "1/1 [==============================] - 0s 307ms/step\n"
          ]
        }
      ]
    },
    {
      "cell_type": "code",
      "source": [
        "for elem in tomorro_pred[0]:\n",
        "  print('{:.0f}'.format(elem))"
      ],
      "metadata": {
        "colab": {
          "base_uri": "https://localhost:8080/"
        },
        "id": "EgdGDHRpp36M",
        "outputId": "80b44f14-1935-485e-ab75-f60a6bb955f0"
      },
      "execution_count": 91,
      "outputs": [
        {
          "output_type": "stream",
          "name": "stdout",
          "text": [
            "3966\n"
          ]
        }
      ]
    },
    {
      "cell_type": "markdown",
      "source": [
        "### by loading weights"
      ],
      "metadata": {
        "id": "N6OfV_msp50U"
      }
    },
    {
      "cell_type": "code",
      "source": [
        "model_loaded = TS_LSTM_Model(window_size=window_size, \n",
        "                             feature_size=training_set_normalized.shape[1]\n",
        "                             )"
      ],
      "metadata": {
        "id": "OdXSzIfUp6kM"
      },
      "execution_count": 93,
      "outputs": []
    },
    {
      "cell_type": "code",
      "source": [
        "\n",
        "model_loaded.load_weights('./weights/lstm01')"
      ],
      "metadata": {
        "colab": {
          "base_uri": "https://localhost:8080/"
        },
        "id": "KkR_xNMuqGDb",
        "outputId": "7d6d8e0a-c1a5-4cb0-d5be-c282e87f69e9"
      },
      "execution_count": 94,
      "outputs": [
        {
          "output_type": "execute_result",
          "data": {
            "text/plain": [
              "<tensorflow.python.checkpoint.checkpoint.CheckpointLoadStatus at 0x7f3604487df0>"
            ]
          },
          "metadata": {},
          "execution_count": 94
        }
      ]
    },
    {
      "cell_type": "code",
      "source": [
        "tomorrow_pred = minmax_scaler.inverse_transform(model_loaded.predict(\n",
        "    np.expand_dims(test_set_normalized[-window_size:], axis=0)))\n",
        "     "
      ],
      "metadata": {
        "colab": {
          "base_uri": "https://localhost:8080/"
        },
        "id": "mD53nAT6qH6v",
        "outputId": "2ee08ceb-9e57-4401-9d6c-60450ace8b1f"
      },
      "execution_count": 95,
      "outputs": [
        {
          "output_type": "stream",
          "name": "stdout",
          "text": [
            "1/1 [==============================] - 1s 1s/step\n"
          ]
        }
      ]
    },
    {
      "cell_type": "code",
      "source": [
        "\n",
        "for elem in tomorrow_pred[0]:\n",
        "  print('{:.0f}'.format(elem))"
      ],
      "metadata": {
        "colab": {
          "base_uri": "https://localhost:8080/"
        },
        "id": "jcrrng2OqMFv",
        "outputId": "eacb62f5-979c-4a62-cb28-0e7e2a82ecb8"
      },
      "execution_count": 96,
      "outputs": [
        {
          "output_type": "stream",
          "name": "stdout",
          "text": [
            "3966\n"
          ]
        }
      ]
    },
    {
      "cell_type": "markdown",
      "source": [
        "## setting batch size to 16 and see the result"
      ],
      "metadata": {
        "id": "2Y61X3mwn74C"
      }
    },
    {
      "cell_type": "markdown",
      "source": [
        "## Adding a Callback for Early Stopping\n",
        "\n",
        "also setting batch size to 16 and see the result"
      ],
      "metadata": {
        "id": "-KgJRUTondjQ"
      }
    },
    {
      "cell_type": "code",
      "source": [
        "window_size = 20\n",
        "batch_size = 16\n",
        "shuffle_buffer_size = 1000"
      ],
      "metadata": {
        "id": "C4oJiX-mngy0"
      },
      "execution_count": 103,
      "outputs": []
    },
    {
      "cell_type": "code",
      "source": [
        "# Generate the dataset windows\n",
        "windowed_training_ds_16 = windowed_dataset(training_set_normalized, window_size, \n",
        "                           batch_size, shuffle_buffer_size)\n",
        "     "
      ],
      "metadata": {
        "id": "4-DZw2SVpN4l"
      },
      "execution_count": 104,
      "outputs": []
    },
    {
      "cell_type": "code",
      "source": [
        "# Reset states generated by Keras\n",
        "tf.keras.backend.clear_session()\n",
        "\n",
        "model_tune2.set_weights(init_weights)"
      ],
      "metadata": {
        "id": "KQLSdDWaooXv"
      },
      "execution_count": 107,
      "outputs": []
    },
    {
      "cell_type": "code",
      "source": [
        "# set built parameter\n",
        "\n",
        "print(training_set.shape)\n",
        "model_tune2.build(input_shape = (1, window_size, training_set_normalized.shape[1]))\n",
        "#model_tune2.summary()\n",
        "# Set the training parameters\n",
        "model_tune2.compile(loss=tf.keras.losses.Huber(), \n",
        "                    optimizer=tf.keras.optimizers.SGD(\n",
        "                        learning_rate=learning_rate_value_all,\n",
        "                        momentum=0.9))"
      ],
      "metadata": {
        "colab": {
          "base_uri": "https://localhost:8080/"
        },
        "id": "A3FtvlZroz7Y",
        "outputId": "3e57077e-8690-4d1e-87a1-ee7a134c4cb4"
      },
      "execution_count": 108,
      "outputs": [
        {
          "output_type": "stream",
          "name": "stdout",
          "text": [
            "(587,)\n"
          ]
        }
      ]
    },
    {
      "cell_type": "code",
      "source": [
        "# Set the learning rate scheduler\n",
        "lr_schedule = tf.keras.callbacks.LearningRateScheduler(\n",
        "    lambda epoch: learning_rate_value_all * 10**(epoch / 20))\n",
        "\n",
        "# Train the model\n",
        "history_tune2 = model_tune2.fit(windowed_training_ds_16, epochs=epoch_value, \n",
        "                                callbacks=[lr_schedule],\n",
        "                                verbose=0)"
      ],
      "metadata": {
        "id": "lWUHSYvQpG9A"
      },
      "execution_count": 109,
      "outputs": []
    },
    {
      "cell_type": "code",
      "source": [
        "plot_loss_inlog_plotly(history_tune2, epoch_value, lrs_value=learning_rate_value_all)"
      ],
      "metadata": {
        "colab": {
          "base_uri": "https://localhost:8080/",
          "height": 617
        },
        "id": "dROzTPsSpu4Q",
        "outputId": "f0e28b8e-e326-4699-c9af-af23a7a4340c"
      },
      "execution_count": 110,
      "outputs": [
        {
          "output_type": "display_data",
          "data": {
            "text/html": [
              "<html>\n",
              "<head><meta charset=\"utf-8\" /></head>\n",
              "<body>\n",
              "    <div>            <script src=\"https://cdnjs.cloudflare.com/ajax/libs/mathjax/2.7.5/MathJax.js?config=TeX-AMS-MML_SVG\"></script><script type=\"text/javascript\">if (window.MathJax) {MathJax.Hub.Config({SVG: {font: \"STIX-Web\"}});}</script>                <script type=\"text/javascript\">window.PlotlyConfig = {MathJaxConfig: 'local'};</script>\n",
              "        <script src=\"https://cdn.plot.ly/plotly-2.8.3.min.js\"></script>                <div id=\"805ecff4-6564-4036-b43f-abb863bc5cea\" class=\"plotly-graph-div\" style=\"height:600px; width:600px;\"></div>            <script type=\"text/javascript\">                                    window.PLOTLYENV=window.PLOTLYENV || {};                                    if (document.getElementById(\"805ecff4-6564-4036-b43f-abb863bc5cea\")) {                    Plotly.newPlot(                        \"805ecff4-6564-4036-b43f-abb863bc5cea\",                        [{\"mode\":\"lines\",\"x\":[1e-06,1.1220184543019633e-06,1.2589254117941672e-06,1.4125375446227544e-06,1.5848931924611134e-06,1.7782794100389227e-06,1.9952623149688796e-06,2.2387211385683393e-06,2.51188643150958e-06,2.8183829312644534e-06,3.162277660168379e-06,3.548133892335755e-06,3.981071705534972e-06,4.466835921509631e-06,5.011872336272722e-06,5.623413251903491e-06,6.309573444801933e-06,7.079457843841378e-06,7.943282347242815e-06,8.912509381337454e-06,9.999999999999999e-06,1.1220184543019635e-05,1.2589254117941675e-05,1.412537544622754e-05,1.584893192461113e-05,1.778279410038923e-05,1.9952623149688796e-05,2.23872113856834e-05,2.5118864315095795e-05,2.8183829312644532e-05,3.162277660168379e-05,3.548133892335755e-05,3.9810717055349735e-05,4.46683592150963e-05,5.0118723362727224e-05,5.623413251903491e-05,6.309573444801932e-05,7.07945784384138e-05,7.943282347242814e-05,8.912509381337455e-05,9.999999999999999e-05,0.0001122018454301963,0.00012589254117941674,0.00014125375446227538,0.00015848931924611142,0.00017782794100389227,0.00019952623149688788,0.000223872113856834,0.00025118864315095795,0.00028183829312644545,0.00031622776601683794,0.0003548133892335753,0.0003981071705534973,0.000446683592150963,0.0005011872336272724,0.000562341325190349,0.000630957344480193,0.000707945784384138,0.0007943282347242812,0.0008912509381337458,0.001,0.0011220184543019628,0.0012589254117941675,0.001412537544622754,0.0015848931924611139,0.0017782794100389228,0.001995262314968879,0.00223872113856834,0.00251188643150958,0.002818382931264455,0.0031622776601683794,0.003548133892335753,0.003981071705534973,0.0044668359215096305,0.005011872336272725,0.005623413251903491,0.00630957344480193,0.00707945784384138,0.007943282347242814,0.008912509381337459,0.01,0.011220184543019629,0.012589254117941661,0.014125375446227554,0.01584893192461114,0.017782794100389226,0.01995262314968879,0.022387211385683378,0.025118864315095822,0.02818382931264455,0.03162277660168379,0.03548133892335753,0.039810717055349686,0.04466835921509634,0.05011872336272725,0.056234132519034905,0.0630957344480193,0.07079457843841373,0.07943282347242821,0.08912509381337459],\"y\":[0.1092471033334732,0.10921706259250641,0.10917893052101135,0.1091376543045044,0.10909086465835571,0.10903839766979218,0.10897985845804214,0.10891380906105042,0.10883971303701401,0.10875649005174637,0.1086643859744072,0.10856238007545471,0.1084442287683487,0.10831447690725327,0.1081676110625267,0.10800271481275558,0.1078190952539444,0.10761414468288422,0.10738398879766464,0.10712651163339615,0.10684134066104889,0.10652190446853638,0.10616178065538406,0.10576748102903366,0.10531971603631973,0.10481666028499603,0.10426340997219086,0.10363965481519699,0.10295150429010391,0.10218703746795654,0.1013304591178894,0.10038337856531143,0.09934139251708984,0.09815610200166702,0.09686828404664993,0.0953965038061142,0.09377531707286835,0.09197045862674713,0.08995300531387329,0.08773612976074219,0.08519776910543442,0.08242221176624298,0.07931910455226898,0.07583840936422348,0.071989506483078,0.06765589118003845,0.06283093988895416,0.057538874447345734,0.051678646355867386,0.0453302375972271,0.03862817957997322,0.0317629873752594,0.02511342242360115,0.01930920220911503,0.014641997404396534,0.011403712444007397,0.00949927419424057,0.008633124642074108,0.008303267881274223,0.008221263997256756,0.00819643959403038,0.00820385105907917,0.008129367604851723,0.008103771135210991,0.00807270035147667,0.00801166333258152,0.007984263822436333,0.007953714579343796,0.00795450434088707,0.00787533912807703,0.007828214205801487,0.007879200391471386,0.007773741614073515,0.007727037649601698,0.007635044399648905,0.007616526447236538,0.007577343378216028,0.007566390559077263,0.007481072098016739,0.007572276052087545,0.007215311285108328,0.00707580428570509,0.007155109662562609,0.007133621722459793,0.006732487119734287,0.006742066703736782,0.006694167386740446,0.006691026035696268,0.006905559450387955,0.006175412330776453,0.006242010276764631,0.005988745484501123,0.006041654851287603,0.006118148099631071,0.005442358087748289,0.0053399247117340565,0.005223331041634083,0.004902671556919813,0.005915758665651083,0.006171981804072857],\"type\":\"scatter\"}],                        {\"template\":{\"data\":{\"bar\":[{\"error_x\":{\"color\":\"#2a3f5f\"},\"error_y\":{\"color\":\"#2a3f5f\"},\"marker\":{\"line\":{\"color\":\"#E5ECF6\",\"width\":0.5},\"pattern\":{\"fillmode\":\"overlay\",\"size\":10,\"solidity\":0.2}},\"type\":\"bar\"}],\"barpolar\":[{\"marker\":{\"line\":{\"color\":\"#E5ECF6\",\"width\":0.5},\"pattern\":{\"fillmode\":\"overlay\",\"size\":10,\"solidity\":0.2}},\"type\":\"barpolar\"}],\"carpet\":[{\"aaxis\":{\"endlinecolor\":\"#2a3f5f\",\"gridcolor\":\"white\",\"linecolor\":\"white\",\"minorgridcolor\":\"white\",\"startlinecolor\":\"#2a3f5f\"},\"baxis\":{\"endlinecolor\":\"#2a3f5f\",\"gridcolor\":\"white\",\"linecolor\":\"white\",\"minorgridcolor\":\"white\",\"startlinecolor\":\"#2a3f5f\"},\"type\":\"carpet\"}],\"choropleth\":[{\"colorbar\":{\"outlinewidth\":0,\"ticks\":\"\"},\"type\":\"choropleth\"}],\"contour\":[{\"colorbar\":{\"outlinewidth\":0,\"ticks\":\"\"},\"colorscale\":[[0.0,\"#0d0887\"],[0.1111111111111111,\"#46039f\"],[0.2222222222222222,\"#7201a8\"],[0.3333333333333333,\"#9c179e\"],[0.4444444444444444,\"#bd3786\"],[0.5555555555555556,\"#d8576b\"],[0.6666666666666666,\"#ed7953\"],[0.7777777777777778,\"#fb9f3a\"],[0.8888888888888888,\"#fdca26\"],[1.0,\"#f0f921\"]],\"type\":\"contour\"}],\"contourcarpet\":[{\"colorbar\":{\"outlinewidth\":0,\"ticks\":\"\"},\"type\":\"contourcarpet\"}],\"heatmap\":[{\"colorbar\":{\"outlinewidth\":0,\"ticks\":\"\"},\"colorscale\":[[0.0,\"#0d0887\"],[0.1111111111111111,\"#46039f\"],[0.2222222222222222,\"#7201a8\"],[0.3333333333333333,\"#9c179e\"],[0.4444444444444444,\"#bd3786\"],[0.5555555555555556,\"#d8576b\"],[0.6666666666666666,\"#ed7953\"],[0.7777777777777778,\"#fb9f3a\"],[0.8888888888888888,\"#fdca26\"],[1.0,\"#f0f921\"]],\"type\":\"heatmap\"}],\"heatmapgl\":[{\"colorbar\":{\"outlinewidth\":0,\"ticks\":\"\"},\"colorscale\":[[0.0,\"#0d0887\"],[0.1111111111111111,\"#46039f\"],[0.2222222222222222,\"#7201a8\"],[0.3333333333333333,\"#9c179e\"],[0.4444444444444444,\"#bd3786\"],[0.5555555555555556,\"#d8576b\"],[0.6666666666666666,\"#ed7953\"],[0.7777777777777778,\"#fb9f3a\"],[0.8888888888888888,\"#fdca26\"],[1.0,\"#f0f921\"]],\"type\":\"heatmapgl\"}],\"histogram\":[{\"marker\":{\"pattern\":{\"fillmode\":\"overlay\",\"size\":10,\"solidity\":0.2}},\"type\":\"histogram\"}],\"histogram2d\":[{\"colorbar\":{\"outlinewidth\":0,\"ticks\":\"\"},\"colorscale\":[[0.0,\"#0d0887\"],[0.1111111111111111,\"#46039f\"],[0.2222222222222222,\"#7201a8\"],[0.3333333333333333,\"#9c179e\"],[0.4444444444444444,\"#bd3786\"],[0.5555555555555556,\"#d8576b\"],[0.6666666666666666,\"#ed7953\"],[0.7777777777777778,\"#fb9f3a\"],[0.8888888888888888,\"#fdca26\"],[1.0,\"#f0f921\"]],\"type\":\"histogram2d\"}],\"histogram2dcontour\":[{\"colorbar\":{\"outlinewidth\":0,\"ticks\":\"\"},\"colorscale\":[[0.0,\"#0d0887\"],[0.1111111111111111,\"#46039f\"],[0.2222222222222222,\"#7201a8\"],[0.3333333333333333,\"#9c179e\"],[0.4444444444444444,\"#bd3786\"],[0.5555555555555556,\"#d8576b\"],[0.6666666666666666,\"#ed7953\"],[0.7777777777777778,\"#fb9f3a\"],[0.8888888888888888,\"#fdca26\"],[1.0,\"#f0f921\"]],\"type\":\"histogram2dcontour\"}],\"mesh3d\":[{\"colorbar\":{\"outlinewidth\":0,\"ticks\":\"\"},\"type\":\"mesh3d\"}],\"parcoords\":[{\"line\":{\"colorbar\":{\"outlinewidth\":0,\"ticks\":\"\"}},\"type\":\"parcoords\"}],\"pie\":[{\"automargin\":true,\"type\":\"pie\"}],\"scatter\":[{\"marker\":{\"colorbar\":{\"outlinewidth\":0,\"ticks\":\"\"}},\"type\":\"scatter\"}],\"scatter3d\":[{\"line\":{\"colorbar\":{\"outlinewidth\":0,\"ticks\":\"\"}},\"marker\":{\"colorbar\":{\"outlinewidth\":0,\"ticks\":\"\"}},\"type\":\"scatter3d\"}],\"scattercarpet\":[{\"marker\":{\"colorbar\":{\"outlinewidth\":0,\"ticks\":\"\"}},\"type\":\"scattercarpet\"}],\"scattergeo\":[{\"marker\":{\"colorbar\":{\"outlinewidth\":0,\"ticks\":\"\"}},\"type\":\"scattergeo\"}],\"scattergl\":[{\"marker\":{\"colorbar\":{\"outlinewidth\":0,\"ticks\":\"\"}},\"type\":\"scattergl\"}],\"scattermapbox\":[{\"marker\":{\"colorbar\":{\"outlinewidth\":0,\"ticks\":\"\"}},\"type\":\"scattermapbox\"}],\"scatterpolar\":[{\"marker\":{\"colorbar\":{\"outlinewidth\":0,\"ticks\":\"\"}},\"type\":\"scatterpolar\"}],\"scatterpolargl\":[{\"marker\":{\"colorbar\":{\"outlinewidth\":0,\"ticks\":\"\"}},\"type\":\"scatterpolargl\"}],\"scatterternary\":[{\"marker\":{\"colorbar\":{\"outlinewidth\":0,\"ticks\":\"\"}},\"type\":\"scatterternary\"}],\"surface\":[{\"colorbar\":{\"outlinewidth\":0,\"ticks\":\"\"},\"colorscale\":[[0.0,\"#0d0887\"],[0.1111111111111111,\"#46039f\"],[0.2222222222222222,\"#7201a8\"],[0.3333333333333333,\"#9c179e\"],[0.4444444444444444,\"#bd3786\"],[0.5555555555555556,\"#d8576b\"],[0.6666666666666666,\"#ed7953\"],[0.7777777777777778,\"#fb9f3a\"],[0.8888888888888888,\"#fdca26\"],[1.0,\"#f0f921\"]],\"type\":\"surface\"}],\"table\":[{\"cells\":{\"fill\":{\"color\":\"#EBF0F8\"},\"line\":{\"color\":\"white\"}},\"header\":{\"fill\":{\"color\":\"#C8D4E3\"},\"line\":{\"color\":\"white\"}},\"type\":\"table\"}]},\"layout\":{\"annotationdefaults\":{\"arrowcolor\":\"#2a3f5f\",\"arrowhead\":0,\"arrowwidth\":1},\"autotypenumbers\":\"strict\",\"coloraxis\":{\"colorbar\":{\"outlinewidth\":0,\"ticks\":\"\"}},\"colorscale\":{\"diverging\":[[0,\"#8e0152\"],[0.1,\"#c51b7d\"],[0.2,\"#de77ae\"],[0.3,\"#f1b6da\"],[0.4,\"#fde0ef\"],[0.5,\"#f7f7f7\"],[0.6,\"#e6f5d0\"],[0.7,\"#b8e186\"],[0.8,\"#7fbc41\"],[0.9,\"#4d9221\"],[1,\"#276419\"]],\"sequential\":[[0.0,\"#0d0887\"],[0.1111111111111111,\"#46039f\"],[0.2222222222222222,\"#7201a8\"],[0.3333333333333333,\"#9c179e\"],[0.4444444444444444,\"#bd3786\"],[0.5555555555555556,\"#d8576b\"],[0.6666666666666666,\"#ed7953\"],[0.7777777777777778,\"#fb9f3a\"],[0.8888888888888888,\"#fdca26\"],[1.0,\"#f0f921\"]],\"sequentialminus\":[[0.0,\"#0d0887\"],[0.1111111111111111,\"#46039f\"],[0.2222222222222222,\"#7201a8\"],[0.3333333333333333,\"#9c179e\"],[0.4444444444444444,\"#bd3786\"],[0.5555555555555556,\"#d8576b\"],[0.6666666666666666,\"#ed7953\"],[0.7777777777777778,\"#fb9f3a\"],[0.8888888888888888,\"#fdca26\"],[1.0,\"#f0f921\"]]},\"colorway\":[\"#636efa\",\"#EF553B\",\"#00cc96\",\"#ab63fa\",\"#FFA15A\",\"#19d3f3\",\"#FF6692\",\"#B6E880\",\"#FF97FF\",\"#FECB52\"],\"font\":{\"color\":\"#2a3f5f\"},\"geo\":{\"bgcolor\":\"white\",\"lakecolor\":\"white\",\"landcolor\":\"#E5ECF6\",\"showlakes\":true,\"showland\":true,\"subunitcolor\":\"white\"},\"hoverlabel\":{\"align\":\"left\"},\"hovermode\":\"closest\",\"mapbox\":{\"style\":\"light\"},\"paper_bgcolor\":\"white\",\"plot_bgcolor\":\"#E5ECF6\",\"polar\":{\"angularaxis\":{\"gridcolor\":\"white\",\"linecolor\":\"white\",\"ticks\":\"\"},\"bgcolor\":\"#E5ECF6\",\"radialaxis\":{\"gridcolor\":\"white\",\"linecolor\":\"white\",\"ticks\":\"\"}},\"scene\":{\"xaxis\":{\"backgroundcolor\":\"#E5ECF6\",\"gridcolor\":\"white\",\"gridwidth\":2,\"linecolor\":\"white\",\"showbackground\":true,\"ticks\":\"\",\"zerolinecolor\":\"white\"},\"yaxis\":{\"backgroundcolor\":\"#E5ECF6\",\"gridcolor\":\"white\",\"gridwidth\":2,\"linecolor\":\"white\",\"showbackground\":true,\"ticks\":\"\",\"zerolinecolor\":\"white\"},\"zaxis\":{\"backgroundcolor\":\"#E5ECF6\",\"gridcolor\":\"white\",\"gridwidth\":2,\"linecolor\":\"white\",\"showbackground\":true,\"ticks\":\"\",\"zerolinecolor\":\"white\"}},\"shapedefaults\":{\"line\":{\"color\":\"#2a3f5f\"}},\"ternary\":{\"aaxis\":{\"gridcolor\":\"white\",\"linecolor\":\"white\",\"ticks\":\"\"},\"baxis\":{\"gridcolor\":\"white\",\"linecolor\":\"white\",\"ticks\":\"\"},\"bgcolor\":\"#E5ECF6\",\"caxis\":{\"gridcolor\":\"white\",\"linecolor\":\"white\",\"ticks\":\"\"}},\"title\":{\"x\":0.05},\"xaxis\":{\"automargin\":true,\"gridcolor\":\"white\",\"linecolor\":\"white\",\"ticks\":\"\",\"title\":{\"standoff\":15},\"zerolinecolor\":\"white\",\"zerolinewidth\":2},\"yaxis\":{\"automargin\":true,\"gridcolor\":\"white\",\"linecolor\":\"white\",\"ticks\":\"\",\"title\":{\"standoff\":15},\"zerolinecolor\":\"white\",\"zerolinewidth\":2}}},\"xaxis\":{\"title\":{\"text\":\"Time\"},\"type\":\"log\"},\"margin\":{\"l\":50,\"r\":50,\"b\":100,\"t\":100,\"pad\":4},\"title\":{\"text\":\"Loss value\"},\"yaxis\":{\"title\":{\"text\":\"Value\"}},\"autosize\":false,\"width\":600,\"height\":600,\"paper_bgcolor\":\"LightSteelBlue\",\"showlegend\":false},                        {\"responsive\": true}                    ).then(function(){\n",
              "                            \n",
              "var gd = document.getElementById('805ecff4-6564-4036-b43f-abb863bc5cea');\n",
              "var x = new MutationObserver(function (mutations, observer) {{\n",
              "        var display = window.getComputedStyle(gd).display;\n",
              "        if (!display || display === 'none') {{\n",
              "            console.log([gd, 'removed!']);\n",
              "            Plotly.purge(gd);\n",
              "            observer.disconnect();\n",
              "        }}\n",
              "}});\n",
              "\n",
              "// Listen for the removal of the full notebook cells\n",
              "var notebookContainer = gd.closest('#notebook-container');\n",
              "if (notebookContainer) {{\n",
              "    x.observe(notebookContainer, {childList: true});\n",
              "}}\n",
              "\n",
              "// Listen for the clearing of the current output cell\n",
              "var outputEl = gd.closest('.output');\n",
              "if (outputEl) {{\n",
              "    x.observe(outputEl, {childList: true});\n",
              "}}\n",
              "\n",
              "                        })                };                            </script>        </div>\n",
              "</body>\n",
              "</html>"
            ]
          },
          "metadata": {}
        }
      ]
    },
    {
      "cell_type": "markdown",
      "source": [
        "### Train the Model"
      ],
      "metadata": {
        "id": "tME3nY4jqOjv"
      }
    },
    {
      "cell_type": "code",
      "source": [
        "# Reset states generated by Keras\n",
        "tf.keras.backend.clear_session()\n",
        "model_tune2.set_weights(init_weights)\n",
        "model_tune2.build(input_shape = (1, window_size, training_set_normalized.shape[1]))\n",
        "\n",
        "# Set the training parameters\n",
        "# usinbg mae as metrics\n",
        "model_tune2.compile(loss=tf.keras.losses.Huber(), \n",
        "                    optimizer=tf.keras.optimizers.SGD(\n",
        "                        learning_rate=0.0031,\n",
        "                        momentum=0.9), metrics=[\"mae\"])"
      ],
      "metadata": {
        "id": "LQWSIKcKqPTV"
      },
      "execution_count": 111,
      "outputs": []
    },
    {
      "cell_type": "code",
      "source": [
        "# Train the model\n",
        "history_build1 = model_tune2.fit(windowed_training_ds_16, epochs=epoch_value, \n",
        "                                verbose=0)"
      ],
      "metadata": {
        "id": "2CN3HnpsqwRV"
      },
      "execution_count": 112,
      "outputs": []
    },
    {
      "cell_type": "code",
      "source": [
        "plot_series_plotly(np.arange(0, epoch_value), \n",
        "                   (history_build1.history['loss'], history_build1.history['mae']),\n",
        "                   figure_title='Mae and loss value',\n",
        "                   series_name=['Loss Value', 'MAE Value'],\n",
        "                   xaxis_title='epoch', yaxis_title='Loss')"
      ],
      "metadata": {
        "colab": {
          "base_uri": "https://localhost:8080/",
          "height": 617
        },
        "id": "qFMl8-C4q4CG",
        "outputId": "9c39e028-88f0-44c5-d5a2-f437666c03c5"
      },
      "execution_count": 113,
      "outputs": [
        {
          "output_type": "display_data",
          "data": {
            "text/html": [
              "<html>\n",
              "<head><meta charset=\"utf-8\" /></head>\n",
              "<body>\n",
              "    <div>            <script src=\"https://cdnjs.cloudflare.com/ajax/libs/mathjax/2.7.5/MathJax.js?config=TeX-AMS-MML_SVG\"></script><script type=\"text/javascript\">if (window.MathJax) {MathJax.Hub.Config({SVG: {font: \"STIX-Web\"}});}</script>                <script type=\"text/javascript\">window.PlotlyConfig = {MathJaxConfig: 'local'};</script>\n",
              "        <script src=\"https://cdn.plot.ly/plotly-2.8.3.min.js\"></script>                <div id=\"37cfeea1-6e08-461f-9151-94fc1ff78c17\" class=\"plotly-graph-div\" style=\"height:600px; width:600px;\"></div>            <script type=\"text/javascript\">                                    window.PLOTLYENV=window.PLOTLYENV || {};                                    if (document.getElementById(\"37cfeea1-6e08-461f-9151-94fc1ff78c17\")) {                    Plotly.newPlot(                        \"37cfeea1-6e08-461f-9151-94fc1ff78c17\",                        [{\"mode\":\"lines\",\"name\":\"Loss Value\",\"x\":[0,1,2,3,4,5,6,7,8,9,10,11,12,13,14,15,16,17,18,19,20,21,22,23,24,25,26,27,28,29,30,31,32,33,34,35,36,37,38,39,40,41,42,43,44,45,46,47,48,49,50,51,52,53,54,55,56,57,58,59,60,61,62,63,64,65,66,67,68,69,70,71,72,73,74,75,76,77,78,79,80,81,82,83,84,85,86,87,88,89,90,91,92,93,94,95,96,97,98,99],\"y\":[0.08395325392484665,0.02276364341378212,0.008260766975581646,0.007976316846907139,0.00809767097234726,0.008022623136639595,0.007920763455331326,0.00781386811286211,0.007763628847897053,0.007817216217517853,0.007759500294923782,0.007826005108654499,0.007541364058852196,0.007595710456371307,0.007573962677270174,0.007483081426471472,0.007410502061247826,0.007486194372177124,0.007340078707784414,0.007433520630002022,0.0073566194623708725,0.007240201346576214,0.007236504461616278,0.007264695595949888,0.007142011541873217,0.007082739844918251,0.007116887718439102,0.007036285940557718,0.007031844463199377,0.0069502778351306915,0.006927487440407276,0.00696758646517992,0.006861478090286255,0.006860433612018824,0.006871216464787722,0.00678252475336194,0.006833788938820362,0.006761284079402685,0.00680622598156333,0.006718638353049755,0.006700107362121344,0.006682855077087879,0.00664080074056983,0.006626762915402651,0.006591213867068291,0.006597781088203192,0.006509751547127962,0.006514479871839285,0.0064649805426597595,0.006420964375138283,0.0064207096584141254,0.006408585235476494,0.006416980642825365,0.006388338748365641,0.006316234823316336,0.0063194106332957745,0.006290277000516653,0.006294942460954189,0.006259092595428228,0.006227415055036545,0.006291654426604509,0.006196946837007999,0.006164802238345146,0.0061307670548558235,0.00612817844375968,0.0060881213285028934,0.006082594860345125,0.0060846819542348385,0.006012002006173134,0.006101852748543024,0.006123227998614311,0.006088085472583771,0.005966957658529282,0.005933056119829416,0.006006506737321615,0.005929178092628717,0.005918527487665415,0.005874406546354294,0.0058243246749043465,0.005804330576211214,0.005800687242299318,0.005799965932965279,0.005784850567579269,0.005761586595326662,0.005795548669993877,0.005708432290703058,0.005670237820595503,0.005688258912414312,0.0056709181517362595,0.005661872215569019,0.005650792270898819,0.00568399578332901,0.005594764836132526,0.005577975418418646,0.005561233963817358,0.005574246868491173,0.005557527765631676,0.00552891893312335,0.005498259793967009,0.005528532899916172],\"type\":\"scatter\"},{\"mode\":\"lines\",\"name\":\"MAE Value\",\"x\":[0,1,2,3,4,5,6,7,8,9,10,11,12,13,14,15,16,17,18,19,20,21,22,23,24,25,26,27,28,29,30,31,32,33,34,35,36,37,38,39,40,41,42,43,44,45,46,47,48,49,50,51,52,53,54,55,56,57,58,59,60,61,62,63,64,65,66,67,68,69,70,71,72,73,74,75,76,77,78,79,80,81,82,83,84,85,86,87,88,89,90,91,92,93,94,95,96,97,98,99],\"y\":[0.34069859981536865,0.16588398814201355,0.10153555124998093,0.09988903254270554,0.10114481300115585,0.1007286086678505,0.10051073133945465,0.09964644908905029,0.09881820529699326,0.09962587058544159,0.09849155694246292,0.10073617100715637,0.09737454354763031,0.09767018258571625,0.09810660779476166,0.09715535491704941,0.09670326113700867,0.09749874472618103,0.09584403783082962,0.09690053761005402,0.09607133269309998,0.09517259150743484,0.0952022522687912,0.09566617757081985,0.09429998695850372,0.0942208468914032,0.09423141926527023,0.0931348130106926,0.0937885195016861,0.09266135841608047,0.09224143624305725,0.09350649267435074,0.0923430323600769,0.09168087691068649,0.09186804294586182,0.09090827405452728,0.09175562858581543,0.0916479229927063,0.0916852131485939,0.09108119457960129,0.09095079451799393,0.09054217487573624,0.08944691717624664,0.09024466574192047,0.08917520195245743,0.09014195203781128,0.08876442909240723,0.08875763416290283,0.08813874423503876,0.08911076188087463,0.08781033009290695,0.08844882994890213,0.08874858170747757,0.08817385882139206,0.08787529170513153,0.08711618185043335,0.08756736665964127,0.08736951649188995,0.08651066571474075,0.08608915656805038,0.08802153170108795,0.08601744472980499,0.0870099812746048,0.08581764996051788,0.0863366425037384,0.08532308787107468,0.08619575202465057,0.08564038574695587,0.0846748799085617,0.08604767173528671,0.08561159670352936,0.08616843074560165,0.08422525972127914,0.08472251892089844,0.08489464223384857,0.08471032977104187,0.08320329338312149,0.08437781035900116,0.0835515633225441,0.08272134512662888,0.08303751796483994,0.08382222801446915,0.0829639881849289,0.08295653015375137,0.08355322480201721,0.08295637369155884,0.08181817829608917,0.08253378421068192,0.08224613964557648,0.08236663788557053,0.08219322562217712,0.08230546116828918,0.0811469703912735,0.08179835975170135,0.08135314285755157,0.08123201131820679,0.08137670159339905,0.08155743032693863,0.08063606917858124,0.08014628291130066],\"type\":\"scatter\"}],                        {\"template\":{\"data\":{\"bar\":[{\"error_x\":{\"color\":\"#2a3f5f\"},\"error_y\":{\"color\":\"#2a3f5f\"},\"marker\":{\"line\":{\"color\":\"#E5ECF6\",\"width\":0.5},\"pattern\":{\"fillmode\":\"overlay\",\"size\":10,\"solidity\":0.2}},\"type\":\"bar\"}],\"barpolar\":[{\"marker\":{\"line\":{\"color\":\"#E5ECF6\",\"width\":0.5},\"pattern\":{\"fillmode\":\"overlay\",\"size\":10,\"solidity\":0.2}},\"type\":\"barpolar\"}],\"carpet\":[{\"aaxis\":{\"endlinecolor\":\"#2a3f5f\",\"gridcolor\":\"white\",\"linecolor\":\"white\",\"minorgridcolor\":\"white\",\"startlinecolor\":\"#2a3f5f\"},\"baxis\":{\"endlinecolor\":\"#2a3f5f\",\"gridcolor\":\"white\",\"linecolor\":\"white\",\"minorgridcolor\":\"white\",\"startlinecolor\":\"#2a3f5f\"},\"type\":\"carpet\"}],\"choropleth\":[{\"colorbar\":{\"outlinewidth\":0,\"ticks\":\"\"},\"type\":\"choropleth\"}],\"contour\":[{\"colorbar\":{\"outlinewidth\":0,\"ticks\":\"\"},\"colorscale\":[[0.0,\"#0d0887\"],[0.1111111111111111,\"#46039f\"],[0.2222222222222222,\"#7201a8\"],[0.3333333333333333,\"#9c179e\"],[0.4444444444444444,\"#bd3786\"],[0.5555555555555556,\"#d8576b\"],[0.6666666666666666,\"#ed7953\"],[0.7777777777777778,\"#fb9f3a\"],[0.8888888888888888,\"#fdca26\"],[1.0,\"#f0f921\"]],\"type\":\"contour\"}],\"contourcarpet\":[{\"colorbar\":{\"outlinewidth\":0,\"ticks\":\"\"},\"type\":\"contourcarpet\"}],\"heatmap\":[{\"colorbar\":{\"outlinewidth\":0,\"ticks\":\"\"},\"colorscale\":[[0.0,\"#0d0887\"],[0.1111111111111111,\"#46039f\"],[0.2222222222222222,\"#7201a8\"],[0.3333333333333333,\"#9c179e\"],[0.4444444444444444,\"#bd3786\"],[0.5555555555555556,\"#d8576b\"],[0.6666666666666666,\"#ed7953\"],[0.7777777777777778,\"#fb9f3a\"],[0.8888888888888888,\"#fdca26\"],[1.0,\"#f0f921\"]],\"type\":\"heatmap\"}],\"heatmapgl\":[{\"colorbar\":{\"outlinewidth\":0,\"ticks\":\"\"},\"colorscale\":[[0.0,\"#0d0887\"],[0.1111111111111111,\"#46039f\"],[0.2222222222222222,\"#7201a8\"],[0.3333333333333333,\"#9c179e\"],[0.4444444444444444,\"#bd3786\"],[0.5555555555555556,\"#d8576b\"],[0.6666666666666666,\"#ed7953\"],[0.7777777777777778,\"#fb9f3a\"],[0.8888888888888888,\"#fdca26\"],[1.0,\"#f0f921\"]],\"type\":\"heatmapgl\"}],\"histogram\":[{\"marker\":{\"pattern\":{\"fillmode\":\"overlay\",\"size\":10,\"solidity\":0.2}},\"type\":\"histogram\"}],\"histogram2d\":[{\"colorbar\":{\"outlinewidth\":0,\"ticks\":\"\"},\"colorscale\":[[0.0,\"#0d0887\"],[0.1111111111111111,\"#46039f\"],[0.2222222222222222,\"#7201a8\"],[0.3333333333333333,\"#9c179e\"],[0.4444444444444444,\"#bd3786\"],[0.5555555555555556,\"#d8576b\"],[0.6666666666666666,\"#ed7953\"],[0.7777777777777778,\"#fb9f3a\"],[0.8888888888888888,\"#fdca26\"],[1.0,\"#f0f921\"]],\"type\":\"histogram2d\"}],\"histogram2dcontour\":[{\"colorbar\":{\"outlinewidth\":0,\"ticks\":\"\"},\"colorscale\":[[0.0,\"#0d0887\"],[0.1111111111111111,\"#46039f\"],[0.2222222222222222,\"#7201a8\"],[0.3333333333333333,\"#9c179e\"],[0.4444444444444444,\"#bd3786\"],[0.5555555555555556,\"#d8576b\"],[0.6666666666666666,\"#ed7953\"],[0.7777777777777778,\"#fb9f3a\"],[0.8888888888888888,\"#fdca26\"],[1.0,\"#f0f921\"]],\"type\":\"histogram2dcontour\"}],\"mesh3d\":[{\"colorbar\":{\"outlinewidth\":0,\"ticks\":\"\"},\"type\":\"mesh3d\"}],\"parcoords\":[{\"line\":{\"colorbar\":{\"outlinewidth\":0,\"ticks\":\"\"}},\"type\":\"parcoords\"}],\"pie\":[{\"automargin\":true,\"type\":\"pie\"}],\"scatter\":[{\"marker\":{\"colorbar\":{\"outlinewidth\":0,\"ticks\":\"\"}},\"type\":\"scatter\"}],\"scatter3d\":[{\"line\":{\"colorbar\":{\"outlinewidth\":0,\"ticks\":\"\"}},\"marker\":{\"colorbar\":{\"outlinewidth\":0,\"ticks\":\"\"}},\"type\":\"scatter3d\"}],\"scattercarpet\":[{\"marker\":{\"colorbar\":{\"outlinewidth\":0,\"ticks\":\"\"}},\"type\":\"scattercarpet\"}],\"scattergeo\":[{\"marker\":{\"colorbar\":{\"outlinewidth\":0,\"ticks\":\"\"}},\"type\":\"scattergeo\"}],\"scattergl\":[{\"marker\":{\"colorbar\":{\"outlinewidth\":0,\"ticks\":\"\"}},\"type\":\"scattergl\"}],\"scattermapbox\":[{\"marker\":{\"colorbar\":{\"outlinewidth\":0,\"ticks\":\"\"}},\"type\":\"scattermapbox\"}],\"scatterpolar\":[{\"marker\":{\"colorbar\":{\"outlinewidth\":0,\"ticks\":\"\"}},\"type\":\"scatterpolar\"}],\"scatterpolargl\":[{\"marker\":{\"colorbar\":{\"outlinewidth\":0,\"ticks\":\"\"}},\"type\":\"scatterpolargl\"}],\"scatterternary\":[{\"marker\":{\"colorbar\":{\"outlinewidth\":0,\"ticks\":\"\"}},\"type\":\"scatterternary\"}],\"surface\":[{\"colorbar\":{\"outlinewidth\":0,\"ticks\":\"\"},\"colorscale\":[[0.0,\"#0d0887\"],[0.1111111111111111,\"#46039f\"],[0.2222222222222222,\"#7201a8\"],[0.3333333333333333,\"#9c179e\"],[0.4444444444444444,\"#bd3786\"],[0.5555555555555556,\"#d8576b\"],[0.6666666666666666,\"#ed7953\"],[0.7777777777777778,\"#fb9f3a\"],[0.8888888888888888,\"#fdca26\"],[1.0,\"#f0f921\"]],\"type\":\"surface\"}],\"table\":[{\"cells\":{\"fill\":{\"color\":\"#EBF0F8\"},\"line\":{\"color\":\"white\"}},\"header\":{\"fill\":{\"color\":\"#C8D4E3\"},\"line\":{\"color\":\"white\"}},\"type\":\"table\"}]},\"layout\":{\"annotationdefaults\":{\"arrowcolor\":\"#2a3f5f\",\"arrowhead\":0,\"arrowwidth\":1},\"autotypenumbers\":\"strict\",\"coloraxis\":{\"colorbar\":{\"outlinewidth\":0,\"ticks\":\"\"}},\"colorscale\":{\"diverging\":[[0,\"#8e0152\"],[0.1,\"#c51b7d\"],[0.2,\"#de77ae\"],[0.3,\"#f1b6da\"],[0.4,\"#fde0ef\"],[0.5,\"#f7f7f7\"],[0.6,\"#e6f5d0\"],[0.7,\"#b8e186\"],[0.8,\"#7fbc41\"],[0.9,\"#4d9221\"],[1,\"#276419\"]],\"sequential\":[[0.0,\"#0d0887\"],[0.1111111111111111,\"#46039f\"],[0.2222222222222222,\"#7201a8\"],[0.3333333333333333,\"#9c179e\"],[0.4444444444444444,\"#bd3786\"],[0.5555555555555556,\"#d8576b\"],[0.6666666666666666,\"#ed7953\"],[0.7777777777777778,\"#fb9f3a\"],[0.8888888888888888,\"#fdca26\"],[1.0,\"#f0f921\"]],\"sequentialminus\":[[0.0,\"#0d0887\"],[0.1111111111111111,\"#46039f\"],[0.2222222222222222,\"#7201a8\"],[0.3333333333333333,\"#9c179e\"],[0.4444444444444444,\"#bd3786\"],[0.5555555555555556,\"#d8576b\"],[0.6666666666666666,\"#ed7953\"],[0.7777777777777778,\"#fb9f3a\"],[0.8888888888888888,\"#fdca26\"],[1.0,\"#f0f921\"]]},\"colorway\":[\"#636efa\",\"#EF553B\",\"#00cc96\",\"#ab63fa\",\"#FFA15A\",\"#19d3f3\",\"#FF6692\",\"#B6E880\",\"#FF97FF\",\"#FECB52\"],\"font\":{\"color\":\"#2a3f5f\"},\"geo\":{\"bgcolor\":\"white\",\"lakecolor\":\"white\",\"landcolor\":\"#E5ECF6\",\"showlakes\":true,\"showland\":true,\"subunitcolor\":\"white\"},\"hoverlabel\":{\"align\":\"left\"},\"hovermode\":\"closest\",\"mapbox\":{\"style\":\"light\"},\"paper_bgcolor\":\"white\",\"plot_bgcolor\":\"#E5ECF6\",\"polar\":{\"angularaxis\":{\"gridcolor\":\"white\",\"linecolor\":\"white\",\"ticks\":\"\"},\"bgcolor\":\"#E5ECF6\",\"radialaxis\":{\"gridcolor\":\"white\",\"linecolor\":\"white\",\"ticks\":\"\"}},\"scene\":{\"xaxis\":{\"backgroundcolor\":\"#E5ECF6\",\"gridcolor\":\"white\",\"gridwidth\":2,\"linecolor\":\"white\",\"showbackground\":true,\"ticks\":\"\",\"zerolinecolor\":\"white\"},\"yaxis\":{\"backgroundcolor\":\"#E5ECF6\",\"gridcolor\":\"white\",\"gridwidth\":2,\"linecolor\":\"white\",\"showbackground\":true,\"ticks\":\"\",\"zerolinecolor\":\"white\"},\"zaxis\":{\"backgroundcolor\":\"#E5ECF6\",\"gridcolor\":\"white\",\"gridwidth\":2,\"linecolor\":\"white\",\"showbackground\":true,\"ticks\":\"\",\"zerolinecolor\":\"white\"}},\"shapedefaults\":{\"line\":{\"color\":\"#2a3f5f\"}},\"ternary\":{\"aaxis\":{\"gridcolor\":\"white\",\"linecolor\":\"white\",\"ticks\":\"\"},\"baxis\":{\"gridcolor\":\"white\",\"linecolor\":\"white\",\"ticks\":\"\"},\"bgcolor\":\"#E5ECF6\",\"caxis\":{\"gridcolor\":\"white\",\"linecolor\":\"white\",\"ticks\":\"\"}},\"title\":{\"x\":0.05},\"xaxis\":{\"automargin\":true,\"gridcolor\":\"white\",\"linecolor\":\"white\",\"ticks\":\"\",\"title\":{\"standoff\":15},\"zerolinecolor\":\"white\",\"zerolinewidth\":2},\"yaxis\":{\"automargin\":true,\"gridcolor\":\"white\",\"linecolor\":\"white\",\"ticks\":\"\",\"title\":{\"standoff\":15},\"zerolinecolor\":\"white\",\"zerolinewidth\":2}}},\"margin\":{\"l\":50,\"r\":50,\"b\":100,\"t\":100,\"pad\":4},\"title\":{\"text\":\"Mae and loss value\"},\"xaxis\":{\"title\":{\"text\":\"epoch\"}},\"yaxis\":{\"title\":{\"text\":\"Loss\"}},\"autosize\":false,\"width\":600,\"height\":600,\"paper_bgcolor\":\"LightSteelBlue\",\"showlegend\":false},                        {\"responsive\": true}                    ).then(function(){\n",
              "                            \n",
              "var gd = document.getElementById('37cfeea1-6e08-461f-9151-94fc1ff78c17');\n",
              "var x = new MutationObserver(function (mutations, observer) {{\n",
              "        var display = window.getComputedStyle(gd).display;\n",
              "        if (!display || display === 'none') {{\n",
              "            console.log([gd, 'removed!']);\n",
              "            Plotly.purge(gd);\n",
              "            observer.disconnect();\n",
              "        }}\n",
              "}});\n",
              "\n",
              "// Listen for the removal of the full notebook cells\n",
              "var notebookContainer = gd.closest('#notebook-container');\n",
              "if (notebookContainer) {{\n",
              "    x.observe(notebookContainer, {childList: true});\n",
              "}}\n",
              "\n",
              "// Listen for the clearing of the current output cell\n",
              "var outputEl = gd.closest('.output');\n",
              "if (outputEl) {{\n",
              "    x.observe(outputEl, {childList: true});\n",
              "}}\n",
              "\n",
              "                        })                };                            </script>        </div>\n",
              "</body>\n",
              "</html>"
            ]
          },
          "metadata": {}
        }
      ]
    },
    {
      "cell_type": "code",
      "source": [
        "test_set_g2, results2 = plot_prediction_graph_plotly(\n",
        "    model_tune2, df, training_ds_rows, \n",
        "    window_size, None, None,\n",
        "    scaler=minmax_scaler,\n",
        "    variable_names=['Close'],\n",
        "    series_name=['test set (close)',\n",
        "                 'pred set (close)']\n",
        "    )"
      ],
      "metadata": {
        "colab": {
          "base_uri": "https://localhost:8080/",
          "height": 724
        },
        "id": "sU8K4PU9rEzX",
        "outputId": "9d0977c8-4e6b-4b3d-8d6d-21efce58aa78"
      },
      "execution_count": 114,
      "outputs": [
        {
          "output_type": "stream",
          "name": "stdout",
          "text": [
            "dateset_to_forecast shape: (167, 1)\n",
            "expanded dateset_to_forecast shape: (1, 20, 1)\n",
            "forecast shape (147, 1, 1)\n",
            "forecast squeezed shape (147,)\n",
            "test_set.size (147, 1)\n",
            "results.ndim 1\n"
          ]
        },
        {
          "output_type": "display_data",
          "data": {
            "text/html": [
              "<html>\n",
              "<head><meta charset=\"utf-8\" /></head>\n",
              "<body>\n",
              "    <div>            <script src=\"https://cdnjs.cloudflare.com/ajax/libs/mathjax/2.7.5/MathJax.js?config=TeX-AMS-MML_SVG\"></script><script type=\"text/javascript\">if (window.MathJax) {MathJax.Hub.Config({SVG: {font: \"STIX-Web\"}});}</script>                <script type=\"text/javascript\">window.PlotlyConfig = {MathJaxConfig: 'local'};</script>\n",
              "        <script src=\"https://cdn.plot.ly/plotly-2.8.3.min.js\"></script>                <div id=\"5fac80db-3b67-4f76-a10c-d33cbd06e946\" class=\"plotly-graph-div\" style=\"height:600px; width:600px;\"></div>            <script type=\"text/javascript\">                                    window.PLOTLYENV=window.PLOTLYENV || {};                                    if (document.getElementById(\"5fac80db-3b67-4f76-a10c-d33cbd06e946\")) {                    Plotly.newPlot(                        \"5fac80db-3b67-4f76-a10c-d33cbd06e946\",                        [{\"mode\":\"lines\",\"name\":\"test set (close)\",\"x\":[\"2022-08-10T00:00:00\",\"2022-08-11T00:00:00\",\"2022-08-12T00:00:00\",\"2022-08-15T00:00:00\",\"2022-08-16T00:00:00\",\"2022-08-18T00:00:00\",\"2022-08-19T00:00:00\",\"2022-08-22T00:00:00\",\"2022-08-23T00:00:00\",\"2022-08-24T00:00:00\",\"2022-08-25T00:00:00\",\"2022-08-26T00:00:00\",\"2022-08-29T00:00:00\",\"2022-08-30T00:00:00\",\"2022-08-31T00:00:00\",\"2022-09-01T00:00:00\",\"2022-09-02T00:00:00\",\"2022-09-05T00:00:00\",\"2022-09-06T00:00:00\",\"2022-09-07T00:00:00\",\"2022-09-08T00:00:00\",\"2022-09-09T00:00:00\",\"2022-09-12T00:00:00\",\"2022-09-13T00:00:00\",\"2022-09-14T00:00:00\",\"2022-09-15T00:00:00\",\"2022-09-16T00:00:00\",\"2022-09-19T00:00:00\",\"2022-09-20T00:00:00\",\"2022-09-21T00:00:00\",\"2022-09-22T00:00:00\",\"2022-09-23T00:00:00\",\"2022-09-26T00:00:00\",\"2022-09-27T00:00:00\",\"2022-09-28T00:00:00\",\"2022-09-29T00:00:00\",\"2022-09-30T00:00:00\",\"2022-10-03T00:00:00\",\"2022-10-04T00:00:00\",\"2022-10-05T00:00:00\",\"2022-10-06T00:00:00\",\"2022-10-07T00:00:00\",\"2022-10-10T00:00:00\",\"2022-10-11T00:00:00\",\"2022-10-12T00:00:00\",\"2022-10-13T00:00:00\",\"2022-10-14T00:00:00\",\"2022-10-17T00:00:00\",\"2022-10-18T00:00:00\",\"2022-10-19T00:00:00\",\"2022-10-20T00:00:00\",\"2022-10-21T00:00:00\",\"2022-10-24T00:00:00\",\"2022-10-25T00:00:00\",\"2022-10-26T00:00:00\",\"2022-10-27T00:00:00\",\"2022-10-28T00:00:00\",\"2022-10-31T00:00:00\",\"2022-11-01T00:00:00\",\"2022-11-02T00:00:00\",\"2022-11-03T00:00:00\",\"2022-11-04T00:00:00\",\"2022-11-07T00:00:00\",\"2022-11-08T00:00:00\",\"2022-11-09T00:00:00\",\"2022-11-10T00:00:00\",\"2022-11-11T00:00:00\",\"2022-11-14T00:00:00\",\"2022-11-15T00:00:00\",\"2022-11-16T00:00:00\",\"2022-11-17T00:00:00\",\"2022-11-18T00:00:00\",\"2022-11-21T00:00:00\",\"2022-11-22T00:00:00\",\"2022-11-23T00:00:00\",\"2022-11-24T00:00:00\",\"2022-11-25T00:00:00\",\"2022-11-28T00:00:00\",\"2022-11-29T00:00:00\",\"2022-11-30T00:00:00\",\"2022-12-01T00:00:00\",\"2022-12-02T00:00:00\",\"2022-12-05T00:00:00\",\"2022-12-06T00:00:00\",\"2022-12-07T00:00:00\",\"2022-12-08T00:00:00\",\"2022-12-09T00:00:00\",\"2022-12-12T00:00:00\",\"2022-12-13T00:00:00\",\"2022-12-14T00:00:00\",\"2022-12-15T00:00:00\",\"2022-12-16T00:00:00\",\"2022-12-19T00:00:00\",\"2022-12-20T00:00:00\",\"2022-12-21T00:00:00\",\"2022-12-22T00:00:00\",\"2022-12-23T00:00:00\",\"2022-12-26T00:00:00\",\"2022-12-27T00:00:00\",\"2022-12-28T00:00:00\",\"2022-12-29T00:00:00\",\"2022-12-30T00:00:00\",\"2023-01-02T00:00:00\",\"2023-01-03T00:00:00\",\"2023-01-04T00:00:00\",\"2023-01-05T00:00:00\",\"2023-01-06T00:00:00\",\"2023-01-09T00:00:00\",\"2023-01-10T00:00:00\",\"2023-01-11T00:00:00\",\"2023-01-12T00:00:00\",\"2023-01-13T00:00:00\",\"2023-01-16T00:00:00\",\"2023-01-17T00:00:00\",\"2023-01-18T00:00:00\",\"2023-01-19T00:00:00\",\"2023-01-20T00:00:00\",\"2023-01-24T00:00:00\",\"2023-01-25T00:00:00\",\"2023-01-26T00:00:00\",\"2023-01-27T00:00:00\",\"2023-01-30T00:00:00\",\"2023-01-31T00:00:00\",\"2023-02-01T00:00:00\",\"2023-02-02T00:00:00\",\"2023-02-03T00:00:00\",\"2023-02-06T00:00:00\",\"2023-02-07T00:00:00\",\"2023-02-08T00:00:00\",\"2023-02-09T00:00:00\",\"2023-02-10T00:00:00\",\"2023-02-13T00:00:00\",\"2023-02-14T00:00:00\",\"2023-02-15T00:00:00\",\"2023-02-16T00:00:00\",\"2023-02-17T00:00:00\",\"2023-02-20T00:00:00\",\"2023-02-21T00:00:00\",\"2023-02-22T00:00:00\",\"2023-02-23T00:00:00\",\"2023-02-24T00:00:00\",\"2023-02-27T00:00:00\",\"2023-02-28T00:00:00\",\"2023-03-01T00:00:00\",\"2023-03-02T00:00:00\",\"2023-03-03T00:00:00\",\"2023-03-06T00:00:00\"],\"y\":[4560.0,4570.0,4550.0,4450.0,4410.0,4550.0,4600.0,4650.0,4660.0,4750.0,4570.0,4490.0,4520.0,4480.0,4560.0,4580.0,4600.0,4620.0,4510.0,4490.0,4560.0,4600.0,4540.0,4520.0,4480.0,4500.0,4410.0,4500.0,4480.0,4430.0,4430.0,4380.0,4460.0,4440.0,4470.0,4440.0,4460.0,4460.0,4440.0,4460.0,4430.0,4350.0,4420.0,4310.0,4340.0,4300.0,4290.0,4330.0,4250.0,4200.0,4350.0,4360.0,4410.0,4390.0,4370.0,4370.0,4450.0,4390.0,4420.0,4220.0,4130.0,4210.0,4280.0,4220.0,4190.0,4170.0,4150.0,4050.0,4050.0,4050.0,4040.0,4010.0,4030.0,4000.0,3970.0,4030.0,4030.0,3980.0,3980.0,4040.0,3960.0,4000.0,3840.0,3600.0,3680.0,3740.0,3650.0,3700.0,3750.0,3750.0,3670.0,3680.0,3720.0,3720.0,3790.0,3750.0,3780.0,3750.0,3810.0,3730.0,3780.0,3750.0,3800.0,3860.0,3820.0,3770.0,3710.0,3790.0,3830.0,3870.0,3860.0,3780.0,3850.0,3950.0,3930.0,3890.0,3870.0,3850.0,3840.0,3970.0,3960.0,3960.0,3850.0,3870.0,3890.0,3880.0,3880.0,3800.0,3840.0,3770.0,3800.0,3790.0,3800.0,3790.0,3770.0,3760.0,3820.0,3840.0,3860.0,3970.0,4040.0,3960.0,3880.0,3930.0,3880.0,3900.0,3880.0],\"type\":\"scatter\"},{\"mode\":\"lines\",\"name\":\"pred set (close)\",\"x\":[\"2022-08-10T00:00:00\",\"2022-08-11T00:00:00\",\"2022-08-12T00:00:00\",\"2022-08-15T00:00:00\",\"2022-08-16T00:00:00\",\"2022-08-18T00:00:00\",\"2022-08-19T00:00:00\",\"2022-08-22T00:00:00\",\"2022-08-23T00:00:00\",\"2022-08-24T00:00:00\",\"2022-08-25T00:00:00\",\"2022-08-26T00:00:00\",\"2022-08-29T00:00:00\",\"2022-08-30T00:00:00\",\"2022-08-31T00:00:00\",\"2022-09-01T00:00:00\",\"2022-09-02T00:00:00\",\"2022-09-05T00:00:00\",\"2022-09-06T00:00:00\",\"2022-09-07T00:00:00\",\"2022-09-08T00:00:00\",\"2022-09-09T00:00:00\",\"2022-09-12T00:00:00\",\"2022-09-13T00:00:00\",\"2022-09-14T00:00:00\",\"2022-09-15T00:00:00\",\"2022-09-16T00:00:00\",\"2022-09-19T00:00:00\",\"2022-09-20T00:00:00\",\"2022-09-21T00:00:00\",\"2022-09-22T00:00:00\",\"2022-09-23T00:00:00\",\"2022-09-26T00:00:00\",\"2022-09-27T00:00:00\",\"2022-09-28T00:00:00\",\"2022-09-29T00:00:00\",\"2022-09-30T00:00:00\",\"2022-10-03T00:00:00\",\"2022-10-04T00:00:00\",\"2022-10-05T00:00:00\",\"2022-10-06T00:00:00\",\"2022-10-07T00:00:00\",\"2022-10-10T00:00:00\",\"2022-10-11T00:00:00\",\"2022-10-12T00:00:00\",\"2022-10-13T00:00:00\",\"2022-10-14T00:00:00\",\"2022-10-17T00:00:00\",\"2022-10-18T00:00:00\",\"2022-10-19T00:00:00\",\"2022-10-20T00:00:00\",\"2022-10-21T00:00:00\",\"2022-10-24T00:00:00\",\"2022-10-25T00:00:00\",\"2022-10-26T00:00:00\",\"2022-10-27T00:00:00\",\"2022-10-28T00:00:00\",\"2022-10-31T00:00:00\",\"2022-11-01T00:00:00\",\"2022-11-02T00:00:00\",\"2022-11-03T00:00:00\",\"2022-11-04T00:00:00\",\"2022-11-07T00:00:00\",\"2022-11-08T00:00:00\",\"2022-11-09T00:00:00\",\"2022-11-10T00:00:00\",\"2022-11-11T00:00:00\",\"2022-11-14T00:00:00\",\"2022-11-15T00:00:00\",\"2022-11-16T00:00:00\",\"2022-11-17T00:00:00\",\"2022-11-18T00:00:00\",\"2022-11-21T00:00:00\",\"2022-11-22T00:00:00\",\"2022-11-23T00:00:00\",\"2022-11-24T00:00:00\",\"2022-11-25T00:00:00\",\"2022-11-28T00:00:00\",\"2022-11-29T00:00:00\",\"2022-11-30T00:00:00\",\"2022-12-01T00:00:00\",\"2022-12-02T00:00:00\",\"2022-12-05T00:00:00\",\"2022-12-06T00:00:00\",\"2022-12-07T00:00:00\",\"2022-12-08T00:00:00\",\"2022-12-09T00:00:00\",\"2022-12-12T00:00:00\",\"2022-12-13T00:00:00\",\"2022-12-14T00:00:00\",\"2022-12-15T00:00:00\",\"2022-12-16T00:00:00\",\"2022-12-19T00:00:00\",\"2022-12-20T00:00:00\",\"2022-12-21T00:00:00\",\"2022-12-22T00:00:00\",\"2022-12-23T00:00:00\",\"2022-12-26T00:00:00\",\"2022-12-27T00:00:00\",\"2022-12-28T00:00:00\",\"2022-12-29T00:00:00\",\"2022-12-30T00:00:00\",\"2023-01-02T00:00:00\",\"2023-01-03T00:00:00\",\"2023-01-04T00:00:00\",\"2023-01-05T00:00:00\",\"2023-01-06T00:00:00\",\"2023-01-09T00:00:00\",\"2023-01-10T00:00:00\",\"2023-01-11T00:00:00\",\"2023-01-12T00:00:00\",\"2023-01-13T00:00:00\",\"2023-01-16T00:00:00\",\"2023-01-17T00:00:00\",\"2023-01-18T00:00:00\",\"2023-01-19T00:00:00\",\"2023-01-20T00:00:00\",\"2023-01-24T00:00:00\",\"2023-01-25T00:00:00\",\"2023-01-26T00:00:00\",\"2023-01-27T00:00:00\",\"2023-01-30T00:00:00\",\"2023-01-31T00:00:00\",\"2023-02-01T00:00:00\",\"2023-02-02T00:00:00\",\"2023-02-03T00:00:00\",\"2023-02-06T00:00:00\",\"2023-02-07T00:00:00\",\"2023-02-08T00:00:00\",\"2023-02-09T00:00:00\",\"2023-02-10T00:00:00\",\"2023-02-13T00:00:00\",\"2023-02-14T00:00:00\",\"2023-02-15T00:00:00\",\"2023-02-16T00:00:00\",\"2023-02-17T00:00:00\",\"2023-02-20T00:00:00\",\"2023-02-21T00:00:00\",\"2023-02-22T00:00:00\",\"2023-02-23T00:00:00\",\"2023-02-24T00:00:00\",\"2023-02-27T00:00:00\",\"2023-02-28T00:00:00\",\"2023-03-01T00:00:00\",\"2023-03-02T00:00:00\",\"2023-03-03T00:00:00\",\"2023-03-06T00:00:00\"],\"y\":[4403.74755859375,4434.78759765625,4459.95458984375,4479.3017578125,4491.4111328125,4495.73193359375,4496.9208984375,4499.44970703125,4505.34521484375,4514.13134765625,4526.45166015625,4537.8642578125,4543.97802734375,4544.9384765625,4541.89306640625,4537.45556640625,4534.17724609375,4533.056640625,4533.8701171875,4533.88818359375,4531.53125,4528.6171875,4527.384765625,4526.99365234375,4525.865234375,4522.93505859375,4518.26123046875,4510.89794921875,4503.005859375,4495.94775390625,4488.56494140625,4480.93994140625,4471.9384765625,4463.5439453125,4456.84521484375,4452.03515625,4448.37255859375,4445.81787109375,4444.3251953125,4443.39453125,4442.9716796875,4442.04052734375,4438.5791015625,4434.21484375,4427.4755859375,4418.96728515625,4408.5986328125,4397.23095703125,4386.04638671875,4374.42041015625,4360.748046875,4349.1611328125,4342.34521484375,4340.63134765625,4342.66455078125,4346.259765625,4350.33837890625,4356.3955078125,4363.13818359375,4370.12353515625,4371.7490234375,4364.7314453125,4352.44189453125,4340.09228515625,4328.5205078125,4316.27001953125,4303.07763671875,4289.076171875,4272.12744140625,4252.666015625,4232.421875,4211.94189453125,4191.7890625,4172.85595703125,4155.310546875,4138.3076171875,4123.7490234375,4112.1923828125,4102.22998046875,4092.8544921875,4086.448974609375,4080.67041015625,4075.35498046875,4066.09619140625,4043.535888671875,4009.465576171875,3970.522705078125,3930.5029296875,3893.734619140625,3862.8701171875,3839.759033203125,3820.415283203125,3803.299072265625,3789.039306640625,3778.63720703125,3775.05126953125,3775.370849609375,3779.8984375,3785.023193359375,3792.728515625,3798.575927734375,3804.588623046875,3808.347900390625,3813.392578125,3820.905517578125,3830.892822265625,3839.399658203125,3841.40576171875,3840.896240234375,3841.443603515625,3846.923828125,3855.8662109375,3863.190673828125,3870.260498046875,3881.095947265625,3895.7041015625,3910.264892578125,3922.603271484375,3930.935791015625,3935.369140625,3941.361083984375,3950.03857421875,3959.979248046875,3966.857421875,3970.388916015625,3971.494140625,3971.1962890625,3969.890869140625,3964.8017578125,3957.687255859375,3946.354736328125,3933.82275390625,3919.922607421875,3907.236083984375,3895.779052734375,3885.034423828125,3874.224609375,3866.18994140625,3862.42333984375,3863.971923828125,3873.663818359375,3891.69287109375,3913.0166015625,3931.343994140625,3946.57470703125,3957.792236328125,3965.8486328125],\"type\":\"scatter\"}],                        {\"template\":{\"data\":{\"bar\":[{\"error_x\":{\"color\":\"#2a3f5f\"},\"error_y\":{\"color\":\"#2a3f5f\"},\"marker\":{\"line\":{\"color\":\"#E5ECF6\",\"width\":0.5},\"pattern\":{\"fillmode\":\"overlay\",\"size\":10,\"solidity\":0.2}},\"type\":\"bar\"}],\"barpolar\":[{\"marker\":{\"line\":{\"color\":\"#E5ECF6\",\"width\":0.5},\"pattern\":{\"fillmode\":\"overlay\",\"size\":10,\"solidity\":0.2}},\"type\":\"barpolar\"}],\"carpet\":[{\"aaxis\":{\"endlinecolor\":\"#2a3f5f\",\"gridcolor\":\"white\",\"linecolor\":\"white\",\"minorgridcolor\":\"white\",\"startlinecolor\":\"#2a3f5f\"},\"baxis\":{\"endlinecolor\":\"#2a3f5f\",\"gridcolor\":\"white\",\"linecolor\":\"white\",\"minorgridcolor\":\"white\",\"startlinecolor\":\"#2a3f5f\"},\"type\":\"carpet\"}],\"choropleth\":[{\"colorbar\":{\"outlinewidth\":0,\"ticks\":\"\"},\"type\":\"choropleth\"}],\"contour\":[{\"colorbar\":{\"outlinewidth\":0,\"ticks\":\"\"},\"colorscale\":[[0.0,\"#0d0887\"],[0.1111111111111111,\"#46039f\"],[0.2222222222222222,\"#7201a8\"],[0.3333333333333333,\"#9c179e\"],[0.4444444444444444,\"#bd3786\"],[0.5555555555555556,\"#d8576b\"],[0.6666666666666666,\"#ed7953\"],[0.7777777777777778,\"#fb9f3a\"],[0.8888888888888888,\"#fdca26\"],[1.0,\"#f0f921\"]],\"type\":\"contour\"}],\"contourcarpet\":[{\"colorbar\":{\"outlinewidth\":0,\"ticks\":\"\"},\"type\":\"contourcarpet\"}],\"heatmap\":[{\"colorbar\":{\"outlinewidth\":0,\"ticks\":\"\"},\"colorscale\":[[0.0,\"#0d0887\"],[0.1111111111111111,\"#46039f\"],[0.2222222222222222,\"#7201a8\"],[0.3333333333333333,\"#9c179e\"],[0.4444444444444444,\"#bd3786\"],[0.5555555555555556,\"#d8576b\"],[0.6666666666666666,\"#ed7953\"],[0.7777777777777778,\"#fb9f3a\"],[0.8888888888888888,\"#fdca26\"],[1.0,\"#f0f921\"]],\"type\":\"heatmap\"}],\"heatmapgl\":[{\"colorbar\":{\"outlinewidth\":0,\"ticks\":\"\"},\"colorscale\":[[0.0,\"#0d0887\"],[0.1111111111111111,\"#46039f\"],[0.2222222222222222,\"#7201a8\"],[0.3333333333333333,\"#9c179e\"],[0.4444444444444444,\"#bd3786\"],[0.5555555555555556,\"#d8576b\"],[0.6666666666666666,\"#ed7953\"],[0.7777777777777778,\"#fb9f3a\"],[0.8888888888888888,\"#fdca26\"],[1.0,\"#f0f921\"]],\"type\":\"heatmapgl\"}],\"histogram\":[{\"marker\":{\"pattern\":{\"fillmode\":\"overlay\",\"size\":10,\"solidity\":0.2}},\"type\":\"histogram\"}],\"histogram2d\":[{\"colorbar\":{\"outlinewidth\":0,\"ticks\":\"\"},\"colorscale\":[[0.0,\"#0d0887\"],[0.1111111111111111,\"#46039f\"],[0.2222222222222222,\"#7201a8\"],[0.3333333333333333,\"#9c179e\"],[0.4444444444444444,\"#bd3786\"],[0.5555555555555556,\"#d8576b\"],[0.6666666666666666,\"#ed7953\"],[0.7777777777777778,\"#fb9f3a\"],[0.8888888888888888,\"#fdca26\"],[1.0,\"#f0f921\"]],\"type\":\"histogram2d\"}],\"histogram2dcontour\":[{\"colorbar\":{\"outlinewidth\":0,\"ticks\":\"\"},\"colorscale\":[[0.0,\"#0d0887\"],[0.1111111111111111,\"#46039f\"],[0.2222222222222222,\"#7201a8\"],[0.3333333333333333,\"#9c179e\"],[0.4444444444444444,\"#bd3786\"],[0.5555555555555556,\"#d8576b\"],[0.6666666666666666,\"#ed7953\"],[0.7777777777777778,\"#fb9f3a\"],[0.8888888888888888,\"#fdca26\"],[1.0,\"#f0f921\"]],\"type\":\"histogram2dcontour\"}],\"mesh3d\":[{\"colorbar\":{\"outlinewidth\":0,\"ticks\":\"\"},\"type\":\"mesh3d\"}],\"parcoords\":[{\"line\":{\"colorbar\":{\"outlinewidth\":0,\"ticks\":\"\"}},\"type\":\"parcoords\"}],\"pie\":[{\"automargin\":true,\"type\":\"pie\"}],\"scatter\":[{\"marker\":{\"colorbar\":{\"outlinewidth\":0,\"ticks\":\"\"}},\"type\":\"scatter\"}],\"scatter3d\":[{\"line\":{\"colorbar\":{\"outlinewidth\":0,\"ticks\":\"\"}},\"marker\":{\"colorbar\":{\"outlinewidth\":0,\"ticks\":\"\"}},\"type\":\"scatter3d\"}],\"scattercarpet\":[{\"marker\":{\"colorbar\":{\"outlinewidth\":0,\"ticks\":\"\"}},\"type\":\"scattercarpet\"}],\"scattergeo\":[{\"marker\":{\"colorbar\":{\"outlinewidth\":0,\"ticks\":\"\"}},\"type\":\"scattergeo\"}],\"scattergl\":[{\"marker\":{\"colorbar\":{\"outlinewidth\":0,\"ticks\":\"\"}},\"type\":\"scattergl\"}],\"scattermapbox\":[{\"marker\":{\"colorbar\":{\"outlinewidth\":0,\"ticks\":\"\"}},\"type\":\"scattermapbox\"}],\"scatterpolar\":[{\"marker\":{\"colorbar\":{\"outlinewidth\":0,\"ticks\":\"\"}},\"type\":\"scatterpolar\"}],\"scatterpolargl\":[{\"marker\":{\"colorbar\":{\"outlinewidth\":0,\"ticks\":\"\"}},\"type\":\"scatterpolargl\"}],\"scatterternary\":[{\"marker\":{\"colorbar\":{\"outlinewidth\":0,\"ticks\":\"\"}},\"type\":\"scatterternary\"}],\"surface\":[{\"colorbar\":{\"outlinewidth\":0,\"ticks\":\"\"},\"colorscale\":[[0.0,\"#0d0887\"],[0.1111111111111111,\"#46039f\"],[0.2222222222222222,\"#7201a8\"],[0.3333333333333333,\"#9c179e\"],[0.4444444444444444,\"#bd3786\"],[0.5555555555555556,\"#d8576b\"],[0.6666666666666666,\"#ed7953\"],[0.7777777777777778,\"#fb9f3a\"],[0.8888888888888888,\"#fdca26\"],[1.0,\"#f0f921\"]],\"type\":\"surface\"}],\"table\":[{\"cells\":{\"fill\":{\"color\":\"#EBF0F8\"},\"line\":{\"color\":\"white\"}},\"header\":{\"fill\":{\"color\":\"#C8D4E3\"},\"line\":{\"color\":\"white\"}},\"type\":\"table\"}]},\"layout\":{\"annotationdefaults\":{\"arrowcolor\":\"#2a3f5f\",\"arrowhead\":0,\"arrowwidth\":1},\"autotypenumbers\":\"strict\",\"coloraxis\":{\"colorbar\":{\"outlinewidth\":0,\"ticks\":\"\"}},\"colorscale\":{\"diverging\":[[0,\"#8e0152\"],[0.1,\"#c51b7d\"],[0.2,\"#de77ae\"],[0.3,\"#f1b6da\"],[0.4,\"#fde0ef\"],[0.5,\"#f7f7f7\"],[0.6,\"#e6f5d0\"],[0.7,\"#b8e186\"],[0.8,\"#7fbc41\"],[0.9,\"#4d9221\"],[1,\"#276419\"]],\"sequential\":[[0.0,\"#0d0887\"],[0.1111111111111111,\"#46039f\"],[0.2222222222222222,\"#7201a8\"],[0.3333333333333333,\"#9c179e\"],[0.4444444444444444,\"#bd3786\"],[0.5555555555555556,\"#d8576b\"],[0.6666666666666666,\"#ed7953\"],[0.7777777777777778,\"#fb9f3a\"],[0.8888888888888888,\"#fdca26\"],[1.0,\"#f0f921\"]],\"sequentialminus\":[[0.0,\"#0d0887\"],[0.1111111111111111,\"#46039f\"],[0.2222222222222222,\"#7201a8\"],[0.3333333333333333,\"#9c179e\"],[0.4444444444444444,\"#bd3786\"],[0.5555555555555556,\"#d8576b\"],[0.6666666666666666,\"#ed7953\"],[0.7777777777777778,\"#fb9f3a\"],[0.8888888888888888,\"#fdca26\"],[1.0,\"#f0f921\"]]},\"colorway\":[\"#636efa\",\"#EF553B\",\"#00cc96\",\"#ab63fa\",\"#FFA15A\",\"#19d3f3\",\"#FF6692\",\"#B6E880\",\"#FF97FF\",\"#FECB52\"],\"font\":{\"color\":\"#2a3f5f\"},\"geo\":{\"bgcolor\":\"white\",\"lakecolor\":\"white\",\"landcolor\":\"#E5ECF6\",\"showlakes\":true,\"showland\":true,\"subunitcolor\":\"white\"},\"hoverlabel\":{\"align\":\"left\"},\"hovermode\":\"closest\",\"mapbox\":{\"style\":\"light\"},\"paper_bgcolor\":\"white\",\"plot_bgcolor\":\"#E5ECF6\",\"polar\":{\"angularaxis\":{\"gridcolor\":\"white\",\"linecolor\":\"white\",\"ticks\":\"\"},\"bgcolor\":\"#E5ECF6\",\"radialaxis\":{\"gridcolor\":\"white\",\"linecolor\":\"white\",\"ticks\":\"\"}},\"scene\":{\"xaxis\":{\"backgroundcolor\":\"#E5ECF6\",\"gridcolor\":\"white\",\"gridwidth\":2,\"linecolor\":\"white\",\"showbackground\":true,\"ticks\":\"\",\"zerolinecolor\":\"white\"},\"yaxis\":{\"backgroundcolor\":\"#E5ECF6\",\"gridcolor\":\"white\",\"gridwidth\":2,\"linecolor\":\"white\",\"showbackground\":true,\"ticks\":\"\",\"zerolinecolor\":\"white\"},\"zaxis\":{\"backgroundcolor\":\"#E5ECF6\",\"gridcolor\":\"white\",\"gridwidth\":2,\"linecolor\":\"white\",\"showbackground\":true,\"ticks\":\"\",\"zerolinecolor\":\"white\"}},\"shapedefaults\":{\"line\":{\"color\":\"#2a3f5f\"}},\"ternary\":{\"aaxis\":{\"gridcolor\":\"white\",\"linecolor\":\"white\",\"ticks\":\"\"},\"baxis\":{\"gridcolor\":\"white\",\"linecolor\":\"white\",\"ticks\":\"\"},\"bgcolor\":\"#E5ECF6\",\"caxis\":{\"gridcolor\":\"white\",\"linecolor\":\"white\",\"ticks\":\"\"}},\"title\":{\"x\":0.05},\"xaxis\":{\"automargin\":true,\"gridcolor\":\"white\",\"linecolor\":\"white\",\"ticks\":\"\",\"title\":{\"standoff\":15},\"zerolinecolor\":\"white\",\"zerolinewidth\":2},\"yaxis\":{\"automargin\":true,\"gridcolor\":\"white\",\"linecolor\":\"white\",\"ticks\":\"\",\"title\":{\"standoff\":15},\"zerolinecolor\":\"white\",\"zerolinewidth\":2}}},\"margin\":{\"l\":50,\"r\":50,\"b\":100,\"t\":100,\"pad\":4},\"title\":{\"text\":\"\"},\"xaxis\":{\"title\":{\"text\":\"Time\"}},\"yaxis\":{\"title\":{\"text\":\"Value\"}},\"autosize\":false,\"width\":600,\"height\":600,\"paper_bgcolor\":\"LightSteelBlue\",\"showlegend\":false},                        {\"responsive\": true}                    ).then(function(){\n",
              "                            \n",
              "var gd = document.getElementById('5fac80db-3b67-4f76-a10c-d33cbd06e946');\n",
              "var x = new MutationObserver(function (mutations, observer) {{\n",
              "        var display = window.getComputedStyle(gd).display;\n",
              "        if (!display || display === 'none') {{\n",
              "            console.log([gd, 'removed!']);\n",
              "            Plotly.purge(gd);\n",
              "            observer.disconnect();\n",
              "        }}\n",
              "}});\n",
              "\n",
              "// Listen for the removal of the full notebook cells\n",
              "var notebookContainer = gd.closest('#notebook-container');\n",
              "if (notebookContainer) {{\n",
              "    x.observe(notebookContainer, {childList: true});\n",
              "}}\n",
              "\n",
              "// Listen for the clearing of the current output cell\n",
              "var outputEl = gd.closest('.output');\n",
              "if (outputEl) {{\n",
              "    x.observe(outputEl, {childList: true});\n",
              "}}\n",
              "\n",
              "                        })                };                            </script>        </div>\n",
              "</body>\n",
              "</html>"
            ]
          },
          "metadata": {}
        }
      ]
    },
    {
      "cell_type": "code",
      "source": [
        "print(history_build1.history['loss'][-1])\n",
        "print(tf.keras.metrics.mean_squared_error(test_set_g2[:,-1], results2[:,-1]).numpy())\n",
        "print(tf.keras.metrics.mean_absolute_error(test_set_g2[:,-1], results2[:,-1]).numpy())"
      ],
      "metadata": {
        "colab": {
          "base_uri": "https://localhost:8080/"
        },
        "id": "wk4WP9_orHHX",
        "outputId": "9a70db1f-f8bb-474e-ade4-e6db5860c984"
      },
      "execution_count": 115,
      "outputs": [
        {
          "output_type": "stream",
          "name": "stdout",
          "text": [
            "0.005528532899916172\n",
            "13900.37\n",
            "89.74771\n"
          ]
        }
      ]
    },
    {
      "cell_type": "markdown",
      "source": [
        "Changing batch size from 32 to 16 can increase model performace quite a bit "
      ],
      "metadata": {
        "id": "9ugGKxFIrVqb"
      }
    },
    {
      "cell_type": "markdown",
      "source": [
        "## Adding a Callback for Early Stopping\n",
        "\n",
        "we also need validation set"
      ],
      "metadata": {
        "id": "odDtUKfYrl5q"
      }
    },
    {
      "cell_type": "code",
      "source": [
        "# convert to tensor\n",
        "test_set = tf.convert_to_tensor(df_test['Close'])\n",
        "test_set_normalised = minmax_scaler.transform(np.expand_dims(test_set, axis=1))"
      ],
      "metadata": {
        "id": "U-vipkEKrTfr"
      },
      "execution_count": 116,
      "outputs": []
    },
    {
      "cell_type": "code",
      "source": [
        "plot_series_plotly(df_test['Date'], test_set_normalised[:,0],\n",
        "                   series_name='Close', figure_title='Data test Normalized')"
      ],
      "metadata": {
        "colab": {
          "base_uri": "https://localhost:8080/",
          "height": 617
        },
        "id": "YhIK9STt0S-C",
        "outputId": "fced45e3-fae2-4874-e2f4-4e3c377c6532"
      },
      "execution_count": 117,
      "outputs": [
        {
          "output_type": "display_data",
          "data": {
            "text/html": [
              "<html>\n",
              "<head><meta charset=\"utf-8\" /></head>\n",
              "<body>\n",
              "    <div>            <script src=\"https://cdnjs.cloudflare.com/ajax/libs/mathjax/2.7.5/MathJax.js?config=TeX-AMS-MML_SVG\"></script><script type=\"text/javascript\">if (window.MathJax) {MathJax.Hub.Config({SVG: {font: \"STIX-Web\"}});}</script>                <script type=\"text/javascript\">window.PlotlyConfig = {MathJaxConfig: 'local'};</script>\n",
              "        <script src=\"https://cdn.plot.ly/plotly-2.8.3.min.js\"></script>                <div id=\"1f2568ef-e62b-4e50-bfce-02c8a24a5a16\" class=\"plotly-graph-div\" style=\"height:600px; width:600px;\"></div>            <script type=\"text/javascript\">                                    window.PLOTLYENV=window.PLOTLYENV || {};                                    if (document.getElementById(\"1f2568ef-e62b-4e50-bfce-02c8a24a5a16\")) {                    Plotly.newPlot(                        \"1f2568ef-e62b-4e50-bfce-02c8a24a5a16\",                        [{\"mode\":\"lines\",\"x\":[\"2022-08-10T00:00:00\",\"2022-08-11T00:00:00\",\"2022-08-12T00:00:00\",\"2022-08-15T00:00:00\",\"2022-08-16T00:00:00\",\"2022-08-18T00:00:00\",\"2022-08-19T00:00:00\",\"2022-08-22T00:00:00\",\"2022-08-23T00:00:00\",\"2022-08-24T00:00:00\",\"2022-08-25T00:00:00\",\"2022-08-26T00:00:00\",\"2022-08-29T00:00:00\",\"2022-08-30T00:00:00\",\"2022-08-31T00:00:00\",\"2022-09-01T00:00:00\",\"2022-09-02T00:00:00\",\"2022-09-05T00:00:00\",\"2022-09-06T00:00:00\",\"2022-09-07T00:00:00\",\"2022-09-08T00:00:00\",\"2022-09-09T00:00:00\",\"2022-09-12T00:00:00\",\"2022-09-13T00:00:00\",\"2022-09-14T00:00:00\",\"2022-09-15T00:00:00\",\"2022-09-16T00:00:00\",\"2022-09-19T00:00:00\",\"2022-09-20T00:00:00\",\"2022-09-21T00:00:00\",\"2022-09-22T00:00:00\",\"2022-09-23T00:00:00\",\"2022-09-26T00:00:00\",\"2022-09-27T00:00:00\",\"2022-09-28T00:00:00\",\"2022-09-29T00:00:00\",\"2022-09-30T00:00:00\",\"2022-10-03T00:00:00\",\"2022-10-04T00:00:00\",\"2022-10-05T00:00:00\",\"2022-10-06T00:00:00\",\"2022-10-07T00:00:00\",\"2022-10-10T00:00:00\",\"2022-10-11T00:00:00\",\"2022-10-12T00:00:00\",\"2022-10-13T00:00:00\",\"2022-10-14T00:00:00\",\"2022-10-17T00:00:00\",\"2022-10-18T00:00:00\",\"2022-10-19T00:00:00\",\"2022-10-20T00:00:00\",\"2022-10-21T00:00:00\",\"2022-10-24T00:00:00\",\"2022-10-25T00:00:00\",\"2022-10-26T00:00:00\",\"2022-10-27T00:00:00\",\"2022-10-28T00:00:00\",\"2022-10-31T00:00:00\",\"2022-11-01T00:00:00\",\"2022-11-02T00:00:00\",\"2022-11-03T00:00:00\",\"2022-11-04T00:00:00\",\"2022-11-07T00:00:00\",\"2022-11-08T00:00:00\",\"2022-11-09T00:00:00\",\"2022-11-10T00:00:00\",\"2022-11-11T00:00:00\",\"2022-11-14T00:00:00\",\"2022-11-15T00:00:00\",\"2022-11-16T00:00:00\",\"2022-11-17T00:00:00\",\"2022-11-18T00:00:00\",\"2022-11-21T00:00:00\",\"2022-11-22T00:00:00\",\"2022-11-23T00:00:00\",\"2022-11-24T00:00:00\",\"2022-11-25T00:00:00\",\"2022-11-28T00:00:00\",\"2022-11-29T00:00:00\",\"2022-11-30T00:00:00\",\"2022-12-01T00:00:00\",\"2022-12-02T00:00:00\",\"2022-12-05T00:00:00\",\"2022-12-06T00:00:00\",\"2022-12-07T00:00:00\",\"2022-12-08T00:00:00\",\"2022-12-09T00:00:00\",\"2022-12-12T00:00:00\",\"2022-12-13T00:00:00\",\"2022-12-14T00:00:00\",\"2022-12-15T00:00:00\",\"2022-12-16T00:00:00\",\"2022-12-19T00:00:00\",\"2022-12-20T00:00:00\",\"2022-12-21T00:00:00\",\"2022-12-22T00:00:00\",\"2022-12-23T00:00:00\",\"2022-12-26T00:00:00\",\"2022-12-27T00:00:00\",\"2022-12-28T00:00:00\",\"2022-12-29T00:00:00\",\"2022-12-30T00:00:00\",\"2023-01-02T00:00:00\",\"2023-01-03T00:00:00\",\"2023-01-04T00:00:00\",\"2023-01-05T00:00:00\",\"2023-01-06T00:00:00\",\"2023-01-09T00:00:00\",\"2023-01-10T00:00:00\",\"2023-01-11T00:00:00\",\"2023-01-12T00:00:00\",\"2023-01-13T00:00:00\",\"2023-01-16T00:00:00\",\"2023-01-17T00:00:00\",\"2023-01-18T00:00:00\",\"2023-01-19T00:00:00\",\"2023-01-20T00:00:00\",\"2023-01-24T00:00:00\",\"2023-01-25T00:00:00\",\"2023-01-26T00:00:00\",\"2023-01-27T00:00:00\",\"2023-01-30T00:00:00\",\"2023-01-31T00:00:00\",\"2023-02-01T00:00:00\",\"2023-02-02T00:00:00\",\"2023-02-03T00:00:00\",\"2023-02-06T00:00:00\",\"2023-02-07T00:00:00\",\"2023-02-08T00:00:00\",\"2023-02-09T00:00:00\",\"2023-02-10T00:00:00\",\"2023-02-13T00:00:00\",\"2023-02-14T00:00:00\",\"2023-02-15T00:00:00\",\"2023-02-16T00:00:00\",\"2023-02-17T00:00:00\",\"2023-02-20T00:00:00\",\"2023-02-21T00:00:00\",\"2023-02-22T00:00:00\",\"2023-02-23T00:00:00\",\"2023-02-24T00:00:00\",\"2023-02-27T00:00:00\",\"2023-02-28T00:00:00\",\"2023-03-01T00:00:00\",\"2023-03-02T00:00:00\",\"2023-03-03T00:00:00\",\"2023-03-06T00:00:00\"],\"y\":[0.809954751131222,0.819004524886878,0.8009049773755659,0.7104072398190042,0.6742081447963799,0.8009049773755659,0.8461538461538463,0.8914027149321266,0.9004524886877827,0.9819004524886874,0.819004524886878,0.7466063348416285,0.7737556561085976,0.7375565610859725,0.809954751131222,0.8280542986425341,0.8461538461538463,0.8642533936651584,0.7647058823529416,0.7466063348416285,0.809954751131222,0.8461538461538463,0.7918552036199098,0.7737556561085976,0.7375565610859725,0.7556561085972846,0.6742081447963799,0.7556561085972846,0.7375565610859725,0.6923076923076921,0.6923076923076921,0.6470588235294117,0.7194570135746603,0.7013574660633481,0.7285067873303164,0.7013574660633481,0.7194570135746603,0.7194570135746603,0.7013574660633481,0.7194570135746603,0.6923076923076921,0.6199095022624435,0.683257918552036,0.5837104072398192,0.6108597285067874,0.5746606334841626,0.5656108597285066,0.6018099547511313,0.5294117647058822,0.48416289592760187,0.6199095022624435,0.6289592760180995,0.6742081447963799,0.6561085972850678,0.6380090497737556,0.6380090497737556,0.7104072398190042,0.6561085972850678,0.683257918552036,0.502262443438914,0.4208144796380089,0.49321266968325794,0.5565610859728505,0.502262443438914,0.4751131221719458,0.45701357466063364,0.43891402714932104,0.3484162895927603,0.3484162895927603,0.3484162895927603,0.3393665158371042,0.3122171945701355,0.3303167420814481,0.30316742081447945,0.2760180995475112,0.3303167420814481,0.3303167420814481,0.2850678733031673,0.2850678733031673,0.3393665158371042,0.26696832579185514,0.30316742081447945,0.15837104072398178,-0.05882352941176494,0.013574660633484115,0.06787330316742057,-0.013574660633484115,0.03167420814479627,0.07692307692307665,0.07692307692307665,0.004524886877828038,0.013574660633484115,0.04977375565610842,0.04977375565610842,0.1131221719457014,0.07692307692307665,0.10407239819004532,0.07692307692307665,0.13122171945701355,0.0588235294117645,0.10407239819004532,0.07692307692307665,0.12217194570135748,0.17647058823529393,0.14027149321266963,0.09502262443438925,0.040723981900452344,0.1131221719457014,0.1493212669683257,0.18552036199095,0.17647058823529393,0.10407239819004532,0.16742081447963786,0.25791855203619907,0.23981900452488691,0.20361990950226216,0.18552036199095,0.16742081447963786,0.15837104072398178,0.2760180995475112,0.26696832579185514,0.26696832579185514,0.16742081447963786,0.18552036199095,0.20361990950226216,0.1945701357466061,0.1945701357466061,0.12217194570135748,0.15837104072398178,0.09502262443438925,0.12217194570135748,0.1131221719457014,0.12217194570135748,0.1131221719457014,0.09502262443438925,0.08597285067873317,0.14027149321266963,0.15837104072398178,0.17647058823529393,0.2760180995475112,0.3393665158371042,0.26696832579185514,0.1945701357466061,0.23981900452488691,0.1945701357466061,0.21266968325791868,0.1945701357466061],\"type\":\"scatter\"}],                        {\"template\":{\"data\":{\"bar\":[{\"error_x\":{\"color\":\"#2a3f5f\"},\"error_y\":{\"color\":\"#2a3f5f\"},\"marker\":{\"line\":{\"color\":\"#E5ECF6\",\"width\":0.5},\"pattern\":{\"fillmode\":\"overlay\",\"size\":10,\"solidity\":0.2}},\"type\":\"bar\"}],\"barpolar\":[{\"marker\":{\"line\":{\"color\":\"#E5ECF6\",\"width\":0.5},\"pattern\":{\"fillmode\":\"overlay\",\"size\":10,\"solidity\":0.2}},\"type\":\"barpolar\"}],\"carpet\":[{\"aaxis\":{\"endlinecolor\":\"#2a3f5f\",\"gridcolor\":\"white\",\"linecolor\":\"white\",\"minorgridcolor\":\"white\",\"startlinecolor\":\"#2a3f5f\"},\"baxis\":{\"endlinecolor\":\"#2a3f5f\",\"gridcolor\":\"white\",\"linecolor\":\"white\",\"minorgridcolor\":\"white\",\"startlinecolor\":\"#2a3f5f\"},\"type\":\"carpet\"}],\"choropleth\":[{\"colorbar\":{\"outlinewidth\":0,\"ticks\":\"\"},\"type\":\"choropleth\"}],\"contour\":[{\"colorbar\":{\"outlinewidth\":0,\"ticks\":\"\"},\"colorscale\":[[0.0,\"#0d0887\"],[0.1111111111111111,\"#46039f\"],[0.2222222222222222,\"#7201a8\"],[0.3333333333333333,\"#9c179e\"],[0.4444444444444444,\"#bd3786\"],[0.5555555555555556,\"#d8576b\"],[0.6666666666666666,\"#ed7953\"],[0.7777777777777778,\"#fb9f3a\"],[0.8888888888888888,\"#fdca26\"],[1.0,\"#f0f921\"]],\"type\":\"contour\"}],\"contourcarpet\":[{\"colorbar\":{\"outlinewidth\":0,\"ticks\":\"\"},\"type\":\"contourcarpet\"}],\"heatmap\":[{\"colorbar\":{\"outlinewidth\":0,\"ticks\":\"\"},\"colorscale\":[[0.0,\"#0d0887\"],[0.1111111111111111,\"#46039f\"],[0.2222222222222222,\"#7201a8\"],[0.3333333333333333,\"#9c179e\"],[0.4444444444444444,\"#bd3786\"],[0.5555555555555556,\"#d8576b\"],[0.6666666666666666,\"#ed7953\"],[0.7777777777777778,\"#fb9f3a\"],[0.8888888888888888,\"#fdca26\"],[1.0,\"#f0f921\"]],\"type\":\"heatmap\"}],\"heatmapgl\":[{\"colorbar\":{\"outlinewidth\":0,\"ticks\":\"\"},\"colorscale\":[[0.0,\"#0d0887\"],[0.1111111111111111,\"#46039f\"],[0.2222222222222222,\"#7201a8\"],[0.3333333333333333,\"#9c179e\"],[0.4444444444444444,\"#bd3786\"],[0.5555555555555556,\"#d8576b\"],[0.6666666666666666,\"#ed7953\"],[0.7777777777777778,\"#fb9f3a\"],[0.8888888888888888,\"#fdca26\"],[1.0,\"#f0f921\"]],\"type\":\"heatmapgl\"}],\"histogram\":[{\"marker\":{\"pattern\":{\"fillmode\":\"overlay\",\"size\":10,\"solidity\":0.2}},\"type\":\"histogram\"}],\"histogram2d\":[{\"colorbar\":{\"outlinewidth\":0,\"ticks\":\"\"},\"colorscale\":[[0.0,\"#0d0887\"],[0.1111111111111111,\"#46039f\"],[0.2222222222222222,\"#7201a8\"],[0.3333333333333333,\"#9c179e\"],[0.4444444444444444,\"#bd3786\"],[0.5555555555555556,\"#d8576b\"],[0.6666666666666666,\"#ed7953\"],[0.7777777777777778,\"#fb9f3a\"],[0.8888888888888888,\"#fdca26\"],[1.0,\"#f0f921\"]],\"type\":\"histogram2d\"}],\"histogram2dcontour\":[{\"colorbar\":{\"outlinewidth\":0,\"ticks\":\"\"},\"colorscale\":[[0.0,\"#0d0887\"],[0.1111111111111111,\"#46039f\"],[0.2222222222222222,\"#7201a8\"],[0.3333333333333333,\"#9c179e\"],[0.4444444444444444,\"#bd3786\"],[0.5555555555555556,\"#d8576b\"],[0.6666666666666666,\"#ed7953\"],[0.7777777777777778,\"#fb9f3a\"],[0.8888888888888888,\"#fdca26\"],[1.0,\"#f0f921\"]],\"type\":\"histogram2dcontour\"}],\"mesh3d\":[{\"colorbar\":{\"outlinewidth\":0,\"ticks\":\"\"},\"type\":\"mesh3d\"}],\"parcoords\":[{\"line\":{\"colorbar\":{\"outlinewidth\":0,\"ticks\":\"\"}},\"type\":\"parcoords\"}],\"pie\":[{\"automargin\":true,\"type\":\"pie\"}],\"scatter\":[{\"marker\":{\"colorbar\":{\"outlinewidth\":0,\"ticks\":\"\"}},\"type\":\"scatter\"}],\"scatter3d\":[{\"line\":{\"colorbar\":{\"outlinewidth\":0,\"ticks\":\"\"}},\"marker\":{\"colorbar\":{\"outlinewidth\":0,\"ticks\":\"\"}},\"type\":\"scatter3d\"}],\"scattercarpet\":[{\"marker\":{\"colorbar\":{\"outlinewidth\":0,\"ticks\":\"\"}},\"type\":\"scattercarpet\"}],\"scattergeo\":[{\"marker\":{\"colorbar\":{\"outlinewidth\":0,\"ticks\":\"\"}},\"type\":\"scattergeo\"}],\"scattergl\":[{\"marker\":{\"colorbar\":{\"outlinewidth\":0,\"ticks\":\"\"}},\"type\":\"scattergl\"}],\"scattermapbox\":[{\"marker\":{\"colorbar\":{\"outlinewidth\":0,\"ticks\":\"\"}},\"type\":\"scattermapbox\"}],\"scatterpolar\":[{\"marker\":{\"colorbar\":{\"outlinewidth\":0,\"ticks\":\"\"}},\"type\":\"scatterpolar\"}],\"scatterpolargl\":[{\"marker\":{\"colorbar\":{\"outlinewidth\":0,\"ticks\":\"\"}},\"type\":\"scatterpolargl\"}],\"scatterternary\":[{\"marker\":{\"colorbar\":{\"outlinewidth\":0,\"ticks\":\"\"}},\"type\":\"scatterternary\"}],\"surface\":[{\"colorbar\":{\"outlinewidth\":0,\"ticks\":\"\"},\"colorscale\":[[0.0,\"#0d0887\"],[0.1111111111111111,\"#46039f\"],[0.2222222222222222,\"#7201a8\"],[0.3333333333333333,\"#9c179e\"],[0.4444444444444444,\"#bd3786\"],[0.5555555555555556,\"#d8576b\"],[0.6666666666666666,\"#ed7953\"],[0.7777777777777778,\"#fb9f3a\"],[0.8888888888888888,\"#fdca26\"],[1.0,\"#f0f921\"]],\"type\":\"surface\"}],\"table\":[{\"cells\":{\"fill\":{\"color\":\"#EBF0F8\"},\"line\":{\"color\":\"white\"}},\"header\":{\"fill\":{\"color\":\"#C8D4E3\"},\"line\":{\"color\":\"white\"}},\"type\":\"table\"}]},\"layout\":{\"annotationdefaults\":{\"arrowcolor\":\"#2a3f5f\",\"arrowhead\":0,\"arrowwidth\":1},\"autotypenumbers\":\"strict\",\"coloraxis\":{\"colorbar\":{\"outlinewidth\":0,\"ticks\":\"\"}},\"colorscale\":{\"diverging\":[[0,\"#8e0152\"],[0.1,\"#c51b7d\"],[0.2,\"#de77ae\"],[0.3,\"#f1b6da\"],[0.4,\"#fde0ef\"],[0.5,\"#f7f7f7\"],[0.6,\"#e6f5d0\"],[0.7,\"#b8e186\"],[0.8,\"#7fbc41\"],[0.9,\"#4d9221\"],[1,\"#276419\"]],\"sequential\":[[0.0,\"#0d0887\"],[0.1111111111111111,\"#46039f\"],[0.2222222222222222,\"#7201a8\"],[0.3333333333333333,\"#9c179e\"],[0.4444444444444444,\"#bd3786\"],[0.5555555555555556,\"#d8576b\"],[0.6666666666666666,\"#ed7953\"],[0.7777777777777778,\"#fb9f3a\"],[0.8888888888888888,\"#fdca26\"],[1.0,\"#f0f921\"]],\"sequentialminus\":[[0.0,\"#0d0887\"],[0.1111111111111111,\"#46039f\"],[0.2222222222222222,\"#7201a8\"],[0.3333333333333333,\"#9c179e\"],[0.4444444444444444,\"#bd3786\"],[0.5555555555555556,\"#d8576b\"],[0.6666666666666666,\"#ed7953\"],[0.7777777777777778,\"#fb9f3a\"],[0.8888888888888888,\"#fdca26\"],[1.0,\"#f0f921\"]]},\"colorway\":[\"#636efa\",\"#EF553B\",\"#00cc96\",\"#ab63fa\",\"#FFA15A\",\"#19d3f3\",\"#FF6692\",\"#B6E880\",\"#FF97FF\",\"#FECB52\"],\"font\":{\"color\":\"#2a3f5f\"},\"geo\":{\"bgcolor\":\"white\",\"lakecolor\":\"white\",\"landcolor\":\"#E5ECF6\",\"showlakes\":true,\"showland\":true,\"subunitcolor\":\"white\"},\"hoverlabel\":{\"align\":\"left\"},\"hovermode\":\"closest\",\"mapbox\":{\"style\":\"light\"},\"paper_bgcolor\":\"white\",\"plot_bgcolor\":\"#E5ECF6\",\"polar\":{\"angularaxis\":{\"gridcolor\":\"white\",\"linecolor\":\"white\",\"ticks\":\"\"},\"bgcolor\":\"#E5ECF6\",\"radialaxis\":{\"gridcolor\":\"white\",\"linecolor\":\"white\",\"ticks\":\"\"}},\"scene\":{\"xaxis\":{\"backgroundcolor\":\"#E5ECF6\",\"gridcolor\":\"white\",\"gridwidth\":2,\"linecolor\":\"white\",\"showbackground\":true,\"ticks\":\"\",\"zerolinecolor\":\"white\"},\"yaxis\":{\"backgroundcolor\":\"#E5ECF6\",\"gridcolor\":\"white\",\"gridwidth\":2,\"linecolor\":\"white\",\"showbackground\":true,\"ticks\":\"\",\"zerolinecolor\":\"white\"},\"zaxis\":{\"backgroundcolor\":\"#E5ECF6\",\"gridcolor\":\"white\",\"gridwidth\":2,\"linecolor\":\"white\",\"showbackground\":true,\"ticks\":\"\",\"zerolinecolor\":\"white\"}},\"shapedefaults\":{\"line\":{\"color\":\"#2a3f5f\"}},\"ternary\":{\"aaxis\":{\"gridcolor\":\"white\",\"linecolor\":\"white\",\"ticks\":\"\"},\"baxis\":{\"gridcolor\":\"white\",\"linecolor\":\"white\",\"ticks\":\"\"},\"bgcolor\":\"#E5ECF6\",\"caxis\":{\"gridcolor\":\"white\",\"linecolor\":\"white\",\"ticks\":\"\"}},\"title\":{\"x\":0.05},\"xaxis\":{\"automargin\":true,\"gridcolor\":\"white\",\"linecolor\":\"white\",\"ticks\":\"\",\"title\":{\"standoff\":15},\"zerolinecolor\":\"white\",\"zerolinewidth\":2},\"yaxis\":{\"automargin\":true,\"gridcolor\":\"white\",\"linecolor\":\"white\",\"ticks\":\"\",\"title\":{\"standoff\":15},\"zerolinecolor\":\"white\",\"zerolinewidth\":2}}},\"margin\":{\"l\":50,\"r\":50,\"b\":100,\"t\":100,\"pad\":4},\"title\":{\"text\":\"Data test Normalized\"},\"xaxis\":{\"title\":{\"text\":\"Time\"}},\"yaxis\":{\"title\":{\"text\":\"Value\"}},\"autosize\":false,\"width\":600,\"height\":600,\"paper_bgcolor\":\"LightSteelBlue\",\"showlegend\":false},                        {\"responsive\": true}                    ).then(function(){\n",
              "                            \n",
              "var gd = document.getElementById('1f2568ef-e62b-4e50-bfce-02c8a24a5a16');\n",
              "var x = new MutationObserver(function (mutations, observer) {{\n",
              "        var display = window.getComputedStyle(gd).display;\n",
              "        if (!display || display === 'none') {{\n",
              "            console.log([gd, 'removed!']);\n",
              "            Plotly.purge(gd);\n",
              "            observer.disconnect();\n",
              "        }}\n",
              "}});\n",
              "\n",
              "// Listen for the removal of the full notebook cells\n",
              "var notebookContainer = gd.closest('#notebook-container');\n",
              "if (notebookContainer) {{\n",
              "    x.observe(notebookContainer, {childList: true});\n",
              "}}\n",
              "\n",
              "// Listen for the clearing of the current output cell\n",
              "var outputEl = gd.closest('.output');\n",
              "if (outputEl) {{\n",
              "    x.observe(outputEl, {childList: true});\n",
              "}}\n",
              "\n",
              "                        })                };                            </script>        </div>\n",
              "</body>\n",
              "</html>"
            ]
          },
          "metadata": {}
        }
      ]
    },
    {
      "cell_type": "code",
      "source": [
        "print(test_set_normalized.shape)"
      ],
      "metadata": {
        "colab": {
          "base_uri": "https://localhost:8080/"
        },
        "id": "x_f5d4pK01FM",
        "outputId": "6d26cbb2-6a67-485e-9ddf-7163be276907"
      },
      "execution_count": 121,
      "outputs": [
        {
          "output_type": "stream",
          "name": "stdout",
          "text": [
            "(147, 1)\n"
          ]
        }
      ]
    },
    {
      "cell_type": "code",
      "source": [
        "## Prepare features and labels (windowed data)\n",
        "\n",
        "# Generate the dataset windows\n",
        "windowed_test_ds = windowed_dataset(test_set_normalized, window_size, \n",
        "                           batch_size, shuffle_buffer_size)\n",
        "     "
      ],
      "metadata": {
        "id": "-ZXFCsC00hbY"
      },
      "execution_count": 118,
      "outputs": []
    },
    {
      "cell_type": "code",
      "source": [
        "# Print properties of a single batch\n",
        "for windows in windowed_test_ds.take(1):\n",
        "  print(f'data type: {type(windows)}')\n",
        "  print(f'number of elements in the tuple: {len(windows)}')\n",
        "  print(f'shape of first element: {windows[0].shape}')\n",
        "  print(f'shape of second element: {windows[1].shape}')\n",
        "  print(f'shape of first element expanded: {tf.expand_dims(windows[0], axis=-1).shape}')"
      ],
      "metadata": {
        "colab": {
          "base_uri": "https://localhost:8080/"
        },
        "id": "iHKYFIzA0vWy",
        "outputId": "601f6689-e5d2-4e30-af40-9260ee065120"
      },
      "execution_count": 123,
      "outputs": [
        {
          "output_type": "stream",
          "name": "stdout",
          "text": [
            "data type: <class 'tuple'>\n",
            "number of elements in the tuple: 2\n",
            "shape of first element: (16, 20, 1)\n",
            "shape of second element: (16, 1)\n",
            "shape of first element expanded: (16, 20, 1, 1)\n"
          ]
        }
      ]
    },
    {
      "cell_type": "markdown",
      "source": [
        "define a callback function that is run every end of an epoch. Inside, you will define the condition to stop training. For this lab, you will set it to stop when the val_mae is less than 5.2."
      ],
      "metadata": {
        "id": "oPo7OyPKF7-c"
      }
    },
    {
      "cell_type": "code",
      "source": [
        "class myCallback(tf.keras.callbacks.Callback):\n",
        "  def on_epoch_end(self, epoch, logs={}):\n",
        "    '''\n",
        "    Halts the training when a certain metric is met\n",
        "\n",
        "    Args:\n",
        "      epoch (integer) - index of epoch (required but unused in the function definition below)\n",
        "      logs (dict) - metric results from the training epoch\n",
        "    '''\n",
        "\n",
        "    # Check the validation set MAE\n",
        "    if(logs.get('val_mae') < 0.01):\n",
        "\n",
        "      # Stop if threshold is met\n",
        "      print(\"\\nRequired val MAE is met so cancelling training!\")\n",
        "      self.model.stop_training = True\n",
        "\n"
      ],
      "metadata": {
        "id": "EE1kHMCbGCPa"
      },
      "execution_count": 126,
      "outputs": []
    },
    {
      "cell_type": "code",
      "source": [
        "# Instantiate the class\n",
        "callbacks = myCallback()"
      ],
      "metadata": {
        "id": "dEGtzV1_GMDu"
      },
      "execution_count": 127,
      "outputs": []
    },
    {
      "cell_type": "markdown",
      "source": [
        "Remember to set an appropriate learning rate here. If you're starting from random weights, you may want to use the same rate you used earlier. If you did not reset the weights however, you can use a lower learning rate so the model can learn better. If all goes well, the training will stop before the set 500 epochs are completed."
      ],
      "metadata": {
        "id": "rdQRc64PGU2Z"
      }
    },
    {
      "cell_type": "code",
      "source": [
        "# Reset states generated by Keras\n",
        "tf.keras.backend.clear_session()\n",
        "\n",
        "model_tune2 = TS_LSTM_Model(window_size=window_size,\n",
        "                            feature_size=training_set_normalized.shape[1])\n",
        "#model_tune2.load_weights('./checkpoints/my_checkpoint')\n",
        "\n",
        "model_tune2.set_weights(init_weights)\n",
        "model_tune2.build(input_shape = (1, window_size, training_set_normalized.shape[1]))\n",
        "\n",
        "# Set the training parameters\n",
        "# usinbg mae as metrics\n",
        "model_tune2.compile(loss=tf.keras.losses.Huber(), \n",
        "                    optimizer=tf.keras.optimizers.SGD(\n",
        "                      learning_rate=0.003548,\n",
        "                      momentum=0.9), \n",
        "                    metrics=[\"mae\"])\n"
      ],
      "metadata": {
        "id": "6qGVno4zGUDo"
      },
      "execution_count": 128,
      "outputs": []
    },
    {
      "cell_type": "markdown",
      "source": [
        "set epoch to 500"
      ],
      "metadata": {
        "id": "656P_1_BG0XM"
      }
    },
    {
      "cell_type": "code",
      "source": [
        "# Train the model\n",
        "history_build_with_callbacks = model_tune2.fit(windowed_training_ds,\n",
        "                                 epochs=500,\n",
        "                                 validation_data=windowed_test_ds,\n",
        "                                 callbacks=[callbacks], \n",
        "                                 verbose=0)"
      ],
      "metadata": {
        "id": "J5o8iqKsFQGd"
      },
      "execution_count": 129,
      "outputs": []
    },
    {
      "cell_type": "code",
      "source": [
        "history_build_with_callbacks.history.keys()"
      ],
      "metadata": {
        "colab": {
          "base_uri": "https://localhost:8080/"
        },
        "id": "vhnJ6NpPHb0y",
        "outputId": "c8c760b8-8d2c-4351-a1fa-e396654b0163"
      },
      "execution_count": 130,
      "outputs": [
        {
          "output_type": "execute_result",
          "data": {
            "text/plain": [
              "dict_keys(['loss', 'mae', 'val_loss', 'val_mae'])"
            ]
          },
          "metadata": {},
          "execution_count": 130
        }
      ]
    },
    {
      "cell_type": "code",
      "source": [
        "plot_series_plotly(np.arange(0, epoch_value), \n",
        "                   (history_build_with_callbacks.history['loss'], history_build_with_callbacks.history['mae']),\n",
        "                   figure_title='Mae and loss value',\n",
        "                   series_name=['Loss Value', 'MAE Value'],\n",
        "                   xaxis_title='epoch', yaxis_title='Loss')"
      ],
      "metadata": {
        "colab": {
          "base_uri": "https://localhost:8080/",
          "height": 617
        },
        "id": "WZpCnDnyZq1r",
        "outputId": "6574a925-9b34-4ba2-af75-a0e1e38a052a"
      },
      "execution_count": 134,
      "outputs": [
        {
          "output_type": "display_data",
          "data": {
            "text/html": [
              "<html>\n",
              "<head><meta charset=\"utf-8\" /></head>\n",
              "<body>\n",
              "    <div>            <script src=\"https://cdnjs.cloudflare.com/ajax/libs/mathjax/2.7.5/MathJax.js?config=TeX-AMS-MML_SVG\"></script><script type=\"text/javascript\">if (window.MathJax) {MathJax.Hub.Config({SVG: {font: \"STIX-Web\"}});}</script>                <script type=\"text/javascript\">window.PlotlyConfig = {MathJaxConfig: 'local'};</script>\n",
              "        <script src=\"https://cdn.plot.ly/plotly-2.8.3.min.js\"></script>                <div id=\"5d44cb75-eaf6-4677-aa66-86aa24a902c6\" class=\"plotly-graph-div\" style=\"height:600px; width:600px;\"></div>            <script type=\"text/javascript\">                                    window.PLOTLYENV=window.PLOTLYENV || {};                                    if (document.getElementById(\"5d44cb75-eaf6-4677-aa66-86aa24a902c6\")) {                    Plotly.newPlot(                        \"5d44cb75-eaf6-4677-aa66-86aa24a902c6\",                        [{\"mode\":\"lines\",\"name\":\"Loss Value\",\"x\":[0,1,2,3,4,5,6,7,8,9,10,11,12,13,14,15,16,17,18,19,20,21,22,23,24,25,26,27,28,29,30,31,32,33,34,35,36,37,38,39,40,41,42,43,44,45,46,47,48,49,50,51,52,53,54,55,56,57,58,59,60,61,62,63,64,65,66,67,68,69,70,71,72,73,74,75,76,77,78,79,80,81,82,83,84,85,86,87,88,89,90,91,92,93,94,95,96,97,98,99],\"y\":[0.09942584484815598,0.06151185929775238,0.024969734251499176,0.0091407410800457,0.008318248204886913,0.008120446465909481,0.008001409471035004,0.007975534535944462,0.007930956780910492,0.007876110263168812,0.007905334234237671,0.007808983791619539,0.007812528870999813,0.007775154430419207,0.007730498444288969,0.0077047767117619514,0.007679708767682314,0.007631753571331501,0.0076094684191048145,0.00762786902487278,0.00756805669516325,0.007535140495747328,0.007512561045587063,0.007481062784790993,0.007457856088876724,0.007475936319679022,0.0074509987607598305,0.00739599484950304,0.007388988509774208,0.007366970181465149,0.007327788043767214,0.007317527197301388,0.007295609451830387,0.007264167536050081,0.007260140962898731,0.007281334605067968,0.007283658254891634,0.007193964906036854,0.007159100379794836,0.007156453561037779,0.007146598305553198,0.007142655551433563,0.007169259246438742,0.007088785525411367,0.007081225048750639,0.007050022017210722,0.00703414948657155,0.007023283280432224,0.007003080565482378,0.006972109898924828,0.00696865888312459,0.006937722209841013,0.006929894909262657,0.006913782563060522,0.006885139271616936,0.0069504170678555965,0.007013821508735418,0.006928003393113613,0.00682451156899333,0.00679007126018405,0.006807498633861542,0.006759010720998049,0.006764466408640146,0.006741510238498449,0.006718772929161787,0.006722225341945887,0.006718005053699017,0.006679953075945377,0.0066700889728963375,0.006649240385740995,0.006640106439590454,0.006636783946305513,0.0066055795177817345,0.006586605217307806,0.006576553452759981,0.006569401361048222,0.006591716781258583,0.0065693180076777935,0.006525921635329723,0.006525009870529175,0.0065008956007659435,0.0064827813766896725,0.006483543664216995,0.006468809675425291,0.006472920533269644,0.006439375691115856,0.006432617083191872,0.006413421593606472,0.006399327889084816,0.006383753381669521,0.006369652226567268,0.0063540637493133545,0.006349768955260515,0.006331563461571932,0.006335852202028036,0.006330644711852074,0.006326980888843536,0.006352501455694437,0.006312390323728323,0.006265061441808939,0.00623632175847888,0.00623168284073472,0.006241613067686558,0.006202673073858023,0.006196585949510336,0.006182979326695204,0.006176887545734644,0.006171651650220156,0.006154458969831467,0.006125560496002436,0.006121475249528885,0.0061055738478899,0.006108252797275782,0.006110825575888157,0.006088245194405317,0.006074218545109034,0.006072139833122492,0.006066956091672182,0.00609186664223671,0.006025017239153385,0.006012073252350092,0.006004047114402056,0.006000981200486422,0.006031947210431099,0.005960545502603054,0.005984061397612095,0.00595310190692544,0.005950243212282658,0.0059591019526124,0.005919833667576313,0.00589291425421834,0.005890215281397104,0.005888465326279402,0.005860399920493364,0.005871220026165247,0.005841393489390612,0.005823345389217138,0.005825594998896122,0.005827735178172588,0.005795326549559832,0.005796315148472786,0.005788844078779221,0.005760143045336008,0.00576399639248848,0.005767513532191515,0.005770476069301367,0.005754453130066395,0.0057359784841537476,0.005729261320084333,0.00575927784666419,0.005699744913727045,0.005670989863574505,0.005671653430908918,0.005652724765241146,0.00564963836222887,0.005641159135848284,0.0056282528676092625,0.005625330843031406,0.005606749095022678,0.005604561418294907,0.005620911717414856,0.0055826823227107525,0.005605593323707581,0.005551245529204607,0.0055545903742313385,0.00553287286311388,0.005538392812013626,0.005545457825064659,0.005554344039410353,0.005518409889191389,0.005504534114152193,0.005489931907504797,0.005491066258400679,0.005464998073875904,0.005461656954139471,0.0054479860700666904,0.0054371845908463,0.005439891945570707,0.005415007472038269,0.0054480768740177155,0.00545129319652915,0.005396676249802113,0.005397793371230364,0.005408755503594875,0.00539094302803278,0.005385344848036766,0.0053476388566195965,0.00534437783062458,0.00535012548789382,0.005332875065505505,0.005337149370461702,0.005317415576428175,0.005293129477649927,0.005289396271109581,0.005288959480822086,0.0052836304530501366,0.005281586665660143,0.005272403359413147,0.005257518962025642,0.0052571785636246204,0.0052436296828091145,0.005224854219704866,0.00522634107619524,0.005213846452534199,0.005242115817964077,0.005191056989133358,0.005208925809711218,0.005217423662543297,0.005195434670895338,0.005168352276086807,0.005172287113964558,0.0051859053783118725,0.005164238158613443,0.005180606618523598,0.005191654898226261,0.00511544942855835,0.005112719722092152,0.005096226930618286,0.00508965365588665,0.005087700206786394,0.00512046180665493,0.005099985282868147,0.0050702812150120735,0.005051428452134132,0.005056947469711304,0.005039358511567116,0.005045036319643259,0.00503431586548686,0.00503056775778532,0.005028091371059418,0.0050069959834218025,0.0050327470526099205,0.005010824650526047,0.004994143266230822,0.004990790039300919,0.004983862396329641,0.004970477893948555,0.004977688658982515,0.004952169489115477,0.004940899088978767,0.004947768524289131,0.004931627307087183,0.004933265969157219,0.004921380430459976,0.004911697935312986,0.0049067093059420586,0.004914744757115841,0.004932088311761618,0.004872617777436972,0.004897983744740486,0.00488065741956234,0.004861887544393539,0.004885978065431118,0.004863637499511242,0.004850232508033514,0.00488619739189744,0.00485434802249074,0.004860092420130968,0.0048377555795013905,0.0048316665925085545,0.0048185852356255054,0.004826856777071953,0.00481867790222168,0.004804630763828754,0.0048065586015582085,0.004824105650186539,0.004800178110599518,0.0047936937771737576,0.004777169320732355,0.004775432404130697,0.004781585186719894,0.004758602008223534,0.004774510860443115,0.004753854591399431,0.004742943681776524,0.004743991419672966,0.004753782879561186,0.004728659521788359,0.004723475314676762,0.00474527757614851,0.004758222959935665,0.004716895055025816,0.004771676380187273,0.004702668637037277,0.004697377793490887,0.0046972655691206455,0.004685963038355112,0.004680453799664974,0.0046927472576498985,0.004667375236749649,0.004680626094341278,0.004669055808335543,0.004665963817387819,0.004675299394875765,0.0046417140401899815,0.004667368717491627,0.004661745857447386,0.004655376076698303,0.004643613006919622,0.0046522789634764194,0.0046147508546710014,0.004615291021764278,0.004621950909495354,0.004608368966728449,0.004617894068360329,0.0045969379134476185,0.004604846239089966,0.004597936291247606,0.004609133582562208,0.004615688696503639,0.004574773367494345,0.004565337672829628,0.004564432427287102,0.004575752187520266,0.004557796288281679,0.004563372582197189,0.004591730888932943,0.004536452703177929,0.004576101899147034,0.0045254165306687355,0.004532539751380682,0.004541430156677961,0.004549965728074312,0.004543083719909191,0.004515615291893482,0.0045101880095899105,0.004523157607764006,0.0045223836787045,0.004514670465141535,0.004497704096138477,0.004484611097723246,0.004500618204474449,0.004481778480112553,0.004500668495893478,0.004481154028326273,0.004469558596611023,0.004469361621886492,0.00447092903777957,0.004452599212527275,0.004458668641746044,0.004456756170839071,0.004447843413800001,0.004451272077858448,0.004451081622391939,0.0044596693478524685,0.004436199553310871,0.004432440269738436,0.004435208160430193,0.0044404324144124985,0.0044277021661400795,0.004437804687768221,0.004436667077243328,0.004472021013498306,0.004441182594746351,0.0044394866563379765,0.004414369817823172,0.004404325038194656,0.00440390408039093,0.004390125162899494,0.004385037813335657,0.004419285804033279,0.00438763527199626,0.004384168423712254,0.0043689836747944355,0.00438480032607913,0.004371303599327803,0.0043580965138971806,0.004376434255391359,0.004370565991848707,0.004369258880615234,0.004345219116657972,0.004341679159551859,0.004361216444522142,0.004359223879873753,0.0043472060933709145,0.004339009057730436,0.004343451000750065,0.004337952472269535,0.004362107254564762,0.004359703976660967,0.004336659796535969,0.004327117931097746,0.004311671014875174,0.0043182759545743465,0.004308372735977173,0.0043232315219938755,0.004364239051938057,0.0043346774764359,0.004300374537706375,0.004304681904613972,0.004298674874007702,0.004313752520829439,0.004296701867133379,0.0042824591509997845,0.004312172532081604,0.004267057869583368,0.004270404111593962,0.004271196201443672,0.004280297085642815,0.004259384237229824,0.004257852211594582,0.004263623617589474,0.004256350453943014,0.004261835478246212,0.004254650324583054,0.004254099912941456,0.004244671203196049,0.004235499072819948,0.0042316848412156105,0.004253034014254808,0.004220227710902691,0.004231801722198725,0.00422451039776206,0.00422488572075963,0.004223110619932413,0.004214590415358543,0.0042143454775214195,0.004211809020489454,0.004207027144730091,0.00420944020152092,0.004205211065709591,0.00420220335945487,0.004210385959595442,0.0042339651845395565,0.004205298610031605,0.004209594801068306,0.004180139862000942,0.004193409811705351,0.004200054332613945,0.004205568693578243,0.0042009372264146805,0.0041991062462329865,0.004173471592366695,0.004165867809206247,0.0041686780750751495,0.00415774853900075,0.004181079566478729,0.004178296308964491,0.004168506246060133,0.004217570181936026,0.004168597050011158,0.004159166943281889,0.004153400659561157,0.004136215895414352,0.0041498951613903046,0.004132865462452173,0.0041328053921461105,0.004129466600716114,0.004139236640185118,0.004151280503720045,0.004141118843108416,0.004146747291088104,0.004120581317692995,0.004109637346118689,0.004122322890907526,0.00412273732945323,0.004132660571485758,0.0041004084050655365,0.004108901135623455,0.00409988546743989,0.004102567210793495,0.004100181628018618,0.004094401840120554,0.004093795083463192,0.004083898384124041,0.004105079919099808,0.004074301570653915,0.00409298948943615,0.0040884967893362045,0.004083022475242615,0.004072882700711489,0.004080619663000107,0.004076938610523939,0.004126203246414661,0.004107204265892506,0.004062308464199305,0.004076318349689245,0.004064506851136684,0.004063688684254885,0.004052123986184597,0.0040591126307845116,0.0040593380108475685,0.004060438834130764,0.004063172731548548,0.004037317354232073,0.004037225153297186,0.004039087798446417,0.004035568796098232,0.004034113604575396,0.0040396228432655334,0.004038501530885696,0.004048523493111134,0.004017517901957035,0.004035012796521187,0.004020467400550842,0.004018939100205898,0.004025321453809738,0.004041470121592283,0.00402840506285429,0.004013397265225649],\"type\":\"scatter\"},{\"mode\":\"lines\",\"name\":\"MAE Value\",\"x\":[0,1,2,3,4,5,6,7,8,9,10,11,12,13,14,15,16,17,18,19,20,21,22,23,24,25,26,27,28,29,30,31,32,33,34,35,36,37,38,39,40,41,42,43,44,45,46,47,48,49,50,51,52,53,54,55,56,57,58,59,60,61,62,63,64,65,66,67,68,69,70,71,72,73,74,75,76,77,78,79,80,81,82,83,84,85,86,87,88,89,90,91,92,93,94,95,96,97,98,99],\"y\":[0.3783733546733856,0.2889593243598938,0.17812566459178925,0.10650211572647095,0.10125312954187393,0.10136304050683975,0.100309357047081,0.10053285211324692,0.10032105445861816,0.09966382384300232,0.1002930998802185,0.09903409332036972,0.100001759827137,0.09902352839708328,0.09914792329072952,0.09895424544811249,0.09841311722993851,0.09835245460271835,0.09822067618370056,0.09805085510015488,0.09798582643270493,0.09732107818126678,0.09732572734355927,0.09704149514436722,0.0970219150185585,0.09746406227350235,0.09691601991653442,0.09657411277294159,0.09619472175836563,0.09606274217367172,0.09633765369653702,0.09563116729259491,0.09568221867084503,0.09543351829051971,0.09498373419046402,0.09623194485902786,0.09484461694955826,0.09492626786231995,0.09459297358989716,0.09479717910289764,0.09413290023803711,0.09450162202119827,0.09484811872243881,0.09343672543764114,0.09394586086273193,0.09391656517982483,0.09374640882015228,0.09327084571123123,0.09344812482595444,0.09284667670726776,0.09291329234838486,0.09303700178861618,0.0921899750828743,0.09297595918178558,0.0923878401517868,0.09192749857902527,0.09454228729009628,0.09206324815750122,0.09168301522731781,0.0914141833782196,0.0918845534324646,0.09142006933689117,0.09104327112436295,0.0914878249168396,0.09057096391916275,0.09070518612861633,0.09127849340438843,0.09008406102657318,0.09088575094938278,0.09031715244054794,0.09032899886369705,0.09014514833688736,0.08983060717582703,0.08989857882261276,0.08968015015125275,0.08984541147947311,0.08911453932523727,0.0902344360947609,0.08906858414411545,0.08956033736467361,0.08890378475189209,0.08894294500350952,0.08898855000734329,0.08886074274778366,0.08886022120714188,0.0880635678768158,0.08895859867334366,0.08828497678041458,0.08809281140565872,0.08795925229787827,0.08791469782590866,0.08803144842386246,0.0882343202829361,0.08759809285402298,0.0879448875784874,0.08732651174068451,0.08710069209337234,0.0886034443974495,0.08672773092985153,0.08750704675912857,0.0871078222990036,0.08651185780763626,0.08756822347640991,0.08624980598688126,0.08657212555408478,0.08632548153400421,0.08684894442558289,0.08643601089715958,0.08578314632177353,0.08560977131128311,0.0860714316368103,0.08584952354431152,0.08594540506601334,0.085516557097435,0.08585556596517563,0.08541782945394516,0.08559760451316833,0.0855940654873848,0.08516369014978409,0.08573055267333984,0.08488767594099045,0.08472361415624619,0.0851285308599472,0.08521795272827148,0.08503022789955139,0.08455178886651993,0.08521991223096848,0.08413760364055634,0.08512032777070999,0.08409616351127625,0.08445257693529129,0.08401241898536682,0.08352482318878174,0.08398342877626419,0.08435804396867752,0.08334111422300339,0.08359171450138092,0.08369505405426025,0.08356063067913055,0.08316643536090851,0.08365272730588913,0.08305618911981583,0.08328738808631897,0.08275547623634338,0.0832037627696991,0.08272135257720947,0.0835072249174118,0.0822860598564148,0.08348436653614044,0.08240729570388794,0.0827324315905571,0.08216634392738342,0.08227226883172989,0.08218564093112946,0.08267899602651596,0.08168583363294601,0.08219116181135178,0.08241593837738037,0.08137504756450653,0.08143259584903717,0.08238307386636734,0.08126403391361237,0.08237549662590027,0.08135795593261719,0.08094804733991623,0.08093596249818802,0.08187679201364517,0.08174975961446762,0.08085697889328003,0.08124063163995743,0.08125146478414536,0.0803058072924614,0.08078859746456146,0.08056715130805969,0.08097688853740692,0.08014658838510513,0.08022017776966095,0.08048257231712341,0.08054466545581818,0.07985510677099228,0.08108944445848465,0.07990283519029617,0.08067553490400314,0.07997757196426392,0.07969795167446136,0.08029316365718842,0.07983233779668808,0.07940185070037842,0.08025821298360825,0.07939337193965912,0.07972977310419083,0.07933031022548676,0.07921998202800751,0.07926648110151291,0.07870334386825562,0.07957710325717926,0.0788852721452713,0.07895383983850479,0.07919926196336746,0.07855723798274994,0.07887416332960129,0.07853151857852936,0.0786459669470787,0.07915976643562317,0.078428253531456,0.07846537232398987,0.07876496016979218,0.07819578796625137,0.07820291817188263,0.07845285534858704,0.07842449098825455,0.0778575912117958,0.07893866300582886,0.07768506556749344,0.07890453189611435,0.07731957733631134,0.07777898758649826,0.0776914581656456,0.07770119607448578,0.07699298858642578,0.07792205363512039,0.07744922488927841,0.07738769799470901,0.07689940929412842,0.07755567878484726,0.07722345739603043,0.07674966007471085,0.07733016461133957,0.07690070569515228,0.07723043113946915,0.07638348639011383,0.07741890102624893,0.07644112408161163,0.07714948803186417,0.07686182111501694,0.07672467827796936,0.0762522965669632,0.07699833810329437,0.07620422542095184,0.07609371095895767,0.07660189270973206,0.07619892805814743,0.07641676068305969,0.07598547637462616,0.07576966285705566,0.076178640127182,0.07624030858278275,0.07634385675191879,0.0757504478096962,0.07538937777280807,0.07608789950609207,0.07547052204608917,0.07556101679801941,0.07619763910770416,0.07513788342475891,0.07590441405773163,0.07505284994840622,0.0759267508983612,0.07589351385831833,0.0748298168182373,0.07496476173400879,0.07574440538883209,0.07537461817264557,0.07524815201759338,0.07504941523075104,0.07563230395317078,0.07492019981145859,0.07565385103225708,0.07455182820558548,0.07495380938053131,0.07478884607553482,0.0751497820019722,0.07469384372234344,0.07470343261957169,0.07467283308506012,0.07457134127616882,0.07481713593006134,0.07453293353319168,0.07435061782598495,0.07460401207208633,0.07542671263217926,0.07445667684078217,0.07444693148136139,0.0746673122048378,0.07407999783754349,0.07459432631731033,0.07426899671554565,0.07423251122236252,0.07416648417711258,0.07396990060806274,0.07435134053230286,0.07401634752750397,0.07401292026042938,0.07457210123538971,0.0735362321138382,0.07434307783842087,0.07365366816520691,0.07436134666204453,0.0732329934835434,0.07448574155569077,0.07347044348716736,0.07370240986347198,0.07352463155984879,0.07362756133079529,0.07425976544618607,0.07318811118602753,0.07375692576169968,0.07345699518918991,0.07326939702033997,0.07424172759056091,0.07339172065258026,0.07308001071214676,0.0731736272573471,0.07323092222213745,0.07328702509403229,0.07350286841392517,0.07308360189199448,0.07347442209720612,0.07288974523544312,0.07294359058141708,0.07327015697956085,0.07275310903787613,0.07318628579378128,0.07260599732398987,0.07306092977523804,0.07286234945058823,0.07306931167840958,0.07304958254098892,0.0727257952094078,0.07258584350347519,0.07267507910728455,0.0726572573184967,0.07232534140348434,0.07321424782276154,0.07229820638895035,0.0724007710814476,0.07261478900909424,0.0724719986319542,0.07228617370128632,0.07242462784051895,0.07232706248760223,0.07215941697359085,0.0723506361246109,0.07260943949222565,0.0720052570104599,0.07208632677793503,0.07200463116168976,0.0720466673374176,0.07234000414609909,0.07209330797195435,0.07205625623464584,0.0720779076218605,0.07248178124427795,0.07253164798021317,0.07151960581541061,0.07227761298418045,0.07161442935466766,0.07196182757616043,0.07173370569944382,0.07165725529193878,0.0721290111541748,0.0717337429523468,0.07170305401086807,0.07163387537002563,0.07172428071498871,0.07175837457180023,0.07142063230276108,0.07150504738092422,0.07145491987466812,0.07173943519592285,0.07127968966960907,0.07129357755184174,0.07164182513952255,0.07153202593326569,0.07131034135818481,0.07138408720493317,0.071321502327919,0.07112656533718109,0.07173791527748108,0.07101426273584366,0.07167583703994751,0.07108043134212494,0.07103092968463898,0.07133649289608002,0.07088183611631393,0.07145355641841888,0.07108864933252335,0.07184160500764847,0.07093995809555054,0.07105203717947006,0.07090143114328384,0.07124998420476913,0.07085394114255905,0.07074548304080963,0.07116764783859253,0.07059997320175171,0.07064759731292725,0.07059785723686218,0.07096751034259796,0.0705728754401207,0.07047279924154282,0.0708167776465416,0.07046179473400116,0.0709078386425972,0.07041444629430771,0.07082565873861313,0.0704493597149849,0.07038135081529617,0.07043364644050598,0.07076999545097351,0.07025261223316193,0.07033734023571014,0.07022597640752792,0.07020063698291779,0.07038820534944534,0.07024844735860825,0.07025709003210068,0.07009537518024445,0.07014300674200058,0.07000303268432617,0.07018738985061646,0.0701717734336853,0.0699930414557457,0.0703660398721695,0.07025940716266632,0.0701635405421257,0.0698164775967598,0.06984138488769531,0.06998199969530106,0.07073264569044113,0.06992613524198532,0.06997644156217575,0.06974505633115768,0.06987719982862473,0.06981656700372696,0.06976025551557541,0.06996089220046997,0.06964854151010513,0.07029470801353455,0.07004383206367493,0.0697309747338295,0.06994473189115524,0.06970294564962387,0.06968110054731369,0.06961524486541748,0.06938186287879944,0.06950303167104721,0.06937183439731598,0.06959228217601776,0.06973181664943695,0.06956857442855835,0.0699046403169632,0.0692279115319252,0.06919961422681808,0.06976266950368881,0.06939809769392014,0.069298654794693,0.06918655335903168,0.06953290849924088,0.06907659769058228,0.0691770687699318,0.06922507286071777,0.06925925612449646,0.06915631145238876,0.06902121752500534,0.06923826783895493,0.06886981427669525,0.06931114196777344,0.06887020915746689,0.06910628080368042,0.0690808966755867,0.06918119639158249,0.06874935328960419,0.06986240297555923,0.06881698220968246,0.06906702369451523,0.06896459311246872,0.06892521679401398,0.06887352466583252,0.06866005808115005,0.06893302500247955,0.06902698427438736,0.06872189790010452,0.06908011436462402,0.06870797276496887,0.06872840225696564,0.06876397877931595,0.06847024708986282,0.06869205087423325,0.06864925473928452,0.06882253289222717,0.06835915148258209,0.06845810264348984,0.06870604306459427,0.06851626932621002,0.06848549097776413,0.06850757449865341,0.0686359852552414,0.0686962902545929,0.0685846209526062],\"type\":\"scatter\"}],                        {\"template\":{\"data\":{\"bar\":[{\"error_x\":{\"color\":\"#2a3f5f\"},\"error_y\":{\"color\":\"#2a3f5f\"},\"marker\":{\"line\":{\"color\":\"#E5ECF6\",\"width\":0.5},\"pattern\":{\"fillmode\":\"overlay\",\"size\":10,\"solidity\":0.2}},\"type\":\"bar\"}],\"barpolar\":[{\"marker\":{\"line\":{\"color\":\"#E5ECF6\",\"width\":0.5},\"pattern\":{\"fillmode\":\"overlay\",\"size\":10,\"solidity\":0.2}},\"type\":\"barpolar\"}],\"carpet\":[{\"aaxis\":{\"endlinecolor\":\"#2a3f5f\",\"gridcolor\":\"white\",\"linecolor\":\"white\",\"minorgridcolor\":\"white\",\"startlinecolor\":\"#2a3f5f\"},\"baxis\":{\"endlinecolor\":\"#2a3f5f\",\"gridcolor\":\"white\",\"linecolor\":\"white\",\"minorgridcolor\":\"white\",\"startlinecolor\":\"#2a3f5f\"},\"type\":\"carpet\"}],\"choropleth\":[{\"colorbar\":{\"outlinewidth\":0,\"ticks\":\"\"},\"type\":\"choropleth\"}],\"contour\":[{\"colorbar\":{\"outlinewidth\":0,\"ticks\":\"\"},\"colorscale\":[[0.0,\"#0d0887\"],[0.1111111111111111,\"#46039f\"],[0.2222222222222222,\"#7201a8\"],[0.3333333333333333,\"#9c179e\"],[0.4444444444444444,\"#bd3786\"],[0.5555555555555556,\"#d8576b\"],[0.6666666666666666,\"#ed7953\"],[0.7777777777777778,\"#fb9f3a\"],[0.8888888888888888,\"#fdca26\"],[1.0,\"#f0f921\"]],\"type\":\"contour\"}],\"contourcarpet\":[{\"colorbar\":{\"outlinewidth\":0,\"ticks\":\"\"},\"type\":\"contourcarpet\"}],\"heatmap\":[{\"colorbar\":{\"outlinewidth\":0,\"ticks\":\"\"},\"colorscale\":[[0.0,\"#0d0887\"],[0.1111111111111111,\"#46039f\"],[0.2222222222222222,\"#7201a8\"],[0.3333333333333333,\"#9c179e\"],[0.4444444444444444,\"#bd3786\"],[0.5555555555555556,\"#d8576b\"],[0.6666666666666666,\"#ed7953\"],[0.7777777777777778,\"#fb9f3a\"],[0.8888888888888888,\"#fdca26\"],[1.0,\"#f0f921\"]],\"type\":\"heatmap\"}],\"heatmapgl\":[{\"colorbar\":{\"outlinewidth\":0,\"ticks\":\"\"},\"colorscale\":[[0.0,\"#0d0887\"],[0.1111111111111111,\"#46039f\"],[0.2222222222222222,\"#7201a8\"],[0.3333333333333333,\"#9c179e\"],[0.4444444444444444,\"#bd3786\"],[0.5555555555555556,\"#d8576b\"],[0.6666666666666666,\"#ed7953\"],[0.7777777777777778,\"#fb9f3a\"],[0.8888888888888888,\"#fdca26\"],[1.0,\"#f0f921\"]],\"type\":\"heatmapgl\"}],\"histogram\":[{\"marker\":{\"pattern\":{\"fillmode\":\"overlay\",\"size\":10,\"solidity\":0.2}},\"type\":\"histogram\"}],\"histogram2d\":[{\"colorbar\":{\"outlinewidth\":0,\"ticks\":\"\"},\"colorscale\":[[0.0,\"#0d0887\"],[0.1111111111111111,\"#46039f\"],[0.2222222222222222,\"#7201a8\"],[0.3333333333333333,\"#9c179e\"],[0.4444444444444444,\"#bd3786\"],[0.5555555555555556,\"#d8576b\"],[0.6666666666666666,\"#ed7953\"],[0.7777777777777778,\"#fb9f3a\"],[0.8888888888888888,\"#fdca26\"],[1.0,\"#f0f921\"]],\"type\":\"histogram2d\"}],\"histogram2dcontour\":[{\"colorbar\":{\"outlinewidth\":0,\"ticks\":\"\"},\"colorscale\":[[0.0,\"#0d0887\"],[0.1111111111111111,\"#46039f\"],[0.2222222222222222,\"#7201a8\"],[0.3333333333333333,\"#9c179e\"],[0.4444444444444444,\"#bd3786\"],[0.5555555555555556,\"#d8576b\"],[0.6666666666666666,\"#ed7953\"],[0.7777777777777778,\"#fb9f3a\"],[0.8888888888888888,\"#fdca26\"],[1.0,\"#f0f921\"]],\"type\":\"histogram2dcontour\"}],\"mesh3d\":[{\"colorbar\":{\"outlinewidth\":0,\"ticks\":\"\"},\"type\":\"mesh3d\"}],\"parcoords\":[{\"line\":{\"colorbar\":{\"outlinewidth\":0,\"ticks\":\"\"}},\"type\":\"parcoords\"}],\"pie\":[{\"automargin\":true,\"type\":\"pie\"}],\"scatter\":[{\"marker\":{\"colorbar\":{\"outlinewidth\":0,\"ticks\":\"\"}},\"type\":\"scatter\"}],\"scatter3d\":[{\"line\":{\"colorbar\":{\"outlinewidth\":0,\"ticks\":\"\"}},\"marker\":{\"colorbar\":{\"outlinewidth\":0,\"ticks\":\"\"}},\"type\":\"scatter3d\"}],\"scattercarpet\":[{\"marker\":{\"colorbar\":{\"outlinewidth\":0,\"ticks\":\"\"}},\"type\":\"scattercarpet\"}],\"scattergeo\":[{\"marker\":{\"colorbar\":{\"outlinewidth\":0,\"ticks\":\"\"}},\"type\":\"scattergeo\"}],\"scattergl\":[{\"marker\":{\"colorbar\":{\"outlinewidth\":0,\"ticks\":\"\"}},\"type\":\"scattergl\"}],\"scattermapbox\":[{\"marker\":{\"colorbar\":{\"outlinewidth\":0,\"ticks\":\"\"}},\"type\":\"scattermapbox\"}],\"scatterpolar\":[{\"marker\":{\"colorbar\":{\"outlinewidth\":0,\"ticks\":\"\"}},\"type\":\"scatterpolar\"}],\"scatterpolargl\":[{\"marker\":{\"colorbar\":{\"outlinewidth\":0,\"ticks\":\"\"}},\"type\":\"scatterpolargl\"}],\"scatterternary\":[{\"marker\":{\"colorbar\":{\"outlinewidth\":0,\"ticks\":\"\"}},\"type\":\"scatterternary\"}],\"surface\":[{\"colorbar\":{\"outlinewidth\":0,\"ticks\":\"\"},\"colorscale\":[[0.0,\"#0d0887\"],[0.1111111111111111,\"#46039f\"],[0.2222222222222222,\"#7201a8\"],[0.3333333333333333,\"#9c179e\"],[0.4444444444444444,\"#bd3786\"],[0.5555555555555556,\"#d8576b\"],[0.6666666666666666,\"#ed7953\"],[0.7777777777777778,\"#fb9f3a\"],[0.8888888888888888,\"#fdca26\"],[1.0,\"#f0f921\"]],\"type\":\"surface\"}],\"table\":[{\"cells\":{\"fill\":{\"color\":\"#EBF0F8\"},\"line\":{\"color\":\"white\"}},\"header\":{\"fill\":{\"color\":\"#C8D4E3\"},\"line\":{\"color\":\"white\"}},\"type\":\"table\"}]},\"layout\":{\"annotationdefaults\":{\"arrowcolor\":\"#2a3f5f\",\"arrowhead\":0,\"arrowwidth\":1},\"autotypenumbers\":\"strict\",\"coloraxis\":{\"colorbar\":{\"outlinewidth\":0,\"ticks\":\"\"}},\"colorscale\":{\"diverging\":[[0,\"#8e0152\"],[0.1,\"#c51b7d\"],[0.2,\"#de77ae\"],[0.3,\"#f1b6da\"],[0.4,\"#fde0ef\"],[0.5,\"#f7f7f7\"],[0.6,\"#e6f5d0\"],[0.7,\"#b8e186\"],[0.8,\"#7fbc41\"],[0.9,\"#4d9221\"],[1,\"#276419\"]],\"sequential\":[[0.0,\"#0d0887\"],[0.1111111111111111,\"#46039f\"],[0.2222222222222222,\"#7201a8\"],[0.3333333333333333,\"#9c179e\"],[0.4444444444444444,\"#bd3786\"],[0.5555555555555556,\"#d8576b\"],[0.6666666666666666,\"#ed7953\"],[0.7777777777777778,\"#fb9f3a\"],[0.8888888888888888,\"#fdca26\"],[1.0,\"#f0f921\"]],\"sequentialminus\":[[0.0,\"#0d0887\"],[0.1111111111111111,\"#46039f\"],[0.2222222222222222,\"#7201a8\"],[0.3333333333333333,\"#9c179e\"],[0.4444444444444444,\"#bd3786\"],[0.5555555555555556,\"#d8576b\"],[0.6666666666666666,\"#ed7953\"],[0.7777777777777778,\"#fb9f3a\"],[0.8888888888888888,\"#fdca26\"],[1.0,\"#f0f921\"]]},\"colorway\":[\"#636efa\",\"#EF553B\",\"#00cc96\",\"#ab63fa\",\"#FFA15A\",\"#19d3f3\",\"#FF6692\",\"#B6E880\",\"#FF97FF\",\"#FECB52\"],\"font\":{\"color\":\"#2a3f5f\"},\"geo\":{\"bgcolor\":\"white\",\"lakecolor\":\"white\",\"landcolor\":\"#E5ECF6\",\"showlakes\":true,\"showland\":true,\"subunitcolor\":\"white\"},\"hoverlabel\":{\"align\":\"left\"},\"hovermode\":\"closest\",\"mapbox\":{\"style\":\"light\"},\"paper_bgcolor\":\"white\",\"plot_bgcolor\":\"#E5ECF6\",\"polar\":{\"angularaxis\":{\"gridcolor\":\"white\",\"linecolor\":\"white\",\"ticks\":\"\"},\"bgcolor\":\"#E5ECF6\",\"radialaxis\":{\"gridcolor\":\"white\",\"linecolor\":\"white\",\"ticks\":\"\"}},\"scene\":{\"xaxis\":{\"backgroundcolor\":\"#E5ECF6\",\"gridcolor\":\"white\",\"gridwidth\":2,\"linecolor\":\"white\",\"showbackground\":true,\"ticks\":\"\",\"zerolinecolor\":\"white\"},\"yaxis\":{\"backgroundcolor\":\"#E5ECF6\",\"gridcolor\":\"white\",\"gridwidth\":2,\"linecolor\":\"white\",\"showbackground\":true,\"ticks\":\"\",\"zerolinecolor\":\"white\"},\"zaxis\":{\"backgroundcolor\":\"#E5ECF6\",\"gridcolor\":\"white\",\"gridwidth\":2,\"linecolor\":\"white\",\"showbackground\":true,\"ticks\":\"\",\"zerolinecolor\":\"white\"}},\"shapedefaults\":{\"line\":{\"color\":\"#2a3f5f\"}},\"ternary\":{\"aaxis\":{\"gridcolor\":\"white\",\"linecolor\":\"white\",\"ticks\":\"\"},\"baxis\":{\"gridcolor\":\"white\",\"linecolor\":\"white\",\"ticks\":\"\"},\"bgcolor\":\"#E5ECF6\",\"caxis\":{\"gridcolor\":\"white\",\"linecolor\":\"white\",\"ticks\":\"\"}},\"title\":{\"x\":0.05},\"xaxis\":{\"automargin\":true,\"gridcolor\":\"white\",\"linecolor\":\"white\",\"ticks\":\"\",\"title\":{\"standoff\":15},\"zerolinecolor\":\"white\",\"zerolinewidth\":2},\"yaxis\":{\"automargin\":true,\"gridcolor\":\"white\",\"linecolor\":\"white\",\"ticks\":\"\",\"title\":{\"standoff\":15},\"zerolinecolor\":\"white\",\"zerolinewidth\":2}}},\"margin\":{\"l\":50,\"r\":50,\"b\":100,\"t\":100,\"pad\":4},\"title\":{\"text\":\"Mae and loss value\"},\"xaxis\":{\"title\":{\"text\":\"epoch\"}},\"yaxis\":{\"title\":{\"text\":\"Loss\"}},\"autosize\":false,\"width\":600,\"height\":600,\"paper_bgcolor\":\"LightSteelBlue\",\"showlegend\":false},                        {\"responsive\": true}                    ).then(function(){\n",
              "                            \n",
              "var gd = document.getElementById('5d44cb75-eaf6-4677-aa66-86aa24a902c6');\n",
              "var x = new MutationObserver(function (mutations, observer) {{\n",
              "        var display = window.getComputedStyle(gd).display;\n",
              "        if (!display || display === 'none') {{\n",
              "            console.log([gd, 'removed!']);\n",
              "            Plotly.purge(gd);\n",
              "            observer.disconnect();\n",
              "        }}\n",
              "}});\n",
              "\n",
              "// Listen for the removal of the full notebook cells\n",
              "var notebookContainer = gd.closest('#notebook-container');\n",
              "if (notebookContainer) {{\n",
              "    x.observe(notebookContainer, {childList: true});\n",
              "}}\n",
              "\n",
              "// Listen for the clearing of the current output cell\n",
              "var outputEl = gd.closest('.output');\n",
              "if (outputEl) {{\n",
              "    x.observe(outputEl, {childList: true});\n",
              "}}\n",
              "\n",
              "                        })                };                            </script>        </div>\n",
              "</body>\n",
              "</html>"
            ]
          },
          "metadata": {}
        }
      ]
    },
    {
      "cell_type": "code",
      "source": [
        "plot_series_plotly(np.arange(0, epoch_value), \n",
        "                   (history_build_with_callbacks.history['val_loss'], \n",
        "                    history_build_with_callbacks.history['val_mae']),\n",
        "                   figure_title='Mae and loss Validation value',\n",
        "                   series_name=['Validation Loss Value', 'Validation MAE Value'],\n",
        "                   xaxis_title='epoch', yaxis_title='Loss')"
      ],
      "metadata": {
        "colab": {
          "base_uri": "https://localhost:8080/",
          "height": 617
        },
        "id": "gZQlNT5GbbC-",
        "outputId": "cd36e455-d6a9-4b25-fb0b-95eab164ff68"
      },
      "execution_count": 135,
      "outputs": [
        {
          "output_type": "display_data",
          "data": {
            "text/html": [
              "<html>\n",
              "<head><meta charset=\"utf-8\" /></head>\n",
              "<body>\n",
              "    <div>            <script src=\"https://cdnjs.cloudflare.com/ajax/libs/mathjax/2.7.5/MathJax.js?config=TeX-AMS-MML_SVG\"></script><script type=\"text/javascript\">if (window.MathJax) {MathJax.Hub.Config({SVG: {font: \"STIX-Web\"}});}</script>                <script type=\"text/javascript\">window.PlotlyConfig = {MathJaxConfig: 'local'};</script>\n",
              "        <script src=\"https://cdn.plot.ly/plotly-2.8.3.min.js\"></script>                <div id=\"c204ae65-20b3-4307-b37f-36bc1b4e4055\" class=\"plotly-graph-div\" style=\"height:600px; width:600px;\"></div>            <script type=\"text/javascript\">                                    window.PLOTLYENV=window.PLOTLYENV || {};                                    if (document.getElementById(\"c204ae65-20b3-4307-b37f-36bc1b4e4055\")) {                    Plotly.newPlot(                        \"c204ae65-20b3-4307-b37f-36bc1b4e4055\",                        [{\"mode\":\"lines\",\"name\":\"Validation Loss Value\",\"x\":[0,1,2,3,4,5,6,7,8,9,10,11,12,13,14,15,16,17,18,19,20,21,22,23,24,25,26,27,28,29,30,31,32,33,34,35,36,37,38,39,40,41,42,43,44,45,46,47,48,49,50,51,52,53,54,55,56,57,58,59,60,61,62,63,64,65,66,67,68,69,70,71,72,73,74,75,76,77,78,79,80,81,82,83,84,85,86,87,88,89,90,91,92,93,94,95,96,97,98,99],\"y\":[0.09112614393234253,0.03577033430337906,0.009388142265379429,0.014415097422897816,0.014491522684693336,0.012402880005538464,0.011361479759216309,0.011920895427465439,0.011546330526471138,0.012253886088728905,0.010559887625277042,0.011563017033040524,0.011186247691512108,0.010984030552208424,0.01082108449190855,0.01044184435158968,0.010309908539056778,0.011104987002909184,0.01077717449516058,0.010263713076710701,0.009963735938072205,0.010525424964725971,0.010174330323934555,0.01009198185056448,0.009899821132421494,0.009290781803429127,0.009920877404510975,0.009588603861629963,0.010176895186305046,0.009708492085337639,0.009225903078913689,0.009737382642924786,0.009194143116474152,0.009292783215641975,0.009839762933552265,0.009221172891557217,0.009255114011466503,0.009228589944541454,0.009078898467123508,0.00885731540620327,0.009103880263864994,0.00894937664270401,0.008479033596813679,0.008894131518900394,0.008410139009356499,0.008879306726157665,0.008396059274673462,0.00918825063854456,0.008427116088569164,0.008599882945418358,0.008682197891175747,0.008908877149224281,0.008515032939612865,0.008561854250729084,0.008259630762040615,0.008201061747968197,0.008142177015542984,0.00844867154955864,0.00822609942406416,0.008471393026411533,0.008514645509421825,0.0076284934766590595,0.008339171297848225,0.008193065412342548,0.008035652339458466,0.008351201191544533,0.007729123812168837,0.008092999458312988,0.007840827107429504,0.007880079559981823,0.00822087749838829,0.007569635286927223,0.008023564703762531,0.007653087843209505,0.007802712731063366,0.00793257262557745,0.007710129488259554,0.008178996853530407,0.007155923638492823,0.007812303490936756,0.007222642190754414,0.008082102052867413,0.007129734382033348,0.00741502596065402,0.007680733688175678,0.007370647508651018,0.007258827798068523,0.007641255389899015,0.0074477787129580975,0.007270386908203363,0.007621098309755325,0.007173990830779076,0.0071504260413348675,0.007431138306856155,0.007590760011225939,0.007240904029458761,0.006944091059267521,0.007722652051597834,0.007251784671097994,0.007119236048310995,0.0072446539998054504,0.007145266979932785,0.007283754181116819,0.006902990862727165,0.007299345452338457,0.007019893266260624,0.006939428858458996,0.007316626142710447,0.006996699143201113,0.00709567591547966,0.006753300782293081,0.007163877133280039,0.007265944965183735,0.00673096626996994,0.006893034093081951,0.006913100369274616,0.006818680092692375,0.0072755636647343636,0.006659532897174358,0.006850721314549446,0.0067084189504384995,0.0070550269447267056,0.006836309563368559,0.00651836022734642,0.006991786416620016,0.007060718256980181,0.006420519202947617,0.0068276142701506615,0.00672488659620285,0.006639383267611265,0.006851759739220142,0.0066935280337929726,0.006580361630767584,0.006712277885526419,0.006727864034473896,0.006278698332607746,0.006566389463841915,0.006631898693740368,0.006316679064184427,0.006517298985272646,0.006372860632836819,0.006597594358026981,0.006316196173429489,0.006569229997694492,0.006380286533385515,0.006355665624141693,0.006661219522356987,0.006336679682135582,0.006284238304942846,0.006423987913876772,0.006480597425252199,0.006336854305118322,0.006198784802109003,0.006390254944562912,0.005978027358651161,0.006388227920979261,0.006122869905084372,0.006047001574188471,0.0062139760702848434,0.0060703638009727,0.0062941089272499084,0.005933145992457867,0.006094994023442268,0.005953491665422916,0.006076619029045105,0.005939734634011984,0.0060841795057058334,0.005987449083477259,0.006350810639560223,0.005772080272436142,0.006066379602998495,0.006176576483994722,0.006016431376338005,0.00594108272343874,0.005764794070273638,0.0059598288498818874,0.006145230028778315,0.0057055093348026276,0.00594946276396513,0.005767117720097303,0.0057637994177639484,0.005773519165813923,0.0059348163194954395,0.0058647263795137405,0.005959932692348957,0.005394394975155592,0.005933595355600119,0.00570491561666131,0.005819539539515972,0.005605077371001244,0.005725921131670475,0.005712129175662994,0.005709663964807987,0.005828147754073143,0.00579140055924654,0.005327700637280941,0.005651264451444149,0.005431069526821375,0.005550609901547432,0.006040243897587061,0.005533892661333084,0.0056664845906198025,0.0054581789299845695,0.0055272141471505165,0.005461208522319794,0.005602615419775248,0.005450685508549213,0.005550294183194637,0.0054371957667171955,0.005440243519842625,0.005635404493659735,0.005278954282402992,0.005335598718374968,0.00570520106703043,0.005405097734183073,0.005418953951448202,0.00544510455802083,0.00533524714410305,0.005337194073945284,0.0053911274299025536,0.005305079743266106,0.00507592037320137,0.005388008896261454,0.005362214054912329,0.005174294114112854,0.004980540834367275,0.005407359916716814,0.005333316512405872,0.00522868474945426,0.005379689857363701,0.005192342679947615,0.0049993256106972694,0.005085940472781658,0.005496068391948938,0.0049642538651824,0.005458131432533264,0.005085914861410856,0.00510423956438899,0.0050149234011769295,0.0051809679716825485,0.005232546478509903,0.005023605655878782,0.004997964482754469,0.005198221653699875,0.004952435847371817,0.005193521734327078,0.004945250228047371,0.005213101860135794,0.004825487732887268,0.005184394773095846,0.005069446749985218,0.004968177992850542,0.005043639335781336,0.005143741145730019,0.004831698257476091,0.005154110491275787,0.004962072242051363,0.004899218212813139,0.004841797985136509,0.0049345060251653194,0.0050058867782354355,0.004966456908732653,0.005050733685493469,0.004795659799128771,0.004922077525407076,0.004807528108358383,0.004613365046679974,0.004933448974043131,0.004845015704631805,0.00485851289704442,0.004707710817456245,0.005119287874549627,0.004944355692714453,0.004833712242543697,0.004768907558172941,0.004499559290707111,0.004863955546170473,0.004430070985108614,0.00481589836999774,0.004620699677616358,0.004612456075847149,0.0048509687185287476,0.004820627626031637,0.004854368511587381,0.004466385114938021,0.00467923516407609,0.004613043740391731,0.004627225920557976,0.004845710471272469,0.0045301178470253944,0.004525343421846628,0.004630382638424635,0.004739210940897465,0.0046334173530340195,0.004433935973793268,0.004480875562876463,0.0046649812720716,0.004680915270000696,0.004299220163375139,0.00455571711063385,0.004524683579802513,0.004698872100561857,0.004683638922870159,0.004392767325043678,0.004339077975600958,0.004644931294023991,0.004599674139171839,0.004509941674768925,0.004387893248349428,0.004458595532923937,0.004653935320675373,0.004410785622894764,0.0045068468898534775,0.004675744101405144,0.004299953114241362,0.004436383955180645,0.004312663339078426,0.004635055549442768,0.004483676515519619,0.00455478997901082,0.004388939123600721,0.004362827632576227,0.004419589415192604,0.004335205070674419,0.004430259112268686,0.004470935557037592,0.004064655862748623,0.004403627943247557,0.004491209518164396,0.0045251003466546535,0.004215127322822809,0.0043313149362802505,0.004318567458540201,0.004298259504139423,0.004363948479294777,0.004396239295601845,0.004096561577171087,0.004199002869427204,0.00429442897439003,0.004428165964782238,0.004148091655224562,0.004439144860953093,0.004320980049669743,0.004291174001991749,0.004212649539113045,0.004136866889894009,0.004171881824731827,0.004085170105099678,0.004220195580273867,0.004268129356205463,0.0042335884645581245,0.0041971891187131405,0.00425860146060586,0.00406769709661603,0.004229985177516937,0.004107383545488119,0.004033112432807684,0.004243556410074234,0.004118414130061865,0.0042381673119962215,0.0041168248280882835,0.004093606024980545,0.004085404332727194,0.004179487936198711,0.004212652333080769,0.004144619219005108,0.0039655170403420925,0.004332941025495529,0.003884184407070279,0.004123333375900984,0.003972955979406834,0.004142528399825096,0.004153297282755375,0.004192942287772894,0.004199680872261524,0.004011905752122402,0.004220485687255859,0.003982041496783495,0.004000264685600996,0.003993843216449022,0.003973615355789661,0.004134832881391048,0.0041374387219548225,0.003959429915994406,0.003999366424977779,0.0039118812419474125,0.004212347324937582,0.003903395729139447,0.0037738436367362738,0.003951686900109053,0.004065059591084719,0.0038027490954846144,0.004063188564032316,0.004116950556635857,0.0038019183557480574,0.003994735423475504,0.004100763238966465,0.003930824808776379,0.003920824732631445,0.003922508098185062,0.0038972648326307535,0.003778264159336686,0.003930434584617615,0.003888141131028533,0.00392180634662509,0.003902943804860115,0.004023876041173935,0.003861837787553668,0.0038594473153352737,0.0038582526613026857,0.004001875873655081,0.003985286690294743,0.0038496972993016243,0.0038297660648822784,0.003765795612707734,0.0038318177685141563,0.0038199725095182657,0.003979545086622238,0.0038150104228407145,0.003912692423909903,0.003760172752663493,0.0039050858467817307,0.0038075449410825968,0.004023075103759766,0.0039040243718773127,0.0038709992077201605,0.003709595650434494,0.004025684669613838,0.0039280173368752,0.0036144712939858437,0.003854782087728381,0.003932548221200705,0.0036497495602816343,0.003710877848789096,0.003810691647231579,0.00394611107185483,0.0038623439613729715,0.0036510841455310583,0.003770643612369895,0.003898585680872202,0.0035906655248254538,0.003849525237455964,0.0037998920306563377,0.0036550816148519516,0.0036659110337495804,0.003774812212213874,0.0038098378572613,0.003701970912516117,0.0038270032964646816,0.003751564072445035,0.003721717046573758,0.003663638373836875,0.003740409156307578,0.0038128485903143883,0.003699344350025058,0.0037864530459046364,0.003687959862872958,0.0037643772084265947,0.0037123635411262512,0.003740947460755706,0.003762800944969058,0.0036256706807762384,0.003593423403799534,0.00370990252122283,0.0036180969327688217,0.0035366800148040056,0.0037807999178767204,0.0036441453266888857,0.0038935518823564053,0.0035964413546025753,0.003677073400467634,0.003632604843005538,0.0036164827179163694,0.0035561453551054,0.003717617830261588,0.003808332607150078,0.0035370327532291412,0.003677018918097019,0.0036937168333679438,0.003674381412565708,0.0035479418002068996,0.0037478783633559942,0.0035744563210755587,0.003659032052382827,0.003614098532125354,0.0035265502519905567,0.0036341482773423195,0.003690043231472373,0.0035352150443941355,0.003649268765002489,0.0035266312770545483,0.003669228870421648,0.0036170368548482656,0.003528035944327712,0.003720490727573633,0.0036024192813783884,0.00351377809420228,0.0037867596838623285,0.0034137056209146976,0.003530886024236679],\"type\":\"scatter\"},{\"mode\":\"lines\",\"name\":\"Validation MAE Value\",\"x\":[0,1,2,3,4,5,6,7,8,9,10,11,12,13,14,15,16,17,18,19,20,21,22,23,24,25,26,27,28,29,30,31,32,33,34,35,36,37,38,39,40,41,42,43,44,45,46,47,48,49,50,51,52,53,54,55,56,57,58,59,60,61,62,63,64,65,66,67,68,69,70,71,72,73,74,75,76,77,78,79,80,81,82,83,84,85,86,87,88,89,90,91,92,93,94,95,96,97,98,99],\"y\":[0.3535343110561371,0.20494034886360168,0.11091968417167664,0.13644924759864807,0.136259064078331,0.1259993612766266,0.12020915001630783,0.12252314388751984,0.12016486376523972,0.12375292181968689,0.11411722749471664,0.11947378516197205,0.11715951561927795,0.11545988917350769,0.11458390206098557,0.11225776374340057,0.111277274787426,0.11584437638521194,0.11359936743974686,0.11080202460289001,0.10891348123550415,0.11206970363855362,0.10998915880918503,0.10940227657556534,0.10822072625160217,0.10455179959535599,0.10845698416233063,0.10613981634378433,0.10989243537187576,0.10700730979442596,0.10394912213087082,0.10712146759033203,0.10371799021959305,0.10425147414207458,0.10792646557092667,0.10373479872941971,0.10407732427120209,0.10392511636018753,0.10298008471727371,0.10155463218688965,0.10307584702968597,0.10197242349386215,0.09894448518753052,0.10165384411811829,0.09847091883420944,0.1016882136464119,0.09840382635593414,0.10380469262599945,0.0986548438668251,0.09989919513463974,0.10050054639577866,0.10206343978643417,0.09936922043561935,0.09971648454666138,0.09759949147701263,0.09719957411289215,0.09683919697999954,0.09900218993425369,0.0974273532629013,0.09924657642841339,0.09955421835184097,0.0932149663567543,0.09837131202220917,0.0973137691617012,0.09622659534215927,0.09856399148702621,0.09400050342082977,0.0966862291097641,0.09496546536684036,0.09522495418787003,0.09762968122959137,0.09299612790346146,0.09631789475679398,0.09364805370569229,0.09479320049285889,0.095677450299263,0.0940832793712616,0.09762050956487656,0.09006348252296448,0.09495753049850464,0.09060158580541611,0.09696944057941437,0.08992210030555725,0.09211309254169464,0.0940326452255249,0.09181489050388336,0.09099095314741135,0.0938025414943695,0.09238744527101517,0.09110920876264572,0.09376414865255356,0.09040546417236328,0.09032919257879257,0.09240758419036865,0.0935993418097496,0.09100422263145447,0.0887933298945427,0.09464974701404572,0.09112970530986786,0.09024789184331894,0.09110850095748901,0.0904117077589035,0.09151539951562881,0.08852288872003555,0.09162931889295578,0.08951988816261292,0.08891814947128296,0.09176594018936157,0.08927763998508453,0.09016773849725723,0.08755860477685928,0.0907154381275177,0.09145491570234299,0.0874495580792427,0.08865927904844284,0.08889822661876678,0.08812396228313446,0.0916392058134079,0.08698450028896332,0.0884467214345932,0.08735279738903046,0.08998803049325943,0.0883447676897049,0.08598829805850983,0.08958559483289719,0.09020481258630753,0.08521777391433716,0.0884416252374649,0.08753390610218048,0.08699701726436615,0.08864283561706543,0.0873829796910286,0.08652709424495697,0.08760607987642288,0.08778302371501923,0.08418293297290802,0.086567722260952,0.08697841316461563,0.08453963696956635,0.08611943572759628,0.08503258973360062,0.08677404373884201,0.08458905667066574,0.08656828850507736,0.08510398864746094,0.08503784239292145,0.08736275136470795,0.08481466770172119,0.08452612906694412,0.085475854575634,0.08598826825618744,0.0848454087972641,0.0838489979505539,0.08535373210906982,0.08216328173875809,0.08534553647041321,0.08333446830511093,0.0827595442533493,0.08402177691459656,0.08296217024326324,0.0847170501947403,0.08192465454339981,0.0832347571849823,0.08207770437002182,0.08307723701000214,0.08203427493572235,0.0832631066441536,0.08240973949432373,0.085300512611866,0.08076132088899612,0.0830760970711708,0.0839712843298912,0.08275284618139267,0.08217187970876694,0.08077995479106903,0.08230128139257431,0.08381334692239761,0.0803539901971817,0.08228261023759842,0.08085091412067413,0.08086419850587845,0.08093883842229843,0.08227157592773438,0.08169490098953247,0.08241694420576096,0.07795745879411697,0.08226138353347778,0.08047538995742798,0.0814683735370636,0.0796903520822525,0.08069505542516708,0.0806037187576294,0.08059229701757431,0.0815284475684166,0.08124405145645142,0.07750411331653595,0.08019370585680008,0.07837361842393875,0.07939804345369339,0.08325495570898056,0.07926156371831894,0.08036904036998749,0.07867023348808289,0.07926999777555466,0.07870538532733917,0.07990797609090805,0.07862149924039841,0.07947881519794464,0.07859447598457336,0.07857676595449448,0.08019649237394333,0.07726828753948212,0.0777398943901062,0.08081948012113571,0.07834659516811371,0.07845797389745712,0.07870093733072281,0.07780079543590546,0.07779781520366669,0.07828498631715775,0.07754740864038467,0.07566964626312256,0.07827460765838623,0.07807385921478271,0.07647066563367844,0.0748690515756607,0.07852259278297424,0.07788482308387756,0.07696234434843063,0.07828878611326218,0.07661823183298111,0.07503137737512589,0.07574381679296494,0.07934633642435074,0.07477939128875732,0.07898398488759995,0.07582326233386993,0.07596074044704437,0.07520461082458496,0.07668548822402954,0.07709231227636337,0.0753057450056076,0.07512252777814865,0.07683929055929184,0.07476353645324707,0.07686670869588852,0.0747162401676178,0.07707402855157852,0.0737563967704773,0.0768003761768341,0.0758315846323967,0.07496117055416107,0.07563766092061996,0.07649378478527069,0.07382237166166306,0.07654512673616409,0.07497356832027435,0.07448923587799072,0.07395865768194199,0.07474181056022644,0.07540823519229889,0.07507682591676712,0.07574974745512009,0.07361333817243576,0.07471569627523422,0.07370933145284653,0.07210502028465271,0.07484472543001175,0.07407398521900177,0.07421982288360596,0.07291469722986221,0.07645326107740402,0.07495665550231934,0.07400588691234589,0.07348839193582535,0.0712183266878128,0.07433481514453888,0.07069310545921326,0.07393130660057068,0.07220364362001419,0.07217404246330261,0.07424037903547287,0.07403077930212021,0.07425101101398468,0.07094111293554306,0.07276636362075806,0.0721907764673233,0.07230875641107559,0.07425624132156372,0.07146918773651123,0.07145354151725769,0.07236560434103012,0.07335697114467621,0.07241247594356537,0.07064482569694519,0.07106547802686691,0.07274138182401657,0.07282542437314987,0.06961209326982498,0.07176024466753006,0.07145591080188751,0.07304888218641281,0.07287231832742691,0.07035599648952484,0.06992647796869278,0.07251957058906555,0.07216496765613556,0.07137210667133331,0.07027194648981094,0.07089327275753021,0.07262268662452698,0.0704626813530922,0.07134775817394257,0.07287396490573883,0.06955107301473618,0.0707218274474144,0.06966106593608856,0.072538360953331,0.071117103099823,0.07181708514690399,0.07027732580900192,0.0700477734208107,0.07057033479213715,0.06983361393213272,0.07066959142684937,0.07106530666351318,0.06768371164798737,0.07045066356658936,0.07122724503278732,0.07153976708650589,0.06883614510297775,0.0697685033082962,0.06968867033720016,0.06946781277656555,0.07007262110710144,0.07037036120891571,0.06787102669477463,0.0686735138297081,0.06944017857313156,0.07067811489105225,0.06827890872955322,0.07078427821397781,0.06968645751476288,0.06940589845180511,0.0687747672200203,0.06818344444036484,0.06845849007368088,0.06778468191623688,0.06882800906896591,0.06923697143793106,0.06893207877874374,0.06865337491035461,0.06917738914489746,0.06763634085655212,0.06890799850225449,0.06794226914644241,0.06736602634191513,0.06903300434350967,0.0680222362279892,0.06899617612361908,0.06803268194198608,0.06782477349042892,0.067757748067379,0.06849464774131775,0.06878063082695007,0.0682205855846405,0.06683245301246643,0.06982599198818207,0.06621760129928589,0.06805634498596191,0.06690085679292679,0.0681997686624527,0.06829555332660675,0.06861892342567444,0.06868603825569153,0.06719336658716202,0.06887401640415192,0.06696425378322601,0.06712926179170609,0.06704585999250412,0.0668848305940628,0.06815566122531891,0.06818803399801254,0.06679067015647888,0.0671013742685318,0.06638500839471817,0.06887196004390717,0.0663142129778862,0.06535840034484863,0.06673027575016022,0.06761682778596878,0.06556157022714615,0.06759031116962433,0.068060003221035,0.0655537024140358,0.06705125421285629,0.06790011376142502,0.0665372833609581,0.06646503508090973,0.06648443639278412,0.06628763675689697,0.06538840383291245,0.06653067469596863,0.06621620059013367,0.06647834926843643,0.06629826873540878,0.06728698313236237,0.06603655964136124,0.06598179787397385,0.06598003953695297,0.06711617857217789,0.06699659675359726,0.0659431740641594,0.06576237827539444,0.06529984623193741,0.06578434258699417,0.06569122523069382,0.06694136559963226,0.06565310806035995,0.06640703231096268,0.065256267786026,0.06637533009052277,0.06557445228099823,0.06728877872228622,0.06636609137058258,0.06608060747385025,0.0648958683013916,0.06731883436441422,0.06655716150999069,0.06417714804410934,0.06596840173006058,0.06660903245210648,0.0644502267241478,0.06489003449678421,0.06559037417173386,0.0667179524898529,0.06605105847120285,0.06444653868675232,0.06528469920158386,0.06631673127412796,0.06398959457874298,0.065918929874897,0.06550021469593048,0.06447511911392212,0.06455301493406296,0.06533709168434143,0.06560035794973373,0.06479251384735107,0.06572161614894867,0.06513825058937073,0.06492532789707184,0.0645112469792366,0.06507177650928497,0.06560475379228592,0.06475451588630676,0.06539781391620636,0.06466787308454514,0.06521140784025192,0.06483618170022964,0.06506168842315674,0.0651923194527626,0.06420619785785675,0.06396381556987762,0.06481266766786575,0.06413815170526505,0.06354188174009323,0.06532453745603561,0.0643264427781105,0.06625635176897049,0.06396932154893875,0.06454835832118988,0.0642259418964386,0.06410668790340424,0.06365605443716049,0.06483341753482819,0.06552448868751526,0.06349174678325653,0.06452489644289017,0.0646544024348259,0.06449471414089203,0.06356218457221985,0.06504994630813599,0.06375967711210251,0.06437201052904129,0.06404078751802444,0.06337425112724304,0.06418169289827347,0.06459261476993561,0.06343413889408112,0.06427986919879913,0.06336124986410141,0.0644262433052063,0.06403597444295883,0.06336362659931183,0.06478926539421082,0.06391476094722748,0.0632471889257431,0.06533580273389816,0.06251111626625061,0.06337648630142212],\"type\":\"scatter\"}],                        {\"template\":{\"data\":{\"bar\":[{\"error_x\":{\"color\":\"#2a3f5f\"},\"error_y\":{\"color\":\"#2a3f5f\"},\"marker\":{\"line\":{\"color\":\"#E5ECF6\",\"width\":0.5},\"pattern\":{\"fillmode\":\"overlay\",\"size\":10,\"solidity\":0.2}},\"type\":\"bar\"}],\"barpolar\":[{\"marker\":{\"line\":{\"color\":\"#E5ECF6\",\"width\":0.5},\"pattern\":{\"fillmode\":\"overlay\",\"size\":10,\"solidity\":0.2}},\"type\":\"barpolar\"}],\"carpet\":[{\"aaxis\":{\"endlinecolor\":\"#2a3f5f\",\"gridcolor\":\"white\",\"linecolor\":\"white\",\"minorgridcolor\":\"white\",\"startlinecolor\":\"#2a3f5f\"},\"baxis\":{\"endlinecolor\":\"#2a3f5f\",\"gridcolor\":\"white\",\"linecolor\":\"white\",\"minorgridcolor\":\"white\",\"startlinecolor\":\"#2a3f5f\"},\"type\":\"carpet\"}],\"choropleth\":[{\"colorbar\":{\"outlinewidth\":0,\"ticks\":\"\"},\"type\":\"choropleth\"}],\"contour\":[{\"colorbar\":{\"outlinewidth\":0,\"ticks\":\"\"},\"colorscale\":[[0.0,\"#0d0887\"],[0.1111111111111111,\"#46039f\"],[0.2222222222222222,\"#7201a8\"],[0.3333333333333333,\"#9c179e\"],[0.4444444444444444,\"#bd3786\"],[0.5555555555555556,\"#d8576b\"],[0.6666666666666666,\"#ed7953\"],[0.7777777777777778,\"#fb9f3a\"],[0.8888888888888888,\"#fdca26\"],[1.0,\"#f0f921\"]],\"type\":\"contour\"}],\"contourcarpet\":[{\"colorbar\":{\"outlinewidth\":0,\"ticks\":\"\"},\"type\":\"contourcarpet\"}],\"heatmap\":[{\"colorbar\":{\"outlinewidth\":0,\"ticks\":\"\"},\"colorscale\":[[0.0,\"#0d0887\"],[0.1111111111111111,\"#46039f\"],[0.2222222222222222,\"#7201a8\"],[0.3333333333333333,\"#9c179e\"],[0.4444444444444444,\"#bd3786\"],[0.5555555555555556,\"#d8576b\"],[0.6666666666666666,\"#ed7953\"],[0.7777777777777778,\"#fb9f3a\"],[0.8888888888888888,\"#fdca26\"],[1.0,\"#f0f921\"]],\"type\":\"heatmap\"}],\"heatmapgl\":[{\"colorbar\":{\"outlinewidth\":0,\"ticks\":\"\"},\"colorscale\":[[0.0,\"#0d0887\"],[0.1111111111111111,\"#46039f\"],[0.2222222222222222,\"#7201a8\"],[0.3333333333333333,\"#9c179e\"],[0.4444444444444444,\"#bd3786\"],[0.5555555555555556,\"#d8576b\"],[0.6666666666666666,\"#ed7953\"],[0.7777777777777778,\"#fb9f3a\"],[0.8888888888888888,\"#fdca26\"],[1.0,\"#f0f921\"]],\"type\":\"heatmapgl\"}],\"histogram\":[{\"marker\":{\"pattern\":{\"fillmode\":\"overlay\",\"size\":10,\"solidity\":0.2}},\"type\":\"histogram\"}],\"histogram2d\":[{\"colorbar\":{\"outlinewidth\":0,\"ticks\":\"\"},\"colorscale\":[[0.0,\"#0d0887\"],[0.1111111111111111,\"#46039f\"],[0.2222222222222222,\"#7201a8\"],[0.3333333333333333,\"#9c179e\"],[0.4444444444444444,\"#bd3786\"],[0.5555555555555556,\"#d8576b\"],[0.6666666666666666,\"#ed7953\"],[0.7777777777777778,\"#fb9f3a\"],[0.8888888888888888,\"#fdca26\"],[1.0,\"#f0f921\"]],\"type\":\"histogram2d\"}],\"histogram2dcontour\":[{\"colorbar\":{\"outlinewidth\":0,\"ticks\":\"\"},\"colorscale\":[[0.0,\"#0d0887\"],[0.1111111111111111,\"#46039f\"],[0.2222222222222222,\"#7201a8\"],[0.3333333333333333,\"#9c179e\"],[0.4444444444444444,\"#bd3786\"],[0.5555555555555556,\"#d8576b\"],[0.6666666666666666,\"#ed7953\"],[0.7777777777777778,\"#fb9f3a\"],[0.8888888888888888,\"#fdca26\"],[1.0,\"#f0f921\"]],\"type\":\"histogram2dcontour\"}],\"mesh3d\":[{\"colorbar\":{\"outlinewidth\":0,\"ticks\":\"\"},\"type\":\"mesh3d\"}],\"parcoords\":[{\"line\":{\"colorbar\":{\"outlinewidth\":0,\"ticks\":\"\"}},\"type\":\"parcoords\"}],\"pie\":[{\"automargin\":true,\"type\":\"pie\"}],\"scatter\":[{\"marker\":{\"colorbar\":{\"outlinewidth\":0,\"ticks\":\"\"}},\"type\":\"scatter\"}],\"scatter3d\":[{\"line\":{\"colorbar\":{\"outlinewidth\":0,\"ticks\":\"\"}},\"marker\":{\"colorbar\":{\"outlinewidth\":0,\"ticks\":\"\"}},\"type\":\"scatter3d\"}],\"scattercarpet\":[{\"marker\":{\"colorbar\":{\"outlinewidth\":0,\"ticks\":\"\"}},\"type\":\"scattercarpet\"}],\"scattergeo\":[{\"marker\":{\"colorbar\":{\"outlinewidth\":0,\"ticks\":\"\"}},\"type\":\"scattergeo\"}],\"scattergl\":[{\"marker\":{\"colorbar\":{\"outlinewidth\":0,\"ticks\":\"\"}},\"type\":\"scattergl\"}],\"scattermapbox\":[{\"marker\":{\"colorbar\":{\"outlinewidth\":0,\"ticks\":\"\"}},\"type\":\"scattermapbox\"}],\"scatterpolar\":[{\"marker\":{\"colorbar\":{\"outlinewidth\":0,\"ticks\":\"\"}},\"type\":\"scatterpolar\"}],\"scatterpolargl\":[{\"marker\":{\"colorbar\":{\"outlinewidth\":0,\"ticks\":\"\"}},\"type\":\"scatterpolargl\"}],\"scatterternary\":[{\"marker\":{\"colorbar\":{\"outlinewidth\":0,\"ticks\":\"\"}},\"type\":\"scatterternary\"}],\"surface\":[{\"colorbar\":{\"outlinewidth\":0,\"ticks\":\"\"},\"colorscale\":[[0.0,\"#0d0887\"],[0.1111111111111111,\"#46039f\"],[0.2222222222222222,\"#7201a8\"],[0.3333333333333333,\"#9c179e\"],[0.4444444444444444,\"#bd3786\"],[0.5555555555555556,\"#d8576b\"],[0.6666666666666666,\"#ed7953\"],[0.7777777777777778,\"#fb9f3a\"],[0.8888888888888888,\"#fdca26\"],[1.0,\"#f0f921\"]],\"type\":\"surface\"}],\"table\":[{\"cells\":{\"fill\":{\"color\":\"#EBF0F8\"},\"line\":{\"color\":\"white\"}},\"header\":{\"fill\":{\"color\":\"#C8D4E3\"},\"line\":{\"color\":\"white\"}},\"type\":\"table\"}]},\"layout\":{\"annotationdefaults\":{\"arrowcolor\":\"#2a3f5f\",\"arrowhead\":0,\"arrowwidth\":1},\"autotypenumbers\":\"strict\",\"coloraxis\":{\"colorbar\":{\"outlinewidth\":0,\"ticks\":\"\"}},\"colorscale\":{\"diverging\":[[0,\"#8e0152\"],[0.1,\"#c51b7d\"],[0.2,\"#de77ae\"],[0.3,\"#f1b6da\"],[0.4,\"#fde0ef\"],[0.5,\"#f7f7f7\"],[0.6,\"#e6f5d0\"],[0.7,\"#b8e186\"],[0.8,\"#7fbc41\"],[0.9,\"#4d9221\"],[1,\"#276419\"]],\"sequential\":[[0.0,\"#0d0887\"],[0.1111111111111111,\"#46039f\"],[0.2222222222222222,\"#7201a8\"],[0.3333333333333333,\"#9c179e\"],[0.4444444444444444,\"#bd3786\"],[0.5555555555555556,\"#d8576b\"],[0.6666666666666666,\"#ed7953\"],[0.7777777777777778,\"#fb9f3a\"],[0.8888888888888888,\"#fdca26\"],[1.0,\"#f0f921\"]],\"sequentialminus\":[[0.0,\"#0d0887\"],[0.1111111111111111,\"#46039f\"],[0.2222222222222222,\"#7201a8\"],[0.3333333333333333,\"#9c179e\"],[0.4444444444444444,\"#bd3786\"],[0.5555555555555556,\"#d8576b\"],[0.6666666666666666,\"#ed7953\"],[0.7777777777777778,\"#fb9f3a\"],[0.8888888888888888,\"#fdca26\"],[1.0,\"#f0f921\"]]},\"colorway\":[\"#636efa\",\"#EF553B\",\"#00cc96\",\"#ab63fa\",\"#FFA15A\",\"#19d3f3\",\"#FF6692\",\"#B6E880\",\"#FF97FF\",\"#FECB52\"],\"font\":{\"color\":\"#2a3f5f\"},\"geo\":{\"bgcolor\":\"white\",\"lakecolor\":\"white\",\"landcolor\":\"#E5ECF6\",\"showlakes\":true,\"showland\":true,\"subunitcolor\":\"white\"},\"hoverlabel\":{\"align\":\"left\"},\"hovermode\":\"closest\",\"mapbox\":{\"style\":\"light\"},\"paper_bgcolor\":\"white\",\"plot_bgcolor\":\"#E5ECF6\",\"polar\":{\"angularaxis\":{\"gridcolor\":\"white\",\"linecolor\":\"white\",\"ticks\":\"\"},\"bgcolor\":\"#E5ECF6\",\"radialaxis\":{\"gridcolor\":\"white\",\"linecolor\":\"white\",\"ticks\":\"\"}},\"scene\":{\"xaxis\":{\"backgroundcolor\":\"#E5ECF6\",\"gridcolor\":\"white\",\"gridwidth\":2,\"linecolor\":\"white\",\"showbackground\":true,\"ticks\":\"\",\"zerolinecolor\":\"white\"},\"yaxis\":{\"backgroundcolor\":\"#E5ECF6\",\"gridcolor\":\"white\",\"gridwidth\":2,\"linecolor\":\"white\",\"showbackground\":true,\"ticks\":\"\",\"zerolinecolor\":\"white\"},\"zaxis\":{\"backgroundcolor\":\"#E5ECF6\",\"gridcolor\":\"white\",\"gridwidth\":2,\"linecolor\":\"white\",\"showbackground\":true,\"ticks\":\"\",\"zerolinecolor\":\"white\"}},\"shapedefaults\":{\"line\":{\"color\":\"#2a3f5f\"}},\"ternary\":{\"aaxis\":{\"gridcolor\":\"white\",\"linecolor\":\"white\",\"ticks\":\"\"},\"baxis\":{\"gridcolor\":\"white\",\"linecolor\":\"white\",\"ticks\":\"\"},\"bgcolor\":\"#E5ECF6\",\"caxis\":{\"gridcolor\":\"white\",\"linecolor\":\"white\",\"ticks\":\"\"}},\"title\":{\"x\":0.05},\"xaxis\":{\"automargin\":true,\"gridcolor\":\"white\",\"linecolor\":\"white\",\"ticks\":\"\",\"title\":{\"standoff\":15},\"zerolinecolor\":\"white\",\"zerolinewidth\":2},\"yaxis\":{\"automargin\":true,\"gridcolor\":\"white\",\"linecolor\":\"white\",\"ticks\":\"\",\"title\":{\"standoff\":15},\"zerolinecolor\":\"white\",\"zerolinewidth\":2}}},\"margin\":{\"l\":50,\"r\":50,\"b\":100,\"t\":100,\"pad\":4},\"title\":{\"text\":\"Mae and loss Validation value\"},\"xaxis\":{\"title\":{\"text\":\"epoch\"}},\"yaxis\":{\"title\":{\"text\":\"Loss\"}},\"autosize\":false,\"width\":600,\"height\":600,\"paper_bgcolor\":\"LightSteelBlue\",\"showlegend\":false},                        {\"responsive\": true}                    ).then(function(){\n",
              "                            \n",
              "var gd = document.getElementById('c204ae65-20b3-4307-b37f-36bc1b4e4055');\n",
              "var x = new MutationObserver(function (mutations, observer) {{\n",
              "        var display = window.getComputedStyle(gd).display;\n",
              "        if (!display || display === 'none') {{\n",
              "            console.log([gd, 'removed!']);\n",
              "            Plotly.purge(gd);\n",
              "            observer.disconnect();\n",
              "        }}\n",
              "}});\n",
              "\n",
              "// Listen for the removal of the full notebook cells\n",
              "var notebookContainer = gd.closest('#notebook-container');\n",
              "if (notebookContainer) {{\n",
              "    x.observe(notebookContainer, {childList: true});\n",
              "}}\n",
              "\n",
              "// Listen for the clearing of the current output cell\n",
              "var outputEl = gd.closest('.output');\n",
              "if (outputEl) {{\n",
              "    x.observe(outputEl, {childList: true});\n",
              "}}\n",
              "\n",
              "                        })                };                            </script>        </div>\n",
              "</body>\n",
              "</html>"
            ]
          },
          "metadata": {}
        }
      ]
    },
    {
      "cell_type": "code",
      "source": [
        "plot_series_plotly(np.arange(0, epoch_value), \n",
        "                   (history_build_with_callbacks.history['loss'], \n",
        "                    history_build_with_callbacks.history['val_loss']),\n",
        "                   figure_title='Training Loss value and  Validation loss value',\n",
        "                   series_name=['Training Loss Value', 'Validation Loss Value'],\n",
        "                   xaxis_title='epoch', yaxis_title='Loss')"
      ],
      "metadata": {
        "colab": {
          "base_uri": "https://localhost:8080/",
          "height": 617
        },
        "id": "o9Jn1wsBbYFX",
        "outputId": "d276474e-3964-4440-a86a-21a502704d9c"
      },
      "execution_count": 136,
      "outputs": [
        {
          "output_type": "display_data",
          "data": {
            "text/html": [
              "<html>\n",
              "<head><meta charset=\"utf-8\" /></head>\n",
              "<body>\n",
              "    <div>            <script src=\"https://cdnjs.cloudflare.com/ajax/libs/mathjax/2.7.5/MathJax.js?config=TeX-AMS-MML_SVG\"></script><script type=\"text/javascript\">if (window.MathJax) {MathJax.Hub.Config({SVG: {font: \"STIX-Web\"}});}</script>                <script type=\"text/javascript\">window.PlotlyConfig = {MathJaxConfig: 'local'};</script>\n",
              "        <script src=\"https://cdn.plot.ly/plotly-2.8.3.min.js\"></script>                <div id=\"9233d4d5-1814-43a4-98e0-6f39eeb923fe\" class=\"plotly-graph-div\" style=\"height:600px; width:600px;\"></div>            <script type=\"text/javascript\">                                    window.PLOTLYENV=window.PLOTLYENV || {};                                    if (document.getElementById(\"9233d4d5-1814-43a4-98e0-6f39eeb923fe\")) {                    Plotly.newPlot(                        \"9233d4d5-1814-43a4-98e0-6f39eeb923fe\",                        [{\"mode\":\"lines\",\"name\":\"Training Loss Value\",\"x\":[0,1,2,3,4,5,6,7,8,9,10,11,12,13,14,15,16,17,18,19,20,21,22,23,24,25,26,27,28,29,30,31,32,33,34,35,36,37,38,39,40,41,42,43,44,45,46,47,48,49,50,51,52,53,54,55,56,57,58,59,60,61,62,63,64,65,66,67,68,69,70,71,72,73,74,75,76,77,78,79,80,81,82,83,84,85,86,87,88,89,90,91,92,93,94,95,96,97,98,99],\"y\":[0.09942584484815598,0.06151185929775238,0.024969734251499176,0.0091407410800457,0.008318248204886913,0.008120446465909481,0.008001409471035004,0.007975534535944462,0.007930956780910492,0.007876110263168812,0.007905334234237671,0.007808983791619539,0.007812528870999813,0.007775154430419207,0.007730498444288969,0.0077047767117619514,0.007679708767682314,0.007631753571331501,0.0076094684191048145,0.00762786902487278,0.00756805669516325,0.007535140495747328,0.007512561045587063,0.007481062784790993,0.007457856088876724,0.007475936319679022,0.0074509987607598305,0.00739599484950304,0.007388988509774208,0.007366970181465149,0.007327788043767214,0.007317527197301388,0.007295609451830387,0.007264167536050081,0.007260140962898731,0.007281334605067968,0.007283658254891634,0.007193964906036854,0.007159100379794836,0.007156453561037779,0.007146598305553198,0.007142655551433563,0.007169259246438742,0.007088785525411367,0.007081225048750639,0.007050022017210722,0.00703414948657155,0.007023283280432224,0.007003080565482378,0.006972109898924828,0.00696865888312459,0.006937722209841013,0.006929894909262657,0.006913782563060522,0.006885139271616936,0.0069504170678555965,0.007013821508735418,0.006928003393113613,0.00682451156899333,0.00679007126018405,0.006807498633861542,0.006759010720998049,0.006764466408640146,0.006741510238498449,0.006718772929161787,0.006722225341945887,0.006718005053699017,0.006679953075945377,0.0066700889728963375,0.006649240385740995,0.006640106439590454,0.006636783946305513,0.0066055795177817345,0.006586605217307806,0.006576553452759981,0.006569401361048222,0.006591716781258583,0.0065693180076777935,0.006525921635329723,0.006525009870529175,0.0065008956007659435,0.0064827813766896725,0.006483543664216995,0.006468809675425291,0.006472920533269644,0.006439375691115856,0.006432617083191872,0.006413421593606472,0.006399327889084816,0.006383753381669521,0.006369652226567268,0.0063540637493133545,0.006349768955260515,0.006331563461571932,0.006335852202028036,0.006330644711852074,0.006326980888843536,0.006352501455694437,0.006312390323728323,0.006265061441808939,0.00623632175847888,0.00623168284073472,0.006241613067686558,0.006202673073858023,0.006196585949510336,0.006182979326695204,0.006176887545734644,0.006171651650220156,0.006154458969831467,0.006125560496002436,0.006121475249528885,0.0061055738478899,0.006108252797275782,0.006110825575888157,0.006088245194405317,0.006074218545109034,0.006072139833122492,0.006066956091672182,0.00609186664223671,0.006025017239153385,0.006012073252350092,0.006004047114402056,0.006000981200486422,0.006031947210431099,0.005960545502603054,0.005984061397612095,0.00595310190692544,0.005950243212282658,0.0059591019526124,0.005919833667576313,0.00589291425421834,0.005890215281397104,0.005888465326279402,0.005860399920493364,0.005871220026165247,0.005841393489390612,0.005823345389217138,0.005825594998896122,0.005827735178172588,0.005795326549559832,0.005796315148472786,0.005788844078779221,0.005760143045336008,0.00576399639248848,0.005767513532191515,0.005770476069301367,0.005754453130066395,0.0057359784841537476,0.005729261320084333,0.00575927784666419,0.005699744913727045,0.005670989863574505,0.005671653430908918,0.005652724765241146,0.00564963836222887,0.005641159135848284,0.0056282528676092625,0.005625330843031406,0.005606749095022678,0.005604561418294907,0.005620911717414856,0.0055826823227107525,0.005605593323707581,0.005551245529204607,0.0055545903742313385,0.00553287286311388,0.005538392812013626,0.005545457825064659,0.005554344039410353,0.005518409889191389,0.005504534114152193,0.005489931907504797,0.005491066258400679,0.005464998073875904,0.005461656954139471,0.0054479860700666904,0.0054371845908463,0.005439891945570707,0.005415007472038269,0.0054480768740177155,0.00545129319652915,0.005396676249802113,0.005397793371230364,0.005408755503594875,0.00539094302803278,0.005385344848036766,0.0053476388566195965,0.00534437783062458,0.00535012548789382,0.005332875065505505,0.005337149370461702,0.005317415576428175,0.005293129477649927,0.005289396271109581,0.005288959480822086,0.0052836304530501366,0.005281586665660143,0.005272403359413147,0.005257518962025642,0.0052571785636246204,0.0052436296828091145,0.005224854219704866,0.00522634107619524,0.005213846452534199,0.005242115817964077,0.005191056989133358,0.005208925809711218,0.005217423662543297,0.005195434670895338,0.005168352276086807,0.005172287113964558,0.0051859053783118725,0.005164238158613443,0.005180606618523598,0.005191654898226261,0.00511544942855835,0.005112719722092152,0.005096226930618286,0.00508965365588665,0.005087700206786394,0.00512046180665493,0.005099985282868147,0.0050702812150120735,0.005051428452134132,0.005056947469711304,0.005039358511567116,0.005045036319643259,0.00503431586548686,0.00503056775778532,0.005028091371059418,0.0050069959834218025,0.0050327470526099205,0.005010824650526047,0.004994143266230822,0.004990790039300919,0.004983862396329641,0.004970477893948555,0.004977688658982515,0.004952169489115477,0.004940899088978767,0.004947768524289131,0.004931627307087183,0.004933265969157219,0.004921380430459976,0.004911697935312986,0.0049067093059420586,0.004914744757115841,0.004932088311761618,0.004872617777436972,0.004897983744740486,0.00488065741956234,0.004861887544393539,0.004885978065431118,0.004863637499511242,0.004850232508033514,0.00488619739189744,0.00485434802249074,0.004860092420130968,0.0048377555795013905,0.0048316665925085545,0.0048185852356255054,0.004826856777071953,0.00481867790222168,0.004804630763828754,0.0048065586015582085,0.004824105650186539,0.004800178110599518,0.0047936937771737576,0.004777169320732355,0.004775432404130697,0.004781585186719894,0.004758602008223534,0.004774510860443115,0.004753854591399431,0.004742943681776524,0.004743991419672966,0.004753782879561186,0.004728659521788359,0.004723475314676762,0.00474527757614851,0.004758222959935665,0.004716895055025816,0.004771676380187273,0.004702668637037277,0.004697377793490887,0.0046972655691206455,0.004685963038355112,0.004680453799664974,0.0046927472576498985,0.004667375236749649,0.004680626094341278,0.004669055808335543,0.004665963817387819,0.004675299394875765,0.0046417140401899815,0.004667368717491627,0.004661745857447386,0.004655376076698303,0.004643613006919622,0.0046522789634764194,0.0046147508546710014,0.004615291021764278,0.004621950909495354,0.004608368966728449,0.004617894068360329,0.0045969379134476185,0.004604846239089966,0.004597936291247606,0.004609133582562208,0.004615688696503639,0.004574773367494345,0.004565337672829628,0.004564432427287102,0.004575752187520266,0.004557796288281679,0.004563372582197189,0.004591730888932943,0.004536452703177929,0.004576101899147034,0.0045254165306687355,0.004532539751380682,0.004541430156677961,0.004549965728074312,0.004543083719909191,0.004515615291893482,0.0045101880095899105,0.004523157607764006,0.0045223836787045,0.004514670465141535,0.004497704096138477,0.004484611097723246,0.004500618204474449,0.004481778480112553,0.004500668495893478,0.004481154028326273,0.004469558596611023,0.004469361621886492,0.00447092903777957,0.004452599212527275,0.004458668641746044,0.004456756170839071,0.004447843413800001,0.004451272077858448,0.004451081622391939,0.0044596693478524685,0.004436199553310871,0.004432440269738436,0.004435208160430193,0.0044404324144124985,0.0044277021661400795,0.004437804687768221,0.004436667077243328,0.004472021013498306,0.004441182594746351,0.0044394866563379765,0.004414369817823172,0.004404325038194656,0.00440390408039093,0.004390125162899494,0.004385037813335657,0.004419285804033279,0.00438763527199626,0.004384168423712254,0.0043689836747944355,0.00438480032607913,0.004371303599327803,0.0043580965138971806,0.004376434255391359,0.004370565991848707,0.004369258880615234,0.004345219116657972,0.004341679159551859,0.004361216444522142,0.004359223879873753,0.0043472060933709145,0.004339009057730436,0.004343451000750065,0.004337952472269535,0.004362107254564762,0.004359703976660967,0.004336659796535969,0.004327117931097746,0.004311671014875174,0.0043182759545743465,0.004308372735977173,0.0043232315219938755,0.004364239051938057,0.0043346774764359,0.004300374537706375,0.004304681904613972,0.004298674874007702,0.004313752520829439,0.004296701867133379,0.0042824591509997845,0.004312172532081604,0.004267057869583368,0.004270404111593962,0.004271196201443672,0.004280297085642815,0.004259384237229824,0.004257852211594582,0.004263623617589474,0.004256350453943014,0.004261835478246212,0.004254650324583054,0.004254099912941456,0.004244671203196049,0.004235499072819948,0.0042316848412156105,0.004253034014254808,0.004220227710902691,0.004231801722198725,0.00422451039776206,0.00422488572075963,0.004223110619932413,0.004214590415358543,0.0042143454775214195,0.004211809020489454,0.004207027144730091,0.00420944020152092,0.004205211065709591,0.00420220335945487,0.004210385959595442,0.0042339651845395565,0.004205298610031605,0.004209594801068306,0.004180139862000942,0.004193409811705351,0.004200054332613945,0.004205568693578243,0.0042009372264146805,0.0041991062462329865,0.004173471592366695,0.004165867809206247,0.0041686780750751495,0.00415774853900075,0.004181079566478729,0.004178296308964491,0.004168506246060133,0.004217570181936026,0.004168597050011158,0.004159166943281889,0.004153400659561157,0.004136215895414352,0.0041498951613903046,0.004132865462452173,0.0041328053921461105,0.004129466600716114,0.004139236640185118,0.004151280503720045,0.004141118843108416,0.004146747291088104,0.004120581317692995,0.004109637346118689,0.004122322890907526,0.00412273732945323,0.004132660571485758,0.0041004084050655365,0.004108901135623455,0.00409988546743989,0.004102567210793495,0.004100181628018618,0.004094401840120554,0.004093795083463192,0.004083898384124041,0.004105079919099808,0.004074301570653915,0.00409298948943615,0.0040884967893362045,0.004083022475242615,0.004072882700711489,0.004080619663000107,0.004076938610523939,0.004126203246414661,0.004107204265892506,0.004062308464199305,0.004076318349689245,0.004064506851136684,0.004063688684254885,0.004052123986184597,0.0040591126307845116,0.0040593380108475685,0.004060438834130764,0.004063172731548548,0.004037317354232073,0.004037225153297186,0.004039087798446417,0.004035568796098232,0.004034113604575396,0.0040396228432655334,0.004038501530885696,0.004048523493111134,0.004017517901957035,0.004035012796521187,0.004020467400550842,0.004018939100205898,0.004025321453809738,0.004041470121592283,0.00402840506285429,0.004013397265225649],\"type\":\"scatter\"},{\"mode\":\"lines\",\"name\":\"Validation Loss Value\",\"x\":[0,1,2,3,4,5,6,7,8,9,10,11,12,13,14,15,16,17,18,19,20,21,22,23,24,25,26,27,28,29,30,31,32,33,34,35,36,37,38,39,40,41,42,43,44,45,46,47,48,49,50,51,52,53,54,55,56,57,58,59,60,61,62,63,64,65,66,67,68,69,70,71,72,73,74,75,76,77,78,79,80,81,82,83,84,85,86,87,88,89,90,91,92,93,94,95,96,97,98,99],\"y\":[0.09112614393234253,0.03577033430337906,0.009388142265379429,0.014415097422897816,0.014491522684693336,0.012402880005538464,0.011361479759216309,0.011920895427465439,0.011546330526471138,0.012253886088728905,0.010559887625277042,0.011563017033040524,0.011186247691512108,0.010984030552208424,0.01082108449190855,0.01044184435158968,0.010309908539056778,0.011104987002909184,0.01077717449516058,0.010263713076710701,0.009963735938072205,0.010525424964725971,0.010174330323934555,0.01009198185056448,0.009899821132421494,0.009290781803429127,0.009920877404510975,0.009588603861629963,0.010176895186305046,0.009708492085337639,0.009225903078913689,0.009737382642924786,0.009194143116474152,0.009292783215641975,0.009839762933552265,0.009221172891557217,0.009255114011466503,0.009228589944541454,0.009078898467123508,0.00885731540620327,0.009103880263864994,0.00894937664270401,0.008479033596813679,0.008894131518900394,0.008410139009356499,0.008879306726157665,0.008396059274673462,0.00918825063854456,0.008427116088569164,0.008599882945418358,0.008682197891175747,0.008908877149224281,0.008515032939612865,0.008561854250729084,0.008259630762040615,0.008201061747968197,0.008142177015542984,0.00844867154955864,0.00822609942406416,0.008471393026411533,0.008514645509421825,0.0076284934766590595,0.008339171297848225,0.008193065412342548,0.008035652339458466,0.008351201191544533,0.007729123812168837,0.008092999458312988,0.007840827107429504,0.007880079559981823,0.00822087749838829,0.007569635286927223,0.008023564703762531,0.007653087843209505,0.007802712731063366,0.00793257262557745,0.007710129488259554,0.008178996853530407,0.007155923638492823,0.007812303490936756,0.007222642190754414,0.008082102052867413,0.007129734382033348,0.00741502596065402,0.007680733688175678,0.007370647508651018,0.007258827798068523,0.007641255389899015,0.0074477787129580975,0.007270386908203363,0.007621098309755325,0.007173990830779076,0.0071504260413348675,0.007431138306856155,0.007590760011225939,0.007240904029458761,0.006944091059267521,0.007722652051597834,0.007251784671097994,0.007119236048310995,0.0072446539998054504,0.007145266979932785,0.007283754181116819,0.006902990862727165,0.007299345452338457,0.007019893266260624,0.006939428858458996,0.007316626142710447,0.006996699143201113,0.00709567591547966,0.006753300782293081,0.007163877133280039,0.007265944965183735,0.00673096626996994,0.006893034093081951,0.006913100369274616,0.006818680092692375,0.0072755636647343636,0.006659532897174358,0.006850721314549446,0.0067084189504384995,0.0070550269447267056,0.006836309563368559,0.00651836022734642,0.006991786416620016,0.007060718256980181,0.006420519202947617,0.0068276142701506615,0.00672488659620285,0.006639383267611265,0.006851759739220142,0.0066935280337929726,0.006580361630767584,0.006712277885526419,0.006727864034473896,0.006278698332607746,0.006566389463841915,0.006631898693740368,0.006316679064184427,0.006517298985272646,0.006372860632836819,0.006597594358026981,0.006316196173429489,0.006569229997694492,0.006380286533385515,0.006355665624141693,0.006661219522356987,0.006336679682135582,0.006284238304942846,0.006423987913876772,0.006480597425252199,0.006336854305118322,0.006198784802109003,0.006390254944562912,0.005978027358651161,0.006388227920979261,0.006122869905084372,0.006047001574188471,0.0062139760702848434,0.0060703638009727,0.0062941089272499084,0.005933145992457867,0.006094994023442268,0.005953491665422916,0.006076619029045105,0.005939734634011984,0.0060841795057058334,0.005987449083477259,0.006350810639560223,0.005772080272436142,0.006066379602998495,0.006176576483994722,0.006016431376338005,0.00594108272343874,0.005764794070273638,0.0059598288498818874,0.006145230028778315,0.0057055093348026276,0.00594946276396513,0.005767117720097303,0.0057637994177639484,0.005773519165813923,0.0059348163194954395,0.0058647263795137405,0.005959932692348957,0.005394394975155592,0.005933595355600119,0.00570491561666131,0.005819539539515972,0.005605077371001244,0.005725921131670475,0.005712129175662994,0.005709663964807987,0.005828147754073143,0.00579140055924654,0.005327700637280941,0.005651264451444149,0.005431069526821375,0.005550609901547432,0.006040243897587061,0.005533892661333084,0.0056664845906198025,0.0054581789299845695,0.0055272141471505165,0.005461208522319794,0.005602615419775248,0.005450685508549213,0.005550294183194637,0.0054371957667171955,0.005440243519842625,0.005635404493659735,0.005278954282402992,0.005335598718374968,0.00570520106703043,0.005405097734183073,0.005418953951448202,0.00544510455802083,0.00533524714410305,0.005337194073945284,0.0053911274299025536,0.005305079743266106,0.00507592037320137,0.005388008896261454,0.005362214054912329,0.005174294114112854,0.004980540834367275,0.005407359916716814,0.005333316512405872,0.00522868474945426,0.005379689857363701,0.005192342679947615,0.0049993256106972694,0.005085940472781658,0.005496068391948938,0.0049642538651824,0.005458131432533264,0.005085914861410856,0.00510423956438899,0.0050149234011769295,0.0051809679716825485,0.005232546478509903,0.005023605655878782,0.004997964482754469,0.005198221653699875,0.004952435847371817,0.005193521734327078,0.004945250228047371,0.005213101860135794,0.004825487732887268,0.005184394773095846,0.005069446749985218,0.004968177992850542,0.005043639335781336,0.005143741145730019,0.004831698257476091,0.005154110491275787,0.004962072242051363,0.004899218212813139,0.004841797985136509,0.0049345060251653194,0.0050058867782354355,0.004966456908732653,0.005050733685493469,0.004795659799128771,0.004922077525407076,0.004807528108358383,0.004613365046679974,0.004933448974043131,0.004845015704631805,0.00485851289704442,0.004707710817456245,0.005119287874549627,0.004944355692714453,0.004833712242543697,0.004768907558172941,0.004499559290707111,0.004863955546170473,0.004430070985108614,0.00481589836999774,0.004620699677616358,0.004612456075847149,0.0048509687185287476,0.004820627626031637,0.004854368511587381,0.004466385114938021,0.00467923516407609,0.004613043740391731,0.004627225920557976,0.004845710471272469,0.0045301178470253944,0.004525343421846628,0.004630382638424635,0.004739210940897465,0.0046334173530340195,0.004433935973793268,0.004480875562876463,0.0046649812720716,0.004680915270000696,0.004299220163375139,0.00455571711063385,0.004524683579802513,0.004698872100561857,0.004683638922870159,0.004392767325043678,0.004339077975600958,0.004644931294023991,0.004599674139171839,0.004509941674768925,0.004387893248349428,0.004458595532923937,0.004653935320675373,0.004410785622894764,0.0045068468898534775,0.004675744101405144,0.004299953114241362,0.004436383955180645,0.004312663339078426,0.004635055549442768,0.004483676515519619,0.00455478997901082,0.004388939123600721,0.004362827632576227,0.004419589415192604,0.004335205070674419,0.004430259112268686,0.004470935557037592,0.004064655862748623,0.004403627943247557,0.004491209518164396,0.0045251003466546535,0.004215127322822809,0.0043313149362802505,0.004318567458540201,0.004298259504139423,0.004363948479294777,0.004396239295601845,0.004096561577171087,0.004199002869427204,0.00429442897439003,0.004428165964782238,0.004148091655224562,0.004439144860953093,0.004320980049669743,0.004291174001991749,0.004212649539113045,0.004136866889894009,0.004171881824731827,0.004085170105099678,0.004220195580273867,0.004268129356205463,0.0042335884645581245,0.0041971891187131405,0.00425860146060586,0.00406769709661603,0.004229985177516937,0.004107383545488119,0.004033112432807684,0.004243556410074234,0.004118414130061865,0.0042381673119962215,0.0041168248280882835,0.004093606024980545,0.004085404332727194,0.004179487936198711,0.004212652333080769,0.004144619219005108,0.0039655170403420925,0.004332941025495529,0.003884184407070279,0.004123333375900984,0.003972955979406834,0.004142528399825096,0.004153297282755375,0.004192942287772894,0.004199680872261524,0.004011905752122402,0.004220485687255859,0.003982041496783495,0.004000264685600996,0.003993843216449022,0.003973615355789661,0.004134832881391048,0.0041374387219548225,0.003959429915994406,0.003999366424977779,0.0039118812419474125,0.004212347324937582,0.003903395729139447,0.0037738436367362738,0.003951686900109053,0.004065059591084719,0.0038027490954846144,0.004063188564032316,0.004116950556635857,0.0038019183557480574,0.003994735423475504,0.004100763238966465,0.003930824808776379,0.003920824732631445,0.003922508098185062,0.0038972648326307535,0.003778264159336686,0.003930434584617615,0.003888141131028533,0.00392180634662509,0.003902943804860115,0.004023876041173935,0.003861837787553668,0.0038594473153352737,0.0038582526613026857,0.004001875873655081,0.003985286690294743,0.0038496972993016243,0.0038297660648822784,0.003765795612707734,0.0038318177685141563,0.0038199725095182657,0.003979545086622238,0.0038150104228407145,0.003912692423909903,0.003760172752663493,0.0039050858467817307,0.0038075449410825968,0.004023075103759766,0.0039040243718773127,0.0038709992077201605,0.003709595650434494,0.004025684669613838,0.0039280173368752,0.0036144712939858437,0.003854782087728381,0.003932548221200705,0.0036497495602816343,0.003710877848789096,0.003810691647231579,0.00394611107185483,0.0038623439613729715,0.0036510841455310583,0.003770643612369895,0.003898585680872202,0.0035906655248254538,0.003849525237455964,0.0037998920306563377,0.0036550816148519516,0.0036659110337495804,0.003774812212213874,0.0038098378572613,0.003701970912516117,0.0038270032964646816,0.003751564072445035,0.003721717046573758,0.003663638373836875,0.003740409156307578,0.0038128485903143883,0.003699344350025058,0.0037864530459046364,0.003687959862872958,0.0037643772084265947,0.0037123635411262512,0.003740947460755706,0.003762800944969058,0.0036256706807762384,0.003593423403799534,0.00370990252122283,0.0036180969327688217,0.0035366800148040056,0.0037807999178767204,0.0036441453266888857,0.0038935518823564053,0.0035964413546025753,0.003677073400467634,0.003632604843005538,0.0036164827179163694,0.0035561453551054,0.003717617830261588,0.003808332607150078,0.0035370327532291412,0.003677018918097019,0.0036937168333679438,0.003674381412565708,0.0035479418002068996,0.0037478783633559942,0.0035744563210755587,0.003659032052382827,0.003614098532125354,0.0035265502519905567,0.0036341482773423195,0.003690043231472373,0.0035352150443941355,0.003649268765002489,0.0035266312770545483,0.003669228870421648,0.0036170368548482656,0.003528035944327712,0.003720490727573633,0.0036024192813783884,0.00351377809420228,0.0037867596838623285,0.0034137056209146976,0.003530886024236679],\"type\":\"scatter\"}],                        {\"template\":{\"data\":{\"bar\":[{\"error_x\":{\"color\":\"#2a3f5f\"},\"error_y\":{\"color\":\"#2a3f5f\"},\"marker\":{\"line\":{\"color\":\"#E5ECF6\",\"width\":0.5},\"pattern\":{\"fillmode\":\"overlay\",\"size\":10,\"solidity\":0.2}},\"type\":\"bar\"}],\"barpolar\":[{\"marker\":{\"line\":{\"color\":\"#E5ECF6\",\"width\":0.5},\"pattern\":{\"fillmode\":\"overlay\",\"size\":10,\"solidity\":0.2}},\"type\":\"barpolar\"}],\"carpet\":[{\"aaxis\":{\"endlinecolor\":\"#2a3f5f\",\"gridcolor\":\"white\",\"linecolor\":\"white\",\"minorgridcolor\":\"white\",\"startlinecolor\":\"#2a3f5f\"},\"baxis\":{\"endlinecolor\":\"#2a3f5f\",\"gridcolor\":\"white\",\"linecolor\":\"white\",\"minorgridcolor\":\"white\",\"startlinecolor\":\"#2a3f5f\"},\"type\":\"carpet\"}],\"choropleth\":[{\"colorbar\":{\"outlinewidth\":0,\"ticks\":\"\"},\"type\":\"choropleth\"}],\"contour\":[{\"colorbar\":{\"outlinewidth\":0,\"ticks\":\"\"},\"colorscale\":[[0.0,\"#0d0887\"],[0.1111111111111111,\"#46039f\"],[0.2222222222222222,\"#7201a8\"],[0.3333333333333333,\"#9c179e\"],[0.4444444444444444,\"#bd3786\"],[0.5555555555555556,\"#d8576b\"],[0.6666666666666666,\"#ed7953\"],[0.7777777777777778,\"#fb9f3a\"],[0.8888888888888888,\"#fdca26\"],[1.0,\"#f0f921\"]],\"type\":\"contour\"}],\"contourcarpet\":[{\"colorbar\":{\"outlinewidth\":0,\"ticks\":\"\"},\"type\":\"contourcarpet\"}],\"heatmap\":[{\"colorbar\":{\"outlinewidth\":0,\"ticks\":\"\"},\"colorscale\":[[0.0,\"#0d0887\"],[0.1111111111111111,\"#46039f\"],[0.2222222222222222,\"#7201a8\"],[0.3333333333333333,\"#9c179e\"],[0.4444444444444444,\"#bd3786\"],[0.5555555555555556,\"#d8576b\"],[0.6666666666666666,\"#ed7953\"],[0.7777777777777778,\"#fb9f3a\"],[0.8888888888888888,\"#fdca26\"],[1.0,\"#f0f921\"]],\"type\":\"heatmap\"}],\"heatmapgl\":[{\"colorbar\":{\"outlinewidth\":0,\"ticks\":\"\"},\"colorscale\":[[0.0,\"#0d0887\"],[0.1111111111111111,\"#46039f\"],[0.2222222222222222,\"#7201a8\"],[0.3333333333333333,\"#9c179e\"],[0.4444444444444444,\"#bd3786\"],[0.5555555555555556,\"#d8576b\"],[0.6666666666666666,\"#ed7953\"],[0.7777777777777778,\"#fb9f3a\"],[0.8888888888888888,\"#fdca26\"],[1.0,\"#f0f921\"]],\"type\":\"heatmapgl\"}],\"histogram\":[{\"marker\":{\"pattern\":{\"fillmode\":\"overlay\",\"size\":10,\"solidity\":0.2}},\"type\":\"histogram\"}],\"histogram2d\":[{\"colorbar\":{\"outlinewidth\":0,\"ticks\":\"\"},\"colorscale\":[[0.0,\"#0d0887\"],[0.1111111111111111,\"#46039f\"],[0.2222222222222222,\"#7201a8\"],[0.3333333333333333,\"#9c179e\"],[0.4444444444444444,\"#bd3786\"],[0.5555555555555556,\"#d8576b\"],[0.6666666666666666,\"#ed7953\"],[0.7777777777777778,\"#fb9f3a\"],[0.8888888888888888,\"#fdca26\"],[1.0,\"#f0f921\"]],\"type\":\"histogram2d\"}],\"histogram2dcontour\":[{\"colorbar\":{\"outlinewidth\":0,\"ticks\":\"\"},\"colorscale\":[[0.0,\"#0d0887\"],[0.1111111111111111,\"#46039f\"],[0.2222222222222222,\"#7201a8\"],[0.3333333333333333,\"#9c179e\"],[0.4444444444444444,\"#bd3786\"],[0.5555555555555556,\"#d8576b\"],[0.6666666666666666,\"#ed7953\"],[0.7777777777777778,\"#fb9f3a\"],[0.8888888888888888,\"#fdca26\"],[1.0,\"#f0f921\"]],\"type\":\"histogram2dcontour\"}],\"mesh3d\":[{\"colorbar\":{\"outlinewidth\":0,\"ticks\":\"\"},\"type\":\"mesh3d\"}],\"parcoords\":[{\"line\":{\"colorbar\":{\"outlinewidth\":0,\"ticks\":\"\"}},\"type\":\"parcoords\"}],\"pie\":[{\"automargin\":true,\"type\":\"pie\"}],\"scatter\":[{\"marker\":{\"colorbar\":{\"outlinewidth\":0,\"ticks\":\"\"}},\"type\":\"scatter\"}],\"scatter3d\":[{\"line\":{\"colorbar\":{\"outlinewidth\":0,\"ticks\":\"\"}},\"marker\":{\"colorbar\":{\"outlinewidth\":0,\"ticks\":\"\"}},\"type\":\"scatter3d\"}],\"scattercarpet\":[{\"marker\":{\"colorbar\":{\"outlinewidth\":0,\"ticks\":\"\"}},\"type\":\"scattercarpet\"}],\"scattergeo\":[{\"marker\":{\"colorbar\":{\"outlinewidth\":0,\"ticks\":\"\"}},\"type\":\"scattergeo\"}],\"scattergl\":[{\"marker\":{\"colorbar\":{\"outlinewidth\":0,\"ticks\":\"\"}},\"type\":\"scattergl\"}],\"scattermapbox\":[{\"marker\":{\"colorbar\":{\"outlinewidth\":0,\"ticks\":\"\"}},\"type\":\"scattermapbox\"}],\"scatterpolar\":[{\"marker\":{\"colorbar\":{\"outlinewidth\":0,\"ticks\":\"\"}},\"type\":\"scatterpolar\"}],\"scatterpolargl\":[{\"marker\":{\"colorbar\":{\"outlinewidth\":0,\"ticks\":\"\"}},\"type\":\"scatterpolargl\"}],\"scatterternary\":[{\"marker\":{\"colorbar\":{\"outlinewidth\":0,\"ticks\":\"\"}},\"type\":\"scatterternary\"}],\"surface\":[{\"colorbar\":{\"outlinewidth\":0,\"ticks\":\"\"},\"colorscale\":[[0.0,\"#0d0887\"],[0.1111111111111111,\"#46039f\"],[0.2222222222222222,\"#7201a8\"],[0.3333333333333333,\"#9c179e\"],[0.4444444444444444,\"#bd3786\"],[0.5555555555555556,\"#d8576b\"],[0.6666666666666666,\"#ed7953\"],[0.7777777777777778,\"#fb9f3a\"],[0.8888888888888888,\"#fdca26\"],[1.0,\"#f0f921\"]],\"type\":\"surface\"}],\"table\":[{\"cells\":{\"fill\":{\"color\":\"#EBF0F8\"},\"line\":{\"color\":\"white\"}},\"header\":{\"fill\":{\"color\":\"#C8D4E3\"},\"line\":{\"color\":\"white\"}},\"type\":\"table\"}]},\"layout\":{\"annotationdefaults\":{\"arrowcolor\":\"#2a3f5f\",\"arrowhead\":0,\"arrowwidth\":1},\"autotypenumbers\":\"strict\",\"coloraxis\":{\"colorbar\":{\"outlinewidth\":0,\"ticks\":\"\"}},\"colorscale\":{\"diverging\":[[0,\"#8e0152\"],[0.1,\"#c51b7d\"],[0.2,\"#de77ae\"],[0.3,\"#f1b6da\"],[0.4,\"#fde0ef\"],[0.5,\"#f7f7f7\"],[0.6,\"#e6f5d0\"],[0.7,\"#b8e186\"],[0.8,\"#7fbc41\"],[0.9,\"#4d9221\"],[1,\"#276419\"]],\"sequential\":[[0.0,\"#0d0887\"],[0.1111111111111111,\"#46039f\"],[0.2222222222222222,\"#7201a8\"],[0.3333333333333333,\"#9c179e\"],[0.4444444444444444,\"#bd3786\"],[0.5555555555555556,\"#d8576b\"],[0.6666666666666666,\"#ed7953\"],[0.7777777777777778,\"#fb9f3a\"],[0.8888888888888888,\"#fdca26\"],[1.0,\"#f0f921\"]],\"sequentialminus\":[[0.0,\"#0d0887\"],[0.1111111111111111,\"#46039f\"],[0.2222222222222222,\"#7201a8\"],[0.3333333333333333,\"#9c179e\"],[0.4444444444444444,\"#bd3786\"],[0.5555555555555556,\"#d8576b\"],[0.6666666666666666,\"#ed7953\"],[0.7777777777777778,\"#fb9f3a\"],[0.8888888888888888,\"#fdca26\"],[1.0,\"#f0f921\"]]},\"colorway\":[\"#636efa\",\"#EF553B\",\"#00cc96\",\"#ab63fa\",\"#FFA15A\",\"#19d3f3\",\"#FF6692\",\"#B6E880\",\"#FF97FF\",\"#FECB52\"],\"font\":{\"color\":\"#2a3f5f\"},\"geo\":{\"bgcolor\":\"white\",\"lakecolor\":\"white\",\"landcolor\":\"#E5ECF6\",\"showlakes\":true,\"showland\":true,\"subunitcolor\":\"white\"},\"hoverlabel\":{\"align\":\"left\"},\"hovermode\":\"closest\",\"mapbox\":{\"style\":\"light\"},\"paper_bgcolor\":\"white\",\"plot_bgcolor\":\"#E5ECF6\",\"polar\":{\"angularaxis\":{\"gridcolor\":\"white\",\"linecolor\":\"white\",\"ticks\":\"\"},\"bgcolor\":\"#E5ECF6\",\"radialaxis\":{\"gridcolor\":\"white\",\"linecolor\":\"white\",\"ticks\":\"\"}},\"scene\":{\"xaxis\":{\"backgroundcolor\":\"#E5ECF6\",\"gridcolor\":\"white\",\"gridwidth\":2,\"linecolor\":\"white\",\"showbackground\":true,\"ticks\":\"\",\"zerolinecolor\":\"white\"},\"yaxis\":{\"backgroundcolor\":\"#E5ECF6\",\"gridcolor\":\"white\",\"gridwidth\":2,\"linecolor\":\"white\",\"showbackground\":true,\"ticks\":\"\",\"zerolinecolor\":\"white\"},\"zaxis\":{\"backgroundcolor\":\"#E5ECF6\",\"gridcolor\":\"white\",\"gridwidth\":2,\"linecolor\":\"white\",\"showbackground\":true,\"ticks\":\"\",\"zerolinecolor\":\"white\"}},\"shapedefaults\":{\"line\":{\"color\":\"#2a3f5f\"}},\"ternary\":{\"aaxis\":{\"gridcolor\":\"white\",\"linecolor\":\"white\",\"ticks\":\"\"},\"baxis\":{\"gridcolor\":\"white\",\"linecolor\":\"white\",\"ticks\":\"\"},\"bgcolor\":\"#E5ECF6\",\"caxis\":{\"gridcolor\":\"white\",\"linecolor\":\"white\",\"ticks\":\"\"}},\"title\":{\"x\":0.05},\"xaxis\":{\"automargin\":true,\"gridcolor\":\"white\",\"linecolor\":\"white\",\"ticks\":\"\",\"title\":{\"standoff\":15},\"zerolinecolor\":\"white\",\"zerolinewidth\":2},\"yaxis\":{\"automargin\":true,\"gridcolor\":\"white\",\"linecolor\":\"white\",\"ticks\":\"\",\"title\":{\"standoff\":15},\"zerolinecolor\":\"white\",\"zerolinewidth\":2}}},\"margin\":{\"l\":50,\"r\":50,\"b\":100,\"t\":100,\"pad\":4},\"title\":{\"text\":\"Training Loss value and  Validation loss value\"},\"xaxis\":{\"title\":{\"text\":\"epoch\"}},\"yaxis\":{\"title\":{\"text\":\"Loss\"}},\"autosize\":false,\"width\":600,\"height\":600,\"paper_bgcolor\":\"LightSteelBlue\",\"showlegend\":false},                        {\"responsive\": true}                    ).then(function(){\n",
              "                            \n",
              "var gd = document.getElementById('9233d4d5-1814-43a4-98e0-6f39eeb923fe');\n",
              "var x = new MutationObserver(function (mutations, observer) {{\n",
              "        var display = window.getComputedStyle(gd).display;\n",
              "        if (!display || display === 'none') {{\n",
              "            console.log([gd, 'removed!']);\n",
              "            Plotly.purge(gd);\n",
              "            observer.disconnect();\n",
              "        }}\n",
              "}});\n",
              "\n",
              "// Listen for the removal of the full notebook cells\n",
              "var notebookContainer = gd.closest('#notebook-container');\n",
              "if (notebookContainer) {{\n",
              "    x.observe(notebookContainer, {childList: true});\n",
              "}}\n",
              "\n",
              "// Listen for the clearing of the current output cell\n",
              "var outputEl = gd.closest('.output');\n",
              "if (outputEl) {{\n",
              "    x.observe(outputEl, {childList: true});\n",
              "}}\n",
              "\n",
              "                        })                };                            </script>        </div>\n",
              "</body>\n",
              "</html>"
            ]
          },
          "metadata": {}
        }
      ]
    },
    {
      "cell_type": "code",
      "source": [
        "plot_series_plotly(np.arange(0, epoch_value), \n",
        "                   (history_build_with_callbacks.history['mae'], \n",
        "                    history_build_with_callbacks.history['val_mae']),\n",
        "                   figure_title='Training MAE value and  Validation MAE value',\n",
        "                   series_name=['Training MAE Value', 'Validation MAE Value'],\n",
        "                   xaxis_title='epoch', yaxis_title='MAE Value')"
      ],
      "metadata": {
        "colab": {
          "base_uri": "https://localhost:8080/",
          "height": 617
        },
        "id": "3YiVf8RvcMTZ",
        "outputId": "a57a550b-a618-41a6-aa2e-f3b3a2efaac6"
      },
      "execution_count": 137,
      "outputs": [
        {
          "output_type": "display_data",
          "data": {
            "text/html": [
              "<html>\n",
              "<head><meta charset=\"utf-8\" /></head>\n",
              "<body>\n",
              "    <div>            <script src=\"https://cdnjs.cloudflare.com/ajax/libs/mathjax/2.7.5/MathJax.js?config=TeX-AMS-MML_SVG\"></script><script type=\"text/javascript\">if (window.MathJax) {MathJax.Hub.Config({SVG: {font: \"STIX-Web\"}});}</script>                <script type=\"text/javascript\">window.PlotlyConfig = {MathJaxConfig: 'local'};</script>\n",
              "        <script src=\"https://cdn.plot.ly/plotly-2.8.3.min.js\"></script>                <div id=\"45b4d272-11b8-4cd4-9acc-d4e80fe9d03c\" class=\"plotly-graph-div\" style=\"height:600px; width:600px;\"></div>            <script type=\"text/javascript\">                                    window.PLOTLYENV=window.PLOTLYENV || {};                                    if (document.getElementById(\"45b4d272-11b8-4cd4-9acc-d4e80fe9d03c\")) {                    Plotly.newPlot(                        \"45b4d272-11b8-4cd4-9acc-d4e80fe9d03c\",                        [{\"mode\":\"lines\",\"name\":\"Training MAE Value\",\"x\":[0,1,2,3,4,5,6,7,8,9,10,11,12,13,14,15,16,17,18,19,20,21,22,23,24,25,26,27,28,29,30,31,32,33,34,35,36,37,38,39,40,41,42,43,44,45,46,47,48,49,50,51,52,53,54,55,56,57,58,59,60,61,62,63,64,65,66,67,68,69,70,71,72,73,74,75,76,77,78,79,80,81,82,83,84,85,86,87,88,89,90,91,92,93,94,95,96,97,98,99],\"y\":[0.3783733546733856,0.2889593243598938,0.17812566459178925,0.10650211572647095,0.10125312954187393,0.10136304050683975,0.100309357047081,0.10053285211324692,0.10032105445861816,0.09966382384300232,0.1002930998802185,0.09903409332036972,0.100001759827137,0.09902352839708328,0.09914792329072952,0.09895424544811249,0.09841311722993851,0.09835245460271835,0.09822067618370056,0.09805085510015488,0.09798582643270493,0.09732107818126678,0.09732572734355927,0.09704149514436722,0.0970219150185585,0.09746406227350235,0.09691601991653442,0.09657411277294159,0.09619472175836563,0.09606274217367172,0.09633765369653702,0.09563116729259491,0.09568221867084503,0.09543351829051971,0.09498373419046402,0.09623194485902786,0.09484461694955826,0.09492626786231995,0.09459297358989716,0.09479717910289764,0.09413290023803711,0.09450162202119827,0.09484811872243881,0.09343672543764114,0.09394586086273193,0.09391656517982483,0.09374640882015228,0.09327084571123123,0.09344812482595444,0.09284667670726776,0.09291329234838486,0.09303700178861618,0.0921899750828743,0.09297595918178558,0.0923878401517868,0.09192749857902527,0.09454228729009628,0.09206324815750122,0.09168301522731781,0.0914141833782196,0.0918845534324646,0.09142006933689117,0.09104327112436295,0.0914878249168396,0.09057096391916275,0.09070518612861633,0.09127849340438843,0.09008406102657318,0.09088575094938278,0.09031715244054794,0.09032899886369705,0.09014514833688736,0.08983060717582703,0.08989857882261276,0.08968015015125275,0.08984541147947311,0.08911453932523727,0.0902344360947609,0.08906858414411545,0.08956033736467361,0.08890378475189209,0.08894294500350952,0.08898855000734329,0.08886074274778366,0.08886022120714188,0.0880635678768158,0.08895859867334366,0.08828497678041458,0.08809281140565872,0.08795925229787827,0.08791469782590866,0.08803144842386246,0.0882343202829361,0.08759809285402298,0.0879448875784874,0.08732651174068451,0.08710069209337234,0.0886034443974495,0.08672773092985153,0.08750704675912857,0.0871078222990036,0.08651185780763626,0.08756822347640991,0.08624980598688126,0.08657212555408478,0.08632548153400421,0.08684894442558289,0.08643601089715958,0.08578314632177353,0.08560977131128311,0.0860714316368103,0.08584952354431152,0.08594540506601334,0.085516557097435,0.08585556596517563,0.08541782945394516,0.08559760451316833,0.0855940654873848,0.08516369014978409,0.08573055267333984,0.08488767594099045,0.08472361415624619,0.0851285308599472,0.08521795272827148,0.08503022789955139,0.08455178886651993,0.08521991223096848,0.08413760364055634,0.08512032777070999,0.08409616351127625,0.08445257693529129,0.08401241898536682,0.08352482318878174,0.08398342877626419,0.08435804396867752,0.08334111422300339,0.08359171450138092,0.08369505405426025,0.08356063067913055,0.08316643536090851,0.08365272730588913,0.08305618911981583,0.08328738808631897,0.08275547623634338,0.0832037627696991,0.08272135257720947,0.0835072249174118,0.0822860598564148,0.08348436653614044,0.08240729570388794,0.0827324315905571,0.08216634392738342,0.08227226883172989,0.08218564093112946,0.08267899602651596,0.08168583363294601,0.08219116181135178,0.08241593837738037,0.08137504756450653,0.08143259584903717,0.08238307386636734,0.08126403391361237,0.08237549662590027,0.08135795593261719,0.08094804733991623,0.08093596249818802,0.08187679201364517,0.08174975961446762,0.08085697889328003,0.08124063163995743,0.08125146478414536,0.0803058072924614,0.08078859746456146,0.08056715130805969,0.08097688853740692,0.08014658838510513,0.08022017776966095,0.08048257231712341,0.08054466545581818,0.07985510677099228,0.08108944445848465,0.07990283519029617,0.08067553490400314,0.07997757196426392,0.07969795167446136,0.08029316365718842,0.07983233779668808,0.07940185070037842,0.08025821298360825,0.07939337193965912,0.07972977310419083,0.07933031022548676,0.07921998202800751,0.07926648110151291,0.07870334386825562,0.07957710325717926,0.0788852721452713,0.07895383983850479,0.07919926196336746,0.07855723798274994,0.07887416332960129,0.07853151857852936,0.0786459669470787,0.07915976643562317,0.078428253531456,0.07846537232398987,0.07876496016979218,0.07819578796625137,0.07820291817188263,0.07845285534858704,0.07842449098825455,0.0778575912117958,0.07893866300582886,0.07768506556749344,0.07890453189611435,0.07731957733631134,0.07777898758649826,0.0776914581656456,0.07770119607448578,0.07699298858642578,0.07792205363512039,0.07744922488927841,0.07738769799470901,0.07689940929412842,0.07755567878484726,0.07722345739603043,0.07674966007471085,0.07733016461133957,0.07690070569515228,0.07723043113946915,0.07638348639011383,0.07741890102624893,0.07644112408161163,0.07714948803186417,0.07686182111501694,0.07672467827796936,0.0762522965669632,0.07699833810329437,0.07620422542095184,0.07609371095895767,0.07660189270973206,0.07619892805814743,0.07641676068305969,0.07598547637462616,0.07576966285705566,0.076178640127182,0.07624030858278275,0.07634385675191879,0.0757504478096962,0.07538937777280807,0.07608789950609207,0.07547052204608917,0.07556101679801941,0.07619763910770416,0.07513788342475891,0.07590441405773163,0.07505284994840622,0.0759267508983612,0.07589351385831833,0.0748298168182373,0.07496476173400879,0.07574440538883209,0.07537461817264557,0.07524815201759338,0.07504941523075104,0.07563230395317078,0.07492019981145859,0.07565385103225708,0.07455182820558548,0.07495380938053131,0.07478884607553482,0.0751497820019722,0.07469384372234344,0.07470343261957169,0.07467283308506012,0.07457134127616882,0.07481713593006134,0.07453293353319168,0.07435061782598495,0.07460401207208633,0.07542671263217926,0.07445667684078217,0.07444693148136139,0.0746673122048378,0.07407999783754349,0.07459432631731033,0.07426899671554565,0.07423251122236252,0.07416648417711258,0.07396990060806274,0.07435134053230286,0.07401634752750397,0.07401292026042938,0.07457210123538971,0.0735362321138382,0.07434307783842087,0.07365366816520691,0.07436134666204453,0.0732329934835434,0.07448574155569077,0.07347044348716736,0.07370240986347198,0.07352463155984879,0.07362756133079529,0.07425976544618607,0.07318811118602753,0.07375692576169968,0.07345699518918991,0.07326939702033997,0.07424172759056091,0.07339172065258026,0.07308001071214676,0.0731736272573471,0.07323092222213745,0.07328702509403229,0.07350286841392517,0.07308360189199448,0.07347442209720612,0.07288974523544312,0.07294359058141708,0.07327015697956085,0.07275310903787613,0.07318628579378128,0.07260599732398987,0.07306092977523804,0.07286234945058823,0.07306931167840958,0.07304958254098892,0.0727257952094078,0.07258584350347519,0.07267507910728455,0.0726572573184967,0.07232534140348434,0.07321424782276154,0.07229820638895035,0.0724007710814476,0.07261478900909424,0.0724719986319542,0.07228617370128632,0.07242462784051895,0.07232706248760223,0.07215941697359085,0.0723506361246109,0.07260943949222565,0.0720052570104599,0.07208632677793503,0.07200463116168976,0.0720466673374176,0.07234000414609909,0.07209330797195435,0.07205625623464584,0.0720779076218605,0.07248178124427795,0.07253164798021317,0.07151960581541061,0.07227761298418045,0.07161442935466766,0.07196182757616043,0.07173370569944382,0.07165725529193878,0.0721290111541748,0.0717337429523468,0.07170305401086807,0.07163387537002563,0.07172428071498871,0.07175837457180023,0.07142063230276108,0.07150504738092422,0.07145491987466812,0.07173943519592285,0.07127968966960907,0.07129357755184174,0.07164182513952255,0.07153202593326569,0.07131034135818481,0.07138408720493317,0.071321502327919,0.07112656533718109,0.07173791527748108,0.07101426273584366,0.07167583703994751,0.07108043134212494,0.07103092968463898,0.07133649289608002,0.07088183611631393,0.07145355641841888,0.07108864933252335,0.07184160500764847,0.07093995809555054,0.07105203717947006,0.07090143114328384,0.07124998420476913,0.07085394114255905,0.07074548304080963,0.07116764783859253,0.07059997320175171,0.07064759731292725,0.07059785723686218,0.07096751034259796,0.0705728754401207,0.07047279924154282,0.0708167776465416,0.07046179473400116,0.0709078386425972,0.07041444629430771,0.07082565873861313,0.0704493597149849,0.07038135081529617,0.07043364644050598,0.07076999545097351,0.07025261223316193,0.07033734023571014,0.07022597640752792,0.07020063698291779,0.07038820534944534,0.07024844735860825,0.07025709003210068,0.07009537518024445,0.07014300674200058,0.07000303268432617,0.07018738985061646,0.0701717734336853,0.0699930414557457,0.0703660398721695,0.07025940716266632,0.0701635405421257,0.0698164775967598,0.06984138488769531,0.06998199969530106,0.07073264569044113,0.06992613524198532,0.06997644156217575,0.06974505633115768,0.06987719982862473,0.06981656700372696,0.06976025551557541,0.06996089220046997,0.06964854151010513,0.07029470801353455,0.07004383206367493,0.0697309747338295,0.06994473189115524,0.06970294564962387,0.06968110054731369,0.06961524486541748,0.06938186287879944,0.06950303167104721,0.06937183439731598,0.06959228217601776,0.06973181664943695,0.06956857442855835,0.0699046403169632,0.0692279115319252,0.06919961422681808,0.06976266950368881,0.06939809769392014,0.069298654794693,0.06918655335903168,0.06953290849924088,0.06907659769058228,0.0691770687699318,0.06922507286071777,0.06925925612449646,0.06915631145238876,0.06902121752500534,0.06923826783895493,0.06886981427669525,0.06931114196777344,0.06887020915746689,0.06910628080368042,0.0690808966755867,0.06918119639158249,0.06874935328960419,0.06986240297555923,0.06881698220968246,0.06906702369451523,0.06896459311246872,0.06892521679401398,0.06887352466583252,0.06866005808115005,0.06893302500247955,0.06902698427438736,0.06872189790010452,0.06908011436462402,0.06870797276496887,0.06872840225696564,0.06876397877931595,0.06847024708986282,0.06869205087423325,0.06864925473928452,0.06882253289222717,0.06835915148258209,0.06845810264348984,0.06870604306459427,0.06851626932621002,0.06848549097776413,0.06850757449865341,0.0686359852552414,0.0686962902545929,0.0685846209526062],\"type\":\"scatter\"},{\"mode\":\"lines\",\"name\":\"Validation MAE Value\",\"x\":[0,1,2,3,4,5,6,7,8,9,10,11,12,13,14,15,16,17,18,19,20,21,22,23,24,25,26,27,28,29,30,31,32,33,34,35,36,37,38,39,40,41,42,43,44,45,46,47,48,49,50,51,52,53,54,55,56,57,58,59,60,61,62,63,64,65,66,67,68,69,70,71,72,73,74,75,76,77,78,79,80,81,82,83,84,85,86,87,88,89,90,91,92,93,94,95,96,97,98,99],\"y\":[0.3535343110561371,0.20494034886360168,0.11091968417167664,0.13644924759864807,0.136259064078331,0.1259993612766266,0.12020915001630783,0.12252314388751984,0.12016486376523972,0.12375292181968689,0.11411722749471664,0.11947378516197205,0.11715951561927795,0.11545988917350769,0.11458390206098557,0.11225776374340057,0.111277274787426,0.11584437638521194,0.11359936743974686,0.11080202460289001,0.10891348123550415,0.11206970363855362,0.10998915880918503,0.10940227657556534,0.10822072625160217,0.10455179959535599,0.10845698416233063,0.10613981634378433,0.10989243537187576,0.10700730979442596,0.10394912213087082,0.10712146759033203,0.10371799021959305,0.10425147414207458,0.10792646557092667,0.10373479872941971,0.10407732427120209,0.10392511636018753,0.10298008471727371,0.10155463218688965,0.10307584702968597,0.10197242349386215,0.09894448518753052,0.10165384411811829,0.09847091883420944,0.1016882136464119,0.09840382635593414,0.10380469262599945,0.0986548438668251,0.09989919513463974,0.10050054639577866,0.10206343978643417,0.09936922043561935,0.09971648454666138,0.09759949147701263,0.09719957411289215,0.09683919697999954,0.09900218993425369,0.0974273532629013,0.09924657642841339,0.09955421835184097,0.0932149663567543,0.09837131202220917,0.0973137691617012,0.09622659534215927,0.09856399148702621,0.09400050342082977,0.0966862291097641,0.09496546536684036,0.09522495418787003,0.09762968122959137,0.09299612790346146,0.09631789475679398,0.09364805370569229,0.09479320049285889,0.095677450299263,0.0940832793712616,0.09762050956487656,0.09006348252296448,0.09495753049850464,0.09060158580541611,0.09696944057941437,0.08992210030555725,0.09211309254169464,0.0940326452255249,0.09181489050388336,0.09099095314741135,0.0938025414943695,0.09238744527101517,0.09110920876264572,0.09376414865255356,0.09040546417236328,0.09032919257879257,0.09240758419036865,0.0935993418097496,0.09100422263145447,0.0887933298945427,0.09464974701404572,0.09112970530986786,0.09024789184331894,0.09110850095748901,0.0904117077589035,0.09151539951562881,0.08852288872003555,0.09162931889295578,0.08951988816261292,0.08891814947128296,0.09176594018936157,0.08927763998508453,0.09016773849725723,0.08755860477685928,0.0907154381275177,0.09145491570234299,0.0874495580792427,0.08865927904844284,0.08889822661876678,0.08812396228313446,0.0916392058134079,0.08698450028896332,0.0884467214345932,0.08735279738903046,0.08998803049325943,0.0883447676897049,0.08598829805850983,0.08958559483289719,0.09020481258630753,0.08521777391433716,0.0884416252374649,0.08753390610218048,0.08699701726436615,0.08864283561706543,0.0873829796910286,0.08652709424495697,0.08760607987642288,0.08778302371501923,0.08418293297290802,0.086567722260952,0.08697841316461563,0.08453963696956635,0.08611943572759628,0.08503258973360062,0.08677404373884201,0.08458905667066574,0.08656828850507736,0.08510398864746094,0.08503784239292145,0.08736275136470795,0.08481466770172119,0.08452612906694412,0.085475854575634,0.08598826825618744,0.0848454087972641,0.0838489979505539,0.08535373210906982,0.08216328173875809,0.08534553647041321,0.08333446830511093,0.0827595442533493,0.08402177691459656,0.08296217024326324,0.0847170501947403,0.08192465454339981,0.0832347571849823,0.08207770437002182,0.08307723701000214,0.08203427493572235,0.0832631066441536,0.08240973949432373,0.085300512611866,0.08076132088899612,0.0830760970711708,0.0839712843298912,0.08275284618139267,0.08217187970876694,0.08077995479106903,0.08230128139257431,0.08381334692239761,0.0803539901971817,0.08228261023759842,0.08085091412067413,0.08086419850587845,0.08093883842229843,0.08227157592773438,0.08169490098953247,0.08241694420576096,0.07795745879411697,0.08226138353347778,0.08047538995742798,0.0814683735370636,0.0796903520822525,0.08069505542516708,0.0806037187576294,0.08059229701757431,0.0815284475684166,0.08124405145645142,0.07750411331653595,0.08019370585680008,0.07837361842393875,0.07939804345369339,0.08325495570898056,0.07926156371831894,0.08036904036998749,0.07867023348808289,0.07926999777555466,0.07870538532733917,0.07990797609090805,0.07862149924039841,0.07947881519794464,0.07859447598457336,0.07857676595449448,0.08019649237394333,0.07726828753948212,0.0777398943901062,0.08081948012113571,0.07834659516811371,0.07845797389745712,0.07870093733072281,0.07780079543590546,0.07779781520366669,0.07828498631715775,0.07754740864038467,0.07566964626312256,0.07827460765838623,0.07807385921478271,0.07647066563367844,0.0748690515756607,0.07852259278297424,0.07788482308387756,0.07696234434843063,0.07828878611326218,0.07661823183298111,0.07503137737512589,0.07574381679296494,0.07934633642435074,0.07477939128875732,0.07898398488759995,0.07582326233386993,0.07596074044704437,0.07520461082458496,0.07668548822402954,0.07709231227636337,0.0753057450056076,0.07512252777814865,0.07683929055929184,0.07476353645324707,0.07686670869588852,0.0747162401676178,0.07707402855157852,0.0737563967704773,0.0768003761768341,0.0758315846323967,0.07496117055416107,0.07563766092061996,0.07649378478527069,0.07382237166166306,0.07654512673616409,0.07497356832027435,0.07448923587799072,0.07395865768194199,0.07474181056022644,0.07540823519229889,0.07507682591676712,0.07574974745512009,0.07361333817243576,0.07471569627523422,0.07370933145284653,0.07210502028465271,0.07484472543001175,0.07407398521900177,0.07421982288360596,0.07291469722986221,0.07645326107740402,0.07495665550231934,0.07400588691234589,0.07348839193582535,0.0712183266878128,0.07433481514453888,0.07069310545921326,0.07393130660057068,0.07220364362001419,0.07217404246330261,0.07424037903547287,0.07403077930212021,0.07425101101398468,0.07094111293554306,0.07276636362075806,0.0721907764673233,0.07230875641107559,0.07425624132156372,0.07146918773651123,0.07145354151725769,0.07236560434103012,0.07335697114467621,0.07241247594356537,0.07064482569694519,0.07106547802686691,0.07274138182401657,0.07282542437314987,0.06961209326982498,0.07176024466753006,0.07145591080188751,0.07304888218641281,0.07287231832742691,0.07035599648952484,0.06992647796869278,0.07251957058906555,0.07216496765613556,0.07137210667133331,0.07027194648981094,0.07089327275753021,0.07262268662452698,0.0704626813530922,0.07134775817394257,0.07287396490573883,0.06955107301473618,0.0707218274474144,0.06966106593608856,0.072538360953331,0.071117103099823,0.07181708514690399,0.07027732580900192,0.0700477734208107,0.07057033479213715,0.06983361393213272,0.07066959142684937,0.07106530666351318,0.06768371164798737,0.07045066356658936,0.07122724503278732,0.07153976708650589,0.06883614510297775,0.0697685033082962,0.06968867033720016,0.06946781277656555,0.07007262110710144,0.07037036120891571,0.06787102669477463,0.0686735138297081,0.06944017857313156,0.07067811489105225,0.06827890872955322,0.07078427821397781,0.06968645751476288,0.06940589845180511,0.0687747672200203,0.06818344444036484,0.06845849007368088,0.06778468191623688,0.06882800906896591,0.06923697143793106,0.06893207877874374,0.06865337491035461,0.06917738914489746,0.06763634085655212,0.06890799850225449,0.06794226914644241,0.06736602634191513,0.06903300434350967,0.0680222362279892,0.06899617612361908,0.06803268194198608,0.06782477349042892,0.067757748067379,0.06849464774131775,0.06878063082695007,0.0682205855846405,0.06683245301246643,0.06982599198818207,0.06621760129928589,0.06805634498596191,0.06690085679292679,0.0681997686624527,0.06829555332660675,0.06861892342567444,0.06868603825569153,0.06719336658716202,0.06887401640415192,0.06696425378322601,0.06712926179170609,0.06704585999250412,0.0668848305940628,0.06815566122531891,0.06818803399801254,0.06679067015647888,0.0671013742685318,0.06638500839471817,0.06887196004390717,0.0663142129778862,0.06535840034484863,0.06673027575016022,0.06761682778596878,0.06556157022714615,0.06759031116962433,0.068060003221035,0.0655537024140358,0.06705125421285629,0.06790011376142502,0.0665372833609581,0.06646503508090973,0.06648443639278412,0.06628763675689697,0.06538840383291245,0.06653067469596863,0.06621620059013367,0.06647834926843643,0.06629826873540878,0.06728698313236237,0.06603655964136124,0.06598179787397385,0.06598003953695297,0.06711617857217789,0.06699659675359726,0.0659431740641594,0.06576237827539444,0.06529984623193741,0.06578434258699417,0.06569122523069382,0.06694136559963226,0.06565310806035995,0.06640703231096268,0.065256267786026,0.06637533009052277,0.06557445228099823,0.06728877872228622,0.06636609137058258,0.06608060747385025,0.0648958683013916,0.06731883436441422,0.06655716150999069,0.06417714804410934,0.06596840173006058,0.06660903245210648,0.0644502267241478,0.06489003449678421,0.06559037417173386,0.0667179524898529,0.06605105847120285,0.06444653868675232,0.06528469920158386,0.06631673127412796,0.06398959457874298,0.065918929874897,0.06550021469593048,0.06447511911392212,0.06455301493406296,0.06533709168434143,0.06560035794973373,0.06479251384735107,0.06572161614894867,0.06513825058937073,0.06492532789707184,0.0645112469792366,0.06507177650928497,0.06560475379228592,0.06475451588630676,0.06539781391620636,0.06466787308454514,0.06521140784025192,0.06483618170022964,0.06506168842315674,0.0651923194527626,0.06420619785785675,0.06396381556987762,0.06481266766786575,0.06413815170526505,0.06354188174009323,0.06532453745603561,0.0643264427781105,0.06625635176897049,0.06396932154893875,0.06454835832118988,0.0642259418964386,0.06410668790340424,0.06365605443716049,0.06483341753482819,0.06552448868751526,0.06349174678325653,0.06452489644289017,0.0646544024348259,0.06449471414089203,0.06356218457221985,0.06504994630813599,0.06375967711210251,0.06437201052904129,0.06404078751802444,0.06337425112724304,0.06418169289827347,0.06459261476993561,0.06343413889408112,0.06427986919879913,0.06336124986410141,0.0644262433052063,0.06403597444295883,0.06336362659931183,0.06478926539421082,0.06391476094722748,0.0632471889257431,0.06533580273389816,0.06251111626625061,0.06337648630142212],\"type\":\"scatter\"}],                        {\"template\":{\"data\":{\"bar\":[{\"error_x\":{\"color\":\"#2a3f5f\"},\"error_y\":{\"color\":\"#2a3f5f\"},\"marker\":{\"line\":{\"color\":\"#E5ECF6\",\"width\":0.5},\"pattern\":{\"fillmode\":\"overlay\",\"size\":10,\"solidity\":0.2}},\"type\":\"bar\"}],\"barpolar\":[{\"marker\":{\"line\":{\"color\":\"#E5ECF6\",\"width\":0.5},\"pattern\":{\"fillmode\":\"overlay\",\"size\":10,\"solidity\":0.2}},\"type\":\"barpolar\"}],\"carpet\":[{\"aaxis\":{\"endlinecolor\":\"#2a3f5f\",\"gridcolor\":\"white\",\"linecolor\":\"white\",\"minorgridcolor\":\"white\",\"startlinecolor\":\"#2a3f5f\"},\"baxis\":{\"endlinecolor\":\"#2a3f5f\",\"gridcolor\":\"white\",\"linecolor\":\"white\",\"minorgridcolor\":\"white\",\"startlinecolor\":\"#2a3f5f\"},\"type\":\"carpet\"}],\"choropleth\":[{\"colorbar\":{\"outlinewidth\":0,\"ticks\":\"\"},\"type\":\"choropleth\"}],\"contour\":[{\"colorbar\":{\"outlinewidth\":0,\"ticks\":\"\"},\"colorscale\":[[0.0,\"#0d0887\"],[0.1111111111111111,\"#46039f\"],[0.2222222222222222,\"#7201a8\"],[0.3333333333333333,\"#9c179e\"],[0.4444444444444444,\"#bd3786\"],[0.5555555555555556,\"#d8576b\"],[0.6666666666666666,\"#ed7953\"],[0.7777777777777778,\"#fb9f3a\"],[0.8888888888888888,\"#fdca26\"],[1.0,\"#f0f921\"]],\"type\":\"contour\"}],\"contourcarpet\":[{\"colorbar\":{\"outlinewidth\":0,\"ticks\":\"\"},\"type\":\"contourcarpet\"}],\"heatmap\":[{\"colorbar\":{\"outlinewidth\":0,\"ticks\":\"\"},\"colorscale\":[[0.0,\"#0d0887\"],[0.1111111111111111,\"#46039f\"],[0.2222222222222222,\"#7201a8\"],[0.3333333333333333,\"#9c179e\"],[0.4444444444444444,\"#bd3786\"],[0.5555555555555556,\"#d8576b\"],[0.6666666666666666,\"#ed7953\"],[0.7777777777777778,\"#fb9f3a\"],[0.8888888888888888,\"#fdca26\"],[1.0,\"#f0f921\"]],\"type\":\"heatmap\"}],\"heatmapgl\":[{\"colorbar\":{\"outlinewidth\":0,\"ticks\":\"\"},\"colorscale\":[[0.0,\"#0d0887\"],[0.1111111111111111,\"#46039f\"],[0.2222222222222222,\"#7201a8\"],[0.3333333333333333,\"#9c179e\"],[0.4444444444444444,\"#bd3786\"],[0.5555555555555556,\"#d8576b\"],[0.6666666666666666,\"#ed7953\"],[0.7777777777777778,\"#fb9f3a\"],[0.8888888888888888,\"#fdca26\"],[1.0,\"#f0f921\"]],\"type\":\"heatmapgl\"}],\"histogram\":[{\"marker\":{\"pattern\":{\"fillmode\":\"overlay\",\"size\":10,\"solidity\":0.2}},\"type\":\"histogram\"}],\"histogram2d\":[{\"colorbar\":{\"outlinewidth\":0,\"ticks\":\"\"},\"colorscale\":[[0.0,\"#0d0887\"],[0.1111111111111111,\"#46039f\"],[0.2222222222222222,\"#7201a8\"],[0.3333333333333333,\"#9c179e\"],[0.4444444444444444,\"#bd3786\"],[0.5555555555555556,\"#d8576b\"],[0.6666666666666666,\"#ed7953\"],[0.7777777777777778,\"#fb9f3a\"],[0.8888888888888888,\"#fdca26\"],[1.0,\"#f0f921\"]],\"type\":\"histogram2d\"}],\"histogram2dcontour\":[{\"colorbar\":{\"outlinewidth\":0,\"ticks\":\"\"},\"colorscale\":[[0.0,\"#0d0887\"],[0.1111111111111111,\"#46039f\"],[0.2222222222222222,\"#7201a8\"],[0.3333333333333333,\"#9c179e\"],[0.4444444444444444,\"#bd3786\"],[0.5555555555555556,\"#d8576b\"],[0.6666666666666666,\"#ed7953\"],[0.7777777777777778,\"#fb9f3a\"],[0.8888888888888888,\"#fdca26\"],[1.0,\"#f0f921\"]],\"type\":\"histogram2dcontour\"}],\"mesh3d\":[{\"colorbar\":{\"outlinewidth\":0,\"ticks\":\"\"},\"type\":\"mesh3d\"}],\"parcoords\":[{\"line\":{\"colorbar\":{\"outlinewidth\":0,\"ticks\":\"\"}},\"type\":\"parcoords\"}],\"pie\":[{\"automargin\":true,\"type\":\"pie\"}],\"scatter\":[{\"marker\":{\"colorbar\":{\"outlinewidth\":0,\"ticks\":\"\"}},\"type\":\"scatter\"}],\"scatter3d\":[{\"line\":{\"colorbar\":{\"outlinewidth\":0,\"ticks\":\"\"}},\"marker\":{\"colorbar\":{\"outlinewidth\":0,\"ticks\":\"\"}},\"type\":\"scatter3d\"}],\"scattercarpet\":[{\"marker\":{\"colorbar\":{\"outlinewidth\":0,\"ticks\":\"\"}},\"type\":\"scattercarpet\"}],\"scattergeo\":[{\"marker\":{\"colorbar\":{\"outlinewidth\":0,\"ticks\":\"\"}},\"type\":\"scattergeo\"}],\"scattergl\":[{\"marker\":{\"colorbar\":{\"outlinewidth\":0,\"ticks\":\"\"}},\"type\":\"scattergl\"}],\"scattermapbox\":[{\"marker\":{\"colorbar\":{\"outlinewidth\":0,\"ticks\":\"\"}},\"type\":\"scattermapbox\"}],\"scatterpolar\":[{\"marker\":{\"colorbar\":{\"outlinewidth\":0,\"ticks\":\"\"}},\"type\":\"scatterpolar\"}],\"scatterpolargl\":[{\"marker\":{\"colorbar\":{\"outlinewidth\":0,\"ticks\":\"\"}},\"type\":\"scatterpolargl\"}],\"scatterternary\":[{\"marker\":{\"colorbar\":{\"outlinewidth\":0,\"ticks\":\"\"}},\"type\":\"scatterternary\"}],\"surface\":[{\"colorbar\":{\"outlinewidth\":0,\"ticks\":\"\"},\"colorscale\":[[0.0,\"#0d0887\"],[0.1111111111111111,\"#46039f\"],[0.2222222222222222,\"#7201a8\"],[0.3333333333333333,\"#9c179e\"],[0.4444444444444444,\"#bd3786\"],[0.5555555555555556,\"#d8576b\"],[0.6666666666666666,\"#ed7953\"],[0.7777777777777778,\"#fb9f3a\"],[0.8888888888888888,\"#fdca26\"],[1.0,\"#f0f921\"]],\"type\":\"surface\"}],\"table\":[{\"cells\":{\"fill\":{\"color\":\"#EBF0F8\"},\"line\":{\"color\":\"white\"}},\"header\":{\"fill\":{\"color\":\"#C8D4E3\"},\"line\":{\"color\":\"white\"}},\"type\":\"table\"}]},\"layout\":{\"annotationdefaults\":{\"arrowcolor\":\"#2a3f5f\",\"arrowhead\":0,\"arrowwidth\":1},\"autotypenumbers\":\"strict\",\"coloraxis\":{\"colorbar\":{\"outlinewidth\":0,\"ticks\":\"\"}},\"colorscale\":{\"diverging\":[[0,\"#8e0152\"],[0.1,\"#c51b7d\"],[0.2,\"#de77ae\"],[0.3,\"#f1b6da\"],[0.4,\"#fde0ef\"],[0.5,\"#f7f7f7\"],[0.6,\"#e6f5d0\"],[0.7,\"#b8e186\"],[0.8,\"#7fbc41\"],[0.9,\"#4d9221\"],[1,\"#276419\"]],\"sequential\":[[0.0,\"#0d0887\"],[0.1111111111111111,\"#46039f\"],[0.2222222222222222,\"#7201a8\"],[0.3333333333333333,\"#9c179e\"],[0.4444444444444444,\"#bd3786\"],[0.5555555555555556,\"#d8576b\"],[0.6666666666666666,\"#ed7953\"],[0.7777777777777778,\"#fb9f3a\"],[0.8888888888888888,\"#fdca26\"],[1.0,\"#f0f921\"]],\"sequentialminus\":[[0.0,\"#0d0887\"],[0.1111111111111111,\"#46039f\"],[0.2222222222222222,\"#7201a8\"],[0.3333333333333333,\"#9c179e\"],[0.4444444444444444,\"#bd3786\"],[0.5555555555555556,\"#d8576b\"],[0.6666666666666666,\"#ed7953\"],[0.7777777777777778,\"#fb9f3a\"],[0.8888888888888888,\"#fdca26\"],[1.0,\"#f0f921\"]]},\"colorway\":[\"#636efa\",\"#EF553B\",\"#00cc96\",\"#ab63fa\",\"#FFA15A\",\"#19d3f3\",\"#FF6692\",\"#B6E880\",\"#FF97FF\",\"#FECB52\"],\"font\":{\"color\":\"#2a3f5f\"},\"geo\":{\"bgcolor\":\"white\",\"lakecolor\":\"white\",\"landcolor\":\"#E5ECF6\",\"showlakes\":true,\"showland\":true,\"subunitcolor\":\"white\"},\"hoverlabel\":{\"align\":\"left\"},\"hovermode\":\"closest\",\"mapbox\":{\"style\":\"light\"},\"paper_bgcolor\":\"white\",\"plot_bgcolor\":\"#E5ECF6\",\"polar\":{\"angularaxis\":{\"gridcolor\":\"white\",\"linecolor\":\"white\",\"ticks\":\"\"},\"bgcolor\":\"#E5ECF6\",\"radialaxis\":{\"gridcolor\":\"white\",\"linecolor\":\"white\",\"ticks\":\"\"}},\"scene\":{\"xaxis\":{\"backgroundcolor\":\"#E5ECF6\",\"gridcolor\":\"white\",\"gridwidth\":2,\"linecolor\":\"white\",\"showbackground\":true,\"ticks\":\"\",\"zerolinecolor\":\"white\"},\"yaxis\":{\"backgroundcolor\":\"#E5ECF6\",\"gridcolor\":\"white\",\"gridwidth\":2,\"linecolor\":\"white\",\"showbackground\":true,\"ticks\":\"\",\"zerolinecolor\":\"white\"},\"zaxis\":{\"backgroundcolor\":\"#E5ECF6\",\"gridcolor\":\"white\",\"gridwidth\":2,\"linecolor\":\"white\",\"showbackground\":true,\"ticks\":\"\",\"zerolinecolor\":\"white\"}},\"shapedefaults\":{\"line\":{\"color\":\"#2a3f5f\"}},\"ternary\":{\"aaxis\":{\"gridcolor\":\"white\",\"linecolor\":\"white\",\"ticks\":\"\"},\"baxis\":{\"gridcolor\":\"white\",\"linecolor\":\"white\",\"ticks\":\"\"},\"bgcolor\":\"#E5ECF6\",\"caxis\":{\"gridcolor\":\"white\",\"linecolor\":\"white\",\"ticks\":\"\"}},\"title\":{\"x\":0.05},\"xaxis\":{\"automargin\":true,\"gridcolor\":\"white\",\"linecolor\":\"white\",\"ticks\":\"\",\"title\":{\"standoff\":15},\"zerolinecolor\":\"white\",\"zerolinewidth\":2},\"yaxis\":{\"automargin\":true,\"gridcolor\":\"white\",\"linecolor\":\"white\",\"ticks\":\"\",\"title\":{\"standoff\":15},\"zerolinecolor\":\"white\",\"zerolinewidth\":2}}},\"margin\":{\"l\":50,\"r\":50,\"b\":100,\"t\":100,\"pad\":4},\"title\":{\"text\":\"Training MAE value and  Validation MAE value\"},\"xaxis\":{\"title\":{\"text\":\"epoch\"}},\"yaxis\":{\"title\":{\"text\":\"MAE Value\"}},\"autosize\":false,\"width\":600,\"height\":600,\"paper_bgcolor\":\"LightSteelBlue\",\"showlegend\":false},                        {\"responsive\": true}                    ).then(function(){\n",
              "                            \n",
              "var gd = document.getElementById('45b4d272-11b8-4cd4-9acc-d4e80fe9d03c');\n",
              "var x = new MutationObserver(function (mutations, observer) {{\n",
              "        var display = window.getComputedStyle(gd).display;\n",
              "        if (!display || display === 'none') {{\n",
              "            console.log([gd, 'removed!']);\n",
              "            Plotly.purge(gd);\n",
              "            observer.disconnect();\n",
              "        }}\n",
              "}});\n",
              "\n",
              "// Listen for the removal of the full notebook cells\n",
              "var notebookContainer = gd.closest('#notebook-container');\n",
              "if (notebookContainer) {{\n",
              "    x.observe(notebookContainer, {childList: true});\n",
              "}}\n",
              "\n",
              "// Listen for the clearing of the current output cell\n",
              "var outputEl = gd.closest('.output');\n",
              "if (outputEl) {{\n",
              "    x.observe(outputEl, {childList: true});\n",
              "}}\n",
              "\n",
              "                        })                };                            </script>        </div>\n",
              "</body>\n",
              "</html>"
            ]
          },
          "metadata": {}
        }
      ]
    },
    {
      "cell_type": "code",
      "source": [
        "test_set_g2, results2 = plot_prediction_graph_plotly(\n",
        "    model_tune2, df, training_ds_rows, \n",
        "    window_size, None, None,\n",
        "    scaler=minmax_scaler,\n",
        "    variable_names=['Close'],\n",
        "    series_name=['test set (close)',\n",
        "                 'pred set (close)']\n",
        "    )"
      ],
      "metadata": {
        "colab": {
          "base_uri": "https://localhost:8080/",
          "height": 724
        },
        "id": "7THrE3WAZrdl",
        "outputId": "43691b71-1564-476b-aadd-904d25b7725c"
      },
      "execution_count": 138,
      "outputs": [
        {
          "output_type": "stream",
          "name": "stdout",
          "text": [
            "dateset_to_forecast shape: (167, 1)\n",
            "expanded dateset_to_forecast shape: (1, 20, 1)\n",
            "forecast shape (147, 1, 1)\n",
            "forecast squeezed shape (147,)\n",
            "test_set.size (147, 1)\n",
            "results.ndim 1\n"
          ]
        },
        {
          "output_type": "display_data",
          "data": {
            "text/html": [
              "<html>\n",
              "<head><meta charset=\"utf-8\" /></head>\n",
              "<body>\n",
              "    <div>            <script src=\"https://cdnjs.cloudflare.com/ajax/libs/mathjax/2.7.5/MathJax.js?config=TeX-AMS-MML_SVG\"></script><script type=\"text/javascript\">if (window.MathJax) {MathJax.Hub.Config({SVG: {font: \"STIX-Web\"}});}</script>                <script type=\"text/javascript\">window.PlotlyConfig = {MathJaxConfig: 'local'};</script>\n",
              "        <script src=\"https://cdn.plot.ly/plotly-2.8.3.min.js\"></script>                <div id=\"943cd5a1-91fb-444c-9465-e0685fe4b80b\" class=\"plotly-graph-div\" style=\"height:600px; width:600px;\"></div>            <script type=\"text/javascript\">                                    window.PLOTLYENV=window.PLOTLYENV || {};                                    if (document.getElementById(\"943cd5a1-91fb-444c-9465-e0685fe4b80b\")) {                    Plotly.newPlot(                        \"943cd5a1-91fb-444c-9465-e0685fe4b80b\",                        [{\"mode\":\"lines\",\"name\":\"test set (close)\",\"x\":[\"2022-08-10T00:00:00\",\"2022-08-11T00:00:00\",\"2022-08-12T00:00:00\",\"2022-08-15T00:00:00\",\"2022-08-16T00:00:00\",\"2022-08-18T00:00:00\",\"2022-08-19T00:00:00\",\"2022-08-22T00:00:00\",\"2022-08-23T00:00:00\",\"2022-08-24T00:00:00\",\"2022-08-25T00:00:00\",\"2022-08-26T00:00:00\",\"2022-08-29T00:00:00\",\"2022-08-30T00:00:00\",\"2022-08-31T00:00:00\",\"2022-09-01T00:00:00\",\"2022-09-02T00:00:00\",\"2022-09-05T00:00:00\",\"2022-09-06T00:00:00\",\"2022-09-07T00:00:00\",\"2022-09-08T00:00:00\",\"2022-09-09T00:00:00\",\"2022-09-12T00:00:00\",\"2022-09-13T00:00:00\",\"2022-09-14T00:00:00\",\"2022-09-15T00:00:00\",\"2022-09-16T00:00:00\",\"2022-09-19T00:00:00\",\"2022-09-20T00:00:00\",\"2022-09-21T00:00:00\",\"2022-09-22T00:00:00\",\"2022-09-23T00:00:00\",\"2022-09-26T00:00:00\",\"2022-09-27T00:00:00\",\"2022-09-28T00:00:00\",\"2022-09-29T00:00:00\",\"2022-09-30T00:00:00\",\"2022-10-03T00:00:00\",\"2022-10-04T00:00:00\",\"2022-10-05T00:00:00\",\"2022-10-06T00:00:00\",\"2022-10-07T00:00:00\",\"2022-10-10T00:00:00\",\"2022-10-11T00:00:00\",\"2022-10-12T00:00:00\",\"2022-10-13T00:00:00\",\"2022-10-14T00:00:00\",\"2022-10-17T00:00:00\",\"2022-10-18T00:00:00\",\"2022-10-19T00:00:00\",\"2022-10-20T00:00:00\",\"2022-10-21T00:00:00\",\"2022-10-24T00:00:00\",\"2022-10-25T00:00:00\",\"2022-10-26T00:00:00\",\"2022-10-27T00:00:00\",\"2022-10-28T00:00:00\",\"2022-10-31T00:00:00\",\"2022-11-01T00:00:00\",\"2022-11-02T00:00:00\",\"2022-11-03T00:00:00\",\"2022-11-04T00:00:00\",\"2022-11-07T00:00:00\",\"2022-11-08T00:00:00\",\"2022-11-09T00:00:00\",\"2022-11-10T00:00:00\",\"2022-11-11T00:00:00\",\"2022-11-14T00:00:00\",\"2022-11-15T00:00:00\",\"2022-11-16T00:00:00\",\"2022-11-17T00:00:00\",\"2022-11-18T00:00:00\",\"2022-11-21T00:00:00\",\"2022-11-22T00:00:00\",\"2022-11-23T00:00:00\",\"2022-11-24T00:00:00\",\"2022-11-25T00:00:00\",\"2022-11-28T00:00:00\",\"2022-11-29T00:00:00\",\"2022-11-30T00:00:00\",\"2022-12-01T00:00:00\",\"2022-12-02T00:00:00\",\"2022-12-05T00:00:00\",\"2022-12-06T00:00:00\",\"2022-12-07T00:00:00\",\"2022-12-08T00:00:00\",\"2022-12-09T00:00:00\",\"2022-12-12T00:00:00\",\"2022-12-13T00:00:00\",\"2022-12-14T00:00:00\",\"2022-12-15T00:00:00\",\"2022-12-16T00:00:00\",\"2022-12-19T00:00:00\",\"2022-12-20T00:00:00\",\"2022-12-21T00:00:00\",\"2022-12-22T00:00:00\",\"2022-12-23T00:00:00\",\"2022-12-26T00:00:00\",\"2022-12-27T00:00:00\",\"2022-12-28T00:00:00\",\"2022-12-29T00:00:00\",\"2022-12-30T00:00:00\",\"2023-01-02T00:00:00\",\"2023-01-03T00:00:00\",\"2023-01-04T00:00:00\",\"2023-01-05T00:00:00\",\"2023-01-06T00:00:00\",\"2023-01-09T00:00:00\",\"2023-01-10T00:00:00\",\"2023-01-11T00:00:00\",\"2023-01-12T00:00:00\",\"2023-01-13T00:00:00\",\"2023-01-16T00:00:00\",\"2023-01-17T00:00:00\",\"2023-01-18T00:00:00\",\"2023-01-19T00:00:00\",\"2023-01-20T00:00:00\",\"2023-01-24T00:00:00\",\"2023-01-25T00:00:00\",\"2023-01-26T00:00:00\",\"2023-01-27T00:00:00\",\"2023-01-30T00:00:00\",\"2023-01-31T00:00:00\",\"2023-02-01T00:00:00\",\"2023-02-02T00:00:00\",\"2023-02-03T00:00:00\",\"2023-02-06T00:00:00\",\"2023-02-07T00:00:00\",\"2023-02-08T00:00:00\",\"2023-02-09T00:00:00\",\"2023-02-10T00:00:00\",\"2023-02-13T00:00:00\",\"2023-02-14T00:00:00\",\"2023-02-15T00:00:00\",\"2023-02-16T00:00:00\",\"2023-02-17T00:00:00\",\"2023-02-20T00:00:00\",\"2023-02-21T00:00:00\",\"2023-02-22T00:00:00\",\"2023-02-23T00:00:00\",\"2023-02-24T00:00:00\",\"2023-02-27T00:00:00\",\"2023-02-28T00:00:00\",\"2023-03-01T00:00:00\",\"2023-03-02T00:00:00\",\"2023-03-03T00:00:00\",\"2023-03-06T00:00:00\"],\"y\":[4560.0,4570.0,4550.0,4450.0,4410.0,4550.0,4600.0,4650.0,4660.0,4750.0,4570.0,4490.0,4520.0,4480.0,4560.0,4580.0,4600.0,4620.0,4510.0,4490.0,4560.0,4600.0,4540.0,4520.0,4480.0,4500.0,4410.0,4500.0,4480.0,4430.0,4430.0,4380.0,4460.0,4440.0,4470.0,4440.0,4460.0,4460.0,4440.0,4460.0,4430.0,4350.0,4420.0,4310.0,4340.0,4300.0,4290.0,4330.0,4250.0,4200.0,4350.0,4360.0,4410.0,4390.0,4370.0,4370.0,4450.0,4390.0,4420.0,4220.0,4130.0,4210.0,4280.0,4220.0,4190.0,4170.0,4150.0,4050.0,4050.0,4050.0,4040.0,4010.0,4030.0,4000.0,3970.0,4030.0,4030.0,3980.0,3980.0,4040.0,3960.0,4000.0,3840.0,3600.0,3680.0,3740.0,3650.0,3700.0,3750.0,3750.0,3670.0,3680.0,3720.0,3720.0,3790.0,3750.0,3780.0,3750.0,3810.0,3730.0,3780.0,3750.0,3800.0,3860.0,3820.0,3770.0,3710.0,3790.0,3830.0,3870.0,3860.0,3780.0,3850.0,3950.0,3930.0,3890.0,3870.0,3850.0,3840.0,3970.0,3960.0,3960.0,3850.0,3870.0,3890.0,3880.0,3880.0,3800.0,3840.0,3770.0,3800.0,3790.0,3800.0,3790.0,3770.0,3760.0,3820.0,3840.0,3860.0,3970.0,4040.0,3960.0,3880.0,3930.0,3880.0,3900.0,3880.0],\"type\":\"scatter\"},{\"mode\":\"lines\",\"name\":\"pred set (close)\",\"x\":[\"2022-08-10T00:00:00\",\"2022-08-11T00:00:00\",\"2022-08-12T00:00:00\",\"2022-08-15T00:00:00\",\"2022-08-16T00:00:00\",\"2022-08-18T00:00:00\",\"2022-08-19T00:00:00\",\"2022-08-22T00:00:00\",\"2022-08-23T00:00:00\",\"2022-08-24T00:00:00\",\"2022-08-25T00:00:00\",\"2022-08-26T00:00:00\",\"2022-08-29T00:00:00\",\"2022-08-30T00:00:00\",\"2022-08-31T00:00:00\",\"2022-09-01T00:00:00\",\"2022-09-02T00:00:00\",\"2022-09-05T00:00:00\",\"2022-09-06T00:00:00\",\"2022-09-07T00:00:00\",\"2022-09-08T00:00:00\",\"2022-09-09T00:00:00\",\"2022-09-12T00:00:00\",\"2022-09-13T00:00:00\",\"2022-09-14T00:00:00\",\"2022-09-15T00:00:00\",\"2022-09-16T00:00:00\",\"2022-09-19T00:00:00\",\"2022-09-20T00:00:00\",\"2022-09-21T00:00:00\",\"2022-09-22T00:00:00\",\"2022-09-23T00:00:00\",\"2022-09-26T00:00:00\",\"2022-09-27T00:00:00\",\"2022-09-28T00:00:00\",\"2022-09-29T00:00:00\",\"2022-09-30T00:00:00\",\"2022-10-03T00:00:00\",\"2022-10-04T00:00:00\",\"2022-10-05T00:00:00\",\"2022-10-06T00:00:00\",\"2022-10-07T00:00:00\",\"2022-10-10T00:00:00\",\"2022-10-11T00:00:00\",\"2022-10-12T00:00:00\",\"2022-10-13T00:00:00\",\"2022-10-14T00:00:00\",\"2022-10-17T00:00:00\",\"2022-10-18T00:00:00\",\"2022-10-19T00:00:00\",\"2022-10-20T00:00:00\",\"2022-10-21T00:00:00\",\"2022-10-24T00:00:00\",\"2022-10-25T00:00:00\",\"2022-10-26T00:00:00\",\"2022-10-27T00:00:00\",\"2022-10-28T00:00:00\",\"2022-10-31T00:00:00\",\"2022-11-01T00:00:00\",\"2022-11-02T00:00:00\",\"2022-11-03T00:00:00\",\"2022-11-04T00:00:00\",\"2022-11-07T00:00:00\",\"2022-11-08T00:00:00\",\"2022-11-09T00:00:00\",\"2022-11-10T00:00:00\",\"2022-11-11T00:00:00\",\"2022-11-14T00:00:00\",\"2022-11-15T00:00:00\",\"2022-11-16T00:00:00\",\"2022-11-17T00:00:00\",\"2022-11-18T00:00:00\",\"2022-11-21T00:00:00\",\"2022-11-22T00:00:00\",\"2022-11-23T00:00:00\",\"2022-11-24T00:00:00\",\"2022-11-25T00:00:00\",\"2022-11-28T00:00:00\",\"2022-11-29T00:00:00\",\"2022-11-30T00:00:00\",\"2022-12-01T00:00:00\",\"2022-12-02T00:00:00\",\"2022-12-05T00:00:00\",\"2022-12-06T00:00:00\",\"2022-12-07T00:00:00\",\"2022-12-08T00:00:00\",\"2022-12-09T00:00:00\",\"2022-12-12T00:00:00\",\"2022-12-13T00:00:00\",\"2022-12-14T00:00:00\",\"2022-12-15T00:00:00\",\"2022-12-16T00:00:00\",\"2022-12-19T00:00:00\",\"2022-12-20T00:00:00\",\"2022-12-21T00:00:00\",\"2022-12-22T00:00:00\",\"2022-12-23T00:00:00\",\"2022-12-26T00:00:00\",\"2022-12-27T00:00:00\",\"2022-12-28T00:00:00\",\"2022-12-29T00:00:00\",\"2022-12-30T00:00:00\",\"2023-01-02T00:00:00\",\"2023-01-03T00:00:00\",\"2023-01-04T00:00:00\",\"2023-01-05T00:00:00\",\"2023-01-06T00:00:00\",\"2023-01-09T00:00:00\",\"2023-01-10T00:00:00\",\"2023-01-11T00:00:00\",\"2023-01-12T00:00:00\",\"2023-01-13T00:00:00\",\"2023-01-16T00:00:00\",\"2023-01-17T00:00:00\",\"2023-01-18T00:00:00\",\"2023-01-19T00:00:00\",\"2023-01-20T00:00:00\",\"2023-01-24T00:00:00\",\"2023-01-25T00:00:00\",\"2023-01-26T00:00:00\",\"2023-01-27T00:00:00\",\"2023-01-30T00:00:00\",\"2023-01-31T00:00:00\",\"2023-02-01T00:00:00\",\"2023-02-02T00:00:00\",\"2023-02-03T00:00:00\",\"2023-02-06T00:00:00\",\"2023-02-07T00:00:00\",\"2023-02-08T00:00:00\",\"2023-02-09T00:00:00\",\"2023-02-10T00:00:00\",\"2023-02-13T00:00:00\",\"2023-02-14T00:00:00\",\"2023-02-15T00:00:00\",\"2023-02-16T00:00:00\",\"2023-02-17T00:00:00\",\"2023-02-20T00:00:00\",\"2023-02-21T00:00:00\",\"2023-02-22T00:00:00\",\"2023-02-23T00:00:00\",\"2023-02-24T00:00:00\",\"2023-02-27T00:00:00\",\"2023-02-28T00:00:00\",\"2023-03-01T00:00:00\",\"2023-03-02T00:00:00\",\"2023-03-03T00:00:00\",\"2023-03-06T00:00:00\"],\"y\":[4513.4755859375,4544.2392578125,4562.5673828125,4571.701171875,4567.24853515625,4549.00146484375,4532.8837890625,4527.00048828125,4531.208984375,4542.53125,4561.498046875,4575.255859375,4573.0703125,4562.201171875,4546.9384765625,4534.97607421875,4529.42724609375,4529.9755859375,4535.96484375,4537.90771484375,4531.97216796875,4526.24365234375,4526.3837890625,4526.92578125,4523.7021484375,4515.9736328125,4507.6318359375,4494.56640625,4483.09814453125,4475.564453125,4467.33984375,4456.36328125,4442.27978515625,4432.0478515625,4426.19287109375,4425.263671875,4426.001953125,4428.087890625,4431.44189453125,4433.24951171875,4435.1396484375,4436.193359375,4430.25830078125,4422.67578125,4410.2744140625,4394.54931640625,4377.3212890625,4358.5087890625,4344.037109375,4328.94873046875,4308.6181640625,4296.59228515625,4296.0947265625,4306.23974609375,4321.03662109375,4335.18359375,4346.79345703125,4361.6767578125,4375.40966796875,4386.88525390625,4383.72021484375,4359.4453125,4328.52734375,4305.65771484375,4286.49951171875,4267.486328125,4247.8681640625,4228.17822265625,4203.18115234375,4173.794921875,4145.578125,4121.515625,4099.37109375,4081.462890625,4066.331298828125,4051.295166015625,4041.694580078125,4039.0146484375,4036.15478515625,4032.435791015625,4032.042236328125,4030.05810546875,4028.611083984375,4016.230224609375,3970.2587890625,3906.99267578125,3848.330322265625,3793.950439453125,3749.285400390625,3721.725341796875,3709.197265625,3699.912841796875,3691.782958984375,3689.70947265625,3692.708740234375,3705.208740234375,3721.4130859375,3739.690185546875,3754.482177734375,3771.215576171875,3782.3603515625,3790.29736328125,3794.546142578125,3798.683837890625,3808.658203125,3822.26953125,3829.98583984375,3823.7021484375,3816.08056640625,3815.160888671875,3824.7578125,3839.26953125,3846.950927734375,3853.703369140625,3871.00146484375,3896.07763671875,3917.515625,3930.97119140625,3934.445556640625,3930.689697265625,3934.32763671875,3946.84912109375,3961.55615234375,3966.670654296875,3963.294677734375,3956.318359375,3947.974853515625,3939.078369140625,3923.67626953125,3906.889892578125,3884.672119140625,3862.36767578125,3840.80029296875,3824.815673828125,3813.618408203125,3803.272705078125,3792.56689453125,3788.518798828125,3793.256591796875,3806.47265625,3836.61181640625,3881.5859375,3925.864990234375,3954.391357421875,3973.33642578125,3981.32275390625,3982.396240234375],\"type\":\"scatter\"}],                        {\"template\":{\"data\":{\"bar\":[{\"error_x\":{\"color\":\"#2a3f5f\"},\"error_y\":{\"color\":\"#2a3f5f\"},\"marker\":{\"line\":{\"color\":\"#E5ECF6\",\"width\":0.5},\"pattern\":{\"fillmode\":\"overlay\",\"size\":10,\"solidity\":0.2}},\"type\":\"bar\"}],\"barpolar\":[{\"marker\":{\"line\":{\"color\":\"#E5ECF6\",\"width\":0.5},\"pattern\":{\"fillmode\":\"overlay\",\"size\":10,\"solidity\":0.2}},\"type\":\"barpolar\"}],\"carpet\":[{\"aaxis\":{\"endlinecolor\":\"#2a3f5f\",\"gridcolor\":\"white\",\"linecolor\":\"white\",\"minorgridcolor\":\"white\",\"startlinecolor\":\"#2a3f5f\"},\"baxis\":{\"endlinecolor\":\"#2a3f5f\",\"gridcolor\":\"white\",\"linecolor\":\"white\",\"minorgridcolor\":\"white\",\"startlinecolor\":\"#2a3f5f\"},\"type\":\"carpet\"}],\"choropleth\":[{\"colorbar\":{\"outlinewidth\":0,\"ticks\":\"\"},\"type\":\"choropleth\"}],\"contour\":[{\"colorbar\":{\"outlinewidth\":0,\"ticks\":\"\"},\"colorscale\":[[0.0,\"#0d0887\"],[0.1111111111111111,\"#46039f\"],[0.2222222222222222,\"#7201a8\"],[0.3333333333333333,\"#9c179e\"],[0.4444444444444444,\"#bd3786\"],[0.5555555555555556,\"#d8576b\"],[0.6666666666666666,\"#ed7953\"],[0.7777777777777778,\"#fb9f3a\"],[0.8888888888888888,\"#fdca26\"],[1.0,\"#f0f921\"]],\"type\":\"contour\"}],\"contourcarpet\":[{\"colorbar\":{\"outlinewidth\":0,\"ticks\":\"\"},\"type\":\"contourcarpet\"}],\"heatmap\":[{\"colorbar\":{\"outlinewidth\":0,\"ticks\":\"\"},\"colorscale\":[[0.0,\"#0d0887\"],[0.1111111111111111,\"#46039f\"],[0.2222222222222222,\"#7201a8\"],[0.3333333333333333,\"#9c179e\"],[0.4444444444444444,\"#bd3786\"],[0.5555555555555556,\"#d8576b\"],[0.6666666666666666,\"#ed7953\"],[0.7777777777777778,\"#fb9f3a\"],[0.8888888888888888,\"#fdca26\"],[1.0,\"#f0f921\"]],\"type\":\"heatmap\"}],\"heatmapgl\":[{\"colorbar\":{\"outlinewidth\":0,\"ticks\":\"\"},\"colorscale\":[[0.0,\"#0d0887\"],[0.1111111111111111,\"#46039f\"],[0.2222222222222222,\"#7201a8\"],[0.3333333333333333,\"#9c179e\"],[0.4444444444444444,\"#bd3786\"],[0.5555555555555556,\"#d8576b\"],[0.6666666666666666,\"#ed7953\"],[0.7777777777777778,\"#fb9f3a\"],[0.8888888888888888,\"#fdca26\"],[1.0,\"#f0f921\"]],\"type\":\"heatmapgl\"}],\"histogram\":[{\"marker\":{\"pattern\":{\"fillmode\":\"overlay\",\"size\":10,\"solidity\":0.2}},\"type\":\"histogram\"}],\"histogram2d\":[{\"colorbar\":{\"outlinewidth\":0,\"ticks\":\"\"},\"colorscale\":[[0.0,\"#0d0887\"],[0.1111111111111111,\"#46039f\"],[0.2222222222222222,\"#7201a8\"],[0.3333333333333333,\"#9c179e\"],[0.4444444444444444,\"#bd3786\"],[0.5555555555555556,\"#d8576b\"],[0.6666666666666666,\"#ed7953\"],[0.7777777777777778,\"#fb9f3a\"],[0.8888888888888888,\"#fdca26\"],[1.0,\"#f0f921\"]],\"type\":\"histogram2d\"}],\"histogram2dcontour\":[{\"colorbar\":{\"outlinewidth\":0,\"ticks\":\"\"},\"colorscale\":[[0.0,\"#0d0887\"],[0.1111111111111111,\"#46039f\"],[0.2222222222222222,\"#7201a8\"],[0.3333333333333333,\"#9c179e\"],[0.4444444444444444,\"#bd3786\"],[0.5555555555555556,\"#d8576b\"],[0.6666666666666666,\"#ed7953\"],[0.7777777777777778,\"#fb9f3a\"],[0.8888888888888888,\"#fdca26\"],[1.0,\"#f0f921\"]],\"type\":\"histogram2dcontour\"}],\"mesh3d\":[{\"colorbar\":{\"outlinewidth\":0,\"ticks\":\"\"},\"type\":\"mesh3d\"}],\"parcoords\":[{\"line\":{\"colorbar\":{\"outlinewidth\":0,\"ticks\":\"\"}},\"type\":\"parcoords\"}],\"pie\":[{\"automargin\":true,\"type\":\"pie\"}],\"scatter\":[{\"marker\":{\"colorbar\":{\"outlinewidth\":0,\"ticks\":\"\"}},\"type\":\"scatter\"}],\"scatter3d\":[{\"line\":{\"colorbar\":{\"outlinewidth\":0,\"ticks\":\"\"}},\"marker\":{\"colorbar\":{\"outlinewidth\":0,\"ticks\":\"\"}},\"type\":\"scatter3d\"}],\"scattercarpet\":[{\"marker\":{\"colorbar\":{\"outlinewidth\":0,\"ticks\":\"\"}},\"type\":\"scattercarpet\"}],\"scattergeo\":[{\"marker\":{\"colorbar\":{\"outlinewidth\":0,\"ticks\":\"\"}},\"type\":\"scattergeo\"}],\"scattergl\":[{\"marker\":{\"colorbar\":{\"outlinewidth\":0,\"ticks\":\"\"}},\"type\":\"scattergl\"}],\"scattermapbox\":[{\"marker\":{\"colorbar\":{\"outlinewidth\":0,\"ticks\":\"\"}},\"type\":\"scattermapbox\"}],\"scatterpolar\":[{\"marker\":{\"colorbar\":{\"outlinewidth\":0,\"ticks\":\"\"}},\"type\":\"scatterpolar\"}],\"scatterpolargl\":[{\"marker\":{\"colorbar\":{\"outlinewidth\":0,\"ticks\":\"\"}},\"type\":\"scatterpolargl\"}],\"scatterternary\":[{\"marker\":{\"colorbar\":{\"outlinewidth\":0,\"ticks\":\"\"}},\"type\":\"scatterternary\"}],\"surface\":[{\"colorbar\":{\"outlinewidth\":0,\"ticks\":\"\"},\"colorscale\":[[0.0,\"#0d0887\"],[0.1111111111111111,\"#46039f\"],[0.2222222222222222,\"#7201a8\"],[0.3333333333333333,\"#9c179e\"],[0.4444444444444444,\"#bd3786\"],[0.5555555555555556,\"#d8576b\"],[0.6666666666666666,\"#ed7953\"],[0.7777777777777778,\"#fb9f3a\"],[0.8888888888888888,\"#fdca26\"],[1.0,\"#f0f921\"]],\"type\":\"surface\"}],\"table\":[{\"cells\":{\"fill\":{\"color\":\"#EBF0F8\"},\"line\":{\"color\":\"white\"}},\"header\":{\"fill\":{\"color\":\"#C8D4E3\"},\"line\":{\"color\":\"white\"}},\"type\":\"table\"}]},\"layout\":{\"annotationdefaults\":{\"arrowcolor\":\"#2a3f5f\",\"arrowhead\":0,\"arrowwidth\":1},\"autotypenumbers\":\"strict\",\"coloraxis\":{\"colorbar\":{\"outlinewidth\":0,\"ticks\":\"\"}},\"colorscale\":{\"diverging\":[[0,\"#8e0152\"],[0.1,\"#c51b7d\"],[0.2,\"#de77ae\"],[0.3,\"#f1b6da\"],[0.4,\"#fde0ef\"],[0.5,\"#f7f7f7\"],[0.6,\"#e6f5d0\"],[0.7,\"#b8e186\"],[0.8,\"#7fbc41\"],[0.9,\"#4d9221\"],[1,\"#276419\"]],\"sequential\":[[0.0,\"#0d0887\"],[0.1111111111111111,\"#46039f\"],[0.2222222222222222,\"#7201a8\"],[0.3333333333333333,\"#9c179e\"],[0.4444444444444444,\"#bd3786\"],[0.5555555555555556,\"#d8576b\"],[0.6666666666666666,\"#ed7953\"],[0.7777777777777778,\"#fb9f3a\"],[0.8888888888888888,\"#fdca26\"],[1.0,\"#f0f921\"]],\"sequentialminus\":[[0.0,\"#0d0887\"],[0.1111111111111111,\"#46039f\"],[0.2222222222222222,\"#7201a8\"],[0.3333333333333333,\"#9c179e\"],[0.4444444444444444,\"#bd3786\"],[0.5555555555555556,\"#d8576b\"],[0.6666666666666666,\"#ed7953\"],[0.7777777777777778,\"#fb9f3a\"],[0.8888888888888888,\"#fdca26\"],[1.0,\"#f0f921\"]]},\"colorway\":[\"#636efa\",\"#EF553B\",\"#00cc96\",\"#ab63fa\",\"#FFA15A\",\"#19d3f3\",\"#FF6692\",\"#B6E880\",\"#FF97FF\",\"#FECB52\"],\"font\":{\"color\":\"#2a3f5f\"},\"geo\":{\"bgcolor\":\"white\",\"lakecolor\":\"white\",\"landcolor\":\"#E5ECF6\",\"showlakes\":true,\"showland\":true,\"subunitcolor\":\"white\"},\"hoverlabel\":{\"align\":\"left\"},\"hovermode\":\"closest\",\"mapbox\":{\"style\":\"light\"},\"paper_bgcolor\":\"white\",\"plot_bgcolor\":\"#E5ECF6\",\"polar\":{\"angularaxis\":{\"gridcolor\":\"white\",\"linecolor\":\"white\",\"ticks\":\"\"},\"bgcolor\":\"#E5ECF6\",\"radialaxis\":{\"gridcolor\":\"white\",\"linecolor\":\"white\",\"ticks\":\"\"}},\"scene\":{\"xaxis\":{\"backgroundcolor\":\"#E5ECF6\",\"gridcolor\":\"white\",\"gridwidth\":2,\"linecolor\":\"white\",\"showbackground\":true,\"ticks\":\"\",\"zerolinecolor\":\"white\"},\"yaxis\":{\"backgroundcolor\":\"#E5ECF6\",\"gridcolor\":\"white\",\"gridwidth\":2,\"linecolor\":\"white\",\"showbackground\":true,\"ticks\":\"\",\"zerolinecolor\":\"white\"},\"zaxis\":{\"backgroundcolor\":\"#E5ECF6\",\"gridcolor\":\"white\",\"gridwidth\":2,\"linecolor\":\"white\",\"showbackground\":true,\"ticks\":\"\",\"zerolinecolor\":\"white\"}},\"shapedefaults\":{\"line\":{\"color\":\"#2a3f5f\"}},\"ternary\":{\"aaxis\":{\"gridcolor\":\"white\",\"linecolor\":\"white\",\"ticks\":\"\"},\"baxis\":{\"gridcolor\":\"white\",\"linecolor\":\"white\",\"ticks\":\"\"},\"bgcolor\":\"#E5ECF6\",\"caxis\":{\"gridcolor\":\"white\",\"linecolor\":\"white\",\"ticks\":\"\"}},\"title\":{\"x\":0.05},\"xaxis\":{\"automargin\":true,\"gridcolor\":\"white\",\"linecolor\":\"white\",\"ticks\":\"\",\"title\":{\"standoff\":15},\"zerolinecolor\":\"white\",\"zerolinewidth\":2},\"yaxis\":{\"automargin\":true,\"gridcolor\":\"white\",\"linecolor\":\"white\",\"ticks\":\"\",\"title\":{\"standoff\":15},\"zerolinecolor\":\"white\",\"zerolinewidth\":2}}},\"margin\":{\"l\":50,\"r\":50,\"b\":100,\"t\":100,\"pad\":4},\"title\":{\"text\":\"\"},\"xaxis\":{\"title\":{\"text\":\"Time\"}},\"yaxis\":{\"title\":{\"text\":\"Value\"}},\"autosize\":false,\"width\":600,\"height\":600,\"paper_bgcolor\":\"LightSteelBlue\",\"showlegend\":false},                        {\"responsive\": true}                    ).then(function(){\n",
              "                            \n",
              "var gd = document.getElementById('943cd5a1-91fb-444c-9465-e0685fe4b80b');\n",
              "var x = new MutationObserver(function (mutations, observer) {{\n",
              "        var display = window.getComputedStyle(gd).display;\n",
              "        if (!display || display === 'none') {{\n",
              "            console.log([gd, 'removed!']);\n",
              "            Plotly.purge(gd);\n",
              "            observer.disconnect();\n",
              "        }}\n",
              "}});\n",
              "\n",
              "// Listen for the removal of the full notebook cells\n",
              "var notebookContainer = gd.closest('#notebook-container');\n",
              "if (notebookContainer) {{\n",
              "    x.observe(notebookContainer, {childList: true});\n",
              "}}\n",
              "\n",
              "// Listen for the clearing of the current output cell\n",
              "var outputEl = gd.closest('.output');\n",
              "if (outputEl) {{\n",
              "    x.observe(outputEl, {childList: true});\n",
              "}}\n",
              "\n",
              "                        })                };                            </script>        </div>\n",
              "</body>\n",
              "</html>"
            ]
          },
          "metadata": {}
        }
      ]
    },
    {
      "cell_type": "code",
      "source": [
        "print(history_build_with_callbacks.history['loss'][-1])\n",
        "print(history_build_with_callbacks.history['mae'][-1])\n",
        "print(history_build_with_callbacks.history['val_loss'][-1])\n",
        "print(history_build_with_callbacks.history['val_mae'][-1])\n",
        "print(tf.keras.metrics.mean_squared_error(test_set_g2[:,-1], results2[:,-1]).numpy())\n",
        "print(tf.keras.metrics.mean_absolute_error(test_set_g2[:,-1], results2[:,-1]).numpy())"
      ],
      "metadata": {
        "colab": {
          "base_uri": "https://localhost:8080/"
        },
        "id": "0H0V6DYtZuKs",
        "outputId": "a487be3a-46f5-4eee-b8d8-091c016abf8b"
      },
      "execution_count": 141,
      "outputs": [
        {
          "output_type": "stream",
          "name": "stdout",
          "text": [
            "0.004013397265225649\n",
            "0.0685846209526062\n",
            "0.003530886024236679\n",
            "0.06337648630142212\n",
            "8517.185\n",
            "70.11361\n"
          ]
        }
      ]
    },
    {
      "cell_type": "code",
      "source": [
        "# import time\n",
        "# for x in range(4):\n",
        "#   time.sleep(2*60*60)"
      ],
      "metadata": {
        "id": "rkKMDNgI88c-"
      },
      "execution_count": 142,
      "outputs": []
    },
    {
      "cell_type": "markdown",
      "source": [
        "## Tomorrow Pred"
      ],
      "metadata": {
        "id": "hDPP0PdudEFP"
      }
    },
    {
      "cell_type": "code",
      "source": [
        "test_set = tf.convert_to_tensor(df_test[['Close']])"
      ],
      "metadata": {
        "id": "A3XVoGUkdFwG"
      },
      "execution_count": 143,
      "outputs": []
    },
    {
      "cell_type": "code",
      "source": [
        "with np.printoptions(precision=0, suppress=True):\n",
        "    print(test_set[-1].numpy())"
      ],
      "metadata": {
        "colab": {
          "base_uri": "https://localhost:8080/"
        },
        "id": "FjdgUk7ddGMH",
        "outputId": "18088961-2695-4aa6-8c2a-115aebd24943"
      },
      "execution_count": 144,
      "outputs": [
        {
          "output_type": "stream",
          "name": "stdout",
          "text": [
            "[3880.]\n"
          ]
        }
      ]
    },
    {
      "cell_type": "code",
      "source": [
        "test_set_normalized = minmax_scaler.transform(test_set)\n",
        "test_set_normalized[-1]"
      ],
      "metadata": {
        "colab": {
          "base_uri": "https://localhost:8080/"
        },
        "id": "GI5b9J3hdJ-V",
        "outputId": "30ed96c8-a39b-46f7-bcf7-cfd0ec4926bc"
      },
      "execution_count": 145,
      "outputs": [
        {
          "output_type": "execute_result",
          "data": {
            "text/plain": [
              "array([0.19457014])"
            ]
          },
          "metadata": {},
          "execution_count": 145
        }
      ]
    },
    {
      "cell_type": "code",
      "source": [
        "tomorro_pred = minmax_scaler.inverse_transform(model_tune2.predict(\n",
        "    np.expand_dims(test_set_normalized[-window_size:], axis=0)))\n",
        "\n",
        "with np.printoptions(precision=0, suppress=True):\n",
        "    print(tomorro_pred)"
      ],
      "metadata": {
        "colab": {
          "base_uri": "https://localhost:8080/"
        },
        "id": "rVuful5EdOPN",
        "outputId": "d1d0da48-24db-47fe-8e71-a1efe28afc8f"
      },
      "execution_count": 146,
      "outputs": [
        {
          "output_type": "stream",
          "name": "stdout",
          "text": [
            "1/1 [==============================] - 0s 55ms/step\n",
            "[[3978.]]\n"
          ]
        }
      ]
    }
  ]
}